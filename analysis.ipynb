{
 "cells": [
  {
   "cell_type": "code",
   "execution_count": 1,
   "metadata": {},
   "outputs": [
    {
     "data": {
      "text/html": [
       "<h1>CSAM Reports per Country</h1><h2>Prelude</h2>"
      ],
      "text/plain": [
       "<IPython.core.display.HTML object>"
      ]
     },
     "metadata": {},
     "output_type": "display_data"
    },
    {
     "data": {
      "text/html": [
       "<p>Table <strong>reports</strong> with 992 rows covers 248 countries:</p><ul><li>index iso3: category</li><li>index year: category</li><li>column reports: int64, all values non-null</li><li>column reports_pct: float64, all values non-null</li></ul>"
      ],
      "text/plain": [
       "<IPython.core.display.HTML object>"
      ]
     },
     "metadata": {},
     "output_type": "display_data"
    },
    {
     "data": {
      "text/html": [
       "<p>Table <strong>populations</strong> with 944 rows covers 236 countries:</p><ul><li>index iso3: category</li><li>index year: category</li><li>column population: int64, all values non-null</li><li>column population_pct: float64, all values non-null</li></ul>"
      ],
      "text/plain": [
       "<IPython.core.display.HTML object>"
      ]
     },
     "metadata": {},
     "output_type": "display_data"
    },
    {
     "data": {
      "text/html": [
       "<p>Table <strong>countries</strong> with 251 rows:</p><ul><li>index iso3: category</li><li>column country: object, all values non-null</li><li>column region: object, all values non-null</li></ul>"
      ],
      "text/plain": [
       "<IPython.core.display.HTML object>"
      ]
     },
     "metadata": {},
     "output_type": "display_data"
    },
    {
     "data": {
      "text/html": [
       "<p>Table <strong>regions</strong> with 26 rows:</p><ul><li>index: int64</li><li>column superregion: object, all values non-null</li><li>column region: object, all values non-null</li><li>column continent: object, all values non-null</li></ul>"
      ],
      "text/plain": [
       "<IPython.core.display.HTML object>"
      ]
     },
     "metadata": {},
     "output_type": "display_data"
    },
    {
     "data": {
      "text/html": [
       "<p>Table <strong>geometries</strong> with 175 rows:</p><ul><li>index iso3: category</li><li>column geometry: geometry, all values non-null</li></ul>"
      ],
      "text/plain": [
       "<IPython.core.display.HTML object>"
      ]
     },
     "metadata": {},
     "output_type": "display_data"
    },
    {
     "data": {
      "text/html": [
       "<p>Table <strong>reports per capita per country</strong> with 944 rows:</p><ul><li>index iso3: category</li><li>index year: category</li><li>column reports: int64, all values non-null</li><li>column reports_pct: float64, all values non-null</li><li>column population: int64, all values non-null</li><li>column population_pct: float64, all values non-null</li><li>column reports_per_capita: float64, all values non-null</li><li>column country: object, all values non-null</li><li>column region: object, all values non-null</li><li>column superregion: object, all values non-null</li><li>column continent: object, all values non-null</li></ul>"
      ],
      "text/plain": [
       "<IPython.core.display.HTML object>"
      ]
     },
     "metadata": {},
     "output_type": "display_data"
    },
    {
     "data": {
      "text/html": [
       "<p>12 countries with reports have no population statistics. They also account for very few reports.</p>"
      ],
      "text/plain": [
       "<IPython.core.display.HTML object>"
      ]
     },
     "metadata": {},
     "output_type": "display_data"
    },
    {
     "data": {
      "text/html": [
       "<style type=\"text/css\">\n",
       "#T_92591 caption {\n",
       "  caption-side: bottom;\n",
       "  font-style: italic;\n",
       "  margin-top: 1ex;\n",
       "}\n",
       "</style>\n",
       "<table id=\"T_92591\">\n",
       "  <caption>Reports of countries without population</caption>\n",
       "  <thead>\n",
       "    <tr>\n",
       "      <th class=\"blank level0\" >&nbsp;</th>\n",
       "      <th id=\"T_92591_level0_col0\" class=\"col_heading level0 col0\" >reports</th>\n",
       "      <th id=\"T_92591_level0_col1\" class=\"col_heading level0 col1\" >reports_pct</th>\n",
       "    </tr>\n",
       "    <tr>\n",
       "      <th class=\"index_name level0\" >year</th>\n",
       "      <th class=\"blank col0\" >&nbsp;</th>\n",
       "      <th class=\"blank col1\" >&nbsp;</th>\n",
       "    </tr>\n",
       "  </thead>\n",
       "  <tbody>\n",
       "    <tr>\n",
       "      <th id=\"T_92591_level0_row0\" class=\"row_heading level0 row0\" >2019</th>\n",
       "      <td id=\"T_92591_row0_col0\" class=\"data row0 col0\" >28</td>\n",
       "      <td id=\"T_92591_row0_col1\" class=\"data row0 col1\" >0.000165</td>\n",
       "    </tr>\n",
       "    <tr>\n",
       "      <th id=\"T_92591_level0_row1\" class=\"row_heading level0 row1\" >2020</th>\n",
       "      <td id=\"T_92591_row1_col0\" class=\"data row1 col0\" >97</td>\n",
       "      <td id=\"T_92591_row1_col1\" class=\"data row1 col1\" >0.000446</td>\n",
       "    </tr>\n",
       "    <tr>\n",
       "      <th id=\"T_92591_level0_row2\" class=\"row_heading level0 row2\" >2021</th>\n",
       "      <td id=\"T_92591_row2_col0\" class=\"data row2 col0\" >243</td>\n",
       "      <td id=\"T_92591_row2_col1\" class=\"data row2 col1\" >0.000827</td>\n",
       "    </tr>\n",
       "    <tr>\n",
       "      <th id=\"T_92591_level0_row3\" class=\"row_heading level0 row3\" >2022</th>\n",
       "      <td id=\"T_92591_row3_col0\" class=\"data row3 col0\" >117</td>\n",
       "      <td id=\"T_92591_row3_col1\" class=\"data row3 col1\" >0.000365</td>\n",
       "    </tr>\n",
       "  </tbody>\n",
       "</table>\n"
      ],
      "text/plain": [
       "<IPython.core.display.HTML object>"
      ]
     },
     "metadata": {},
     "output_type": "display_data"
    }
   ],
   "source": [
    "import plotly.graph_objects as go\n",
    "\n",
    "from intransparent import (\n",
    "    YEAR_LABELS,\n",
    "    ingest_reports_per_country,\n",
    "    without_populations,\n",
    "    reports_per_capita_country_year,\n",
    "\n",
    "    REPORTS_PER_PLATFORM,\n",
    "    ingest_reports_per_platform,\n",
    "    compare_all_platform_reports,\n",
    "\n",
    "    show_html,\n",
    "    show_info,\n",
    "    show_table,\n",
    ")\n",
    "\n",
    "import intransparent.meta as meta\n",
    "\n",
    "show_html(h1='CSAM Reports per Country', h2='Prelude')\n",
    "\n",
    "country_data = ingest_reports_per_country('./data', logger=show_info)\n",
    "\n",
    "countries_without, reports_without = (\n",
    "    without_populations(country_data.reports, country_data.populations))\n",
    "show_html(\n",
    "    f'{countries_without.shape[0]} countries with reports have no population '\n",
    "    'statistics. They also account for very few reports.')\n",
    "show_table(reports_without, title='Reports of countries without population')\n"
   ]
  },
  {
   "cell_type": "code",
   "execution_count": 2,
   "metadata": {},
   "outputs": [
    {
     "data": {
      "text/html": [
       "<h2>Regions with Most CSAM Reports</h2><p>Selection does <em>not</em> take population counts into consideration.</p>"
      ],
      "text/plain": [
       "<IPython.core.display.HTML object>"
      ]
     },
     "metadata": {},
     "output_type": "display_data"
    },
    {
     "data": {
      "text/html": [
       "<style type=\"text/css\">\n",
       "#T_24607 caption {\n",
       "  caption-side: bottom;\n",
       "  font-style: italic;\n",
       "  margin-top: 1ex;\n",
       "}\n",
       "#T_24607_row0_col0, #T_24607_row0_col1, #T_24607_row1_col0, #T_24607_row1_col1, #T_24607_row2_col0, #T_24607_row2_col1, #T_24607_row3_col0, #T_24607_row3_col1, #T_24607_row4_col0, #T_24607_row4_col1, #T_24607_row5_col0, #T_24607_row5_col1, #T_24607_row6_col0, #T_24607_row6_col1, #T_24607_row7_col0, #T_24607_row7_col1, #T_24607_row8_col0, #T_24607_row8_col1, #T_24607_row9_col0, #T_24607_row9_col1, #T_24607_row10_col0, #T_24607_row10_col1, #T_24607_row11_col0, #T_24607_row11_col1, #T_24607_row12_col0, #T_24607_row12_col1, #T_24607_row13_col0, #T_24607_row13_col1, #T_24607_row14_col0, #T_24607_row14_col1, #T_24607_row15_col0, #T_24607_row15_col1, #T_24607_row16_col0, #T_24607_row16_col1, #T_24607_row17_col0, #T_24607_row17_col1, #T_24607_row18_col0, #T_24607_row18_col1, #T_24607_row19_col0, #T_24607_row19_col1 {\n",
       "  background-color: #ffffb3;\n",
       "}\n",
       "</style>\n",
       "<table id=\"T_24607\">\n",
       "  <caption>Regions with most CSAM Reports 2019</caption>\n",
       "  <thead>\n",
       "    <tr>\n",
       "      <th class=\"blank\" >&nbsp;</th>\n",
       "      <th class=\"blank level0\" >&nbsp;</th>\n",
       "      <th id=\"T_24607_level0_col0\" class=\"col_heading level0 col0\" >reports</th>\n",
       "      <th id=\"T_24607_level0_col1\" class=\"col_heading level0 col1\" >reports_pct</th>\n",
       "      <th id=\"T_24607_level0_col2\" class=\"col_heading level0 col2\" >population</th>\n",
       "      <th id=\"T_24607_level0_col3\" class=\"col_heading level0 col3\" >population_pct</th>\n",
       "      <th id=\"T_24607_level0_col4\" class=\"col_heading level0 col4\" >reports_per_capita</th>\n",
       "    </tr>\n",
       "    <tr>\n",
       "      <th class=\"index_name level0\" >year</th>\n",
       "      <th class=\"index_name level1\" >region</th>\n",
       "      <th class=\"blank col0\" >&nbsp;</th>\n",
       "      <th class=\"blank col1\" >&nbsp;</th>\n",
       "      <th class=\"blank col2\" >&nbsp;</th>\n",
       "      <th class=\"blank col3\" >&nbsp;</th>\n",
       "      <th class=\"blank col4\" >&nbsp;</th>\n",
       "    </tr>\n",
       "  </thead>\n",
       "  <tbody>\n",
       "    <tr>\n",
       "      <th id=\"T_24607_level0_row0\" class=\"row_heading level0 row0\" rowspan=\"20\">2019</th>\n",
       "      <th id=\"T_24607_level1_row0\" class=\"row_heading level1 row0\" >Southern Asia</th>\n",
       "      <td id=\"T_24607_row0_col0\" class=\"data row0 col0\" >4,072,192</td>\n",
       "      <td id=\"T_24607_row0_col1\" class=\"data row0 col1\" >23.971893</td>\n",
       "      <td id=\"T_24607_row0_col2\" class=\"data row0 col2\" >1,948,009,381</td>\n",
       "      <td id=\"T_24607_row0_col3\" class=\"data row0 col3\" >25.087209</td>\n",
       "      <td id=\"T_24607_row0_col4\" class=\"data row0 col4\" >0.036218</td>\n",
       "    </tr>\n",
       "    <tr>\n",
       "      <th id=\"T_24607_level1_row1\" class=\"row_heading level1 row1\" >South-Eastern Asia</th>\n",
       "      <td id=\"T_24607_row1_col0\" class=\"data row1 col0\" >2,930,393</td>\n",
       "      <td id=\"T_24607_row1_col1\" class=\"data row1 col1\" >17.250431</td>\n",
       "      <td id=\"T_24607_row1_col2\" class=\"data row1 col2\" >663,897,086</td>\n",
       "      <td id=\"T_24607_row1_col3\" class=\"data row1 col3\" >8.549920</td>\n",
       "      <td id=\"T_24607_row1_col4\" class=\"data row1 col4\" >0.047123</td>\n",
       "    </tr>\n",
       "    <tr>\n",
       "      <th id=\"T_24607_level1_row2\" class=\"row_heading level1 row2\" >Western Asia</th>\n",
       "      <td id=\"T_24607_row2_col0\" class=\"data row2 col0\" >2,592,785</td>\n",
       "      <td id=\"T_24607_row2_col1\" class=\"data row2 col1\" >15.263024</td>\n",
       "      <td id=\"T_24607_row2_col2\" class=\"data row2 col2\" >281,896,911</td>\n",
       "      <td id=\"T_24607_row2_col3\" class=\"data row2 col3\" >3.630376</td>\n",
       "      <td id=\"T_24607_row2_col4\" class=\"data row2 col4\" >0.172060</td>\n",
       "    </tr>\n",
       "    <tr>\n",
       "      <th id=\"T_24607_level1_row3\" class=\"row_heading level1 row3\" >North America</th>\n",
       "      <td id=\"T_24607_row3_col0\" class=\"data row3 col0\" >2,226,879</td>\n",
       "      <td id=\"T_24607_row3_col1\" class=\"data row3 col1\" >13.109034</td>\n",
       "      <td id=\"T_24607_row3_col2\" class=\"data row3 col2\" >371,967,924</td>\n",
       "      <td id=\"T_24607_row3_col3\" class=\"data row3 col3\" >4.790345</td>\n",
       "      <td id=\"T_24607_row3_col4\" class=\"data row3 col4\" >0.010929</td>\n",
       "    </tr>\n",
       "    <tr>\n",
       "      <th id=\"T_24607_level1_row4\" class=\"row_heading level1 row4\" >Northern Africa</th>\n",
       "      <td id=\"T_24607_row4_col0\" class=\"data row4 col0\" >1,532,676</td>\n",
       "      <td id=\"T_24607_row4_col1\" class=\"data row4 col1\" >9.022449</td>\n",
       "      <td id=\"T_24607_row4_col2\" class=\"data row4 col2\" >247,023,819</td>\n",
       "      <td id=\"T_24607_row4_col3\" class=\"data row4 col3\" >3.181267</td>\n",
       "      <td id=\"T_24607_row4_col4\" class=\"data row4 col4\" >0.056731</td>\n",
       "    </tr>\n",
       "    <tr>\n",
       "      <th id=\"T_24607_level1_row5\" class=\"row_heading level1 row5\" >South America</th>\n",
       "      <td id=\"T_24607_row5_col0\" class=\"data row5 col0\" >1,085,900</td>\n",
       "      <td id=\"T_24607_row5_col1\" class=\"data row5 col1\" >6.392400</td>\n",
       "      <td id=\"T_24607_row5_col2\" class=\"data row5 col2\" >428,318,165</td>\n",
       "      <td id=\"T_24607_row5_col3\" class=\"data row5 col3\" >5.516045</td>\n",
       "      <td id=\"T_24607_row5_col4\" class=\"data row5 col4\" >0.036619</td>\n",
       "    </tr>\n",
       "    <tr>\n",
       "      <th id=\"T_24607_level1_row6\" class=\"row_heading level1 row6\" >Central America</th>\n",
       "      <td id=\"T_24607_row6_col0\" class=\"data row6 col0\" >998,465</td>\n",
       "      <td id=\"T_24607_row6_col1\" class=\"data row6 col1\" >5.877693</td>\n",
       "      <td id=\"T_24607_row6_col2\" class=\"data row6 col2\" >174,800,778</td>\n",
       "      <td id=\"T_24607_row6_col3\" class=\"data row6 col3\" >2.251151</td>\n",
       "      <td id=\"T_24607_row6_col4\" class=\"data row6 col4\" >0.030017</td>\n",
       "    </tr>\n",
       "    <tr>\n",
       "      <th id=\"T_24607_level1_row7\" class=\"row_heading level1 row7\" >Eastern Europe</th>\n",
       "      <td id=\"T_24607_row7_col0\" class=\"data row7 col0\" >388,955</td>\n",
       "      <td id=\"T_24607_row7_col1\" class=\"data row7 col1\" >2.289673</td>\n",
       "      <td id=\"T_24607_row7_col2\" class=\"data row7 col2\" >293,569,779</td>\n",
       "      <td id=\"T_24607_row7_col3\" class=\"data row7 col3\" >3.780704</td>\n",
       "      <td id=\"T_24607_row7_col4\" class=\"data row7 col4\" >0.022998</td>\n",
       "    </tr>\n",
       "    <tr>\n",
       "      <th id=\"T_24607_level1_row8\" class=\"row_heading level1 row8\" >Southern Europe</th>\n",
       "      <td id=\"T_24607_row8_col0\" class=\"data row8 col0\" >256,014</td>\n",
       "      <td id=\"T_24607_row8_col1\" class=\"data row8 col1\" >1.507085</td>\n",
       "      <td id=\"T_24607_row8_col2\" class=\"data row8 col2\" >153,908,666</td>\n",
       "      <td id=\"T_24607_row8_col3\" class=\"data row8 col3\" >1.982095</td>\n",
       "      <td id=\"T_24607_row8_col4\" class=\"data row8 col4\" >0.047284</td>\n",
       "    </tr>\n",
       "    <tr>\n",
       "      <th id=\"T_24607_level1_row9\" class=\"row_heading level1 row9\" >Western Europe</th>\n",
       "      <td id=\"T_24607_row9_col0\" class=\"data row9 col0\" >227,164</td>\n",
       "      <td id=\"T_24607_row9_col1\" class=\"data row9 col1\" >1.337253</td>\n",
       "      <td id=\"T_24607_row9_col2\" class=\"data row9 col2\" >194,572,748</td>\n",
       "      <td id=\"T_24607_row9_col3\" class=\"data row9 col3\" >2.505782</td>\n",
       "      <td id=\"T_24607_row9_col4\" class=\"data row9 col4\" >0.019688</td>\n",
       "    </tr>\n",
       "    <tr>\n",
       "      <th id=\"T_24607_level1_row10\" class=\"row_heading level1 row10\" >Eastern Asia</th>\n",
       "      <td id=\"T_24607_row10_col0\" class=\"data row10 col0\" >159,427</td>\n",
       "      <td id=\"T_24607_row10_col1\" class=\"data row10 col1\" >0.938504</td>\n",
       "      <td id=\"T_24607_row10_col2\" class=\"data row10 col2\" >1,660,384,922</td>\n",
       "      <td id=\"T_24607_row10_col3\" class=\"data row10 col3\" >21.383071</td>\n",
       "      <td id=\"T_24607_row10_col4\" class=\"data row10 col4\" >0.007062</td>\n",
       "    </tr>\n",
       "    <tr>\n",
       "      <th id=\"T_24607_level1_row11\" class=\"row_heading level1 row11\" >Northern Europe</th>\n",
       "      <td id=\"T_24607_row11_col0\" class=\"data row11 col0\" >132,235</td>\n",
       "      <td id=\"T_24607_row11_col1\" class=\"data row11 col1\" >0.778432</td>\n",
       "      <td id=\"T_24607_row11_col2\" class=\"data row11 col2\" >105,197,361</td>\n",
       "      <td id=\"T_24607_row11_col3\" class=\"data row11 col3\" >1.354772</td>\n",
       "      <td id=\"T_24607_row11_col4\" class=\"data row11 col4\" >0.017159</td>\n",
       "    </tr>\n",
       "    <tr>\n",
       "      <th id=\"T_24607_level1_row12\" class=\"row_heading level1 row12\" >Western Africa</th>\n",
       "      <td id=\"T_24607_row12_col0\" class=\"data row12 col0\" >100,518</td>\n",
       "      <td id=\"T_24607_row12_col1\" class=\"data row12 col1\" >0.591722</td>\n",
       "      <td id=\"T_24607_row12_col2\" class=\"data row12 col2\" >397,826,434</td>\n",
       "      <td id=\"T_24607_row12_col3\" class=\"data row12 col3\" >5.123361</td>\n",
       "      <td id=\"T_24607_row12_col4\" class=\"data row12 col4\" >0.009413</td>\n",
       "    </tr>\n",
       "    <tr>\n",
       "      <th id=\"T_24607_level1_row13\" class=\"row_heading level1 row13\" >Eastern Africa</th>\n",
       "      <td id=\"T_24607_row13_col0\" class=\"data row13 col0\" >84,994</td>\n",
       "      <td id=\"T_24607_row13_col1\" class=\"data row13 col1\" >0.500337</td>\n",
       "      <td id=\"T_24607_row13_col2\" class=\"data row13 col2\" >437,462,046</td>\n",
       "      <td id=\"T_24607_row13_col3\" class=\"data row13 col3\" >5.633803</td>\n",
       "      <td id=\"T_24607_row13_col4\" class=\"data row13 col4\" >0.027411</td>\n",
       "    </tr>\n",
       "    <tr>\n",
       "      <th id=\"T_24607_level1_row14\" class=\"row_heading level1 row14\" >Caribbean</th>\n",
       "      <td id=\"T_24607_row14_col0\" class=\"data row14 col0\" >60,323</td>\n",
       "      <td id=\"T_24607_row14_col1\" class=\"data row14 col1\" >0.355105</td>\n",
       "      <td id=\"T_24607_row14_col2\" class=\"data row14 col2\" >43,727,829</td>\n",
       "      <td id=\"T_24607_row14_col3\" class=\"data row14 col3\" >0.563144</td>\n",
       "      <td id=\"T_24607_row14_col4\" class=\"data row14 col4\" >0.055689</td>\n",
       "    </tr>\n",
       "    <tr>\n",
       "      <th id=\"T_24607_level1_row15\" class=\"row_heading level1 row15\" >Southern Africa</th>\n",
       "      <td id=\"T_24607_row15_col0\" class=\"data row15 col0\" >41,647</td>\n",
       "      <td id=\"T_24607_row15_col1\" class=\"data row15 col1\" >0.245165</td>\n",
       "      <td id=\"T_24607_row15_col2\" class=\"data row15 col2\" >66,428,717</td>\n",
       "      <td id=\"T_24607_row15_col3\" class=\"data row15 col3\" >0.855494</td>\n",
       "      <td id=\"T_24607_row15_col4\" class=\"data row15 col4\" >0.002270</td>\n",
       "    </tr>\n",
       "    <tr>\n",
       "      <th id=\"T_24607_level1_row16\" class=\"row_heading level1 row16\" >Australia and New Zealand</th>\n",
       "      <td id=\"T_24607_row16_col0\" class=\"data row16 col0\" >38,618</td>\n",
       "      <td id=\"T_24607_row16_col1\" class=\"data row16 col1\" >0.227334</td>\n",
       "      <td id=\"T_24607_row16_col2\" class=\"data row16 col2\" >30,316,204</td>\n",
       "      <td id=\"T_24607_row16_col3\" class=\"data row16 col3\" >0.390424</td>\n",
       "      <td id=\"T_24607_row16_col4\" class=\"data row16 col4\" >0.002330</td>\n",
       "    </tr>\n",
       "    <tr>\n",
       "      <th id=\"T_24607_level1_row17\" class=\"row_heading level1 row17\" >Central Asia</th>\n",
       "      <td id=\"T_24607_row17_col0\" class=\"data row17 col0\" >26,891</td>\n",
       "      <td id=\"T_24607_row17_col1\" class=\"data row17 col1\" >0.158300</td>\n",
       "      <td id=\"T_24607_row17_col2\" class=\"data row17 col2\" >73,550,272</td>\n",
       "      <td id=\"T_24607_row17_col3\" class=\"data row17 col3\" >0.947209</td>\n",
       "      <td id=\"T_24607_row17_col4\" class=\"data row17 col4\" >0.002267</td>\n",
       "    </tr>\n",
       "    <tr>\n",
       "      <th id=\"T_24607_level1_row18\" class=\"row_heading level1 row18\" >Middle Africa</th>\n",
       "      <td id=\"T_24607_row18_col0\" class=\"data row18 col0\" >23,395</td>\n",
       "      <td id=\"T_24607_row18_col1\" class=\"data row18 col1\" >0.137720</td>\n",
       "      <td id=\"T_24607_row18_col2\" class=\"data row18 col2\" >178,960,160</td>\n",
       "      <td id=\"T_24607_row18_col3\" class=\"data row18 col3\" >2.304717</td>\n",
       "      <td id=\"T_24607_row18_col4\" class=\"data row18 col4\" >0.004665</td>\n",
       "    </tr>\n",
       "    <tr>\n",
       "      <th id=\"T_24607_level1_row19\" class=\"row_heading level1 row19\" >Melanesia</th>\n",
       "      <td id=\"T_24607_row19_col0\" class=\"data row19 col0\" >6,215</td>\n",
       "      <td id=\"T_24607_row19_col1\" class=\"data row19 col1\" >0.036586</td>\n",
       "      <td id=\"T_24607_row19_col2\" class=\"data row19 col2\" >11,725,723</td>\n",
       "      <td id=\"T_24607_row19_col3\" class=\"data row19 col3\" >0.151008</td>\n",
       "      <td id=\"T_24607_row19_col4\" class=\"data row19 col4\" >0.007541</td>\n",
       "    </tr>\n",
       "  </tbody>\n",
       "</table>\n"
      ],
      "text/plain": [
       "<IPython.core.display.HTML object>"
      ]
     },
     "metadata": {},
     "output_type": "display_data"
    },
    {
     "data": {
      "text/html": [
       "<style type=\"text/css\">\n",
       "#T_013a2 caption {\n",
       "  caption-side: bottom;\n",
       "  font-style: italic;\n",
       "  margin-top: 1ex;\n",
       "}\n",
       "#T_013a2_row0_col0, #T_013a2_row0_col1, #T_013a2_row1_col0, #T_013a2_row1_col1, #T_013a2_row2_col0, #T_013a2_row2_col1, #T_013a2_row3_col0, #T_013a2_row3_col1, #T_013a2_row4_col0, #T_013a2_row4_col1, #T_013a2_row5_col0, #T_013a2_row5_col1, #T_013a2_row6_col0, #T_013a2_row6_col1, #T_013a2_row7_col0, #T_013a2_row7_col1, #T_013a2_row8_col0, #T_013a2_row8_col1, #T_013a2_row9_col0, #T_013a2_row9_col1, #T_013a2_row10_col0, #T_013a2_row10_col1, #T_013a2_row11_col0, #T_013a2_row11_col1, #T_013a2_row12_col0, #T_013a2_row12_col1, #T_013a2_row13_col0, #T_013a2_row13_col1, #T_013a2_row14_col0, #T_013a2_row14_col1, #T_013a2_row15_col0, #T_013a2_row15_col1, #T_013a2_row16_col0, #T_013a2_row16_col1, #T_013a2_row17_col0, #T_013a2_row17_col1, #T_013a2_row18_col0, #T_013a2_row18_col1, #T_013a2_row19_col0, #T_013a2_row19_col1 {\n",
       "  background-color: #ffffb3;\n",
       "}\n",
       "</style>\n",
       "<table id=\"T_013a2\">\n",
       "  <caption>Regions with most CSAM Reports 2020</caption>\n",
       "  <thead>\n",
       "    <tr>\n",
       "      <th class=\"blank\" >&nbsp;</th>\n",
       "      <th class=\"blank level0\" >&nbsp;</th>\n",
       "      <th id=\"T_013a2_level0_col0\" class=\"col_heading level0 col0\" >reports</th>\n",
       "      <th id=\"T_013a2_level0_col1\" class=\"col_heading level0 col1\" >reports_pct</th>\n",
       "      <th id=\"T_013a2_level0_col2\" class=\"col_heading level0 col2\" >population</th>\n",
       "      <th id=\"T_013a2_level0_col3\" class=\"col_heading level0 col3\" >population_pct</th>\n",
       "      <th id=\"T_013a2_level0_col4\" class=\"col_heading level0 col4\" >reports_per_capita</th>\n",
       "    </tr>\n",
       "    <tr>\n",
       "      <th class=\"index_name level0\" >year</th>\n",
       "      <th class=\"index_name level1\" >region</th>\n",
       "      <th class=\"blank col0\" >&nbsp;</th>\n",
       "      <th class=\"blank col1\" >&nbsp;</th>\n",
       "      <th class=\"blank col2\" >&nbsp;</th>\n",
       "      <th class=\"blank col3\" >&nbsp;</th>\n",
       "      <th class=\"blank col4\" >&nbsp;</th>\n",
       "    </tr>\n",
       "  </thead>\n",
       "  <tbody>\n",
       "    <tr>\n",
       "      <th id=\"T_013a2_level0_row0\" class=\"row_heading level0 row0\" rowspan=\"20\">2020</th>\n",
       "      <th id=\"T_013a2_level1_row0\" class=\"row_heading level1 row0\" >Southern Asia</th>\n",
       "      <td id=\"T_013a2_row0_col0\" class=\"data row0 col0\" >5,423,421</td>\n",
       "      <td id=\"T_013a2_row0_col1\" class=\"data row0 col1\" >24.934025</td>\n",
       "      <td id=\"T_013a2_row0_col2\" class=\"data row0 col2\" >1,969,617,895</td>\n",
       "      <td id=\"T_013a2_row0_col3\" class=\"data row0 col3\" >25.119626</td>\n",
       "      <td id=\"T_013a2_row0_col4\" class=\"data row0 col4\" >0.062001</td>\n",
       "    </tr>\n",
       "    <tr>\n",
       "      <th id=\"T_013a2_level1_row1\" class=\"row_heading level1 row1\" >South-Eastern Asia</th>\n",
       "      <td id=\"T_013a2_row1_col0\" class=\"data row1 col0\" >4,331,450</td>\n",
       "      <td id=\"T_013a2_row1_col1\" class=\"data row1 col1\" >19.913719</td>\n",
       "      <td id=\"T_013a2_row1_col2\" class=\"data row1 col2\" >670,164,339</td>\n",
       "      <td id=\"T_013a2_row1_col3\" class=\"data row1 col3\" >8.546976</td>\n",
       "      <td id=\"T_013a2_row1_col4\" class=\"data row1 col4\" >0.066831</td>\n",
       "    </tr>\n",
       "    <tr>\n",
       "      <th id=\"T_013a2_level1_row2\" class=\"row_heading level1 row2\" >Northern Africa</th>\n",
       "      <td id=\"T_013a2_row2_col0\" class=\"data row2 col0\" >2,665,168</td>\n",
       "      <td id=\"T_013a2_row2_col1\" class=\"data row2 col1\" >12.253035</td>\n",
       "      <td id=\"T_013a2_row2_col2\" class=\"data row2 col2\" >251,417,771</td>\n",
       "      <td id=\"T_013a2_row2_col3\" class=\"data row2 col3\" >3.206470</td>\n",
       "      <td id=\"T_013a2_row2_col4\" class=\"data row2 col4\" >0.088981</td>\n",
       "    </tr>\n",
       "    <tr>\n",
       "      <th id=\"T_013a2_level1_row3\" class=\"row_heading level1 row3\" >Western Asia</th>\n",
       "      <td id=\"T_013a2_row3_col0\" class=\"data row3 col0\" >2,466,404</td>\n",
       "      <td id=\"T_013a2_row3_col1\" class=\"data row3 col1\" >11.339223</td>\n",
       "      <td id=\"T_013a2_row3_col2\" class=\"data row3 col2\" >285,400,157</td>\n",
       "      <td id=\"T_013a2_row3_col3\" class=\"data row3 col3\" >3.639866</td>\n",
       "      <td id=\"T_013a2_row3_col4\" class=\"data row3 col4\" >0.161639</td>\n",
       "    </tr>\n",
       "    <tr>\n",
       "      <th id=\"T_013a2_level1_row4\" class=\"row_heading level1 row4\" >South America</th>\n",
       "      <td id=\"T_013a2_row4_col0\" class=\"data row4 col0\" >2,318,004</td>\n",
       "      <td id=\"T_013a2_row4_col1\" class=\"data row4 col1\" >10.656958</td>\n",
       "      <td id=\"T_013a2_row4_col2\" class=\"data row4 col2\" >431,530,048</td>\n",
       "      <td id=\"T_013a2_row4_col3\" class=\"data row4 col3\" >5.503541</td>\n",
       "      <td id=\"T_013a2_row4_col4\" class=\"data row4 col4\" >0.078018</td>\n",
       "    </tr>\n",
       "    <tr>\n",
       "      <th id=\"T_013a2_level1_row5\" class=\"row_heading level1 row5\" >North America</th>\n",
       "      <td id=\"T_013a2_row5_col0\" class=\"data row5 col0\" >1,179,834</td>\n",
       "      <td id=\"T_013a2_row5_col1\" class=\"data row5 col1\" >5.424254</td>\n",
       "      <td id=\"T_013a2_row5_col2\" class=\"data row5 col2\" >373,956,673</td>\n",
       "      <td id=\"T_013a2_row5_col3\" class=\"data row5 col3\" >4.769276</td>\n",
       "      <td id=\"T_013a2_row5_col4\" class=\"data row5 col4\" >0.010638</td>\n",
       "    </tr>\n",
       "    <tr>\n",
       "      <th id=\"T_013a2_level1_row6\" class=\"row_heading level1 row6\" >Central America</th>\n",
       "      <td id=\"T_013a2_row6_col0\" class=\"data row6 col0\" >1,166,927</td>\n",
       "      <td id=\"T_013a2_row6_col1\" class=\"data row6 col1\" >5.364914</td>\n",
       "      <td id=\"T_013a2_row6_col2\" class=\"data row6 col2\" >176,343,834</td>\n",
       "      <td id=\"T_013a2_row6_col3\" class=\"data row6 col3\" >2.249010</td>\n",
       "      <td id=\"T_013a2_row6_col4\" class=\"data row6 col4\" >0.056281</td>\n",
       "    </tr>\n",
       "    <tr>\n",
       "      <th id=\"T_013a2_level1_row7\" class=\"row_heading level1 row7\" >Eastern Europe</th>\n",
       "      <td id=\"T_013a2_row7_col0\" class=\"data row7 col0\" >656,341</td>\n",
       "      <td id=\"T_013a2_row7_col1\" class=\"data row7 col1\" >3.017509</td>\n",
       "      <td id=\"T_013a2_row7_col2\" class=\"data row7 col2\" >292,833,373</td>\n",
       "      <td id=\"T_013a2_row7_col3\" class=\"data row7 col3\" >3.734666</td>\n",
       "      <td id=\"T_013a2_row7_col4\" class=\"data row7 col4\" >0.028045</td>\n",
       "    </tr>\n",
       "    <tr>\n",
       "      <th id=\"T_013a2_level1_row8\" class=\"row_heading level1 row8\" >Southern Europe</th>\n",
       "      <td id=\"T_013a2_row8_col0\" class=\"data row8 col0\" >319,052</td>\n",
       "      <td id=\"T_013a2_row8_col1\" class=\"data row8 col1\" >1.466833</td>\n",
       "      <td id=\"T_013a2_row8_col2\" class=\"data row8 col2\" >153,740,713</td>\n",
       "      <td id=\"T_013a2_row8_col3\" class=\"data row8 col3\" >1.960740</td>\n",
       "      <td id=\"T_013a2_row8_col4\" class=\"data row8 col4\" >0.061314</td>\n",
       "    </tr>\n",
       "    <tr>\n",
       "      <th id=\"T_013a2_level1_row9\" class=\"row_heading level1 row9\" >Western Europe</th>\n",
       "      <td id=\"T_013a2_row9_col0\" class=\"data row9 col0\" >251,219</td>\n",
       "      <td id=\"T_013a2_row9_col1\" class=\"data row9 col1\" >1.154972</td>\n",
       "      <td id=\"T_013a2_row9_col2\" class=\"data row9 col2\" >195,057,784</td>\n",
       "      <td id=\"T_013a2_row9_col3\" class=\"data row9 col3\" >2.487680</td>\n",
       "      <td id=\"T_013a2_row9_col4\" class=\"data row9 col4\" >0.035010</td>\n",
       "    </tr>\n",
       "    <tr>\n",
       "      <th id=\"T_013a2_level1_row10\" class=\"row_heading level1 row10\" >Eastern Asia</th>\n",
       "      <td id=\"T_013a2_row10_col0\" class=\"data row10 col0\" >188,573</td>\n",
       "      <td id=\"T_013a2_row10_col1\" class=\"data row10 col1\" >0.866959</td>\n",
       "      <td id=\"T_013a2_row10_col2\" class=\"data row10 col2\" >1,663,179,741</td>\n",
       "      <td id=\"T_013a2_row10_col3\" class=\"data row10 col3\" >21.211450</td>\n",
       "      <td id=\"T_013a2_row10_col4\" class=\"data row10 col4\" >0.009195</td>\n",
       "    </tr>\n",
       "    <tr>\n",
       "      <th id=\"T_013a2_level1_row11\" class=\"row_heading level1 row11\" >Eastern Africa</th>\n",
       "      <td id=\"T_013a2_row11_col0\" class=\"data row11 col0\" >147,154</td>\n",
       "      <td id=\"T_013a2_row11_col1\" class=\"data row11 col1\" >0.676536</td>\n",
       "      <td id=\"T_013a2_row11_col2\" class=\"data row11 col2\" >449,292,469</td>\n",
       "      <td id=\"T_013a2_row11_col3\" class=\"data row11 col3\" >5.730075</td>\n",
       "      <td id=\"T_013a2_row11_col4\" class=\"data row11 col4\" >0.024162</td>\n",
       "    </tr>\n",
       "    <tr>\n",
       "      <th id=\"T_013a2_level1_row12\" class=\"row_heading level1 row12\" >Caribbean</th>\n",
       "      <td id=\"T_013a2_row12_col0\" class=\"data row12 col0\" >145,585</td>\n",
       "      <td id=\"T_013a2_row12_col1\" class=\"data row12 col1\" >0.669323</td>\n",
       "      <td id=\"T_013a2_row12_col2\" class=\"data row12 col2\" >43,962,254</td>\n",
       "      <td id=\"T_013a2_row12_col3\" class=\"data row12 col3\" >0.560675</td>\n",
       "      <td id=\"T_013a2_row12_col4\" class=\"data row12 col4\" >0.074322</td>\n",
       "    </tr>\n",
       "    <tr>\n",
       "      <th id=\"T_013a2_level1_row13\" class=\"row_heading level1 row13\" >Northern Europe</th>\n",
       "      <td id=\"T_013a2_row13_col0\" class=\"data row13 col0\" >134,620</td>\n",
       "      <td id=\"T_013a2_row13_col1\" class=\"data row13 col1\" >0.618912</td>\n",
       "      <td id=\"T_013a2_row13_col2\" class=\"data row13 col2\" >105,659,404</td>\n",
       "      <td id=\"T_013a2_row13_col3\" class=\"data row13 col3\" >1.347533</td>\n",
       "      <td id=\"T_013a2_row13_col4\" class=\"data row13 col4\" >0.018099</td>\n",
       "    </tr>\n",
       "    <tr>\n",
       "      <th id=\"T_013a2_level1_row14\" class=\"row_heading level1 row14\" >Western Africa</th>\n",
       "      <td id=\"T_013a2_row14_col0\" class=\"data row14 col0\" >134,350</td>\n",
       "      <td id=\"T_013a2_row14_col1\" class=\"data row14 col1\" >0.617670</td>\n",
       "      <td id=\"T_013a2_row14_col2\" class=\"data row14 col2\" >408,124,922</td>\n",
       "      <td id=\"T_013a2_row14_col3\" class=\"data row14 col3\" >5.205043</td>\n",
       "      <td id=\"T_013a2_row14_col4\" class=\"data row14 col4\" >0.014453</td>\n",
       "    </tr>\n",
       "    <tr>\n",
       "      <th id=\"T_013a2_level1_row15\" class=\"row_heading level1 row15\" >Southern Africa</th>\n",
       "      <td id=\"T_013a2_row15_col0\" class=\"data row15 col0\" >117,256</td>\n",
       "      <td id=\"T_013a2_row15_col1\" class=\"data row15 col1\" >0.539081</td>\n",
       "      <td id=\"T_013a2_row15_col2\" class=\"data row15 col2\" >67,272,182</td>\n",
       "      <td id=\"T_013a2_row15_col3\" class=\"data row15 col3\" >0.857959</td>\n",
       "      <td id=\"T_013a2_row15_col4\" class=\"data row15 col4\" >0.006455</td>\n",
       "    </tr>\n",
       "    <tr>\n",
       "      <th id=\"T_013a2_level1_row16\" class=\"row_heading level1 row16\" >Australia and New Zealand</th>\n",
       "      <td id=\"T_013a2_row16_col0\" class=\"data row16 col0\" >42,704</td>\n",
       "      <td id=\"T_013a2_row16_col1\" class=\"data row16 col1\" >0.196330</td>\n",
       "      <td id=\"T_013a2_row16_col2\" class=\"data row16 col2\" >30,731,185</td>\n",
       "      <td id=\"T_013a2_row16_col3\" class=\"data row16 col3\" >0.391932</td>\n",
       "      <td id=\"T_013a2_row16_col4\" class=\"data row16 col4\" >0.002696</td>\n",
       "    </tr>\n",
       "    <tr>\n",
       "      <th id=\"T_013a2_level1_row17\" class=\"row_heading level1 row17\" >Middle Africa</th>\n",
       "      <td id=\"T_013a2_row17_col0\" class=\"data row17 col0\" >32,586</td>\n",
       "      <td id=\"T_013a2_row17_col1\" class=\"data row17 col1\" >0.149813</td>\n",
       "      <td id=\"T_013a2_row17_col2\" class=\"data row17 col2\" >184,569,897</td>\n",
       "      <td id=\"T_013a2_row17_col3\" class=\"data row17 col3\" >2.353922</td>\n",
       "      <td id=\"T_013a2_row17_col4\" class=\"data row17 col4\" >0.004495</td>\n",
       "    </tr>\n",
       "    <tr>\n",
       "      <th id=\"T_013a2_level1_row18\" class=\"row_heading level1 row18\" >Central Asia</th>\n",
       "      <td id=\"T_013a2_row18_col0\" class=\"data row18 col0\" >22,396</td>\n",
       "      <td id=\"T_013a2_row18_col1\" class=\"data row18 col1\" >0.102965</td>\n",
       "      <td id=\"T_013a2_row18_col2\" class=\"data row18 col2\" >74,724,418</td>\n",
       "      <td id=\"T_013a2_row18_col3\" class=\"data row18 col3\" >0.953002</td>\n",
       "      <td id=\"T_013a2_row18_col4\" class=\"data row18 col4\" >0.001747</td>\n",
       "    </tr>\n",
       "    <tr>\n",
       "      <th id=\"T_013a2_level1_row19\" class=\"row_heading level1 row19\" >Melanesia</th>\n",
       "      <td id=\"T_013a2_row19_col0\" class=\"data row19 col0\" >6,540</td>\n",
       "      <td id=\"T_013a2_row19_col1\" class=\"data row19 col1\" >0.030067</td>\n",
       "      <td id=\"T_013a2_row19_col2\" class=\"data row19 col2\" >11,959,341</td>\n",
       "      <td id=\"T_013a2_row19_col3\" class=\"data row19 col3\" >0.152524</td>\n",
       "      <td id=\"T_013a2_row19_col4\" class=\"data row19 col4\" >0.006764</td>\n",
       "    </tr>\n",
       "  </tbody>\n",
       "</table>\n"
      ],
      "text/plain": [
       "<IPython.core.display.HTML object>"
      ]
     },
     "metadata": {},
     "output_type": "display_data"
    },
    {
     "data": {
      "text/html": [
       "<style type=\"text/css\">\n",
       "#T_a7bd2 caption {\n",
       "  caption-side: bottom;\n",
       "  font-style: italic;\n",
       "  margin-top: 1ex;\n",
       "}\n",
       "#T_a7bd2_row0_col0, #T_a7bd2_row0_col1, #T_a7bd2_row1_col0, #T_a7bd2_row1_col1, #T_a7bd2_row2_col0, #T_a7bd2_row2_col1, #T_a7bd2_row3_col0, #T_a7bd2_row3_col1, #T_a7bd2_row4_col0, #T_a7bd2_row4_col1, #T_a7bd2_row5_col0, #T_a7bd2_row5_col1, #T_a7bd2_row6_col0, #T_a7bd2_row6_col1, #T_a7bd2_row7_col0, #T_a7bd2_row7_col1, #T_a7bd2_row8_col0, #T_a7bd2_row8_col1, #T_a7bd2_row9_col0, #T_a7bd2_row9_col1, #T_a7bd2_row10_col0, #T_a7bd2_row10_col1, #T_a7bd2_row11_col0, #T_a7bd2_row11_col1, #T_a7bd2_row12_col0, #T_a7bd2_row12_col1, #T_a7bd2_row13_col0, #T_a7bd2_row13_col1, #T_a7bd2_row14_col0, #T_a7bd2_row14_col1, #T_a7bd2_row15_col0, #T_a7bd2_row15_col1, #T_a7bd2_row16_col0, #T_a7bd2_row16_col1, #T_a7bd2_row17_col0, #T_a7bd2_row17_col1, #T_a7bd2_row18_col0, #T_a7bd2_row18_col1, #T_a7bd2_row19_col0, #T_a7bd2_row19_col1 {\n",
       "  background-color: #ffffb3;\n",
       "}\n",
       "</style>\n",
       "<table id=\"T_a7bd2\">\n",
       "  <caption>Regions with most CSAM Reports 2021</caption>\n",
       "  <thead>\n",
       "    <tr>\n",
       "      <th class=\"blank\" >&nbsp;</th>\n",
       "      <th class=\"blank level0\" >&nbsp;</th>\n",
       "      <th id=\"T_a7bd2_level0_col0\" class=\"col_heading level0 col0\" >reports</th>\n",
       "      <th id=\"T_a7bd2_level0_col1\" class=\"col_heading level0 col1\" >reports_pct</th>\n",
       "      <th id=\"T_a7bd2_level0_col2\" class=\"col_heading level0 col2\" >population</th>\n",
       "      <th id=\"T_a7bd2_level0_col3\" class=\"col_heading level0 col3\" >population_pct</th>\n",
       "      <th id=\"T_a7bd2_level0_col4\" class=\"col_heading level0 col4\" >reports_per_capita</th>\n",
       "    </tr>\n",
       "    <tr>\n",
       "      <th class=\"index_name level0\" >year</th>\n",
       "      <th class=\"index_name level1\" >region</th>\n",
       "      <th class=\"blank col0\" >&nbsp;</th>\n",
       "      <th class=\"blank col1\" >&nbsp;</th>\n",
       "      <th class=\"blank col2\" >&nbsp;</th>\n",
       "      <th class=\"blank col3\" >&nbsp;</th>\n",
       "      <th class=\"blank col4\" >&nbsp;</th>\n",
       "    </tr>\n",
       "  </thead>\n",
       "  <tbody>\n",
       "    <tr>\n",
       "      <th id=\"T_a7bd2_level0_row0\" class=\"row_heading level0 row0\" rowspan=\"20\">2021</th>\n",
       "      <th id=\"T_a7bd2_level1_row0\" class=\"row_heading level1 row0\" >Southern Asia</th>\n",
       "      <td id=\"T_a7bd2_row0_col0\" class=\"data row0 col0\" >9,419,913</td>\n",
       "      <td id=\"T_a7bd2_row0_col1\" class=\"data row0 col1\" >32.043048</td>\n",
       "      <td id=\"T_a7bd2_row0_col2\" class=\"data row0 col2\" >1,989,452,481</td>\n",
       "      <td id=\"T_a7bd2_row0_col3\" class=\"data row0 col3\" >25.153349</td>\n",
       "      <td id=\"T_a7bd2_row0_col4\" class=\"data row0 col4\" >0.084941</td>\n",
       "    </tr>\n",
       "    <tr>\n",
       "      <th id=\"T_a7bd2_level1_row1\" class=\"row_heading level1 row1\" >South-Eastern Asia</th>\n",
       "      <td id=\"T_a7bd2_row1_col0\" class=\"data row1 col0\" >7,665,682</td>\n",
       "      <td id=\"T_a7bd2_row1_col1\" class=\"data row1 col1\" >26.075805</td>\n",
       "      <td id=\"T_a7bd2_row1_col2\" class=\"data row1 col2\" >675,796,068</td>\n",
       "      <td id=\"T_a7bd2_row1_col3\" class=\"data row1 col3\" >8.544328</td>\n",
       "      <td id=\"T_a7bd2_row1_col4\" class=\"data row1 col4\" >0.117317</td>\n",
       "    </tr>\n",
       "    <tr>\n",
       "      <th id=\"T_a7bd2_level1_row2\" class=\"row_heading level1 row2\" >Western Asia</th>\n",
       "      <td id=\"T_a7bd2_row2_col0\" class=\"data row2 col0\" >3,391,946</td>\n",
       "      <td id=\"T_a7bd2_row2_col1\" class=\"data row2 col1\" >11.538141</td>\n",
       "      <td id=\"T_a7bd2_row2_col2\" class=\"data row2 col2\" >288,488,938</td>\n",
       "      <td id=\"T_a7bd2_row2_col3\" class=\"data row2 col3\" >3.647467</td>\n",
       "      <td id=\"T_a7bd2_row2_col4\" class=\"data row2 col4\" >0.215441</td>\n",
       "    </tr>\n",
       "    <tr>\n",
       "      <th id=\"T_a7bd2_level1_row3\" class=\"row_heading level1 row3\" >Northern Africa</th>\n",
       "      <td id=\"T_a7bd2_row3_col0\" class=\"data row3 col0\" >2,608,377</td>\n",
       "      <td id=\"T_a7bd2_row3_col1\" class=\"data row3 col1\" >8.872730</td>\n",
       "      <td id=\"T_a7bd2_row3_col2\" class=\"data row3 col2\" >255,737,738</td>\n",
       "      <td id=\"T_a7bd2_row3_col3\" class=\"data row3 col3\" >3.233382</td>\n",
       "      <td id=\"T_a7bd2_row3_col4\" class=\"data row3 col4\" >0.096037</td>\n",
       "    </tr>\n",
       "    <tr>\n",
       "      <th id=\"T_a7bd2_level1_row4\" class=\"row_heading level1 row4\" >North America</th>\n",
       "      <td id=\"T_a7bd2_row4_col0\" class=\"data row4 col0\" >1,972,266</td>\n",
       "      <td id=\"T_a7bd2_row4_col1\" class=\"data row4 col1\" >6.708917</td>\n",
       "      <td id=\"T_a7bd2_row4_col2\" class=\"data row4 col2\" >375,278,947</td>\n",
       "      <td id=\"T_a7bd2_row4_col3\" class=\"data row4 col3\" >4.744784</td>\n",
       "      <td id=\"T_a7bd2_row4_col4\" class=\"data row4 col4\" >0.024389</td>\n",
       "    </tr>\n",
       "    <tr>\n",
       "      <th id=\"T_a7bd2_level1_row5\" class=\"row_heading level1 row5\" >South America</th>\n",
       "      <td id=\"T_a7bd2_row5_col0\" class=\"data row5 col0\" >1,538,207</td>\n",
       "      <td id=\"T_a7bd2_row5_col1\" class=\"data row5 col1\" >5.232409</td>\n",
       "      <td id=\"T_a7bd2_row5_col2\" class=\"data row5 col2\" >434,254,122</td>\n",
       "      <td id=\"T_a7bd2_row5_col3\" class=\"data row5 col3\" >5.490428</td>\n",
       "      <td id=\"T_a7bd2_row5_col4\" class=\"data row5 col4\" >0.051954</td>\n",
       "    </tr>\n",
       "    <tr>\n",
       "      <th id=\"T_a7bd2_level1_row6\" class=\"row_heading level1 row6\" >Central America</th>\n",
       "      <td id=\"T_a7bd2_row6_col0\" class=\"data row6 col0\" >1,003,846</td>\n",
       "      <td id=\"T_a7bd2_row6_col1\" class=\"data row6 col1\" >3.414712</td>\n",
       "      <td id=\"T_a7bd2_row6_col2\" class=\"data row6 col2\" >177,661,931</td>\n",
       "      <td id=\"T_a7bd2_row6_col3\" class=\"data row6 col3\" >2.246242</td>\n",
       "      <td id=\"T_a7bd2_row6_col4\" class=\"data row6 col4\" >0.051684</td>\n",
       "    </tr>\n",
       "    <tr>\n",
       "      <th id=\"T_a7bd2_level1_row7\" class=\"row_heading level1 row7\" >Eastern Europe</th>\n",
       "      <td id=\"T_a7bd2_row7_col0\" class=\"data row7 col0\" >303,028</td>\n",
       "      <td id=\"T_a7bd2_row7_col1\" class=\"data row7 col1\" >1.030789</td>\n",
       "      <td id=\"T_a7bd2_row7_col2\" class=\"data row7 col2\" >291,464,165</td>\n",
       "      <td id=\"T_a7bd2_row7_col3\" class=\"data row7 col3\" >3.685084</td>\n",
       "      <td id=\"T_a7bd2_row7_col4\" class=\"data row7 col4\" >0.016512</td>\n",
       "    </tr>\n",
       "    <tr>\n",
       "      <th id=\"T_a7bd2_level1_row8\" class=\"row_heading level1 row8\" >Western Europe</th>\n",
       "      <td id=\"T_a7bd2_row8_col0\" class=\"data row8 col0\" >247,762</td>\n",
       "      <td id=\"T_a7bd2_row8_col1\" class=\"data row8 col1\" >0.842794</td>\n",
       "      <td id=\"T_a7bd2_row8_col2\" class=\"data row8 col2\" >195,381,651</td>\n",
       "      <td id=\"T_a7bd2_row8_col3\" class=\"data row8 col3\" >2.470279</td>\n",
       "      <td id=\"T_a7bd2_row8_col4\" class=\"data row8 col4\" >0.024650</td>\n",
       "    </tr>\n",
       "    <tr>\n",
       "      <th id=\"T_a7bd2_level1_row9\" class=\"row_heading level1 row9\" >Southern Europe</th>\n",
       "      <td id=\"T_a7bd2_row9_col0\" class=\"data row9 col0\" >192,725</td>\n",
       "      <td id=\"T_a7bd2_row9_col1\" class=\"data row9 col1\" >0.655579</td>\n",
       "      <td id=\"T_a7bd2_row9_col2\" class=\"data row9 col2\" >153,374,286</td>\n",
       "      <td id=\"T_a7bd2_row9_col3\" class=\"data row9 col3\" >1.939165</td>\n",
       "      <td id=\"T_a7bd2_row9_col4\" class=\"data row9 col4\" >0.038479</td>\n",
       "    </tr>\n",
       "    <tr>\n",
       "      <th id=\"T_a7bd2_level1_row10\" class=\"row_heading level1 row10\" >Eastern Asia</th>\n",
       "      <td id=\"T_a7bd2_row10_col0\" class=\"data row10 col0\" >192,161</td>\n",
       "      <td id=\"T_a7bd2_row10_col1\" class=\"data row10 col1\" >0.653660</td>\n",
       "      <td id=\"T_a7bd2_row10_col2\" class=\"data row10 col2\" >1,663,696,925</td>\n",
       "      <td id=\"T_a7bd2_row10_col3\" class=\"data row10 col3\" >21.034707</td>\n",
       "      <td id=\"T_a7bd2_row10_col4\" class=\"data row10 col4\" >0.013735</td>\n",
       "    </tr>\n",
       "    <tr>\n",
       "      <th id=\"T_a7bd2_level1_row11\" class=\"row_heading level1 row11\" >Caribbean</th>\n",
       "      <td id=\"T_a7bd2_row11_col0\" class=\"data row11 col0\" >182,736</td>\n",
       "      <td id=\"T_a7bd2_row11_col1\" class=\"data row11 col1\" >0.621600</td>\n",
       "      <td id=\"T_a7bd2_row11_col2\" class=\"data row11 col2\" >44,182,055</td>\n",
       "      <td id=\"T_a7bd2_row11_col3\" class=\"data row11 col3\" >0.558609</td>\n",
       "      <td id=\"T_a7bd2_row11_col4\" class=\"data row11 col4\" >0.070198</td>\n",
       "    </tr>\n",
       "    <tr>\n",
       "      <th id=\"T_a7bd2_level1_row12\" class=\"row_heading level1 row12\" >Eastern Africa</th>\n",
       "      <td id=\"T_a7bd2_row12_col0\" class=\"data row12 col0\" >181,024</td>\n",
       "      <td id=\"T_a7bd2_row12_col1\" class=\"data row12 col1\" >0.615776</td>\n",
       "      <td id=\"T_a7bd2_row12_col2\" class=\"data row12 col2\" >461,141,848</td>\n",
       "      <td id=\"T_a7bd2_row12_col3\" class=\"data row12 col3\" >5.830379</td>\n",
       "      <td id=\"T_a7bd2_row12_col4\" class=\"data row12 col4\" >0.031997</td>\n",
       "    </tr>\n",
       "    <tr>\n",
       "      <th id=\"T_a7bd2_level1_row13\" class=\"row_heading level1 row13\" >Northern Europe</th>\n",
       "      <td id=\"T_a7bd2_row13_col0\" class=\"data row13 col0\" >152,984</td>\n",
       "      <td id=\"T_a7bd2_row13_col1\" class=\"data row13 col1\" >0.520395</td>\n",
       "      <td id=\"T_a7bd2_row13_col2\" class=\"data row13 col2\" >106,024,676</td>\n",
       "      <td id=\"T_a7bd2_row13_col3\" class=\"data row13 col3\" >1.340507</td>\n",
       "      <td id=\"T_a7bd2_row13_col4\" class=\"data row13 col4\" >0.016635</td>\n",
       "    </tr>\n",
       "    <tr>\n",
       "      <th id=\"T_a7bd2_level1_row14\" class=\"row_heading level1 row14\" >Western Africa</th>\n",
       "      <td id=\"T_a7bd2_row14_col0\" class=\"data row14 col0\" >126,909</td>\n",
       "      <td id=\"T_a7bd2_row14_col1\" class=\"data row14 col1\" >0.431697</td>\n",
       "      <td id=\"T_a7bd2_row14_col2\" class=\"data row14 col2\" >418,544,339</td>\n",
       "      <td id=\"T_a7bd2_row14_col3\" class=\"data row14 col3\" >5.291804</td>\n",
       "      <td id=\"T_a7bd2_row14_col4\" class=\"data row14 col4\" >0.011251</td>\n",
       "    </tr>\n",
       "    <tr>\n",
       "      <th id=\"T_a7bd2_level1_row15\" class=\"row_heading level1 row15\" >Australia and New Zealand</th>\n",
       "      <td id=\"T_a7bd2_row15_col0\" class=\"data row15 col0\" >75,506</td>\n",
       "      <td id=\"T_a7bd2_row15_col1\" class=\"data row15 col1\" >0.256843</td>\n",
       "      <td id=\"T_a7bd2_row15_col2\" class=\"data row15 col2\" >31,050,817</td>\n",
       "      <td id=\"T_a7bd2_row15_col3\" class=\"data row15 col3\" >0.392586</td>\n",
       "      <td id=\"T_a7bd2_row15_col4\" class=\"data row15 col4\" >0.004472</td>\n",
       "    </tr>\n",
       "    <tr>\n",
       "      <th id=\"T_a7bd2_level1_row16\" class=\"row_heading level1 row16\" >Southern Africa</th>\n",
       "      <td id=\"T_a7bd2_row16_col0\" class=\"data row16 col0\" >55,013</td>\n",
       "      <td id=\"T_a7bd2_row16_col1\" class=\"data row16 col1\" >0.187134</td>\n",
       "      <td id=\"T_a7bd2_row16_col2\" class=\"data row16 col2\" >67,984,555</td>\n",
       "      <td id=\"T_a7bd2_row16_col3\" class=\"data row16 col3\" >0.859553</td>\n",
       "      <td id=\"T_a7bd2_row16_col4\" class=\"data row16 col4\" >0.002681</td>\n",
       "    </tr>\n",
       "    <tr>\n",
       "      <th id=\"T_a7bd2_level1_row17\" class=\"row_heading level1 row17\" >Central Asia</th>\n",
       "      <td id=\"T_a7bd2_row17_col0\" class=\"data row17 col0\" >31,939</td>\n",
       "      <td id=\"T_a7bd2_row17_col1\" class=\"data row17 col1\" >0.108645</td>\n",
       "      <td id=\"T_a7bd2_row17_col2\" class=\"data row17 col2\" >75,897,578</td>\n",
       "      <td id=\"T_a7bd2_row17_col3\" class=\"data row17 col3\" >0.959600</td>\n",
       "      <td id=\"T_a7bd2_row17_col4\" class=\"data row17 col4\" >0.002108</td>\n",
       "    </tr>\n",
       "    <tr>\n",
       "      <th id=\"T_a7bd2_level1_row18\" class=\"row_heading level1 row18\" >Middle Africa</th>\n",
       "      <td id=\"T_a7bd2_row18_col0\" class=\"data row18 col0\" >31,586</td>\n",
       "      <td id=\"T_a7bd2_row18_col1\" class=\"data row18 col1\" >0.107444</td>\n",
       "      <td id=\"T_a7bd2_row18_col2\" class=\"data row18 col2\" >190,267,975</td>\n",
       "      <td id=\"T_a7bd2_row18_col3\" class=\"data row18 col3\" >2.405625</td>\n",
       "      <td id=\"T_a7bd2_row18_col4\" class=\"data row18 col4\" >0.003774</td>\n",
       "    </tr>\n",
       "    <tr>\n",
       "      <th id=\"T_a7bd2_level1_row19\" class=\"row_heading level1 row19\" >Melanesia</th>\n",
       "      <td id=\"T_a7bd2_row19_col0\" class=\"data row19 col0\" >20,506</td>\n",
       "      <td id=\"T_a7bd2_row19_col1\" class=\"data row19 col1\" >0.069754</td>\n",
       "      <td id=\"T_a7bd2_row19_col2\" class=\"data row19 col2\" >12,188,835</td>\n",
       "      <td id=\"T_a7bd2_row19_col3\" class=\"data row19 col3\" >0.154108</td>\n",
       "      <td id=\"T_a7bd2_row19_col4\" class=\"data row19 col4\" >0.024307</td>\n",
       "    </tr>\n",
       "  </tbody>\n",
       "</table>\n"
      ],
      "text/plain": [
       "<IPython.core.display.HTML object>"
      ]
     },
     "metadata": {},
     "output_type": "display_data"
    },
    {
     "data": {
      "text/html": [
       "<style type=\"text/css\">\n",
       "#T_df3c0 caption {\n",
       "  caption-side: bottom;\n",
       "  font-style: italic;\n",
       "  margin-top: 1ex;\n",
       "}\n",
       "#T_df3c0_row0_col0, #T_df3c0_row0_col1, #T_df3c0_row1_col0, #T_df3c0_row1_col1, #T_df3c0_row2_col0, #T_df3c0_row2_col1, #T_df3c0_row3_col0, #T_df3c0_row3_col1, #T_df3c0_row4_col0, #T_df3c0_row4_col1, #T_df3c0_row5_col0, #T_df3c0_row5_col1, #T_df3c0_row6_col0, #T_df3c0_row6_col1, #T_df3c0_row7_col0, #T_df3c0_row7_col1, #T_df3c0_row8_col0, #T_df3c0_row8_col1, #T_df3c0_row9_col0, #T_df3c0_row9_col1, #T_df3c0_row10_col0, #T_df3c0_row10_col1, #T_df3c0_row11_col0, #T_df3c0_row11_col1, #T_df3c0_row12_col0, #T_df3c0_row12_col1, #T_df3c0_row13_col0, #T_df3c0_row13_col1, #T_df3c0_row14_col0, #T_df3c0_row14_col1, #T_df3c0_row15_col0, #T_df3c0_row15_col1, #T_df3c0_row16_col0, #T_df3c0_row16_col1, #T_df3c0_row17_col0, #T_df3c0_row17_col1, #T_df3c0_row18_col0, #T_df3c0_row18_col1, #T_df3c0_row19_col0, #T_df3c0_row19_col1 {\n",
       "  background-color: #ffffb3;\n",
       "}\n",
       "</style>\n",
       "<table id=\"T_df3c0\">\n",
       "  <caption>Regions with most CSAM Reports 2022</caption>\n",
       "  <thead>\n",
       "    <tr>\n",
       "      <th class=\"blank\" >&nbsp;</th>\n",
       "      <th class=\"blank level0\" >&nbsp;</th>\n",
       "      <th id=\"T_df3c0_level0_col0\" class=\"col_heading level0 col0\" >reports</th>\n",
       "      <th id=\"T_df3c0_level0_col1\" class=\"col_heading level0 col1\" >reports_pct</th>\n",
       "      <th id=\"T_df3c0_level0_col2\" class=\"col_heading level0 col2\" >population</th>\n",
       "      <th id=\"T_df3c0_level0_col3\" class=\"col_heading level0 col3\" >population_pct</th>\n",
       "      <th id=\"T_df3c0_level0_col4\" class=\"col_heading level0 col4\" >reports_per_capita</th>\n",
       "    </tr>\n",
       "    <tr>\n",
       "      <th class=\"index_name level0\" >year</th>\n",
       "      <th class=\"index_name level1\" >region</th>\n",
       "      <th class=\"blank col0\" >&nbsp;</th>\n",
       "      <th class=\"blank col1\" >&nbsp;</th>\n",
       "      <th class=\"blank col2\" >&nbsp;</th>\n",
       "      <th class=\"blank col3\" >&nbsp;</th>\n",
       "      <th class=\"blank col4\" >&nbsp;</th>\n",
       "    </tr>\n",
       "  </thead>\n",
       "  <tbody>\n",
       "    <tr>\n",
       "      <th id=\"T_df3c0_level0_row0\" class=\"row_heading level0 row0\" rowspan=\"20\">2022</th>\n",
       "      <th id=\"T_df3c0_level1_row0\" class=\"row_heading level1 row0\" >Southern Asia</th>\n",
       "      <td id=\"T_df3c0_row0_col0\" class=\"data row0 col0\" >10,712,621</td>\n",
       "      <td id=\"T_df3c0_row0_col1\" class=\"data row0 col1\" >33.415301</td>\n",
       "      <td id=\"T_df3c0_row0_col2\" class=\"data row0 col2\" >2,007,549,715</td>\n",
       "      <td id=\"T_df3c0_row0_col3\" class=\"data row0 col3\" >25.172707</td>\n",
       "      <td id=\"T_df3c0_row0_col4\" class=\"data row0 col4\" >0.070018</td>\n",
       "    </tr>\n",
       "    <tr>\n",
       "      <th id=\"T_df3c0_level1_row1\" class=\"row_heading level1 row1\" >South-Eastern Asia</th>\n",
       "      <td id=\"T_df3c0_row1_col0\" class=\"data row1 col0\" >6,724,864</td>\n",
       "      <td id=\"T_df3c0_row1_col1\" class=\"data row1 col1\" >20.976506</td>\n",
       "      <td id=\"T_df3c0_row1_col2\" class=\"data row1 col2\" >681,125,066</td>\n",
       "      <td id=\"T_df3c0_row1_col3\" class=\"data row1 col3\" >8.540641</td>\n",
       "      <td id=\"T_df3c0_row1_col4\" class=\"data row1 col4\" >0.095926</td>\n",
       "    </tr>\n",
       "    <tr>\n",
       "      <th id=\"T_df3c0_level1_row2\" class=\"row_heading level1 row2\" >North America</th>\n",
       "      <td id=\"T_df3c0_row2_col0\" class=\"data row2 col0\" >3,404,546</td>\n",
       "      <td id=\"T_df3c0_row2_col1\" class=\"data row2 col1\" >10.619617</td>\n",
       "      <td id=\"T_df3c0_row2_col2\" class=\"data row2 col2\" >376,870,696</td>\n",
       "      <td id=\"T_df3c0_row2_col3\" class=\"data row2 col3\" >4.725589</td>\n",
       "      <td id=\"T_df3c0_row2_col4\" class=\"data row2 col4\" >0.035403</td>\n",
       "    </tr>\n",
       "    <tr>\n",
       "      <th id=\"T_df3c0_level1_row3\" class=\"row_heading level1 row3\" >Western Asia</th>\n",
       "      <td id=\"T_df3c0_row3_col0\" class=\"data row3 col0\" >2,701,204</td>\n",
       "      <td id=\"T_df3c0_row3_col1\" class=\"data row3 col1\" >8.425720</td>\n",
       "      <td id=\"T_df3c0_row3_col2\" class=\"data row3 col2\" >292,468,620</td>\n",
       "      <td id=\"T_df3c0_row3_col3\" class=\"data row3 col3\" >3.667270</td>\n",
       "      <td id=\"T_df3c0_row3_col4\" class=\"data row3 col4\" >0.168206</td>\n",
       "    </tr>\n",
       "    <tr>\n",
       "      <th id=\"T_df3c0_level1_row4\" class=\"row_heading level1 row4\" >South America</th>\n",
       "      <td id=\"T_df3c0_row4_col0\" class=\"data row4 col0\" >2,231,052</td>\n",
       "      <td id=\"T_df3c0_row4_col1\" class=\"data row4 col1\" >6.959200</td>\n",
       "      <td id=\"T_df3c0_row4_col2\" class=\"data row4 col2\" >436,816,610</td>\n",
       "      <td id=\"T_df3c0_row4_col3\" class=\"data row4 col3\" >5.477252</td>\n",
       "      <td id=\"T_df3c0_row4_col4\" class=\"data row4 col4\" >0.075842</td>\n",
       "    </tr>\n",
       "    <tr>\n",
       "      <th id=\"T_df3c0_level1_row5\" class=\"row_heading level1 row5\" >Northern Africa</th>\n",
       "      <td id=\"T_df3c0_row5_col0\" class=\"data row5 col0\" >1,709,419</td>\n",
       "      <td id=\"T_df3c0_row5_col1\" class=\"data row5 col1\" >5.332098</td>\n",
       "      <td id=\"T_df3c0_row5_col2\" class=\"data row5 col2\" >259,969,947</td>\n",
       "      <td id=\"T_df3c0_row5_col3\" class=\"data row5 col3\" >3.259768</td>\n",
       "      <td id=\"T_df3c0_row5_col4\" class=\"data row5 col4\" >0.059205</td>\n",
       "    </tr>\n",
       "    <tr>\n",
       "      <th id=\"T_df3c0_level1_row6\" class=\"row_heading level1 row6\" >Central America</th>\n",
       "      <td id=\"T_df3c0_row6_col0\" class=\"data row6 col0\" >1,144,728</td>\n",
       "      <td id=\"T_df3c0_row6_col1\" class=\"data row6 col1\" >3.570688</td>\n",
       "      <td id=\"T_df3c0_row6_col2\" class=\"data row6 col2\" >179,060,361</td>\n",
       "      <td id=\"T_df3c0_row6_col3\" class=\"data row6 col3\" >2.245242</td>\n",
       "      <td id=\"T_df3c0_row6_col4\" class=\"data row6 col4\" >0.059855</td>\n",
       "    </tr>\n",
       "    <tr>\n",
       "      <th id=\"T_df3c0_level1_row7\" class=\"row_heading level1 row7\" >Eastern Europe</th>\n",
       "      <td id=\"T_df3c0_row7_col0\" class=\"data row7 col0\" >731,334</td>\n",
       "      <td id=\"T_df3c0_row7_col1\" class=\"data row7 col1\" >2.281211</td>\n",
       "      <td id=\"T_df3c0_row7_col2\" class=\"data row7 col2\" >289,626,117</td>\n",
       "      <td id=\"T_df3c0_row7_col3\" class=\"data row7 col3\" >3.631628</td>\n",
       "      <td id=\"T_df3c0_row7_col4\" class=\"data row7 col4\" >0.044626</td>\n",
       "    </tr>\n",
       "    <tr>\n",
       "      <th id=\"T_df3c0_level1_row8\" class=\"row_heading level1 row8\" >Western Europe</th>\n",
       "      <td id=\"T_df3c0_row8_col0\" class=\"data row8 col0\" >507,797</td>\n",
       "      <td id=\"T_df3c0_row8_col1\" class=\"data row8 col1\" >1.583944</td>\n",
       "      <td id=\"T_df3c0_row8_col2\" class=\"data row8 col2\" >195,619,899</td>\n",
       "      <td id=\"T_df3c0_row8_col3\" class=\"data row8 col3\" >2.452882</td>\n",
       "      <td id=\"T_df3c0_row8_col4\" class=\"data row8 col4\" >0.031434</td>\n",
       "    </tr>\n",
       "    <tr>\n",
       "      <th id=\"T_df3c0_level1_row9\" class=\"row_heading level1 row9\" >Northern Europe</th>\n",
       "      <td id=\"T_df3c0_row9_col0\" class=\"data row9 col0\" >504,064</td>\n",
       "      <td id=\"T_df3c0_row9_col1\" class=\"data row9 col1\" >1.572300</td>\n",
       "      <td id=\"T_df3c0_row9_col2\" class=\"data row9 col2\" >106,375,996</td>\n",
       "      <td id=\"T_df3c0_row9_col3\" class=\"data row9 col3\" >1.333851</td>\n",
       "      <td id=\"T_df3c0_row9_col4\" class=\"data row9 col4\" >0.063095</td>\n",
       "    </tr>\n",
       "    <tr>\n",
       "      <th id=\"T_df3c0_level1_row10\" class=\"row_heading level1 row10\" >Southern Europe</th>\n",
       "      <td id=\"T_df3c0_row10_col0\" class=\"data row10 col0\" >367,229</td>\n",
       "      <td id=\"T_df3c0_row10_col1\" class=\"data row10 col1\" >1.145478</td>\n",
       "      <td id=\"T_df3c0_row10_col2\" class=\"data row10 col2\" >153,010,661</td>\n",
       "      <td id=\"T_df3c0_row10_col3\" class=\"data row10 col3\" >1.918604</td>\n",
       "      <td id=\"T_df3c0_row10_col4\" class=\"data row10 col4\" >0.066662</td>\n",
       "    </tr>\n",
       "    <tr>\n",
       "      <th id=\"T_df3c0_level1_row11\" class=\"row_heading level1 row11\" >Eastern Asia</th>\n",
       "      <td id=\"T_df3c0_row11_col0\" class=\"data row11 col0\" >306,470</td>\n",
       "      <td id=\"T_df3c0_row11_col1\" class=\"data row11 col1\" >0.955955</td>\n",
       "      <td id=\"T_df3c0_row11_col2\" class=\"data row11 col2\" >1,663,200,051</td>\n",
       "      <td id=\"T_df3c0_row11_col3\" class=\"data row11 col3\" >20.854899</td>\n",
       "      <td id=\"T_df3c0_row11_col4\" class=\"data row11 col4\" >0.019173</td>\n",
       "    </tr>\n",
       "    <tr>\n",
       "      <th id=\"T_df3c0_level1_row12\" class=\"row_heading level1 row12\" >Western Africa</th>\n",
       "      <td id=\"T_df3c0_row12_col0\" class=\"data row12 col0\" >215,810</td>\n",
       "      <td id=\"T_df3c0_row12_col1\" class=\"data row12 col1\" >0.673164</td>\n",
       "      <td id=\"T_df3c0_row12_col2\" class=\"data row12 col2\" >429,084,928</td>\n",
       "      <td id=\"T_df3c0_row12_col3\" class=\"data row12 col3\" >5.380305</td>\n",
       "      <td id=\"T_df3c0_row12_col4\" class=\"data row12 col4\" >0.013122</td>\n",
       "    </tr>\n",
       "    <tr>\n",
       "      <th id=\"T_df3c0_level1_row13\" class=\"row_heading level1 row13\" >Australia and New Zealand</th>\n",
       "      <td id=\"T_df3c0_row13_col0\" class=\"data row13 col0\" >214,816</td>\n",
       "      <td id=\"T_df3c0_row13_col1\" class=\"data row13 col1\" >0.670064</td>\n",
       "      <td id=\"T_df3c0_row13_col2\" class=\"data row13 col2\" >31,362,703</td>\n",
       "      <td id=\"T_df3c0_row13_col3\" class=\"data row13 col3\" >0.393258</td>\n",
       "      <td id=\"T_df3c0_row13_col4\" class=\"data row13 col4\" >0.013273</td>\n",
       "    </tr>\n",
       "    <tr>\n",
       "      <th id=\"T_df3c0_level1_row14\" class=\"row_heading level1 row14\" >Caribbean</th>\n",
       "      <td id=\"T_df3c0_row14_col0\" class=\"data row14 col0\" >181,713</td>\n",
       "      <td id=\"T_df3c0_row14_col1\" class=\"data row14 col1\" >0.566808</td>\n",
       "      <td id=\"T_df3c0_row14_col2\" class=\"data row14 col2\" >44,392,114</td>\n",
       "      <td id=\"T_df3c0_row14_col3\" class=\"data row14 col3\" >0.556634</td>\n",
       "      <td id=\"T_df3c0_row14_col4\" class=\"data row14 col4\" >0.121284</td>\n",
       "    </tr>\n",
       "    <tr>\n",
       "      <th id=\"T_df3c0_level1_row15\" class=\"row_heading level1 row15\" >Eastern Africa</th>\n",
       "      <td id=\"T_df3c0_row15_col0\" class=\"data row15 col0\" >175,385</td>\n",
       "      <td id=\"T_df3c0_row15_col1\" class=\"data row15 col1\" >0.547069</td>\n",
       "      <td id=\"T_df3c0_row15_col2\" class=\"data row15 col2\" >473,004,853</td>\n",
       "      <td id=\"T_df3c0_row15_col3\" class=\"data row15 col3\" >5.931017</td>\n",
       "      <td id=\"T_df3c0_row15_col4\" class=\"data row15 col4\" >0.031292</td>\n",
       "    </tr>\n",
       "    <tr>\n",
       "      <th id=\"T_df3c0_level1_row16\" class=\"row_heading level1 row16\" >Southern Africa</th>\n",
       "      <td id=\"T_df3c0_row16_col0\" class=\"data row16 col0\" >91,752</td>\n",
       "      <td id=\"T_df3c0_row16_col1\" class=\"data row16 col1\" >0.286197</td>\n",
       "      <td id=\"T_df3c0_row16_col2\" class=\"data row16 col2\" >68,598,692</td>\n",
       "      <td id=\"T_df3c0_row16_col3\" class=\"data row16 col3\" >0.860160</td>\n",
       "      <td id=\"T_df3c0_row16_col4\" class=\"data row16 col4\" >0.005466</td>\n",
       "    </tr>\n",
       "    <tr>\n",
       "      <th id=\"T_df3c0_level1_row17\" class=\"row_heading level1 row17\" >Central Asia</th>\n",
       "      <td id=\"T_df3c0_row17_col0\" class=\"data row17 col0\" >53,931</td>\n",
       "      <td id=\"T_df3c0_row17_col1\" class=\"data row17 col1\" >0.168224</td>\n",
       "      <td id=\"T_df3c0_row17_col2\" class=\"data row17 col2\" >77,039,832</td>\n",
       "      <td id=\"T_df3c0_row17_col3\" class=\"data row17 col3\" >0.966004</td>\n",
       "      <td id=\"T_df3c0_row17_col4\" class=\"data row17 col4\" >0.003456</td>\n",
       "    </tr>\n",
       "    <tr>\n",
       "      <th id=\"T_df3c0_level1_row18\" class=\"row_heading level1 row18\" >Middle Africa</th>\n",
       "      <td id=\"T_df3c0_row18_col0\" class=\"data row18 col0\" >51,590</td>\n",
       "      <td id=\"T_df3c0_row18_col1\" class=\"data row18 col1\" >0.160922</td>\n",
       "      <td id=\"T_df3c0_row18_col2\" class=\"data row18 col2\" >196,077,900</td>\n",
       "      <td id=\"T_df3c0_row18_col3\" class=\"data row18 col3\" >2.458625</td>\n",
       "      <td id=\"T_df3c0_row18_col4\" class=\"data row18 col4\" >0.004774</td>\n",
       "    </tr>\n",
       "    <tr>\n",
       "      <th id=\"T_df3c0_level1_row19\" class=\"row_heading level1 row19\" >Melanesia</th>\n",
       "      <td id=\"T_df3c0_row19_col0\" class=\"data row19 col0\" >23,258</td>\n",
       "      <td id=\"T_df3c0_row19_col1\" class=\"data row19 col1\" >0.072547</td>\n",
       "      <td id=\"T_df3c0_row19_col2\" class=\"data row19 col2\" >12,413,350</td>\n",
       "      <td id=\"T_df3c0_row19_col3\" class=\"data row19 col3\" >0.155651</td>\n",
       "      <td id=\"T_df3c0_row19_col4\" class=\"data row19 col4\" >0.019755</td>\n",
       "    </tr>\n",
       "  </tbody>\n",
       "</table>\n"
      ],
      "text/plain": [
       "<IPython.core.display.HTML object>"
      ]
     },
     "metadata": {},
     "output_type": "display_data"
    }
   ],
   "source": [
    "show_html(\n",
    "    h2='Regions with Most CSAM Reports', \n",
    "    p='Selection does <em>not</em> take population counts into consideration.')\n",
    "\n",
    "most_reports = (\n",
    "    country_data.reports_per_capita\n",
    "    .groupby(['year', 'region'])\n",
    "    .sum(numeric_only=True)\n",
    "    .sort_values(by='reports', ascending=False)\n",
    ")\n",
    "\n",
    "for year in YEAR_LABELS:\n",
    "    show_table(\n",
    "        most_reports.query(f'year == \"{year}\"').head(20),\n",
    "        title=f'Regions with most CSAM Reports {year}',\n",
    "        highlights=['reports', 'reports_pct'],\n",
    "    )\n"
   ]
  },
  {
   "cell_type": "code",
   "execution_count": 3,
   "metadata": {},
   "outputs": [
    {
     "data": {
      "text/html": [
       "<h2>Countries with Most CSAM Reports Per Capita</h2>"
      ],
      "text/plain": [
       "<IPython.core.display.HTML object>"
      ]
     },
     "metadata": {},
     "output_type": "display_data"
    },
    {
     "data": {
      "text/html": [
       "<style type=\"text/css\">\n",
       "#T_67ed7 caption {\n",
       "  caption-side: bottom;\n",
       "  font-style: italic;\n",
       "  margin-top: 1ex;\n",
       "}\n",
       "#T_67ed7_row0_col6, #T_67ed7_row1_col6, #T_67ed7_row2_col6, #T_67ed7_row3_col6, #T_67ed7_row4_col6, #T_67ed7_row5_col6, #T_67ed7_row6_col6, #T_67ed7_row7_col6, #T_67ed7_row8_col6, #T_67ed7_row9_col6, #T_67ed7_row10_col6, #T_67ed7_row11_col6, #T_67ed7_row12_col6, #T_67ed7_row13_col6, #T_67ed7_row14_col6, #T_67ed7_row15_col6, #T_67ed7_row16_col6, #T_67ed7_row17_col6, #T_67ed7_row18_col6, #T_67ed7_row19_col6 {\n",
       "  background-color: #ffffb3;\n",
       "}\n",
       "</style>\n",
       "<table id=\"T_67ed7\">\n",
       "  <caption>reports per capita and country 2019</caption>\n",
       "  <thead>\n",
       "    <tr>\n",
       "      <th class=\"blank level0\" >&nbsp;</th>\n",
       "      <th id=\"T_67ed7_level0_col0\" class=\"col_heading level0 col0\" >iso3</th>\n",
       "      <th id=\"T_67ed7_level0_col1\" class=\"col_heading level0 col1\" >year</th>\n",
       "      <th id=\"T_67ed7_level0_col2\" class=\"col_heading level0 col2\" >reports</th>\n",
       "      <th id=\"T_67ed7_level0_col3\" class=\"col_heading level0 col3\" >reports_pct</th>\n",
       "      <th id=\"T_67ed7_level0_col4\" class=\"col_heading level0 col4\" >population</th>\n",
       "      <th id=\"T_67ed7_level0_col5\" class=\"col_heading level0 col5\" >population_pct</th>\n",
       "      <th id=\"T_67ed7_level0_col6\" class=\"col_heading level0 col6\" >reports_per_capita</th>\n",
       "      <th id=\"T_67ed7_level0_col7\" class=\"col_heading level0 col7\" >country</th>\n",
       "    </tr>\n",
       "    <tr>\n",
       "      <th class=\"index_name level0\" >rank</th>\n",
       "      <th class=\"blank col0\" >&nbsp;</th>\n",
       "      <th class=\"blank col1\" >&nbsp;</th>\n",
       "      <th class=\"blank col2\" >&nbsp;</th>\n",
       "      <th class=\"blank col3\" >&nbsp;</th>\n",
       "      <th class=\"blank col4\" >&nbsp;</th>\n",
       "      <th class=\"blank col5\" >&nbsp;</th>\n",
       "      <th class=\"blank col6\" >&nbsp;</th>\n",
       "      <th class=\"blank col7\" >&nbsp;</th>\n",
       "    </tr>\n",
       "  </thead>\n",
       "  <tbody>\n",
       "    <tr>\n",
       "      <th id=\"T_67ed7_level0_row0\" class=\"row_heading level0 row0\" >1</th>\n",
       "      <td id=\"T_67ed7_row0_col0\" class=\"data row0 col0\" >ARE</td>\n",
       "      <td id=\"T_67ed7_row0_col1\" class=\"data row0 col1\" >2019</td>\n",
       "      <td id=\"T_67ed7_row0_col2\" class=\"data row0 col2\" >330,268</td>\n",
       "      <td id=\"T_67ed7_row0_col3\" class=\"data row0 col3\" >1.944198</td>\n",
       "      <td id=\"T_67ed7_row0_col4\" class=\"data row0 col4\" >9,211,657</td>\n",
       "      <td id=\"T_67ed7_row0_col5\" class=\"data row0 col5\" >0.118631</td>\n",
       "      <td id=\"T_67ed7_row0_col6\" class=\"data row0 col6\" >0.035853</td>\n",
       "      <td id=\"T_67ed7_row0_col7\" class=\"data row0 col7\" >United Arab Emirates</td>\n",
       "    </tr>\n",
       "    <tr>\n",
       "      <th id=\"T_67ed7_level0_row1\" class=\"row_heading level0 row1\" >2</th>\n",
       "      <td id=\"T_67ed7_row1_col0\" class=\"data row1 col0\" >IRQ</td>\n",
       "      <td id=\"T_67ed7_row1_col1\" class=\"data row1 col1\" >2019</td>\n",
       "      <td id=\"T_67ed7_row1_col2\" class=\"data row1 col2\" >1,026,809</td>\n",
       "      <td id=\"T_67ed7_row1_col3\" class=\"data row1 col3\" >6.044547</td>\n",
       "      <td id=\"T_67ed7_row1_col4\" class=\"data row1 col4\" >41,563,521</td>\n",
       "      <td id=\"T_67ed7_row1_col5\" class=\"data row1 col5\" >0.535271</td>\n",
       "      <td id=\"T_67ed7_row1_col6\" class=\"data row1 col6\" >0.024705</td>\n",
       "      <td id=\"T_67ed7_row1_col7\" class=\"data row1 col7\" >Iraq</td>\n",
       "    </tr>\n",
       "    <tr>\n",
       "      <th id=\"T_67ed7_level0_row2\" class=\"row_heading level0 row2\" >3</th>\n",
       "      <td id=\"T_67ed7_row2_col0\" class=\"data row2 col0\" >LBY</td>\n",
       "      <td id=\"T_67ed7_row2_col1\" class=\"data row2 col1\" >2019</td>\n",
       "      <td id=\"T_67ed7_row2_col2\" class=\"data row2 col2\" >150,848</td>\n",
       "      <td id=\"T_67ed7_row2_col3\" class=\"data row2 col3\" >0.888001</td>\n",
       "      <td id=\"T_67ed7_row2_col4\" class=\"data row2 col4\" >6,569,088</td>\n",
       "      <td id=\"T_67ed7_row2_col5\" class=\"data row2 col5\" >0.084599</td>\n",
       "      <td id=\"T_67ed7_row2_col6\" class=\"data row2 col6\" >0.022963</td>\n",
       "      <td id=\"T_67ed7_row2_col7\" class=\"data row2 col7\" >Libya</td>\n",
       "    </tr>\n",
       "    <tr>\n",
       "      <th id=\"T_67ed7_level0_row3\" class=\"row_heading level0 row3\" >4</th>\n",
       "      <td id=\"T_67ed7_row3_col0\" class=\"data row3 col0\" >QAT</td>\n",
       "      <td id=\"T_67ed7_row3_col1\" class=\"data row3 col1\" >2019</td>\n",
       "      <td id=\"T_67ed7_row3_col2\" class=\"data row3 col2\" >53,467</td>\n",
       "      <td id=\"T_67ed7_row3_col3\" class=\"data row3 col3\" >0.314746</td>\n",
       "      <td id=\"T_67ed7_row3_col4\" class=\"data row3 col4\" >2,807,235</td>\n",
       "      <td id=\"T_67ed7_row3_col5\" class=\"data row3 col5\" >0.036153</td>\n",
       "      <td id=\"T_67ed7_row3_col6\" class=\"data row3 col6\" >0.019046</td>\n",
       "      <td id=\"T_67ed7_row3_col7\" class=\"data row3 col7\" >Qatar</td>\n",
       "    </tr>\n",
       "    <tr>\n",
       "      <th id=\"T_67ed7_level0_row4\" class=\"row_heading level0 row4\" >5</th>\n",
       "      <td id=\"T_67ed7_row4_col0\" class=\"data row4 col0\" >BHR</td>\n",
       "      <td id=\"T_67ed7_row4_col1\" class=\"data row4 col1\" >2019</td>\n",
       "      <td id=\"T_67ed7_row4_col2\" class=\"data row4 col2\" >26,093</td>\n",
       "      <td id=\"T_67ed7_row4_col3\" class=\"data row4 col3\" >0.153602</td>\n",
       "      <td id=\"T_67ed7_row4_col4\" class=\"data row4 col4\" >1,494,189</td>\n",
       "      <td id=\"T_67ed7_row4_col5\" class=\"data row4 col5\" >0.019243</td>\n",
       "      <td id=\"T_67ed7_row4_col6\" class=\"data row4 col6\" >0.017463</td>\n",
       "      <td id=\"T_67ed7_row4_col7\" class=\"data row4 col7\" >Bahrain</td>\n",
       "    </tr>\n",
       "    <tr>\n",
       "      <th id=\"T_67ed7_level0_row5\" class=\"row_heading level0 row5\" >6</th>\n",
       "      <td id=\"T_67ed7_row5_col0\" class=\"data row5 col0\" >DZA</td>\n",
       "      <td id=\"T_67ed7_row5_col1\" class=\"data row5 col1\" >2019</td>\n",
       "      <td id=\"T_67ed7_row5_col2\" class=\"data row5 col2\" >700,535</td>\n",
       "      <td id=\"T_67ed7_row5_col3\" class=\"data row5 col3\" >4.123860</td>\n",
       "      <td id=\"T_67ed7_row5_col4\" class=\"data row5 col4\" >42,705,369</td>\n",
       "      <td id=\"T_67ed7_row5_col5\" class=\"data row5 col5\" >0.549976</td>\n",
       "      <td id=\"T_67ed7_row5_col6\" class=\"data row5 col6\" >0.016404</td>\n",
       "      <td id=\"T_67ed7_row5_col7\" class=\"data row5 col7\" >Algeria</td>\n",
       "    </tr>\n",
       "    <tr>\n",
       "      <th id=\"T_67ed7_level0_row6\" class=\"row_heading level0 row6\" >7</th>\n",
       "      <td id=\"T_67ed7_row6_col0\" class=\"data row6 col0\" >SYC</td>\n",
       "      <td id=\"T_67ed7_row6_col1\" class=\"data row6 col1\" >2019</td>\n",
       "      <td id=\"T_67ed7_row6_col2\" class=\"data row6 col2\" >1,501</td>\n",
       "      <td id=\"T_67ed7_row6_col3\" class=\"data row6 col3\" >0.008836</td>\n",
       "      <td id=\"T_67ed7_row6_col4\" class=\"data row6 col4\" >104,373</td>\n",
       "      <td id=\"T_67ed7_row6_col5\" class=\"data row6 col5\" >0.001344</td>\n",
       "      <td id=\"T_67ed7_row6_col6\" class=\"data row6 col6\" >0.014381</td>\n",
       "      <td id=\"T_67ed7_row6_col7\" class=\"data row6 col7\" >Seychelles</td>\n",
       "    </tr>\n",
       "    <tr>\n",
       "      <th id=\"T_67ed7_level0_row7\" class=\"row_heading level0 row7\" >8</th>\n",
       "      <td id=\"T_67ed7_row7_col0\" class=\"data row7 col0\" >SAU</td>\n",
       "      <td id=\"T_67ed7_row7_col1\" class=\"data row7 col1\" >2019</td>\n",
       "      <td id=\"T_67ed7_row7_col2\" class=\"data row7 col2\" >514,832</td>\n",
       "      <td id=\"T_67ed7_row7_col3\" class=\"data row7 col3\" >3.030677</td>\n",
       "      <td id=\"T_67ed7_row7_col4\" class=\"data row7 col4\" >35,827,362</td>\n",
       "      <td id=\"T_67ed7_row7_col5\" class=\"data row7 col5\" >0.461398</td>\n",
       "      <td id=\"T_67ed7_row7_col6\" class=\"data row7 col6\" >0.014370</td>\n",
       "      <td id=\"T_67ed7_row7_col7\" class=\"data row7 col7\" >Saudi Arabia</td>\n",
       "    </tr>\n",
       "    <tr>\n",
       "      <th id=\"T_67ed7_level0_row8\" class=\"row_heading level0 row8\" >9</th>\n",
       "      <td id=\"T_67ed7_row8_col0\" class=\"data row8 col0\" >KWT</td>\n",
       "      <td id=\"T_67ed7_row8_col1\" class=\"data row8 col1\" >2019</td>\n",
       "      <td id=\"T_67ed7_row8_col2\" class=\"data row8 col2\" >63,492</td>\n",
       "      <td id=\"T_67ed7_row8_col3\" class=\"data row8 col3\" >0.373760</td>\n",
       "      <td id=\"T_67ed7_row8_col4\" class=\"data row8 col4\" >4,441,100</td>\n",
       "      <td id=\"T_67ed7_row8_col5\" class=\"data row8 col5\" >0.057194</td>\n",
       "      <td id=\"T_67ed7_row8_col6\" class=\"data row8 col6\" >0.014296</td>\n",
       "      <td id=\"T_67ed7_row8_col7\" class=\"data row8 col7\" >Kuwait</td>\n",
       "    </tr>\n",
       "    <tr>\n",
       "      <th id=\"T_67ed7_level0_row9\" class=\"row_heading level0 row9\" >10</th>\n",
       "      <td id=\"T_67ed7_row9_col0\" class=\"data row9 col0\" >JOR</td>\n",
       "      <td id=\"T_67ed7_row9_col1\" class=\"data row9 col1\" >2019</td>\n",
       "      <td id=\"T_67ed7_row9_col2\" class=\"data row9 col2\" >123,537</td>\n",
       "      <td id=\"T_67ed7_row9_col3\" class=\"data row9 col3\" >0.727229</td>\n",
       "      <td id=\"T_67ed7_row9_col4\" class=\"data row9 col4\" >10,698,684</td>\n",
       "      <td id=\"T_67ed7_row9_col5\" class=\"data row9 col5\" >0.137782</td>\n",
       "      <td id=\"T_67ed7_row9_col6\" class=\"data row9 col6\" >0.011547</td>\n",
       "      <td id=\"T_67ed7_row9_col7\" class=\"data row9 col7\" >Jordan</td>\n",
       "    </tr>\n",
       "    <tr>\n",
       "      <th id=\"T_67ed7_level0_row10\" class=\"row_heading level0 row10\" >11</th>\n",
       "      <td id=\"T_67ed7_row10_col0\" class=\"data row10 col0\" >MDV</td>\n",
       "      <td id=\"T_67ed7_row10_col1\" class=\"data row10 col1\" >2019</td>\n",
       "      <td id=\"T_67ed7_row10_col2\" class=\"data row10 col2\" >4,865</td>\n",
       "      <td id=\"T_67ed7_row10_col3\" class=\"data row10 col3\" >0.028639</td>\n",
       "      <td id=\"T_67ed7_row10_col4\" class=\"data row10 col4\" >504,508</td>\n",
       "      <td id=\"T_67ed7_row10_col5\" class=\"data row10 col5\" >0.006497</td>\n",
       "      <td id=\"T_67ed7_row10_col6\" class=\"data row10 col6\" >0.009643</td>\n",
       "      <td id=\"T_67ed7_row10_col7\" class=\"data row10 col7\" >Maldives</td>\n",
       "    </tr>\n",
       "    <tr>\n",
       "      <th id=\"T_67ed7_level0_row11\" class=\"row_heading level0 row11\" >12</th>\n",
       "      <td id=\"T_67ed7_row11_col0\" class=\"data row11 col0\" >MCO</td>\n",
       "      <td id=\"T_67ed7_row11_col1\" class=\"data row11 col1\" >2019</td>\n",
       "      <td id=\"T_67ed7_row11_col2\" class=\"data row11 col2\" >340</td>\n",
       "      <td id=\"T_67ed7_row11_col3\" class=\"data row11 col3\" >0.002001</td>\n",
       "      <td id=\"T_67ed7_row11_col4\" class=\"data row11 col4\" >37,034</td>\n",
       "      <td id=\"T_67ed7_row11_col5\" class=\"data row11 col5\" >0.000477</td>\n",
       "      <td id=\"T_67ed7_row11_col6\" class=\"data row11 col6\" >0.009181</td>\n",
       "      <td id=\"T_67ed7_row11_col7\" class=\"data row11 col7\" >Monaco</td>\n",
       "    </tr>\n",
       "    <tr>\n",
       "      <th id=\"T_67ed7_level0_row12\" class=\"row_heading level0 row12\" >13</th>\n",
       "      <td id=\"T_67ed7_row12_col0\" class=\"data row12 col0\" >OMN</td>\n",
       "      <td id=\"T_67ed7_row12_col1\" class=\"data row12 col1\" >2019</td>\n",
       "      <td id=\"T_67ed7_row12_col2\" class=\"data row12 col2\" >41,494</td>\n",
       "      <td id=\"T_67ed7_row12_col3\" class=\"data row12 col3\" >0.244264</td>\n",
       "      <td id=\"T_67ed7_row12_col4\" class=\"data row12 col4\" >4,602,768</td>\n",
       "      <td id=\"T_67ed7_row12_col5\" class=\"data row12 col5\" >0.059276</td>\n",
       "      <td id=\"T_67ed7_row12_col6\" class=\"data row12 col6\" >0.009015</td>\n",
       "      <td id=\"T_67ed7_row12_col7\" class=\"data row12 col7\" >Oman</td>\n",
       "    </tr>\n",
       "    <tr>\n",
       "      <th id=\"T_67ed7_level0_row13\" class=\"row_heading level0 row13\" >14</th>\n",
       "      <td id=\"T_67ed7_row13_col0\" class=\"data row13 col0\" >MAR</td>\n",
       "      <td id=\"T_67ed7_row13_col1\" class=\"data row13 col1\" >2019</td>\n",
       "      <td id=\"T_67ed7_row13_col2\" class=\"data row13 col2\" >322,889</td>\n",
       "      <td id=\"T_67ed7_row13_col3\" class=\"data row13 col3\" >1.900760</td>\n",
       "      <td id=\"T_67ed7_row13_col4\" class=\"data row13 col4\" >36,304,408</td>\n",
       "      <td id=\"T_67ed7_row13_col5\" class=\"data row13 col5\" >0.467542</td>\n",
       "      <td id=\"T_67ed7_row13_col6\" class=\"data row13 col6\" >0.008894</td>\n",
       "      <td id=\"T_67ed7_row13_col7\" class=\"data row13 col7\" >Morocco</td>\n",
       "    </tr>\n",
       "    <tr>\n",
       "      <th id=\"T_67ed7_level0_row14\" class=\"row_heading level0 row14\" >15</th>\n",
       "      <td id=\"T_67ed7_row14_col0\" class=\"data row14 col0\" >PSE</td>\n",
       "      <td id=\"T_67ed7_row14_col1\" class=\"data row14 col1\" >2019</td>\n",
       "      <td id=\"T_67ed7_row14_col2\" class=\"data row14 col2\" >37,008</td>\n",
       "      <td id=\"T_67ed7_row14_col3\" class=\"data row14 col3\" >0.217856</td>\n",
       "      <td id=\"T_67ed7_row14_col4\" class=\"data row14 col4\" >4,909,775</td>\n",
       "      <td id=\"T_67ed7_row14_col5\" class=\"data row14 col5\" >0.063230</td>\n",
       "      <td id=\"T_67ed7_row14_col6\" class=\"data row14 col6\" >0.007538</td>\n",
       "      <td id=\"T_67ed7_row14_col7\" class=\"data row14 col7\" >Palestine</td>\n",
       "    </tr>\n",
       "    <tr>\n",
       "      <th id=\"T_67ed7_level0_row15\" class=\"row_heading level0 row15\" >16</th>\n",
       "      <td id=\"T_67ed7_row15_col0\" class=\"data row15 col0\" >PHL</td>\n",
       "      <td id=\"T_67ed7_row15_col1\" class=\"data row15 col1\" >2019</td>\n",
       "      <td id=\"T_67ed7_row15_col2\" class=\"data row15 col2\" >801,272</td>\n",
       "      <td id=\"T_67ed7_row15_col3\" class=\"data row15 col3\" >4.716872</td>\n",
       "      <td id=\"T_67ed7_row15_col4\" class=\"data row15 col4\" >110,380,805</td>\n",
       "      <td id=\"T_67ed7_row15_col5\" class=\"data row15 col5\" >1.421526</td>\n",
       "      <td id=\"T_67ed7_row15_col6\" class=\"data row15 col6\" >0.007259</td>\n",
       "      <td id=\"T_67ed7_row15_col7\" class=\"data row15 col7\" >Philippines</td>\n",
       "    </tr>\n",
       "    <tr>\n",
       "      <th id=\"T_67ed7_level0_row16\" class=\"row_heading level0 row16\" >17</th>\n",
       "      <td id=\"T_67ed7_row16_col0\" class=\"data row16 col0\" >MEX</td>\n",
       "      <td id=\"T_67ed7_row16_col1\" class=\"data row16 col1\" >2019</td>\n",
       "      <td id=\"T_67ed7_row16_col2\" class=\"data row16 col2\" >827,988</td>\n",
       "      <td id=\"T_67ed7_row16_col3\" class=\"data row16 col3\" >4.874141</td>\n",
       "      <td id=\"T_67ed7_row16_col4\" class=\"data row16 col4\" >125,085,311</td>\n",
       "      <td id=\"T_67ed7_row16_col5\" class=\"data row16 col5\" >1.610896</td>\n",
       "      <td id=\"T_67ed7_row16_col6\" class=\"data row16 col6\" >0.006619</td>\n",
       "      <td id=\"T_67ed7_row16_col7\" class=\"data row16 col7\" >Mexico</td>\n",
       "    </tr>\n",
       "    <tr>\n",
       "      <th id=\"T_67ed7_level0_row17\" class=\"row_heading level0 row17\" >18</th>\n",
       "      <td id=\"T_67ed7_row17_col0\" class=\"data row17 col0\" >USA</td>\n",
       "      <td id=\"T_67ed7_row17_col1\" class=\"data row17 col1\" >2019</td>\n",
       "      <td id=\"T_67ed7_row17_col2\" class=\"data row17 col2\" >2,189,815</td>\n",
       "      <td id=\"T_67ed7_row17_col3\" class=\"data row17 col3\" >12.890849</td>\n",
       "      <td id=\"T_67ed7_row17_col4\" class=\"data row17 col4\" >334,319,671</td>\n",
       "      <td id=\"T_67ed7_row17_col5\" class=\"data row17 col5\" >4.305496</td>\n",
       "      <td id=\"T_67ed7_row17_col6\" class=\"data row17 col6\" >0.006550</td>\n",
       "      <td id=\"T_67ed7_row17_col7\" class=\"data row17 col7\" >United States of America</td>\n",
       "    </tr>\n",
       "    <tr>\n",
       "      <th id=\"T_67ed7_level0_row18\" class=\"row_heading level0 row18\" >19</th>\n",
       "      <td id=\"T_67ed7_row18_col0\" class=\"data row18 col0\" >ALB</td>\n",
       "      <td id=\"T_67ed7_row18_col1\" class=\"data row18 col1\" >2019</td>\n",
       "      <td id=\"T_67ed7_row18_col2\" class=\"data row18 col2\" >17,545</td>\n",
       "      <td id=\"T_67ed7_row18_col3\" class=\"data row18 col3\" >0.103283</td>\n",
       "      <td id=\"T_67ed7_row18_col4\" class=\"data row18 col4\" >2,873,884</td>\n",
       "      <td id=\"T_67ed7_row18_col5\" class=\"data row18 col5\" >0.037011</td>\n",
       "      <td id=\"T_67ed7_row18_col6\" class=\"data row18 col6\" >0.006105</td>\n",
       "      <td id=\"T_67ed7_row18_col7\" class=\"data row18 col7\" >Albania</td>\n",
       "    </tr>\n",
       "    <tr>\n",
       "      <th id=\"T_67ed7_level0_row19\" class=\"row_heading level0 row19\" >20</th>\n",
       "      <td id=\"T_67ed7_row19_col0\" class=\"data row19 col0\" >BTN</td>\n",
       "      <td id=\"T_67ed7_row19_col1\" class=\"data row19 col1\" >2019</td>\n",
       "      <td id=\"T_67ed7_row19_col2\" class=\"data row19 col2\" >4,597</td>\n",
       "      <td id=\"T_67ed7_row19_col3\" class=\"data row19 col3\" >0.027061</td>\n",
       "      <td id=\"T_67ed7_row19_col4\" class=\"data row19 col4\" >767,459</td>\n",
       "      <td id=\"T_67ed7_row19_col5\" class=\"data row19 col5\" >0.009884</td>\n",
       "      <td id=\"T_67ed7_row19_col6\" class=\"data row19 col6\" >0.005990</td>\n",
       "      <td id=\"T_67ed7_row19_col7\" class=\"data row19 col7\" >Bhutan</td>\n",
       "    </tr>\n",
       "  </tbody>\n",
       "</table>\n"
      ],
      "text/plain": [
       "<IPython.core.display.HTML object>"
      ]
     },
     "metadata": {},
     "output_type": "display_data"
    },
    {
     "data": {
      "text/html": [
       "<style type=\"text/css\">\n",
       "#T_e16c9 caption {\n",
       "  caption-side: bottom;\n",
       "  font-style: italic;\n",
       "  margin-top: 1ex;\n",
       "}\n",
       "#T_e16c9_row0_col6, #T_e16c9_row1_col6, #T_e16c9_row2_col6, #T_e16c9_row3_col6, #T_e16c9_row4_col6, #T_e16c9_row5_col6, #T_e16c9_row6_col6, #T_e16c9_row7_col6, #T_e16c9_row8_col6, #T_e16c9_row9_col6, #T_e16c9_row10_col6, #T_e16c9_row11_col6, #T_e16c9_row12_col6, #T_e16c9_row13_col6, #T_e16c9_row14_col6, #T_e16c9_row15_col6, #T_e16c9_row16_col6, #T_e16c9_row17_col6, #T_e16c9_row18_col6, #T_e16c9_row19_col6 {\n",
       "  background-color: #ffffb3;\n",
       "}\n",
       "</style>\n",
       "<table id=\"T_e16c9\">\n",
       "  <caption>reports per capita and country 2020</caption>\n",
       "  <thead>\n",
       "    <tr>\n",
       "      <th class=\"blank level0\" >&nbsp;</th>\n",
       "      <th id=\"T_e16c9_level0_col0\" class=\"col_heading level0 col0\" >iso3</th>\n",
       "      <th id=\"T_e16c9_level0_col1\" class=\"col_heading level0 col1\" >year</th>\n",
       "      <th id=\"T_e16c9_level0_col2\" class=\"col_heading level0 col2\" >reports</th>\n",
       "      <th id=\"T_e16c9_level0_col3\" class=\"col_heading level0 col3\" >reports_pct</th>\n",
       "      <th id=\"T_e16c9_level0_col4\" class=\"col_heading level0 col4\" >population</th>\n",
       "      <th id=\"T_e16c9_level0_col5\" class=\"col_heading level0 col5\" >population_pct</th>\n",
       "      <th id=\"T_e16c9_level0_col6\" class=\"col_heading level0 col6\" >reports_per_capita</th>\n",
       "      <th id=\"T_e16c9_level0_col7\" class=\"col_heading level0 col7\" >country</th>\n",
       "    </tr>\n",
       "    <tr>\n",
       "      <th class=\"index_name level0\" >rank</th>\n",
       "      <th class=\"blank col0\" >&nbsp;</th>\n",
       "      <th class=\"blank col1\" >&nbsp;</th>\n",
       "      <th class=\"blank col2\" >&nbsp;</th>\n",
       "      <th class=\"blank col3\" >&nbsp;</th>\n",
       "      <th class=\"blank col4\" >&nbsp;</th>\n",
       "      <th class=\"blank col5\" >&nbsp;</th>\n",
       "      <th class=\"blank col6\" >&nbsp;</th>\n",
       "      <th class=\"blank col7\" >&nbsp;</th>\n",
       "    </tr>\n",
       "  </thead>\n",
       "  <tbody>\n",
       "    <tr>\n",
       "      <th id=\"T_e16c9_level0_row0\" class=\"row_heading level0 row0\" >1</th>\n",
       "      <td id=\"T_e16c9_row0_col0\" class=\"data row0 col0\" >LBY</td>\n",
       "      <td id=\"T_e16c9_row0_col1\" class=\"data row0 col1\" >2020</td>\n",
       "      <td id=\"T_e16c9_row0_col2\" class=\"data row0 col2\" >189,955</td>\n",
       "      <td id=\"T_e16c9_row0_col3\" class=\"data row0 col3\" >0.873313</td>\n",
       "      <td id=\"T_e16c9_row0_col4\" class=\"data row0 col4\" >6,653,942</td>\n",
       "      <td id=\"T_e16c9_row0_col5\" class=\"data row0 col5\" >0.084861</td>\n",
       "      <td id=\"T_e16c9_row0_col6\" class=\"data row0 col6\" >0.028548</td>\n",
       "      <td id=\"T_e16c9_row0_col7\" class=\"data row0 col7\" >Libya</td>\n",
       "    </tr>\n",
       "    <tr>\n",
       "      <th id=\"T_e16c9_level0_row1\" class=\"row_heading level0 row1\" >2</th>\n",
       "      <td id=\"T_e16c9_row1_col0\" class=\"data row1 col0\" >DZA</td>\n",
       "      <td id=\"T_e16c9_row1_col1\" class=\"data row1 col1\" >2020</td>\n",
       "      <td id=\"T_e16c9_row1_col2\" class=\"data row1 col2\" >1,102,939</td>\n",
       "      <td id=\"T_e16c9_row1_col3\" class=\"data row1 col3\" >5.070731</td>\n",
       "      <td id=\"T_e16c9_row1_col4\" class=\"data row1 col4\" >43,451,666</td>\n",
       "      <td id=\"T_e16c9_row1_col5\" class=\"data row1 col5\" >0.554163</td>\n",
       "      <td id=\"T_e16c9_row1_col6\" class=\"data row1 col6\" >0.025383</td>\n",
       "      <td id=\"T_e16c9_row1_col7\" class=\"data row1 col7\" >Algeria</td>\n",
       "    </tr>\n",
       "    <tr>\n",
       "      <th id=\"T_e16c9_level0_row2\" class=\"row_heading level0 row2\" >3</th>\n",
       "      <td id=\"T_e16c9_row2_col0\" class=\"data row2 col0\" >MCO</td>\n",
       "      <td id=\"T_e16c9_row2_col1\" class=\"data row2 col1\" >2020</td>\n",
       "      <td id=\"T_e16c9_row2_col2\" class=\"data row2 col2\" >886</td>\n",
       "      <td id=\"T_e16c9_row2_col3\" class=\"data row2 col3\" >0.004073</td>\n",
       "      <td id=\"T_e16c9_row2_col4\" class=\"data row2 col4\" >36,922</td>\n",
       "      <td id=\"T_e16c9_row2_col5\" class=\"data row2 col5\" >0.000471</td>\n",
       "      <td id=\"T_e16c9_row2_col6\" class=\"data row2 col6\" >0.023997</td>\n",
       "      <td id=\"T_e16c9_row2_col7\" class=\"data row2 col7\" >Monaco</td>\n",
       "    </tr>\n",
       "    <tr>\n",
       "      <th id=\"T_e16c9_level0_row3\" class=\"row_heading level0 row3\" >4</th>\n",
       "      <td id=\"T_e16c9_row3_col0\" class=\"data row3 col0\" >ARE</td>\n",
       "      <td id=\"T_e16c9_row3_col1\" class=\"data row3 col1\" >2020</td>\n",
       "      <td id=\"T_e16c9_row3_col2\" class=\"data row3 col2\" >216,874</td>\n",
       "      <td id=\"T_e16c9_row3_col3\" class=\"data row3 col3\" >0.997072</td>\n",
       "      <td id=\"T_e16c9_row3_col4\" class=\"data row3 col4\" >9,287,289</td>\n",
       "      <td id=\"T_e16c9_row3_col5\" class=\"data row3 col5\" >0.118446</td>\n",
       "      <td id=\"T_e16c9_row3_col6\" class=\"data row3 col6\" >0.023352</td>\n",
       "      <td id=\"T_e16c9_row3_col7\" class=\"data row3 col7\" >United Arab Emirates</td>\n",
       "    </tr>\n",
       "    <tr>\n",
       "      <th id=\"T_e16c9_level0_row4\" class=\"row_heading level0 row4\" >5</th>\n",
       "      <td id=\"T_e16c9_row4_col0\" class=\"data row4 col0\" >IRQ</td>\n",
       "      <td id=\"T_e16c9_row4_col1\" class=\"data row4 col1\" >2020</td>\n",
       "      <td id=\"T_e16c9_row4_col2\" class=\"data row4 col2\" >919,966</td>\n",
       "      <td id=\"T_e16c9_row4_col3\" class=\"data row4 col3\" >4.229518</td>\n",
       "      <td id=\"T_e16c9_row4_col4\" class=\"data row4 col4\" >42,556,984</td>\n",
       "      <td id=\"T_e16c9_row4_col5\" class=\"data row4 col5\" >0.542753</td>\n",
       "      <td id=\"T_e16c9_row4_col6\" class=\"data row4 col6\" >0.021617</td>\n",
       "      <td id=\"T_e16c9_row4_col7\" class=\"data row4 col7\" >Iraq</td>\n",
       "    </tr>\n",
       "    <tr>\n",
       "      <th id=\"T_e16c9_level0_row5\" class=\"row_heading level0 row5\" >6</th>\n",
       "      <td id=\"T_e16c9_row5_col0\" class=\"data row5 col0\" >QAT</td>\n",
       "      <td id=\"T_e16c9_row5_col1\" class=\"data row5 col1\" >2020</td>\n",
       "      <td id=\"T_e16c9_row5_col2\" class=\"data row5 col2\" >56,683</td>\n",
       "      <td id=\"T_e16c9_row5_col3\" class=\"data row5 col3\" >0.260598</td>\n",
       "      <td id=\"T_e16c9_row5_col4\" class=\"data row5 col4\" >2,760,385</td>\n",
       "      <td id=\"T_e16c9_row5_col5\" class=\"data row5 col5\" >0.035205</td>\n",
       "      <td id=\"T_e16c9_row5_col6\" class=\"data row5 col6\" >0.020534</td>\n",
       "      <td id=\"T_e16c9_row5_col7\" class=\"data row5 col7\" >Qatar</td>\n",
       "    </tr>\n",
       "    <tr>\n",
       "      <th id=\"T_e16c9_level0_row6\" class=\"row_heading level0 row6\" >7</th>\n",
       "      <td id=\"T_e16c9_row6_col0\" class=\"data row6 col0\" >BTN</td>\n",
       "      <td id=\"T_e16c9_row6_col1\" class=\"data row6 col1\" >2020</td>\n",
       "      <td id=\"T_e16c9_row6_col2\" class=\"data row6 col2\" >15,379</td>\n",
       "      <td id=\"T_e16c9_row6_col3\" class=\"data row6 col3\" >0.070705</td>\n",
       "      <td id=\"T_e16c9_row6_col4\" class=\"data row6 col4\" >772,506</td>\n",
       "      <td id=\"T_e16c9_row6_col5\" class=\"data row6 col5\" >0.009852</td>\n",
       "      <td id=\"T_e16c9_row6_col6\" class=\"data row6 col6\" >0.019908</td>\n",
       "      <td id=\"T_e16c9_row6_col7\" class=\"data row6 col7\" >Bhutan</td>\n",
       "    </tr>\n",
       "    <tr>\n",
       "      <th id=\"T_e16c9_level0_row7\" class=\"row_heading level0 row7\" >8</th>\n",
       "      <td id=\"T_e16c9_row7_col0\" class=\"data row7 col0\" >MAR</td>\n",
       "      <td id=\"T_e16c9_row7_col1\" class=\"data row7 col1\" >2020</td>\n",
       "      <td id=\"T_e16c9_row7_col2\" class=\"data row7 col2\" >705,863</td>\n",
       "      <td id=\"T_e16c9_row7_col3\" class=\"data row7 col3\" >3.245185</td>\n",
       "      <td id=\"T_e16c9_row7_col4\" class=\"data row7 col4\" >36,688,772</td>\n",
       "      <td id=\"T_e16c9_row7_col5\" class=\"data row7 col5\" >0.467912</td>\n",
       "      <td id=\"T_e16c9_row7_col6\" class=\"data row7 col6\" >0.019239</td>\n",
       "      <td id=\"T_e16c9_row7_col7\" class=\"data row7 col7\" >Morocco</td>\n",
       "    </tr>\n",
       "    <tr>\n",
       "      <th id=\"T_e16c9_level0_row8\" class=\"row_heading level0 row8\" >9</th>\n",
       "      <td id=\"T_e16c9_row8_col0\" class=\"data row8 col0\" >KWT</td>\n",
       "      <td id=\"T_e16c9_row8_col1\" class=\"data row8 col1\" >2020</td>\n",
       "      <td id=\"T_e16c9_row8_col2\" class=\"data row8 col2\" >68,582</td>\n",
       "      <td id=\"T_e16c9_row8_col3\" class=\"data row8 col3\" >0.315304</td>\n",
       "      <td id=\"T_e16c9_row8_col4\" class=\"data row8 col4\" >4,360,445</td>\n",
       "      <td id=\"T_e16c9_row8_col5\" class=\"data row8 col5\" >0.055611</td>\n",
       "      <td id=\"T_e16c9_row8_col6\" class=\"data row8 col6\" >0.015728</td>\n",
       "      <td id=\"T_e16c9_row8_col7\" class=\"data row8 col7\" >Kuwait</td>\n",
       "    </tr>\n",
       "    <tr>\n",
       "      <th id=\"T_e16c9_level0_row9\" class=\"row_heading level0 row9\" >10</th>\n",
       "      <td id=\"T_e16c9_row9_col0\" class=\"data row9 col0\" >BHR</td>\n",
       "      <td id=\"T_e16c9_row9_col1\" class=\"data row9 col1\" >2020</td>\n",
       "      <td id=\"T_e16c9_row9_col2\" class=\"data row9 col2\" >22,960</td>\n",
       "      <td id=\"T_e16c9_row9_col3\" class=\"data row9 col3\" >0.105558</td>\n",
       "      <td id=\"T_e16c9_row9_col4\" class=\"data row9 col4\" >1,477,469</td>\n",
       "      <td id=\"T_e16c9_row9_col5\" class=\"data row9 col5\" >0.018843</td>\n",
       "      <td id=\"T_e16c9_row9_col6\" class=\"data row9 col6\" >0.015540</td>\n",
       "      <td id=\"T_e16c9_row9_col7\" class=\"data row9 col7\" >Bahrain</td>\n",
       "    </tr>\n",
       "    <tr>\n",
       "      <th id=\"T_e16c9_level0_row10\" class=\"row_heading level0 row10\" >11</th>\n",
       "      <td id=\"T_e16c9_row10_col0\" class=\"data row10 col0\" >COL</td>\n",
       "      <td id=\"T_e16c9_row10_col1\" class=\"data row10 col1\" >2020</td>\n",
       "      <td id=\"T_e16c9_row10_col2\" class=\"data row10 col2\" >763,997</td>\n",
       "      <td id=\"T_e16c9_row10_col3\" class=\"data row10 col3\" >3.512455</td>\n",
       "      <td id=\"T_e16c9_row10_col4\" class=\"data row10 col4\" >50,930,663</td>\n",
       "      <td id=\"T_e16c9_row10_col5\" class=\"data row10 col5\" >0.649547</td>\n",
       "      <td id=\"T_e16c9_row10_col6\" class=\"data row10 col6\" >0.015001</td>\n",
       "      <td id=\"T_e16c9_row10_col7\" class=\"data row10 col7\" >Colombia</td>\n",
       "    </tr>\n",
       "    <tr>\n",
       "      <th id=\"T_e16c9_level0_row11\" class=\"row_heading level0 row11\" >12</th>\n",
       "      <td id=\"T_e16c9_row11_col0\" class=\"data row11 col0\" >PER</td>\n",
       "      <td id=\"T_e16c9_row11_col1\" class=\"data row11 col1\" >2020</td>\n",
       "      <td id=\"T_e16c9_row11_col2\" class=\"data row11 col2\" >490,878</td>\n",
       "      <td id=\"T_e16c9_row11_col3\" class=\"data row11 col3\" >2.256798</td>\n",
       "      <td id=\"T_e16c9_row11_col4\" class=\"data row11 col4\" >33,304,756</td>\n",
       "      <td id=\"T_e16c9_row11_col5\" class=\"data row11 col5\" >0.424754</td>\n",
       "      <td id=\"T_e16c9_row11_col6\" class=\"data row11 col6\" >0.014739</td>\n",
       "      <td id=\"T_e16c9_row11_col7\" class=\"data row11 col7\" >Peru</td>\n",
       "    </tr>\n",
       "    <tr>\n",
       "      <th id=\"T_e16c9_level0_row12\" class=\"row_heading level0 row12\" >13</th>\n",
       "      <td id=\"T_e16c9_row12_col0\" class=\"data row12 col0\" >SAU</td>\n",
       "      <td id=\"T_e16c9_row12_col1\" class=\"data row12 col1\" >2020</td>\n",
       "      <td id=\"T_e16c9_row12_col2\" class=\"data row12 col2\" >510,240</td>\n",
       "      <td id=\"T_e16c9_row12_col3\" class=\"data row12 col3\" >2.345814</td>\n",
       "      <td id=\"T_e16c9_row12_col4\" class=\"data row12 col4\" >35,997,107</td>\n",
       "      <td id=\"T_e16c9_row12_col5\" class=\"data row12 col5\" >0.459091</td>\n",
       "      <td id=\"T_e16c9_row12_col6\" class=\"data row12 col6\" >0.014174</td>\n",
       "      <td id=\"T_e16c9_row12_col7\" class=\"data row12 col7\" >Saudi Arabia</td>\n",
       "    </tr>\n",
       "    <tr>\n",
       "      <th id=\"T_e16c9_level0_row13\" class=\"row_heading level0 row13\" >14</th>\n",
       "      <td id=\"T_e16c9_row13_col0\" class=\"data row13 col0\" >ECU</td>\n",
       "      <td id=\"T_e16c9_row13_col1\" class=\"data row13 col1\" >2020</td>\n",
       "      <td id=\"T_e16c9_row13_col2\" class=\"data row13 col2\" >242,631</td>\n",
       "      <td id=\"T_e16c9_row13_col3\" class=\"data row13 col3\" >1.115489</td>\n",
       "      <td id=\"T_e16c9_row13_col4\" class=\"data row13 col4\" >17,588,596</td>\n",
       "      <td id=\"T_e16c9_row13_col5\" class=\"data row13 col5\" >0.224317</td>\n",
       "      <td id=\"T_e16c9_row13_col6\" class=\"data row13 col6\" >0.013795</td>\n",
       "      <td id=\"T_e16c9_row13_col7\" class=\"data row13 col7\" >Ecuador</td>\n",
       "    </tr>\n",
       "    <tr>\n",
       "      <th id=\"T_e16c9_level0_row14\" class=\"row_heading level0 row14\" >15</th>\n",
       "      <td id=\"T_e16c9_row14_col0\" class=\"data row14 col0\" >MDV</td>\n",
       "      <td id=\"T_e16c9_row14_col1\" class=\"data row14 col1\" >2020</td>\n",
       "      <td id=\"T_e16c9_row14_col2\" class=\"data row14 col2\" >6,627</td>\n",
       "      <td id=\"T_e16c9_row14_col3\" class=\"data row14 col3\" >0.030467</td>\n",
       "      <td id=\"T_e16c9_row14_col4\" class=\"data row14 col4\" >514,438</td>\n",
       "      <td id=\"T_e16c9_row14_col5\" class=\"data row14 col5\" >0.006561</td>\n",
       "      <td id=\"T_e16c9_row14_col6\" class=\"data row14 col6\" >0.012882</td>\n",
       "      <td id=\"T_e16c9_row14_col7\" class=\"data row14 col7\" >Maldives</td>\n",
       "    </tr>\n",
       "    <tr>\n",
       "      <th id=\"T_e16c9_level0_row15\" class=\"row_heading level0 row15\" >16</th>\n",
       "      <td id=\"T_e16c9_row15_col0\" class=\"data row15 col0\" >PHL</td>\n",
       "      <td id=\"T_e16c9_row15_col1\" class=\"data row15 col1\" >2020</td>\n",
       "      <td id=\"T_e16c9_row15_col2\" class=\"data row15 col2\" >1,339,597</td>\n",
       "      <td id=\"T_e16c9_row15_col3\" class=\"data row15 col3\" >6.158759</td>\n",
       "      <td id=\"T_e16c9_row15_col4\" class=\"data row15 col4\" >112,190,978</td>\n",
       "      <td id=\"T_e16c9_row15_col5\" class=\"data row15 col5\" >1.430834</td>\n",
       "      <td id=\"T_e16c9_row15_col6\" class=\"data row15 col6\" >0.011940</td>\n",
       "      <td id=\"T_e16c9_row15_col7\" class=\"data row15 col7\" >Philippines</td>\n",
       "    </tr>\n",
       "    <tr>\n",
       "      <th id=\"T_e16c9_level0_row16\" class=\"row_heading level0 row16\" >17</th>\n",
       "      <td id=\"T_e16c9_row16_col0\" class=\"data row16 col0\" >SLV</td>\n",
       "      <td id=\"T_e16c9_row16_col1\" class=\"data row16 col1\" >2020</td>\n",
       "      <td id=\"T_e16c9_row16_col2\" class=\"data row16 col2\" >73,197</td>\n",
       "      <td id=\"T_e16c9_row16_col3\" class=\"data row16 col3\" >0.336521</td>\n",
       "      <td id=\"T_e16c9_row16_col4\" class=\"data row16 col4\" >6,292,731</td>\n",
       "      <td id=\"T_e16c9_row16_col5\" class=\"data row16 col5\" >0.080255</td>\n",
       "      <td id=\"T_e16c9_row16_col6\" class=\"data row16 col6\" >0.011632</td>\n",
       "      <td id=\"T_e16c9_row16_col7\" class=\"data row16 col7\" >El Salvador</td>\n",
       "    </tr>\n",
       "    <tr>\n",
       "      <th id=\"T_e16c9_level0_row17\" class=\"row_heading level0 row17\" >18</th>\n",
       "      <td id=\"T_e16c9_row17_col0\" class=\"data row17 col0\" >KHM</td>\n",
       "      <td id=\"T_e16c9_row17_col1\" class=\"data row17 col1\" >2020</td>\n",
       "      <td id=\"T_e16c9_row17_col2\" class=\"data row17 col2\" >188,328</td>\n",
       "      <td id=\"T_e16c9_row17_col3\" class=\"data row17 col3\" >0.865833</td>\n",
       "      <td id=\"T_e16c9_row17_col4\" class=\"data row17 col4\" >16,396,860</td>\n",
       "      <td id=\"T_e16c9_row17_col5\" class=\"data row17 col5\" >0.209118</td>\n",
       "      <td id=\"T_e16c9_row17_col6\" class=\"data row17 col6\" >0.011486</td>\n",
       "      <td id=\"T_e16c9_row17_col7\" class=\"data row17 col7\" >Cambodia</td>\n",
       "    </tr>\n",
       "    <tr>\n",
       "      <th id=\"T_e16c9_level0_row18\" class=\"row_heading level0 row18\" >19</th>\n",
       "      <td id=\"T_e16c9_row18_col0\" class=\"data row18 col0\" >MNE</td>\n",
       "      <td id=\"T_e16c9_row18_col1\" class=\"data row18 col1\" >2020</td>\n",
       "      <td id=\"T_e16c9_row18_col2\" class=\"data row18 col2\" >6,784</td>\n",
       "      <td id=\"T_e16c9_row18_col3\" class=\"data row18 col3\" >0.031189</td>\n",
       "      <td id=\"T_e16c9_row18_col4\" class=\"data row18 col4\" >629,048</td>\n",
       "      <td id=\"T_e16c9_row18_col5\" class=\"data row18 col5\" >0.008023</td>\n",
       "      <td id=\"T_e16c9_row18_col6\" class=\"data row18 col6\" >0.010785</td>\n",
       "      <td id=\"T_e16c9_row18_col7\" class=\"data row18 col7\" >Montenegro</td>\n",
       "    </tr>\n",
       "    <tr>\n",
       "      <th id=\"T_e16c9_level0_row19\" class=\"row_heading level0 row19\" >20</th>\n",
       "      <td id=\"T_e16c9_row19_col0\" class=\"data row19 col0\" >JOR</td>\n",
       "      <td id=\"T_e16c9_row19_col1\" class=\"data row19 col1\" >2020</td>\n",
       "      <td id=\"T_e16c9_row19_col2\" class=\"data row19 col2\" >115,267</td>\n",
       "      <td id=\"T_e16c9_row19_col3\" class=\"data row19 col3\" >0.529937</td>\n",
       "      <td id=\"T_e16c9_row19_col4\" class=\"data row19 col4\" >10,928,721</td>\n",
       "      <td id=\"T_e16c9_row19_col5\" class=\"data row19 col5\" >0.139380</td>\n",
       "      <td id=\"T_e16c9_row19_col6\" class=\"data row19 col6\" >0.010547</td>\n",
       "      <td id=\"T_e16c9_row19_col7\" class=\"data row19 col7\" >Jordan</td>\n",
       "    </tr>\n",
       "  </tbody>\n",
       "</table>\n"
      ],
      "text/plain": [
       "<IPython.core.display.HTML object>"
      ]
     },
     "metadata": {},
     "output_type": "display_data"
    },
    {
     "data": {
      "text/html": [
       "<style type=\"text/css\">\n",
       "#T_abf67 caption {\n",
       "  caption-side: bottom;\n",
       "  font-style: italic;\n",
       "  margin-top: 1ex;\n",
       "}\n",
       "#T_abf67_row0_col6, #T_abf67_row1_col6, #T_abf67_row2_col6, #T_abf67_row3_col6, #T_abf67_row4_col6, #T_abf67_row5_col6, #T_abf67_row6_col6, #T_abf67_row7_col6, #T_abf67_row8_col6, #T_abf67_row9_col6, #T_abf67_row10_col6, #T_abf67_row11_col6, #T_abf67_row12_col6, #T_abf67_row13_col6, #T_abf67_row14_col6, #T_abf67_row15_col6, #T_abf67_row16_col6, #T_abf67_row17_col6, #T_abf67_row18_col6, #T_abf67_row19_col6 {\n",
       "  background-color: #ffffb3;\n",
       "}\n",
       "</style>\n",
       "<table id=\"T_abf67\">\n",
       "  <caption>reports per capita and country 2021</caption>\n",
       "  <thead>\n",
       "    <tr>\n",
       "      <th class=\"blank level0\" >&nbsp;</th>\n",
       "      <th id=\"T_abf67_level0_col0\" class=\"col_heading level0 col0\" >iso3</th>\n",
       "      <th id=\"T_abf67_level0_col1\" class=\"col_heading level0 col1\" >year</th>\n",
       "      <th id=\"T_abf67_level0_col2\" class=\"col_heading level0 col2\" >reports</th>\n",
       "      <th id=\"T_abf67_level0_col3\" class=\"col_heading level0 col3\" >reports_pct</th>\n",
       "      <th id=\"T_abf67_level0_col4\" class=\"col_heading level0 col4\" >population</th>\n",
       "      <th id=\"T_abf67_level0_col5\" class=\"col_heading level0 col5\" >population_pct</th>\n",
       "      <th id=\"T_abf67_level0_col6\" class=\"col_heading level0 col6\" >reports_per_capita</th>\n",
       "      <th id=\"T_abf67_level0_col7\" class=\"col_heading level0 col7\" >country</th>\n",
       "    </tr>\n",
       "    <tr>\n",
       "      <th class=\"index_name level0\" >rank</th>\n",
       "      <th class=\"blank col0\" >&nbsp;</th>\n",
       "      <th class=\"blank col1\" >&nbsp;</th>\n",
       "      <th class=\"blank col2\" >&nbsp;</th>\n",
       "      <th class=\"blank col3\" >&nbsp;</th>\n",
       "      <th class=\"blank col4\" >&nbsp;</th>\n",
       "      <th class=\"blank col5\" >&nbsp;</th>\n",
       "      <th class=\"blank col6\" >&nbsp;</th>\n",
       "      <th class=\"blank col7\" >&nbsp;</th>\n",
       "    </tr>\n",
       "  </thead>\n",
       "  <tbody>\n",
       "    <tr>\n",
       "      <th id=\"T_abf67_level0_row0\" class=\"row_heading level0 row0\" >1</th>\n",
       "      <td id=\"T_abf67_row0_col0\" class=\"data row0 col0\" >LBY</td>\n",
       "      <td id=\"T_abf67_row0_col1\" class=\"data row0 col1\" >2021</td>\n",
       "      <td id=\"T_abf67_row0_col2\" class=\"data row0 col2\" >270,811</td>\n",
       "      <td id=\"T_abf67_row0_col3\" class=\"data row0 col3\" >0.921199</td>\n",
       "      <td id=\"T_abf67_row0_col4\" class=\"data row0 col4\" >6,735,277</td>\n",
       "      <td id=\"T_abf67_row0_col5\" class=\"data row0 col5\" >0.085156</td>\n",
       "      <td id=\"T_abf67_row0_col6\" class=\"data row0 col6\" >0.040208</td>\n",
       "      <td id=\"T_abf67_row0_col7\" class=\"data row0 col7\" >Libya</td>\n",
       "    </tr>\n",
       "    <tr>\n",
       "      <th id=\"T_abf67_level0_row1\" class=\"row_heading level0 row1\" >2</th>\n",
       "      <td id=\"T_abf67_row1_col0\" class=\"data row1 col0\" >ARE</td>\n",
       "      <td id=\"T_abf67_row1_col1\" class=\"data row1 col1\" >2021</td>\n",
       "      <td id=\"T_abf67_row1_col2\" class=\"data row1 col2\" >327,820</td>\n",
       "      <td id=\"T_abf67_row1_col3\" class=\"data row1 col3\" >1.115122</td>\n",
       "      <td id=\"T_abf67_row1_col4\" class=\"data row1 col4\" >9,365,145</td>\n",
       "      <td id=\"T_abf67_row1_col5\" class=\"data row1 col5\" >0.118407</td>\n",
       "      <td id=\"T_abf67_row1_col6\" class=\"data row1 col6\" >0.035004</td>\n",
       "      <td id=\"T_abf67_row1_col7\" class=\"data row1 col7\" >United Arab Emirates</td>\n",
       "    </tr>\n",
       "    <tr>\n",
       "      <th id=\"T_abf67_level0_row2\" class=\"row_heading level0 row2\" >3</th>\n",
       "      <td id=\"T_abf67_row2_col0\" class=\"data row2 col0\" >IRQ</td>\n",
       "      <td id=\"T_abf67_row2_col1\" class=\"data row2 col1\" >2021</td>\n",
       "      <td id=\"T_abf67_row2_col2\" class=\"data row2 col2\" >1,220,470</td>\n",
       "      <td id=\"T_abf67_row2_col3\" class=\"data row2 col3\" >4.151586</td>\n",
       "      <td id=\"T_abf67_row2_col4\" class=\"data row2 col4\" >43,533,593</td>\n",
       "      <td id=\"T_abf67_row2_col5\" class=\"data row2 col5\" >0.550411</td>\n",
       "      <td id=\"T_abf67_row2_col6\" class=\"data row2 col6\" >0.028035</td>\n",
       "      <td id=\"T_abf67_row2_col7\" class=\"data row2 col7\" >Iraq</td>\n",
       "    </tr>\n",
       "    <tr>\n",
       "      <th id=\"T_abf67_level0_row3\" class=\"row_heading level0 row3\" >4</th>\n",
       "      <td id=\"T_abf67_row3_col0\" class=\"data row3 col0\" >PHL</td>\n",
       "      <td id=\"T_abf67_row3_col1\" class=\"data row3 col1\" >2021</td>\n",
       "      <td id=\"T_abf67_row3_col2\" class=\"data row3 col2\" >3,188,793</td>\n",
       "      <td id=\"T_abf67_row3_col3\" class=\"data row3 col3\" >10.847090</td>\n",
       "      <td id=\"T_abf67_row3_col4\" class=\"data row3 col4\" >113,880,328</td>\n",
       "      <td id=\"T_abf67_row3_col5\" class=\"data row3 col5\" >1.439829</td>\n",
       "      <td id=\"T_abf67_row3_col6\" class=\"data row3 col6\" >0.028001</td>\n",
       "      <td id=\"T_abf67_row3_col7\" class=\"data row3 col7\" >Philippines</td>\n",
       "    </tr>\n",
       "    <tr>\n",
       "      <th id=\"T_abf67_level0_row4\" class=\"row_heading level0 row4\" >5</th>\n",
       "      <td id=\"T_abf67_row4_col0\" class=\"data row4 col0\" >QAT</td>\n",
       "      <td id=\"T_abf67_row4_col1\" class=\"data row4 col1\" >2021</td>\n",
       "      <td id=\"T_abf67_row4_col2\" class=\"data row4 col2\" >73,536</td>\n",
       "      <td id=\"T_abf67_row4_col3\" class=\"data row4 col3\" >0.250142</td>\n",
       "      <td id=\"T_abf67_row4_col4\" class=\"data row4 col4\" >2,688,235</td>\n",
       "      <td id=\"T_abf67_row4_col5\" class=\"data row4 col5\" >0.033988</td>\n",
       "      <td id=\"T_abf67_row4_col6\" class=\"data row4 col6\" >0.027355</td>\n",
       "      <td id=\"T_abf67_row4_col7\" class=\"data row4 col7\" >Qatar</td>\n",
       "    </tr>\n",
       "    <tr>\n",
       "      <th id=\"T_abf67_level0_row5\" class=\"row_heading level0 row5\" >6</th>\n",
       "      <td id=\"T_abf67_row5_col0\" class=\"data row5 col0\" >DZA</td>\n",
       "      <td id=\"T_abf67_row5_col1\" class=\"data row5 col1\" >2021</td>\n",
       "      <td id=\"T_abf67_row5_col2\" class=\"data row5 col2\" >1,171,653</td>\n",
       "      <td id=\"T_abf67_row5_col3\" class=\"data row5 col3\" >3.985529</td>\n",
       "      <td id=\"T_abf67_row5_col4\" class=\"data row5 col4\" >44,177,969</td>\n",
       "      <td id=\"T_abf67_row5_col5\" class=\"data row5 col5\" >0.558558</td>\n",
       "      <td id=\"T_abf67_row5_col6\" class=\"data row5 col6\" >0.026521</td>\n",
       "      <td id=\"T_abf67_row5_col7\" class=\"data row5 col7\" >Algeria</td>\n",
       "    </tr>\n",
       "    <tr>\n",
       "      <th id=\"T_abf67_level0_row6\" class=\"row_heading level0 row6\" >7</th>\n",
       "      <td id=\"T_abf67_row6_col0\" class=\"data row6 col0\" >KHM</td>\n",
       "      <td id=\"T_abf67_row6_col1\" class=\"data row6 col1\" >2021</td>\n",
       "      <td id=\"T_abf67_row6_col2\" class=\"data row6 col2\" >395,793</td>\n",
       "      <td id=\"T_abf67_row6_col3\" class=\"data row6 col3\" >1.346341</td>\n",
       "      <td id=\"T_abf67_row6_col4\" class=\"data row6 col4\" >16,589,024</td>\n",
       "      <td id=\"T_abf67_row6_col5\" class=\"data row6 col5\" >0.209741</td>\n",
       "      <td id=\"T_abf67_row6_col6\" class=\"data row6 col6\" >0.023859</td>\n",
       "      <td id=\"T_abf67_row6_col7\" class=\"data row6 col7\" >Cambodia</td>\n",
       "    </tr>\n",
       "    <tr>\n",
       "      <th id=\"T_abf67_level0_row7\" class=\"row_heading level0 row7\" >8</th>\n",
       "      <td id=\"T_abf67_row7_col0\" class=\"data row7 col0\" >BHR</td>\n",
       "      <td id=\"T_abf67_row7_col1\" class=\"data row7 col1\" >2021</td>\n",
       "      <td id=\"T_abf67_row7_col2\" class=\"data row7 col2\" >32,346</td>\n",
       "      <td id=\"T_abf67_row7_col3\" class=\"data row7 col3\" >0.110029</td>\n",
       "      <td id=\"T_abf67_row7_col4\" class=\"data row7 col4\" >1,463,266</td>\n",
       "      <td id=\"T_abf67_row7_col5\" class=\"data row7 col5\" >0.018501</td>\n",
       "      <td id=\"T_abf67_row7_col6\" class=\"data row7 col6\" >0.022105</td>\n",
       "      <td id=\"T_abf67_row7_col7\" class=\"data row7 col7\" >Bahrain</td>\n",
       "    </tr>\n",
       "    <tr>\n",
       "      <th id=\"T_abf67_level0_row8\" class=\"row_heading level0 row8\" >9</th>\n",
       "      <td id=\"T_abf67_row8_col0\" class=\"data row8 col0\" >BLZ</td>\n",
       "      <td id=\"T_abf67_row8_col1\" class=\"data row8 col1\" >2021</td>\n",
       "      <td id=\"T_abf67_row8_col2\" class=\"data row8 col2\" >8,297</td>\n",
       "      <td id=\"T_abf67_row8_col3\" class=\"data row8 col3\" >0.028223</td>\n",
       "      <td id=\"T_abf67_row8_col4\" class=\"data row8 col4\" >400,031</td>\n",
       "      <td id=\"T_abf67_row8_col5\" class=\"data row8 col5\" >0.005058</td>\n",
       "      <td id=\"T_abf67_row8_col6\" class=\"data row8 col6\" >0.020741</td>\n",
       "      <td id=\"T_abf67_row8_col7\" class=\"data row8 col7\" >Belize</td>\n",
       "    </tr>\n",
       "    <tr>\n",
       "      <th id=\"T_abf67_level0_row9\" class=\"row_heading level0 row9\" >10</th>\n",
       "      <td id=\"T_abf67_row9_col0\" class=\"data row9 col0\" >SAU</td>\n",
       "      <td id=\"T_abf67_row9_col1\" class=\"data row9 col1\" >2021</td>\n",
       "      <td id=\"T_abf67_row9_col2\" class=\"data row9 col2\" >708,980</td>\n",
       "      <td id=\"T_abf67_row9_col3\" class=\"data row9 col3\" >2.411687</td>\n",
       "      <td id=\"T_abf67_row9_col4\" class=\"data row9 col4\" >35,950,396</td>\n",
       "      <td id=\"T_abf67_row9_col5\" class=\"data row9 col5\" >0.454534</td>\n",
       "      <td id=\"T_abf67_row9_col6\" class=\"data row9 col6\" >0.019721</td>\n",
       "      <td id=\"T_abf67_row9_col7\" class=\"data row9 col7\" >Saudi Arabia</td>\n",
       "    </tr>\n",
       "    <tr>\n",
       "      <th id=\"T_abf67_level0_row10\" class=\"row_heading level0 row10\" >11</th>\n",
       "      <td id=\"T_abf67_row10_col0\" class=\"data row10 col0\" >BTN</td>\n",
       "      <td id=\"T_abf67_row10_col1\" class=\"data row10 col1\" >2021</td>\n",
       "      <td id=\"T_abf67_row10_col2\" class=\"data row10 col2\" >14,518</td>\n",
       "      <td id=\"T_abf67_row10_col3\" class=\"data row10 col3\" >0.049385</td>\n",
       "      <td id=\"T_abf67_row10_col4\" class=\"data row10 col4\" >777,487</td>\n",
       "      <td id=\"T_abf67_row10_col5\" class=\"data row10 col5\" >0.009830</td>\n",
       "      <td id=\"T_abf67_row10_col6\" class=\"data row10 col6\" >0.018673</td>\n",
       "      <td id=\"T_abf67_row10_col7\" class=\"data row10 col7\" >Bhutan</td>\n",
       "    </tr>\n",
       "    <tr>\n",
       "      <th id=\"T_abf67_level0_row11\" class=\"row_heading level0 row11\" >12</th>\n",
       "      <td id=\"T_abf67_row11_col0\" class=\"data row11 col0\" >KWT</td>\n",
       "      <td id=\"T_abf67_row11_col1\" class=\"data row11 col1\" >2021</td>\n",
       "      <td id=\"T_abf67_row11_col2\" class=\"data row11 col2\" >78,803</td>\n",
       "      <td id=\"T_abf67_row11_col3\" class=\"data row11 col3\" >0.268059</td>\n",
       "      <td id=\"T_abf67_row11_col4\" class=\"data row11 col4\" >4,250,114</td>\n",
       "      <td id=\"T_abf67_row11_col5\" class=\"data row11 col5\" >0.053736</td>\n",
       "      <td id=\"T_abf67_row11_col6\" class=\"data row11 col6\" >0.018541</td>\n",
       "      <td id=\"T_abf67_row11_col7\" class=\"data row11 col7\" >Kuwait</td>\n",
       "    </tr>\n",
       "    <tr>\n",
       "      <th id=\"T_abf67_level0_row12\" class=\"row_heading level0 row12\" >13</th>\n",
       "      <td id=\"T_abf67_row12_col0\" class=\"data row12 col0\" >MDV</td>\n",
       "      <td id=\"T_abf67_row12_col1\" class=\"data row12 col1\" >2021</td>\n",
       "      <td id=\"T_abf67_row12_col2\" class=\"data row12 col2\" >9,638</td>\n",
       "      <td id=\"T_abf67_row12_col3\" class=\"data row12 col3\" >0.032785</td>\n",
       "      <td id=\"T_abf67_row12_col4\" class=\"data row12 col4\" >521,458</td>\n",
       "      <td id=\"T_abf67_row12_col5\" class=\"data row12 col5\" >0.006593</td>\n",
       "      <td id=\"T_abf67_row12_col6\" class=\"data row12 col6\" >0.018483</td>\n",
       "      <td id=\"T_abf67_row12_col7\" class=\"data row12 col7\" >Maldives</td>\n",
       "    </tr>\n",
       "    <tr>\n",
       "      <th id=\"T_abf67_level0_row13\" class=\"row_heading level0 row13\" >14</th>\n",
       "      <td id=\"T_abf67_row13_col0\" class=\"data row13 col0\" >OMN</td>\n",
       "      <td id=\"T_abf67_row13_col1\" class=\"data row13 col1\" >2021</td>\n",
       "      <td id=\"T_abf67_row13_col2\" class=\"data row13 col2\" >64,156</td>\n",
       "      <td id=\"T_abf67_row13_col3\" class=\"data row13 col3\" >0.218235</td>\n",
       "      <td id=\"T_abf67_row13_col4\" class=\"data row13 col4\" >4,520,471</td>\n",
       "      <td id=\"T_abf67_row13_col5\" class=\"data row13 col5\" >0.057154</td>\n",
       "      <td id=\"T_abf67_row13_col6\" class=\"data row13 col6\" >0.014192</td>\n",
       "      <td id=\"T_abf67_row13_col7\" class=\"data row13 col7\" >Oman</td>\n",
       "    </tr>\n",
       "    <tr>\n",
       "      <th id=\"T_abf67_level0_row14\" class=\"row_heading level0 row14\" >15</th>\n",
       "      <td id=\"T_abf67_row14_col0\" class=\"data row14 col0\" >MCO</td>\n",
       "      <td id=\"T_abf67_row14_col1\" class=\"data row14 col1\" >2021</td>\n",
       "      <td id=\"T_abf67_row14_col2\" class=\"data row14 col2\" >494</td>\n",
       "      <td id=\"T_abf67_row14_col3\" class=\"data row14 col3\" >0.001680</td>\n",
       "      <td id=\"T_abf67_row14_col4\" class=\"data row14 col4\" >36,686</td>\n",
       "      <td id=\"T_abf67_row14_col5\" class=\"data row14 col5\" >0.000464</td>\n",
       "      <td id=\"T_abf67_row14_col6\" class=\"data row14 col6\" >0.013466</td>\n",
       "      <td id=\"T_abf67_row14_col7\" class=\"data row14 col7\" >Monaco</td>\n",
       "    </tr>\n",
       "    <tr>\n",
       "      <th id=\"T_abf67_level0_row15\" class=\"row_heading level0 row15\" >16</th>\n",
       "      <td id=\"T_abf67_row15_col0\" class=\"data row15 col0\" >TUN</td>\n",
       "      <td id=\"T_abf67_row15_col1\" class=\"data row15 col1\" >2021</td>\n",
       "      <td id=\"T_abf67_row15_col2\" class=\"data row15 col2\" >164,562</td>\n",
       "      <td id=\"T_abf67_row15_col3\" class=\"data row15 col3\" >0.559779</td>\n",
       "      <td id=\"T_abf67_row15_col4\" class=\"data row15 col4\" >12,262,946</td>\n",
       "      <td id=\"T_abf67_row15_col5\" class=\"data row15 col5\" >0.155045</td>\n",
       "      <td id=\"T_abf67_row15_col6\" class=\"data row15 col6\" >0.013419</td>\n",
       "      <td id=\"T_abf67_row15_col7\" class=\"data row15 col7\" >Tunisia</td>\n",
       "    </tr>\n",
       "    <tr>\n",
       "      <th id=\"T_abf67_level0_row16\" class=\"row_heading level0 row16\" >17</th>\n",
       "      <td id=\"T_abf67_row16_col0\" class=\"data row16 col0\" >DOM</td>\n",
       "      <td id=\"T_abf67_row16_col1\" class=\"data row16 col1\" >2021</td>\n",
       "      <td id=\"T_abf67_row16_col2\" class=\"data row16 col2\" >144,150</td>\n",
       "      <td id=\"T_abf67_row16_col3\" class=\"data row16 col3\" >0.490345</td>\n",
       "      <td id=\"T_abf67_row16_col4\" class=\"data row16 col4\" >11,117,874</td>\n",
       "      <td id=\"T_abf67_row16_col5\" class=\"data row16 col5\" >0.140567</td>\n",
       "      <td id=\"T_abf67_row16_col6\" class=\"data row16 col6\" >0.012966</td>\n",
       "      <td id=\"T_abf67_row16_col7\" class=\"data row16 col7\" >Dominican Republic</td>\n",
       "    </tr>\n",
       "    <tr>\n",
       "      <th id=\"T_abf67_level0_row17\" class=\"row_heading level0 row17\" >18</th>\n",
       "      <td id=\"T_abf67_row17_col0\" class=\"data row17 col0\" >SPM</td>\n",
       "      <td id=\"T_abf67_row17_col1\" class=\"data row17 col1\" >2021</td>\n",
       "      <td id=\"T_abf67_row17_col2\" class=\"data row17 col2\" >62</td>\n",
       "      <td id=\"T_abf67_row17_col3\" class=\"data row17 col3\" >0.000211</td>\n",
       "      <td id=\"T_abf67_row17_col4\" class=\"data row17 col4\" >5,883</td>\n",
       "      <td id=\"T_abf67_row17_col5\" class=\"data row17 col5\" >0.000074</td>\n",
       "      <td id=\"T_abf67_row17_col6\" class=\"data row17 col6\" >0.010539</td>\n",
       "      <td id=\"T_abf67_row17_col7\" class=\"data row17 col7\" >Saint Pierre and Miquelon</td>\n",
       "    </tr>\n",
       "    <tr>\n",
       "      <th id=\"T_abf67_level0_row18\" class=\"row_heading level0 row18\" >19</th>\n",
       "      <td id=\"T_abf67_row18_col0\" class=\"data row18 col0\" >BGD</td>\n",
       "      <td id=\"T_abf67_row18_col1\" class=\"data row18 col1\" >2021</td>\n",
       "      <td id=\"T_abf67_row18_col2\" class=\"data row18 col2\" >1,743,240</td>\n",
       "      <td id=\"T_abf67_row18_col3\" class=\"data row18 col3\" >5.929855</td>\n",
       "      <td id=\"T_abf67_row18_col4\" class=\"data row18 col4\" >169,356,251</td>\n",
       "      <td id=\"T_abf67_row18_col5\" class=\"data row18 col5\" >2.141231</td>\n",
       "      <td id=\"T_abf67_row18_col6\" class=\"data row18 col6\" >0.010293</td>\n",
       "      <td id=\"T_abf67_row18_col7\" class=\"data row18 col7\" >Bangladesh</td>\n",
       "    </tr>\n",
       "    <tr>\n",
       "      <th id=\"T_abf67_level0_row19\" class=\"row_heading level0 row19\" >20</th>\n",
       "      <td id=\"T_abf67_row19_col0\" class=\"data row19 col0\" >JOR</td>\n",
       "      <td id=\"T_abf67_row19_col1\" class=\"data row19 col1\" >2021</td>\n",
       "      <td id=\"T_abf67_row19_col2\" class=\"data row19 col2\" >113,846</td>\n",
       "      <td id=\"T_abf67_row19_col3\" class=\"data row19 col3\" >0.387262</td>\n",
       "      <td id=\"T_abf67_row19_col4\" class=\"data row19 col4\" >11,148,278</td>\n",
       "      <td id=\"T_abf67_row19_col5\" class=\"data row19 col5\" >0.140952</td>\n",
       "      <td id=\"T_abf67_row19_col6\" class=\"data row19 col6\" >0.010212</td>\n",
       "      <td id=\"T_abf67_row19_col7\" class=\"data row19 col7\" >Jordan</td>\n",
       "    </tr>\n",
       "  </tbody>\n",
       "</table>\n"
      ],
      "text/plain": [
       "<IPython.core.display.HTML object>"
      ]
     },
     "metadata": {},
     "output_type": "display_data"
    },
    {
     "data": {
      "text/html": [
       "<style type=\"text/css\">\n",
       "#T_d4f00 caption {\n",
       "  caption-side: bottom;\n",
       "  font-style: italic;\n",
       "  margin-top: 1ex;\n",
       "}\n",
       "#T_d4f00_row0_col6, #T_d4f00_row1_col6, #T_d4f00_row2_col6, #T_d4f00_row3_col6, #T_d4f00_row4_col6, #T_d4f00_row5_col6, #T_d4f00_row6_col6, #T_d4f00_row7_col6, #T_d4f00_row8_col6, #T_d4f00_row9_col6, #T_d4f00_row10_col6, #T_d4f00_row11_col6, #T_d4f00_row12_col6, #T_d4f00_row13_col6, #T_d4f00_row14_col6, #T_d4f00_row15_col6, #T_d4f00_row16_col6, #T_d4f00_row17_col6, #T_d4f00_row18_col6, #T_d4f00_row19_col6 {\n",
       "  background-color: #ffffb3;\n",
       "}\n",
       "</style>\n",
       "<table id=\"T_d4f00\">\n",
       "  <caption>reports per capita and country 2022</caption>\n",
       "  <thead>\n",
       "    <tr>\n",
       "      <th class=\"blank level0\" >&nbsp;</th>\n",
       "      <th id=\"T_d4f00_level0_col0\" class=\"col_heading level0 col0\" >iso3</th>\n",
       "      <th id=\"T_d4f00_level0_col1\" class=\"col_heading level0 col1\" >year</th>\n",
       "      <th id=\"T_d4f00_level0_col2\" class=\"col_heading level0 col2\" >reports</th>\n",
       "      <th id=\"T_d4f00_level0_col3\" class=\"col_heading level0 col3\" >reports_pct</th>\n",
       "      <th id=\"T_d4f00_level0_col4\" class=\"col_heading level0 col4\" >population</th>\n",
       "      <th id=\"T_d4f00_level0_col5\" class=\"col_heading level0 col5\" >population_pct</th>\n",
       "      <th id=\"T_d4f00_level0_col6\" class=\"col_heading level0 col6\" >reports_per_capita</th>\n",
       "      <th id=\"T_d4f00_level0_col7\" class=\"col_heading level0 col7\" >country</th>\n",
       "    </tr>\n",
       "    <tr>\n",
       "      <th class=\"index_name level0\" >rank</th>\n",
       "      <th class=\"blank col0\" >&nbsp;</th>\n",
       "      <th class=\"blank col1\" >&nbsp;</th>\n",
       "      <th class=\"blank col2\" >&nbsp;</th>\n",
       "      <th class=\"blank col3\" >&nbsp;</th>\n",
       "      <th class=\"blank col4\" >&nbsp;</th>\n",
       "      <th class=\"blank col5\" >&nbsp;</th>\n",
       "      <th class=\"blank col6\" >&nbsp;</th>\n",
       "      <th class=\"blank col7\" >&nbsp;</th>\n",
       "    </tr>\n",
       "  </thead>\n",
       "  <tbody>\n",
       "    <tr>\n",
       "      <th id=\"T_d4f00_level0_row0\" class=\"row_heading level0 row0\" >1</th>\n",
       "      <td id=\"T_d4f00_row0_col0\" class=\"data row0 col0\" >ARE</td>\n",
       "      <td id=\"T_d4f00_row0_col1\" class=\"data row0 col1\" >2022</td>\n",
       "      <td id=\"T_d4f00_row0_col2\" class=\"data row0 col2\" >265,307</td>\n",
       "      <td id=\"T_d4f00_row0_col3\" class=\"data row0 col3\" >0.827558</td>\n",
       "      <td id=\"T_d4f00_row0_col4\" class=\"data row0 col4\" >9,441,129</td>\n",
       "      <td id=\"T_d4f00_row0_col5\" class=\"data row0 col5\" >0.118383</td>\n",
       "      <td id=\"T_d4f00_row0_col6\" class=\"data row0 col6\" >0.028101</td>\n",
       "      <td id=\"T_d4f00_row0_col7\" class=\"data row0 col7\" >United Arab Emirates</td>\n",
       "    </tr>\n",
       "    <tr>\n",
       "      <th id=\"T_d4f00_level0_row1\" class=\"row_heading level0 row1\" >2</th>\n",
       "      <td id=\"T_d4f00_row1_col0\" class=\"data row1 col0\" >LBY</td>\n",
       "      <td id=\"T_d4f00_row1_col1\" class=\"data row1 col1\" >2022</td>\n",
       "      <td id=\"T_d4f00_row1_col2\" class=\"data row1 col2\" >163,336</td>\n",
       "      <td id=\"T_d4f00_row1_col3\" class=\"data row1 col3\" >0.509485</td>\n",
       "      <td id=\"T_d4f00_row1_col4\" class=\"data row1 col4\" >6,812,341</td>\n",
       "      <td id=\"T_d4f00_row1_col5\" class=\"data row1 col5\" >0.085420</td>\n",
       "      <td id=\"T_d4f00_row1_col6\" class=\"data row1 col6\" >0.023976</td>\n",
       "      <td id=\"T_d4f00_row1_col7\" class=\"data row1 col7\" >Libya</td>\n",
       "    </tr>\n",
       "    <tr>\n",
       "      <th id=\"T_d4f00_level0_row2\" class=\"row_heading level0 row2\" >3</th>\n",
       "      <td id=\"T_d4f00_row2_col0\" class=\"data row2 col0\" >QAT</td>\n",
       "      <td id=\"T_d4f00_row2_col1\" class=\"data row2 col1\" >2022</td>\n",
       "      <td id=\"T_d4f00_row2_col2\" class=\"data row2 col2\" >61,167</td>\n",
       "      <td id=\"T_d4f00_row2_col3\" class=\"data row2 col3\" >0.190795</td>\n",
       "      <td id=\"T_d4f00_row2_col4\" class=\"data row2 col4\" >2,695,122</td>\n",
       "      <td id=\"T_d4f00_row2_col5\" class=\"data row2 col5\" >0.033794</td>\n",
       "      <td id=\"T_d4f00_row2_col6\" class=\"data row2 col6\" >0.022695</td>\n",
       "      <td id=\"T_d4f00_row2_col7\" class=\"data row2 col7\" >Qatar</td>\n",
       "    </tr>\n",
       "    <tr>\n",
       "      <th id=\"T_d4f00_level0_row3\" class=\"row_heading level0 row3\" >4</th>\n",
       "      <td id=\"T_d4f00_row3_col0\" class=\"data row3 col0\" >PHL</td>\n",
       "      <td id=\"T_d4f00_row3_col1\" class=\"data row3 col1\" >2022</td>\n",
       "      <td id=\"T_d4f00_row3_col2\" class=\"data row3 col2\" >2,576,182</td>\n",
       "      <td id=\"T_d4f00_row3_col3\" class=\"data row3 col3\" >8.035746</td>\n",
       "      <td id=\"T_d4f00_row3_col4\" class=\"data row3 col4\" >115,559,009</td>\n",
       "      <td id=\"T_d4f00_row3_col5\" class=\"data row3 col5\" >1.448997</td>\n",
       "      <td id=\"T_d4f00_row3_col6\" class=\"data row3 col6\" >0.022293</td>\n",
       "      <td id=\"T_d4f00_row3_col7\" class=\"data row3 col7\" >Philippines</td>\n",
       "    </tr>\n",
       "    <tr>\n",
       "      <th id=\"T_d4f00_level0_row4\" class=\"row_heading level0 row4\" >5</th>\n",
       "      <td id=\"T_d4f00_row4_col0\" class=\"data row4 col0\" >IRQ</td>\n",
       "      <td id=\"T_d4f00_row4_col1\" class=\"data row4 col1\" >2022</td>\n",
       "      <td id=\"T_d4f00_row4_col2\" class=\"data row4 col2\" >905,883</td>\n",
       "      <td id=\"T_d4f00_row4_col3\" class=\"data row4 col3\" >2.825672</td>\n",
       "      <td id=\"T_d4f00_row4_col4\" class=\"data row4 col4\" >44,496,122</td>\n",
       "      <td id=\"T_d4f00_row4_col5\" class=\"data row4 col5\" >0.557938</td>\n",
       "      <td id=\"T_d4f00_row4_col6\" class=\"data row4 col6\" >0.020359</td>\n",
       "      <td id=\"T_d4f00_row4_col7\" class=\"data row4 col7\" >Iraq</td>\n",
       "    </tr>\n",
       "    <tr>\n",
       "      <th id=\"T_d4f00_level0_row5\" class=\"row_heading level0 row5\" >6</th>\n",
       "      <td id=\"T_d4f00_row5_col0\" class=\"data row5 col0\" >BHR</td>\n",
       "      <td id=\"T_d4f00_row5_col1\" class=\"data row5 col1\" >2022</td>\n",
       "      <td id=\"T_d4f00_row5_col2\" class=\"data row5 col2\" >25,896</td>\n",
       "      <td id=\"T_d4f00_row5_col3\" class=\"data row5 col3\" >0.080776</td>\n",
       "      <td id=\"T_d4f00_row5_col4\" class=\"data row5 col4\" >1,472,233</td>\n",
       "      <td id=\"T_d4f00_row5_col5\" class=\"data row5 col5\" >0.018460</td>\n",
       "      <td id=\"T_d4f00_row5_col6\" class=\"data row5 col6\" >0.017590</td>\n",
       "      <td id=\"T_d4f00_row5_col7\" class=\"data row5 col7\" >Bahrain</td>\n",
       "    </tr>\n",
       "    <tr>\n",
       "      <th id=\"T_d4f00_level0_row6\" class=\"row_heading level0 row6\" >7</th>\n",
       "      <td id=\"T_d4f00_row6_col0\" class=\"data row6 col0\" >SAU</td>\n",
       "      <td id=\"T_d4f00_row6_col1\" class=\"data row6 col1\" >2022</td>\n",
       "      <td id=\"T_d4f00_row6_col2\" class=\"data row6 col2\" >602,745</td>\n",
       "      <td id=\"T_d4f00_row6_col3\" class=\"data row6 col3\" >1.880110</td>\n",
       "      <td id=\"T_d4f00_row6_col4\" class=\"data row6 col4\" >36,408,820</td>\n",
       "      <td id=\"T_d4f00_row6_col5\" class=\"data row6 col5\" >0.456531</td>\n",
       "      <td id=\"T_d4f00_row6_col6\" class=\"data row6 col6\" >0.016555</td>\n",
       "      <td id=\"T_d4f00_row6_col7\" class=\"data row6 col7\" >Saudi Arabia</td>\n",
       "    </tr>\n",
       "    <tr>\n",
       "      <th id=\"T_d4f00_level0_row7\" class=\"row_heading level0 row7\" >8</th>\n",
       "      <td id=\"T_d4f00_row7_col0\" class=\"data row7 col0\" >DZA</td>\n",
       "      <td id=\"T_d4f00_row7_col1\" class=\"data row7 col1\" >2022</td>\n",
       "      <td id=\"T_d4f00_row7_col2\" class=\"data row7 col2\" >731,167</td>\n",
       "      <td id=\"T_d4f00_row7_col3\" class=\"data row7 col3\" >2.280690</td>\n",
       "      <td id=\"T_d4f00_row7_col4\" class=\"data row7 col4\" >44,903,225</td>\n",
       "      <td id=\"T_d4f00_row7_col5\" class=\"data row7 col5\" >0.563042</td>\n",
       "      <td id=\"T_d4f00_row7_col6\" class=\"data row7 col6\" >0.016283</td>\n",
       "      <td id=\"T_d4f00_row7_col7\" class=\"data row7 col7\" >Algeria</td>\n",
       "    </tr>\n",
       "    <tr>\n",
       "      <th id=\"T_d4f00_level0_row8\" class=\"row_heading level0 row8\" >9</th>\n",
       "      <td id=\"T_d4f00_row8_col0\" class=\"data row8 col0\" >BLZ</td>\n",
       "      <td id=\"T_d4f00_row8_col1\" class=\"data row8 col1\" >2022</td>\n",
       "      <td id=\"T_d4f00_row8_col2\" class=\"data row8 col2\" >6,103</td>\n",
       "      <td id=\"T_d4f00_row8_col3\" class=\"data row8 col3\" >0.019037</td>\n",
       "      <td id=\"T_d4f00_row8_col4\" class=\"data row8 col4\" >405,273</td>\n",
       "      <td id=\"T_d4f00_row8_col5\" class=\"data row8 col5\" >0.005082</td>\n",
       "      <td id=\"T_d4f00_row8_col6\" class=\"data row8 col6\" >0.015059</td>\n",
       "      <td id=\"T_d4f00_row8_col7\" class=\"data row8 col7\" >Belize</td>\n",
       "    </tr>\n",
       "    <tr>\n",
       "      <th id=\"T_d4f00_level0_row9\" class=\"row_heading level0 row9\" >10</th>\n",
       "      <td id=\"T_d4f00_row9_col0\" class=\"data row9 col0\" >MDV</td>\n",
       "      <td id=\"T_d4f00_row9_col1\" class=\"data row9 col1\" >2022</td>\n",
       "      <td id=\"T_d4f00_row9_col2\" class=\"data row9 col2\" >7,813</td>\n",
       "      <td id=\"T_d4f00_row9_col3\" class=\"data row9 col3\" >0.024371</td>\n",
       "      <td id=\"T_d4f00_row9_col4\" class=\"data row9 col4\" >523,787</td>\n",
       "      <td id=\"T_d4f00_row9_col5\" class=\"data row9 col5\" >0.006568</td>\n",
       "      <td id=\"T_d4f00_row9_col6\" class=\"data row9 col6\" >0.014916</td>\n",
       "      <td id=\"T_d4f00_row9_col7\" class=\"data row9 col7\" >Maldives</td>\n",
       "    </tr>\n",
       "    <tr>\n",
       "      <th id=\"T_d4f00_level0_row10\" class=\"row_heading level0 row10\" >11</th>\n",
       "      <td id=\"T_d4f00_row10_col0\" class=\"data row10 col0\" >KWT</td>\n",
       "      <td id=\"T_d4f00_row10_col1\" class=\"data row10 col1\" >2022</td>\n",
       "      <td id=\"T_d4f00_row10_col2\" class=\"data row10 col2\" >58,456</td>\n",
       "      <td id=\"T_d4f00_row10_col3\" class=\"data row10 col3\" >0.182339</td>\n",
       "      <td id=\"T_d4f00_row10_col4\" class=\"data row10 col4\" >4,268,873</td>\n",
       "      <td id=\"T_d4f00_row10_col5\" class=\"data row10 col5\" >0.053527</td>\n",
       "      <td id=\"T_d4f00_row10_col6\" class=\"data row10 col6\" >0.013694</td>\n",
       "      <td id=\"T_d4f00_row10_col7\" class=\"data row10 col7\" >Kuwait</td>\n",
       "    </tr>\n",
       "    <tr>\n",
       "      <th id=\"T_d4f00_level0_row11\" class=\"row_heading level0 row11\" >12</th>\n",
       "      <td id=\"T_d4f00_row11_col0\" class=\"data row11 col0\" >KHM</td>\n",
       "      <td id=\"T_d4f00_row11_col1\" class=\"data row11 col1\" >2022</td>\n",
       "      <td id=\"T_d4f00_row11_col2\" class=\"data row11 col2\" >227,955</td>\n",
       "      <td id=\"T_d4f00_row11_col3\" class=\"data row11 col3\" >0.711048</td>\n",
       "      <td id=\"T_d4f00_row11_col4\" class=\"data row11 col4\" >16,767,842</td>\n",
       "      <td id=\"T_d4f00_row11_col5\" class=\"data row11 col5\" >0.210252</td>\n",
       "      <td id=\"T_d4f00_row11_col6\" class=\"data row11 col6\" >0.013595</td>\n",
       "      <td id=\"T_d4f00_row11_col7\" class=\"data row11 col7\" >Cambodia</td>\n",
       "    </tr>\n",
       "    <tr>\n",
       "      <th id=\"T_d4f00_level0_row12\" class=\"row_heading level0 row12\" >13</th>\n",
       "      <td id=\"T_d4f00_row12_col0\" class=\"data row12 col0\" >BGD</td>\n",
       "      <td id=\"T_d4f00_row12_col1\" class=\"data row12 col1\" >2022</td>\n",
       "      <td id=\"T_d4f00_row12_col2\" class=\"data row12 col2\" >2,145,098</td>\n",
       "      <td id=\"T_d4f00_row12_col3\" class=\"data row12 col3\" >6.691088</td>\n",
       "      <td id=\"T_d4f00_row12_col4\" class=\"data row12 col4\" >171,186,373</td>\n",
       "      <td id=\"T_d4f00_row12_col5\" class=\"data row12 col5\" >2.146509</td>\n",
       "      <td id=\"T_d4f00_row12_col6\" class=\"data row12 col6\" >0.012531</td>\n",
       "      <td id=\"T_d4f00_row12_col7\" class=\"data row12 col7\" >Bangladesh</td>\n",
       "    </tr>\n",
       "    <tr>\n",
       "      <th id=\"T_d4f00_level0_row13\" class=\"row_heading level0 row13\" >14</th>\n",
       "      <td id=\"T_d4f00_row13_col0\" class=\"data row13 col0\" >SGP</td>\n",
       "      <td id=\"T_d4f00_row13_col1\" class=\"data row13 col1\" >2022</td>\n",
       "      <td id=\"T_d4f00_row13_col2\" class=\"data row13 col2\" >74,792</td>\n",
       "      <td id=\"T_d4f00_row13_col3\" class=\"data row13 col3\" >0.233295</td>\n",
       "      <td id=\"T_d4f00_row13_col4\" class=\"data row13 col4\" >5,975,689</td>\n",
       "      <td id=\"T_d4f00_row13_col5\" class=\"data row13 col5\" >0.074929</td>\n",
       "      <td id=\"T_d4f00_row13_col6\" class=\"data row13 col6\" >0.012516</td>\n",
       "      <td id=\"T_d4f00_row13_col7\" class=\"data row13 col7\" >Singapore</td>\n",
       "    </tr>\n",
       "    <tr>\n",
       "      <th id=\"T_d4f00_level0_row14\" class=\"row_heading level0 row14\" >15</th>\n",
       "      <td id=\"T_d4f00_row14_col0\" class=\"data row14 col0\" >COL</td>\n",
       "      <td id=\"T_d4f00_row14_col1\" class=\"data row14 col1\" >2022</td>\n",
       "      <td id=\"T_d4f00_row14_col2\" class=\"data row14 col2\" >647,907</td>\n",
       "      <td id=\"T_d4f00_row14_col3\" class=\"data row14 col3\" >2.020981</td>\n",
       "      <td id=\"T_d4f00_row14_col4\" class=\"data row14 col4\" >51,874,024</td>\n",
       "      <td id=\"T_d4f00_row14_col5\" class=\"data row14 col5\" >0.650449</td>\n",
       "      <td id=\"T_d4f00_row14_col6\" class=\"data row14 col6\" >0.012490</td>\n",
       "      <td id=\"T_d4f00_row14_col7\" class=\"data row14 col7\" >Colombia</td>\n",
       "    </tr>\n",
       "    <tr>\n",
       "      <th id=\"T_d4f00_level0_row15\" class=\"row_heading level0 row15\" >16</th>\n",
       "      <td id=\"T_d4f00_row15_col0\" class=\"data row15 col0\" >OMN</td>\n",
       "      <td id=\"T_d4f00_row15_col1\" class=\"data row15 col1\" >2022</td>\n",
       "      <td id=\"T_d4f00_row15_col2\" class=\"data row15 col2\" >55,355</td>\n",
       "      <td id=\"T_d4f00_row15_col3\" class=\"data row15 col3\" >0.172666</td>\n",
       "      <td id=\"T_d4f00_row15_col4\" class=\"data row15 col4\" >4,576,298</td>\n",
       "      <td id=\"T_d4f00_row15_col5\" class=\"data row15 col5\" >0.057382</td>\n",
       "      <td id=\"T_d4f00_row15_col6\" class=\"data row15 col6\" >0.012096</td>\n",
       "      <td id=\"T_d4f00_row15_col7\" class=\"data row15 col7\" >Oman</td>\n",
       "    </tr>\n",
       "    <tr>\n",
       "      <th id=\"T_d4f00_level0_row16\" class=\"row_heading level0 row16\" >17</th>\n",
       "      <td id=\"T_d4f00_row16_col0\" class=\"data row16 col0\" >DOM</td>\n",
       "      <td id=\"T_d4f00_row16_col1\" class=\"data row16 col1\" >2022</td>\n",
       "      <td id=\"T_d4f00_row16_col2\" class=\"data row16 col2\" >130,635</td>\n",
       "      <td id=\"T_d4f00_row16_col3\" class=\"data row16 col3\" >0.407483</td>\n",
       "      <td id=\"T_d4f00_row16_col4\" class=\"data row16 col4\" >11,228,821</td>\n",
       "      <td id=\"T_d4f00_row16_col5\" class=\"data row16 col5\" >0.140798</td>\n",
       "      <td id=\"T_d4f00_row16_col6\" class=\"data row16 col6\" >0.011634</td>\n",
       "      <td id=\"T_d4f00_row16_col7\" class=\"data row16 col7\" >Dominican Republic</td>\n",
       "    </tr>\n",
       "    <tr>\n",
       "      <th id=\"T_d4f00_level0_row17\" class=\"row_heading level0 row17\" >18</th>\n",
       "      <td id=\"T_d4f00_row17_col0\" class=\"data row17 col0\" >NIC</td>\n",
       "      <td id=\"T_d4f00_row17_col1\" class=\"data row17 col1\" >2022</td>\n",
       "      <td id=\"T_d4f00_row17_col2\" class=\"data row17 col2\" >79,591</td>\n",
       "      <td id=\"T_d4f00_row17_col3\" class=\"data row17 col3\" >0.248264</td>\n",
       "      <td id=\"T_d4f00_row17_col4\" class=\"data row17 col4\" >6,948,392</td>\n",
       "      <td id=\"T_d4f00_row17_col5\" class=\"data row17 col5\" >0.087126</td>\n",
       "      <td id=\"T_d4f00_row17_col6\" class=\"data row17 col6\" >0.011455</td>\n",
       "      <td id=\"T_d4f00_row17_col7\" class=\"data row17 col7\" >Nicaragua</td>\n",
       "    </tr>\n",
       "    <tr>\n",
       "      <th id=\"T_d4f00_level0_row18\" class=\"row_heading level0 row18\" >19</th>\n",
       "      <td id=\"T_d4f00_row18_col0\" class=\"data row18 col0\" >HUN</td>\n",
       "      <td id=\"T_d4f00_row18_col1\" class=\"data row18 col1\" >2022</td>\n",
       "      <td id=\"T_d4f00_row18_col2\" class=\"data row18 col2\" >109,434</td>\n",
       "      <td id=\"T_d4f00_row18_col3\" class=\"data row18 col3\" >0.341352</td>\n",
       "      <td id=\"T_d4f00_row18_col4\" class=\"data row18 col4\" >9,967,308</td>\n",
       "      <td id=\"T_d4f00_row18_col5\" class=\"data row18 col5\" >0.124980</td>\n",
       "      <td id=\"T_d4f00_row18_col6\" class=\"data row18 col6\" >0.010979</td>\n",
       "      <td id=\"T_d4f00_row18_col7\" class=\"data row18 col7\" >Hungary</td>\n",
       "    </tr>\n",
       "    <tr>\n",
       "      <th id=\"T_d4f00_level0_row19\" class=\"row_heading level0 row19\" >20</th>\n",
       "      <td id=\"T_d4f00_row19_col0\" class=\"data row19 col0\" >MCO</td>\n",
       "      <td id=\"T_d4f00_row19_col1\" class=\"data row19 col1\" >2022</td>\n",
       "      <td id=\"T_d4f00_row19_col2\" class=\"data row19 col2\" >391</td>\n",
       "      <td id=\"T_d4f00_row19_col3\" class=\"data row19 col3\" >0.001220</td>\n",
       "      <td id=\"T_d4f00_row19_col4\" class=\"data row19 col4\" >36,469</td>\n",
       "      <td id=\"T_d4f00_row19_col5\" class=\"data row19 col5\" >0.000457</td>\n",
       "      <td id=\"T_d4f00_row19_col6\" class=\"data row19 col6\" >0.010721</td>\n",
       "      <td id=\"T_d4f00_row19_col7\" class=\"data row19 col7\" >Monaco</td>\n",
       "    </tr>\n",
       "  </tbody>\n",
       "</table>\n"
      ],
      "text/plain": [
       "<IPython.core.display.HTML object>"
      ]
     },
     "metadata": {},
     "output_type": "display_data"
    }
   ],
   "source": [
    "show_html(h2='Countries with Most CSAM Reports Per Capita')\n",
    "\n",
    "for year, group in reports_per_capita_country_year(country_data):\n",
    "    show_table(\n",
    "        group.head(20),\n",
    "        title=f'reports per capita and country {year}',\n",
    "        highlights='reports_per_capita',\n",
    "    )\n"
   ]
  },
  {
   "cell_type": "code",
   "execution_count": 7,
   "metadata": {},
   "outputs": [
    {
     "data": {
      "application/vnd.plotly.v1+json": {
       "config": {
        "plotlyServerURL": "https://plot.ly"
       },
       "data": [
        {
         "colorbar": {
          "thickness": 20,
          "tickformat": ".3f",
          "title": {
           "font": {
            "size": 13
           },
           "text": "Reports<br>per Capita"
          }
         },
         "colorscale": [
          [
           0,
           "#f0f921"
          ],
          [
           0.1111111111111111,
           "#fdca26"
          ],
          [
           0.2222222222222222,
           "#fb9f3a"
          ],
          [
           0.3333333333333333,
           "#ed7953"
          ],
          [
           0.4444444444444444,
           "#d8576b"
          ],
          [
           0.5555555555555556,
           "#bd3786"
          ],
          [
           0.6666666666666666,
           "#9c179e"
          ],
          [
           0.7777777777777778,
           "#7201a8"
          ],
          [
           0.8888888888888888,
           "#46039f"
          ],
          [
           1,
           "#0d0887"
          ]
         ],
         "locationmode": "ISO-3",
         "locations": [
          "ABW",
          "AFG",
          "AGO",
          "AIA",
          "ALB",
          "AND",
          "ARE",
          "ARG",
          "ARM",
          "ASM",
          "ATG",
          "AUS",
          "AUT",
          "AZE",
          "BDI",
          "BEL",
          "BEN",
          "BES",
          "BFA",
          "BGD",
          "BGR",
          "BHR",
          "BHS",
          "BIH",
          "BLM",
          "BLR",
          "BLZ",
          "BMU",
          "BOL",
          "BRA",
          "BRB",
          "BRN",
          "BTN",
          "BWA",
          "CAF",
          "CAN",
          "CHE",
          "CHL",
          "CHN",
          "CIV",
          "CMR",
          "COD",
          "COG",
          "COK",
          "COL",
          "COM",
          "CPV",
          "CRI",
          "CUB",
          "CUW",
          "CYM",
          "CYP",
          "CZE",
          "DEU",
          "DJI",
          "DMA",
          "DNK",
          "DOM",
          "DZA",
          "ECU",
          "EGY",
          "ERI",
          "ESH",
          "ESP",
          "EST",
          "ETH",
          "FIN",
          "FJI",
          "FLK",
          "FRA",
          "FRO",
          "FSM",
          "GAB",
          "GBR",
          "GEO",
          "GGY",
          "GHA",
          "GIB",
          "GIN",
          "GLP",
          "GMB",
          "GNB",
          "GNQ",
          "GRC",
          "GRD",
          "GRL",
          "GTM",
          "GUF",
          "GUM",
          "GUY",
          "HKG",
          "HND",
          "HRV",
          "HTI",
          "HUN",
          "IDN",
          "IMN",
          "IND",
          "IRL",
          "IRN",
          "IRQ",
          "ISL",
          "ISR",
          "ITA",
          "JAM",
          "JEY",
          "JOR",
          "JPN",
          "KAZ",
          "KEN",
          "KGZ",
          "KHM",
          "KIR",
          "KNA",
          "KOR",
          "KWT",
          "LAO",
          "LBN",
          "LBR",
          "LBY",
          "LCA",
          "LIE",
          "LKA",
          "LSO",
          "LTU",
          "LUX",
          "LVA",
          "MAC",
          "MAF",
          "MAR",
          "MCO",
          "MDA",
          "MDG",
          "MDV",
          "MEX",
          "MHL",
          "MKD",
          "MLI",
          "MLT",
          "MMR",
          "MNE",
          "MNG",
          "MNP",
          "MOZ",
          "MRT",
          "MSR",
          "MTQ",
          "MUS",
          "MWI",
          "MYS",
          "MYT",
          "NAM",
          "NCL",
          "NER",
          "NGA",
          "NIC",
          "NIU",
          "NLD",
          "NOR",
          "NPL",
          "NRU",
          "NZL",
          "OMN",
          "PAK",
          "PAN",
          "PER",
          "PHL",
          "PLW",
          "PNG",
          "POL",
          "PRI",
          "PRK",
          "PRT",
          "PRY",
          "PSE",
          "PYF",
          "QAT",
          "REU",
          "ROU",
          "RUS",
          "RWA",
          "SAU",
          "SDN",
          "SEN",
          "SGP",
          "SHN",
          "SLB",
          "SLE",
          "SLV",
          "SMR",
          "SOM",
          "SPM",
          "SRB",
          "SSD",
          "STP",
          "SUR",
          "SVK",
          "SVN",
          "SWE",
          "SWZ",
          "SXM",
          "SYC",
          "SYR",
          "TCA",
          "TCD",
          "TGO",
          "THA",
          "TJK",
          "TKL",
          "TKM",
          "TLS",
          "TON",
          "TTO",
          "TUN",
          "TUR",
          "TUV",
          "TWN",
          "TZA",
          "UGA",
          "UKR",
          "URY",
          "USA",
          "UZB",
          "VCT",
          "VEN",
          "VGB",
          "VIR",
          "VNM",
          "VUT",
          "WLF",
          "WSM",
          "XKX",
          "YEM",
          "ZAF",
          "ZMB",
          "ZWE"
         ],
         "marker": {
          "line": {
           "width": 0.4
          }
         },
         "showscale": true,
         "text": [
          "Aruba",
          "Afghanistan",
          "Angola",
          "Anguilla",
          "Albania",
          "Andorra",
          "United Arab Emirates",
          "Argentina",
          "Armenia",
          "American Samoa",
          "Antigua and Barbuda",
          "Australia",
          "Austria",
          "Azerbaijan",
          "Burundi",
          "Belgium",
          "Benin",
          "Bonaire, Sint Eustatius, and Saba",
          "Burkina Faso",
          "Bangladesh",
          "Bulgaria",
          "Bahrain",
          "Bahamas",
          "Bosnia and Herzegovina",
          "Saint Barthélemy",
          "Belarus",
          "Belize",
          "Bermuda",
          "Bolivia",
          "Brazil",
          "Barbados",
          "Brunei Darussalam",
          "Bhutan",
          "Botswana",
          "Central African Republic",
          "Canada",
          "Switzerland",
          "Chile",
          "China",
          "Côte d'Ivoire",
          "Cameroon",
          "Democratic Republic of the Congo",
          "Congo",
          "Cook Islands",
          "Colombia",
          "Comoros",
          "Cabo Verde",
          "Costa Rica",
          "Cuba",
          "Curaçao",
          "Cayman Islands",
          "Cyprus",
          "Czechia",
          "Germany",
          "Djibouti",
          "Dominica",
          "Denmark",
          "Dominican Republic",
          "Algeria",
          "Ecuador",
          "Egypt",
          "Eritrea",
          "Western Sahara",
          "Spain",
          "Estonia",
          "Ethiopia",
          "Finland",
          "Fiji",
          "Falkland Islands",
          "France",
          "Faroe Islands",
          "Micronesia",
          "Gabon",
          "United Kingdom of Great Britain and Northern Ireland",
          "Georgia",
          "Guernsey",
          "Ghana",
          "Gibraltar",
          "Guinea",
          "Guadeloupe",
          "Gambia",
          "Guinea-Bissau",
          "Equatorial Guinea",
          "Greece",
          "Grenada",
          "Greenland",
          "Guatemala",
          "French Guiana",
          "Guam",
          "Guyana",
          "Hong Kong",
          "Honduras",
          "Croatia",
          "Haiti",
          "Hungary",
          "Indonesia",
          "Isle of Man",
          "India",
          "Ireland",
          "Iran",
          "Iraq",
          "Iceland",
          "Israel",
          "Italy",
          "Jamaica",
          "Jersey",
          "Jordan",
          "Japan",
          "Kazakhstan",
          "Kenya",
          "Kyrgyzstan",
          "Cambodia",
          "Kiribati",
          "Saint Kitts and Nevis",
          "South Korea",
          "Kuwait",
          "Lao People's Democratic Republic",
          "Lebanon",
          "Liberia",
          "Libya",
          "Saint Lucia",
          "Liechtenstein",
          "Sri Lanka",
          "Lesotho",
          "Lithuania",
          "Luxembourg",
          "Latvia",
          "Macao",
          "Saint Martin (French part)",
          "Morocco",
          "Monaco",
          "Moldova",
          "Madagascar",
          "Maldives",
          "Mexico",
          "Marshall Islands",
          "North Macedonia",
          "Mali",
          "Malta",
          "Myanmar",
          "Montenegro",
          "Mongolia",
          "Northern Mariana Islands",
          "Mozambique",
          "Mauritania",
          "Montserrat",
          "Martinique",
          "Mauritius",
          "Malawi",
          "Malaysia",
          "Mayotte",
          "Namibia",
          "New Caledonia",
          "Niger",
          "Nigeria",
          "Nicaragua",
          "Niue",
          "Netherlands",
          "Norway",
          "Nepal",
          "Nauru",
          "New Zealand",
          "Oman",
          "Pakistan",
          "Panama",
          "Peru",
          "Philippines",
          "Palau",
          "Papua New Guinea",
          "Poland",
          "Puerto Rico",
          "North Korea",
          "Portugal",
          "Paraguay",
          "Palestine",
          "French Polynesia",
          "Qatar",
          "Réunion",
          "Romania",
          "Russian Federation",
          "Rwanda",
          "Saudi Arabia",
          "Sudan",
          "Senegal",
          "Singapore",
          "Saint Helena, Ascension and Tristan da Cunha",
          "Solomon Islands",
          "Sierra Leone",
          "El Salvador",
          "San Marino",
          "Somalia",
          "Saint Pierre and Miquelon",
          "Serbia",
          "South Sudan",
          "Sao Tome and Principe",
          "Suriname",
          "Slovakia",
          "Slovenia",
          "Sweden",
          "Eswatini",
          "Sint Maarten (Dutch part)",
          "Seychelles",
          "Syrian Arab Republic",
          "Turks and Caicos Islands",
          "Chad",
          "Togo",
          "Thailand",
          "Tajikistan",
          "Tokelau",
          "Turkmenistan",
          "Timor-Leste",
          "Tonga",
          "Trinidad and Tobago",
          "Tunisia",
          "Türkiye",
          "Tuvalu",
          "Taiwan",
          "Tanzania",
          "Uganda",
          "Ukraine",
          "Uruguay",
          "United States of America",
          "Uzbekistan",
          "Saint Vincent and the Grenadines",
          "Venezuela",
          "British Virgin Islands",
          "U.S. Virgin Islands",
          "Viet Nam",
          "Vanuatu",
          "Wallis and Futuna",
          "Samoa",
          "Kosovo",
          "Yemen",
          "South Africa",
          "Zambia",
          "Zimbabwe"
         ],
         "type": "choropleth",
         "z": [
          0.0033726971242824797,
          0.004318828798867573,
          0.0003141228107374057,
          0.002600780234070221,
          0.006104978489041311,
          0.0012050875653301547,
          0.035853267224344114,
          0.0012821842276053558,
          0.001699282635409037,
          0.0006973648063227743,
          0.002127728866550148,
          0.0013268436501391915,
          0.0011505708371903414,
          0.0011184673371867767,
          0.00004901119493166981,
          0.0018633311579411198,
          0.0002831468090168264,
          0.0016424856282507528,
          0.00015588279274953142,
          0.0033630661289501883,
          0.002395168146702489,
          0.01746298493697919,
          0.0010406444580120973,
          0.004664190207313212,
          0.0006678752027478294,
          0.0001889606656873377,
          0.004901116693866537,
          0.0010499592553124804,
          0.001918688597528384,
          0.001879608983309784,
          0.002694696266685702,
          0.004725498745574125,
          0.005989896528674496,
          0.0006328754387522992,
          0.00004242392248515883,
          0.0009836209312338155,
          0.0009989984361424037,
          0.0015042948113200114,
          0.0000024200626255240014,
          0.0007234329517131451,
          0.0002290715183698796,
          0.00004288881482955517,
          0.00015419873829889173,
          0.0005260081823495032,
          0.005271880254741991,
          0.0007395832543180284,
          0.0042995956889664505,
          0.0025103588688201784,
          0.0003898664071327526,
          0.0020092487584603353,
          0.0017691353917803248,
          0.002036071505008394,
          0.0013711850510459889,
          0.001057089177736397,
          0.003766315268055501,
          0.0015120120960967689,
          0.0010607538667998188,
          0.0029705336842897503,
          0.016403909307047552,
          0.00568902637556684,
          0.0026188172733209265,
          0.000017720270102646094,
          0.00001284695967522886,
          0.0009937330065417998,
          0.001470190401337112,
          0.00013191308835984502,
          0.0008783786108831653,
          0.003876032293010621,
          0.00026954177897574127,
          0.0011090414173754906,
          0.0011222693059344828,
          0.0006105280169511309,
          0.0005354946927615921,
          0.0011130801533465954,
          0.0016328052506476723,
          0.0004650044095245731,
          0.0004031115759673552,
          0.001499158635459691,
          0.0002669764774154441,
          0.003934409648912095,
          0.00011000907176258448,
          0.00011976917029907275,
          0.00010109263755842607,
          0.0017884392923640045,
          0.002827482806948926,
          0.001501850494359121,
          0.0042439240940989244,
          0.0019537231627081773,
          0.001482588480880539,
          0.0025827759019371446,
          0.000949024042031333,
          0.003212827532232956,
          0.0031643546634277315,
          0.00030796282368129277,
          0.005884281661221745,
          0.0031167446769375315,
          0.000667198837167741,
          0.0014369262407648562,
          0.0013588591057346795,
          0.0006998273951627255,
          0.02470457206933936,
          0.0015244958769316055,
          0.003333093244361007,
          0.0009562192777744255,
          0.0009122981846794322,
          0.0036246438413751227,
          0.011546934183680909,
          0.00020933817425774522,
          0.0005694706770057232,
          0.00025098402498849396,
          0.0009930984402503431,
          0.005642857433723357,
          0.001094646694730403,
          0.001949195171026157,
          0.001608413895266045,
          0.014296458084708743,
          0.003272161200146477,
          0.004866214555163202,
          0.00017651935524700774,
          0.022963309366536115,
          0.0024022308829458406,
          0.0004157788056753807,
          0.00338120720949757,
          0.00039448228019743885,
          0.004161689919177504,
          0.002429138043108329,
          0.0007028231890954399,
          0.0014450322683691628,
          0.0016001449187850974,
          0.008893933761431945,
          0.009180752821731381,
          0.003381903983642339,
          0.00020491673777492966,
          0.009643058187382559,
          0.0066193863482499555,
          0.0007601332468868072,
          0.003827495913301447,
          0.00010978526041958391,
          0.003927447456987699,
          0.004405732767433132,
          0.005901052671654008,
          0.0014342151260816167,
          0.0020257531389145174,
          0.0001547930625104113,
          0.0017653436512069644,
          0.0017758046614872365,
          0.001641392093916641,
          0.0032037856047964983,
          0.000023744739387439785,
          0.005590991591884166,
          0.0015620277837202748,
          0.0003666245000807228,
          0.001268510796358463,
          0.000028408857028502656,
          0.00019208626241273608,
          0.002860926985361778,
          0,
          0.001483189045929273,
          0.0015016045348419558,
          0.0021977285629381513,
          0.002555225848994395,
          0.001002816274298583,
          0.009015010098271301,
          0.005187751283872045,
          0.0016850433735645708,
          0.004899914123017916,
          0.007259160684686074,
          0.0045208461237930455,
          0.00014178695153443244,
          0.0020195824235825586,
          0.0023836226387361605,
          3.882674732690463e-8,
          0.0029513340381653002,
          0.0009428751213432961,
          0.0075376162858786806,
          0.0010676702767267899,
          0.019046143269088624,
          0.0013081670914874344,
          0.005468287553335702,
          0.0004942765856281643,
          0.00006801699224964682,
          0.014369799261246196,
          0.00036741223701568183,
          0.0002243640342078281,
          0.003140935547409359,
          0.00036717459151826694,
          0.0006844515424604404,
          0.00009047042008721696,
          0.003983142620708807,
          0.00020481011176780385,
          0.0010790735998276986,
          0.0008438818565400844,
          0.0043876171184220195,
          0.00006058769489759722,
          0.0032246189404424065,
          0.005607187061157652,
          0.0012411247388119087,
          0.003260917922364596,
          0.0015975968652664093,
          0.00022144076715973574,
          0.0024895300139599814,
          0.014381113889607465,
          0.0015771520826786329,
          0.002669452181987001,
          0.000021082831592945586,
          0.00009741487844248774,
          0.004983973484065122,
          0.0005424652857024893,
          0,
          0.000017212207027127087,
          0.0010223064295186491,
          0.0003525454736019666,
          0.0023270425769183955,
          0.005470601894846462,
          0.0026698191665611346,
          0.0003650967506389193,
          0.001413969655145498,
          0.00011332399761834211,
          0.00011585812781088675,
          0.0005532547881928733,
          0.0015129466758487683,
          0.006550063277610727,
          0.00014434325456679617,
          0.0024112691090694216,
          0.001304791257560313,
          0.0019601437438745506,
          0.0012992551598282206,
          0.003962904679641504,
          0.0015702764409257404,
          0.0003414717432132491,
          0.0005757269732806056,
          0.0004114155362125702,
          0.0013308527350776663,
          0.0006547241894084663,
          0.00015456617366350176,
          0.000025464668326277037
         ]
        }
       ],
       "layout": {
        "geo": {
         "bgcolor": "#eaeaec",
         "fitbounds": "locations",
         "lataxis": {
          "range": [
           -60,
           90
          ]
         },
         "showframe": false,
         "visible": false
        },
        "height": 300,
        "margin": {
         "b": 0,
         "l": 0,
         "r": 0,
         "t": 40
        },
        "template": {
         "data": {
          "bar": [
           {
            "error_x": {
             "color": "#2a3f5f"
            },
            "error_y": {
             "color": "#2a3f5f"
            },
            "marker": {
             "line": {
              "color": "#E5ECF6",
              "width": 0.5
             },
             "pattern": {
              "fillmode": "overlay",
              "size": 10,
              "solidity": 0.2
             }
            },
            "type": "bar"
           }
          ],
          "barpolar": [
           {
            "marker": {
             "line": {
              "color": "#E5ECF6",
              "width": 0.5
             },
             "pattern": {
              "fillmode": "overlay",
              "size": 10,
              "solidity": 0.2
             }
            },
            "type": "barpolar"
           }
          ],
          "carpet": [
           {
            "aaxis": {
             "endlinecolor": "#2a3f5f",
             "gridcolor": "white",
             "linecolor": "white",
             "minorgridcolor": "white",
             "startlinecolor": "#2a3f5f"
            },
            "baxis": {
             "endlinecolor": "#2a3f5f",
             "gridcolor": "white",
             "linecolor": "white",
             "minorgridcolor": "white",
             "startlinecolor": "#2a3f5f"
            },
            "type": "carpet"
           }
          ],
          "choropleth": [
           {
            "colorbar": {
             "outlinewidth": 0,
             "ticks": ""
            },
            "type": "choropleth"
           }
          ],
          "contour": [
           {
            "colorbar": {
             "outlinewidth": 0,
             "ticks": ""
            },
            "colorscale": [
             [
              0,
              "#0d0887"
             ],
             [
              0.1111111111111111,
              "#46039f"
             ],
             [
              0.2222222222222222,
              "#7201a8"
             ],
             [
              0.3333333333333333,
              "#9c179e"
             ],
             [
              0.4444444444444444,
              "#bd3786"
             ],
             [
              0.5555555555555556,
              "#d8576b"
             ],
             [
              0.6666666666666666,
              "#ed7953"
             ],
             [
              0.7777777777777778,
              "#fb9f3a"
             ],
             [
              0.8888888888888888,
              "#fdca26"
             ],
             [
              1,
              "#f0f921"
             ]
            ],
            "type": "contour"
           }
          ],
          "contourcarpet": [
           {
            "colorbar": {
             "outlinewidth": 0,
             "ticks": ""
            },
            "type": "contourcarpet"
           }
          ],
          "heatmap": [
           {
            "colorbar": {
             "outlinewidth": 0,
             "ticks": ""
            },
            "colorscale": [
             [
              0,
              "#0d0887"
             ],
             [
              0.1111111111111111,
              "#46039f"
             ],
             [
              0.2222222222222222,
              "#7201a8"
             ],
             [
              0.3333333333333333,
              "#9c179e"
             ],
             [
              0.4444444444444444,
              "#bd3786"
             ],
             [
              0.5555555555555556,
              "#d8576b"
             ],
             [
              0.6666666666666666,
              "#ed7953"
             ],
             [
              0.7777777777777778,
              "#fb9f3a"
             ],
             [
              0.8888888888888888,
              "#fdca26"
             ],
             [
              1,
              "#f0f921"
             ]
            ],
            "type": "heatmap"
           }
          ],
          "heatmapgl": [
           {
            "colorbar": {
             "outlinewidth": 0,
             "ticks": ""
            },
            "colorscale": [
             [
              0,
              "#0d0887"
             ],
             [
              0.1111111111111111,
              "#46039f"
             ],
             [
              0.2222222222222222,
              "#7201a8"
             ],
             [
              0.3333333333333333,
              "#9c179e"
             ],
             [
              0.4444444444444444,
              "#bd3786"
             ],
             [
              0.5555555555555556,
              "#d8576b"
             ],
             [
              0.6666666666666666,
              "#ed7953"
             ],
             [
              0.7777777777777778,
              "#fb9f3a"
             ],
             [
              0.8888888888888888,
              "#fdca26"
             ],
             [
              1,
              "#f0f921"
             ]
            ],
            "type": "heatmapgl"
           }
          ],
          "histogram": [
           {
            "marker": {
             "pattern": {
              "fillmode": "overlay",
              "size": 10,
              "solidity": 0.2
             }
            },
            "type": "histogram"
           }
          ],
          "histogram2d": [
           {
            "colorbar": {
             "outlinewidth": 0,
             "ticks": ""
            },
            "colorscale": [
             [
              0,
              "#0d0887"
             ],
             [
              0.1111111111111111,
              "#46039f"
             ],
             [
              0.2222222222222222,
              "#7201a8"
             ],
             [
              0.3333333333333333,
              "#9c179e"
             ],
             [
              0.4444444444444444,
              "#bd3786"
             ],
             [
              0.5555555555555556,
              "#d8576b"
             ],
             [
              0.6666666666666666,
              "#ed7953"
             ],
             [
              0.7777777777777778,
              "#fb9f3a"
             ],
             [
              0.8888888888888888,
              "#fdca26"
             ],
             [
              1,
              "#f0f921"
             ]
            ],
            "type": "histogram2d"
           }
          ],
          "histogram2dcontour": [
           {
            "colorbar": {
             "outlinewidth": 0,
             "ticks": ""
            },
            "colorscale": [
             [
              0,
              "#0d0887"
             ],
             [
              0.1111111111111111,
              "#46039f"
             ],
             [
              0.2222222222222222,
              "#7201a8"
             ],
             [
              0.3333333333333333,
              "#9c179e"
             ],
             [
              0.4444444444444444,
              "#bd3786"
             ],
             [
              0.5555555555555556,
              "#d8576b"
             ],
             [
              0.6666666666666666,
              "#ed7953"
             ],
             [
              0.7777777777777778,
              "#fb9f3a"
             ],
             [
              0.8888888888888888,
              "#fdca26"
             ],
             [
              1,
              "#f0f921"
             ]
            ],
            "type": "histogram2dcontour"
           }
          ],
          "mesh3d": [
           {
            "colorbar": {
             "outlinewidth": 0,
             "ticks": ""
            },
            "type": "mesh3d"
           }
          ],
          "parcoords": [
           {
            "line": {
             "colorbar": {
              "outlinewidth": 0,
              "ticks": ""
             }
            },
            "type": "parcoords"
           }
          ],
          "pie": [
           {
            "automargin": true,
            "type": "pie"
           }
          ],
          "scatter": [
           {
            "fillpattern": {
             "fillmode": "overlay",
             "size": 10,
             "solidity": 0.2
            },
            "type": "scatter"
           }
          ],
          "scatter3d": [
           {
            "line": {
             "colorbar": {
              "outlinewidth": 0,
              "ticks": ""
             }
            },
            "marker": {
             "colorbar": {
              "outlinewidth": 0,
              "ticks": ""
             }
            },
            "type": "scatter3d"
           }
          ],
          "scattercarpet": [
           {
            "marker": {
             "colorbar": {
              "outlinewidth": 0,
              "ticks": ""
             }
            },
            "type": "scattercarpet"
           }
          ],
          "scattergeo": [
           {
            "marker": {
             "colorbar": {
              "outlinewidth": 0,
              "ticks": ""
             }
            },
            "type": "scattergeo"
           }
          ],
          "scattergl": [
           {
            "marker": {
             "colorbar": {
              "outlinewidth": 0,
              "ticks": ""
             }
            },
            "type": "scattergl"
           }
          ],
          "scattermapbox": [
           {
            "marker": {
             "colorbar": {
              "outlinewidth": 0,
              "ticks": ""
             }
            },
            "type": "scattermapbox"
           }
          ],
          "scatterpolar": [
           {
            "marker": {
             "colorbar": {
              "outlinewidth": 0,
              "ticks": ""
             }
            },
            "type": "scatterpolar"
           }
          ],
          "scatterpolargl": [
           {
            "marker": {
             "colorbar": {
              "outlinewidth": 0,
              "ticks": ""
             }
            },
            "type": "scatterpolargl"
           }
          ],
          "scatterternary": [
           {
            "marker": {
             "colorbar": {
              "outlinewidth": 0,
              "ticks": ""
             }
            },
            "type": "scatterternary"
           }
          ],
          "surface": [
           {
            "colorbar": {
             "outlinewidth": 0,
             "ticks": ""
            },
            "colorscale": [
             [
              0,
              "#0d0887"
             ],
             [
              0.1111111111111111,
              "#46039f"
             ],
             [
              0.2222222222222222,
              "#7201a8"
             ],
             [
              0.3333333333333333,
              "#9c179e"
             ],
             [
              0.4444444444444444,
              "#bd3786"
             ],
             [
              0.5555555555555556,
              "#d8576b"
             ],
             [
              0.6666666666666666,
              "#ed7953"
             ],
             [
              0.7777777777777778,
              "#fb9f3a"
             ],
             [
              0.8888888888888888,
              "#fdca26"
             ],
             [
              1,
              "#f0f921"
             ]
            ],
            "type": "surface"
           }
          ],
          "table": [
           {
            "cells": {
             "fill": {
              "color": "#EBF0F8"
             },
             "line": {
              "color": "white"
             }
            },
            "header": {
             "fill": {
              "color": "#C8D4E3"
             },
             "line": {
              "color": "white"
             }
            },
            "type": "table"
           }
          ]
         },
         "layout": {
          "annotationdefaults": {
           "arrowcolor": "#2a3f5f",
           "arrowhead": 0,
           "arrowwidth": 1
          },
          "autotypenumbers": "strict",
          "coloraxis": {
           "colorbar": {
            "outlinewidth": 0,
            "ticks": ""
           }
          },
          "colorscale": {
           "diverging": [
            [
             0,
             "#8e0152"
            ],
            [
             0.1,
             "#c51b7d"
            ],
            [
             0.2,
             "#de77ae"
            ],
            [
             0.3,
             "#f1b6da"
            ],
            [
             0.4,
             "#fde0ef"
            ],
            [
             0.5,
             "#f7f7f7"
            ],
            [
             0.6,
             "#e6f5d0"
            ],
            [
             0.7,
             "#b8e186"
            ],
            [
             0.8,
             "#7fbc41"
            ],
            [
             0.9,
             "#4d9221"
            ],
            [
             1,
             "#276419"
            ]
           ],
           "sequential": [
            [
             0,
             "#0d0887"
            ],
            [
             0.1111111111111111,
             "#46039f"
            ],
            [
             0.2222222222222222,
             "#7201a8"
            ],
            [
             0.3333333333333333,
             "#9c179e"
            ],
            [
             0.4444444444444444,
             "#bd3786"
            ],
            [
             0.5555555555555556,
             "#d8576b"
            ],
            [
             0.6666666666666666,
             "#ed7953"
            ],
            [
             0.7777777777777778,
             "#fb9f3a"
            ],
            [
             0.8888888888888888,
             "#fdca26"
            ],
            [
             1,
             "#f0f921"
            ]
           ],
           "sequentialminus": [
            [
             0,
             "#0d0887"
            ],
            [
             0.1111111111111111,
             "#46039f"
            ],
            [
             0.2222222222222222,
             "#7201a8"
            ],
            [
             0.3333333333333333,
             "#9c179e"
            ],
            [
             0.4444444444444444,
             "#bd3786"
            ],
            [
             0.5555555555555556,
             "#d8576b"
            ],
            [
             0.6666666666666666,
             "#ed7953"
            ],
            [
             0.7777777777777778,
             "#fb9f3a"
            ],
            [
             0.8888888888888888,
             "#fdca26"
            ],
            [
             1,
             "#f0f921"
            ]
           ]
          },
          "colorway": [
           "#636efa",
           "#EF553B",
           "#00cc96",
           "#ab63fa",
           "#FFA15A",
           "#19d3f3",
           "#FF6692",
           "#B6E880",
           "#FF97FF",
           "#FECB52"
          ],
          "font": {
           "color": "#2a3f5f"
          },
          "geo": {
           "bgcolor": "white",
           "lakecolor": "white",
           "landcolor": "#E5ECF6",
           "showlakes": true,
           "showland": true,
           "subunitcolor": "white"
          },
          "hoverlabel": {
           "align": "left"
          },
          "hovermode": "closest",
          "mapbox": {
           "style": "light"
          },
          "paper_bgcolor": "white",
          "plot_bgcolor": "#E5ECF6",
          "polar": {
           "angularaxis": {
            "gridcolor": "white",
            "linecolor": "white",
            "ticks": ""
           },
           "bgcolor": "#E5ECF6",
           "radialaxis": {
            "gridcolor": "white",
            "linecolor": "white",
            "ticks": ""
           }
          },
          "scene": {
           "xaxis": {
            "backgroundcolor": "#E5ECF6",
            "gridcolor": "white",
            "gridwidth": 2,
            "linecolor": "white",
            "showbackground": true,
            "ticks": "",
            "zerolinecolor": "white"
           },
           "yaxis": {
            "backgroundcolor": "#E5ECF6",
            "gridcolor": "white",
            "gridwidth": 2,
            "linecolor": "white",
            "showbackground": true,
            "ticks": "",
            "zerolinecolor": "white"
           },
           "zaxis": {
            "backgroundcolor": "#E5ECF6",
            "gridcolor": "white",
            "gridwidth": 2,
            "linecolor": "white",
            "showbackground": true,
            "ticks": "",
            "zerolinecolor": "white"
           }
          },
          "shapedefaults": {
           "line": {
            "color": "#2a3f5f"
           }
          },
          "ternary": {
           "aaxis": {
            "gridcolor": "white",
            "linecolor": "white",
            "ticks": ""
           },
           "baxis": {
            "gridcolor": "white",
            "linecolor": "white",
            "ticks": ""
           },
           "bgcolor": "#E5ECF6",
           "caxis": {
            "gridcolor": "white",
            "linecolor": "white",
            "ticks": ""
           }
          },
          "title": {
           "x": 0.05
          },
          "xaxis": {
           "automargin": true,
           "gridcolor": "white",
           "linecolor": "white",
           "ticks": "",
           "title": {
            "standoff": 15
           },
           "zerolinecolor": "white",
           "zerolinewidth": 2
          },
          "yaxis": {
           "automargin": true,
           "gridcolor": "white",
           "linecolor": "white",
           "ticks": "",
           "title": {
            "standoff": 15
           },
           "zerolinecolor": "white",
           "zerolinewidth": 2
          }
         }
        },
        "title": {
         "text": "CSAM Reports per Capita 2019"
        },
        "width": 600
       }
      },
      "text/html": [
       "<div>                            <div id=\"1167dd26-5c2e-42ae-9a77-2c96cb48a30e\" class=\"plotly-graph-div\" style=\"height:300px; width:600px;\"></div>            <script type=\"text/javascript\">                require([\"plotly\"], function(Plotly) {                    window.PLOTLYENV=window.PLOTLYENV || {};                                    if (document.getElementById(\"1167dd26-5c2e-42ae-9a77-2c96cb48a30e\")) {                    Plotly.newPlot(                        \"1167dd26-5c2e-42ae-9a77-2c96cb48a30e\",                        [{\"colorbar\":{\"title\":{\"text\":\"Reports<br>per Capita\",\"font\":{\"size\":13}},\"thickness\":20,\"tickformat\":\".3f\"},\"colorscale\":[[0.0,\"#f0f921\"],[0.1111111111111111,\"#fdca26\"],[0.2222222222222222,\"#fb9f3a\"],[0.3333333333333333,\"#ed7953\"],[0.4444444444444444,\"#d8576b\"],[0.5555555555555556,\"#bd3786\"],[0.6666666666666666,\"#9c179e\"],[0.7777777777777778,\"#7201a8\"],[0.8888888888888888,\"#46039f\"],[1.0,\"#0d0887\"]],\"locationmode\":\"ISO-3\",\"locations\":[\"ABW\",\"AFG\",\"AGO\",\"AIA\",\"ALB\",\"AND\",\"ARE\",\"ARG\",\"ARM\",\"ASM\",\"ATG\",\"AUS\",\"AUT\",\"AZE\",\"BDI\",\"BEL\",\"BEN\",\"BES\",\"BFA\",\"BGD\",\"BGR\",\"BHR\",\"BHS\",\"BIH\",\"BLM\",\"BLR\",\"BLZ\",\"BMU\",\"BOL\",\"BRA\",\"BRB\",\"BRN\",\"BTN\",\"BWA\",\"CAF\",\"CAN\",\"CHE\",\"CHL\",\"CHN\",\"CIV\",\"CMR\",\"COD\",\"COG\",\"COK\",\"COL\",\"COM\",\"CPV\",\"CRI\",\"CUB\",\"CUW\",\"CYM\",\"CYP\",\"CZE\",\"DEU\",\"DJI\",\"DMA\",\"DNK\",\"DOM\",\"DZA\",\"ECU\",\"EGY\",\"ERI\",\"ESH\",\"ESP\",\"EST\",\"ETH\",\"FIN\",\"FJI\",\"FLK\",\"FRA\",\"FRO\",\"FSM\",\"GAB\",\"GBR\",\"GEO\",\"GGY\",\"GHA\",\"GIB\",\"GIN\",\"GLP\",\"GMB\",\"GNB\",\"GNQ\",\"GRC\",\"GRD\",\"GRL\",\"GTM\",\"GUF\",\"GUM\",\"GUY\",\"HKG\",\"HND\",\"HRV\",\"HTI\",\"HUN\",\"IDN\",\"IMN\",\"IND\",\"IRL\",\"IRN\",\"IRQ\",\"ISL\",\"ISR\",\"ITA\",\"JAM\",\"JEY\",\"JOR\",\"JPN\",\"KAZ\",\"KEN\",\"KGZ\",\"KHM\",\"KIR\",\"KNA\",\"KOR\",\"KWT\",\"LAO\",\"LBN\",\"LBR\",\"LBY\",\"LCA\",\"LIE\",\"LKA\",\"LSO\",\"LTU\",\"LUX\",\"LVA\",\"MAC\",\"MAF\",\"MAR\",\"MCO\",\"MDA\",\"MDG\",\"MDV\",\"MEX\",\"MHL\",\"MKD\",\"MLI\",\"MLT\",\"MMR\",\"MNE\",\"MNG\",\"MNP\",\"MOZ\",\"MRT\",\"MSR\",\"MTQ\",\"MUS\",\"MWI\",\"MYS\",\"MYT\",\"NAM\",\"NCL\",\"NER\",\"NGA\",\"NIC\",\"NIU\",\"NLD\",\"NOR\",\"NPL\",\"NRU\",\"NZL\",\"OMN\",\"PAK\",\"PAN\",\"PER\",\"PHL\",\"PLW\",\"PNG\",\"POL\",\"PRI\",\"PRK\",\"PRT\",\"PRY\",\"PSE\",\"PYF\",\"QAT\",\"REU\",\"ROU\",\"RUS\",\"RWA\",\"SAU\",\"SDN\",\"SEN\",\"SGP\",\"SHN\",\"SLB\",\"SLE\",\"SLV\",\"SMR\",\"SOM\",\"SPM\",\"SRB\",\"SSD\",\"STP\",\"SUR\",\"SVK\",\"SVN\",\"SWE\",\"SWZ\",\"SXM\",\"SYC\",\"SYR\",\"TCA\",\"TCD\",\"TGO\",\"THA\",\"TJK\",\"TKL\",\"TKM\",\"TLS\",\"TON\",\"TTO\",\"TUN\",\"TUR\",\"TUV\",\"TWN\",\"TZA\",\"UGA\",\"UKR\",\"URY\",\"USA\",\"UZB\",\"VCT\",\"VEN\",\"VGB\",\"VIR\",\"VNM\",\"VUT\",\"WLF\",\"WSM\",\"XKX\",\"YEM\",\"ZAF\",\"ZMB\",\"ZWE\"],\"showscale\":true,\"text\":[\"Aruba\",\"Afghanistan\",\"Angola\",\"Anguilla\",\"Albania\",\"Andorra\",\"United Arab Emirates\",\"Argentina\",\"Armenia\",\"American Samoa\",\"Antigua and Barbuda\",\"Australia\",\"Austria\",\"Azerbaijan\",\"Burundi\",\"Belgium\",\"Benin\",\"Bonaire, Sint Eustatius, and Saba\",\"Burkina Faso\",\"Bangladesh\",\"Bulgaria\",\"Bahrain\",\"Bahamas\",\"Bosnia and Herzegovina\",\"Saint Barth\\u00e9lemy\",\"Belarus\",\"Belize\",\"Bermuda\",\"Bolivia\",\"Brazil\",\"Barbados\",\"Brunei Darussalam\",\"Bhutan\",\"Botswana\",\"Central African Republic\",\"Canada\",\"Switzerland\",\"Chile\",\"China\",\"C\\u00f4te d'Ivoire\",\"Cameroon\",\"Democratic Republic of the Congo\",\"Congo\",\"Cook Islands\",\"Colombia\",\"Comoros\",\"Cabo Verde\",\"Costa Rica\",\"Cuba\",\"Cura\\u00e7ao\",\"Cayman Islands\",\"Cyprus\",\"Czechia\",\"Germany\",\"Djibouti\",\"Dominica\",\"Denmark\",\"Dominican Republic\",\"Algeria\",\"Ecuador\",\"Egypt\",\"Eritrea\",\"Western Sahara\",\"Spain\",\"Estonia\",\"Ethiopia\",\"Finland\",\"Fiji\",\"Falkland Islands\",\"France\",\"Faroe Islands\",\"Micronesia\",\"Gabon\",\"United Kingdom of Great Britain and Northern Ireland\",\"Georgia\",\"Guernsey\",\"Ghana\",\"Gibraltar\",\"Guinea\",\"Guadeloupe\",\"Gambia\",\"Guinea-Bissau\",\"Equatorial Guinea\",\"Greece\",\"Grenada\",\"Greenland\",\"Guatemala\",\"French Guiana\",\"Guam\",\"Guyana\",\"Hong Kong\",\"Honduras\",\"Croatia\",\"Haiti\",\"Hungary\",\"Indonesia\",\"Isle of Man\",\"India\",\"Ireland\",\"Iran\",\"Iraq\",\"Iceland\",\"Israel\",\"Italy\",\"Jamaica\",\"Jersey\",\"Jordan\",\"Japan\",\"Kazakhstan\",\"Kenya\",\"Kyrgyzstan\",\"Cambodia\",\"Kiribati\",\"Saint Kitts and Nevis\",\"South Korea\",\"Kuwait\",\"Lao People's Democratic Republic\",\"Lebanon\",\"Liberia\",\"Libya\",\"Saint Lucia\",\"Liechtenstein\",\"Sri Lanka\",\"Lesotho\",\"Lithuania\",\"Luxembourg\",\"Latvia\",\"Macao\",\"Saint Martin (French part)\",\"Morocco\",\"Monaco\",\"Moldova\",\"Madagascar\",\"Maldives\",\"Mexico\",\"Marshall Islands\",\"North Macedonia\",\"Mali\",\"Malta\",\"Myanmar\",\"Montenegro\",\"Mongolia\",\"Northern Mariana Islands\",\"Mozambique\",\"Mauritania\",\"Montserrat\",\"Martinique\",\"Mauritius\",\"Malawi\",\"Malaysia\",\"Mayotte\",\"Namibia\",\"New Caledonia\",\"Niger\",\"Nigeria\",\"Nicaragua\",\"Niue\",\"Netherlands\",\"Norway\",\"Nepal\",\"Nauru\",\"New Zealand\",\"Oman\",\"Pakistan\",\"Panama\",\"Peru\",\"Philippines\",\"Palau\",\"Papua New Guinea\",\"Poland\",\"Puerto Rico\",\"North Korea\",\"Portugal\",\"Paraguay\",\"Palestine\",\"French Polynesia\",\"Qatar\",\"R\\u00e9union\",\"Romania\",\"Russian Federation\",\"Rwanda\",\"Saudi Arabia\",\"Sudan\",\"Senegal\",\"Singapore\",\"Saint Helena, Ascension and Tristan da Cunha\",\"Solomon Islands\",\"Sierra Leone\",\"El Salvador\",\"San Marino\",\"Somalia\",\"Saint Pierre and Miquelon\",\"Serbia\",\"South Sudan\",\"Sao Tome and Principe\",\"Suriname\",\"Slovakia\",\"Slovenia\",\"Sweden\",\"Eswatini\",\"Sint Maarten (Dutch part)\",\"Seychelles\",\"Syrian Arab Republic\",\"Turks and Caicos Islands\",\"Chad\",\"Togo\",\"Thailand\",\"Tajikistan\",\"Tokelau\",\"Turkmenistan\",\"Timor-Leste\",\"Tonga\",\"Trinidad and Tobago\",\"Tunisia\",\"T\\u00fcrkiye\",\"Tuvalu\",\"Taiwan\",\"Tanzania\",\"Uganda\",\"Ukraine\",\"Uruguay\",\"United States of America\",\"Uzbekistan\",\"Saint Vincent and the Grenadines\",\"Venezuela\",\"British Virgin Islands\",\"U.S. Virgin Islands\",\"Viet Nam\",\"Vanuatu\",\"Wallis and Futuna\",\"Samoa\",\"Kosovo\",\"Yemen\",\"South Africa\",\"Zambia\",\"Zimbabwe\"],\"z\":[0.0033726971242824797,0.004318828798867573,0.0003141228107374057,0.002600780234070221,0.006104978489041311,0.0012050875653301547,0.035853267224344114,0.0012821842276053558,0.001699282635409037,0.0006973648063227743,0.002127728866550148,0.0013268436501391915,0.0011505708371903414,0.0011184673371867767,4.901119493166981e-05,0.0018633311579411198,0.0002831468090168264,0.0016424856282507528,0.00015588279274953142,0.0033630661289501883,0.002395168146702489,0.01746298493697919,0.0010406444580120973,0.004664190207313212,0.0006678752027478294,0.0001889606656873377,0.004901116693866537,0.0010499592553124804,0.001918688597528384,0.001879608983309784,0.002694696266685702,0.004725498745574125,0.005989896528674496,0.0006328754387522992,4.242392248515883e-05,0.0009836209312338155,0.0009989984361424037,0.0015042948113200114,2.4200626255240014e-06,0.0007234329517131451,0.0002290715183698796,4.288881482955517e-05,0.00015419873829889173,0.0005260081823495032,0.005271880254741991,0.0007395832543180284,0.0042995956889664505,0.0025103588688201784,0.0003898664071327526,0.0020092487584603353,0.0017691353917803248,0.002036071505008394,0.0013711850510459889,0.001057089177736397,0.003766315268055501,0.0015120120960967689,0.0010607538667998188,0.0029705336842897503,0.016403909307047552,0.00568902637556684,0.0026188172733209265,1.7720270102646094e-05,1.284695967522886e-05,0.0009937330065417998,0.001470190401337112,0.00013191308835984502,0.0008783786108831653,0.003876032293010621,0.00026954177897574127,0.0011090414173754906,0.0011222693059344828,0.0006105280169511309,0.0005354946927615921,0.0011130801533465954,0.0016328052506476723,0.0004650044095245731,0.0004031115759673552,0.001499158635459691,0.0002669764774154441,0.003934409648912095,0.00011000907176258448,0.00011976917029907275,0.00010109263755842607,0.0017884392923640045,0.002827482806948926,0.001501850494359121,0.0042439240940989244,0.0019537231627081773,0.001482588480880539,0.0025827759019371446,0.000949024042031333,0.003212827532232956,0.0031643546634277315,0.00030796282368129277,0.005884281661221745,0.0031167446769375315,0.000667198837167741,0.0014369262407648562,0.0013588591057346795,0.0006998273951627255,0.02470457206933936,0.0015244958769316055,0.003333093244361007,0.0009562192777744255,0.0009122981846794322,0.0036246438413751227,0.011546934183680909,0.00020933817425774522,0.0005694706770057232,0.00025098402498849396,0.0009930984402503431,0.005642857433723357,0.001094646694730403,0.001949195171026157,0.001608413895266045,0.014296458084708743,0.003272161200146477,0.004866214555163202,0.00017651935524700774,0.022963309366536115,0.0024022308829458406,0.0004157788056753807,0.00338120720949757,0.00039448228019743885,0.004161689919177504,0.002429138043108329,0.0007028231890954399,0.0014450322683691628,0.0016001449187850974,0.008893933761431945,0.009180752821731381,0.003381903983642339,0.00020491673777492966,0.009643058187382559,0.0066193863482499555,0.0007601332468868072,0.003827495913301447,0.00010978526041958391,0.003927447456987699,0.004405732767433132,0.005901052671654008,0.0014342151260816167,0.0020257531389145174,0.0001547930625104113,0.0017653436512069644,0.0017758046614872365,0.001641392093916641,0.0032037856047964983,2.3744739387439785e-05,0.005590991591884166,0.0015620277837202748,0.0003666245000807228,0.001268510796358463,2.8408857028502656e-05,0.00019208626241273608,0.002860926985361778,0.0,0.001483189045929273,0.0015016045348419558,0.0021977285629381513,0.002555225848994395,0.001002816274298583,0.009015010098271301,0.005187751283872045,0.0016850433735645708,0.004899914123017916,0.007259160684686074,0.0045208461237930455,0.00014178695153443244,0.0020195824235825586,0.0023836226387361605,3.882674732690463e-08,0.0029513340381653002,0.0009428751213432961,0.0075376162858786806,0.0010676702767267899,0.019046143269088624,0.0013081670914874344,0.005468287553335702,0.0004942765856281643,6.801699224964682e-05,0.014369799261246196,0.00036741223701568183,0.0002243640342078281,0.003140935547409359,0.00036717459151826694,0.0006844515424604404,9.047042008721696e-05,0.003983142620708807,0.00020481011176780385,0.0010790735998276986,0.0008438818565400844,0.0043876171184220195,6.058769489759722e-05,0.0032246189404424065,0.005607187061157652,0.0012411247388119087,0.003260917922364596,0.0015975968652664093,0.00022144076715973574,0.0024895300139599814,0.014381113889607465,0.0015771520826786329,0.002669452181987001,2.1082831592945586e-05,9.741487844248774e-05,0.004983973484065122,0.0005424652857024893,0.0,1.7212207027127087e-05,0.0010223064295186491,0.0003525454736019666,0.0023270425769183955,0.005470601894846462,0.0026698191665611346,0.0003650967506389193,0.001413969655145498,0.00011332399761834211,0.00011585812781088675,0.0005532547881928733,0.0015129466758487683,0.006550063277610727,0.00014434325456679617,0.0024112691090694216,0.001304791257560313,0.0019601437438745506,0.0012992551598282206,0.003962904679641504,0.0015702764409257404,0.0003414717432132491,0.0005757269732806056,0.0004114155362125702,0.0013308527350776663,0.0006547241894084663,0.00015456617366350176,2.5464668326277037e-05],\"type\":\"choropleth\",\"marker\":{\"line\":{\"width\":0.4}}}],                        {\"geo\":{\"bgcolor\":\"#eaeaec\",\"showframe\":false,\"lataxis\":{\"range\":[-60,90]},\"fitbounds\":\"locations\",\"visible\":false},\"height\":300,\"margin\":{\"b\":0,\"l\":0,\"r\":0,\"t\":40},\"width\":600,\"template\":{\"data\":{\"histogram2dcontour\":[{\"type\":\"histogram2dcontour\",\"colorbar\":{\"outlinewidth\":0,\"ticks\":\"\"},\"colorscale\":[[0.0,\"#0d0887\"],[0.1111111111111111,\"#46039f\"],[0.2222222222222222,\"#7201a8\"],[0.3333333333333333,\"#9c179e\"],[0.4444444444444444,\"#bd3786\"],[0.5555555555555556,\"#d8576b\"],[0.6666666666666666,\"#ed7953\"],[0.7777777777777778,\"#fb9f3a\"],[0.8888888888888888,\"#fdca26\"],[1.0,\"#f0f921\"]]}],\"choropleth\":[{\"type\":\"choropleth\",\"colorbar\":{\"outlinewidth\":0,\"ticks\":\"\"}}],\"histogram2d\":[{\"type\":\"histogram2d\",\"colorbar\":{\"outlinewidth\":0,\"ticks\":\"\"},\"colorscale\":[[0.0,\"#0d0887\"],[0.1111111111111111,\"#46039f\"],[0.2222222222222222,\"#7201a8\"],[0.3333333333333333,\"#9c179e\"],[0.4444444444444444,\"#bd3786\"],[0.5555555555555556,\"#d8576b\"],[0.6666666666666666,\"#ed7953\"],[0.7777777777777778,\"#fb9f3a\"],[0.8888888888888888,\"#fdca26\"],[1.0,\"#f0f921\"]]}],\"heatmap\":[{\"type\":\"heatmap\",\"colorbar\":{\"outlinewidth\":0,\"ticks\":\"\"},\"colorscale\":[[0.0,\"#0d0887\"],[0.1111111111111111,\"#46039f\"],[0.2222222222222222,\"#7201a8\"],[0.3333333333333333,\"#9c179e\"],[0.4444444444444444,\"#bd3786\"],[0.5555555555555556,\"#d8576b\"],[0.6666666666666666,\"#ed7953\"],[0.7777777777777778,\"#fb9f3a\"],[0.8888888888888888,\"#fdca26\"],[1.0,\"#f0f921\"]]}],\"heatmapgl\":[{\"type\":\"heatmapgl\",\"colorbar\":{\"outlinewidth\":0,\"ticks\":\"\"},\"colorscale\":[[0.0,\"#0d0887\"],[0.1111111111111111,\"#46039f\"],[0.2222222222222222,\"#7201a8\"],[0.3333333333333333,\"#9c179e\"],[0.4444444444444444,\"#bd3786\"],[0.5555555555555556,\"#d8576b\"],[0.6666666666666666,\"#ed7953\"],[0.7777777777777778,\"#fb9f3a\"],[0.8888888888888888,\"#fdca26\"],[1.0,\"#f0f921\"]]}],\"contourcarpet\":[{\"type\":\"contourcarpet\",\"colorbar\":{\"outlinewidth\":0,\"ticks\":\"\"}}],\"contour\":[{\"type\":\"contour\",\"colorbar\":{\"outlinewidth\":0,\"ticks\":\"\"},\"colorscale\":[[0.0,\"#0d0887\"],[0.1111111111111111,\"#46039f\"],[0.2222222222222222,\"#7201a8\"],[0.3333333333333333,\"#9c179e\"],[0.4444444444444444,\"#bd3786\"],[0.5555555555555556,\"#d8576b\"],[0.6666666666666666,\"#ed7953\"],[0.7777777777777778,\"#fb9f3a\"],[0.8888888888888888,\"#fdca26\"],[1.0,\"#f0f921\"]]}],\"surface\":[{\"type\":\"surface\",\"colorbar\":{\"outlinewidth\":0,\"ticks\":\"\"},\"colorscale\":[[0.0,\"#0d0887\"],[0.1111111111111111,\"#46039f\"],[0.2222222222222222,\"#7201a8\"],[0.3333333333333333,\"#9c179e\"],[0.4444444444444444,\"#bd3786\"],[0.5555555555555556,\"#d8576b\"],[0.6666666666666666,\"#ed7953\"],[0.7777777777777778,\"#fb9f3a\"],[0.8888888888888888,\"#fdca26\"],[1.0,\"#f0f921\"]]}],\"mesh3d\":[{\"type\":\"mesh3d\",\"colorbar\":{\"outlinewidth\":0,\"ticks\":\"\"}}],\"scatter\":[{\"fillpattern\":{\"fillmode\":\"overlay\",\"size\":10,\"solidity\":0.2},\"type\":\"scatter\"}],\"parcoords\":[{\"type\":\"parcoords\",\"line\":{\"colorbar\":{\"outlinewidth\":0,\"ticks\":\"\"}}}],\"scatterpolargl\":[{\"type\":\"scatterpolargl\",\"marker\":{\"colorbar\":{\"outlinewidth\":0,\"ticks\":\"\"}}}],\"bar\":[{\"error_x\":{\"color\":\"#2a3f5f\"},\"error_y\":{\"color\":\"#2a3f5f\"},\"marker\":{\"line\":{\"color\":\"#E5ECF6\",\"width\":0.5},\"pattern\":{\"fillmode\":\"overlay\",\"size\":10,\"solidity\":0.2}},\"type\":\"bar\"}],\"scattergeo\":[{\"type\":\"scattergeo\",\"marker\":{\"colorbar\":{\"outlinewidth\":0,\"ticks\":\"\"}}}],\"scatterpolar\":[{\"type\":\"scatterpolar\",\"marker\":{\"colorbar\":{\"outlinewidth\":0,\"ticks\":\"\"}}}],\"histogram\":[{\"marker\":{\"pattern\":{\"fillmode\":\"overlay\",\"size\":10,\"solidity\":0.2}},\"type\":\"histogram\"}],\"scattergl\":[{\"type\":\"scattergl\",\"marker\":{\"colorbar\":{\"outlinewidth\":0,\"ticks\":\"\"}}}],\"scatter3d\":[{\"type\":\"scatter3d\",\"line\":{\"colorbar\":{\"outlinewidth\":0,\"ticks\":\"\"}},\"marker\":{\"colorbar\":{\"outlinewidth\":0,\"ticks\":\"\"}}}],\"scattermapbox\":[{\"type\":\"scattermapbox\",\"marker\":{\"colorbar\":{\"outlinewidth\":0,\"ticks\":\"\"}}}],\"scatterternary\":[{\"type\":\"scatterternary\",\"marker\":{\"colorbar\":{\"outlinewidth\":0,\"ticks\":\"\"}}}],\"scattercarpet\":[{\"type\":\"scattercarpet\",\"marker\":{\"colorbar\":{\"outlinewidth\":0,\"ticks\":\"\"}}}],\"carpet\":[{\"aaxis\":{\"endlinecolor\":\"#2a3f5f\",\"gridcolor\":\"white\",\"linecolor\":\"white\",\"minorgridcolor\":\"white\",\"startlinecolor\":\"#2a3f5f\"},\"baxis\":{\"endlinecolor\":\"#2a3f5f\",\"gridcolor\":\"white\",\"linecolor\":\"white\",\"minorgridcolor\":\"white\",\"startlinecolor\":\"#2a3f5f\"},\"type\":\"carpet\"}],\"table\":[{\"cells\":{\"fill\":{\"color\":\"#EBF0F8\"},\"line\":{\"color\":\"white\"}},\"header\":{\"fill\":{\"color\":\"#C8D4E3\"},\"line\":{\"color\":\"white\"}},\"type\":\"table\"}],\"barpolar\":[{\"marker\":{\"line\":{\"color\":\"#E5ECF6\",\"width\":0.5},\"pattern\":{\"fillmode\":\"overlay\",\"size\":10,\"solidity\":0.2}},\"type\":\"barpolar\"}],\"pie\":[{\"automargin\":true,\"type\":\"pie\"}]},\"layout\":{\"autotypenumbers\":\"strict\",\"colorway\":[\"#636efa\",\"#EF553B\",\"#00cc96\",\"#ab63fa\",\"#FFA15A\",\"#19d3f3\",\"#FF6692\",\"#B6E880\",\"#FF97FF\",\"#FECB52\"],\"font\":{\"color\":\"#2a3f5f\"},\"hovermode\":\"closest\",\"hoverlabel\":{\"align\":\"left\"},\"paper_bgcolor\":\"white\",\"plot_bgcolor\":\"#E5ECF6\",\"polar\":{\"bgcolor\":\"#E5ECF6\",\"angularaxis\":{\"gridcolor\":\"white\",\"linecolor\":\"white\",\"ticks\":\"\"},\"radialaxis\":{\"gridcolor\":\"white\",\"linecolor\":\"white\",\"ticks\":\"\"}},\"ternary\":{\"bgcolor\":\"#E5ECF6\",\"aaxis\":{\"gridcolor\":\"white\",\"linecolor\":\"white\",\"ticks\":\"\"},\"baxis\":{\"gridcolor\":\"white\",\"linecolor\":\"white\",\"ticks\":\"\"},\"caxis\":{\"gridcolor\":\"white\",\"linecolor\":\"white\",\"ticks\":\"\"}},\"coloraxis\":{\"colorbar\":{\"outlinewidth\":0,\"ticks\":\"\"}},\"colorscale\":{\"sequential\":[[0.0,\"#0d0887\"],[0.1111111111111111,\"#46039f\"],[0.2222222222222222,\"#7201a8\"],[0.3333333333333333,\"#9c179e\"],[0.4444444444444444,\"#bd3786\"],[0.5555555555555556,\"#d8576b\"],[0.6666666666666666,\"#ed7953\"],[0.7777777777777778,\"#fb9f3a\"],[0.8888888888888888,\"#fdca26\"],[1.0,\"#f0f921\"]],\"sequentialminus\":[[0.0,\"#0d0887\"],[0.1111111111111111,\"#46039f\"],[0.2222222222222222,\"#7201a8\"],[0.3333333333333333,\"#9c179e\"],[0.4444444444444444,\"#bd3786\"],[0.5555555555555556,\"#d8576b\"],[0.6666666666666666,\"#ed7953\"],[0.7777777777777778,\"#fb9f3a\"],[0.8888888888888888,\"#fdca26\"],[1.0,\"#f0f921\"]],\"diverging\":[[0,\"#8e0152\"],[0.1,\"#c51b7d\"],[0.2,\"#de77ae\"],[0.3,\"#f1b6da\"],[0.4,\"#fde0ef\"],[0.5,\"#f7f7f7\"],[0.6,\"#e6f5d0\"],[0.7,\"#b8e186\"],[0.8,\"#7fbc41\"],[0.9,\"#4d9221\"],[1,\"#276419\"]]},\"xaxis\":{\"gridcolor\":\"white\",\"linecolor\":\"white\",\"ticks\":\"\",\"title\":{\"standoff\":15},\"zerolinecolor\":\"white\",\"automargin\":true,\"zerolinewidth\":2},\"yaxis\":{\"gridcolor\":\"white\",\"linecolor\":\"white\",\"ticks\":\"\",\"title\":{\"standoff\":15},\"zerolinecolor\":\"white\",\"automargin\":true,\"zerolinewidth\":2},\"scene\":{\"xaxis\":{\"backgroundcolor\":\"#E5ECF6\",\"gridcolor\":\"white\",\"linecolor\":\"white\",\"showbackground\":true,\"ticks\":\"\",\"zerolinecolor\":\"white\",\"gridwidth\":2},\"yaxis\":{\"backgroundcolor\":\"#E5ECF6\",\"gridcolor\":\"white\",\"linecolor\":\"white\",\"showbackground\":true,\"ticks\":\"\",\"zerolinecolor\":\"white\",\"gridwidth\":2},\"zaxis\":{\"backgroundcolor\":\"#E5ECF6\",\"gridcolor\":\"white\",\"linecolor\":\"white\",\"showbackground\":true,\"ticks\":\"\",\"zerolinecolor\":\"white\",\"gridwidth\":2}},\"shapedefaults\":{\"line\":{\"color\":\"#2a3f5f\"}},\"annotationdefaults\":{\"arrowcolor\":\"#2a3f5f\",\"arrowhead\":0,\"arrowwidth\":1},\"geo\":{\"bgcolor\":\"white\",\"landcolor\":\"#E5ECF6\",\"subunitcolor\":\"white\",\"showland\":true,\"showlakes\":true,\"lakecolor\":\"white\"},\"title\":{\"x\":0.05},\"mapbox\":{\"style\":\"light\"}}},\"title\":{\"text\":\"CSAM Reports per Capita 2019\"}},                        {\"responsive\": true}                    ).then(function(){\n",
       "                            \n",
       "var gd = document.getElementById('1167dd26-5c2e-42ae-9a77-2c96cb48a30e');\n",
       "var x = new MutationObserver(function (mutations, observer) {{\n",
       "        var display = window.getComputedStyle(gd).display;\n",
       "        if (!display || display === 'none') {{\n",
       "            console.log([gd, 'removed!']);\n",
       "            Plotly.purge(gd);\n",
       "            observer.disconnect();\n",
       "        }}\n",
       "}});\n",
       "\n",
       "// Listen for the removal of the full notebook cells\n",
       "var notebookContainer = gd.closest('#notebook-container');\n",
       "if (notebookContainer) {{\n",
       "    x.observe(notebookContainer, {childList: true});\n",
       "}}\n",
       "\n",
       "// Listen for the clearing of the current output cell\n",
       "var outputEl = gd.closest('.output');\n",
       "if (outputEl) {{\n",
       "    x.observe(outputEl, {childList: true});\n",
       "}}\n",
       "\n",
       "                        })                };                });            </script>        </div>"
      ]
     },
     "metadata": {},
     "output_type": "display_data"
    },
    {
     "data": {
      "application/vnd.plotly.v1+json": {
       "config": {
        "plotlyServerURL": "https://plot.ly"
       },
       "data": [
        {
         "colorbar": {
          "thickness": 20,
          "tickformat": ".3f",
          "title": {
           "font": {
            "size": 13
           },
           "text": "Reports<br>per Capita"
          }
         },
         "colorscale": [
          [
           0,
           "#f0f921"
          ],
          [
           0.1111111111111111,
           "#fdca26"
          ],
          [
           0.2222222222222222,
           "#fb9f3a"
          ],
          [
           0.3333333333333333,
           "#ed7953"
          ],
          [
           0.4444444444444444,
           "#d8576b"
          ],
          [
           0.5555555555555556,
           "#bd3786"
          ],
          [
           0.6666666666666666,
           "#9c179e"
          ],
          [
           0.7777777777777778,
           "#7201a8"
          ],
          [
           0.8888888888888888,
           "#46039f"
          ],
          [
           1,
           "#0d0887"
          ]
         ],
         "locationmode": "ISO-3",
         "locations": [
          "ABW",
          "AFG",
          "AGO",
          "AIA",
          "ALB",
          "AND",
          "ARE",
          "ARG",
          "ARM",
          "ASM",
          "ATG",
          "AUS",
          "AUT",
          "AZE",
          "BDI",
          "BEL",
          "BEN",
          "BES",
          "BFA",
          "BGD",
          "BGR",
          "BHR",
          "BHS",
          "BIH",
          "BLM",
          "BLR",
          "BLZ",
          "BMU",
          "BOL",
          "BRA",
          "BRB",
          "BRN",
          "BTN",
          "BWA",
          "CAF",
          "CAN",
          "CHE",
          "CHL",
          "CHN",
          "CIV",
          "CMR",
          "COD",
          "COG",
          "COK",
          "COL",
          "COM",
          "CPV",
          "CRI",
          "CUB",
          "CUW",
          "CYM",
          "CYP",
          "CZE",
          "DEU",
          "DJI",
          "DMA",
          "DNK",
          "DOM",
          "DZA",
          "ECU",
          "EGY",
          "ERI",
          "ESH",
          "ESP",
          "EST",
          "ETH",
          "FIN",
          "FJI",
          "FLK",
          "FRA",
          "FRO",
          "FSM",
          "GAB",
          "GBR",
          "GEO",
          "GGY",
          "GHA",
          "GIB",
          "GIN",
          "GLP",
          "GMB",
          "GNB",
          "GNQ",
          "GRC",
          "GRD",
          "GRL",
          "GTM",
          "GUF",
          "GUM",
          "GUY",
          "HKG",
          "HND",
          "HRV",
          "HTI",
          "HUN",
          "IDN",
          "IMN",
          "IND",
          "IRL",
          "IRN",
          "IRQ",
          "ISL",
          "ISR",
          "ITA",
          "JAM",
          "JEY",
          "JOR",
          "JPN",
          "KAZ",
          "KEN",
          "KGZ",
          "KHM",
          "KIR",
          "KNA",
          "KOR",
          "KWT",
          "LAO",
          "LBN",
          "LBR",
          "LBY",
          "LCA",
          "LIE",
          "LKA",
          "LSO",
          "LTU",
          "LUX",
          "LVA",
          "MAC",
          "MAF",
          "MAR",
          "MCO",
          "MDA",
          "MDG",
          "MDV",
          "MEX",
          "MHL",
          "MKD",
          "MLI",
          "MLT",
          "MMR",
          "MNE",
          "MNG",
          "MNP",
          "MOZ",
          "MRT",
          "MSR",
          "MTQ",
          "MUS",
          "MWI",
          "MYS",
          "MYT",
          "NAM",
          "NCL",
          "NER",
          "NGA",
          "NIC",
          "NIU",
          "NLD",
          "NOR",
          "NPL",
          "NRU",
          "NZL",
          "OMN",
          "PAK",
          "PAN",
          "PER",
          "PHL",
          "PLW",
          "PNG",
          "POL",
          "PRI",
          "PRK",
          "PRT",
          "PRY",
          "PSE",
          "PYF",
          "QAT",
          "REU",
          "ROU",
          "RUS",
          "RWA",
          "SAU",
          "SDN",
          "SEN",
          "SGP",
          "SHN",
          "SLB",
          "SLE",
          "SLV",
          "SMR",
          "SOM",
          "SPM",
          "SRB",
          "SSD",
          "STP",
          "SUR",
          "SVK",
          "SVN",
          "SWE",
          "SWZ",
          "SXM",
          "SYC",
          "SYR",
          "TCA",
          "TCD",
          "TGO",
          "THA",
          "TJK",
          "TKL",
          "TKM",
          "TLS",
          "TON",
          "TTO",
          "TUN",
          "TUR",
          "TUV",
          "TWN",
          "TZA",
          "UGA",
          "UKR",
          "URY",
          "USA",
          "UZB",
          "VCT",
          "VEN",
          "VGB",
          "VIR",
          "VNM",
          "VUT",
          "WLF",
          "WSM",
          "XKX",
          "YEM",
          "ZAF",
          "ZMB",
          "ZWE"
         ],
         "marker": {
          "line": {
           "width": 0.4
          }
         },
         "showscale": true,
         "text": [
          "Aruba",
          "Afghanistan",
          "Angola",
          "Anguilla",
          "Albania",
          "Andorra",
          "United Arab Emirates",
          "Argentina",
          "Armenia",
          "American Samoa",
          "Antigua and Barbuda",
          "Australia",
          "Austria",
          "Azerbaijan",
          "Burundi",
          "Belgium",
          "Benin",
          "Bonaire, Sint Eustatius, and Saba",
          "Burkina Faso",
          "Bangladesh",
          "Bulgaria",
          "Bahrain",
          "Bahamas",
          "Bosnia and Herzegovina",
          "Saint Barthélemy",
          "Belarus",
          "Belize",
          "Bermuda",
          "Bolivia",
          "Brazil",
          "Barbados",
          "Brunei Darussalam",
          "Bhutan",
          "Botswana",
          "Central African Republic",
          "Canada",
          "Switzerland",
          "Chile",
          "China",
          "Côte d'Ivoire",
          "Cameroon",
          "Democratic Republic of the Congo",
          "Congo",
          "Cook Islands",
          "Colombia",
          "Comoros",
          "Cabo Verde",
          "Costa Rica",
          "Cuba",
          "Curaçao",
          "Cayman Islands",
          "Cyprus",
          "Czechia",
          "Germany",
          "Djibouti",
          "Dominica",
          "Denmark",
          "Dominican Republic",
          "Algeria",
          "Ecuador",
          "Egypt",
          "Eritrea",
          "Western Sahara",
          "Spain",
          "Estonia",
          "Ethiopia",
          "Finland",
          "Fiji",
          "Falkland Islands",
          "France",
          "Faroe Islands",
          "Micronesia",
          "Gabon",
          "United Kingdom of Great Britain and Northern Ireland",
          "Georgia",
          "Guernsey",
          "Ghana",
          "Gibraltar",
          "Guinea",
          "Guadeloupe",
          "Gambia",
          "Guinea-Bissau",
          "Equatorial Guinea",
          "Greece",
          "Grenada",
          "Greenland",
          "Guatemala",
          "French Guiana",
          "Guam",
          "Guyana",
          "Hong Kong",
          "Honduras",
          "Croatia",
          "Haiti",
          "Hungary",
          "Indonesia",
          "Isle of Man",
          "India",
          "Ireland",
          "Iran",
          "Iraq",
          "Iceland",
          "Israel",
          "Italy",
          "Jamaica",
          "Jersey",
          "Jordan",
          "Japan",
          "Kazakhstan",
          "Kenya",
          "Kyrgyzstan",
          "Cambodia",
          "Kiribati",
          "Saint Kitts and Nevis",
          "South Korea",
          "Kuwait",
          "Lao People's Democratic Republic",
          "Lebanon",
          "Liberia",
          "Libya",
          "Saint Lucia",
          "Liechtenstein",
          "Sri Lanka",
          "Lesotho",
          "Lithuania",
          "Luxembourg",
          "Latvia",
          "Macao",
          "Saint Martin (French part)",
          "Morocco",
          "Monaco",
          "Moldova",
          "Madagascar",
          "Maldives",
          "Mexico",
          "Marshall Islands",
          "North Macedonia",
          "Mali",
          "Malta",
          "Myanmar",
          "Montenegro",
          "Mongolia",
          "Northern Mariana Islands",
          "Mozambique",
          "Mauritania",
          "Montserrat",
          "Martinique",
          "Mauritius",
          "Malawi",
          "Malaysia",
          "Mayotte",
          "Namibia",
          "New Caledonia",
          "Niger",
          "Nigeria",
          "Nicaragua",
          "Niue",
          "Netherlands",
          "Norway",
          "Nepal",
          "Nauru",
          "New Zealand",
          "Oman",
          "Pakistan",
          "Panama",
          "Peru",
          "Philippines",
          "Palau",
          "Papua New Guinea",
          "Poland",
          "Puerto Rico",
          "North Korea",
          "Portugal",
          "Paraguay",
          "Palestine",
          "French Polynesia",
          "Qatar",
          "Réunion",
          "Romania",
          "Russian Federation",
          "Rwanda",
          "Saudi Arabia",
          "Sudan",
          "Senegal",
          "Singapore",
          "Saint Helena, Ascension and Tristan da Cunha",
          "Solomon Islands",
          "Sierra Leone",
          "El Salvador",
          "San Marino",
          "Somalia",
          "Saint Pierre and Miquelon",
          "Serbia",
          "South Sudan",
          "Sao Tome and Principe",
          "Suriname",
          "Slovakia",
          "Slovenia",
          "Sweden",
          "Eswatini",
          "Sint Maarten (Dutch part)",
          "Seychelles",
          "Syrian Arab Republic",
          "Turks and Caicos Islands",
          "Chad",
          "Togo",
          "Thailand",
          "Tajikistan",
          "Tokelau",
          "Turkmenistan",
          "Timor-Leste",
          "Tonga",
          "Trinidad and Tobago",
          "Tunisia",
          "Türkiye",
          "Tuvalu",
          "Taiwan",
          "Tanzania",
          "Uganda",
          "Ukraine",
          "Uruguay",
          "United States of America",
          "Uzbekistan",
          "Saint Vincent and the Grenadines",
          "Venezuela",
          "British Virgin Islands",
          "U.S. Virgin Islands",
          "Viet Nam",
          "Vanuatu",
          "Wallis and Futuna",
          "Samoa",
          "Kosovo",
          "Yemen",
          "South Africa",
          "Zambia",
          "Zimbabwe"
         ],
         "type": "choropleth",
         "z": [
          0.0060045972697846785,
          0.0029574647651041583,
          0.0004374113742393239,
          0.005133140840551813,
          0.008171340729839625,
          0.0016216216216216215,
          0.023351701449152707,
          0.0017065668662816476,
          0.0016374341542246265,
          0.00145056182207885,
          0.0013381680048346715,
          0.0014099309736470722,
          0.0011633654502127748,
          0.001017214374672276,
          0.00009140583067728611,
          0.0019161513813216497,
          0.0003145583571400832,
          0.004703093335372615,
          0.00015100387843007632,
          0.004884018368764373,
          0.002430373217464815,
          0.015540089165999423,
          0.001648330020271999,
          0.006407590627795015,
          0.001123490309896077,
          0.00027019617820325456,
          0.007039382560056315,
          0.0008589589417625838,
          0.010066971276026583,
          0.002027220884654736,
          0.0022551328319551965,
          0.004797102269511574,
          0.019907935990141176,
          0.0036109773712084737,
          0.000060078382637534575,
          0.001144140450300426,
          0.0009213284586310326,
          0.0022082023013614027,
          0.000003247177553375874,
          0.0007561598551920683,
          0.00026831666061872053,
          0.00006958298082784792,
          0.0002043080411085316,
          0.000998297022725938,
          0.015000727557777914,
          0.0012764120540930777,
          0.00515927502402856,
          0.007136687614249562,
          0.0010726771036620923,
          0.007052707764318053,
          0.0022581747411270074,
          0.002668203051706737,
          0.0010487179034302115,
          0.0011132740505620925,
          0.005613875445349106,
          0.001597333148135287,
          0.0011164436668857556,
          0.009522745422041982,
          0.025383123399687367,
          0.013794790670045522,
          0.004186846312404915,
          0.00017295355170664377,
          0.000007193623572065721,
          0.0014894073020777236,
          0.003531551535830016,
          0.00014891086562165217,
          0.000799172723307197,
          0.001962143451590683,
          0.0013344008540165466,
          0.0013937798717380088,
          0.0010683964513975006,
          0.0005352029757285451,
          0.0006590847925017001,
          0.0011270294186918317,
          0.0018356775198145893,
          0.0006210784469853807,
          0.00040950389619122846,
          0.0034852792809318537,
          0.00047534473852745213,
          0.001781913952512625,
          0.0001464649309730594,
          0.00015824762826987222,
          0.00012405634162860916,
          0.0027322456353703,
          0.002151007172719407,
          0.0027129776714798224,
          0.007010710707234276,
          0.0020414475719146303,
          0.0018495429324414557,
          0.003130950499371552,
          0.001090527369970609,
          0.008351015529606848,
          0.0030711250295957647,
          0.000401616655178007,
          0.006781447613386413,
          0.003629277436194799,
          0.0006782000333150894,
          0.0019518355241898474,
          0.0014069617006788554,
          0.0016702907278484309,
          0.021617274382037976,
          0.001723625395111122,
          0.002694493513552399,
          0.001048712483957509,
          0.0007988126658431534,
          0.0008678071252504177,
          0.01054716283817658,
          0.0002705582231898706,
          0.0004867422794470781,
          0.00027765285045256604,
          0.0007178350890616687,
          0.011485613708966228,
          0.0006484058704453442,
          0.0012383770963205509,
          0.0019425132652444587,
          0.01572821122614779,
          0.0033338802817007244,
          0.006691242898544992,
          0.0003785686135956451,
          0.028547739069562074,
          0.002002934661928062,
          0.0006708638662400661,
          0.0059989187237624725,
          0.0004569451222217293,
          0.002703290149478755,
          0.0023604060913705585,
          0.0007474755568113051,
          0.0013855146440173713,
          0.0017202715571529505,
          0.019239210295727532,
          0.023996533232219272,
          0.001942721956712926,
          0.0017523716503177287,
          0.012882018824425879,
          0.006299457908567689,
          0.0008522596397475469,
          0.004234341604644465,
          0.00013861639913984332,
          0.0031997174779473687,
          0.005982738060720363,
          0.01078455062252801,
          0.003265302405493066,
          0.001552826345614778,
          0.00021887060394911977,
          0.005609740266091436,
          0.00022222222222222223,
          0.0012797287191103456,
          0.0033070638019830055,
          0.00004226646949883321,
          0.006159820575865784,
          0.0021499605676943063,
          0.000316982296398133,
          0.002321903052691487,
          0.000028766761929853566,
          0.00022373436658513555,
          0.006732933721892699,
          0,
          0.001474313257611693,
          0.0012972507169824227,
          0.006077660597967305,
          0.002679658952496955,
          0.0012864705814941868,
          0.009141393921159027,
          0.005671353358013177,
          0.0020789880395315104,
          0.014738976018920541,
          0.011940327322933222,
          0.005063432005341643,
          0.0003220631736146155,
          0.009921160584315228,
          0.0036248706658739776,
          3.479273792057027e-7,
          0.0026200715620761394,
          0.0013650727220396166,
          0.00757719744304202,
          0.0008247217806041336,
          0.020534454432986703,
          0.0021935159210000176,
          0.003051326046614761,
          0.0004434911726749225,
          0.0001107530737400963,
          0.01417447240968559,
          0.0023292949586554926,
          0.00025693411827122214,
          0.003852707419960168,
          0,
          0.0006756453715398493,
          0.0001163472784088356,
          0.011631992532336119,
          0.0003528685270679566,
          0.001314928884388816,
          0.0025397900440230275,
          0.00621595119872846,
          0.00016509169566142606,
          0.0026344555687176697,
          0.004391621984466243,
          0.0012010964174009806,
          0.0024753959712718065,
          0.0018998029698224608,
          0.000268495030300977,
          0.0035074045206547155,
          0.004842224959727092,
          0.00471645431317299,
          0.0025521150936151952,
          0.00003748940653908974,
          0.00012993658336669597,
          0.0055647331158094155,
          0.00036780088706029327,
          0,
          0.000029917903353333,
          0.0013523128935111288,
          0.0006460562068899994,
          0.002246817995885774,
          0.009287499805742986,
          0.002675757470443961,
          0.0009034239768723462,
          0.0012370355895407776,
          0.00009321845768246662,
          0.00014807020829435934,
          0.0009543228829314511,
          0.0017188248650442522,
          0.0033823159547503325,
          0.00014463118540662093,
          0.0028958359217455295,
          0.004491855412342674,
          0.0020381753477838886,
          0.002150473402825483,
          0.008732276078044932,
          0.001482265749073584,
          0.000429000429000429,
          0.0007537337737868143,
          0.0007356202403903995,
          0.0021592398920507053,
          0.0018013865429954362,
          0.00019685418974239627,
          0.00004582101494696824
         ]
        }
       ],
       "layout": {
        "geo": {
         "bgcolor": "#eaeaec",
         "fitbounds": "locations",
         "lataxis": {
          "range": [
           -60,
           90
          ]
         },
         "showframe": false,
         "visible": false
        },
        "height": 300,
        "margin": {
         "b": 0,
         "l": 0,
         "r": 0,
         "t": 40
        },
        "template": {
         "data": {
          "bar": [
           {
            "error_x": {
             "color": "#2a3f5f"
            },
            "error_y": {
             "color": "#2a3f5f"
            },
            "marker": {
             "line": {
              "color": "#E5ECF6",
              "width": 0.5
             },
             "pattern": {
              "fillmode": "overlay",
              "size": 10,
              "solidity": 0.2
             }
            },
            "type": "bar"
           }
          ],
          "barpolar": [
           {
            "marker": {
             "line": {
              "color": "#E5ECF6",
              "width": 0.5
             },
             "pattern": {
              "fillmode": "overlay",
              "size": 10,
              "solidity": 0.2
             }
            },
            "type": "barpolar"
           }
          ],
          "carpet": [
           {
            "aaxis": {
             "endlinecolor": "#2a3f5f",
             "gridcolor": "white",
             "linecolor": "white",
             "minorgridcolor": "white",
             "startlinecolor": "#2a3f5f"
            },
            "baxis": {
             "endlinecolor": "#2a3f5f",
             "gridcolor": "white",
             "linecolor": "white",
             "minorgridcolor": "white",
             "startlinecolor": "#2a3f5f"
            },
            "type": "carpet"
           }
          ],
          "choropleth": [
           {
            "colorbar": {
             "outlinewidth": 0,
             "ticks": ""
            },
            "type": "choropleth"
           }
          ],
          "contour": [
           {
            "colorbar": {
             "outlinewidth": 0,
             "ticks": ""
            },
            "colorscale": [
             [
              0,
              "#0d0887"
             ],
             [
              0.1111111111111111,
              "#46039f"
             ],
             [
              0.2222222222222222,
              "#7201a8"
             ],
             [
              0.3333333333333333,
              "#9c179e"
             ],
             [
              0.4444444444444444,
              "#bd3786"
             ],
             [
              0.5555555555555556,
              "#d8576b"
             ],
             [
              0.6666666666666666,
              "#ed7953"
             ],
             [
              0.7777777777777778,
              "#fb9f3a"
             ],
             [
              0.8888888888888888,
              "#fdca26"
             ],
             [
              1,
              "#f0f921"
             ]
            ],
            "type": "contour"
           }
          ],
          "contourcarpet": [
           {
            "colorbar": {
             "outlinewidth": 0,
             "ticks": ""
            },
            "type": "contourcarpet"
           }
          ],
          "heatmap": [
           {
            "colorbar": {
             "outlinewidth": 0,
             "ticks": ""
            },
            "colorscale": [
             [
              0,
              "#0d0887"
             ],
             [
              0.1111111111111111,
              "#46039f"
             ],
             [
              0.2222222222222222,
              "#7201a8"
             ],
             [
              0.3333333333333333,
              "#9c179e"
             ],
             [
              0.4444444444444444,
              "#bd3786"
             ],
             [
              0.5555555555555556,
              "#d8576b"
             ],
             [
              0.6666666666666666,
              "#ed7953"
             ],
             [
              0.7777777777777778,
              "#fb9f3a"
             ],
             [
              0.8888888888888888,
              "#fdca26"
             ],
             [
              1,
              "#f0f921"
             ]
            ],
            "type": "heatmap"
           }
          ],
          "heatmapgl": [
           {
            "colorbar": {
             "outlinewidth": 0,
             "ticks": ""
            },
            "colorscale": [
             [
              0,
              "#0d0887"
             ],
             [
              0.1111111111111111,
              "#46039f"
             ],
             [
              0.2222222222222222,
              "#7201a8"
             ],
             [
              0.3333333333333333,
              "#9c179e"
             ],
             [
              0.4444444444444444,
              "#bd3786"
             ],
             [
              0.5555555555555556,
              "#d8576b"
             ],
             [
              0.6666666666666666,
              "#ed7953"
             ],
             [
              0.7777777777777778,
              "#fb9f3a"
             ],
             [
              0.8888888888888888,
              "#fdca26"
             ],
             [
              1,
              "#f0f921"
             ]
            ],
            "type": "heatmapgl"
           }
          ],
          "histogram": [
           {
            "marker": {
             "pattern": {
              "fillmode": "overlay",
              "size": 10,
              "solidity": 0.2
             }
            },
            "type": "histogram"
           }
          ],
          "histogram2d": [
           {
            "colorbar": {
             "outlinewidth": 0,
             "ticks": ""
            },
            "colorscale": [
             [
              0,
              "#0d0887"
             ],
             [
              0.1111111111111111,
              "#46039f"
             ],
             [
              0.2222222222222222,
              "#7201a8"
             ],
             [
              0.3333333333333333,
              "#9c179e"
             ],
             [
              0.4444444444444444,
              "#bd3786"
             ],
             [
              0.5555555555555556,
              "#d8576b"
             ],
             [
              0.6666666666666666,
              "#ed7953"
             ],
             [
              0.7777777777777778,
              "#fb9f3a"
             ],
             [
              0.8888888888888888,
              "#fdca26"
             ],
             [
              1,
              "#f0f921"
             ]
            ],
            "type": "histogram2d"
           }
          ],
          "histogram2dcontour": [
           {
            "colorbar": {
             "outlinewidth": 0,
             "ticks": ""
            },
            "colorscale": [
             [
              0,
              "#0d0887"
             ],
             [
              0.1111111111111111,
              "#46039f"
             ],
             [
              0.2222222222222222,
              "#7201a8"
             ],
             [
              0.3333333333333333,
              "#9c179e"
             ],
             [
              0.4444444444444444,
              "#bd3786"
             ],
             [
              0.5555555555555556,
              "#d8576b"
             ],
             [
              0.6666666666666666,
              "#ed7953"
             ],
             [
              0.7777777777777778,
              "#fb9f3a"
             ],
             [
              0.8888888888888888,
              "#fdca26"
             ],
             [
              1,
              "#f0f921"
             ]
            ],
            "type": "histogram2dcontour"
           }
          ],
          "mesh3d": [
           {
            "colorbar": {
             "outlinewidth": 0,
             "ticks": ""
            },
            "type": "mesh3d"
           }
          ],
          "parcoords": [
           {
            "line": {
             "colorbar": {
              "outlinewidth": 0,
              "ticks": ""
             }
            },
            "type": "parcoords"
           }
          ],
          "pie": [
           {
            "automargin": true,
            "type": "pie"
           }
          ],
          "scatter": [
           {
            "fillpattern": {
             "fillmode": "overlay",
             "size": 10,
             "solidity": 0.2
            },
            "type": "scatter"
           }
          ],
          "scatter3d": [
           {
            "line": {
             "colorbar": {
              "outlinewidth": 0,
              "ticks": ""
             }
            },
            "marker": {
             "colorbar": {
              "outlinewidth": 0,
              "ticks": ""
             }
            },
            "type": "scatter3d"
           }
          ],
          "scattercarpet": [
           {
            "marker": {
             "colorbar": {
              "outlinewidth": 0,
              "ticks": ""
             }
            },
            "type": "scattercarpet"
           }
          ],
          "scattergeo": [
           {
            "marker": {
             "colorbar": {
              "outlinewidth": 0,
              "ticks": ""
             }
            },
            "type": "scattergeo"
           }
          ],
          "scattergl": [
           {
            "marker": {
             "colorbar": {
              "outlinewidth": 0,
              "ticks": ""
             }
            },
            "type": "scattergl"
           }
          ],
          "scattermapbox": [
           {
            "marker": {
             "colorbar": {
              "outlinewidth": 0,
              "ticks": ""
             }
            },
            "type": "scattermapbox"
           }
          ],
          "scatterpolar": [
           {
            "marker": {
             "colorbar": {
              "outlinewidth": 0,
              "ticks": ""
             }
            },
            "type": "scatterpolar"
           }
          ],
          "scatterpolargl": [
           {
            "marker": {
             "colorbar": {
              "outlinewidth": 0,
              "ticks": ""
             }
            },
            "type": "scatterpolargl"
           }
          ],
          "scatterternary": [
           {
            "marker": {
             "colorbar": {
              "outlinewidth": 0,
              "ticks": ""
             }
            },
            "type": "scatterternary"
           }
          ],
          "surface": [
           {
            "colorbar": {
             "outlinewidth": 0,
             "ticks": ""
            },
            "colorscale": [
             [
              0,
              "#0d0887"
             ],
             [
              0.1111111111111111,
              "#46039f"
             ],
             [
              0.2222222222222222,
              "#7201a8"
             ],
             [
              0.3333333333333333,
              "#9c179e"
             ],
             [
              0.4444444444444444,
              "#bd3786"
             ],
             [
              0.5555555555555556,
              "#d8576b"
             ],
             [
              0.6666666666666666,
              "#ed7953"
             ],
             [
              0.7777777777777778,
              "#fb9f3a"
             ],
             [
              0.8888888888888888,
              "#fdca26"
             ],
             [
              1,
              "#f0f921"
             ]
            ],
            "type": "surface"
           }
          ],
          "table": [
           {
            "cells": {
             "fill": {
              "color": "#EBF0F8"
             },
             "line": {
              "color": "white"
             }
            },
            "header": {
             "fill": {
              "color": "#C8D4E3"
             },
             "line": {
              "color": "white"
             }
            },
            "type": "table"
           }
          ]
         },
         "layout": {
          "annotationdefaults": {
           "arrowcolor": "#2a3f5f",
           "arrowhead": 0,
           "arrowwidth": 1
          },
          "autotypenumbers": "strict",
          "coloraxis": {
           "colorbar": {
            "outlinewidth": 0,
            "ticks": ""
           }
          },
          "colorscale": {
           "diverging": [
            [
             0,
             "#8e0152"
            ],
            [
             0.1,
             "#c51b7d"
            ],
            [
             0.2,
             "#de77ae"
            ],
            [
             0.3,
             "#f1b6da"
            ],
            [
             0.4,
             "#fde0ef"
            ],
            [
             0.5,
             "#f7f7f7"
            ],
            [
             0.6,
             "#e6f5d0"
            ],
            [
             0.7,
             "#b8e186"
            ],
            [
             0.8,
             "#7fbc41"
            ],
            [
             0.9,
             "#4d9221"
            ],
            [
             1,
             "#276419"
            ]
           ],
           "sequential": [
            [
             0,
             "#0d0887"
            ],
            [
             0.1111111111111111,
             "#46039f"
            ],
            [
             0.2222222222222222,
             "#7201a8"
            ],
            [
             0.3333333333333333,
             "#9c179e"
            ],
            [
             0.4444444444444444,
             "#bd3786"
            ],
            [
             0.5555555555555556,
             "#d8576b"
            ],
            [
             0.6666666666666666,
             "#ed7953"
            ],
            [
             0.7777777777777778,
             "#fb9f3a"
            ],
            [
             0.8888888888888888,
             "#fdca26"
            ],
            [
             1,
             "#f0f921"
            ]
           ],
           "sequentialminus": [
            [
             0,
             "#0d0887"
            ],
            [
             0.1111111111111111,
             "#46039f"
            ],
            [
             0.2222222222222222,
             "#7201a8"
            ],
            [
             0.3333333333333333,
             "#9c179e"
            ],
            [
             0.4444444444444444,
             "#bd3786"
            ],
            [
             0.5555555555555556,
             "#d8576b"
            ],
            [
             0.6666666666666666,
             "#ed7953"
            ],
            [
             0.7777777777777778,
             "#fb9f3a"
            ],
            [
             0.8888888888888888,
             "#fdca26"
            ],
            [
             1,
             "#f0f921"
            ]
           ]
          },
          "colorway": [
           "#636efa",
           "#EF553B",
           "#00cc96",
           "#ab63fa",
           "#FFA15A",
           "#19d3f3",
           "#FF6692",
           "#B6E880",
           "#FF97FF",
           "#FECB52"
          ],
          "font": {
           "color": "#2a3f5f"
          },
          "geo": {
           "bgcolor": "white",
           "lakecolor": "white",
           "landcolor": "#E5ECF6",
           "showlakes": true,
           "showland": true,
           "subunitcolor": "white"
          },
          "hoverlabel": {
           "align": "left"
          },
          "hovermode": "closest",
          "mapbox": {
           "style": "light"
          },
          "paper_bgcolor": "white",
          "plot_bgcolor": "#E5ECF6",
          "polar": {
           "angularaxis": {
            "gridcolor": "white",
            "linecolor": "white",
            "ticks": ""
           },
           "bgcolor": "#E5ECF6",
           "radialaxis": {
            "gridcolor": "white",
            "linecolor": "white",
            "ticks": ""
           }
          },
          "scene": {
           "xaxis": {
            "backgroundcolor": "#E5ECF6",
            "gridcolor": "white",
            "gridwidth": 2,
            "linecolor": "white",
            "showbackground": true,
            "ticks": "",
            "zerolinecolor": "white"
           },
           "yaxis": {
            "backgroundcolor": "#E5ECF6",
            "gridcolor": "white",
            "gridwidth": 2,
            "linecolor": "white",
            "showbackground": true,
            "ticks": "",
            "zerolinecolor": "white"
           },
           "zaxis": {
            "backgroundcolor": "#E5ECF6",
            "gridcolor": "white",
            "gridwidth": 2,
            "linecolor": "white",
            "showbackground": true,
            "ticks": "",
            "zerolinecolor": "white"
           }
          },
          "shapedefaults": {
           "line": {
            "color": "#2a3f5f"
           }
          },
          "ternary": {
           "aaxis": {
            "gridcolor": "white",
            "linecolor": "white",
            "ticks": ""
           },
           "baxis": {
            "gridcolor": "white",
            "linecolor": "white",
            "ticks": ""
           },
           "bgcolor": "#E5ECF6",
           "caxis": {
            "gridcolor": "white",
            "linecolor": "white",
            "ticks": ""
           }
          },
          "title": {
           "x": 0.05
          },
          "xaxis": {
           "automargin": true,
           "gridcolor": "white",
           "linecolor": "white",
           "ticks": "",
           "title": {
            "standoff": 15
           },
           "zerolinecolor": "white",
           "zerolinewidth": 2
          },
          "yaxis": {
           "automargin": true,
           "gridcolor": "white",
           "linecolor": "white",
           "ticks": "",
           "title": {
            "standoff": 15
           },
           "zerolinecolor": "white",
           "zerolinewidth": 2
          }
         }
        },
        "title": {
         "text": "CSAM Reports per Capita 2020"
        },
        "width": 600
       }
      },
      "text/html": [
       "<div>                            <div id=\"774d5760-5941-48cb-a9f4-3045b312fc10\" class=\"plotly-graph-div\" style=\"height:300px; width:600px;\"></div>            <script type=\"text/javascript\">                require([\"plotly\"], function(Plotly) {                    window.PLOTLYENV=window.PLOTLYENV || {};                                    if (document.getElementById(\"774d5760-5941-48cb-a9f4-3045b312fc10\")) {                    Plotly.newPlot(                        \"774d5760-5941-48cb-a9f4-3045b312fc10\",                        [{\"colorbar\":{\"title\":{\"text\":\"Reports<br>per Capita\",\"font\":{\"size\":13}},\"thickness\":20,\"tickformat\":\".3f\"},\"colorscale\":[[0.0,\"#f0f921\"],[0.1111111111111111,\"#fdca26\"],[0.2222222222222222,\"#fb9f3a\"],[0.3333333333333333,\"#ed7953\"],[0.4444444444444444,\"#d8576b\"],[0.5555555555555556,\"#bd3786\"],[0.6666666666666666,\"#9c179e\"],[0.7777777777777778,\"#7201a8\"],[0.8888888888888888,\"#46039f\"],[1.0,\"#0d0887\"]],\"locationmode\":\"ISO-3\",\"locations\":[\"ABW\",\"AFG\",\"AGO\",\"AIA\",\"ALB\",\"AND\",\"ARE\",\"ARG\",\"ARM\",\"ASM\",\"ATG\",\"AUS\",\"AUT\",\"AZE\",\"BDI\",\"BEL\",\"BEN\",\"BES\",\"BFA\",\"BGD\",\"BGR\",\"BHR\",\"BHS\",\"BIH\",\"BLM\",\"BLR\",\"BLZ\",\"BMU\",\"BOL\",\"BRA\",\"BRB\",\"BRN\",\"BTN\",\"BWA\",\"CAF\",\"CAN\",\"CHE\",\"CHL\",\"CHN\",\"CIV\",\"CMR\",\"COD\",\"COG\",\"COK\",\"COL\",\"COM\",\"CPV\",\"CRI\",\"CUB\",\"CUW\",\"CYM\",\"CYP\",\"CZE\",\"DEU\",\"DJI\",\"DMA\",\"DNK\",\"DOM\",\"DZA\",\"ECU\",\"EGY\",\"ERI\",\"ESH\",\"ESP\",\"EST\",\"ETH\",\"FIN\",\"FJI\",\"FLK\",\"FRA\",\"FRO\",\"FSM\",\"GAB\",\"GBR\",\"GEO\",\"GGY\",\"GHA\",\"GIB\",\"GIN\",\"GLP\",\"GMB\",\"GNB\",\"GNQ\",\"GRC\",\"GRD\",\"GRL\",\"GTM\",\"GUF\",\"GUM\",\"GUY\",\"HKG\",\"HND\",\"HRV\",\"HTI\",\"HUN\",\"IDN\",\"IMN\",\"IND\",\"IRL\",\"IRN\",\"IRQ\",\"ISL\",\"ISR\",\"ITA\",\"JAM\",\"JEY\",\"JOR\",\"JPN\",\"KAZ\",\"KEN\",\"KGZ\",\"KHM\",\"KIR\",\"KNA\",\"KOR\",\"KWT\",\"LAO\",\"LBN\",\"LBR\",\"LBY\",\"LCA\",\"LIE\",\"LKA\",\"LSO\",\"LTU\",\"LUX\",\"LVA\",\"MAC\",\"MAF\",\"MAR\",\"MCO\",\"MDA\",\"MDG\",\"MDV\",\"MEX\",\"MHL\",\"MKD\",\"MLI\",\"MLT\",\"MMR\",\"MNE\",\"MNG\",\"MNP\",\"MOZ\",\"MRT\",\"MSR\",\"MTQ\",\"MUS\",\"MWI\",\"MYS\",\"MYT\",\"NAM\",\"NCL\",\"NER\",\"NGA\",\"NIC\",\"NIU\",\"NLD\",\"NOR\",\"NPL\",\"NRU\",\"NZL\",\"OMN\",\"PAK\",\"PAN\",\"PER\",\"PHL\",\"PLW\",\"PNG\",\"POL\",\"PRI\",\"PRK\",\"PRT\",\"PRY\",\"PSE\",\"PYF\",\"QAT\",\"REU\",\"ROU\",\"RUS\",\"RWA\",\"SAU\",\"SDN\",\"SEN\",\"SGP\",\"SHN\",\"SLB\",\"SLE\",\"SLV\",\"SMR\",\"SOM\",\"SPM\",\"SRB\",\"SSD\",\"STP\",\"SUR\",\"SVK\",\"SVN\",\"SWE\",\"SWZ\",\"SXM\",\"SYC\",\"SYR\",\"TCA\",\"TCD\",\"TGO\",\"THA\",\"TJK\",\"TKL\",\"TKM\",\"TLS\",\"TON\",\"TTO\",\"TUN\",\"TUR\",\"TUV\",\"TWN\",\"TZA\",\"UGA\",\"UKR\",\"URY\",\"USA\",\"UZB\",\"VCT\",\"VEN\",\"VGB\",\"VIR\",\"VNM\",\"VUT\",\"WLF\",\"WSM\",\"XKX\",\"YEM\",\"ZAF\",\"ZMB\",\"ZWE\"],\"showscale\":true,\"text\":[\"Aruba\",\"Afghanistan\",\"Angola\",\"Anguilla\",\"Albania\",\"Andorra\",\"United Arab Emirates\",\"Argentina\",\"Armenia\",\"American Samoa\",\"Antigua and Barbuda\",\"Australia\",\"Austria\",\"Azerbaijan\",\"Burundi\",\"Belgium\",\"Benin\",\"Bonaire, Sint Eustatius, and Saba\",\"Burkina Faso\",\"Bangladesh\",\"Bulgaria\",\"Bahrain\",\"Bahamas\",\"Bosnia and Herzegovina\",\"Saint Barth\\u00e9lemy\",\"Belarus\",\"Belize\",\"Bermuda\",\"Bolivia\",\"Brazil\",\"Barbados\",\"Brunei Darussalam\",\"Bhutan\",\"Botswana\",\"Central African Republic\",\"Canada\",\"Switzerland\",\"Chile\",\"China\",\"C\\u00f4te d'Ivoire\",\"Cameroon\",\"Democratic Republic of the Congo\",\"Congo\",\"Cook Islands\",\"Colombia\",\"Comoros\",\"Cabo Verde\",\"Costa Rica\",\"Cuba\",\"Cura\\u00e7ao\",\"Cayman Islands\",\"Cyprus\",\"Czechia\",\"Germany\",\"Djibouti\",\"Dominica\",\"Denmark\",\"Dominican Republic\",\"Algeria\",\"Ecuador\",\"Egypt\",\"Eritrea\",\"Western Sahara\",\"Spain\",\"Estonia\",\"Ethiopia\",\"Finland\",\"Fiji\",\"Falkland Islands\",\"France\",\"Faroe Islands\",\"Micronesia\",\"Gabon\",\"United Kingdom of Great Britain and Northern Ireland\",\"Georgia\",\"Guernsey\",\"Ghana\",\"Gibraltar\",\"Guinea\",\"Guadeloupe\",\"Gambia\",\"Guinea-Bissau\",\"Equatorial Guinea\",\"Greece\",\"Grenada\",\"Greenland\",\"Guatemala\",\"French Guiana\",\"Guam\",\"Guyana\",\"Hong Kong\",\"Honduras\",\"Croatia\",\"Haiti\",\"Hungary\",\"Indonesia\",\"Isle of Man\",\"India\",\"Ireland\",\"Iran\",\"Iraq\",\"Iceland\",\"Israel\",\"Italy\",\"Jamaica\",\"Jersey\",\"Jordan\",\"Japan\",\"Kazakhstan\",\"Kenya\",\"Kyrgyzstan\",\"Cambodia\",\"Kiribati\",\"Saint Kitts and Nevis\",\"South Korea\",\"Kuwait\",\"Lao People's Democratic Republic\",\"Lebanon\",\"Liberia\",\"Libya\",\"Saint Lucia\",\"Liechtenstein\",\"Sri Lanka\",\"Lesotho\",\"Lithuania\",\"Luxembourg\",\"Latvia\",\"Macao\",\"Saint Martin (French part)\",\"Morocco\",\"Monaco\",\"Moldova\",\"Madagascar\",\"Maldives\",\"Mexico\",\"Marshall Islands\",\"North Macedonia\",\"Mali\",\"Malta\",\"Myanmar\",\"Montenegro\",\"Mongolia\",\"Northern Mariana Islands\",\"Mozambique\",\"Mauritania\",\"Montserrat\",\"Martinique\",\"Mauritius\",\"Malawi\",\"Malaysia\",\"Mayotte\",\"Namibia\",\"New Caledonia\",\"Niger\",\"Nigeria\",\"Nicaragua\",\"Niue\",\"Netherlands\",\"Norway\",\"Nepal\",\"Nauru\",\"New Zealand\",\"Oman\",\"Pakistan\",\"Panama\",\"Peru\",\"Philippines\",\"Palau\",\"Papua New Guinea\",\"Poland\",\"Puerto Rico\",\"North Korea\",\"Portugal\",\"Paraguay\",\"Palestine\",\"French Polynesia\",\"Qatar\",\"R\\u00e9union\",\"Romania\",\"Russian Federation\",\"Rwanda\",\"Saudi Arabia\",\"Sudan\",\"Senegal\",\"Singapore\",\"Saint Helena, Ascension and Tristan da Cunha\",\"Solomon Islands\",\"Sierra Leone\",\"El Salvador\",\"San Marino\",\"Somalia\",\"Saint Pierre and Miquelon\",\"Serbia\",\"South Sudan\",\"Sao Tome and Principe\",\"Suriname\",\"Slovakia\",\"Slovenia\",\"Sweden\",\"Eswatini\",\"Sint Maarten (Dutch part)\",\"Seychelles\",\"Syrian Arab Republic\",\"Turks and Caicos Islands\",\"Chad\",\"Togo\",\"Thailand\",\"Tajikistan\",\"Tokelau\",\"Turkmenistan\",\"Timor-Leste\",\"Tonga\",\"Trinidad and Tobago\",\"Tunisia\",\"T\\u00fcrkiye\",\"Tuvalu\",\"Taiwan\",\"Tanzania\",\"Uganda\",\"Ukraine\",\"Uruguay\",\"United States of America\",\"Uzbekistan\",\"Saint Vincent and the Grenadines\",\"Venezuela\",\"British Virgin Islands\",\"U.S. Virgin Islands\",\"Viet Nam\",\"Vanuatu\",\"Wallis and Futuna\",\"Samoa\",\"Kosovo\",\"Yemen\",\"South Africa\",\"Zambia\",\"Zimbabwe\"],\"z\":[0.0060045972697846785,0.0029574647651041583,0.0004374113742393239,0.005133140840551813,0.008171340729839625,0.0016216216216216215,0.023351701449152707,0.0017065668662816476,0.0016374341542246265,0.00145056182207885,0.0013381680048346715,0.0014099309736470722,0.0011633654502127748,0.001017214374672276,9.140583067728611e-05,0.0019161513813216497,0.0003145583571400832,0.004703093335372615,0.00015100387843007632,0.004884018368764373,0.002430373217464815,0.015540089165999423,0.001648330020271999,0.006407590627795015,0.001123490309896077,0.00027019617820325456,0.007039382560056315,0.0008589589417625838,0.010066971276026583,0.002027220884654736,0.0022551328319551965,0.004797102269511574,0.019907935990141176,0.0036109773712084737,6.0078382637534575e-05,0.001144140450300426,0.0009213284586310326,0.0022082023013614027,3.247177553375874e-06,0.0007561598551920683,0.00026831666061872053,6.958298082784792e-05,0.0002043080411085316,0.000998297022725938,0.015000727557777914,0.0012764120540930777,0.00515927502402856,0.007136687614249562,0.0010726771036620923,0.007052707764318053,0.0022581747411270074,0.002668203051706737,0.0010487179034302115,0.0011132740505620925,0.005613875445349106,0.001597333148135287,0.0011164436668857556,0.009522745422041982,0.025383123399687367,0.013794790670045522,0.004186846312404915,0.00017295355170664377,7.193623572065721e-06,0.0014894073020777236,0.003531551535830016,0.00014891086562165217,0.000799172723307197,0.001962143451590683,0.0013344008540165466,0.0013937798717380088,0.0010683964513975006,0.0005352029757285451,0.0006590847925017001,0.0011270294186918317,0.0018356775198145893,0.0006210784469853807,0.00040950389619122846,0.0034852792809318537,0.00047534473852745213,0.001781913952512625,0.0001464649309730594,0.00015824762826987222,0.00012405634162860916,0.0027322456353703,0.002151007172719407,0.0027129776714798224,0.007010710707234276,0.0020414475719146303,0.0018495429324414557,0.003130950499371552,0.001090527369970609,0.008351015529606848,0.0030711250295957647,0.000401616655178007,0.006781447613386413,0.003629277436194799,0.0006782000333150894,0.0019518355241898474,0.0014069617006788554,0.0016702907278484309,0.021617274382037976,0.001723625395111122,0.002694493513552399,0.001048712483957509,0.0007988126658431534,0.0008678071252504177,0.01054716283817658,0.0002705582231898706,0.0004867422794470781,0.00027765285045256604,0.0007178350890616687,0.011485613708966228,0.0006484058704453442,0.0012383770963205509,0.0019425132652444587,0.01572821122614779,0.0033338802817007244,0.006691242898544992,0.0003785686135956451,0.028547739069562074,0.002002934661928062,0.0006708638662400661,0.0059989187237624725,0.0004569451222217293,0.002703290149478755,0.0023604060913705585,0.0007474755568113051,0.0013855146440173713,0.0017202715571529505,0.019239210295727532,0.023996533232219272,0.001942721956712926,0.0017523716503177287,0.012882018824425879,0.006299457908567689,0.0008522596397475469,0.004234341604644465,0.00013861639913984332,0.0031997174779473687,0.005982738060720363,0.01078455062252801,0.003265302405493066,0.001552826345614778,0.00021887060394911977,0.005609740266091436,0.00022222222222222223,0.0012797287191103456,0.0033070638019830055,4.226646949883321e-05,0.006159820575865784,0.0021499605676943063,0.000316982296398133,0.002321903052691487,2.8766761929853566e-05,0.00022373436658513555,0.006732933721892699,0.0,0.001474313257611693,0.0012972507169824227,0.006077660597967305,0.002679658952496955,0.0012864705814941868,0.009141393921159027,0.005671353358013177,0.0020789880395315104,0.014738976018920541,0.011940327322933222,0.005063432005341643,0.0003220631736146155,0.009921160584315228,0.0036248706658739776,3.479273792057027e-07,0.0026200715620761394,0.0013650727220396166,0.00757719744304202,0.0008247217806041336,0.020534454432986703,0.0021935159210000176,0.003051326046614761,0.0004434911726749225,0.0001107530737400963,0.01417447240968559,0.0023292949586554926,0.00025693411827122214,0.003852707419960168,0.0,0.0006756453715398493,0.0001163472784088356,0.011631992532336119,0.0003528685270679566,0.001314928884388816,0.0025397900440230275,0.00621595119872846,0.00016509169566142606,0.0026344555687176697,0.004391621984466243,0.0012010964174009806,0.0024753959712718065,0.0018998029698224608,0.000268495030300977,0.0035074045206547155,0.004842224959727092,0.00471645431317299,0.0025521150936151952,3.748940653908974e-05,0.00012993658336669597,0.0055647331158094155,0.00036780088706029327,0.0,2.9917903353333e-05,0.0013523128935111288,0.0006460562068899994,0.002246817995885774,0.009287499805742986,0.002675757470443961,0.0009034239768723462,0.0012370355895407776,9.321845768246662e-05,0.00014807020829435934,0.0009543228829314511,0.0017188248650442522,0.0033823159547503325,0.00014463118540662093,0.0028958359217455295,0.004491855412342674,0.0020381753477838886,0.002150473402825483,0.008732276078044932,0.001482265749073584,0.000429000429000429,0.0007537337737868143,0.0007356202403903995,0.0021592398920507053,0.0018013865429954362,0.00019685418974239627,4.582101494696824e-05],\"type\":\"choropleth\",\"marker\":{\"line\":{\"width\":0.4}}}],                        {\"geo\":{\"bgcolor\":\"#eaeaec\",\"showframe\":false,\"lataxis\":{\"range\":[-60,90]},\"fitbounds\":\"locations\",\"visible\":false},\"height\":300,\"margin\":{\"b\":0,\"l\":0,\"r\":0,\"t\":40},\"width\":600,\"template\":{\"data\":{\"histogram2dcontour\":[{\"type\":\"histogram2dcontour\",\"colorbar\":{\"outlinewidth\":0,\"ticks\":\"\"},\"colorscale\":[[0.0,\"#0d0887\"],[0.1111111111111111,\"#46039f\"],[0.2222222222222222,\"#7201a8\"],[0.3333333333333333,\"#9c179e\"],[0.4444444444444444,\"#bd3786\"],[0.5555555555555556,\"#d8576b\"],[0.6666666666666666,\"#ed7953\"],[0.7777777777777778,\"#fb9f3a\"],[0.8888888888888888,\"#fdca26\"],[1.0,\"#f0f921\"]]}],\"choropleth\":[{\"type\":\"choropleth\",\"colorbar\":{\"outlinewidth\":0,\"ticks\":\"\"}}],\"histogram2d\":[{\"type\":\"histogram2d\",\"colorbar\":{\"outlinewidth\":0,\"ticks\":\"\"},\"colorscale\":[[0.0,\"#0d0887\"],[0.1111111111111111,\"#46039f\"],[0.2222222222222222,\"#7201a8\"],[0.3333333333333333,\"#9c179e\"],[0.4444444444444444,\"#bd3786\"],[0.5555555555555556,\"#d8576b\"],[0.6666666666666666,\"#ed7953\"],[0.7777777777777778,\"#fb9f3a\"],[0.8888888888888888,\"#fdca26\"],[1.0,\"#f0f921\"]]}],\"heatmap\":[{\"type\":\"heatmap\",\"colorbar\":{\"outlinewidth\":0,\"ticks\":\"\"},\"colorscale\":[[0.0,\"#0d0887\"],[0.1111111111111111,\"#46039f\"],[0.2222222222222222,\"#7201a8\"],[0.3333333333333333,\"#9c179e\"],[0.4444444444444444,\"#bd3786\"],[0.5555555555555556,\"#d8576b\"],[0.6666666666666666,\"#ed7953\"],[0.7777777777777778,\"#fb9f3a\"],[0.8888888888888888,\"#fdca26\"],[1.0,\"#f0f921\"]]}],\"heatmapgl\":[{\"type\":\"heatmapgl\",\"colorbar\":{\"outlinewidth\":0,\"ticks\":\"\"},\"colorscale\":[[0.0,\"#0d0887\"],[0.1111111111111111,\"#46039f\"],[0.2222222222222222,\"#7201a8\"],[0.3333333333333333,\"#9c179e\"],[0.4444444444444444,\"#bd3786\"],[0.5555555555555556,\"#d8576b\"],[0.6666666666666666,\"#ed7953\"],[0.7777777777777778,\"#fb9f3a\"],[0.8888888888888888,\"#fdca26\"],[1.0,\"#f0f921\"]]}],\"contourcarpet\":[{\"type\":\"contourcarpet\",\"colorbar\":{\"outlinewidth\":0,\"ticks\":\"\"}}],\"contour\":[{\"type\":\"contour\",\"colorbar\":{\"outlinewidth\":0,\"ticks\":\"\"},\"colorscale\":[[0.0,\"#0d0887\"],[0.1111111111111111,\"#46039f\"],[0.2222222222222222,\"#7201a8\"],[0.3333333333333333,\"#9c179e\"],[0.4444444444444444,\"#bd3786\"],[0.5555555555555556,\"#d8576b\"],[0.6666666666666666,\"#ed7953\"],[0.7777777777777778,\"#fb9f3a\"],[0.8888888888888888,\"#fdca26\"],[1.0,\"#f0f921\"]]}],\"surface\":[{\"type\":\"surface\",\"colorbar\":{\"outlinewidth\":0,\"ticks\":\"\"},\"colorscale\":[[0.0,\"#0d0887\"],[0.1111111111111111,\"#46039f\"],[0.2222222222222222,\"#7201a8\"],[0.3333333333333333,\"#9c179e\"],[0.4444444444444444,\"#bd3786\"],[0.5555555555555556,\"#d8576b\"],[0.6666666666666666,\"#ed7953\"],[0.7777777777777778,\"#fb9f3a\"],[0.8888888888888888,\"#fdca26\"],[1.0,\"#f0f921\"]]}],\"mesh3d\":[{\"type\":\"mesh3d\",\"colorbar\":{\"outlinewidth\":0,\"ticks\":\"\"}}],\"scatter\":[{\"fillpattern\":{\"fillmode\":\"overlay\",\"size\":10,\"solidity\":0.2},\"type\":\"scatter\"}],\"parcoords\":[{\"type\":\"parcoords\",\"line\":{\"colorbar\":{\"outlinewidth\":0,\"ticks\":\"\"}}}],\"scatterpolargl\":[{\"type\":\"scatterpolargl\",\"marker\":{\"colorbar\":{\"outlinewidth\":0,\"ticks\":\"\"}}}],\"bar\":[{\"error_x\":{\"color\":\"#2a3f5f\"},\"error_y\":{\"color\":\"#2a3f5f\"},\"marker\":{\"line\":{\"color\":\"#E5ECF6\",\"width\":0.5},\"pattern\":{\"fillmode\":\"overlay\",\"size\":10,\"solidity\":0.2}},\"type\":\"bar\"}],\"scattergeo\":[{\"type\":\"scattergeo\",\"marker\":{\"colorbar\":{\"outlinewidth\":0,\"ticks\":\"\"}}}],\"scatterpolar\":[{\"type\":\"scatterpolar\",\"marker\":{\"colorbar\":{\"outlinewidth\":0,\"ticks\":\"\"}}}],\"histogram\":[{\"marker\":{\"pattern\":{\"fillmode\":\"overlay\",\"size\":10,\"solidity\":0.2}},\"type\":\"histogram\"}],\"scattergl\":[{\"type\":\"scattergl\",\"marker\":{\"colorbar\":{\"outlinewidth\":0,\"ticks\":\"\"}}}],\"scatter3d\":[{\"type\":\"scatter3d\",\"line\":{\"colorbar\":{\"outlinewidth\":0,\"ticks\":\"\"}},\"marker\":{\"colorbar\":{\"outlinewidth\":0,\"ticks\":\"\"}}}],\"scattermapbox\":[{\"type\":\"scattermapbox\",\"marker\":{\"colorbar\":{\"outlinewidth\":0,\"ticks\":\"\"}}}],\"scatterternary\":[{\"type\":\"scatterternary\",\"marker\":{\"colorbar\":{\"outlinewidth\":0,\"ticks\":\"\"}}}],\"scattercarpet\":[{\"type\":\"scattercarpet\",\"marker\":{\"colorbar\":{\"outlinewidth\":0,\"ticks\":\"\"}}}],\"carpet\":[{\"aaxis\":{\"endlinecolor\":\"#2a3f5f\",\"gridcolor\":\"white\",\"linecolor\":\"white\",\"minorgridcolor\":\"white\",\"startlinecolor\":\"#2a3f5f\"},\"baxis\":{\"endlinecolor\":\"#2a3f5f\",\"gridcolor\":\"white\",\"linecolor\":\"white\",\"minorgridcolor\":\"white\",\"startlinecolor\":\"#2a3f5f\"},\"type\":\"carpet\"}],\"table\":[{\"cells\":{\"fill\":{\"color\":\"#EBF0F8\"},\"line\":{\"color\":\"white\"}},\"header\":{\"fill\":{\"color\":\"#C8D4E3\"},\"line\":{\"color\":\"white\"}},\"type\":\"table\"}],\"barpolar\":[{\"marker\":{\"line\":{\"color\":\"#E5ECF6\",\"width\":0.5},\"pattern\":{\"fillmode\":\"overlay\",\"size\":10,\"solidity\":0.2}},\"type\":\"barpolar\"}],\"pie\":[{\"automargin\":true,\"type\":\"pie\"}]},\"layout\":{\"autotypenumbers\":\"strict\",\"colorway\":[\"#636efa\",\"#EF553B\",\"#00cc96\",\"#ab63fa\",\"#FFA15A\",\"#19d3f3\",\"#FF6692\",\"#B6E880\",\"#FF97FF\",\"#FECB52\"],\"font\":{\"color\":\"#2a3f5f\"},\"hovermode\":\"closest\",\"hoverlabel\":{\"align\":\"left\"},\"paper_bgcolor\":\"white\",\"plot_bgcolor\":\"#E5ECF6\",\"polar\":{\"bgcolor\":\"#E5ECF6\",\"angularaxis\":{\"gridcolor\":\"white\",\"linecolor\":\"white\",\"ticks\":\"\"},\"radialaxis\":{\"gridcolor\":\"white\",\"linecolor\":\"white\",\"ticks\":\"\"}},\"ternary\":{\"bgcolor\":\"#E5ECF6\",\"aaxis\":{\"gridcolor\":\"white\",\"linecolor\":\"white\",\"ticks\":\"\"},\"baxis\":{\"gridcolor\":\"white\",\"linecolor\":\"white\",\"ticks\":\"\"},\"caxis\":{\"gridcolor\":\"white\",\"linecolor\":\"white\",\"ticks\":\"\"}},\"coloraxis\":{\"colorbar\":{\"outlinewidth\":0,\"ticks\":\"\"}},\"colorscale\":{\"sequential\":[[0.0,\"#0d0887\"],[0.1111111111111111,\"#46039f\"],[0.2222222222222222,\"#7201a8\"],[0.3333333333333333,\"#9c179e\"],[0.4444444444444444,\"#bd3786\"],[0.5555555555555556,\"#d8576b\"],[0.6666666666666666,\"#ed7953\"],[0.7777777777777778,\"#fb9f3a\"],[0.8888888888888888,\"#fdca26\"],[1.0,\"#f0f921\"]],\"sequentialminus\":[[0.0,\"#0d0887\"],[0.1111111111111111,\"#46039f\"],[0.2222222222222222,\"#7201a8\"],[0.3333333333333333,\"#9c179e\"],[0.4444444444444444,\"#bd3786\"],[0.5555555555555556,\"#d8576b\"],[0.6666666666666666,\"#ed7953\"],[0.7777777777777778,\"#fb9f3a\"],[0.8888888888888888,\"#fdca26\"],[1.0,\"#f0f921\"]],\"diverging\":[[0,\"#8e0152\"],[0.1,\"#c51b7d\"],[0.2,\"#de77ae\"],[0.3,\"#f1b6da\"],[0.4,\"#fde0ef\"],[0.5,\"#f7f7f7\"],[0.6,\"#e6f5d0\"],[0.7,\"#b8e186\"],[0.8,\"#7fbc41\"],[0.9,\"#4d9221\"],[1,\"#276419\"]]},\"xaxis\":{\"gridcolor\":\"white\",\"linecolor\":\"white\",\"ticks\":\"\",\"title\":{\"standoff\":15},\"zerolinecolor\":\"white\",\"automargin\":true,\"zerolinewidth\":2},\"yaxis\":{\"gridcolor\":\"white\",\"linecolor\":\"white\",\"ticks\":\"\",\"title\":{\"standoff\":15},\"zerolinecolor\":\"white\",\"automargin\":true,\"zerolinewidth\":2},\"scene\":{\"xaxis\":{\"backgroundcolor\":\"#E5ECF6\",\"gridcolor\":\"white\",\"linecolor\":\"white\",\"showbackground\":true,\"ticks\":\"\",\"zerolinecolor\":\"white\",\"gridwidth\":2},\"yaxis\":{\"backgroundcolor\":\"#E5ECF6\",\"gridcolor\":\"white\",\"linecolor\":\"white\",\"showbackground\":true,\"ticks\":\"\",\"zerolinecolor\":\"white\",\"gridwidth\":2},\"zaxis\":{\"backgroundcolor\":\"#E5ECF6\",\"gridcolor\":\"white\",\"linecolor\":\"white\",\"showbackground\":true,\"ticks\":\"\",\"zerolinecolor\":\"white\",\"gridwidth\":2}},\"shapedefaults\":{\"line\":{\"color\":\"#2a3f5f\"}},\"annotationdefaults\":{\"arrowcolor\":\"#2a3f5f\",\"arrowhead\":0,\"arrowwidth\":1},\"geo\":{\"bgcolor\":\"white\",\"landcolor\":\"#E5ECF6\",\"subunitcolor\":\"white\",\"showland\":true,\"showlakes\":true,\"lakecolor\":\"white\"},\"title\":{\"x\":0.05},\"mapbox\":{\"style\":\"light\"}}},\"title\":{\"text\":\"CSAM Reports per Capita 2020\"}},                        {\"responsive\": true}                    ).then(function(){\n",
       "                            \n",
       "var gd = document.getElementById('774d5760-5941-48cb-a9f4-3045b312fc10');\n",
       "var x = new MutationObserver(function (mutations, observer) {{\n",
       "        var display = window.getComputedStyle(gd).display;\n",
       "        if (!display || display === 'none') {{\n",
       "            console.log([gd, 'removed!']);\n",
       "            Plotly.purge(gd);\n",
       "            observer.disconnect();\n",
       "        }}\n",
       "}});\n",
       "\n",
       "// Listen for the removal of the full notebook cells\n",
       "var notebookContainer = gd.closest('#notebook-container');\n",
       "if (notebookContainer) {{\n",
       "    x.observe(notebookContainer, {childList: true});\n",
       "}}\n",
       "\n",
       "// Listen for the clearing of the current output cell\n",
       "var outputEl = gd.closest('.output');\n",
       "if (outputEl) {{\n",
       "    x.observe(outputEl, {childList: true});\n",
       "}}\n",
       "\n",
       "                        })                };                });            </script>        </div>"
      ]
     },
     "metadata": {},
     "output_type": "display_data"
    },
    {
     "data": {
      "application/vnd.plotly.v1+json": {
       "config": {
        "plotlyServerURL": "https://plot.ly"
       },
       "data": [
        {
         "colorbar": {
          "thickness": 20,
          "tickformat": ".3f",
          "title": {
           "font": {
            "size": 13
           },
           "text": "Reports<br>per Capita"
          }
         },
         "colorscale": [
          [
           0,
           "#f0f921"
          ],
          [
           0.1111111111111111,
           "#fdca26"
          ],
          [
           0.2222222222222222,
           "#fb9f3a"
          ],
          [
           0.3333333333333333,
           "#ed7953"
          ],
          [
           0.4444444444444444,
           "#d8576b"
          ],
          [
           0.5555555555555556,
           "#bd3786"
          ],
          [
           0.6666666666666666,
           "#9c179e"
          ],
          [
           0.7777777777777778,
           "#7201a8"
          ],
          [
           0.8888888888888888,
           "#46039f"
          ],
          [
           1,
           "#0d0887"
          ]
         ],
         "locationmode": "ISO-3",
         "locations": [
          "ABW",
          "AFG",
          "AGO",
          "AIA",
          "ALB",
          "AND",
          "ARE",
          "ARG",
          "ARM",
          "ASM",
          "ATG",
          "AUS",
          "AUT",
          "AZE",
          "BDI",
          "BEL",
          "BEN",
          "BES",
          "BFA",
          "BGD",
          "BGR",
          "BHR",
          "BHS",
          "BIH",
          "BLM",
          "BLR",
          "BLZ",
          "BMU",
          "BOL",
          "BRA",
          "BRB",
          "BRN",
          "BTN",
          "BWA",
          "CAF",
          "CAN",
          "CHE",
          "CHL",
          "CHN",
          "CIV",
          "CMR",
          "COD",
          "COG",
          "COK",
          "COL",
          "COM",
          "CPV",
          "CRI",
          "CUB",
          "CUW",
          "CYM",
          "CYP",
          "CZE",
          "DEU",
          "DJI",
          "DMA",
          "DNK",
          "DOM",
          "DZA",
          "ECU",
          "EGY",
          "ERI",
          "ESH",
          "ESP",
          "EST",
          "ETH",
          "FIN",
          "FJI",
          "FLK",
          "FRA",
          "FRO",
          "FSM",
          "GAB",
          "GBR",
          "GEO",
          "GGY",
          "GHA",
          "GIB",
          "GIN",
          "GLP",
          "GMB",
          "GNB",
          "GNQ",
          "GRC",
          "GRD",
          "GRL",
          "GTM",
          "GUF",
          "GUM",
          "GUY",
          "HKG",
          "HND",
          "HRV",
          "HTI",
          "HUN",
          "IDN",
          "IMN",
          "IND",
          "IRL",
          "IRN",
          "IRQ",
          "ISL",
          "ISR",
          "ITA",
          "JAM",
          "JEY",
          "JOR",
          "JPN",
          "KAZ",
          "KEN",
          "KGZ",
          "KHM",
          "KIR",
          "KNA",
          "KOR",
          "KWT",
          "LAO",
          "LBN",
          "LBR",
          "LBY",
          "LCA",
          "LIE",
          "LKA",
          "LSO",
          "LTU",
          "LUX",
          "LVA",
          "MAC",
          "MAF",
          "MAR",
          "MCO",
          "MDA",
          "MDG",
          "MDV",
          "MEX",
          "MHL",
          "MKD",
          "MLI",
          "MLT",
          "MMR",
          "MNE",
          "MNG",
          "MNP",
          "MOZ",
          "MRT",
          "MSR",
          "MTQ",
          "MUS",
          "MWI",
          "MYS",
          "MYT",
          "NAM",
          "NCL",
          "NER",
          "NGA",
          "NIC",
          "NIU",
          "NLD",
          "NOR",
          "NPL",
          "NRU",
          "NZL",
          "OMN",
          "PAK",
          "PAN",
          "PER",
          "PHL",
          "PLW",
          "PNG",
          "POL",
          "PRI",
          "PRK",
          "PRT",
          "PRY",
          "PSE",
          "PYF",
          "QAT",
          "REU",
          "ROU",
          "RUS",
          "RWA",
          "SAU",
          "SDN",
          "SEN",
          "SGP",
          "SHN",
          "SLB",
          "SLE",
          "SLV",
          "SMR",
          "SOM",
          "SPM",
          "SRB",
          "SSD",
          "STP",
          "SUR",
          "SVK",
          "SVN",
          "SWE",
          "SWZ",
          "SXM",
          "SYC",
          "SYR",
          "TCA",
          "TCD",
          "TGO",
          "THA",
          "TJK",
          "TKL",
          "TKM",
          "TLS",
          "TON",
          "TTO",
          "TUN",
          "TUR",
          "TUV",
          "TWN",
          "TZA",
          "UGA",
          "UKR",
          "URY",
          "USA",
          "UZB",
          "VCT",
          "VEN",
          "VGB",
          "VIR",
          "VNM",
          "VUT",
          "WLF",
          "WSM",
          "XKX",
          "YEM",
          "ZAF",
          "ZMB",
          "ZWE"
         ],
         "marker": {
          "line": {
           "width": 0.4
          }
         },
         "showscale": true,
         "text": [
          "Aruba",
          "Afghanistan",
          "Angola",
          "Anguilla",
          "Albania",
          "Andorra",
          "United Arab Emirates",
          "Argentina",
          "Armenia",
          "American Samoa",
          "Antigua and Barbuda",
          "Australia",
          "Austria",
          "Azerbaijan",
          "Burundi",
          "Belgium",
          "Benin",
          "Bonaire, Sint Eustatius, and Saba",
          "Burkina Faso",
          "Bangladesh",
          "Bulgaria",
          "Bahrain",
          "Bahamas",
          "Bosnia and Herzegovina",
          "Saint Barthélemy",
          "Belarus",
          "Belize",
          "Bermuda",
          "Bolivia",
          "Brazil",
          "Barbados",
          "Brunei Darussalam",
          "Bhutan",
          "Botswana",
          "Central African Republic",
          "Canada",
          "Switzerland",
          "Chile",
          "China",
          "Côte d'Ivoire",
          "Cameroon",
          "Democratic Republic of the Congo",
          "Congo",
          "Cook Islands",
          "Colombia",
          "Comoros",
          "Cabo Verde",
          "Costa Rica",
          "Cuba",
          "Curaçao",
          "Cayman Islands",
          "Cyprus",
          "Czechia",
          "Germany",
          "Djibouti",
          "Dominica",
          "Denmark",
          "Dominican Republic",
          "Algeria",
          "Ecuador",
          "Egypt",
          "Eritrea",
          "Western Sahara",
          "Spain",
          "Estonia",
          "Ethiopia",
          "Finland",
          "Fiji",
          "Falkland Islands",
          "France",
          "Faroe Islands",
          "Micronesia",
          "Gabon",
          "United Kingdom of Great Britain and Northern Ireland",
          "Georgia",
          "Guernsey",
          "Ghana",
          "Gibraltar",
          "Guinea",
          "Guadeloupe",
          "Gambia",
          "Guinea-Bissau",
          "Equatorial Guinea",
          "Greece",
          "Grenada",
          "Greenland",
          "Guatemala",
          "French Guiana",
          "Guam",
          "Guyana",
          "Hong Kong",
          "Honduras",
          "Croatia",
          "Haiti",
          "Hungary",
          "Indonesia",
          "Isle of Man",
          "India",
          "Ireland",
          "Iran",
          "Iraq",
          "Iceland",
          "Israel",
          "Italy",
          "Jamaica",
          "Jersey",
          "Jordan",
          "Japan",
          "Kazakhstan",
          "Kenya",
          "Kyrgyzstan",
          "Cambodia",
          "Kiribati",
          "Saint Kitts and Nevis",
          "South Korea",
          "Kuwait",
          "Lao People's Democratic Republic",
          "Lebanon",
          "Liberia",
          "Libya",
          "Saint Lucia",
          "Liechtenstein",
          "Sri Lanka",
          "Lesotho",
          "Lithuania",
          "Luxembourg",
          "Latvia",
          "Macao",
          "Saint Martin (French part)",
          "Morocco",
          "Monaco",
          "Moldova",
          "Madagascar",
          "Maldives",
          "Mexico",
          "Marshall Islands",
          "North Macedonia",
          "Mali",
          "Malta",
          "Myanmar",
          "Montenegro",
          "Mongolia",
          "Northern Mariana Islands",
          "Mozambique",
          "Mauritania",
          "Montserrat",
          "Martinique",
          "Mauritius",
          "Malawi",
          "Malaysia",
          "Mayotte",
          "Namibia",
          "New Caledonia",
          "Niger",
          "Nigeria",
          "Nicaragua",
          "Niue",
          "Netherlands",
          "Norway",
          "Nepal",
          "Nauru",
          "New Zealand",
          "Oman",
          "Pakistan",
          "Panama",
          "Peru",
          "Philippines",
          "Palau",
          "Papua New Guinea",
          "Poland",
          "Puerto Rico",
          "North Korea",
          "Portugal",
          "Paraguay",
          "Palestine",
          "French Polynesia",
          "Qatar",
          "Réunion",
          "Romania",
          "Russian Federation",
          "Rwanda",
          "Saudi Arabia",
          "Sudan",
          "Senegal",
          "Singapore",
          "Saint Helena, Ascension and Tristan da Cunha",
          "Solomon Islands",
          "Sierra Leone",
          "El Salvador",
          "San Marino",
          "Somalia",
          "Saint Pierre and Miquelon",
          "Serbia",
          "South Sudan",
          "Sao Tome and Principe",
          "Suriname",
          "Slovakia",
          "Slovenia",
          "Sweden",
          "Eswatini",
          "Sint Maarten (Dutch part)",
          "Seychelles",
          "Syrian Arab Republic",
          "Turks and Caicos Islands",
          "Chad",
          "Togo",
          "Thailand",
          "Tajikistan",
          "Tokelau",
          "Turkmenistan",
          "Timor-Leste",
          "Tonga",
          "Trinidad and Tobago",
          "Tunisia",
          "Türkiye",
          "Tuvalu",
          "Taiwan",
          "Tanzania",
          "Uganda",
          "Ukraine",
          "Uruguay",
          "United States of America",
          "Uzbekistan",
          "Saint Vincent and the Grenadines",
          "Venezuela",
          "British Virgin Islands",
          "U.S. Virgin Islands",
          "Viet Nam",
          "Vanuatu",
          "Wallis and Futuna",
          "Samoa",
          "Kosovo",
          "Yemen",
          "South Africa",
          "Zambia",
          "Zimbabwe"
         ],
         "type": "choropleth",
         "z": [
          0.0049466382571313255,
          0.007060344101374727,
          0.0003867982673431608,
          0.00444359804481686,
          0.005599517989568118,
          0.0013158893640711593,
          0.03500426314808794,
          0.0020309969039317725,
          0.0012490263255766625,
          0.002531364494282225,
          0.0015983694486161769,
          0.0025282502598559806,
          0.0008495774865104356,
          0.00414651732494314,
          0.00011839493123094955,
          0.0013574567107209972,
          0.0002833753754262076,
          0.0027709129034673855,
          0.00011438560001129377,
          0.010293331304316602,
          0.0019727360443156914,
          0.02210534516622405,
          0.00210342578927498,
          0.003341544013454224,
          0.0008285766893758056,
          0.0005884215018989018,
          0.020740892580824986,
          0.0014177767391135,
          0.003025877290000755,
          0.002039372475667618,
          0.0021230440967283074,
          0.007216423088063264,
          0.018672981027335504,
          0.0007718985652654145,
          0.00004416220539823406,
          0.0016271518929151432,
          0.0008261032995002996,
          0.0023129621967882623,
          0.000005360849311417526,
          0.0006432724297679958,
          0.00030608161558737446,
          0.00005597840676757247,
          0.00019723068244557822,
          0.0035876021878492033,
          0.008544883099924254,
          0.004823362454450079,
          0.006556958795764766,
          0.003225288841175819,
          0.0012241065572365095,
          0.0019228950603662957,
          0.0025683926265116824,
          0.002135529357299701,
          0.0014274907663591307,
          0.0009555494637210776,
          0.0011586909054070434,
          0.0017676384074682722,
          0.0010062790377095851,
          0.012965608352819973,
          0.026521205626270417,
          0.00664814858203602,
          0.005698522685498727,
          0.000331186925325773,
          0.00013614318727114241,
          0.0006977919295065053,
          0.0020538857124364324,
          0.00005695732995609871,
          0.0010980868469463107,
          0.00884156563307773,
          0.003985122210414453,
          0.0015222501452160284,
          0.001436971771067708,
          0.0017678620360467069,
          0.0008000242612803207,
          0.0014525191643886598,
          0.001907407703074524,
          0.0010941092523586776,
          0.0006010106103210514,
          0.0037649219467401286,
          0.00028140898998263805,
          0.0007928271863977114,
          0.00011288237959086577,
          0.00008152486435572792,
          0.00009605583719698054,
          0.0013992809250801671,
          0.0035149666960918066,
          0.005138417225254699,
          0.003695718495697869,
          0.0010590050731385885,
          0.004075433637866935,
          0.004044411466043226,
          0.0027649318260572074,
          0.004294659860642948,
          0.0011684337667506705,
          0.0003768485693338035,
          0.0032657774331998667,
          0.006798587418109767,
          0.0011867464160258236,
          0.0033387579730113585,
          0.0014693596303318182,
          0.002537935478474777,
          0.028035131398412256,
          0.0015310462149135241,
          0.002630432000506963,
          0.0006326770968358887,
          0.0013236929725447758,
          0.001769766190167763,
          0.010211980720251146,
          0.0003971269951976178,
          0.0008726606240961227,
          0.0003392659502067083,
          0.0005855009019961567,
          0.0238587273127099,
          0.0013889535515309527,
          0.0016804251475623334,
          0.001028918714649791,
          0.018541385007555092,
          0.005900155931441883,
          0.008319519024230277,
          0.00034081614105244026,
          0.04020784891252431,
          0.0024825774274708882,
          0.00043545081967213115,
          0.007018229227066131,
          0.0003725692595295546,
          0.0012592176056492185,
          0.003136139748264174,
          0.0008202062095533478,
          0.0014637194202797234,
          0.0006260172780768749,
          0.009370954741381925,
          0.013465627214741318,
          0.003118398880028692,
          0.0027381017471747914,
          0.01848279247801357,
          0.006205075914127492,
          0.002497027348394768,
          0.00287401406341373,
          0.00012038356751977392,
          0.0014238307501879457,
          0.010043126999780754,
          0.004008861862297108,
          0.006468758578438327,
          0.006406369993128815,
          0.00020859135771494355,
          0.0012877645681210771,
          0.0004527960153950645,
          0.0008595537912558705,
          0.005720158747878037,
          0.00004871858066333892,
          0.008032168107856723,
          0.0030568265962900376,
          0.00035808139514202907,
          0.00825225851285615,
          0.00003278854453789179,
          0.00027016702234784176,
          0.005402785765793646,
          0.0005162622612287042,
          0.0021020819925108973,
          0.001444932381347398,
          0.008760782007918098,
          0.003916240409207161,
          0.0019437677787204311,
          0.014192326419083322,
          0.008776069235356218,
          0.002439059703759847,
          0.005722684232331079,
          0.02800126286956251,
          0.008710608078118064,
          0.0007111960204381414,
          0.0009856497355128831,
          0.002058643230340771,
          7.700627628103888e-8,
          0.0033444757550045905,
          0.0019852922201277217,
          0.007615822052942771,
          0.0015689137985475214,
          0.02735475135172334,
          0.003310116971957161,
          0.0016951599084463612,
          0.0005644069266637977,
          0.00009270616424679808,
          0.01972106232153882,
          0.0006833095028468893,
          0.00022231808076450874,
          0.009022462486077824,
          0,
          0.0020710573270363397,
          0.00014072562884464497,
          0.0056805583886903235,
          0.0001481657085284182,
          0.001736594845496324,
          0.010538840727519972,
          0.0031102807283607307,
          0.00017119029261724187,
          0.0018466392957670725,
          0.00336386697880046,
          0.0013354450804406032,
          0.0014919246394043625,
          0.0018758782879340853,
          0.00032207442770980756,
          0.001998092729667136,
          0.007626489842304477,
          0.0036180206427698417,
          0.0033470762956066854,
          0.000041502374308342266,
          0.0001609054383840328,
          0.00823332288610135,
          0.00041394600076471294,
          0.002163331530557058,
          0.000025386893897763353,
          0.0028638653324672848,
          0.0017733005084090286,
          0.0029836208913764047,
          0.013419450758406667,
          0.003409550251155394,
          0.002231345947875759,
          0.0016058734835233256,
          0.00011115246390949636,
          0.00009896676343659186,
          0.0015586901801645718,
          0.0018445768855836976,
          0.005666924227335206,
          0.0002103196962077522,
          0.0039010083195951386,
          0.005346762805654367,
          0.0025383972752393803,
          0.0019981816546942284,
          0.007346665438366462,
          0.004430699041477484,
          0.0020639834881320948,
          0.002116435976668922,
          0.0020222501669665046,
          0.007378044045776861,
          0.0008565931702711069,
          0.00019930031774561093,
          0.000050645498765625386
         ]
        }
       ],
       "layout": {
        "geo": {
         "bgcolor": "#eaeaec",
         "fitbounds": "locations",
         "lataxis": {
          "range": [
           -60,
           90
          ]
         },
         "showframe": false,
         "visible": false
        },
        "height": 300,
        "margin": {
         "b": 0,
         "l": 0,
         "r": 0,
         "t": 40
        },
        "template": {
         "data": {
          "bar": [
           {
            "error_x": {
             "color": "#2a3f5f"
            },
            "error_y": {
             "color": "#2a3f5f"
            },
            "marker": {
             "line": {
              "color": "#E5ECF6",
              "width": 0.5
             },
             "pattern": {
              "fillmode": "overlay",
              "size": 10,
              "solidity": 0.2
             }
            },
            "type": "bar"
           }
          ],
          "barpolar": [
           {
            "marker": {
             "line": {
              "color": "#E5ECF6",
              "width": 0.5
             },
             "pattern": {
              "fillmode": "overlay",
              "size": 10,
              "solidity": 0.2
             }
            },
            "type": "barpolar"
           }
          ],
          "carpet": [
           {
            "aaxis": {
             "endlinecolor": "#2a3f5f",
             "gridcolor": "white",
             "linecolor": "white",
             "minorgridcolor": "white",
             "startlinecolor": "#2a3f5f"
            },
            "baxis": {
             "endlinecolor": "#2a3f5f",
             "gridcolor": "white",
             "linecolor": "white",
             "minorgridcolor": "white",
             "startlinecolor": "#2a3f5f"
            },
            "type": "carpet"
           }
          ],
          "choropleth": [
           {
            "colorbar": {
             "outlinewidth": 0,
             "ticks": ""
            },
            "type": "choropleth"
           }
          ],
          "contour": [
           {
            "colorbar": {
             "outlinewidth": 0,
             "ticks": ""
            },
            "colorscale": [
             [
              0,
              "#0d0887"
             ],
             [
              0.1111111111111111,
              "#46039f"
             ],
             [
              0.2222222222222222,
              "#7201a8"
             ],
             [
              0.3333333333333333,
              "#9c179e"
             ],
             [
              0.4444444444444444,
              "#bd3786"
             ],
             [
              0.5555555555555556,
              "#d8576b"
             ],
             [
              0.6666666666666666,
              "#ed7953"
             ],
             [
              0.7777777777777778,
              "#fb9f3a"
             ],
             [
              0.8888888888888888,
              "#fdca26"
             ],
             [
              1,
              "#f0f921"
             ]
            ],
            "type": "contour"
           }
          ],
          "contourcarpet": [
           {
            "colorbar": {
             "outlinewidth": 0,
             "ticks": ""
            },
            "type": "contourcarpet"
           }
          ],
          "heatmap": [
           {
            "colorbar": {
             "outlinewidth": 0,
             "ticks": ""
            },
            "colorscale": [
             [
              0,
              "#0d0887"
             ],
             [
              0.1111111111111111,
              "#46039f"
             ],
             [
              0.2222222222222222,
              "#7201a8"
             ],
             [
              0.3333333333333333,
              "#9c179e"
             ],
             [
              0.4444444444444444,
              "#bd3786"
             ],
             [
              0.5555555555555556,
              "#d8576b"
             ],
             [
              0.6666666666666666,
              "#ed7953"
             ],
             [
              0.7777777777777778,
              "#fb9f3a"
             ],
             [
              0.8888888888888888,
              "#fdca26"
             ],
             [
              1,
              "#f0f921"
             ]
            ],
            "type": "heatmap"
           }
          ],
          "heatmapgl": [
           {
            "colorbar": {
             "outlinewidth": 0,
             "ticks": ""
            },
            "colorscale": [
             [
              0,
              "#0d0887"
             ],
             [
              0.1111111111111111,
              "#46039f"
             ],
             [
              0.2222222222222222,
              "#7201a8"
             ],
             [
              0.3333333333333333,
              "#9c179e"
             ],
             [
              0.4444444444444444,
              "#bd3786"
             ],
             [
              0.5555555555555556,
              "#d8576b"
             ],
             [
              0.6666666666666666,
              "#ed7953"
             ],
             [
              0.7777777777777778,
              "#fb9f3a"
             ],
             [
              0.8888888888888888,
              "#fdca26"
             ],
             [
              1,
              "#f0f921"
             ]
            ],
            "type": "heatmapgl"
           }
          ],
          "histogram": [
           {
            "marker": {
             "pattern": {
              "fillmode": "overlay",
              "size": 10,
              "solidity": 0.2
             }
            },
            "type": "histogram"
           }
          ],
          "histogram2d": [
           {
            "colorbar": {
             "outlinewidth": 0,
             "ticks": ""
            },
            "colorscale": [
             [
              0,
              "#0d0887"
             ],
             [
              0.1111111111111111,
              "#46039f"
             ],
             [
              0.2222222222222222,
              "#7201a8"
             ],
             [
              0.3333333333333333,
              "#9c179e"
             ],
             [
              0.4444444444444444,
              "#bd3786"
             ],
             [
              0.5555555555555556,
              "#d8576b"
             ],
             [
              0.6666666666666666,
              "#ed7953"
             ],
             [
              0.7777777777777778,
              "#fb9f3a"
             ],
             [
              0.8888888888888888,
              "#fdca26"
             ],
             [
              1,
              "#f0f921"
             ]
            ],
            "type": "histogram2d"
           }
          ],
          "histogram2dcontour": [
           {
            "colorbar": {
             "outlinewidth": 0,
             "ticks": ""
            },
            "colorscale": [
             [
              0,
              "#0d0887"
             ],
             [
              0.1111111111111111,
              "#46039f"
             ],
             [
              0.2222222222222222,
              "#7201a8"
             ],
             [
              0.3333333333333333,
              "#9c179e"
             ],
             [
              0.4444444444444444,
              "#bd3786"
             ],
             [
              0.5555555555555556,
              "#d8576b"
             ],
             [
              0.6666666666666666,
              "#ed7953"
             ],
             [
              0.7777777777777778,
              "#fb9f3a"
             ],
             [
              0.8888888888888888,
              "#fdca26"
             ],
             [
              1,
              "#f0f921"
             ]
            ],
            "type": "histogram2dcontour"
           }
          ],
          "mesh3d": [
           {
            "colorbar": {
             "outlinewidth": 0,
             "ticks": ""
            },
            "type": "mesh3d"
           }
          ],
          "parcoords": [
           {
            "line": {
             "colorbar": {
              "outlinewidth": 0,
              "ticks": ""
             }
            },
            "type": "parcoords"
           }
          ],
          "pie": [
           {
            "automargin": true,
            "type": "pie"
           }
          ],
          "scatter": [
           {
            "fillpattern": {
             "fillmode": "overlay",
             "size": 10,
             "solidity": 0.2
            },
            "type": "scatter"
           }
          ],
          "scatter3d": [
           {
            "line": {
             "colorbar": {
              "outlinewidth": 0,
              "ticks": ""
             }
            },
            "marker": {
             "colorbar": {
              "outlinewidth": 0,
              "ticks": ""
             }
            },
            "type": "scatter3d"
           }
          ],
          "scattercarpet": [
           {
            "marker": {
             "colorbar": {
              "outlinewidth": 0,
              "ticks": ""
             }
            },
            "type": "scattercarpet"
           }
          ],
          "scattergeo": [
           {
            "marker": {
             "colorbar": {
              "outlinewidth": 0,
              "ticks": ""
             }
            },
            "type": "scattergeo"
           }
          ],
          "scattergl": [
           {
            "marker": {
             "colorbar": {
              "outlinewidth": 0,
              "ticks": ""
             }
            },
            "type": "scattergl"
           }
          ],
          "scattermapbox": [
           {
            "marker": {
             "colorbar": {
              "outlinewidth": 0,
              "ticks": ""
             }
            },
            "type": "scattermapbox"
           }
          ],
          "scatterpolar": [
           {
            "marker": {
             "colorbar": {
              "outlinewidth": 0,
              "ticks": ""
             }
            },
            "type": "scatterpolar"
           }
          ],
          "scatterpolargl": [
           {
            "marker": {
             "colorbar": {
              "outlinewidth": 0,
              "ticks": ""
             }
            },
            "type": "scatterpolargl"
           }
          ],
          "scatterternary": [
           {
            "marker": {
             "colorbar": {
              "outlinewidth": 0,
              "ticks": ""
             }
            },
            "type": "scatterternary"
           }
          ],
          "surface": [
           {
            "colorbar": {
             "outlinewidth": 0,
             "ticks": ""
            },
            "colorscale": [
             [
              0,
              "#0d0887"
             ],
             [
              0.1111111111111111,
              "#46039f"
             ],
             [
              0.2222222222222222,
              "#7201a8"
             ],
             [
              0.3333333333333333,
              "#9c179e"
             ],
             [
              0.4444444444444444,
              "#bd3786"
             ],
             [
              0.5555555555555556,
              "#d8576b"
             ],
             [
              0.6666666666666666,
              "#ed7953"
             ],
             [
              0.7777777777777778,
              "#fb9f3a"
             ],
             [
              0.8888888888888888,
              "#fdca26"
             ],
             [
              1,
              "#f0f921"
             ]
            ],
            "type": "surface"
           }
          ],
          "table": [
           {
            "cells": {
             "fill": {
              "color": "#EBF0F8"
             },
             "line": {
              "color": "white"
             }
            },
            "header": {
             "fill": {
              "color": "#C8D4E3"
             },
             "line": {
              "color": "white"
             }
            },
            "type": "table"
           }
          ]
         },
         "layout": {
          "annotationdefaults": {
           "arrowcolor": "#2a3f5f",
           "arrowhead": 0,
           "arrowwidth": 1
          },
          "autotypenumbers": "strict",
          "coloraxis": {
           "colorbar": {
            "outlinewidth": 0,
            "ticks": ""
           }
          },
          "colorscale": {
           "diverging": [
            [
             0,
             "#8e0152"
            ],
            [
             0.1,
             "#c51b7d"
            ],
            [
             0.2,
             "#de77ae"
            ],
            [
             0.3,
             "#f1b6da"
            ],
            [
             0.4,
             "#fde0ef"
            ],
            [
             0.5,
             "#f7f7f7"
            ],
            [
             0.6,
             "#e6f5d0"
            ],
            [
             0.7,
             "#b8e186"
            ],
            [
             0.8,
             "#7fbc41"
            ],
            [
             0.9,
             "#4d9221"
            ],
            [
             1,
             "#276419"
            ]
           ],
           "sequential": [
            [
             0,
             "#0d0887"
            ],
            [
             0.1111111111111111,
             "#46039f"
            ],
            [
             0.2222222222222222,
             "#7201a8"
            ],
            [
             0.3333333333333333,
             "#9c179e"
            ],
            [
             0.4444444444444444,
             "#bd3786"
            ],
            [
             0.5555555555555556,
             "#d8576b"
            ],
            [
             0.6666666666666666,
             "#ed7953"
            ],
            [
             0.7777777777777778,
             "#fb9f3a"
            ],
            [
             0.8888888888888888,
             "#fdca26"
            ],
            [
             1,
             "#f0f921"
            ]
           ],
           "sequentialminus": [
            [
             0,
             "#0d0887"
            ],
            [
             0.1111111111111111,
             "#46039f"
            ],
            [
             0.2222222222222222,
             "#7201a8"
            ],
            [
             0.3333333333333333,
             "#9c179e"
            ],
            [
             0.4444444444444444,
             "#bd3786"
            ],
            [
             0.5555555555555556,
             "#d8576b"
            ],
            [
             0.6666666666666666,
             "#ed7953"
            ],
            [
             0.7777777777777778,
             "#fb9f3a"
            ],
            [
             0.8888888888888888,
             "#fdca26"
            ],
            [
             1,
             "#f0f921"
            ]
           ]
          },
          "colorway": [
           "#636efa",
           "#EF553B",
           "#00cc96",
           "#ab63fa",
           "#FFA15A",
           "#19d3f3",
           "#FF6692",
           "#B6E880",
           "#FF97FF",
           "#FECB52"
          ],
          "font": {
           "color": "#2a3f5f"
          },
          "geo": {
           "bgcolor": "white",
           "lakecolor": "white",
           "landcolor": "#E5ECF6",
           "showlakes": true,
           "showland": true,
           "subunitcolor": "white"
          },
          "hoverlabel": {
           "align": "left"
          },
          "hovermode": "closest",
          "mapbox": {
           "style": "light"
          },
          "paper_bgcolor": "white",
          "plot_bgcolor": "#E5ECF6",
          "polar": {
           "angularaxis": {
            "gridcolor": "white",
            "linecolor": "white",
            "ticks": ""
           },
           "bgcolor": "#E5ECF6",
           "radialaxis": {
            "gridcolor": "white",
            "linecolor": "white",
            "ticks": ""
           }
          },
          "scene": {
           "xaxis": {
            "backgroundcolor": "#E5ECF6",
            "gridcolor": "white",
            "gridwidth": 2,
            "linecolor": "white",
            "showbackground": true,
            "ticks": "",
            "zerolinecolor": "white"
           },
           "yaxis": {
            "backgroundcolor": "#E5ECF6",
            "gridcolor": "white",
            "gridwidth": 2,
            "linecolor": "white",
            "showbackground": true,
            "ticks": "",
            "zerolinecolor": "white"
           },
           "zaxis": {
            "backgroundcolor": "#E5ECF6",
            "gridcolor": "white",
            "gridwidth": 2,
            "linecolor": "white",
            "showbackground": true,
            "ticks": "",
            "zerolinecolor": "white"
           }
          },
          "shapedefaults": {
           "line": {
            "color": "#2a3f5f"
           }
          },
          "ternary": {
           "aaxis": {
            "gridcolor": "white",
            "linecolor": "white",
            "ticks": ""
           },
           "baxis": {
            "gridcolor": "white",
            "linecolor": "white",
            "ticks": ""
           },
           "bgcolor": "#E5ECF6",
           "caxis": {
            "gridcolor": "white",
            "linecolor": "white",
            "ticks": ""
           }
          },
          "title": {
           "x": 0.05
          },
          "xaxis": {
           "automargin": true,
           "gridcolor": "white",
           "linecolor": "white",
           "ticks": "",
           "title": {
            "standoff": 15
           },
           "zerolinecolor": "white",
           "zerolinewidth": 2
          },
          "yaxis": {
           "automargin": true,
           "gridcolor": "white",
           "linecolor": "white",
           "ticks": "",
           "title": {
            "standoff": 15
           },
           "zerolinecolor": "white",
           "zerolinewidth": 2
          }
         }
        },
        "title": {
         "text": "CSAM Reports per Capita 2021"
        },
        "width": 600
       }
      },
      "text/html": [
       "<div>                            <div id=\"59737b20-19fe-4054-b090-32139e1cdfea\" class=\"plotly-graph-div\" style=\"height:300px; width:600px;\"></div>            <script type=\"text/javascript\">                require([\"plotly\"], function(Plotly) {                    window.PLOTLYENV=window.PLOTLYENV || {};                                    if (document.getElementById(\"59737b20-19fe-4054-b090-32139e1cdfea\")) {                    Plotly.newPlot(                        \"59737b20-19fe-4054-b090-32139e1cdfea\",                        [{\"colorbar\":{\"title\":{\"text\":\"Reports<br>per Capita\",\"font\":{\"size\":13}},\"thickness\":20,\"tickformat\":\".3f\"},\"colorscale\":[[0.0,\"#f0f921\"],[0.1111111111111111,\"#fdca26\"],[0.2222222222222222,\"#fb9f3a\"],[0.3333333333333333,\"#ed7953\"],[0.4444444444444444,\"#d8576b\"],[0.5555555555555556,\"#bd3786\"],[0.6666666666666666,\"#9c179e\"],[0.7777777777777778,\"#7201a8\"],[0.8888888888888888,\"#46039f\"],[1.0,\"#0d0887\"]],\"locationmode\":\"ISO-3\",\"locations\":[\"ABW\",\"AFG\",\"AGO\",\"AIA\",\"ALB\",\"AND\",\"ARE\",\"ARG\",\"ARM\",\"ASM\",\"ATG\",\"AUS\",\"AUT\",\"AZE\",\"BDI\",\"BEL\",\"BEN\",\"BES\",\"BFA\",\"BGD\",\"BGR\",\"BHR\",\"BHS\",\"BIH\",\"BLM\",\"BLR\",\"BLZ\",\"BMU\",\"BOL\",\"BRA\",\"BRB\",\"BRN\",\"BTN\",\"BWA\",\"CAF\",\"CAN\",\"CHE\",\"CHL\",\"CHN\",\"CIV\",\"CMR\",\"COD\",\"COG\",\"COK\",\"COL\",\"COM\",\"CPV\",\"CRI\",\"CUB\",\"CUW\",\"CYM\",\"CYP\",\"CZE\",\"DEU\",\"DJI\",\"DMA\",\"DNK\",\"DOM\",\"DZA\",\"ECU\",\"EGY\",\"ERI\",\"ESH\",\"ESP\",\"EST\",\"ETH\",\"FIN\",\"FJI\",\"FLK\",\"FRA\",\"FRO\",\"FSM\",\"GAB\",\"GBR\",\"GEO\",\"GGY\",\"GHA\",\"GIB\",\"GIN\",\"GLP\",\"GMB\",\"GNB\",\"GNQ\",\"GRC\",\"GRD\",\"GRL\",\"GTM\",\"GUF\",\"GUM\",\"GUY\",\"HKG\",\"HND\",\"HRV\",\"HTI\",\"HUN\",\"IDN\",\"IMN\",\"IND\",\"IRL\",\"IRN\",\"IRQ\",\"ISL\",\"ISR\",\"ITA\",\"JAM\",\"JEY\",\"JOR\",\"JPN\",\"KAZ\",\"KEN\",\"KGZ\",\"KHM\",\"KIR\",\"KNA\",\"KOR\",\"KWT\",\"LAO\",\"LBN\",\"LBR\",\"LBY\",\"LCA\",\"LIE\",\"LKA\",\"LSO\",\"LTU\",\"LUX\",\"LVA\",\"MAC\",\"MAF\",\"MAR\",\"MCO\",\"MDA\",\"MDG\",\"MDV\",\"MEX\",\"MHL\",\"MKD\",\"MLI\",\"MLT\",\"MMR\",\"MNE\",\"MNG\",\"MNP\",\"MOZ\",\"MRT\",\"MSR\",\"MTQ\",\"MUS\",\"MWI\",\"MYS\",\"MYT\",\"NAM\",\"NCL\",\"NER\",\"NGA\",\"NIC\",\"NIU\",\"NLD\",\"NOR\",\"NPL\",\"NRU\",\"NZL\",\"OMN\",\"PAK\",\"PAN\",\"PER\",\"PHL\",\"PLW\",\"PNG\",\"POL\",\"PRI\",\"PRK\",\"PRT\",\"PRY\",\"PSE\",\"PYF\",\"QAT\",\"REU\",\"ROU\",\"RUS\",\"RWA\",\"SAU\",\"SDN\",\"SEN\",\"SGP\",\"SHN\",\"SLB\",\"SLE\",\"SLV\",\"SMR\",\"SOM\",\"SPM\",\"SRB\",\"SSD\",\"STP\",\"SUR\",\"SVK\",\"SVN\",\"SWE\",\"SWZ\",\"SXM\",\"SYC\",\"SYR\",\"TCA\",\"TCD\",\"TGO\",\"THA\",\"TJK\",\"TKL\",\"TKM\",\"TLS\",\"TON\",\"TTO\",\"TUN\",\"TUR\",\"TUV\",\"TWN\",\"TZA\",\"UGA\",\"UKR\",\"URY\",\"USA\",\"UZB\",\"VCT\",\"VEN\",\"VGB\",\"VIR\",\"VNM\",\"VUT\",\"WLF\",\"WSM\",\"XKX\",\"YEM\",\"ZAF\",\"ZMB\",\"ZWE\"],\"showscale\":true,\"text\":[\"Aruba\",\"Afghanistan\",\"Angola\",\"Anguilla\",\"Albania\",\"Andorra\",\"United Arab Emirates\",\"Argentina\",\"Armenia\",\"American Samoa\",\"Antigua and Barbuda\",\"Australia\",\"Austria\",\"Azerbaijan\",\"Burundi\",\"Belgium\",\"Benin\",\"Bonaire, Sint Eustatius, and Saba\",\"Burkina Faso\",\"Bangladesh\",\"Bulgaria\",\"Bahrain\",\"Bahamas\",\"Bosnia and Herzegovina\",\"Saint Barth\\u00e9lemy\",\"Belarus\",\"Belize\",\"Bermuda\",\"Bolivia\",\"Brazil\",\"Barbados\",\"Brunei Darussalam\",\"Bhutan\",\"Botswana\",\"Central African Republic\",\"Canada\",\"Switzerland\",\"Chile\",\"China\",\"C\\u00f4te d'Ivoire\",\"Cameroon\",\"Democratic Republic of the Congo\",\"Congo\",\"Cook Islands\",\"Colombia\",\"Comoros\",\"Cabo Verde\",\"Costa Rica\",\"Cuba\",\"Cura\\u00e7ao\",\"Cayman Islands\",\"Cyprus\",\"Czechia\",\"Germany\",\"Djibouti\",\"Dominica\",\"Denmark\",\"Dominican Republic\",\"Algeria\",\"Ecuador\",\"Egypt\",\"Eritrea\",\"Western Sahara\",\"Spain\",\"Estonia\",\"Ethiopia\",\"Finland\",\"Fiji\",\"Falkland Islands\",\"France\",\"Faroe Islands\",\"Micronesia\",\"Gabon\",\"United Kingdom of Great Britain and Northern Ireland\",\"Georgia\",\"Guernsey\",\"Ghana\",\"Gibraltar\",\"Guinea\",\"Guadeloupe\",\"Gambia\",\"Guinea-Bissau\",\"Equatorial Guinea\",\"Greece\",\"Grenada\",\"Greenland\",\"Guatemala\",\"French Guiana\",\"Guam\",\"Guyana\",\"Hong Kong\",\"Honduras\",\"Croatia\",\"Haiti\",\"Hungary\",\"Indonesia\",\"Isle of Man\",\"India\",\"Ireland\",\"Iran\",\"Iraq\",\"Iceland\",\"Israel\",\"Italy\",\"Jamaica\",\"Jersey\",\"Jordan\",\"Japan\",\"Kazakhstan\",\"Kenya\",\"Kyrgyzstan\",\"Cambodia\",\"Kiribati\",\"Saint Kitts and Nevis\",\"South Korea\",\"Kuwait\",\"Lao People's Democratic Republic\",\"Lebanon\",\"Liberia\",\"Libya\",\"Saint Lucia\",\"Liechtenstein\",\"Sri Lanka\",\"Lesotho\",\"Lithuania\",\"Luxembourg\",\"Latvia\",\"Macao\",\"Saint Martin (French part)\",\"Morocco\",\"Monaco\",\"Moldova\",\"Madagascar\",\"Maldives\",\"Mexico\",\"Marshall Islands\",\"North Macedonia\",\"Mali\",\"Malta\",\"Myanmar\",\"Montenegro\",\"Mongolia\",\"Northern Mariana Islands\",\"Mozambique\",\"Mauritania\",\"Montserrat\",\"Martinique\",\"Mauritius\",\"Malawi\",\"Malaysia\",\"Mayotte\",\"Namibia\",\"New Caledonia\",\"Niger\",\"Nigeria\",\"Nicaragua\",\"Niue\",\"Netherlands\",\"Norway\",\"Nepal\",\"Nauru\",\"New Zealand\",\"Oman\",\"Pakistan\",\"Panama\",\"Peru\",\"Philippines\",\"Palau\",\"Papua New Guinea\",\"Poland\",\"Puerto Rico\",\"North Korea\",\"Portugal\",\"Paraguay\",\"Palestine\",\"French Polynesia\",\"Qatar\",\"R\\u00e9union\",\"Romania\",\"Russian Federation\",\"Rwanda\",\"Saudi Arabia\",\"Sudan\",\"Senegal\",\"Singapore\",\"Saint Helena, Ascension and Tristan da Cunha\",\"Solomon Islands\",\"Sierra Leone\",\"El Salvador\",\"San Marino\",\"Somalia\",\"Saint Pierre and Miquelon\",\"Serbia\",\"South Sudan\",\"Sao Tome and Principe\",\"Suriname\",\"Slovakia\",\"Slovenia\",\"Sweden\",\"Eswatini\",\"Sint Maarten (Dutch part)\",\"Seychelles\",\"Syrian Arab Republic\",\"Turks and Caicos Islands\",\"Chad\",\"Togo\",\"Thailand\",\"Tajikistan\",\"Tokelau\",\"Turkmenistan\",\"Timor-Leste\",\"Tonga\",\"Trinidad and Tobago\",\"Tunisia\",\"T\\u00fcrkiye\",\"Tuvalu\",\"Taiwan\",\"Tanzania\",\"Uganda\",\"Ukraine\",\"Uruguay\",\"United States of America\",\"Uzbekistan\",\"Saint Vincent and the Grenadines\",\"Venezuela\",\"British Virgin Islands\",\"U.S. Virgin Islands\",\"Viet Nam\",\"Vanuatu\",\"Wallis and Futuna\",\"Samoa\",\"Kosovo\",\"Yemen\",\"South Africa\",\"Zambia\",\"Zimbabwe\"],\"z\":[0.0049466382571313255,0.007060344101374727,0.0003867982673431608,0.00444359804481686,0.005599517989568118,0.0013158893640711593,0.03500426314808794,0.0020309969039317725,0.0012490263255766625,0.002531364494282225,0.0015983694486161769,0.0025282502598559806,0.0008495774865104356,0.00414651732494314,0.00011839493123094955,0.0013574567107209972,0.0002833753754262076,0.0027709129034673855,0.00011438560001129377,0.010293331304316602,0.0019727360443156914,0.02210534516622405,0.00210342578927498,0.003341544013454224,0.0008285766893758056,0.0005884215018989018,0.020740892580824986,0.0014177767391135,0.003025877290000755,0.002039372475667618,0.0021230440967283074,0.007216423088063264,0.018672981027335504,0.0007718985652654145,4.416220539823406e-05,0.0016271518929151432,0.0008261032995002996,0.0023129621967882623,5.360849311417526e-06,0.0006432724297679958,0.00030608161558737446,5.597840676757247e-05,0.00019723068244557822,0.0035876021878492033,0.008544883099924254,0.004823362454450079,0.006556958795764766,0.003225288841175819,0.0012241065572365095,0.0019228950603662957,0.0025683926265116824,0.002135529357299701,0.0014274907663591307,0.0009555494637210776,0.0011586909054070434,0.0017676384074682722,0.0010062790377095851,0.012965608352819973,0.026521205626270417,0.00664814858203602,0.005698522685498727,0.000331186925325773,0.00013614318727114241,0.0006977919295065053,0.0020538857124364324,5.695732995609871e-05,0.0010980868469463107,0.00884156563307773,0.003985122210414453,0.0015222501452160284,0.001436971771067708,0.0017678620360467069,0.0008000242612803207,0.0014525191643886598,0.001907407703074524,0.0010941092523586776,0.0006010106103210514,0.0037649219467401286,0.00028140898998263805,0.0007928271863977114,0.00011288237959086577,8.152486435572792e-05,9.605583719698054e-05,0.0013992809250801671,0.0035149666960918066,0.005138417225254699,0.003695718495697869,0.0010590050731385885,0.004075433637866935,0.004044411466043226,0.0027649318260572074,0.004294659860642948,0.0011684337667506705,0.0003768485693338035,0.0032657774331998667,0.006798587418109767,0.0011867464160258236,0.0033387579730113585,0.0014693596303318182,0.002537935478474777,0.028035131398412256,0.0015310462149135241,0.002630432000506963,0.0006326770968358887,0.0013236929725447758,0.001769766190167763,0.010211980720251146,0.0003971269951976178,0.0008726606240961227,0.0003392659502067083,0.0005855009019961567,0.0238587273127099,0.0013889535515309527,0.0016804251475623334,0.001028918714649791,0.018541385007555092,0.005900155931441883,0.008319519024230277,0.00034081614105244026,0.04020784891252431,0.0024825774274708882,0.00043545081967213115,0.007018229227066131,0.0003725692595295546,0.0012592176056492185,0.003136139748264174,0.0008202062095533478,0.0014637194202797234,0.0006260172780768749,0.009370954741381925,0.013465627214741318,0.003118398880028692,0.0027381017471747914,0.01848279247801357,0.006205075914127492,0.002497027348394768,0.00287401406341373,0.00012038356751977392,0.0014238307501879457,0.010043126999780754,0.004008861862297108,0.006468758578438327,0.006406369993128815,0.00020859135771494355,0.0012877645681210771,0.0004527960153950645,0.0008595537912558705,0.005720158747878037,4.871858066333892e-05,0.008032168107856723,0.0030568265962900376,0.00035808139514202907,0.00825225851285615,3.278854453789179e-05,0.00027016702234784176,0.005402785765793646,0.0005162622612287042,0.0021020819925108973,0.001444932381347398,0.008760782007918098,0.003916240409207161,0.0019437677787204311,0.014192326419083322,0.008776069235356218,0.002439059703759847,0.005722684232331079,0.02800126286956251,0.008710608078118064,0.0007111960204381414,0.0009856497355128831,0.002058643230340771,7.700627628103888e-08,0.0033444757550045905,0.0019852922201277217,0.007615822052942771,0.0015689137985475214,0.02735475135172334,0.003310116971957161,0.0016951599084463612,0.0005644069266637977,9.270616424679808e-05,0.01972106232153882,0.0006833095028468893,0.00022231808076450874,0.009022462486077824,0.0,0.0020710573270363397,0.00014072562884464497,0.0056805583886903235,0.0001481657085284182,0.001736594845496324,0.010538840727519972,0.0031102807283607307,0.00017119029261724187,0.0018466392957670725,0.00336386697880046,0.0013354450804406032,0.0014919246394043625,0.0018758782879340853,0.00032207442770980756,0.001998092729667136,0.007626489842304477,0.0036180206427698417,0.0033470762956066854,4.1502374308342266e-05,0.0001609054383840328,0.00823332288610135,0.00041394600076471294,0.002163331530557058,2.5386893897763353e-05,0.0028638653324672848,0.0017733005084090286,0.0029836208913764047,0.013419450758406667,0.003409550251155394,0.002231345947875759,0.0016058734835233256,0.00011115246390949636,9.896676343659186e-05,0.0015586901801645718,0.0018445768855836976,0.005666924227335206,0.0002103196962077522,0.0039010083195951386,0.005346762805654367,0.0025383972752393803,0.0019981816546942284,0.007346665438366462,0.004430699041477484,0.0020639834881320948,0.002116435976668922,0.0020222501669665046,0.007378044045776861,0.0008565931702711069,0.00019930031774561093,5.0645498765625386e-05],\"type\":\"choropleth\",\"marker\":{\"line\":{\"width\":0.4}}}],                        {\"geo\":{\"bgcolor\":\"#eaeaec\",\"showframe\":false,\"lataxis\":{\"range\":[-60,90]},\"fitbounds\":\"locations\",\"visible\":false},\"height\":300,\"margin\":{\"b\":0,\"l\":0,\"r\":0,\"t\":40},\"width\":600,\"template\":{\"data\":{\"histogram2dcontour\":[{\"type\":\"histogram2dcontour\",\"colorbar\":{\"outlinewidth\":0,\"ticks\":\"\"},\"colorscale\":[[0.0,\"#0d0887\"],[0.1111111111111111,\"#46039f\"],[0.2222222222222222,\"#7201a8\"],[0.3333333333333333,\"#9c179e\"],[0.4444444444444444,\"#bd3786\"],[0.5555555555555556,\"#d8576b\"],[0.6666666666666666,\"#ed7953\"],[0.7777777777777778,\"#fb9f3a\"],[0.8888888888888888,\"#fdca26\"],[1.0,\"#f0f921\"]]}],\"choropleth\":[{\"type\":\"choropleth\",\"colorbar\":{\"outlinewidth\":0,\"ticks\":\"\"}}],\"histogram2d\":[{\"type\":\"histogram2d\",\"colorbar\":{\"outlinewidth\":0,\"ticks\":\"\"},\"colorscale\":[[0.0,\"#0d0887\"],[0.1111111111111111,\"#46039f\"],[0.2222222222222222,\"#7201a8\"],[0.3333333333333333,\"#9c179e\"],[0.4444444444444444,\"#bd3786\"],[0.5555555555555556,\"#d8576b\"],[0.6666666666666666,\"#ed7953\"],[0.7777777777777778,\"#fb9f3a\"],[0.8888888888888888,\"#fdca26\"],[1.0,\"#f0f921\"]]}],\"heatmap\":[{\"type\":\"heatmap\",\"colorbar\":{\"outlinewidth\":0,\"ticks\":\"\"},\"colorscale\":[[0.0,\"#0d0887\"],[0.1111111111111111,\"#46039f\"],[0.2222222222222222,\"#7201a8\"],[0.3333333333333333,\"#9c179e\"],[0.4444444444444444,\"#bd3786\"],[0.5555555555555556,\"#d8576b\"],[0.6666666666666666,\"#ed7953\"],[0.7777777777777778,\"#fb9f3a\"],[0.8888888888888888,\"#fdca26\"],[1.0,\"#f0f921\"]]}],\"heatmapgl\":[{\"type\":\"heatmapgl\",\"colorbar\":{\"outlinewidth\":0,\"ticks\":\"\"},\"colorscale\":[[0.0,\"#0d0887\"],[0.1111111111111111,\"#46039f\"],[0.2222222222222222,\"#7201a8\"],[0.3333333333333333,\"#9c179e\"],[0.4444444444444444,\"#bd3786\"],[0.5555555555555556,\"#d8576b\"],[0.6666666666666666,\"#ed7953\"],[0.7777777777777778,\"#fb9f3a\"],[0.8888888888888888,\"#fdca26\"],[1.0,\"#f0f921\"]]}],\"contourcarpet\":[{\"type\":\"contourcarpet\",\"colorbar\":{\"outlinewidth\":0,\"ticks\":\"\"}}],\"contour\":[{\"type\":\"contour\",\"colorbar\":{\"outlinewidth\":0,\"ticks\":\"\"},\"colorscale\":[[0.0,\"#0d0887\"],[0.1111111111111111,\"#46039f\"],[0.2222222222222222,\"#7201a8\"],[0.3333333333333333,\"#9c179e\"],[0.4444444444444444,\"#bd3786\"],[0.5555555555555556,\"#d8576b\"],[0.6666666666666666,\"#ed7953\"],[0.7777777777777778,\"#fb9f3a\"],[0.8888888888888888,\"#fdca26\"],[1.0,\"#f0f921\"]]}],\"surface\":[{\"type\":\"surface\",\"colorbar\":{\"outlinewidth\":0,\"ticks\":\"\"},\"colorscale\":[[0.0,\"#0d0887\"],[0.1111111111111111,\"#46039f\"],[0.2222222222222222,\"#7201a8\"],[0.3333333333333333,\"#9c179e\"],[0.4444444444444444,\"#bd3786\"],[0.5555555555555556,\"#d8576b\"],[0.6666666666666666,\"#ed7953\"],[0.7777777777777778,\"#fb9f3a\"],[0.8888888888888888,\"#fdca26\"],[1.0,\"#f0f921\"]]}],\"mesh3d\":[{\"type\":\"mesh3d\",\"colorbar\":{\"outlinewidth\":0,\"ticks\":\"\"}}],\"scatter\":[{\"fillpattern\":{\"fillmode\":\"overlay\",\"size\":10,\"solidity\":0.2},\"type\":\"scatter\"}],\"parcoords\":[{\"type\":\"parcoords\",\"line\":{\"colorbar\":{\"outlinewidth\":0,\"ticks\":\"\"}}}],\"scatterpolargl\":[{\"type\":\"scatterpolargl\",\"marker\":{\"colorbar\":{\"outlinewidth\":0,\"ticks\":\"\"}}}],\"bar\":[{\"error_x\":{\"color\":\"#2a3f5f\"},\"error_y\":{\"color\":\"#2a3f5f\"},\"marker\":{\"line\":{\"color\":\"#E5ECF6\",\"width\":0.5},\"pattern\":{\"fillmode\":\"overlay\",\"size\":10,\"solidity\":0.2}},\"type\":\"bar\"}],\"scattergeo\":[{\"type\":\"scattergeo\",\"marker\":{\"colorbar\":{\"outlinewidth\":0,\"ticks\":\"\"}}}],\"scatterpolar\":[{\"type\":\"scatterpolar\",\"marker\":{\"colorbar\":{\"outlinewidth\":0,\"ticks\":\"\"}}}],\"histogram\":[{\"marker\":{\"pattern\":{\"fillmode\":\"overlay\",\"size\":10,\"solidity\":0.2}},\"type\":\"histogram\"}],\"scattergl\":[{\"type\":\"scattergl\",\"marker\":{\"colorbar\":{\"outlinewidth\":0,\"ticks\":\"\"}}}],\"scatter3d\":[{\"type\":\"scatter3d\",\"line\":{\"colorbar\":{\"outlinewidth\":0,\"ticks\":\"\"}},\"marker\":{\"colorbar\":{\"outlinewidth\":0,\"ticks\":\"\"}}}],\"scattermapbox\":[{\"type\":\"scattermapbox\",\"marker\":{\"colorbar\":{\"outlinewidth\":0,\"ticks\":\"\"}}}],\"scatterternary\":[{\"type\":\"scatterternary\",\"marker\":{\"colorbar\":{\"outlinewidth\":0,\"ticks\":\"\"}}}],\"scattercarpet\":[{\"type\":\"scattercarpet\",\"marker\":{\"colorbar\":{\"outlinewidth\":0,\"ticks\":\"\"}}}],\"carpet\":[{\"aaxis\":{\"endlinecolor\":\"#2a3f5f\",\"gridcolor\":\"white\",\"linecolor\":\"white\",\"minorgridcolor\":\"white\",\"startlinecolor\":\"#2a3f5f\"},\"baxis\":{\"endlinecolor\":\"#2a3f5f\",\"gridcolor\":\"white\",\"linecolor\":\"white\",\"minorgridcolor\":\"white\",\"startlinecolor\":\"#2a3f5f\"},\"type\":\"carpet\"}],\"table\":[{\"cells\":{\"fill\":{\"color\":\"#EBF0F8\"},\"line\":{\"color\":\"white\"}},\"header\":{\"fill\":{\"color\":\"#C8D4E3\"},\"line\":{\"color\":\"white\"}},\"type\":\"table\"}],\"barpolar\":[{\"marker\":{\"line\":{\"color\":\"#E5ECF6\",\"width\":0.5},\"pattern\":{\"fillmode\":\"overlay\",\"size\":10,\"solidity\":0.2}},\"type\":\"barpolar\"}],\"pie\":[{\"automargin\":true,\"type\":\"pie\"}]},\"layout\":{\"autotypenumbers\":\"strict\",\"colorway\":[\"#636efa\",\"#EF553B\",\"#00cc96\",\"#ab63fa\",\"#FFA15A\",\"#19d3f3\",\"#FF6692\",\"#B6E880\",\"#FF97FF\",\"#FECB52\"],\"font\":{\"color\":\"#2a3f5f\"},\"hovermode\":\"closest\",\"hoverlabel\":{\"align\":\"left\"},\"paper_bgcolor\":\"white\",\"plot_bgcolor\":\"#E5ECF6\",\"polar\":{\"bgcolor\":\"#E5ECF6\",\"angularaxis\":{\"gridcolor\":\"white\",\"linecolor\":\"white\",\"ticks\":\"\"},\"radialaxis\":{\"gridcolor\":\"white\",\"linecolor\":\"white\",\"ticks\":\"\"}},\"ternary\":{\"bgcolor\":\"#E5ECF6\",\"aaxis\":{\"gridcolor\":\"white\",\"linecolor\":\"white\",\"ticks\":\"\"},\"baxis\":{\"gridcolor\":\"white\",\"linecolor\":\"white\",\"ticks\":\"\"},\"caxis\":{\"gridcolor\":\"white\",\"linecolor\":\"white\",\"ticks\":\"\"}},\"coloraxis\":{\"colorbar\":{\"outlinewidth\":0,\"ticks\":\"\"}},\"colorscale\":{\"sequential\":[[0.0,\"#0d0887\"],[0.1111111111111111,\"#46039f\"],[0.2222222222222222,\"#7201a8\"],[0.3333333333333333,\"#9c179e\"],[0.4444444444444444,\"#bd3786\"],[0.5555555555555556,\"#d8576b\"],[0.6666666666666666,\"#ed7953\"],[0.7777777777777778,\"#fb9f3a\"],[0.8888888888888888,\"#fdca26\"],[1.0,\"#f0f921\"]],\"sequentialminus\":[[0.0,\"#0d0887\"],[0.1111111111111111,\"#46039f\"],[0.2222222222222222,\"#7201a8\"],[0.3333333333333333,\"#9c179e\"],[0.4444444444444444,\"#bd3786\"],[0.5555555555555556,\"#d8576b\"],[0.6666666666666666,\"#ed7953\"],[0.7777777777777778,\"#fb9f3a\"],[0.8888888888888888,\"#fdca26\"],[1.0,\"#f0f921\"]],\"diverging\":[[0,\"#8e0152\"],[0.1,\"#c51b7d\"],[0.2,\"#de77ae\"],[0.3,\"#f1b6da\"],[0.4,\"#fde0ef\"],[0.5,\"#f7f7f7\"],[0.6,\"#e6f5d0\"],[0.7,\"#b8e186\"],[0.8,\"#7fbc41\"],[0.9,\"#4d9221\"],[1,\"#276419\"]]},\"xaxis\":{\"gridcolor\":\"white\",\"linecolor\":\"white\",\"ticks\":\"\",\"title\":{\"standoff\":15},\"zerolinecolor\":\"white\",\"automargin\":true,\"zerolinewidth\":2},\"yaxis\":{\"gridcolor\":\"white\",\"linecolor\":\"white\",\"ticks\":\"\",\"title\":{\"standoff\":15},\"zerolinecolor\":\"white\",\"automargin\":true,\"zerolinewidth\":2},\"scene\":{\"xaxis\":{\"backgroundcolor\":\"#E5ECF6\",\"gridcolor\":\"white\",\"linecolor\":\"white\",\"showbackground\":true,\"ticks\":\"\",\"zerolinecolor\":\"white\",\"gridwidth\":2},\"yaxis\":{\"backgroundcolor\":\"#E5ECF6\",\"gridcolor\":\"white\",\"linecolor\":\"white\",\"showbackground\":true,\"ticks\":\"\",\"zerolinecolor\":\"white\",\"gridwidth\":2},\"zaxis\":{\"backgroundcolor\":\"#E5ECF6\",\"gridcolor\":\"white\",\"linecolor\":\"white\",\"showbackground\":true,\"ticks\":\"\",\"zerolinecolor\":\"white\",\"gridwidth\":2}},\"shapedefaults\":{\"line\":{\"color\":\"#2a3f5f\"}},\"annotationdefaults\":{\"arrowcolor\":\"#2a3f5f\",\"arrowhead\":0,\"arrowwidth\":1},\"geo\":{\"bgcolor\":\"white\",\"landcolor\":\"#E5ECF6\",\"subunitcolor\":\"white\",\"showland\":true,\"showlakes\":true,\"lakecolor\":\"white\"},\"title\":{\"x\":0.05},\"mapbox\":{\"style\":\"light\"}}},\"title\":{\"text\":\"CSAM Reports per Capita 2021\"}},                        {\"responsive\": true}                    ).then(function(){\n",
       "                            \n",
       "var gd = document.getElementById('59737b20-19fe-4054-b090-32139e1cdfea');\n",
       "var x = new MutationObserver(function (mutations, observer) {{\n",
       "        var display = window.getComputedStyle(gd).display;\n",
       "        if (!display || display === 'none') {{\n",
       "            console.log([gd, 'removed!']);\n",
       "            Plotly.purge(gd);\n",
       "            observer.disconnect();\n",
       "        }}\n",
       "}});\n",
       "\n",
       "// Listen for the removal of the full notebook cells\n",
       "var notebookContainer = gd.closest('#notebook-container');\n",
       "if (notebookContainer) {{\n",
       "    x.observe(notebookContainer, {childList: true});\n",
       "}}\n",
       "\n",
       "// Listen for the clearing of the current output cell\n",
       "var outputEl = gd.closest('.output');\n",
       "if (outputEl) {{\n",
       "    x.observe(outputEl, {childList: true});\n",
       "}}\n",
       "\n",
       "                        })                };                });            </script>        </div>"
      ]
     },
     "metadata": {},
     "output_type": "display_data"
    },
    {
     "data": {
      "application/vnd.plotly.v1+json": {
       "config": {
        "plotlyServerURL": "https://plot.ly"
       },
       "data": [
        {
         "colorbar": {
          "thickness": 20,
          "tickformat": ".3f",
          "title": {
           "font": {
            "size": 13
           },
           "text": "Reports<br>per Capita"
          }
         },
         "colorscale": [
          [
           0,
           "#f0f921"
          ],
          [
           0.1111111111111111,
           "#fdca26"
          ],
          [
           0.2222222222222222,
           "#fb9f3a"
          ],
          [
           0.3333333333333333,
           "#ed7953"
          ],
          [
           0.4444444444444444,
           "#d8576b"
          ],
          [
           0.5555555555555556,
           "#bd3786"
          ],
          [
           0.6666666666666666,
           "#9c179e"
          ],
          [
           0.7777777777777778,
           "#7201a8"
          ],
          [
           0.8888888888888888,
           "#46039f"
          ],
          [
           1,
           "#0d0887"
          ]
         ],
         "locationmode": "ISO-3",
         "locations": [
          "ABW",
          "AFG",
          "AGO",
          "AIA",
          "ALB",
          "AND",
          "ARE",
          "ARG",
          "ARM",
          "ASM",
          "ATG",
          "AUS",
          "AUT",
          "AZE",
          "BDI",
          "BEL",
          "BEN",
          "BES",
          "BFA",
          "BGD",
          "BGR",
          "BHR",
          "BHS",
          "BIH",
          "BLM",
          "BLR",
          "BLZ",
          "BMU",
          "BOL",
          "BRA",
          "BRB",
          "BRN",
          "BTN",
          "BWA",
          "CAF",
          "CAN",
          "CHE",
          "CHL",
          "CHN",
          "CIV",
          "CMR",
          "COD",
          "COG",
          "COK",
          "COL",
          "COM",
          "CPV",
          "CRI",
          "CUB",
          "CUW",
          "CYM",
          "CYP",
          "CZE",
          "DEU",
          "DJI",
          "DMA",
          "DNK",
          "DOM",
          "DZA",
          "ECU",
          "EGY",
          "ERI",
          "ESH",
          "ESP",
          "EST",
          "ETH",
          "FIN",
          "FJI",
          "FLK",
          "FRA",
          "FRO",
          "FSM",
          "GAB",
          "GBR",
          "GEO",
          "GGY",
          "GHA",
          "GIB",
          "GIN",
          "GLP",
          "GMB",
          "GNB",
          "GNQ",
          "GRC",
          "GRD",
          "GRL",
          "GTM",
          "GUF",
          "GUM",
          "GUY",
          "HKG",
          "HND",
          "HRV",
          "HTI",
          "HUN",
          "IDN",
          "IMN",
          "IND",
          "IRL",
          "IRN",
          "IRQ",
          "ISL",
          "ISR",
          "ITA",
          "JAM",
          "JEY",
          "JOR",
          "JPN",
          "KAZ",
          "KEN",
          "KGZ",
          "KHM",
          "KIR",
          "KNA",
          "KOR",
          "KWT",
          "LAO",
          "LBN",
          "LBR",
          "LBY",
          "LCA",
          "LIE",
          "LKA",
          "LSO",
          "LTU",
          "LUX",
          "LVA",
          "MAC",
          "MAF",
          "MAR",
          "MCO",
          "MDA",
          "MDG",
          "MDV",
          "MEX",
          "MHL",
          "MKD",
          "MLI",
          "MLT",
          "MMR",
          "MNE",
          "MNG",
          "MNP",
          "MOZ",
          "MRT",
          "MSR",
          "MTQ",
          "MUS",
          "MWI",
          "MYS",
          "MYT",
          "NAM",
          "NCL",
          "NER",
          "NGA",
          "NIC",
          "NIU",
          "NLD",
          "NOR",
          "NPL",
          "NRU",
          "NZL",
          "OMN",
          "PAK",
          "PAN",
          "PER",
          "PHL",
          "PLW",
          "PNG",
          "POL",
          "PRI",
          "PRK",
          "PRT",
          "PRY",
          "PSE",
          "PYF",
          "QAT",
          "REU",
          "ROU",
          "RUS",
          "RWA",
          "SAU",
          "SDN",
          "SEN",
          "SGP",
          "SHN",
          "SLB",
          "SLE",
          "SLV",
          "SMR",
          "SOM",
          "SPM",
          "SRB",
          "SSD",
          "STP",
          "SUR",
          "SVK",
          "SVN",
          "SWE",
          "SWZ",
          "SXM",
          "SYC",
          "SYR",
          "TCA",
          "TCD",
          "TGO",
          "THA",
          "TJK",
          "TKL",
          "TKM",
          "TLS",
          "TON",
          "TTO",
          "TUN",
          "TUR",
          "TUV",
          "TWN",
          "TZA",
          "UGA",
          "UKR",
          "URY",
          "USA",
          "UZB",
          "VCT",
          "VEN",
          "VGB",
          "VIR",
          "VNM",
          "VUT",
          "WLF",
          "WSM",
          "XKX",
          "YEM",
          "ZAF",
          "ZMB",
          "ZWE"
         ],
         "marker": {
          "line": {
           "width": 0.4
          }
         },
         "showscale": true,
         "text": [
          "Aruba",
          "Afghanistan",
          "Angola",
          "Anguilla",
          "Albania",
          "Andorra",
          "United Arab Emirates",
          "Argentina",
          "Armenia",
          "American Samoa",
          "Antigua and Barbuda",
          "Australia",
          "Austria",
          "Azerbaijan",
          "Burundi",
          "Belgium",
          "Benin",
          "Bonaire, Sint Eustatius, and Saba",
          "Burkina Faso",
          "Bangladesh",
          "Bulgaria",
          "Bahrain",
          "Bahamas",
          "Bosnia and Herzegovina",
          "Saint Barthélemy",
          "Belarus",
          "Belize",
          "Bermuda",
          "Bolivia",
          "Brazil",
          "Barbados",
          "Brunei Darussalam",
          "Bhutan",
          "Botswana",
          "Central African Republic",
          "Canada",
          "Switzerland",
          "Chile",
          "China",
          "Côte d'Ivoire",
          "Cameroon",
          "Democratic Republic of the Congo",
          "Congo",
          "Cook Islands",
          "Colombia",
          "Comoros",
          "Cabo Verde",
          "Costa Rica",
          "Cuba",
          "Curaçao",
          "Cayman Islands",
          "Cyprus",
          "Czechia",
          "Germany",
          "Djibouti",
          "Dominica",
          "Denmark",
          "Dominican Republic",
          "Algeria",
          "Ecuador",
          "Egypt",
          "Eritrea",
          "Western Sahara",
          "Spain",
          "Estonia",
          "Ethiopia",
          "Finland",
          "Fiji",
          "Falkland Islands",
          "France",
          "Faroe Islands",
          "Micronesia",
          "Gabon",
          "United Kingdom of Great Britain and Northern Ireland",
          "Georgia",
          "Guernsey",
          "Ghana",
          "Gibraltar",
          "Guinea",
          "Guadeloupe",
          "Gambia",
          "Guinea-Bissau",
          "Equatorial Guinea",
          "Greece",
          "Grenada",
          "Greenland",
          "Guatemala",
          "French Guiana",
          "Guam",
          "Guyana",
          "Hong Kong",
          "Honduras",
          "Croatia",
          "Haiti",
          "Hungary",
          "Indonesia",
          "Isle of Man",
          "India",
          "Ireland",
          "Iran",
          "Iraq",
          "Iceland",
          "Israel",
          "Italy",
          "Jamaica",
          "Jersey",
          "Jordan",
          "Japan",
          "Kazakhstan",
          "Kenya",
          "Kyrgyzstan",
          "Cambodia",
          "Kiribati",
          "Saint Kitts and Nevis",
          "South Korea",
          "Kuwait",
          "Lao People's Democratic Republic",
          "Lebanon",
          "Liberia",
          "Libya",
          "Saint Lucia",
          "Liechtenstein",
          "Sri Lanka",
          "Lesotho",
          "Lithuania",
          "Luxembourg",
          "Latvia",
          "Macao",
          "Saint Martin (French part)",
          "Morocco",
          "Monaco",
          "Moldova",
          "Madagascar",
          "Maldives",
          "Mexico",
          "Marshall Islands",
          "North Macedonia",
          "Mali",
          "Malta",
          "Myanmar",
          "Montenegro",
          "Mongolia",
          "Northern Mariana Islands",
          "Mozambique",
          "Mauritania",
          "Montserrat",
          "Martinique",
          "Mauritius",
          "Malawi",
          "Malaysia",
          "Mayotte",
          "Namibia",
          "New Caledonia",
          "Niger",
          "Nigeria",
          "Nicaragua",
          "Niue",
          "Netherlands",
          "Norway",
          "Nepal",
          "Nauru",
          "New Zealand",
          "Oman",
          "Pakistan",
          "Panama",
          "Peru",
          "Philippines",
          "Palau",
          "Papua New Guinea",
          "Poland",
          "Puerto Rico",
          "North Korea",
          "Portugal",
          "Paraguay",
          "Palestine",
          "French Polynesia",
          "Qatar",
          "Réunion",
          "Romania",
          "Russian Federation",
          "Rwanda",
          "Saudi Arabia",
          "Sudan",
          "Senegal",
          "Singapore",
          "Saint Helena, Ascension and Tristan da Cunha",
          "Solomon Islands",
          "Sierra Leone",
          "El Salvador",
          "San Marino",
          "Somalia",
          "Saint Pierre and Miquelon",
          "Serbia",
          "South Sudan",
          "Sao Tome and Principe",
          "Suriname",
          "Slovakia",
          "Slovenia",
          "Sweden",
          "Eswatini",
          "Sint Maarten (Dutch part)",
          "Seychelles",
          "Syrian Arab Republic",
          "Turks and Caicos Islands",
          "Chad",
          "Togo",
          "Thailand",
          "Tajikistan",
          "Tokelau",
          "Turkmenistan",
          "Timor-Leste",
          "Tonga",
          "Trinidad and Tobago",
          "Tunisia",
          "Türkiye",
          "Tuvalu",
          "Taiwan",
          "Tanzania",
          "Uganda",
          "Ukraine",
          "Uruguay",
          "United States of America",
          "Uzbekistan",
          "Saint Vincent and the Grenadines",
          "Venezuela",
          "British Virgin Islands",
          "U.S. Virgin Islands",
          "Viet Nam",
          "Vanuatu",
          "Wallis and Futuna",
          "Samoa",
          "Kosovo",
          "Yemen",
          "South Africa",
          "Zambia",
          "Zimbabwe"
         ],
         "type": "choropleth",
         "z": [
          0.006820423692986989,
          0.005468629247394725,
          0.0006362642465771785,
          0.004918963233903008,
          0.004002362857678636,
          0.00253056724794548,
          0.028101194253356776,
          0.002989212248527905,
          0.0014281763256486586,
          0.005036929957310325,
          0.0037434809039813147,
          0.006954468458954731,
          0.0020695517492527924,
          0.000972864260286227,
          0.00017642161569770675,
          0.0043115392765742415,
          0.0004645445351648905,
          0.003293003293003293,
          0.00013456081968223887,
          0.012530775449048156,
          0.0047091155010953335,
          0.017589607079857603,
          0.0036903879175772714,
          0.0037466828017826974,
          0.0012765569435579465,
          0.0006919801928797776,
          0.01505898493114518,
          0.004284556898915617,
          0.0037874331955455244,
          0.002838790905714606,
          0.008827027890709606,
          0.006654758776130173,
          0.008705931970528656,
          0.0017085529537360054,
          0.000044451263491316946,
          0.00463666936623283,
          0.0015935066206950838,
          0.0032852926531900836,
          0.000005153282317142845,
          0.0009629075689343064,
          0.00035576445348171095,
          0.00012172481763800284,
          0.0003855672561948699,
          0.005349479748398095,
          0.01249000848671389,
          0.005012106016678338,
          0.006042316446092894,
          0.004735342548460874,
          0.001102549894128632,
          0.0027620263229478355,
          0.004890402584927081,
          0.0058817936074548,
          0.005907574109590007,
          0.0016575897833944584,
          0.0015916506148464244,
          0.0054167010365971015,
          0.005136629412290714,
          0.011633901724856064,
          0.01628317342462596,
          0.009350258318982278,
          0.0038836255517304998,
          0.0000618887132359328,
          0.000020833839711381875,
          0.0016343406023260133,
          0.0048323532383855354,
          0.00009033884564283858,
          0.001967966046449341,
          0.0065027114349201845,
          0.006613756613756613,
          0.003519679225721014,
          0.007760406856281786,
          0.002548964647349427,
          0.0010213508369425947,
          0.0046941933731558146,
          0.0034627840185280042,
          0.0038703358503680767,
          0.0006544714147832454,
          0.0036754571349811634,
          0.0003289478193804453,
          0.0015059898472026744,
          0.00016149345600430451,
          0.00010543483319924429,
          0.00015881469310553178,
          0.004173820032814728,
          0.006704507406049204,
          0.006712003683632628,
          0.004897469769514615,
          0.0020094760586688207,
          0.0036559452772522193,
          0.005125345296181896,
          0.005018250429137125,
          0.006776377714260519,
          0.0029012311065170888,
          0.0004513596724591014,
          0.010979293506330897,
          0.006816703711193215,
          0.006105063890203502,
          0.00400467925030359,
          0.003935809475764909,
          0.0029787385897120707,
          0.020358695528567637,
          0.007345152440741327,
          0.0024617436735123793,
          0.0016347582892858865,
          0.002105485048509626,
          0.006228617337220953,
          0.006499721022811801,
          0.0007463391463829312,
          0.0008792144426450606,
          0.0004024803152513831,
          0.0010546520289269952,
          0.013594772660667961,
          0.0019050231650816873,
          0.006126988123714801,
          0.0013394946445882058,
          0.013693543940051624,
          0.0035204313713771544,
          0.004528994087151668,
          0.0012022220457915535,
          0.02397648620349451,
          0.0046369914043300825,
          0.0012205355099549928,
          0.006688532591601292,
          0.0011744164564021743,
          0.00603733379877857,
          0.0030945075579177856,
          0.0019928122590374955,
          0.0014456916231880305,
          0.001572772168223711,
          0.006892311385472534,
          0.010721434643121554,
          0.002557901079011401,
          0.0019092781998367267,
          0.014916368676580366,
          0.006398161577924152,
          0.0031754432389521038,
          0.004475069007961888,
          0.00012968279367365728,
          0.008837659342266626,
          0.004678188384325189,
          0.004111098530816495,
          0.0075671661027682125,
          0.0031886339327157876,
          0.0003734358393278349,
          0.001394807035857689,
          0.005466970387243736,
          0.0019482622099715107,
          0.004425653863231828,
          0.0000946812049036043,
          0.0058240823576438385,
          0.005590292578066304,
          0.0005134372128228412,
          0.004148976896096237,
          0.000041018045765226365,
          0.0005639943096865409,
          0.011454592659711773,
          0.000517063081695967,
          0.0032459550533266482,
          0.008653522180056047,
          0.005989934390874825,
          0.008288601199873697,
          0.006319030626836807,
          0.012096021718865336,
          0.008734804183899813,
          0.003176305482421668,
          0.006473617053057527,
          0.022293216446672714,
          0.006258654112434228,
          0.0012401136235128225,
          0.005903834659912679,
          0.0020895293854674398,
          3.8359124026440636e-8,
          0.0041548594008391695,
          0.002821519290508534,
          0.005419354248856016,
          0.002533637631048815,
          0.022695447553023575,
          0.004648622455474656,
          0.0048977919675235095,
          0.0006172617952761416,
          0.0001318893685555131,
          0.016554917187648486,
          0.0007242576321936048,
          0.0002248151454146286,
          0.01251604626679869,
          0.00018608113137327876,
          0.0021676909121284378,
          0.00019475423201178565,
          0.007357341528112528,
          0.0010694869433469,
          0.0012677929282158141,
          0.01023541453428864,
          0.003818529624450554,
          0.00026023616982206077,
          0.001979065880904213,
          0.0050093764005947825,
          0.0070432056402347995,
          0.0069792871550925445,
          0.004633746524784899,
          0.0006940335582701089,
          0.0039388794567062815,
          0.004499668592873347,
          0.0028250077547149863,
          0.004944970789663698,
          0.00007092352643960794,
          0.00032965298062460934,
          0.007335478192053423,
          0.0008927147742637313,
          0.002137894174238375,
          0.000027679418222169628,
          0.0029411852417363504,
          0.006709839225888563,
          0.006078201489832108,
          0.007424581686949063,
          0.003237953851643662,
          0.00442008486562942,
          0.0030511360984908174,
          0.00012801966870677753,
          0.00011661478084939794,
          0.0013180279080470506,
          0.0024059291911812395,
          0.009534817356347754,
          0.0006012535703762539,
          0.0067629968830569135,
          0.010642118408734233,
          0.005749880210828941,
          0.002825114361835822,
          0.009751121881323911,
          0.005695642726195978,
          0.0006912641493130563,
          0.0038087615004811543,
          0.0030354627363509616,
          0.006280334279283966,
          0.0013757330756598428,
          0.0003939018892054147,
          0.00011654028295760122
         ]
        }
       ],
       "layout": {
        "geo": {
         "bgcolor": "#eaeaec",
         "fitbounds": "locations",
         "lataxis": {
          "range": [
           -60,
           90
          ]
         },
         "showframe": false,
         "visible": false
        },
        "height": 300,
        "margin": {
         "b": 0,
         "l": 0,
         "r": 0,
         "t": 40
        },
        "template": {
         "data": {
          "bar": [
           {
            "error_x": {
             "color": "#2a3f5f"
            },
            "error_y": {
             "color": "#2a3f5f"
            },
            "marker": {
             "line": {
              "color": "#E5ECF6",
              "width": 0.5
             },
             "pattern": {
              "fillmode": "overlay",
              "size": 10,
              "solidity": 0.2
             }
            },
            "type": "bar"
           }
          ],
          "barpolar": [
           {
            "marker": {
             "line": {
              "color": "#E5ECF6",
              "width": 0.5
             },
             "pattern": {
              "fillmode": "overlay",
              "size": 10,
              "solidity": 0.2
             }
            },
            "type": "barpolar"
           }
          ],
          "carpet": [
           {
            "aaxis": {
             "endlinecolor": "#2a3f5f",
             "gridcolor": "white",
             "linecolor": "white",
             "minorgridcolor": "white",
             "startlinecolor": "#2a3f5f"
            },
            "baxis": {
             "endlinecolor": "#2a3f5f",
             "gridcolor": "white",
             "linecolor": "white",
             "minorgridcolor": "white",
             "startlinecolor": "#2a3f5f"
            },
            "type": "carpet"
           }
          ],
          "choropleth": [
           {
            "colorbar": {
             "outlinewidth": 0,
             "ticks": ""
            },
            "type": "choropleth"
           }
          ],
          "contour": [
           {
            "colorbar": {
             "outlinewidth": 0,
             "ticks": ""
            },
            "colorscale": [
             [
              0,
              "#0d0887"
             ],
             [
              0.1111111111111111,
              "#46039f"
             ],
             [
              0.2222222222222222,
              "#7201a8"
             ],
             [
              0.3333333333333333,
              "#9c179e"
             ],
             [
              0.4444444444444444,
              "#bd3786"
             ],
             [
              0.5555555555555556,
              "#d8576b"
             ],
             [
              0.6666666666666666,
              "#ed7953"
             ],
             [
              0.7777777777777778,
              "#fb9f3a"
             ],
             [
              0.8888888888888888,
              "#fdca26"
             ],
             [
              1,
              "#f0f921"
             ]
            ],
            "type": "contour"
           }
          ],
          "contourcarpet": [
           {
            "colorbar": {
             "outlinewidth": 0,
             "ticks": ""
            },
            "type": "contourcarpet"
           }
          ],
          "heatmap": [
           {
            "colorbar": {
             "outlinewidth": 0,
             "ticks": ""
            },
            "colorscale": [
             [
              0,
              "#0d0887"
             ],
             [
              0.1111111111111111,
              "#46039f"
             ],
             [
              0.2222222222222222,
              "#7201a8"
             ],
             [
              0.3333333333333333,
              "#9c179e"
             ],
             [
              0.4444444444444444,
              "#bd3786"
             ],
             [
              0.5555555555555556,
              "#d8576b"
             ],
             [
              0.6666666666666666,
              "#ed7953"
             ],
             [
              0.7777777777777778,
              "#fb9f3a"
             ],
             [
              0.8888888888888888,
              "#fdca26"
             ],
             [
              1,
              "#f0f921"
             ]
            ],
            "type": "heatmap"
           }
          ],
          "heatmapgl": [
           {
            "colorbar": {
             "outlinewidth": 0,
             "ticks": ""
            },
            "colorscale": [
             [
              0,
              "#0d0887"
             ],
             [
              0.1111111111111111,
              "#46039f"
             ],
             [
              0.2222222222222222,
              "#7201a8"
             ],
             [
              0.3333333333333333,
              "#9c179e"
             ],
             [
              0.4444444444444444,
              "#bd3786"
             ],
             [
              0.5555555555555556,
              "#d8576b"
             ],
             [
              0.6666666666666666,
              "#ed7953"
             ],
             [
              0.7777777777777778,
              "#fb9f3a"
             ],
             [
              0.8888888888888888,
              "#fdca26"
             ],
             [
              1,
              "#f0f921"
             ]
            ],
            "type": "heatmapgl"
           }
          ],
          "histogram": [
           {
            "marker": {
             "pattern": {
              "fillmode": "overlay",
              "size": 10,
              "solidity": 0.2
             }
            },
            "type": "histogram"
           }
          ],
          "histogram2d": [
           {
            "colorbar": {
             "outlinewidth": 0,
             "ticks": ""
            },
            "colorscale": [
             [
              0,
              "#0d0887"
             ],
             [
              0.1111111111111111,
              "#46039f"
             ],
             [
              0.2222222222222222,
              "#7201a8"
             ],
             [
              0.3333333333333333,
              "#9c179e"
             ],
             [
              0.4444444444444444,
              "#bd3786"
             ],
             [
              0.5555555555555556,
              "#d8576b"
             ],
             [
              0.6666666666666666,
              "#ed7953"
             ],
             [
              0.7777777777777778,
              "#fb9f3a"
             ],
             [
              0.8888888888888888,
              "#fdca26"
             ],
             [
              1,
              "#f0f921"
             ]
            ],
            "type": "histogram2d"
           }
          ],
          "histogram2dcontour": [
           {
            "colorbar": {
             "outlinewidth": 0,
             "ticks": ""
            },
            "colorscale": [
             [
              0,
              "#0d0887"
             ],
             [
              0.1111111111111111,
              "#46039f"
             ],
             [
              0.2222222222222222,
              "#7201a8"
             ],
             [
              0.3333333333333333,
              "#9c179e"
             ],
             [
              0.4444444444444444,
              "#bd3786"
             ],
             [
              0.5555555555555556,
              "#d8576b"
             ],
             [
              0.6666666666666666,
              "#ed7953"
             ],
             [
              0.7777777777777778,
              "#fb9f3a"
             ],
             [
              0.8888888888888888,
              "#fdca26"
             ],
             [
              1,
              "#f0f921"
             ]
            ],
            "type": "histogram2dcontour"
           }
          ],
          "mesh3d": [
           {
            "colorbar": {
             "outlinewidth": 0,
             "ticks": ""
            },
            "type": "mesh3d"
           }
          ],
          "parcoords": [
           {
            "line": {
             "colorbar": {
              "outlinewidth": 0,
              "ticks": ""
             }
            },
            "type": "parcoords"
           }
          ],
          "pie": [
           {
            "automargin": true,
            "type": "pie"
           }
          ],
          "scatter": [
           {
            "fillpattern": {
             "fillmode": "overlay",
             "size": 10,
             "solidity": 0.2
            },
            "type": "scatter"
           }
          ],
          "scatter3d": [
           {
            "line": {
             "colorbar": {
              "outlinewidth": 0,
              "ticks": ""
             }
            },
            "marker": {
             "colorbar": {
              "outlinewidth": 0,
              "ticks": ""
             }
            },
            "type": "scatter3d"
           }
          ],
          "scattercarpet": [
           {
            "marker": {
             "colorbar": {
              "outlinewidth": 0,
              "ticks": ""
             }
            },
            "type": "scattercarpet"
           }
          ],
          "scattergeo": [
           {
            "marker": {
             "colorbar": {
              "outlinewidth": 0,
              "ticks": ""
             }
            },
            "type": "scattergeo"
           }
          ],
          "scattergl": [
           {
            "marker": {
             "colorbar": {
              "outlinewidth": 0,
              "ticks": ""
             }
            },
            "type": "scattergl"
           }
          ],
          "scattermapbox": [
           {
            "marker": {
             "colorbar": {
              "outlinewidth": 0,
              "ticks": ""
             }
            },
            "type": "scattermapbox"
           }
          ],
          "scatterpolar": [
           {
            "marker": {
             "colorbar": {
              "outlinewidth": 0,
              "ticks": ""
             }
            },
            "type": "scatterpolar"
           }
          ],
          "scatterpolargl": [
           {
            "marker": {
             "colorbar": {
              "outlinewidth": 0,
              "ticks": ""
             }
            },
            "type": "scatterpolargl"
           }
          ],
          "scatterternary": [
           {
            "marker": {
             "colorbar": {
              "outlinewidth": 0,
              "ticks": ""
             }
            },
            "type": "scatterternary"
           }
          ],
          "surface": [
           {
            "colorbar": {
             "outlinewidth": 0,
             "ticks": ""
            },
            "colorscale": [
             [
              0,
              "#0d0887"
             ],
             [
              0.1111111111111111,
              "#46039f"
             ],
             [
              0.2222222222222222,
              "#7201a8"
             ],
             [
              0.3333333333333333,
              "#9c179e"
             ],
             [
              0.4444444444444444,
              "#bd3786"
             ],
             [
              0.5555555555555556,
              "#d8576b"
             ],
             [
              0.6666666666666666,
              "#ed7953"
             ],
             [
              0.7777777777777778,
              "#fb9f3a"
             ],
             [
              0.8888888888888888,
              "#fdca26"
             ],
             [
              1,
              "#f0f921"
             ]
            ],
            "type": "surface"
           }
          ],
          "table": [
           {
            "cells": {
             "fill": {
              "color": "#EBF0F8"
             },
             "line": {
              "color": "white"
             }
            },
            "header": {
             "fill": {
              "color": "#C8D4E3"
             },
             "line": {
              "color": "white"
             }
            },
            "type": "table"
           }
          ]
         },
         "layout": {
          "annotationdefaults": {
           "arrowcolor": "#2a3f5f",
           "arrowhead": 0,
           "arrowwidth": 1
          },
          "autotypenumbers": "strict",
          "coloraxis": {
           "colorbar": {
            "outlinewidth": 0,
            "ticks": ""
           }
          },
          "colorscale": {
           "diverging": [
            [
             0,
             "#8e0152"
            ],
            [
             0.1,
             "#c51b7d"
            ],
            [
             0.2,
             "#de77ae"
            ],
            [
             0.3,
             "#f1b6da"
            ],
            [
             0.4,
             "#fde0ef"
            ],
            [
             0.5,
             "#f7f7f7"
            ],
            [
             0.6,
             "#e6f5d0"
            ],
            [
             0.7,
             "#b8e186"
            ],
            [
             0.8,
             "#7fbc41"
            ],
            [
             0.9,
             "#4d9221"
            ],
            [
             1,
             "#276419"
            ]
           ],
           "sequential": [
            [
             0,
             "#0d0887"
            ],
            [
             0.1111111111111111,
             "#46039f"
            ],
            [
             0.2222222222222222,
             "#7201a8"
            ],
            [
             0.3333333333333333,
             "#9c179e"
            ],
            [
             0.4444444444444444,
             "#bd3786"
            ],
            [
             0.5555555555555556,
             "#d8576b"
            ],
            [
             0.6666666666666666,
             "#ed7953"
            ],
            [
             0.7777777777777778,
             "#fb9f3a"
            ],
            [
             0.8888888888888888,
             "#fdca26"
            ],
            [
             1,
             "#f0f921"
            ]
           ],
           "sequentialminus": [
            [
             0,
             "#0d0887"
            ],
            [
             0.1111111111111111,
             "#46039f"
            ],
            [
             0.2222222222222222,
             "#7201a8"
            ],
            [
             0.3333333333333333,
             "#9c179e"
            ],
            [
             0.4444444444444444,
             "#bd3786"
            ],
            [
             0.5555555555555556,
             "#d8576b"
            ],
            [
             0.6666666666666666,
             "#ed7953"
            ],
            [
             0.7777777777777778,
             "#fb9f3a"
            ],
            [
             0.8888888888888888,
             "#fdca26"
            ],
            [
             1,
             "#f0f921"
            ]
           ]
          },
          "colorway": [
           "#636efa",
           "#EF553B",
           "#00cc96",
           "#ab63fa",
           "#FFA15A",
           "#19d3f3",
           "#FF6692",
           "#B6E880",
           "#FF97FF",
           "#FECB52"
          ],
          "font": {
           "color": "#2a3f5f"
          },
          "geo": {
           "bgcolor": "white",
           "lakecolor": "white",
           "landcolor": "#E5ECF6",
           "showlakes": true,
           "showland": true,
           "subunitcolor": "white"
          },
          "hoverlabel": {
           "align": "left"
          },
          "hovermode": "closest",
          "mapbox": {
           "style": "light"
          },
          "paper_bgcolor": "white",
          "plot_bgcolor": "#E5ECF6",
          "polar": {
           "angularaxis": {
            "gridcolor": "white",
            "linecolor": "white",
            "ticks": ""
           },
           "bgcolor": "#E5ECF6",
           "radialaxis": {
            "gridcolor": "white",
            "linecolor": "white",
            "ticks": ""
           }
          },
          "scene": {
           "xaxis": {
            "backgroundcolor": "#E5ECF6",
            "gridcolor": "white",
            "gridwidth": 2,
            "linecolor": "white",
            "showbackground": true,
            "ticks": "",
            "zerolinecolor": "white"
           },
           "yaxis": {
            "backgroundcolor": "#E5ECF6",
            "gridcolor": "white",
            "gridwidth": 2,
            "linecolor": "white",
            "showbackground": true,
            "ticks": "",
            "zerolinecolor": "white"
           },
           "zaxis": {
            "backgroundcolor": "#E5ECF6",
            "gridcolor": "white",
            "gridwidth": 2,
            "linecolor": "white",
            "showbackground": true,
            "ticks": "",
            "zerolinecolor": "white"
           }
          },
          "shapedefaults": {
           "line": {
            "color": "#2a3f5f"
           }
          },
          "ternary": {
           "aaxis": {
            "gridcolor": "white",
            "linecolor": "white",
            "ticks": ""
           },
           "baxis": {
            "gridcolor": "white",
            "linecolor": "white",
            "ticks": ""
           },
           "bgcolor": "#E5ECF6",
           "caxis": {
            "gridcolor": "white",
            "linecolor": "white",
            "ticks": ""
           }
          },
          "title": {
           "x": 0.05
          },
          "xaxis": {
           "automargin": true,
           "gridcolor": "white",
           "linecolor": "white",
           "ticks": "",
           "title": {
            "standoff": 15
           },
           "zerolinecolor": "white",
           "zerolinewidth": 2
          },
          "yaxis": {
           "automargin": true,
           "gridcolor": "white",
           "linecolor": "white",
           "ticks": "",
           "title": {
            "standoff": 15
           },
           "zerolinecolor": "white",
           "zerolinewidth": 2
          }
         }
        },
        "title": {
         "text": "CSAM Reports per Capita 2022"
        },
        "width": 600
       }
      },
      "text/html": [
       "<div>                            <div id=\"59a22868-e1f5-426c-bad7-4cced4efcba0\" class=\"plotly-graph-div\" style=\"height:300px; width:600px;\"></div>            <script type=\"text/javascript\">                require([\"plotly\"], function(Plotly) {                    window.PLOTLYENV=window.PLOTLYENV || {};                                    if (document.getElementById(\"59a22868-e1f5-426c-bad7-4cced4efcba0\")) {                    Plotly.newPlot(                        \"59a22868-e1f5-426c-bad7-4cced4efcba0\",                        [{\"colorbar\":{\"title\":{\"text\":\"Reports<br>per Capita\",\"font\":{\"size\":13}},\"thickness\":20,\"tickformat\":\".3f\"},\"colorscale\":[[0.0,\"#f0f921\"],[0.1111111111111111,\"#fdca26\"],[0.2222222222222222,\"#fb9f3a\"],[0.3333333333333333,\"#ed7953\"],[0.4444444444444444,\"#d8576b\"],[0.5555555555555556,\"#bd3786\"],[0.6666666666666666,\"#9c179e\"],[0.7777777777777778,\"#7201a8\"],[0.8888888888888888,\"#46039f\"],[1.0,\"#0d0887\"]],\"locationmode\":\"ISO-3\",\"locations\":[\"ABW\",\"AFG\",\"AGO\",\"AIA\",\"ALB\",\"AND\",\"ARE\",\"ARG\",\"ARM\",\"ASM\",\"ATG\",\"AUS\",\"AUT\",\"AZE\",\"BDI\",\"BEL\",\"BEN\",\"BES\",\"BFA\",\"BGD\",\"BGR\",\"BHR\",\"BHS\",\"BIH\",\"BLM\",\"BLR\",\"BLZ\",\"BMU\",\"BOL\",\"BRA\",\"BRB\",\"BRN\",\"BTN\",\"BWA\",\"CAF\",\"CAN\",\"CHE\",\"CHL\",\"CHN\",\"CIV\",\"CMR\",\"COD\",\"COG\",\"COK\",\"COL\",\"COM\",\"CPV\",\"CRI\",\"CUB\",\"CUW\",\"CYM\",\"CYP\",\"CZE\",\"DEU\",\"DJI\",\"DMA\",\"DNK\",\"DOM\",\"DZA\",\"ECU\",\"EGY\",\"ERI\",\"ESH\",\"ESP\",\"EST\",\"ETH\",\"FIN\",\"FJI\",\"FLK\",\"FRA\",\"FRO\",\"FSM\",\"GAB\",\"GBR\",\"GEO\",\"GGY\",\"GHA\",\"GIB\",\"GIN\",\"GLP\",\"GMB\",\"GNB\",\"GNQ\",\"GRC\",\"GRD\",\"GRL\",\"GTM\",\"GUF\",\"GUM\",\"GUY\",\"HKG\",\"HND\",\"HRV\",\"HTI\",\"HUN\",\"IDN\",\"IMN\",\"IND\",\"IRL\",\"IRN\",\"IRQ\",\"ISL\",\"ISR\",\"ITA\",\"JAM\",\"JEY\",\"JOR\",\"JPN\",\"KAZ\",\"KEN\",\"KGZ\",\"KHM\",\"KIR\",\"KNA\",\"KOR\",\"KWT\",\"LAO\",\"LBN\",\"LBR\",\"LBY\",\"LCA\",\"LIE\",\"LKA\",\"LSO\",\"LTU\",\"LUX\",\"LVA\",\"MAC\",\"MAF\",\"MAR\",\"MCO\",\"MDA\",\"MDG\",\"MDV\",\"MEX\",\"MHL\",\"MKD\",\"MLI\",\"MLT\",\"MMR\",\"MNE\",\"MNG\",\"MNP\",\"MOZ\",\"MRT\",\"MSR\",\"MTQ\",\"MUS\",\"MWI\",\"MYS\",\"MYT\",\"NAM\",\"NCL\",\"NER\",\"NGA\",\"NIC\",\"NIU\",\"NLD\",\"NOR\",\"NPL\",\"NRU\",\"NZL\",\"OMN\",\"PAK\",\"PAN\",\"PER\",\"PHL\",\"PLW\",\"PNG\",\"POL\",\"PRI\",\"PRK\",\"PRT\",\"PRY\",\"PSE\",\"PYF\",\"QAT\",\"REU\",\"ROU\",\"RUS\",\"RWA\",\"SAU\",\"SDN\",\"SEN\",\"SGP\",\"SHN\",\"SLB\",\"SLE\",\"SLV\",\"SMR\",\"SOM\",\"SPM\",\"SRB\",\"SSD\",\"STP\",\"SUR\",\"SVK\",\"SVN\",\"SWE\",\"SWZ\",\"SXM\",\"SYC\",\"SYR\",\"TCA\",\"TCD\",\"TGO\",\"THA\",\"TJK\",\"TKL\",\"TKM\",\"TLS\",\"TON\",\"TTO\",\"TUN\",\"TUR\",\"TUV\",\"TWN\",\"TZA\",\"UGA\",\"UKR\",\"URY\",\"USA\",\"UZB\",\"VCT\",\"VEN\",\"VGB\",\"VIR\",\"VNM\",\"VUT\",\"WLF\",\"WSM\",\"XKX\",\"YEM\",\"ZAF\",\"ZMB\",\"ZWE\"],\"showscale\":true,\"text\":[\"Aruba\",\"Afghanistan\",\"Angola\",\"Anguilla\",\"Albania\",\"Andorra\",\"United Arab Emirates\",\"Argentina\",\"Armenia\",\"American Samoa\",\"Antigua and Barbuda\",\"Australia\",\"Austria\",\"Azerbaijan\",\"Burundi\",\"Belgium\",\"Benin\",\"Bonaire, Sint Eustatius, and Saba\",\"Burkina Faso\",\"Bangladesh\",\"Bulgaria\",\"Bahrain\",\"Bahamas\",\"Bosnia and Herzegovina\",\"Saint Barth\\u00e9lemy\",\"Belarus\",\"Belize\",\"Bermuda\",\"Bolivia\",\"Brazil\",\"Barbados\",\"Brunei Darussalam\",\"Bhutan\",\"Botswana\",\"Central African Republic\",\"Canada\",\"Switzerland\",\"Chile\",\"China\",\"C\\u00f4te d'Ivoire\",\"Cameroon\",\"Democratic Republic of the Congo\",\"Congo\",\"Cook Islands\",\"Colombia\",\"Comoros\",\"Cabo Verde\",\"Costa Rica\",\"Cuba\",\"Cura\\u00e7ao\",\"Cayman Islands\",\"Cyprus\",\"Czechia\",\"Germany\",\"Djibouti\",\"Dominica\",\"Denmark\",\"Dominican Republic\",\"Algeria\",\"Ecuador\",\"Egypt\",\"Eritrea\",\"Western Sahara\",\"Spain\",\"Estonia\",\"Ethiopia\",\"Finland\",\"Fiji\",\"Falkland Islands\",\"France\",\"Faroe Islands\",\"Micronesia\",\"Gabon\",\"United Kingdom of Great Britain and Northern Ireland\",\"Georgia\",\"Guernsey\",\"Ghana\",\"Gibraltar\",\"Guinea\",\"Guadeloupe\",\"Gambia\",\"Guinea-Bissau\",\"Equatorial Guinea\",\"Greece\",\"Grenada\",\"Greenland\",\"Guatemala\",\"French Guiana\",\"Guam\",\"Guyana\",\"Hong Kong\",\"Honduras\",\"Croatia\",\"Haiti\",\"Hungary\",\"Indonesia\",\"Isle of Man\",\"India\",\"Ireland\",\"Iran\",\"Iraq\",\"Iceland\",\"Israel\",\"Italy\",\"Jamaica\",\"Jersey\",\"Jordan\",\"Japan\",\"Kazakhstan\",\"Kenya\",\"Kyrgyzstan\",\"Cambodia\",\"Kiribati\",\"Saint Kitts and Nevis\",\"South Korea\",\"Kuwait\",\"Lao People's Democratic Republic\",\"Lebanon\",\"Liberia\",\"Libya\",\"Saint Lucia\",\"Liechtenstein\",\"Sri Lanka\",\"Lesotho\",\"Lithuania\",\"Luxembourg\",\"Latvia\",\"Macao\",\"Saint Martin (French part)\",\"Morocco\",\"Monaco\",\"Moldova\",\"Madagascar\",\"Maldives\",\"Mexico\",\"Marshall Islands\",\"North Macedonia\",\"Mali\",\"Malta\",\"Myanmar\",\"Montenegro\",\"Mongolia\",\"Northern Mariana Islands\",\"Mozambique\",\"Mauritania\",\"Montserrat\",\"Martinique\",\"Mauritius\",\"Malawi\",\"Malaysia\",\"Mayotte\",\"Namibia\",\"New Caledonia\",\"Niger\",\"Nigeria\",\"Nicaragua\",\"Niue\",\"Netherlands\",\"Norway\",\"Nepal\",\"Nauru\",\"New Zealand\",\"Oman\",\"Pakistan\",\"Panama\",\"Peru\",\"Philippines\",\"Palau\",\"Papua New Guinea\",\"Poland\",\"Puerto Rico\",\"North Korea\",\"Portugal\",\"Paraguay\",\"Palestine\",\"French Polynesia\",\"Qatar\",\"R\\u00e9union\",\"Romania\",\"Russian Federation\",\"Rwanda\",\"Saudi Arabia\",\"Sudan\",\"Senegal\",\"Singapore\",\"Saint Helena, Ascension and Tristan da Cunha\",\"Solomon Islands\",\"Sierra Leone\",\"El Salvador\",\"San Marino\",\"Somalia\",\"Saint Pierre and Miquelon\",\"Serbia\",\"South Sudan\",\"Sao Tome and Principe\",\"Suriname\",\"Slovakia\",\"Slovenia\",\"Sweden\",\"Eswatini\",\"Sint Maarten (Dutch part)\",\"Seychelles\",\"Syrian Arab Republic\",\"Turks and Caicos Islands\",\"Chad\",\"Togo\",\"Thailand\",\"Tajikistan\",\"Tokelau\",\"Turkmenistan\",\"Timor-Leste\",\"Tonga\",\"Trinidad and Tobago\",\"Tunisia\",\"T\\u00fcrkiye\",\"Tuvalu\",\"Taiwan\",\"Tanzania\",\"Uganda\",\"Ukraine\",\"Uruguay\",\"United States of America\",\"Uzbekistan\",\"Saint Vincent and the Grenadines\",\"Venezuela\",\"British Virgin Islands\",\"U.S. Virgin Islands\",\"Viet Nam\",\"Vanuatu\",\"Wallis and Futuna\",\"Samoa\",\"Kosovo\",\"Yemen\",\"South Africa\",\"Zambia\",\"Zimbabwe\"],\"z\":[0.006820423692986989,0.005468629247394725,0.0006362642465771785,0.004918963233903008,0.004002362857678636,0.00253056724794548,0.028101194253356776,0.002989212248527905,0.0014281763256486586,0.005036929957310325,0.0037434809039813147,0.006954468458954731,0.0020695517492527924,0.000972864260286227,0.00017642161569770675,0.0043115392765742415,0.0004645445351648905,0.003293003293003293,0.00013456081968223887,0.012530775449048156,0.0047091155010953335,0.017589607079857603,0.0036903879175772714,0.0037466828017826974,0.0012765569435579465,0.0006919801928797776,0.01505898493114518,0.004284556898915617,0.0037874331955455244,0.002838790905714606,0.008827027890709606,0.006654758776130173,0.008705931970528656,0.0017085529537360054,4.4451263491316946e-05,0.00463666936623283,0.0015935066206950838,0.0032852926531900836,5.153282317142845e-06,0.0009629075689343064,0.00035576445348171095,0.00012172481763800284,0.0003855672561948699,0.005349479748398095,0.01249000848671389,0.005012106016678338,0.006042316446092894,0.004735342548460874,0.001102549894128632,0.0027620263229478355,0.004890402584927081,0.0058817936074548,0.005907574109590007,0.0016575897833944584,0.0015916506148464244,0.0054167010365971015,0.005136629412290714,0.011633901724856064,0.01628317342462596,0.009350258318982278,0.0038836255517304998,6.18887132359328e-05,2.0833839711381875e-05,0.0016343406023260133,0.0048323532383855354,9.033884564283858e-05,0.001967966046449341,0.0065027114349201845,0.006613756613756613,0.003519679225721014,0.007760406856281786,0.002548964647349427,0.0010213508369425947,0.0046941933731558146,0.0034627840185280042,0.0038703358503680767,0.0006544714147832454,0.0036754571349811634,0.0003289478193804453,0.0015059898472026744,0.00016149345600430451,0.00010543483319924429,0.00015881469310553178,0.004173820032814728,0.006704507406049204,0.006712003683632628,0.004897469769514615,0.0020094760586688207,0.0036559452772522193,0.005125345296181896,0.005018250429137125,0.006776377714260519,0.0029012311065170888,0.0004513596724591014,0.010979293506330897,0.006816703711193215,0.006105063890203502,0.00400467925030359,0.003935809475764909,0.0029787385897120707,0.020358695528567637,0.007345152440741327,0.0024617436735123793,0.0016347582892858865,0.002105485048509626,0.006228617337220953,0.006499721022811801,0.0007463391463829312,0.0008792144426450606,0.0004024803152513831,0.0010546520289269952,0.013594772660667961,0.0019050231650816873,0.006126988123714801,0.0013394946445882058,0.013693543940051624,0.0035204313713771544,0.004528994087151668,0.0012022220457915535,0.02397648620349451,0.0046369914043300825,0.0012205355099549928,0.006688532591601292,0.0011744164564021743,0.00603733379877857,0.0030945075579177856,0.0019928122590374955,0.0014456916231880305,0.001572772168223711,0.006892311385472534,0.010721434643121554,0.002557901079011401,0.0019092781998367267,0.014916368676580366,0.006398161577924152,0.0031754432389521038,0.004475069007961888,0.00012968279367365728,0.008837659342266626,0.004678188384325189,0.004111098530816495,0.0075671661027682125,0.0031886339327157876,0.0003734358393278349,0.001394807035857689,0.005466970387243736,0.0019482622099715107,0.004425653863231828,9.46812049036043e-05,0.0058240823576438385,0.005590292578066304,0.0005134372128228412,0.004148976896096237,4.1018045765226365e-05,0.0005639943096865409,0.011454592659711773,0.000517063081695967,0.0032459550533266482,0.008653522180056047,0.005989934390874825,0.008288601199873697,0.006319030626836807,0.012096021718865336,0.008734804183899813,0.003176305482421668,0.006473617053057527,0.022293216446672714,0.006258654112434228,0.0012401136235128225,0.005903834659912679,0.0020895293854674398,3.8359124026440636e-08,0.0041548594008391695,0.002821519290508534,0.005419354248856016,0.002533637631048815,0.022695447553023575,0.004648622455474656,0.0048977919675235095,0.0006172617952761416,0.0001318893685555131,0.016554917187648486,0.0007242576321936048,0.0002248151454146286,0.01251604626679869,0.00018608113137327876,0.0021676909121284378,0.00019475423201178565,0.007357341528112528,0.0010694869433469,0.0012677929282158141,0.01023541453428864,0.003818529624450554,0.00026023616982206077,0.001979065880904213,0.0050093764005947825,0.0070432056402347995,0.0069792871550925445,0.004633746524784899,0.0006940335582701089,0.0039388794567062815,0.004499668592873347,0.0028250077547149863,0.004944970789663698,7.092352643960794e-05,0.00032965298062460934,0.007335478192053423,0.0008927147742637313,0.002137894174238375,2.7679418222169628e-05,0.0029411852417363504,0.006709839225888563,0.006078201489832108,0.007424581686949063,0.003237953851643662,0.00442008486562942,0.0030511360984908174,0.00012801966870677753,0.00011661478084939794,0.0013180279080470506,0.0024059291911812395,0.009534817356347754,0.0006012535703762539,0.0067629968830569135,0.010642118408734233,0.005749880210828941,0.002825114361835822,0.009751121881323911,0.005695642726195978,0.0006912641493130563,0.0038087615004811543,0.0030354627363509616,0.006280334279283966,0.0013757330756598428,0.0003939018892054147,0.00011654028295760122],\"type\":\"choropleth\",\"marker\":{\"line\":{\"width\":0.4}}}],                        {\"geo\":{\"bgcolor\":\"#eaeaec\",\"showframe\":false,\"lataxis\":{\"range\":[-60,90]},\"fitbounds\":\"locations\",\"visible\":false},\"height\":300,\"margin\":{\"b\":0,\"l\":0,\"r\":0,\"t\":40},\"width\":600,\"template\":{\"data\":{\"histogram2dcontour\":[{\"type\":\"histogram2dcontour\",\"colorbar\":{\"outlinewidth\":0,\"ticks\":\"\"},\"colorscale\":[[0.0,\"#0d0887\"],[0.1111111111111111,\"#46039f\"],[0.2222222222222222,\"#7201a8\"],[0.3333333333333333,\"#9c179e\"],[0.4444444444444444,\"#bd3786\"],[0.5555555555555556,\"#d8576b\"],[0.6666666666666666,\"#ed7953\"],[0.7777777777777778,\"#fb9f3a\"],[0.8888888888888888,\"#fdca26\"],[1.0,\"#f0f921\"]]}],\"choropleth\":[{\"type\":\"choropleth\",\"colorbar\":{\"outlinewidth\":0,\"ticks\":\"\"}}],\"histogram2d\":[{\"type\":\"histogram2d\",\"colorbar\":{\"outlinewidth\":0,\"ticks\":\"\"},\"colorscale\":[[0.0,\"#0d0887\"],[0.1111111111111111,\"#46039f\"],[0.2222222222222222,\"#7201a8\"],[0.3333333333333333,\"#9c179e\"],[0.4444444444444444,\"#bd3786\"],[0.5555555555555556,\"#d8576b\"],[0.6666666666666666,\"#ed7953\"],[0.7777777777777778,\"#fb9f3a\"],[0.8888888888888888,\"#fdca26\"],[1.0,\"#f0f921\"]]}],\"heatmap\":[{\"type\":\"heatmap\",\"colorbar\":{\"outlinewidth\":0,\"ticks\":\"\"},\"colorscale\":[[0.0,\"#0d0887\"],[0.1111111111111111,\"#46039f\"],[0.2222222222222222,\"#7201a8\"],[0.3333333333333333,\"#9c179e\"],[0.4444444444444444,\"#bd3786\"],[0.5555555555555556,\"#d8576b\"],[0.6666666666666666,\"#ed7953\"],[0.7777777777777778,\"#fb9f3a\"],[0.8888888888888888,\"#fdca26\"],[1.0,\"#f0f921\"]]}],\"heatmapgl\":[{\"type\":\"heatmapgl\",\"colorbar\":{\"outlinewidth\":0,\"ticks\":\"\"},\"colorscale\":[[0.0,\"#0d0887\"],[0.1111111111111111,\"#46039f\"],[0.2222222222222222,\"#7201a8\"],[0.3333333333333333,\"#9c179e\"],[0.4444444444444444,\"#bd3786\"],[0.5555555555555556,\"#d8576b\"],[0.6666666666666666,\"#ed7953\"],[0.7777777777777778,\"#fb9f3a\"],[0.8888888888888888,\"#fdca26\"],[1.0,\"#f0f921\"]]}],\"contourcarpet\":[{\"type\":\"contourcarpet\",\"colorbar\":{\"outlinewidth\":0,\"ticks\":\"\"}}],\"contour\":[{\"type\":\"contour\",\"colorbar\":{\"outlinewidth\":0,\"ticks\":\"\"},\"colorscale\":[[0.0,\"#0d0887\"],[0.1111111111111111,\"#46039f\"],[0.2222222222222222,\"#7201a8\"],[0.3333333333333333,\"#9c179e\"],[0.4444444444444444,\"#bd3786\"],[0.5555555555555556,\"#d8576b\"],[0.6666666666666666,\"#ed7953\"],[0.7777777777777778,\"#fb9f3a\"],[0.8888888888888888,\"#fdca26\"],[1.0,\"#f0f921\"]]}],\"surface\":[{\"type\":\"surface\",\"colorbar\":{\"outlinewidth\":0,\"ticks\":\"\"},\"colorscale\":[[0.0,\"#0d0887\"],[0.1111111111111111,\"#46039f\"],[0.2222222222222222,\"#7201a8\"],[0.3333333333333333,\"#9c179e\"],[0.4444444444444444,\"#bd3786\"],[0.5555555555555556,\"#d8576b\"],[0.6666666666666666,\"#ed7953\"],[0.7777777777777778,\"#fb9f3a\"],[0.8888888888888888,\"#fdca26\"],[1.0,\"#f0f921\"]]}],\"mesh3d\":[{\"type\":\"mesh3d\",\"colorbar\":{\"outlinewidth\":0,\"ticks\":\"\"}}],\"scatter\":[{\"fillpattern\":{\"fillmode\":\"overlay\",\"size\":10,\"solidity\":0.2},\"type\":\"scatter\"}],\"parcoords\":[{\"type\":\"parcoords\",\"line\":{\"colorbar\":{\"outlinewidth\":0,\"ticks\":\"\"}}}],\"scatterpolargl\":[{\"type\":\"scatterpolargl\",\"marker\":{\"colorbar\":{\"outlinewidth\":0,\"ticks\":\"\"}}}],\"bar\":[{\"error_x\":{\"color\":\"#2a3f5f\"},\"error_y\":{\"color\":\"#2a3f5f\"},\"marker\":{\"line\":{\"color\":\"#E5ECF6\",\"width\":0.5},\"pattern\":{\"fillmode\":\"overlay\",\"size\":10,\"solidity\":0.2}},\"type\":\"bar\"}],\"scattergeo\":[{\"type\":\"scattergeo\",\"marker\":{\"colorbar\":{\"outlinewidth\":0,\"ticks\":\"\"}}}],\"scatterpolar\":[{\"type\":\"scatterpolar\",\"marker\":{\"colorbar\":{\"outlinewidth\":0,\"ticks\":\"\"}}}],\"histogram\":[{\"marker\":{\"pattern\":{\"fillmode\":\"overlay\",\"size\":10,\"solidity\":0.2}},\"type\":\"histogram\"}],\"scattergl\":[{\"type\":\"scattergl\",\"marker\":{\"colorbar\":{\"outlinewidth\":0,\"ticks\":\"\"}}}],\"scatter3d\":[{\"type\":\"scatter3d\",\"line\":{\"colorbar\":{\"outlinewidth\":0,\"ticks\":\"\"}},\"marker\":{\"colorbar\":{\"outlinewidth\":0,\"ticks\":\"\"}}}],\"scattermapbox\":[{\"type\":\"scattermapbox\",\"marker\":{\"colorbar\":{\"outlinewidth\":0,\"ticks\":\"\"}}}],\"scatterternary\":[{\"type\":\"scatterternary\",\"marker\":{\"colorbar\":{\"outlinewidth\":0,\"ticks\":\"\"}}}],\"scattercarpet\":[{\"type\":\"scattercarpet\",\"marker\":{\"colorbar\":{\"outlinewidth\":0,\"ticks\":\"\"}}}],\"carpet\":[{\"aaxis\":{\"endlinecolor\":\"#2a3f5f\",\"gridcolor\":\"white\",\"linecolor\":\"white\",\"minorgridcolor\":\"white\",\"startlinecolor\":\"#2a3f5f\"},\"baxis\":{\"endlinecolor\":\"#2a3f5f\",\"gridcolor\":\"white\",\"linecolor\":\"white\",\"minorgridcolor\":\"white\",\"startlinecolor\":\"#2a3f5f\"},\"type\":\"carpet\"}],\"table\":[{\"cells\":{\"fill\":{\"color\":\"#EBF0F8\"},\"line\":{\"color\":\"white\"}},\"header\":{\"fill\":{\"color\":\"#C8D4E3\"},\"line\":{\"color\":\"white\"}},\"type\":\"table\"}],\"barpolar\":[{\"marker\":{\"line\":{\"color\":\"#E5ECF6\",\"width\":0.5},\"pattern\":{\"fillmode\":\"overlay\",\"size\":10,\"solidity\":0.2}},\"type\":\"barpolar\"}],\"pie\":[{\"automargin\":true,\"type\":\"pie\"}]},\"layout\":{\"autotypenumbers\":\"strict\",\"colorway\":[\"#636efa\",\"#EF553B\",\"#00cc96\",\"#ab63fa\",\"#FFA15A\",\"#19d3f3\",\"#FF6692\",\"#B6E880\",\"#FF97FF\",\"#FECB52\"],\"font\":{\"color\":\"#2a3f5f\"},\"hovermode\":\"closest\",\"hoverlabel\":{\"align\":\"left\"},\"paper_bgcolor\":\"white\",\"plot_bgcolor\":\"#E5ECF6\",\"polar\":{\"bgcolor\":\"#E5ECF6\",\"angularaxis\":{\"gridcolor\":\"white\",\"linecolor\":\"white\",\"ticks\":\"\"},\"radialaxis\":{\"gridcolor\":\"white\",\"linecolor\":\"white\",\"ticks\":\"\"}},\"ternary\":{\"bgcolor\":\"#E5ECF6\",\"aaxis\":{\"gridcolor\":\"white\",\"linecolor\":\"white\",\"ticks\":\"\"},\"baxis\":{\"gridcolor\":\"white\",\"linecolor\":\"white\",\"ticks\":\"\"},\"caxis\":{\"gridcolor\":\"white\",\"linecolor\":\"white\",\"ticks\":\"\"}},\"coloraxis\":{\"colorbar\":{\"outlinewidth\":0,\"ticks\":\"\"}},\"colorscale\":{\"sequential\":[[0.0,\"#0d0887\"],[0.1111111111111111,\"#46039f\"],[0.2222222222222222,\"#7201a8\"],[0.3333333333333333,\"#9c179e\"],[0.4444444444444444,\"#bd3786\"],[0.5555555555555556,\"#d8576b\"],[0.6666666666666666,\"#ed7953\"],[0.7777777777777778,\"#fb9f3a\"],[0.8888888888888888,\"#fdca26\"],[1.0,\"#f0f921\"]],\"sequentialminus\":[[0.0,\"#0d0887\"],[0.1111111111111111,\"#46039f\"],[0.2222222222222222,\"#7201a8\"],[0.3333333333333333,\"#9c179e\"],[0.4444444444444444,\"#bd3786\"],[0.5555555555555556,\"#d8576b\"],[0.6666666666666666,\"#ed7953\"],[0.7777777777777778,\"#fb9f3a\"],[0.8888888888888888,\"#fdca26\"],[1.0,\"#f0f921\"]],\"diverging\":[[0,\"#8e0152\"],[0.1,\"#c51b7d\"],[0.2,\"#de77ae\"],[0.3,\"#f1b6da\"],[0.4,\"#fde0ef\"],[0.5,\"#f7f7f7\"],[0.6,\"#e6f5d0\"],[0.7,\"#b8e186\"],[0.8,\"#7fbc41\"],[0.9,\"#4d9221\"],[1,\"#276419\"]]},\"xaxis\":{\"gridcolor\":\"white\",\"linecolor\":\"white\",\"ticks\":\"\",\"title\":{\"standoff\":15},\"zerolinecolor\":\"white\",\"automargin\":true,\"zerolinewidth\":2},\"yaxis\":{\"gridcolor\":\"white\",\"linecolor\":\"white\",\"ticks\":\"\",\"title\":{\"standoff\":15},\"zerolinecolor\":\"white\",\"automargin\":true,\"zerolinewidth\":2},\"scene\":{\"xaxis\":{\"backgroundcolor\":\"#E5ECF6\",\"gridcolor\":\"white\",\"linecolor\":\"white\",\"showbackground\":true,\"ticks\":\"\",\"zerolinecolor\":\"white\",\"gridwidth\":2},\"yaxis\":{\"backgroundcolor\":\"#E5ECF6\",\"gridcolor\":\"white\",\"linecolor\":\"white\",\"showbackground\":true,\"ticks\":\"\",\"zerolinecolor\":\"white\",\"gridwidth\":2},\"zaxis\":{\"backgroundcolor\":\"#E5ECF6\",\"gridcolor\":\"white\",\"linecolor\":\"white\",\"showbackground\":true,\"ticks\":\"\",\"zerolinecolor\":\"white\",\"gridwidth\":2}},\"shapedefaults\":{\"line\":{\"color\":\"#2a3f5f\"}},\"annotationdefaults\":{\"arrowcolor\":\"#2a3f5f\",\"arrowhead\":0,\"arrowwidth\":1},\"geo\":{\"bgcolor\":\"white\",\"landcolor\":\"#E5ECF6\",\"subunitcolor\":\"white\",\"showland\":true,\"showlakes\":true,\"lakecolor\":\"white\"},\"title\":{\"x\":0.05},\"mapbox\":{\"style\":\"light\"}}},\"title\":{\"text\":\"CSAM Reports per Capita 2022\"}},                        {\"responsive\": true}                    ).then(function(){\n",
       "                            \n",
       "var gd = document.getElementById('59a22868-e1f5-426c-bad7-4cced4efcba0');\n",
       "var x = new MutationObserver(function (mutations, observer) {{\n",
       "        var display = window.getComputedStyle(gd).display;\n",
       "        if (!display || display === 'none') {{\n",
       "            console.log([gd, 'removed!']);\n",
       "            Plotly.purge(gd);\n",
       "            observer.disconnect();\n",
       "        }}\n",
       "}});\n",
       "\n",
       "// Listen for the removal of the full notebook cells\n",
       "var notebookContainer = gd.closest('#notebook-container');\n",
       "if (notebookContainer) {{\n",
       "    x.observe(notebookContainer, {childList: true});\n",
       "}}\n",
       "\n",
       "// Listen for the clearing of the current output cell\n",
       "var outputEl = gd.closest('.output');\n",
       "if (outputEl) {{\n",
       "    x.observe(outputEl, {childList: true});\n",
       "}}\n",
       "\n",
       "                        })                };                });            </script>        </div>"
      ]
     },
     "metadata": {},
     "output_type": "display_data"
    }
   ],
   "source": [
    "for year, group in country_data.reports_per_capita.groupby('year'):\n",
    "    map_data = group.reset_index()\n",
    "\n",
    "    fig = go.Figure(\n",
    "        data=go.Choropleth(\n",
    "            locations=map_data['iso3'],\n",
    "            locationmode='ISO-3',\n",
    "            z=map_data['reports_per_capita'],\n",
    "            text=map_data['country'],\n",
    "            colorscale='Plasma_r',\n",
    "            showscale=True,\n",
    "            colorbar_title='Reports<br>per Capita',\n",
    "        ),\n",
    "        layout=dict(\n",
    "            width=600,\n",
    "            height=300,\n",
    "            margin={\"r\":0,\"t\": 40, \"l\":0,\"b\":0},\n",
    "            geo=dict(\n",
    "                showframe=False, # Don't frame the map\n",
    "                lataxis_range=[-60,90], # Crop antarctica out of map\n",
    "                bgcolor='#eaeaec', # Color of oceans\n",
    "            ),\n",
    "            #paper_bgcolor='#000000', # Enable when rightsizing the height\n",
    "        ),\n",
    "    )\n",
    "\n",
    "    # Reduce width of border lines and improve presentation of color bar.\n",
    "    fig.update_traces(\n",
    "        marker_line_width=0.4,\n",
    "        colorbar_thickness=20,\n",
    "        colorbar_tickformat='.3f',\n",
    "        colorbar_title_font_size=13,\n",
    "        selector=dict(type='choropleth'),\n",
    "    )\n",
    "\n",
    "    # Suppress interior lakes\n",
    "    fig.update_geos(fitbounds=\"locations\", visible=False)\n",
    "\n",
    "    # Set title\n",
    "    fig.update_layout(\n",
    "        title_text=f'CSAM Reports per Capita {year}',\n",
    "    )\n",
    "    fig.show()\n"
   ]
  },
  {
   "cell_type": "code",
   "execution_count": 5,
   "metadata": {},
   "outputs": [
    {
     "data": {
      "text/html": [
       "<h2>CSAM Reports per Social Media Platform</h2>"
      ],
      "text/plain": [
       "<IPython.core.display.HTML object>"
      ]
     },
     "metadata": {},
     "output_type": "display_data"
    },
    {
     "data": {
      "text/html": [
       "<style type=\"text/css\">\n",
       "#T_4a225 caption {\n",
       "  caption-side: bottom;\n",
       "  font-style: italic;\n",
       "  margin-top: 1ex;\n",
       "}\n",
       "#T_4a225_row1_col1, #T_4a225_row1_col2, #T_4a225_row1_col3 {\n",
       "  color: #d95100;\n",
       "  background-color: #ffeada;\n",
       "}\n",
       "#T_4a225_row2_col1, #T_4a225_row2_col2, #T_4a225_row2_col3 {\n",
       "  color: #d900c7;\n",
       "  background-color: #ffe5fa;\n",
       "}\n",
       "</style>\n",
       "<table id=\"T_4a225\">\n",
       "  <caption>Pinterest</caption>\n",
       "  <thead>\n",
       "    <tr>\n",
       "      <th class=\"blank level0\" >&nbsp;</th>\n",
       "      <th id=\"T_4a225_level0_col0\" class=\"col_heading level0 col0\" >pieces</th>\n",
       "      <th id=\"T_4a225_level0_col1\" class=\"col_heading level0 col1\" >reports</th>\n",
       "      <th id=\"T_4a225_level0_col2\" class=\"col_heading level0 col2\" >Δ%</th>\n",
       "      <th id=\"T_4a225_level0_col3\" class=\"col_heading level0 col3\" >NCMEC</th>\n",
       "    </tr>\n",
       "    <tr>\n",
       "      <th class=\"index_name level0\" >year</th>\n",
       "      <th class=\"blank col0\" >&nbsp;</th>\n",
       "      <th class=\"blank col1\" >&nbsp;</th>\n",
       "      <th class=\"blank col2\" >&nbsp;</th>\n",
       "      <th class=\"blank col3\" >&nbsp;</th>\n",
       "    </tr>\n",
       "  </thead>\n",
       "  <tbody>\n",
       "    <tr>\n",
       "      <th id=\"T_4a225_level0_row0\" class=\"row_heading level0 row0\" >2020</th>\n",
       "      <td id=\"T_4a225_row0_col0\" class=\"data row0 col0\" ><NA></td>\n",
       "      <td id=\"T_4a225_row0_col1\" class=\"data row0 col1\" >3,432</td>\n",
       "      <td id=\"T_4a225_row0_col2\" class=\"data row0 col2\" >0.000000</td>\n",
       "      <td id=\"T_4a225_row0_col3\" class=\"data row0 col3\" >3,432</td>\n",
       "    </tr>\n",
       "    <tr>\n",
       "      <th id=\"T_4a225_level0_row1\" class=\"row_heading level0 row1\" >2021</th>\n",
       "      <td id=\"T_4a225_row1_col0\" class=\"data row1 col0\" >1,608</td>\n",
       "      <td id=\"T_4a225_row1_col1\" class=\"data row1 col1\" >2,684</td>\n",
       "      <td id=\"T_4a225_row1_col2\" class=\"data row1 col2\" >-14.940387</td>\n",
       "      <td id=\"T_4a225_row1_col3\" class=\"data row1 col3\" >2,283</td>\n",
       "    </tr>\n",
       "    <tr>\n",
       "      <th id=\"T_4a225_level0_row2\" class=\"row_heading level0 row2\" >2022</th>\n",
       "      <td id=\"T_4a225_row2_col0\" class=\"data row2 col0\" >5,530</td>\n",
       "      <td id=\"T_4a225_row2_col1\" class=\"data row2 col1\" >4,969</td>\n",
       "      <td id=\"T_4a225_row2_col2\" class=\"data row2 col2\" >590.480982</td>\n",
       "      <td id=\"T_4a225_row2_col3\" class=\"data row2 col3\" >34,310</td>\n",
       "    </tr>\n",
       "  </tbody>\n",
       "</table>\n"
      ],
      "text/plain": [
       "<IPython.core.display.HTML object>"
      ]
     },
     "metadata": {},
     "output_type": "display_data"
    },
    {
     "data": {
      "text/html": [
       "<style type=\"text/css\">\n",
       "#T_69a59 caption {\n",
       "  caption-side: bottom;\n",
       "  font-style: italic;\n",
       "  margin-top: 1ex;\n",
       "}\n",
       "</style>\n",
       "<table id=\"T_69a59\">\n",
       "  <caption>Reddit</caption>\n",
       "  <thead>\n",
       "    <tr>\n",
       "      <th class=\"blank level0\" >&nbsp;</th>\n",
       "      <th id=\"T_69a59_level0_col0\" class=\"col_heading level0 col0\" >pieces</th>\n",
       "      <th id=\"T_69a59_level0_col1\" class=\"col_heading level0 col1\" >reports</th>\n",
       "      <th id=\"T_69a59_level0_col2\" class=\"col_heading level0 col2\" >Δ%</th>\n",
       "      <th id=\"T_69a59_level0_col3\" class=\"col_heading level0 col3\" >NCMEC</th>\n",
       "    </tr>\n",
       "    <tr>\n",
       "      <th class=\"index_name level0\" >year</th>\n",
       "      <th class=\"blank col0\" >&nbsp;</th>\n",
       "      <th class=\"blank col1\" >&nbsp;</th>\n",
       "      <th class=\"blank col2\" >&nbsp;</th>\n",
       "      <th class=\"blank col3\" >&nbsp;</th>\n",
       "    </tr>\n",
       "  </thead>\n",
       "  <tbody>\n",
       "    <tr>\n",
       "      <th id=\"T_69a59_level0_row0\" class=\"row_heading level0 row0\" >2019</th>\n",
       "      <td id=\"T_69a59_row0_col0\" class=\"data row0 col0\" ><NA></td>\n",
       "      <td id=\"T_69a59_row0_col1\" class=\"data row0 col1\" >724</td>\n",
       "      <td id=\"T_69a59_row0_col2\" class=\"data row0 col2\" >0.000000</td>\n",
       "      <td id=\"T_69a59_row0_col3\" class=\"data row0 col3\" >724</td>\n",
       "    </tr>\n",
       "    <tr>\n",
       "      <th id=\"T_69a59_level0_row1\" class=\"row_heading level0 row1\" >2020</th>\n",
       "      <td id=\"T_69a59_row1_col0\" class=\"data row1 col0\" ><NA></td>\n",
       "      <td id=\"T_69a59_row1_col1\" class=\"data row1 col1\" >2,233</td>\n",
       "      <td id=\"T_69a59_row1_col2\" class=\"data row1 col2\" >0.000000</td>\n",
       "      <td id=\"T_69a59_row1_col3\" class=\"data row1 col3\" >2,233</td>\n",
       "    </tr>\n",
       "    <tr>\n",
       "      <th id=\"T_69a59_level0_row2\" class=\"row_heading level0 row2\" >2021</th>\n",
       "      <td id=\"T_69a59_row2_col0\" class=\"data row2 col0\" >9,258</td>\n",
       "      <td id=\"T_69a59_row2_col1\" class=\"data row2 col1\" >10,059</td>\n",
       "      <td id=\"T_69a59_row2_col2\" class=\"data row2 col2\" >0.000000</td>\n",
       "      <td id=\"T_69a59_row2_col3\" class=\"data row2 col3\" >10,059</td>\n",
       "    </tr>\n",
       "    <tr>\n",
       "      <th id=\"T_69a59_level0_row3\" class=\"row_heading level0 row3\" >2022</th>\n",
       "      <td id=\"T_69a59_row3_col0\" class=\"data row3 col0\" >80,888</td>\n",
       "      <td id=\"T_69a59_row3_col1\" class=\"data row3 col1\" >52,592</td>\n",
       "      <td id=\"T_69a59_row3_col2\" class=\"data row3 col2\" >0.000000</td>\n",
       "      <td id=\"T_69a59_row3_col3\" class=\"data row3 col3\" >52,592</td>\n",
       "    </tr>\n",
       "  </tbody>\n",
       "</table>\n"
      ],
      "text/plain": [
       "<IPython.core.display.HTML object>"
      ]
     },
     "metadata": {},
     "output_type": "display_data"
    },
    {
     "data": {
      "text/html": [
       "<style type=\"text/css\">\n",
       "#T_cc7c9 caption {\n",
       "  caption-side: bottom;\n",
       "  font-style: italic;\n",
       "  margin-top: 1ex;\n",
       "}\n",
       "#T_cc7c9_row3_col1, #T_cc7c9_row3_col2, #T_cc7c9_row3_col3 {\n",
       "  color: #f4002a;\n",
       "  background-color: #ffe8e7;\n",
       "}\n",
       "</style>\n",
       "<table id=\"T_cc7c9\">\n",
       "  <caption>Snap</caption>\n",
       "  <thead>\n",
       "    <tr>\n",
       "      <th class=\"blank level0\" >&nbsp;</th>\n",
       "      <th id=\"T_cc7c9_level0_col0\" class=\"col_heading level0 col0\" >pieces</th>\n",
       "      <th id=\"T_cc7c9_level0_col1\" class=\"col_heading level0 col1\" >reports</th>\n",
       "      <th id=\"T_cc7c9_level0_col2\" class=\"col_heading level0 col2\" >Δ%</th>\n",
       "      <th id=\"T_cc7c9_level0_col3\" class=\"col_heading level0 col3\" >NCMEC</th>\n",
       "    </tr>\n",
       "    <tr>\n",
       "      <th class=\"index_name level0\" >year</th>\n",
       "      <th class=\"blank col0\" >&nbsp;</th>\n",
       "      <th class=\"blank col1\" >&nbsp;</th>\n",
       "      <th class=\"blank col2\" >&nbsp;</th>\n",
       "      <th class=\"blank col3\" >&nbsp;</th>\n",
       "    </tr>\n",
       "  </thead>\n",
       "  <tbody>\n",
       "    <tr>\n",
       "      <th id=\"T_cc7c9_level0_row0\" class=\"row_heading level0 row0\" >2019</th>\n",
       "      <td id=\"T_cc7c9_row0_col0\" class=\"data row0 col0\" ><NA></td>\n",
       "      <td id=\"T_cc7c9_row0_col1\" class=\"data row0 col1\" ><NA></td>\n",
       "      <td id=\"T_cc7c9_row0_col2\" class=\"data row0 col2\" ><NA></td>\n",
       "      <td id=\"T_cc7c9_row0_col3\" class=\"data row0 col3\" >82,030</td>\n",
       "    </tr>\n",
       "    <tr>\n",
       "      <th id=\"T_cc7c9_level0_row1\" class=\"row_heading level0 row1\" >2020</th>\n",
       "      <td id=\"T_cc7c9_row1_col0\" class=\"data row1 col0\" ><NA></td>\n",
       "      <td id=\"T_cc7c9_row1_col1\" class=\"data row1 col1\" ><NA></td>\n",
       "      <td id=\"T_cc7c9_row1_col2\" class=\"data row1 col2\" ><NA></td>\n",
       "      <td id=\"T_cc7c9_row1_col3\" class=\"data row1 col3\" >144,095</td>\n",
       "    </tr>\n",
       "    <tr>\n",
       "      <th id=\"T_cc7c9_level0_row2\" class=\"row_heading level0 row2\" >2021</th>\n",
       "      <td id=\"T_cc7c9_row2_col0\" class=\"data row2 col0\" ><NA></td>\n",
       "      <td id=\"T_cc7c9_row2_col1\" class=\"data row2 col1\" ><NA></td>\n",
       "      <td id=\"T_cc7c9_row2_col2\" class=\"data row2 col2\" ><NA></td>\n",
       "      <td id=\"T_cc7c9_row2_col3\" class=\"data row2 col3\" >512,522</td>\n",
       "    </tr>\n",
       "    <tr>\n",
       "      <th id=\"T_cc7c9_level0_row3\" class=\"row_heading level0 row3\" >2022</th>\n",
       "      <td id=\"T_cc7c9_row3_col0\" class=\"data row3 col0\" >746,051</td>\n",
       "      <td id=\"T_cc7c9_row3_col1\" class=\"data row3 col1\" >285,470</td>\n",
       "      <td id=\"T_cc7c9_row3_col2\" class=\"data row3 col2\" >93.045154</td>\n",
       "      <td id=\"T_cc7c9_row3_col3\" class=\"data row3 col3\" >551,086</td>\n",
       "    </tr>\n",
       "  </tbody>\n",
       "</table>\n"
      ],
      "text/plain": [
       "<IPython.core.display.HTML object>"
      ]
     },
     "metadata": {},
     "output_type": "display_data"
    },
    {
     "data": {
      "text/html": [
       "<style type=\"text/css\">\n",
       "#T_12fd0 caption {\n",
       "  caption-side: bottom;\n",
       "  font-style: italic;\n",
       "  margin-top: 1ex;\n",
       "}\n",
       "</style>\n",
       "<table id=\"T_12fd0\">\n",
       "  <caption>Google/YouTube</caption>\n",
       "  <thead>\n",
       "    <tr>\n",
       "      <th class=\"blank level0\" >&nbsp;</th>\n",
       "      <th id=\"T_12fd0_level0_col0\" class=\"col_heading level0 col0\" >pieces</th>\n",
       "      <th id=\"T_12fd0_level0_col1\" class=\"col_heading level0 col1\" >reports</th>\n",
       "      <th id=\"T_12fd0_level0_col2\" class=\"col_heading level0 col2\" >Δ%</th>\n",
       "      <th id=\"T_12fd0_level0_col3\" class=\"col_heading level0 col3\" >NCMEC</th>\n",
       "    </tr>\n",
       "    <tr>\n",
       "      <th class=\"index_name level0\" >year</th>\n",
       "      <th class=\"blank col0\" >&nbsp;</th>\n",
       "      <th class=\"blank col1\" >&nbsp;</th>\n",
       "      <th class=\"blank col2\" >&nbsp;</th>\n",
       "      <th class=\"blank col3\" >&nbsp;</th>\n",
       "    </tr>\n",
       "  </thead>\n",
       "  <tbody>\n",
       "    <tr>\n",
       "      <th id=\"T_12fd0_level0_row0\" class=\"row_heading level0 row0\" >2020</th>\n",
       "      <td id=\"T_12fd0_row0_col0\" class=\"data row0 col0\" >4,437,853</td>\n",
       "      <td id=\"T_12fd0_row0_col1\" class=\"data row0 col1\" >547,875</td>\n",
       "      <td id=\"T_12fd0_row0_col2\" class=\"data row0 col2\" >-0.213735</td>\n",
       "      <td id=\"T_12fd0_row0_col3\" class=\"data row0 col3\" >546,704</td>\n",
       "    </tr>\n",
       "    <tr>\n",
       "      <th id=\"T_12fd0_level0_row1\" class=\"row_heading level0 row1\" >2021</th>\n",
       "      <td id=\"T_12fd0_row1_col0\" class=\"data row1 col0\" >6,696,497</td>\n",
       "      <td id=\"T_12fd0_row1_col1\" class=\"data row1 col1\" >870,319</td>\n",
       "      <td id=\"T_12fd0_row1_col2\" class=\"data row1 col2\" >0.627816</td>\n",
       "      <td id=\"T_12fd0_row1_col3\" class=\"data row1 col3\" >875,783</td>\n",
       "    </tr>\n",
       "    <tr>\n",
       "      <th id=\"T_12fd0_level0_row2\" class=\"row_heading level0 row2\" >2022</th>\n",
       "      <td id=\"T_12fd0_row2_col0\" class=\"data row2 col0\" >13,402,885</td>\n",
       "      <td id=\"T_12fd0_row2_col1\" class=\"data row2 col1\" >2,174,319</td>\n",
       "      <td id=\"T_12fd0_row2_col2\" class=\"data row2 col2\" >0.010532</td>\n",
       "      <td id=\"T_12fd0_row2_col3\" class=\"data row2 col3\" >2,174,548</td>\n",
       "    </tr>\n",
       "  </tbody>\n",
       "</table>\n"
      ],
      "text/plain": [
       "<IPython.core.display.HTML object>"
      ]
     },
     "metadata": {},
     "output_type": "display_data"
    }
   ],
   "source": [
    "show_html(h2='CSAM Reports per Social Media Platform')\n",
    "\n",
    "disclosures = ingest_reports_per_platform(\n",
    "    REPORTS_PER_PLATFORM, include_redundant=True)\n",
    "comparisons = compare_all_platform_reports(disclosures)\n",
    "for platform, data in comparisons.items():\n",
    "    show_table(data, title=platform)"
   ]
  },
  {
   "cell_type": "code",
   "execution_count": 6,
   "metadata": {},
   "outputs": [
    {
     "data": {
      "text/html": [
       "<h2>Meta's Ever-Changing Transparency Disclosures</h2>"
      ],
      "text/plain": [
       "<IPython.core.display.HTML object>"
      ]
     },
     "metadata": {},
     "output_type": "display_data"
    },
    {
     "data": {
      "text/html": [
       "<style type=\"text/css\">\n",
       "#T_6fc50 caption {\n",
       "  caption-side: bottom;\n",
       "  font-style: italic;\n",
       "  margin-top: 1ex;\n",
       "}\n",
       "</style>\n",
       "<table id=\"T_6fc50\">\n",
       "  <caption>Δ(Q2-2022 / Q3-2022)</caption>\n",
       "  <thead>\n",
       "    <tr>\n",
       "      <th class=\"blank level0\" >&nbsp;</th>\n",
       "      <th id=\"T_6fc50_level0_col0\" class=\"col_heading level0 col0\" >divergent</th>\n",
       "    </tr>\n",
       "    <tr>\n",
       "      <th class=\"index_name level0\" >period</th>\n",
       "      <th class=\"blank col0\" >&nbsp;</th>\n",
       "    </tr>\n",
       "  </thead>\n",
       "  <tbody>\n",
       "    <tr>\n",
       "      <th id=\"T_6fc50_level0_row0\" class=\"row_heading level0 row0\" >2020 Q4</th>\n",
       "      <td id=\"T_6fc50_row0_col0\" class=\"data row0 col0\" >77</td>\n",
       "    </tr>\n",
       "    <tr>\n",
       "      <th id=\"T_6fc50_level0_row1\" class=\"row_heading level0 row1\" >2021 Q1</th>\n",
       "      <td id=\"T_6fc50_row1_col0\" class=\"data row1 col0\" >3</td>\n",
       "    </tr>\n",
       "    <tr>\n",
       "      <th id=\"T_6fc50_level0_row2\" class=\"row_heading level0 row2\" >2021 Q2</th>\n",
       "      <td id=\"T_6fc50_row2_col0\" class=\"data row2 col0\" >4</td>\n",
       "    </tr>\n",
       "    <tr>\n",
       "      <th id=\"T_6fc50_level0_row3\" class=\"row_heading level0 row3\" >2022 Q2</th>\n",
       "      <td id=\"T_6fc50_row3_col0\" class=\"data row3 col0\" >29</td>\n",
       "    </tr>\n",
       "  </tbody>\n",
       "</table>\n"
      ],
      "text/plain": [
       "<IPython.core.display.HTML object>"
      ]
     },
     "metadata": {},
     "output_type": "display_data"
    },
    {
     "data": {
      "text/html": [
       "<style type=\"text/css\">\n",
       "#T_c3958 caption {\n",
       "  caption-side: bottom;\n",
       "  font-style: italic;\n",
       "  margin-top: 1ex;\n",
       "}\n",
       "</style>\n",
       "<table id=\"T_c3958\">\n",
       "  <caption>Δ(Q3-2022 / Q4-2022)</caption>\n",
       "  <thead>\n",
       "    <tr>\n",
       "      <th class=\"blank level0\" >&nbsp;</th>\n",
       "      <th id=\"T_c3958_level0_col0\" class=\"col_heading level0 col0\" >divergent</th>\n",
       "    </tr>\n",
       "    <tr>\n",
       "      <th class=\"index_name level0\" >period</th>\n",
       "      <th class=\"blank col0\" >&nbsp;</th>\n",
       "    </tr>\n",
       "  </thead>\n",
       "  <tbody>\n",
       "    <tr>\n",
       "      <th id=\"T_c3958_level0_row0\" class=\"row_heading level0 row0\" >2020 Q2</th>\n",
       "      <td id=\"T_c3958_row0_col0\" class=\"data row0 col0\" >67</td>\n",
       "    </tr>\n",
       "    <tr>\n",
       "      <th id=\"T_c3958_level0_row1\" class=\"row_heading level0 row1\" >2020 Q3</th>\n",
       "      <td id=\"T_c3958_row1_col0\" class=\"data row1 col0\" >60</td>\n",
       "    </tr>\n",
       "    <tr>\n",
       "      <th id=\"T_c3958_level0_row2\" class=\"row_heading level0 row2\" >2020 Q4</th>\n",
       "      <td id=\"T_c3958_row2_col0\" class=\"data row2 col0\" >58</td>\n",
       "    </tr>\n",
       "    <tr>\n",
       "      <th id=\"T_c3958_level0_row3\" class=\"row_heading level0 row3\" >2022 Q3</th>\n",
       "      <td id=\"T_c3958_row3_col0\" class=\"data row3 col0\" >18</td>\n",
       "    </tr>\n",
       "  </tbody>\n",
       "</table>\n"
      ],
      "text/plain": [
       "<IPython.core.display.HTML object>"
      ]
     },
     "metadata": {},
     "output_type": "display_data"
    }
   ],
   "source": [
    "show_html(h2=\"Meta's Ever-Changing Transparency Disclosures\")\n",
    "\n",
    "meta_disclosures = meta.read_all('data', '2022q2', '2022q4')\n",
    "meta_differences = meta.diff_all(meta_disclosures)\n",
    "\n",
    "for p1, delta in meta_differences.items():\n",
    "    divergent = (\n",
    "        delta\n",
    "        .groupby('period')\n",
    "        .size()\n",
    "        .to_frame()\n",
    "        .rename(columns={0: 'divergent'})\n",
    "    )\n",
    "\n",
    "    p2 = p1 + 1\n",
    "    title = f'Δ(Q{p1.quarter}-{p1.year} / Q{p2.quarter}-{p2.year})'\n",
    "    show_table(divergent, title=title)\n"
   ]
  }
 ],
 "metadata": {
  "kernelspec": {
   "display_name": ".venv",
   "language": "python",
   "name": "python3"
  },
  "language_info": {
   "codemirror_mode": {
    "name": "ipython",
    "version": 3
   },
   "file_extension": ".py",
   "mimetype": "text/x-python",
   "name": "python",
   "nbconvert_exporter": "python",
   "pygments_lexer": "ipython3",
   "version": "3.11.1"
  },
  "orig_nbformat": 4
 },
 "nbformat": 4,
 "nbformat_minor": 2
}
