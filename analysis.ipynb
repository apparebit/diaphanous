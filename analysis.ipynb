{
 "cells": [
  {
   "cell_type": "code",
   "execution_count": 1,
   "metadata": {},
   "outputs": [
    {
     "data": {
      "text/html": [
       "<h1>CSAM Reports per Country</h1><h2>Prelude</h2>"
      ],
      "text/plain": [
       "<IPython.core.display.HTML object>"
      ]
     },
     "metadata": {},
     "output_type": "display_data"
    },
    {
     "data": {
      "text/html": [
       "<p>Table <strong>reports</strong> with 992 rows covers 248 countries:</p><ul><li>index iso3: category</li><li>index year: category</li><li>column reports: int64, all values non-null</li><li>column reports_pct: float64, all values non-null</li></ul>"
      ],
      "text/plain": [
       "<IPython.core.display.HTML object>"
      ]
     },
     "metadata": {},
     "output_type": "display_data"
    },
    {
     "data": {
      "text/html": [
       "<p>Table <strong>populations</strong> with 944 rows covers 236 countries:</p><ul><li>index iso3: category</li><li>index year: category</li><li>column population: int64, all values non-null</li><li>column population_pct: float64, all values non-null</li></ul>"
      ],
      "text/plain": [
       "<IPython.core.display.HTML object>"
      ]
     },
     "metadata": {},
     "output_type": "display_data"
    },
    {
     "data": {
      "text/html": [
       "<p>Table <strong>countries</strong> with 251 rows:</p><ul><li>index iso3: category</li><li>column country: object, all values non-null</li><li>column region: object, all values non-null</li></ul>"
      ],
      "text/plain": [
       "<IPython.core.display.HTML object>"
      ]
     },
     "metadata": {},
     "output_type": "display_data"
    },
    {
     "data": {
      "text/html": [
       "<p>Table <strong>regions</strong> with 26 rows:</p><ul><li>index: int64</li><li>column superregion: object, all values non-null</li><li>column region: object, all values non-null</li><li>column continent: object, all values non-null</li></ul>"
      ],
      "text/plain": [
       "<IPython.core.display.HTML object>"
      ]
     },
     "metadata": {},
     "output_type": "display_data"
    },
    {
     "data": {
      "text/html": [
       "<p>Table <strong>reports per capita per country</strong> with 944 rows:</p><ul><li>index iso3: category</li><li>index year: category</li><li>column reports: int64, all values non-null</li><li>column reports_pct: float64, all values non-null</li><li>column population: int64, all values non-null</li><li>column population_pct: float64, all values non-null</li><li>column reports_per_capita: float64, all values non-null</li><li>column country: object, all values non-null</li><li>column region: object, all values non-null</li><li>column superregion: object, all values non-null</li><li>column continent: object, all values non-null</li></ul>"
      ],
      "text/plain": [
       "<IPython.core.display.HTML object>"
      ]
     },
     "metadata": {},
     "output_type": "display_data"
    },
    {
     "data": {
      "text/html": [
       "<p>12 countries with reports have no population statistics. They also account for very few reports.</p>"
      ],
      "text/plain": [
       "<IPython.core.display.HTML object>"
      ]
     },
     "metadata": {},
     "output_type": "display_data"
    },
    {
     "data": {
      "text/html": [
       "<style type=\"text/css\">\n",
       "#T_8dc94 caption {\n",
       "  caption-side: bottom;\n",
       "  font-style: italic;\n",
       "  margin-top: 1ex;\n",
       "}\n",
       "</style>\n",
       "<table id=\"T_8dc94\">\n",
       "  <caption>Reports of countries without population</caption>\n",
       "  <thead>\n",
       "    <tr>\n",
       "      <th class=\"blank level0\" >&nbsp;</th>\n",
       "      <th id=\"T_8dc94_level0_col0\" class=\"col_heading level0 col0\" >reports</th>\n",
       "      <th id=\"T_8dc94_level0_col1\" class=\"col_heading level0 col1\" >reports_pct</th>\n",
       "    </tr>\n",
       "    <tr>\n",
       "      <th class=\"index_name level0\" >year</th>\n",
       "      <th class=\"blank col0\" >&nbsp;</th>\n",
       "      <th class=\"blank col1\" >&nbsp;</th>\n",
       "    </tr>\n",
       "  </thead>\n",
       "  <tbody>\n",
       "    <tr>\n",
       "      <th id=\"T_8dc94_level0_row0\" class=\"row_heading level0 row0\" >2019</th>\n",
       "      <td id=\"T_8dc94_row0_col0\" class=\"data row0 col0\" >28</td>\n",
       "      <td id=\"T_8dc94_row0_col1\" class=\"data row0 col1\" >0.000165</td>\n",
       "    </tr>\n",
       "    <tr>\n",
       "      <th id=\"T_8dc94_level0_row1\" class=\"row_heading level0 row1\" >2020</th>\n",
       "      <td id=\"T_8dc94_row1_col0\" class=\"data row1 col0\" >97</td>\n",
       "      <td id=\"T_8dc94_row1_col1\" class=\"data row1 col1\" >0.000446</td>\n",
       "    </tr>\n",
       "    <tr>\n",
       "      <th id=\"T_8dc94_level0_row2\" class=\"row_heading level0 row2\" >2021</th>\n",
       "      <td id=\"T_8dc94_row2_col0\" class=\"data row2 col0\" >243</td>\n",
       "      <td id=\"T_8dc94_row2_col1\" class=\"data row2 col1\" >0.000827</td>\n",
       "    </tr>\n",
       "    <tr>\n",
       "      <th id=\"T_8dc94_level0_row3\" class=\"row_heading level0 row3\" >2022</th>\n",
       "      <td id=\"T_8dc94_row3_col0\" class=\"data row3 col0\" >117</td>\n",
       "      <td id=\"T_8dc94_row3_col1\" class=\"data row3 col1\" >0.000365</td>\n",
       "    </tr>\n",
       "  </tbody>\n",
       "</table>\n"
      ],
      "text/plain": [
       "<IPython.core.display.HTML object>"
      ]
     },
     "metadata": {},
     "output_type": "display_data"
    }
   ],
   "source": [
    "from intransparent import (\n",
    "    YEAR_LABELS,\n",
    "    ingest_reports_per_country,\n",
    "    without_populations,\n",
    "    reports_per_capita_country_year,\n",
    "\n",
    "    REPORTS_PER_PLATFORM,\n",
    "    ingest_reports_per_platform,\n",
    "    compare_all_platform_reports,\n",
    "\n",
    "    show_html,\n",
    "    show_info,\n",
    "    show_table,\n",
    ")\n",
    "\n",
    "import intransparent.meta as meta\n",
    "\n",
    "show_html(h1='CSAM Reports per Country', h2='Prelude')\n",
    "\n",
    "country_data = ingest_reports_per_country('./data', logger=show_info)\n",
    "\n",
    "countries_without, reports_without = (\n",
    "    without_populations(country_data.reports, country_data.populations))\n",
    "show_html(\n",
    "    f'{countries_without.shape[0]} countries with reports have no population '\n",
    "    'statistics. They also account for very few reports.')\n",
    "show_table(reports_without, title='Reports of countries without population')\n"
   ]
  },
  {
   "cell_type": "code",
   "execution_count": 2,
   "metadata": {},
   "outputs": [
    {
     "data": {
      "text/html": [
       "<h2>Regions with Most CSAM Reports</h2><p>Selection does <em>not</em> take population counts into consideration.</p>"
      ],
      "text/plain": [
       "<IPython.core.display.HTML object>"
      ]
     },
     "metadata": {},
     "output_type": "display_data"
    },
    {
     "data": {
      "text/html": [
       "<style type=\"text/css\">\n",
       "#T_1c8ea caption {\n",
       "  caption-side: bottom;\n",
       "  font-style: italic;\n",
       "  margin-top: 1ex;\n",
       "}\n",
       "#T_1c8ea_row0_col0, #T_1c8ea_row0_col1, #T_1c8ea_row1_col0, #T_1c8ea_row1_col1, #T_1c8ea_row2_col0, #T_1c8ea_row2_col1, #T_1c8ea_row3_col0, #T_1c8ea_row3_col1, #T_1c8ea_row4_col0, #T_1c8ea_row4_col1, #T_1c8ea_row5_col0, #T_1c8ea_row5_col1, #T_1c8ea_row6_col0, #T_1c8ea_row6_col1, #T_1c8ea_row7_col0, #T_1c8ea_row7_col1, #T_1c8ea_row8_col0, #T_1c8ea_row8_col1, #T_1c8ea_row9_col0, #T_1c8ea_row9_col1, #T_1c8ea_row10_col0, #T_1c8ea_row10_col1, #T_1c8ea_row11_col0, #T_1c8ea_row11_col1, #T_1c8ea_row12_col0, #T_1c8ea_row12_col1, #T_1c8ea_row13_col0, #T_1c8ea_row13_col1, #T_1c8ea_row14_col0, #T_1c8ea_row14_col1, #T_1c8ea_row15_col0, #T_1c8ea_row15_col1, #T_1c8ea_row16_col0, #T_1c8ea_row16_col1, #T_1c8ea_row17_col0, #T_1c8ea_row17_col1, #T_1c8ea_row18_col0, #T_1c8ea_row18_col1, #T_1c8ea_row19_col0, #T_1c8ea_row19_col1 {\n",
       "  background-color: #ffffb3;\n",
       "}\n",
       "</style>\n",
       "<table id=\"T_1c8ea\">\n",
       "  <caption>Regions with most CSAM Reports 2019</caption>\n",
       "  <thead>\n",
       "    <tr>\n",
       "      <th class=\"blank\" >&nbsp;</th>\n",
       "      <th class=\"blank level0\" >&nbsp;</th>\n",
       "      <th id=\"T_1c8ea_level0_col0\" class=\"col_heading level0 col0\" >reports</th>\n",
       "      <th id=\"T_1c8ea_level0_col1\" class=\"col_heading level0 col1\" >reports_pct</th>\n",
       "      <th id=\"T_1c8ea_level0_col2\" class=\"col_heading level0 col2\" >population</th>\n",
       "      <th id=\"T_1c8ea_level0_col3\" class=\"col_heading level0 col3\" >population_pct</th>\n",
       "      <th id=\"T_1c8ea_level0_col4\" class=\"col_heading level0 col4\" >reports_per_capita</th>\n",
       "    </tr>\n",
       "    <tr>\n",
       "      <th class=\"index_name level0\" >year</th>\n",
       "      <th class=\"index_name level1\" >region</th>\n",
       "      <th class=\"blank col0\" >&nbsp;</th>\n",
       "      <th class=\"blank col1\" >&nbsp;</th>\n",
       "      <th class=\"blank col2\" >&nbsp;</th>\n",
       "      <th class=\"blank col3\" >&nbsp;</th>\n",
       "      <th class=\"blank col4\" >&nbsp;</th>\n",
       "    </tr>\n",
       "  </thead>\n",
       "  <tbody>\n",
       "    <tr>\n",
       "      <th id=\"T_1c8ea_level0_row0\" class=\"row_heading level0 row0\" rowspan=\"20\">2019</th>\n",
       "      <th id=\"T_1c8ea_level1_row0\" class=\"row_heading level1 row0\" >Southern Asia</th>\n",
       "      <td id=\"T_1c8ea_row0_col0\" class=\"data row0 col0\" >4,072,192</td>\n",
       "      <td id=\"T_1c8ea_row0_col1\" class=\"data row0 col1\" >23.971893</td>\n",
       "      <td id=\"T_1c8ea_row0_col2\" class=\"data row0 col2\" >1,948,009,381</td>\n",
       "      <td id=\"T_1c8ea_row0_col3\" class=\"data row0 col3\" >25.087209</td>\n",
       "      <td id=\"T_1c8ea_row0_col4\" class=\"data row0 col4\" >0.036218</td>\n",
       "    </tr>\n",
       "    <tr>\n",
       "      <th id=\"T_1c8ea_level1_row1\" class=\"row_heading level1 row1\" >South-Eastern Asia</th>\n",
       "      <td id=\"T_1c8ea_row1_col0\" class=\"data row1 col0\" >2,930,393</td>\n",
       "      <td id=\"T_1c8ea_row1_col1\" class=\"data row1 col1\" >17.250431</td>\n",
       "      <td id=\"T_1c8ea_row1_col2\" class=\"data row1 col2\" >663,897,086</td>\n",
       "      <td id=\"T_1c8ea_row1_col3\" class=\"data row1 col3\" >8.549920</td>\n",
       "      <td id=\"T_1c8ea_row1_col4\" class=\"data row1 col4\" >0.047123</td>\n",
       "    </tr>\n",
       "    <tr>\n",
       "      <th id=\"T_1c8ea_level1_row2\" class=\"row_heading level1 row2\" >Western Asia</th>\n",
       "      <td id=\"T_1c8ea_row2_col0\" class=\"data row2 col0\" >2,592,785</td>\n",
       "      <td id=\"T_1c8ea_row2_col1\" class=\"data row2 col1\" >15.263024</td>\n",
       "      <td id=\"T_1c8ea_row2_col2\" class=\"data row2 col2\" >281,896,911</td>\n",
       "      <td id=\"T_1c8ea_row2_col3\" class=\"data row2 col3\" >3.630376</td>\n",
       "      <td id=\"T_1c8ea_row2_col4\" class=\"data row2 col4\" >0.172060</td>\n",
       "    </tr>\n",
       "    <tr>\n",
       "      <th id=\"T_1c8ea_level1_row3\" class=\"row_heading level1 row3\" >North America</th>\n",
       "      <td id=\"T_1c8ea_row3_col0\" class=\"data row3 col0\" >2,226,879</td>\n",
       "      <td id=\"T_1c8ea_row3_col1\" class=\"data row3 col1\" >13.109034</td>\n",
       "      <td id=\"T_1c8ea_row3_col2\" class=\"data row3 col2\" >371,967,924</td>\n",
       "      <td id=\"T_1c8ea_row3_col3\" class=\"data row3 col3\" >4.790345</td>\n",
       "      <td id=\"T_1c8ea_row3_col4\" class=\"data row3 col4\" >0.010929</td>\n",
       "    </tr>\n",
       "    <tr>\n",
       "      <th id=\"T_1c8ea_level1_row4\" class=\"row_heading level1 row4\" >Northern Africa</th>\n",
       "      <td id=\"T_1c8ea_row4_col0\" class=\"data row4 col0\" >1,532,676</td>\n",
       "      <td id=\"T_1c8ea_row4_col1\" class=\"data row4 col1\" >9.022449</td>\n",
       "      <td id=\"T_1c8ea_row4_col2\" class=\"data row4 col2\" >247,023,819</td>\n",
       "      <td id=\"T_1c8ea_row4_col3\" class=\"data row4 col3\" >3.181267</td>\n",
       "      <td id=\"T_1c8ea_row4_col4\" class=\"data row4 col4\" >0.056731</td>\n",
       "    </tr>\n",
       "    <tr>\n",
       "      <th id=\"T_1c8ea_level1_row5\" class=\"row_heading level1 row5\" >South America</th>\n",
       "      <td id=\"T_1c8ea_row5_col0\" class=\"data row5 col0\" >1,085,900</td>\n",
       "      <td id=\"T_1c8ea_row5_col1\" class=\"data row5 col1\" >6.392400</td>\n",
       "      <td id=\"T_1c8ea_row5_col2\" class=\"data row5 col2\" >428,318,165</td>\n",
       "      <td id=\"T_1c8ea_row5_col3\" class=\"data row5 col3\" >5.516045</td>\n",
       "      <td id=\"T_1c8ea_row5_col4\" class=\"data row5 col4\" >0.036619</td>\n",
       "    </tr>\n",
       "    <tr>\n",
       "      <th id=\"T_1c8ea_level1_row6\" class=\"row_heading level1 row6\" >Central America</th>\n",
       "      <td id=\"T_1c8ea_row6_col0\" class=\"data row6 col0\" >998,465</td>\n",
       "      <td id=\"T_1c8ea_row6_col1\" class=\"data row6 col1\" >5.877693</td>\n",
       "      <td id=\"T_1c8ea_row6_col2\" class=\"data row6 col2\" >174,800,778</td>\n",
       "      <td id=\"T_1c8ea_row6_col3\" class=\"data row6 col3\" >2.251151</td>\n",
       "      <td id=\"T_1c8ea_row6_col4\" class=\"data row6 col4\" >0.030017</td>\n",
       "    </tr>\n",
       "    <tr>\n",
       "      <th id=\"T_1c8ea_level1_row7\" class=\"row_heading level1 row7\" >Eastern Europe</th>\n",
       "      <td id=\"T_1c8ea_row7_col0\" class=\"data row7 col0\" >388,955</td>\n",
       "      <td id=\"T_1c8ea_row7_col1\" class=\"data row7 col1\" >2.289673</td>\n",
       "      <td id=\"T_1c8ea_row7_col2\" class=\"data row7 col2\" >293,569,779</td>\n",
       "      <td id=\"T_1c8ea_row7_col3\" class=\"data row7 col3\" >3.780704</td>\n",
       "      <td id=\"T_1c8ea_row7_col4\" class=\"data row7 col4\" >0.022998</td>\n",
       "    </tr>\n",
       "    <tr>\n",
       "      <th id=\"T_1c8ea_level1_row8\" class=\"row_heading level1 row8\" >Southern Europe</th>\n",
       "      <td id=\"T_1c8ea_row8_col0\" class=\"data row8 col0\" >256,014</td>\n",
       "      <td id=\"T_1c8ea_row8_col1\" class=\"data row8 col1\" >1.507085</td>\n",
       "      <td id=\"T_1c8ea_row8_col2\" class=\"data row8 col2\" >153,908,666</td>\n",
       "      <td id=\"T_1c8ea_row8_col3\" class=\"data row8 col3\" >1.982095</td>\n",
       "      <td id=\"T_1c8ea_row8_col4\" class=\"data row8 col4\" >0.047284</td>\n",
       "    </tr>\n",
       "    <tr>\n",
       "      <th id=\"T_1c8ea_level1_row9\" class=\"row_heading level1 row9\" >Western Europe</th>\n",
       "      <td id=\"T_1c8ea_row9_col0\" class=\"data row9 col0\" >227,164</td>\n",
       "      <td id=\"T_1c8ea_row9_col1\" class=\"data row9 col1\" >1.337253</td>\n",
       "      <td id=\"T_1c8ea_row9_col2\" class=\"data row9 col2\" >194,572,748</td>\n",
       "      <td id=\"T_1c8ea_row9_col3\" class=\"data row9 col3\" >2.505782</td>\n",
       "      <td id=\"T_1c8ea_row9_col4\" class=\"data row9 col4\" >0.019688</td>\n",
       "    </tr>\n",
       "    <tr>\n",
       "      <th id=\"T_1c8ea_level1_row10\" class=\"row_heading level1 row10\" >Eastern Asia</th>\n",
       "      <td id=\"T_1c8ea_row10_col0\" class=\"data row10 col0\" >159,427</td>\n",
       "      <td id=\"T_1c8ea_row10_col1\" class=\"data row10 col1\" >0.938504</td>\n",
       "      <td id=\"T_1c8ea_row10_col2\" class=\"data row10 col2\" >1,660,384,922</td>\n",
       "      <td id=\"T_1c8ea_row10_col3\" class=\"data row10 col3\" >21.383071</td>\n",
       "      <td id=\"T_1c8ea_row10_col4\" class=\"data row10 col4\" >0.007062</td>\n",
       "    </tr>\n",
       "    <tr>\n",
       "      <th id=\"T_1c8ea_level1_row11\" class=\"row_heading level1 row11\" >Northern Europe</th>\n",
       "      <td id=\"T_1c8ea_row11_col0\" class=\"data row11 col0\" >132,235</td>\n",
       "      <td id=\"T_1c8ea_row11_col1\" class=\"data row11 col1\" >0.778432</td>\n",
       "      <td id=\"T_1c8ea_row11_col2\" class=\"data row11 col2\" >105,197,361</td>\n",
       "      <td id=\"T_1c8ea_row11_col3\" class=\"data row11 col3\" >1.354772</td>\n",
       "      <td id=\"T_1c8ea_row11_col4\" class=\"data row11 col4\" >0.017159</td>\n",
       "    </tr>\n",
       "    <tr>\n",
       "      <th id=\"T_1c8ea_level1_row12\" class=\"row_heading level1 row12\" >Western Africa</th>\n",
       "      <td id=\"T_1c8ea_row12_col0\" class=\"data row12 col0\" >100,518</td>\n",
       "      <td id=\"T_1c8ea_row12_col1\" class=\"data row12 col1\" >0.591722</td>\n",
       "      <td id=\"T_1c8ea_row12_col2\" class=\"data row12 col2\" >397,826,434</td>\n",
       "      <td id=\"T_1c8ea_row12_col3\" class=\"data row12 col3\" >5.123361</td>\n",
       "      <td id=\"T_1c8ea_row12_col4\" class=\"data row12 col4\" >0.009413</td>\n",
       "    </tr>\n",
       "    <tr>\n",
       "      <th id=\"T_1c8ea_level1_row13\" class=\"row_heading level1 row13\" >Eastern Africa</th>\n",
       "      <td id=\"T_1c8ea_row13_col0\" class=\"data row13 col0\" >84,994</td>\n",
       "      <td id=\"T_1c8ea_row13_col1\" class=\"data row13 col1\" >0.500337</td>\n",
       "      <td id=\"T_1c8ea_row13_col2\" class=\"data row13 col2\" >437,462,046</td>\n",
       "      <td id=\"T_1c8ea_row13_col3\" class=\"data row13 col3\" >5.633803</td>\n",
       "      <td id=\"T_1c8ea_row13_col4\" class=\"data row13 col4\" >0.027411</td>\n",
       "    </tr>\n",
       "    <tr>\n",
       "      <th id=\"T_1c8ea_level1_row14\" class=\"row_heading level1 row14\" >Caribbean</th>\n",
       "      <td id=\"T_1c8ea_row14_col0\" class=\"data row14 col0\" >60,323</td>\n",
       "      <td id=\"T_1c8ea_row14_col1\" class=\"data row14 col1\" >0.355105</td>\n",
       "      <td id=\"T_1c8ea_row14_col2\" class=\"data row14 col2\" >43,727,829</td>\n",
       "      <td id=\"T_1c8ea_row14_col3\" class=\"data row14 col3\" >0.563144</td>\n",
       "      <td id=\"T_1c8ea_row14_col4\" class=\"data row14 col4\" >0.055689</td>\n",
       "    </tr>\n",
       "    <tr>\n",
       "      <th id=\"T_1c8ea_level1_row15\" class=\"row_heading level1 row15\" >Southern Africa</th>\n",
       "      <td id=\"T_1c8ea_row15_col0\" class=\"data row15 col0\" >41,647</td>\n",
       "      <td id=\"T_1c8ea_row15_col1\" class=\"data row15 col1\" >0.245165</td>\n",
       "      <td id=\"T_1c8ea_row15_col2\" class=\"data row15 col2\" >66,428,717</td>\n",
       "      <td id=\"T_1c8ea_row15_col3\" class=\"data row15 col3\" >0.855494</td>\n",
       "      <td id=\"T_1c8ea_row15_col4\" class=\"data row15 col4\" >0.002270</td>\n",
       "    </tr>\n",
       "    <tr>\n",
       "      <th id=\"T_1c8ea_level1_row16\" class=\"row_heading level1 row16\" >Australia and New Zealand</th>\n",
       "      <td id=\"T_1c8ea_row16_col0\" class=\"data row16 col0\" >38,618</td>\n",
       "      <td id=\"T_1c8ea_row16_col1\" class=\"data row16 col1\" >0.227334</td>\n",
       "      <td id=\"T_1c8ea_row16_col2\" class=\"data row16 col2\" >30,316,204</td>\n",
       "      <td id=\"T_1c8ea_row16_col3\" class=\"data row16 col3\" >0.390424</td>\n",
       "      <td id=\"T_1c8ea_row16_col4\" class=\"data row16 col4\" >0.002330</td>\n",
       "    </tr>\n",
       "    <tr>\n",
       "      <th id=\"T_1c8ea_level1_row17\" class=\"row_heading level1 row17\" >Central Asia</th>\n",
       "      <td id=\"T_1c8ea_row17_col0\" class=\"data row17 col0\" >26,891</td>\n",
       "      <td id=\"T_1c8ea_row17_col1\" class=\"data row17 col1\" >0.158300</td>\n",
       "      <td id=\"T_1c8ea_row17_col2\" class=\"data row17 col2\" >73,550,272</td>\n",
       "      <td id=\"T_1c8ea_row17_col3\" class=\"data row17 col3\" >0.947209</td>\n",
       "      <td id=\"T_1c8ea_row17_col4\" class=\"data row17 col4\" >0.002267</td>\n",
       "    </tr>\n",
       "    <tr>\n",
       "      <th id=\"T_1c8ea_level1_row18\" class=\"row_heading level1 row18\" >Middle Africa</th>\n",
       "      <td id=\"T_1c8ea_row18_col0\" class=\"data row18 col0\" >23,395</td>\n",
       "      <td id=\"T_1c8ea_row18_col1\" class=\"data row18 col1\" >0.137720</td>\n",
       "      <td id=\"T_1c8ea_row18_col2\" class=\"data row18 col2\" >178,960,160</td>\n",
       "      <td id=\"T_1c8ea_row18_col3\" class=\"data row18 col3\" >2.304717</td>\n",
       "      <td id=\"T_1c8ea_row18_col4\" class=\"data row18 col4\" >0.004665</td>\n",
       "    </tr>\n",
       "    <tr>\n",
       "      <th id=\"T_1c8ea_level1_row19\" class=\"row_heading level1 row19\" >Melanesia</th>\n",
       "      <td id=\"T_1c8ea_row19_col0\" class=\"data row19 col0\" >6,215</td>\n",
       "      <td id=\"T_1c8ea_row19_col1\" class=\"data row19 col1\" >0.036586</td>\n",
       "      <td id=\"T_1c8ea_row19_col2\" class=\"data row19 col2\" >11,725,723</td>\n",
       "      <td id=\"T_1c8ea_row19_col3\" class=\"data row19 col3\" >0.151008</td>\n",
       "      <td id=\"T_1c8ea_row19_col4\" class=\"data row19 col4\" >0.007541</td>\n",
       "    </tr>\n",
       "  </tbody>\n",
       "</table>\n"
      ],
      "text/plain": [
       "<IPython.core.display.HTML object>"
      ]
     },
     "metadata": {},
     "output_type": "display_data"
    },
    {
     "data": {
      "text/html": [
       "<style type=\"text/css\">\n",
       "#T_2280e caption {\n",
       "  caption-side: bottom;\n",
       "  font-style: italic;\n",
       "  margin-top: 1ex;\n",
       "}\n",
       "#T_2280e_row0_col0, #T_2280e_row0_col1, #T_2280e_row1_col0, #T_2280e_row1_col1, #T_2280e_row2_col0, #T_2280e_row2_col1, #T_2280e_row3_col0, #T_2280e_row3_col1, #T_2280e_row4_col0, #T_2280e_row4_col1, #T_2280e_row5_col0, #T_2280e_row5_col1, #T_2280e_row6_col0, #T_2280e_row6_col1, #T_2280e_row7_col0, #T_2280e_row7_col1, #T_2280e_row8_col0, #T_2280e_row8_col1, #T_2280e_row9_col0, #T_2280e_row9_col1, #T_2280e_row10_col0, #T_2280e_row10_col1, #T_2280e_row11_col0, #T_2280e_row11_col1, #T_2280e_row12_col0, #T_2280e_row12_col1, #T_2280e_row13_col0, #T_2280e_row13_col1, #T_2280e_row14_col0, #T_2280e_row14_col1, #T_2280e_row15_col0, #T_2280e_row15_col1, #T_2280e_row16_col0, #T_2280e_row16_col1, #T_2280e_row17_col0, #T_2280e_row17_col1, #T_2280e_row18_col0, #T_2280e_row18_col1, #T_2280e_row19_col0, #T_2280e_row19_col1 {\n",
       "  background-color: #ffffb3;\n",
       "}\n",
       "</style>\n",
       "<table id=\"T_2280e\">\n",
       "  <caption>Regions with most CSAM Reports 2020</caption>\n",
       "  <thead>\n",
       "    <tr>\n",
       "      <th class=\"blank\" >&nbsp;</th>\n",
       "      <th class=\"blank level0\" >&nbsp;</th>\n",
       "      <th id=\"T_2280e_level0_col0\" class=\"col_heading level0 col0\" >reports</th>\n",
       "      <th id=\"T_2280e_level0_col1\" class=\"col_heading level0 col1\" >reports_pct</th>\n",
       "      <th id=\"T_2280e_level0_col2\" class=\"col_heading level0 col2\" >population</th>\n",
       "      <th id=\"T_2280e_level0_col3\" class=\"col_heading level0 col3\" >population_pct</th>\n",
       "      <th id=\"T_2280e_level0_col4\" class=\"col_heading level0 col4\" >reports_per_capita</th>\n",
       "    </tr>\n",
       "    <tr>\n",
       "      <th class=\"index_name level0\" >year</th>\n",
       "      <th class=\"index_name level1\" >region</th>\n",
       "      <th class=\"blank col0\" >&nbsp;</th>\n",
       "      <th class=\"blank col1\" >&nbsp;</th>\n",
       "      <th class=\"blank col2\" >&nbsp;</th>\n",
       "      <th class=\"blank col3\" >&nbsp;</th>\n",
       "      <th class=\"blank col4\" >&nbsp;</th>\n",
       "    </tr>\n",
       "  </thead>\n",
       "  <tbody>\n",
       "    <tr>\n",
       "      <th id=\"T_2280e_level0_row0\" class=\"row_heading level0 row0\" rowspan=\"20\">2020</th>\n",
       "      <th id=\"T_2280e_level1_row0\" class=\"row_heading level1 row0\" >Southern Asia</th>\n",
       "      <td id=\"T_2280e_row0_col0\" class=\"data row0 col0\" >5,423,421</td>\n",
       "      <td id=\"T_2280e_row0_col1\" class=\"data row0 col1\" >24.934025</td>\n",
       "      <td id=\"T_2280e_row0_col2\" class=\"data row0 col2\" >1,969,617,895</td>\n",
       "      <td id=\"T_2280e_row0_col3\" class=\"data row0 col3\" >25.119626</td>\n",
       "      <td id=\"T_2280e_row0_col4\" class=\"data row0 col4\" >0.062001</td>\n",
       "    </tr>\n",
       "    <tr>\n",
       "      <th id=\"T_2280e_level1_row1\" class=\"row_heading level1 row1\" >South-Eastern Asia</th>\n",
       "      <td id=\"T_2280e_row1_col0\" class=\"data row1 col0\" >4,331,450</td>\n",
       "      <td id=\"T_2280e_row1_col1\" class=\"data row1 col1\" >19.913719</td>\n",
       "      <td id=\"T_2280e_row1_col2\" class=\"data row1 col2\" >670,164,339</td>\n",
       "      <td id=\"T_2280e_row1_col3\" class=\"data row1 col3\" >8.546976</td>\n",
       "      <td id=\"T_2280e_row1_col4\" class=\"data row1 col4\" >0.066831</td>\n",
       "    </tr>\n",
       "    <tr>\n",
       "      <th id=\"T_2280e_level1_row2\" class=\"row_heading level1 row2\" >Northern Africa</th>\n",
       "      <td id=\"T_2280e_row2_col0\" class=\"data row2 col0\" >2,665,168</td>\n",
       "      <td id=\"T_2280e_row2_col1\" class=\"data row2 col1\" >12.253035</td>\n",
       "      <td id=\"T_2280e_row2_col2\" class=\"data row2 col2\" >251,417,771</td>\n",
       "      <td id=\"T_2280e_row2_col3\" class=\"data row2 col3\" >3.206470</td>\n",
       "      <td id=\"T_2280e_row2_col4\" class=\"data row2 col4\" >0.088981</td>\n",
       "    </tr>\n",
       "    <tr>\n",
       "      <th id=\"T_2280e_level1_row3\" class=\"row_heading level1 row3\" >Western Asia</th>\n",
       "      <td id=\"T_2280e_row3_col0\" class=\"data row3 col0\" >2,466,404</td>\n",
       "      <td id=\"T_2280e_row3_col1\" class=\"data row3 col1\" >11.339223</td>\n",
       "      <td id=\"T_2280e_row3_col2\" class=\"data row3 col2\" >285,400,157</td>\n",
       "      <td id=\"T_2280e_row3_col3\" class=\"data row3 col3\" >3.639866</td>\n",
       "      <td id=\"T_2280e_row3_col4\" class=\"data row3 col4\" >0.161639</td>\n",
       "    </tr>\n",
       "    <tr>\n",
       "      <th id=\"T_2280e_level1_row4\" class=\"row_heading level1 row4\" >South America</th>\n",
       "      <td id=\"T_2280e_row4_col0\" class=\"data row4 col0\" >2,318,004</td>\n",
       "      <td id=\"T_2280e_row4_col1\" class=\"data row4 col1\" >10.656958</td>\n",
       "      <td id=\"T_2280e_row4_col2\" class=\"data row4 col2\" >431,530,048</td>\n",
       "      <td id=\"T_2280e_row4_col3\" class=\"data row4 col3\" >5.503541</td>\n",
       "      <td id=\"T_2280e_row4_col4\" class=\"data row4 col4\" >0.078018</td>\n",
       "    </tr>\n",
       "    <tr>\n",
       "      <th id=\"T_2280e_level1_row5\" class=\"row_heading level1 row5\" >North America</th>\n",
       "      <td id=\"T_2280e_row5_col0\" class=\"data row5 col0\" >1,179,834</td>\n",
       "      <td id=\"T_2280e_row5_col1\" class=\"data row5 col1\" >5.424254</td>\n",
       "      <td id=\"T_2280e_row5_col2\" class=\"data row5 col2\" >373,956,673</td>\n",
       "      <td id=\"T_2280e_row5_col3\" class=\"data row5 col3\" >4.769276</td>\n",
       "      <td id=\"T_2280e_row5_col4\" class=\"data row5 col4\" >0.010638</td>\n",
       "    </tr>\n",
       "    <tr>\n",
       "      <th id=\"T_2280e_level1_row6\" class=\"row_heading level1 row6\" >Central America</th>\n",
       "      <td id=\"T_2280e_row6_col0\" class=\"data row6 col0\" >1,166,927</td>\n",
       "      <td id=\"T_2280e_row6_col1\" class=\"data row6 col1\" >5.364914</td>\n",
       "      <td id=\"T_2280e_row6_col2\" class=\"data row6 col2\" >176,343,834</td>\n",
       "      <td id=\"T_2280e_row6_col3\" class=\"data row6 col3\" >2.249010</td>\n",
       "      <td id=\"T_2280e_row6_col4\" class=\"data row6 col4\" >0.056281</td>\n",
       "    </tr>\n",
       "    <tr>\n",
       "      <th id=\"T_2280e_level1_row7\" class=\"row_heading level1 row7\" >Eastern Europe</th>\n",
       "      <td id=\"T_2280e_row7_col0\" class=\"data row7 col0\" >656,341</td>\n",
       "      <td id=\"T_2280e_row7_col1\" class=\"data row7 col1\" >3.017509</td>\n",
       "      <td id=\"T_2280e_row7_col2\" class=\"data row7 col2\" >292,833,373</td>\n",
       "      <td id=\"T_2280e_row7_col3\" class=\"data row7 col3\" >3.734666</td>\n",
       "      <td id=\"T_2280e_row7_col4\" class=\"data row7 col4\" >0.028045</td>\n",
       "    </tr>\n",
       "    <tr>\n",
       "      <th id=\"T_2280e_level1_row8\" class=\"row_heading level1 row8\" >Southern Europe</th>\n",
       "      <td id=\"T_2280e_row8_col0\" class=\"data row8 col0\" >319,052</td>\n",
       "      <td id=\"T_2280e_row8_col1\" class=\"data row8 col1\" >1.466833</td>\n",
       "      <td id=\"T_2280e_row8_col2\" class=\"data row8 col2\" >153,740,713</td>\n",
       "      <td id=\"T_2280e_row8_col3\" class=\"data row8 col3\" >1.960740</td>\n",
       "      <td id=\"T_2280e_row8_col4\" class=\"data row8 col4\" >0.061314</td>\n",
       "    </tr>\n",
       "    <tr>\n",
       "      <th id=\"T_2280e_level1_row9\" class=\"row_heading level1 row9\" >Western Europe</th>\n",
       "      <td id=\"T_2280e_row9_col0\" class=\"data row9 col0\" >251,219</td>\n",
       "      <td id=\"T_2280e_row9_col1\" class=\"data row9 col1\" >1.154972</td>\n",
       "      <td id=\"T_2280e_row9_col2\" class=\"data row9 col2\" >195,057,784</td>\n",
       "      <td id=\"T_2280e_row9_col3\" class=\"data row9 col3\" >2.487680</td>\n",
       "      <td id=\"T_2280e_row9_col4\" class=\"data row9 col4\" >0.035010</td>\n",
       "    </tr>\n",
       "    <tr>\n",
       "      <th id=\"T_2280e_level1_row10\" class=\"row_heading level1 row10\" >Eastern Asia</th>\n",
       "      <td id=\"T_2280e_row10_col0\" class=\"data row10 col0\" >188,573</td>\n",
       "      <td id=\"T_2280e_row10_col1\" class=\"data row10 col1\" >0.866959</td>\n",
       "      <td id=\"T_2280e_row10_col2\" class=\"data row10 col2\" >1,663,179,741</td>\n",
       "      <td id=\"T_2280e_row10_col3\" class=\"data row10 col3\" >21.211450</td>\n",
       "      <td id=\"T_2280e_row10_col4\" class=\"data row10 col4\" >0.009195</td>\n",
       "    </tr>\n",
       "    <tr>\n",
       "      <th id=\"T_2280e_level1_row11\" class=\"row_heading level1 row11\" >Eastern Africa</th>\n",
       "      <td id=\"T_2280e_row11_col0\" class=\"data row11 col0\" >147,154</td>\n",
       "      <td id=\"T_2280e_row11_col1\" class=\"data row11 col1\" >0.676536</td>\n",
       "      <td id=\"T_2280e_row11_col2\" class=\"data row11 col2\" >449,292,469</td>\n",
       "      <td id=\"T_2280e_row11_col3\" class=\"data row11 col3\" >5.730075</td>\n",
       "      <td id=\"T_2280e_row11_col4\" class=\"data row11 col4\" >0.024162</td>\n",
       "    </tr>\n",
       "    <tr>\n",
       "      <th id=\"T_2280e_level1_row12\" class=\"row_heading level1 row12\" >Caribbean</th>\n",
       "      <td id=\"T_2280e_row12_col0\" class=\"data row12 col0\" >145,585</td>\n",
       "      <td id=\"T_2280e_row12_col1\" class=\"data row12 col1\" >0.669323</td>\n",
       "      <td id=\"T_2280e_row12_col2\" class=\"data row12 col2\" >43,962,254</td>\n",
       "      <td id=\"T_2280e_row12_col3\" class=\"data row12 col3\" >0.560675</td>\n",
       "      <td id=\"T_2280e_row12_col4\" class=\"data row12 col4\" >0.074322</td>\n",
       "    </tr>\n",
       "    <tr>\n",
       "      <th id=\"T_2280e_level1_row13\" class=\"row_heading level1 row13\" >Northern Europe</th>\n",
       "      <td id=\"T_2280e_row13_col0\" class=\"data row13 col0\" >134,620</td>\n",
       "      <td id=\"T_2280e_row13_col1\" class=\"data row13 col1\" >0.618912</td>\n",
       "      <td id=\"T_2280e_row13_col2\" class=\"data row13 col2\" >105,659,404</td>\n",
       "      <td id=\"T_2280e_row13_col3\" class=\"data row13 col3\" >1.347533</td>\n",
       "      <td id=\"T_2280e_row13_col4\" class=\"data row13 col4\" >0.018099</td>\n",
       "    </tr>\n",
       "    <tr>\n",
       "      <th id=\"T_2280e_level1_row14\" class=\"row_heading level1 row14\" >Western Africa</th>\n",
       "      <td id=\"T_2280e_row14_col0\" class=\"data row14 col0\" >134,350</td>\n",
       "      <td id=\"T_2280e_row14_col1\" class=\"data row14 col1\" >0.617670</td>\n",
       "      <td id=\"T_2280e_row14_col2\" class=\"data row14 col2\" >408,124,922</td>\n",
       "      <td id=\"T_2280e_row14_col3\" class=\"data row14 col3\" >5.205043</td>\n",
       "      <td id=\"T_2280e_row14_col4\" class=\"data row14 col4\" >0.014453</td>\n",
       "    </tr>\n",
       "    <tr>\n",
       "      <th id=\"T_2280e_level1_row15\" class=\"row_heading level1 row15\" >Southern Africa</th>\n",
       "      <td id=\"T_2280e_row15_col0\" class=\"data row15 col0\" >117,256</td>\n",
       "      <td id=\"T_2280e_row15_col1\" class=\"data row15 col1\" >0.539081</td>\n",
       "      <td id=\"T_2280e_row15_col2\" class=\"data row15 col2\" >67,272,182</td>\n",
       "      <td id=\"T_2280e_row15_col3\" class=\"data row15 col3\" >0.857959</td>\n",
       "      <td id=\"T_2280e_row15_col4\" class=\"data row15 col4\" >0.006455</td>\n",
       "    </tr>\n",
       "    <tr>\n",
       "      <th id=\"T_2280e_level1_row16\" class=\"row_heading level1 row16\" >Australia and New Zealand</th>\n",
       "      <td id=\"T_2280e_row16_col0\" class=\"data row16 col0\" >42,704</td>\n",
       "      <td id=\"T_2280e_row16_col1\" class=\"data row16 col1\" >0.196330</td>\n",
       "      <td id=\"T_2280e_row16_col2\" class=\"data row16 col2\" >30,731,185</td>\n",
       "      <td id=\"T_2280e_row16_col3\" class=\"data row16 col3\" >0.391932</td>\n",
       "      <td id=\"T_2280e_row16_col4\" class=\"data row16 col4\" >0.002696</td>\n",
       "    </tr>\n",
       "    <tr>\n",
       "      <th id=\"T_2280e_level1_row17\" class=\"row_heading level1 row17\" >Middle Africa</th>\n",
       "      <td id=\"T_2280e_row17_col0\" class=\"data row17 col0\" >32,586</td>\n",
       "      <td id=\"T_2280e_row17_col1\" class=\"data row17 col1\" >0.149813</td>\n",
       "      <td id=\"T_2280e_row17_col2\" class=\"data row17 col2\" >184,569,897</td>\n",
       "      <td id=\"T_2280e_row17_col3\" class=\"data row17 col3\" >2.353922</td>\n",
       "      <td id=\"T_2280e_row17_col4\" class=\"data row17 col4\" >0.004495</td>\n",
       "    </tr>\n",
       "    <tr>\n",
       "      <th id=\"T_2280e_level1_row18\" class=\"row_heading level1 row18\" >Central Asia</th>\n",
       "      <td id=\"T_2280e_row18_col0\" class=\"data row18 col0\" >22,396</td>\n",
       "      <td id=\"T_2280e_row18_col1\" class=\"data row18 col1\" >0.102965</td>\n",
       "      <td id=\"T_2280e_row18_col2\" class=\"data row18 col2\" >74,724,418</td>\n",
       "      <td id=\"T_2280e_row18_col3\" class=\"data row18 col3\" >0.953002</td>\n",
       "      <td id=\"T_2280e_row18_col4\" class=\"data row18 col4\" >0.001747</td>\n",
       "    </tr>\n",
       "    <tr>\n",
       "      <th id=\"T_2280e_level1_row19\" class=\"row_heading level1 row19\" >Melanesia</th>\n",
       "      <td id=\"T_2280e_row19_col0\" class=\"data row19 col0\" >6,540</td>\n",
       "      <td id=\"T_2280e_row19_col1\" class=\"data row19 col1\" >0.030067</td>\n",
       "      <td id=\"T_2280e_row19_col2\" class=\"data row19 col2\" >11,959,341</td>\n",
       "      <td id=\"T_2280e_row19_col3\" class=\"data row19 col3\" >0.152524</td>\n",
       "      <td id=\"T_2280e_row19_col4\" class=\"data row19 col4\" >0.006764</td>\n",
       "    </tr>\n",
       "  </tbody>\n",
       "</table>\n"
      ],
      "text/plain": [
       "<IPython.core.display.HTML object>"
      ]
     },
     "metadata": {},
     "output_type": "display_data"
    },
    {
     "data": {
      "text/html": [
       "<style type=\"text/css\">\n",
       "#T_13d7d caption {\n",
       "  caption-side: bottom;\n",
       "  font-style: italic;\n",
       "  margin-top: 1ex;\n",
       "}\n",
       "#T_13d7d_row0_col0, #T_13d7d_row0_col1, #T_13d7d_row1_col0, #T_13d7d_row1_col1, #T_13d7d_row2_col0, #T_13d7d_row2_col1, #T_13d7d_row3_col0, #T_13d7d_row3_col1, #T_13d7d_row4_col0, #T_13d7d_row4_col1, #T_13d7d_row5_col0, #T_13d7d_row5_col1, #T_13d7d_row6_col0, #T_13d7d_row6_col1, #T_13d7d_row7_col0, #T_13d7d_row7_col1, #T_13d7d_row8_col0, #T_13d7d_row8_col1, #T_13d7d_row9_col0, #T_13d7d_row9_col1, #T_13d7d_row10_col0, #T_13d7d_row10_col1, #T_13d7d_row11_col0, #T_13d7d_row11_col1, #T_13d7d_row12_col0, #T_13d7d_row12_col1, #T_13d7d_row13_col0, #T_13d7d_row13_col1, #T_13d7d_row14_col0, #T_13d7d_row14_col1, #T_13d7d_row15_col0, #T_13d7d_row15_col1, #T_13d7d_row16_col0, #T_13d7d_row16_col1, #T_13d7d_row17_col0, #T_13d7d_row17_col1, #T_13d7d_row18_col0, #T_13d7d_row18_col1, #T_13d7d_row19_col0, #T_13d7d_row19_col1 {\n",
       "  background-color: #ffffb3;\n",
       "}\n",
       "</style>\n",
       "<table id=\"T_13d7d\">\n",
       "  <caption>Regions with most CSAM Reports 2021</caption>\n",
       "  <thead>\n",
       "    <tr>\n",
       "      <th class=\"blank\" >&nbsp;</th>\n",
       "      <th class=\"blank level0\" >&nbsp;</th>\n",
       "      <th id=\"T_13d7d_level0_col0\" class=\"col_heading level0 col0\" >reports</th>\n",
       "      <th id=\"T_13d7d_level0_col1\" class=\"col_heading level0 col1\" >reports_pct</th>\n",
       "      <th id=\"T_13d7d_level0_col2\" class=\"col_heading level0 col2\" >population</th>\n",
       "      <th id=\"T_13d7d_level0_col3\" class=\"col_heading level0 col3\" >population_pct</th>\n",
       "      <th id=\"T_13d7d_level0_col4\" class=\"col_heading level0 col4\" >reports_per_capita</th>\n",
       "    </tr>\n",
       "    <tr>\n",
       "      <th class=\"index_name level0\" >year</th>\n",
       "      <th class=\"index_name level1\" >region</th>\n",
       "      <th class=\"blank col0\" >&nbsp;</th>\n",
       "      <th class=\"blank col1\" >&nbsp;</th>\n",
       "      <th class=\"blank col2\" >&nbsp;</th>\n",
       "      <th class=\"blank col3\" >&nbsp;</th>\n",
       "      <th class=\"blank col4\" >&nbsp;</th>\n",
       "    </tr>\n",
       "  </thead>\n",
       "  <tbody>\n",
       "    <tr>\n",
       "      <th id=\"T_13d7d_level0_row0\" class=\"row_heading level0 row0\" rowspan=\"20\">2021</th>\n",
       "      <th id=\"T_13d7d_level1_row0\" class=\"row_heading level1 row0\" >Southern Asia</th>\n",
       "      <td id=\"T_13d7d_row0_col0\" class=\"data row0 col0\" >9,419,913</td>\n",
       "      <td id=\"T_13d7d_row0_col1\" class=\"data row0 col1\" >32.043048</td>\n",
       "      <td id=\"T_13d7d_row0_col2\" class=\"data row0 col2\" >1,989,452,481</td>\n",
       "      <td id=\"T_13d7d_row0_col3\" class=\"data row0 col3\" >25.153349</td>\n",
       "      <td id=\"T_13d7d_row0_col4\" class=\"data row0 col4\" >0.084941</td>\n",
       "    </tr>\n",
       "    <tr>\n",
       "      <th id=\"T_13d7d_level1_row1\" class=\"row_heading level1 row1\" >South-Eastern Asia</th>\n",
       "      <td id=\"T_13d7d_row1_col0\" class=\"data row1 col0\" >7,665,682</td>\n",
       "      <td id=\"T_13d7d_row1_col1\" class=\"data row1 col1\" >26.075805</td>\n",
       "      <td id=\"T_13d7d_row1_col2\" class=\"data row1 col2\" >675,796,068</td>\n",
       "      <td id=\"T_13d7d_row1_col3\" class=\"data row1 col3\" >8.544328</td>\n",
       "      <td id=\"T_13d7d_row1_col4\" class=\"data row1 col4\" >0.117317</td>\n",
       "    </tr>\n",
       "    <tr>\n",
       "      <th id=\"T_13d7d_level1_row2\" class=\"row_heading level1 row2\" >Western Asia</th>\n",
       "      <td id=\"T_13d7d_row2_col0\" class=\"data row2 col0\" >3,391,946</td>\n",
       "      <td id=\"T_13d7d_row2_col1\" class=\"data row2 col1\" >11.538141</td>\n",
       "      <td id=\"T_13d7d_row2_col2\" class=\"data row2 col2\" >288,488,938</td>\n",
       "      <td id=\"T_13d7d_row2_col3\" class=\"data row2 col3\" >3.647467</td>\n",
       "      <td id=\"T_13d7d_row2_col4\" class=\"data row2 col4\" >0.215441</td>\n",
       "    </tr>\n",
       "    <tr>\n",
       "      <th id=\"T_13d7d_level1_row3\" class=\"row_heading level1 row3\" >Northern Africa</th>\n",
       "      <td id=\"T_13d7d_row3_col0\" class=\"data row3 col0\" >2,608,377</td>\n",
       "      <td id=\"T_13d7d_row3_col1\" class=\"data row3 col1\" >8.872730</td>\n",
       "      <td id=\"T_13d7d_row3_col2\" class=\"data row3 col2\" >255,737,738</td>\n",
       "      <td id=\"T_13d7d_row3_col3\" class=\"data row3 col3\" >3.233382</td>\n",
       "      <td id=\"T_13d7d_row3_col4\" class=\"data row3 col4\" >0.096037</td>\n",
       "    </tr>\n",
       "    <tr>\n",
       "      <th id=\"T_13d7d_level1_row4\" class=\"row_heading level1 row4\" >North America</th>\n",
       "      <td id=\"T_13d7d_row4_col0\" class=\"data row4 col0\" >1,972,266</td>\n",
       "      <td id=\"T_13d7d_row4_col1\" class=\"data row4 col1\" >6.708917</td>\n",
       "      <td id=\"T_13d7d_row4_col2\" class=\"data row4 col2\" >375,278,947</td>\n",
       "      <td id=\"T_13d7d_row4_col3\" class=\"data row4 col3\" >4.744784</td>\n",
       "      <td id=\"T_13d7d_row4_col4\" class=\"data row4 col4\" >0.024389</td>\n",
       "    </tr>\n",
       "    <tr>\n",
       "      <th id=\"T_13d7d_level1_row5\" class=\"row_heading level1 row5\" >South America</th>\n",
       "      <td id=\"T_13d7d_row5_col0\" class=\"data row5 col0\" >1,538,207</td>\n",
       "      <td id=\"T_13d7d_row5_col1\" class=\"data row5 col1\" >5.232409</td>\n",
       "      <td id=\"T_13d7d_row5_col2\" class=\"data row5 col2\" >434,254,122</td>\n",
       "      <td id=\"T_13d7d_row5_col3\" class=\"data row5 col3\" >5.490428</td>\n",
       "      <td id=\"T_13d7d_row5_col4\" class=\"data row5 col4\" >0.051954</td>\n",
       "    </tr>\n",
       "    <tr>\n",
       "      <th id=\"T_13d7d_level1_row6\" class=\"row_heading level1 row6\" >Central America</th>\n",
       "      <td id=\"T_13d7d_row6_col0\" class=\"data row6 col0\" >1,003,846</td>\n",
       "      <td id=\"T_13d7d_row6_col1\" class=\"data row6 col1\" >3.414712</td>\n",
       "      <td id=\"T_13d7d_row6_col2\" class=\"data row6 col2\" >177,661,931</td>\n",
       "      <td id=\"T_13d7d_row6_col3\" class=\"data row6 col3\" >2.246242</td>\n",
       "      <td id=\"T_13d7d_row6_col4\" class=\"data row6 col4\" >0.051684</td>\n",
       "    </tr>\n",
       "    <tr>\n",
       "      <th id=\"T_13d7d_level1_row7\" class=\"row_heading level1 row7\" >Eastern Europe</th>\n",
       "      <td id=\"T_13d7d_row7_col0\" class=\"data row7 col0\" >303,028</td>\n",
       "      <td id=\"T_13d7d_row7_col1\" class=\"data row7 col1\" >1.030789</td>\n",
       "      <td id=\"T_13d7d_row7_col2\" class=\"data row7 col2\" >291,464,165</td>\n",
       "      <td id=\"T_13d7d_row7_col3\" class=\"data row7 col3\" >3.685084</td>\n",
       "      <td id=\"T_13d7d_row7_col4\" class=\"data row7 col4\" >0.016512</td>\n",
       "    </tr>\n",
       "    <tr>\n",
       "      <th id=\"T_13d7d_level1_row8\" class=\"row_heading level1 row8\" >Western Europe</th>\n",
       "      <td id=\"T_13d7d_row8_col0\" class=\"data row8 col0\" >247,762</td>\n",
       "      <td id=\"T_13d7d_row8_col1\" class=\"data row8 col1\" >0.842794</td>\n",
       "      <td id=\"T_13d7d_row8_col2\" class=\"data row8 col2\" >195,381,651</td>\n",
       "      <td id=\"T_13d7d_row8_col3\" class=\"data row8 col3\" >2.470279</td>\n",
       "      <td id=\"T_13d7d_row8_col4\" class=\"data row8 col4\" >0.024650</td>\n",
       "    </tr>\n",
       "    <tr>\n",
       "      <th id=\"T_13d7d_level1_row9\" class=\"row_heading level1 row9\" >Southern Europe</th>\n",
       "      <td id=\"T_13d7d_row9_col0\" class=\"data row9 col0\" >192,725</td>\n",
       "      <td id=\"T_13d7d_row9_col1\" class=\"data row9 col1\" >0.655579</td>\n",
       "      <td id=\"T_13d7d_row9_col2\" class=\"data row9 col2\" >153,374,286</td>\n",
       "      <td id=\"T_13d7d_row9_col3\" class=\"data row9 col3\" >1.939165</td>\n",
       "      <td id=\"T_13d7d_row9_col4\" class=\"data row9 col4\" >0.038479</td>\n",
       "    </tr>\n",
       "    <tr>\n",
       "      <th id=\"T_13d7d_level1_row10\" class=\"row_heading level1 row10\" >Eastern Asia</th>\n",
       "      <td id=\"T_13d7d_row10_col0\" class=\"data row10 col0\" >192,161</td>\n",
       "      <td id=\"T_13d7d_row10_col1\" class=\"data row10 col1\" >0.653660</td>\n",
       "      <td id=\"T_13d7d_row10_col2\" class=\"data row10 col2\" >1,663,696,925</td>\n",
       "      <td id=\"T_13d7d_row10_col3\" class=\"data row10 col3\" >21.034707</td>\n",
       "      <td id=\"T_13d7d_row10_col4\" class=\"data row10 col4\" >0.013735</td>\n",
       "    </tr>\n",
       "    <tr>\n",
       "      <th id=\"T_13d7d_level1_row11\" class=\"row_heading level1 row11\" >Caribbean</th>\n",
       "      <td id=\"T_13d7d_row11_col0\" class=\"data row11 col0\" >182,736</td>\n",
       "      <td id=\"T_13d7d_row11_col1\" class=\"data row11 col1\" >0.621600</td>\n",
       "      <td id=\"T_13d7d_row11_col2\" class=\"data row11 col2\" >44,182,055</td>\n",
       "      <td id=\"T_13d7d_row11_col3\" class=\"data row11 col3\" >0.558609</td>\n",
       "      <td id=\"T_13d7d_row11_col4\" class=\"data row11 col4\" >0.070198</td>\n",
       "    </tr>\n",
       "    <tr>\n",
       "      <th id=\"T_13d7d_level1_row12\" class=\"row_heading level1 row12\" >Eastern Africa</th>\n",
       "      <td id=\"T_13d7d_row12_col0\" class=\"data row12 col0\" >181,024</td>\n",
       "      <td id=\"T_13d7d_row12_col1\" class=\"data row12 col1\" >0.615776</td>\n",
       "      <td id=\"T_13d7d_row12_col2\" class=\"data row12 col2\" >461,141,848</td>\n",
       "      <td id=\"T_13d7d_row12_col3\" class=\"data row12 col3\" >5.830379</td>\n",
       "      <td id=\"T_13d7d_row12_col4\" class=\"data row12 col4\" >0.031997</td>\n",
       "    </tr>\n",
       "    <tr>\n",
       "      <th id=\"T_13d7d_level1_row13\" class=\"row_heading level1 row13\" >Northern Europe</th>\n",
       "      <td id=\"T_13d7d_row13_col0\" class=\"data row13 col0\" >152,984</td>\n",
       "      <td id=\"T_13d7d_row13_col1\" class=\"data row13 col1\" >0.520395</td>\n",
       "      <td id=\"T_13d7d_row13_col2\" class=\"data row13 col2\" >106,024,676</td>\n",
       "      <td id=\"T_13d7d_row13_col3\" class=\"data row13 col3\" >1.340507</td>\n",
       "      <td id=\"T_13d7d_row13_col4\" class=\"data row13 col4\" >0.016635</td>\n",
       "    </tr>\n",
       "    <tr>\n",
       "      <th id=\"T_13d7d_level1_row14\" class=\"row_heading level1 row14\" >Western Africa</th>\n",
       "      <td id=\"T_13d7d_row14_col0\" class=\"data row14 col0\" >126,909</td>\n",
       "      <td id=\"T_13d7d_row14_col1\" class=\"data row14 col1\" >0.431697</td>\n",
       "      <td id=\"T_13d7d_row14_col2\" class=\"data row14 col2\" >418,544,339</td>\n",
       "      <td id=\"T_13d7d_row14_col3\" class=\"data row14 col3\" >5.291804</td>\n",
       "      <td id=\"T_13d7d_row14_col4\" class=\"data row14 col4\" >0.011251</td>\n",
       "    </tr>\n",
       "    <tr>\n",
       "      <th id=\"T_13d7d_level1_row15\" class=\"row_heading level1 row15\" >Australia and New Zealand</th>\n",
       "      <td id=\"T_13d7d_row15_col0\" class=\"data row15 col0\" >75,506</td>\n",
       "      <td id=\"T_13d7d_row15_col1\" class=\"data row15 col1\" >0.256843</td>\n",
       "      <td id=\"T_13d7d_row15_col2\" class=\"data row15 col2\" >31,050,817</td>\n",
       "      <td id=\"T_13d7d_row15_col3\" class=\"data row15 col3\" >0.392586</td>\n",
       "      <td id=\"T_13d7d_row15_col4\" class=\"data row15 col4\" >0.004472</td>\n",
       "    </tr>\n",
       "    <tr>\n",
       "      <th id=\"T_13d7d_level1_row16\" class=\"row_heading level1 row16\" >Southern Africa</th>\n",
       "      <td id=\"T_13d7d_row16_col0\" class=\"data row16 col0\" >55,013</td>\n",
       "      <td id=\"T_13d7d_row16_col1\" class=\"data row16 col1\" >0.187134</td>\n",
       "      <td id=\"T_13d7d_row16_col2\" class=\"data row16 col2\" >67,984,555</td>\n",
       "      <td id=\"T_13d7d_row16_col3\" class=\"data row16 col3\" >0.859553</td>\n",
       "      <td id=\"T_13d7d_row16_col4\" class=\"data row16 col4\" >0.002681</td>\n",
       "    </tr>\n",
       "    <tr>\n",
       "      <th id=\"T_13d7d_level1_row17\" class=\"row_heading level1 row17\" >Central Asia</th>\n",
       "      <td id=\"T_13d7d_row17_col0\" class=\"data row17 col0\" >31,939</td>\n",
       "      <td id=\"T_13d7d_row17_col1\" class=\"data row17 col1\" >0.108645</td>\n",
       "      <td id=\"T_13d7d_row17_col2\" class=\"data row17 col2\" >75,897,578</td>\n",
       "      <td id=\"T_13d7d_row17_col3\" class=\"data row17 col3\" >0.959600</td>\n",
       "      <td id=\"T_13d7d_row17_col4\" class=\"data row17 col4\" >0.002108</td>\n",
       "    </tr>\n",
       "    <tr>\n",
       "      <th id=\"T_13d7d_level1_row18\" class=\"row_heading level1 row18\" >Middle Africa</th>\n",
       "      <td id=\"T_13d7d_row18_col0\" class=\"data row18 col0\" >31,586</td>\n",
       "      <td id=\"T_13d7d_row18_col1\" class=\"data row18 col1\" >0.107444</td>\n",
       "      <td id=\"T_13d7d_row18_col2\" class=\"data row18 col2\" >190,267,975</td>\n",
       "      <td id=\"T_13d7d_row18_col3\" class=\"data row18 col3\" >2.405625</td>\n",
       "      <td id=\"T_13d7d_row18_col4\" class=\"data row18 col4\" >0.003774</td>\n",
       "    </tr>\n",
       "    <tr>\n",
       "      <th id=\"T_13d7d_level1_row19\" class=\"row_heading level1 row19\" >Melanesia</th>\n",
       "      <td id=\"T_13d7d_row19_col0\" class=\"data row19 col0\" >20,506</td>\n",
       "      <td id=\"T_13d7d_row19_col1\" class=\"data row19 col1\" >0.069754</td>\n",
       "      <td id=\"T_13d7d_row19_col2\" class=\"data row19 col2\" >12,188,835</td>\n",
       "      <td id=\"T_13d7d_row19_col3\" class=\"data row19 col3\" >0.154108</td>\n",
       "      <td id=\"T_13d7d_row19_col4\" class=\"data row19 col4\" >0.024307</td>\n",
       "    </tr>\n",
       "  </tbody>\n",
       "</table>\n"
      ],
      "text/plain": [
       "<IPython.core.display.HTML object>"
      ]
     },
     "metadata": {},
     "output_type": "display_data"
    },
    {
     "data": {
      "text/html": [
       "<style type=\"text/css\">\n",
       "#T_f7af5 caption {\n",
       "  caption-side: bottom;\n",
       "  font-style: italic;\n",
       "  margin-top: 1ex;\n",
       "}\n",
       "#T_f7af5_row0_col0, #T_f7af5_row0_col1, #T_f7af5_row1_col0, #T_f7af5_row1_col1, #T_f7af5_row2_col0, #T_f7af5_row2_col1, #T_f7af5_row3_col0, #T_f7af5_row3_col1, #T_f7af5_row4_col0, #T_f7af5_row4_col1, #T_f7af5_row5_col0, #T_f7af5_row5_col1, #T_f7af5_row6_col0, #T_f7af5_row6_col1, #T_f7af5_row7_col0, #T_f7af5_row7_col1, #T_f7af5_row8_col0, #T_f7af5_row8_col1, #T_f7af5_row9_col0, #T_f7af5_row9_col1, #T_f7af5_row10_col0, #T_f7af5_row10_col1, #T_f7af5_row11_col0, #T_f7af5_row11_col1, #T_f7af5_row12_col0, #T_f7af5_row12_col1, #T_f7af5_row13_col0, #T_f7af5_row13_col1, #T_f7af5_row14_col0, #T_f7af5_row14_col1, #T_f7af5_row15_col0, #T_f7af5_row15_col1, #T_f7af5_row16_col0, #T_f7af5_row16_col1, #T_f7af5_row17_col0, #T_f7af5_row17_col1, #T_f7af5_row18_col0, #T_f7af5_row18_col1, #T_f7af5_row19_col0, #T_f7af5_row19_col1 {\n",
       "  background-color: #ffffb3;\n",
       "}\n",
       "</style>\n",
       "<table id=\"T_f7af5\">\n",
       "  <caption>Regions with most CSAM Reports 2022</caption>\n",
       "  <thead>\n",
       "    <tr>\n",
       "      <th class=\"blank\" >&nbsp;</th>\n",
       "      <th class=\"blank level0\" >&nbsp;</th>\n",
       "      <th id=\"T_f7af5_level0_col0\" class=\"col_heading level0 col0\" >reports</th>\n",
       "      <th id=\"T_f7af5_level0_col1\" class=\"col_heading level0 col1\" >reports_pct</th>\n",
       "      <th id=\"T_f7af5_level0_col2\" class=\"col_heading level0 col2\" >population</th>\n",
       "      <th id=\"T_f7af5_level0_col3\" class=\"col_heading level0 col3\" >population_pct</th>\n",
       "      <th id=\"T_f7af5_level0_col4\" class=\"col_heading level0 col4\" >reports_per_capita</th>\n",
       "    </tr>\n",
       "    <tr>\n",
       "      <th class=\"index_name level0\" >year</th>\n",
       "      <th class=\"index_name level1\" >region</th>\n",
       "      <th class=\"blank col0\" >&nbsp;</th>\n",
       "      <th class=\"blank col1\" >&nbsp;</th>\n",
       "      <th class=\"blank col2\" >&nbsp;</th>\n",
       "      <th class=\"blank col3\" >&nbsp;</th>\n",
       "      <th class=\"blank col4\" >&nbsp;</th>\n",
       "    </tr>\n",
       "  </thead>\n",
       "  <tbody>\n",
       "    <tr>\n",
       "      <th id=\"T_f7af5_level0_row0\" class=\"row_heading level0 row0\" rowspan=\"20\">2022</th>\n",
       "      <th id=\"T_f7af5_level1_row0\" class=\"row_heading level1 row0\" >Southern Asia</th>\n",
       "      <td id=\"T_f7af5_row0_col0\" class=\"data row0 col0\" >10,712,621</td>\n",
       "      <td id=\"T_f7af5_row0_col1\" class=\"data row0 col1\" >33.415301</td>\n",
       "      <td id=\"T_f7af5_row0_col2\" class=\"data row0 col2\" >2,007,549,715</td>\n",
       "      <td id=\"T_f7af5_row0_col3\" class=\"data row0 col3\" >25.172707</td>\n",
       "      <td id=\"T_f7af5_row0_col4\" class=\"data row0 col4\" >0.070018</td>\n",
       "    </tr>\n",
       "    <tr>\n",
       "      <th id=\"T_f7af5_level1_row1\" class=\"row_heading level1 row1\" >South-Eastern Asia</th>\n",
       "      <td id=\"T_f7af5_row1_col0\" class=\"data row1 col0\" >6,724,864</td>\n",
       "      <td id=\"T_f7af5_row1_col1\" class=\"data row1 col1\" >20.976506</td>\n",
       "      <td id=\"T_f7af5_row1_col2\" class=\"data row1 col2\" >681,125,066</td>\n",
       "      <td id=\"T_f7af5_row1_col3\" class=\"data row1 col3\" >8.540641</td>\n",
       "      <td id=\"T_f7af5_row1_col4\" class=\"data row1 col4\" >0.095926</td>\n",
       "    </tr>\n",
       "    <tr>\n",
       "      <th id=\"T_f7af5_level1_row2\" class=\"row_heading level1 row2\" >North America</th>\n",
       "      <td id=\"T_f7af5_row2_col0\" class=\"data row2 col0\" >3,404,546</td>\n",
       "      <td id=\"T_f7af5_row2_col1\" class=\"data row2 col1\" >10.619617</td>\n",
       "      <td id=\"T_f7af5_row2_col2\" class=\"data row2 col2\" >376,870,696</td>\n",
       "      <td id=\"T_f7af5_row2_col3\" class=\"data row2 col3\" >4.725589</td>\n",
       "      <td id=\"T_f7af5_row2_col4\" class=\"data row2 col4\" >0.035403</td>\n",
       "    </tr>\n",
       "    <tr>\n",
       "      <th id=\"T_f7af5_level1_row3\" class=\"row_heading level1 row3\" >Western Asia</th>\n",
       "      <td id=\"T_f7af5_row3_col0\" class=\"data row3 col0\" >2,701,204</td>\n",
       "      <td id=\"T_f7af5_row3_col1\" class=\"data row3 col1\" >8.425720</td>\n",
       "      <td id=\"T_f7af5_row3_col2\" class=\"data row3 col2\" >292,468,620</td>\n",
       "      <td id=\"T_f7af5_row3_col3\" class=\"data row3 col3\" >3.667270</td>\n",
       "      <td id=\"T_f7af5_row3_col4\" class=\"data row3 col4\" >0.168206</td>\n",
       "    </tr>\n",
       "    <tr>\n",
       "      <th id=\"T_f7af5_level1_row4\" class=\"row_heading level1 row4\" >South America</th>\n",
       "      <td id=\"T_f7af5_row4_col0\" class=\"data row4 col0\" >2,231,052</td>\n",
       "      <td id=\"T_f7af5_row4_col1\" class=\"data row4 col1\" >6.959200</td>\n",
       "      <td id=\"T_f7af5_row4_col2\" class=\"data row4 col2\" >436,816,610</td>\n",
       "      <td id=\"T_f7af5_row4_col3\" class=\"data row4 col3\" >5.477252</td>\n",
       "      <td id=\"T_f7af5_row4_col4\" class=\"data row4 col4\" >0.075842</td>\n",
       "    </tr>\n",
       "    <tr>\n",
       "      <th id=\"T_f7af5_level1_row5\" class=\"row_heading level1 row5\" >Northern Africa</th>\n",
       "      <td id=\"T_f7af5_row5_col0\" class=\"data row5 col0\" >1,709,419</td>\n",
       "      <td id=\"T_f7af5_row5_col1\" class=\"data row5 col1\" >5.332098</td>\n",
       "      <td id=\"T_f7af5_row5_col2\" class=\"data row5 col2\" >259,969,947</td>\n",
       "      <td id=\"T_f7af5_row5_col3\" class=\"data row5 col3\" >3.259768</td>\n",
       "      <td id=\"T_f7af5_row5_col4\" class=\"data row5 col4\" >0.059205</td>\n",
       "    </tr>\n",
       "    <tr>\n",
       "      <th id=\"T_f7af5_level1_row6\" class=\"row_heading level1 row6\" >Central America</th>\n",
       "      <td id=\"T_f7af5_row6_col0\" class=\"data row6 col0\" >1,144,728</td>\n",
       "      <td id=\"T_f7af5_row6_col1\" class=\"data row6 col1\" >3.570688</td>\n",
       "      <td id=\"T_f7af5_row6_col2\" class=\"data row6 col2\" >179,060,361</td>\n",
       "      <td id=\"T_f7af5_row6_col3\" class=\"data row6 col3\" >2.245242</td>\n",
       "      <td id=\"T_f7af5_row6_col4\" class=\"data row6 col4\" >0.059855</td>\n",
       "    </tr>\n",
       "    <tr>\n",
       "      <th id=\"T_f7af5_level1_row7\" class=\"row_heading level1 row7\" >Eastern Europe</th>\n",
       "      <td id=\"T_f7af5_row7_col0\" class=\"data row7 col0\" >731,334</td>\n",
       "      <td id=\"T_f7af5_row7_col1\" class=\"data row7 col1\" >2.281211</td>\n",
       "      <td id=\"T_f7af5_row7_col2\" class=\"data row7 col2\" >289,626,117</td>\n",
       "      <td id=\"T_f7af5_row7_col3\" class=\"data row7 col3\" >3.631628</td>\n",
       "      <td id=\"T_f7af5_row7_col4\" class=\"data row7 col4\" >0.044626</td>\n",
       "    </tr>\n",
       "    <tr>\n",
       "      <th id=\"T_f7af5_level1_row8\" class=\"row_heading level1 row8\" >Western Europe</th>\n",
       "      <td id=\"T_f7af5_row8_col0\" class=\"data row8 col0\" >507,797</td>\n",
       "      <td id=\"T_f7af5_row8_col1\" class=\"data row8 col1\" >1.583944</td>\n",
       "      <td id=\"T_f7af5_row8_col2\" class=\"data row8 col2\" >195,619,899</td>\n",
       "      <td id=\"T_f7af5_row8_col3\" class=\"data row8 col3\" >2.452882</td>\n",
       "      <td id=\"T_f7af5_row8_col4\" class=\"data row8 col4\" >0.031434</td>\n",
       "    </tr>\n",
       "    <tr>\n",
       "      <th id=\"T_f7af5_level1_row9\" class=\"row_heading level1 row9\" >Northern Europe</th>\n",
       "      <td id=\"T_f7af5_row9_col0\" class=\"data row9 col0\" >504,064</td>\n",
       "      <td id=\"T_f7af5_row9_col1\" class=\"data row9 col1\" >1.572300</td>\n",
       "      <td id=\"T_f7af5_row9_col2\" class=\"data row9 col2\" >106,375,996</td>\n",
       "      <td id=\"T_f7af5_row9_col3\" class=\"data row9 col3\" >1.333851</td>\n",
       "      <td id=\"T_f7af5_row9_col4\" class=\"data row9 col4\" >0.063095</td>\n",
       "    </tr>\n",
       "    <tr>\n",
       "      <th id=\"T_f7af5_level1_row10\" class=\"row_heading level1 row10\" >Southern Europe</th>\n",
       "      <td id=\"T_f7af5_row10_col0\" class=\"data row10 col0\" >367,229</td>\n",
       "      <td id=\"T_f7af5_row10_col1\" class=\"data row10 col1\" >1.145478</td>\n",
       "      <td id=\"T_f7af5_row10_col2\" class=\"data row10 col2\" >153,010,661</td>\n",
       "      <td id=\"T_f7af5_row10_col3\" class=\"data row10 col3\" >1.918604</td>\n",
       "      <td id=\"T_f7af5_row10_col4\" class=\"data row10 col4\" >0.066662</td>\n",
       "    </tr>\n",
       "    <tr>\n",
       "      <th id=\"T_f7af5_level1_row11\" class=\"row_heading level1 row11\" >Eastern Asia</th>\n",
       "      <td id=\"T_f7af5_row11_col0\" class=\"data row11 col0\" >306,470</td>\n",
       "      <td id=\"T_f7af5_row11_col1\" class=\"data row11 col1\" >0.955955</td>\n",
       "      <td id=\"T_f7af5_row11_col2\" class=\"data row11 col2\" >1,663,200,051</td>\n",
       "      <td id=\"T_f7af5_row11_col3\" class=\"data row11 col3\" >20.854899</td>\n",
       "      <td id=\"T_f7af5_row11_col4\" class=\"data row11 col4\" >0.019173</td>\n",
       "    </tr>\n",
       "    <tr>\n",
       "      <th id=\"T_f7af5_level1_row12\" class=\"row_heading level1 row12\" >Western Africa</th>\n",
       "      <td id=\"T_f7af5_row12_col0\" class=\"data row12 col0\" >215,810</td>\n",
       "      <td id=\"T_f7af5_row12_col1\" class=\"data row12 col1\" >0.673164</td>\n",
       "      <td id=\"T_f7af5_row12_col2\" class=\"data row12 col2\" >429,084,928</td>\n",
       "      <td id=\"T_f7af5_row12_col3\" class=\"data row12 col3\" >5.380305</td>\n",
       "      <td id=\"T_f7af5_row12_col4\" class=\"data row12 col4\" >0.013122</td>\n",
       "    </tr>\n",
       "    <tr>\n",
       "      <th id=\"T_f7af5_level1_row13\" class=\"row_heading level1 row13\" >Australia and New Zealand</th>\n",
       "      <td id=\"T_f7af5_row13_col0\" class=\"data row13 col0\" >214,816</td>\n",
       "      <td id=\"T_f7af5_row13_col1\" class=\"data row13 col1\" >0.670064</td>\n",
       "      <td id=\"T_f7af5_row13_col2\" class=\"data row13 col2\" >31,362,703</td>\n",
       "      <td id=\"T_f7af5_row13_col3\" class=\"data row13 col3\" >0.393258</td>\n",
       "      <td id=\"T_f7af5_row13_col4\" class=\"data row13 col4\" >0.013273</td>\n",
       "    </tr>\n",
       "    <tr>\n",
       "      <th id=\"T_f7af5_level1_row14\" class=\"row_heading level1 row14\" >Caribbean</th>\n",
       "      <td id=\"T_f7af5_row14_col0\" class=\"data row14 col0\" >181,713</td>\n",
       "      <td id=\"T_f7af5_row14_col1\" class=\"data row14 col1\" >0.566808</td>\n",
       "      <td id=\"T_f7af5_row14_col2\" class=\"data row14 col2\" >44,392,114</td>\n",
       "      <td id=\"T_f7af5_row14_col3\" class=\"data row14 col3\" >0.556634</td>\n",
       "      <td id=\"T_f7af5_row14_col4\" class=\"data row14 col4\" >0.121284</td>\n",
       "    </tr>\n",
       "    <tr>\n",
       "      <th id=\"T_f7af5_level1_row15\" class=\"row_heading level1 row15\" >Eastern Africa</th>\n",
       "      <td id=\"T_f7af5_row15_col0\" class=\"data row15 col0\" >175,385</td>\n",
       "      <td id=\"T_f7af5_row15_col1\" class=\"data row15 col1\" >0.547069</td>\n",
       "      <td id=\"T_f7af5_row15_col2\" class=\"data row15 col2\" >473,004,853</td>\n",
       "      <td id=\"T_f7af5_row15_col3\" class=\"data row15 col3\" >5.931017</td>\n",
       "      <td id=\"T_f7af5_row15_col4\" class=\"data row15 col4\" >0.031292</td>\n",
       "    </tr>\n",
       "    <tr>\n",
       "      <th id=\"T_f7af5_level1_row16\" class=\"row_heading level1 row16\" >Southern Africa</th>\n",
       "      <td id=\"T_f7af5_row16_col0\" class=\"data row16 col0\" >91,752</td>\n",
       "      <td id=\"T_f7af5_row16_col1\" class=\"data row16 col1\" >0.286197</td>\n",
       "      <td id=\"T_f7af5_row16_col2\" class=\"data row16 col2\" >68,598,692</td>\n",
       "      <td id=\"T_f7af5_row16_col3\" class=\"data row16 col3\" >0.860160</td>\n",
       "      <td id=\"T_f7af5_row16_col4\" class=\"data row16 col4\" >0.005466</td>\n",
       "    </tr>\n",
       "    <tr>\n",
       "      <th id=\"T_f7af5_level1_row17\" class=\"row_heading level1 row17\" >Central Asia</th>\n",
       "      <td id=\"T_f7af5_row17_col0\" class=\"data row17 col0\" >53,931</td>\n",
       "      <td id=\"T_f7af5_row17_col1\" class=\"data row17 col1\" >0.168224</td>\n",
       "      <td id=\"T_f7af5_row17_col2\" class=\"data row17 col2\" >77,039,832</td>\n",
       "      <td id=\"T_f7af5_row17_col3\" class=\"data row17 col3\" >0.966004</td>\n",
       "      <td id=\"T_f7af5_row17_col4\" class=\"data row17 col4\" >0.003456</td>\n",
       "    </tr>\n",
       "    <tr>\n",
       "      <th id=\"T_f7af5_level1_row18\" class=\"row_heading level1 row18\" >Middle Africa</th>\n",
       "      <td id=\"T_f7af5_row18_col0\" class=\"data row18 col0\" >51,590</td>\n",
       "      <td id=\"T_f7af5_row18_col1\" class=\"data row18 col1\" >0.160922</td>\n",
       "      <td id=\"T_f7af5_row18_col2\" class=\"data row18 col2\" >196,077,900</td>\n",
       "      <td id=\"T_f7af5_row18_col3\" class=\"data row18 col3\" >2.458625</td>\n",
       "      <td id=\"T_f7af5_row18_col4\" class=\"data row18 col4\" >0.004774</td>\n",
       "    </tr>\n",
       "    <tr>\n",
       "      <th id=\"T_f7af5_level1_row19\" class=\"row_heading level1 row19\" >Melanesia</th>\n",
       "      <td id=\"T_f7af5_row19_col0\" class=\"data row19 col0\" >23,258</td>\n",
       "      <td id=\"T_f7af5_row19_col1\" class=\"data row19 col1\" >0.072547</td>\n",
       "      <td id=\"T_f7af5_row19_col2\" class=\"data row19 col2\" >12,413,350</td>\n",
       "      <td id=\"T_f7af5_row19_col3\" class=\"data row19 col3\" >0.155651</td>\n",
       "      <td id=\"T_f7af5_row19_col4\" class=\"data row19 col4\" >0.019755</td>\n",
       "    </tr>\n",
       "  </tbody>\n",
       "</table>\n"
      ],
      "text/plain": [
       "<IPython.core.display.HTML object>"
      ]
     },
     "metadata": {},
     "output_type": "display_data"
    }
   ],
   "source": [
    "show_html(\n",
    "    h2='Regions with Most CSAM Reports', \n",
    "    p='Selection does <em>not</em> take population counts into consideration.')\n",
    "\n",
    "most_reports = (\n",
    "    country_data.reports_per_capita\n",
    "    .groupby(['year', 'region'])\n",
    "    .sum(numeric_only=True)\n",
    "    .sort_values(by='reports', ascending=False)\n",
    ")\n",
    "\n",
    "for year in YEAR_LABELS:\n",
    "    show_table(\n",
    "        most_reports.query(f'year == \"{year}\"').head(20),\n",
    "        title=f'Regions with most CSAM Reports {year}',\n",
    "        highlights=['reports', 'reports_pct'],\n",
    "    )\n"
   ]
  },
  {
   "cell_type": "code",
   "execution_count": 3,
   "metadata": {},
   "outputs": [
    {
     "data": {
      "text/html": [
       "<h2>Countries with Most CSAM Reports Per Capita</h2>"
      ],
      "text/plain": [
       "<IPython.core.display.HTML object>"
      ]
     },
     "metadata": {},
     "output_type": "display_data"
    },
    {
     "data": {
      "text/html": [
       "<style type=\"text/css\">\n",
       "#T_5f5d4 caption {\n",
       "  caption-side: bottom;\n",
       "  font-style: italic;\n",
       "  margin-top: 1ex;\n",
       "}\n",
       "#T_5f5d4_row0_col6, #T_5f5d4_row1_col6, #T_5f5d4_row2_col6, #T_5f5d4_row3_col6, #T_5f5d4_row4_col6, #T_5f5d4_row5_col6, #T_5f5d4_row6_col6, #T_5f5d4_row7_col6, #T_5f5d4_row8_col6, #T_5f5d4_row9_col6, #T_5f5d4_row10_col6, #T_5f5d4_row11_col6, #T_5f5d4_row12_col6, #T_5f5d4_row13_col6, #T_5f5d4_row14_col6, #T_5f5d4_row15_col6, #T_5f5d4_row16_col6, #T_5f5d4_row17_col6, #T_5f5d4_row18_col6, #T_5f5d4_row19_col6 {\n",
       "  background-color: #ffffb3;\n",
       "}\n",
       "</style>\n",
       "<table id=\"T_5f5d4\">\n",
       "  <caption>reports per capita and country 2019</caption>\n",
       "  <thead>\n",
       "    <tr>\n",
       "      <th class=\"blank level0\" >&nbsp;</th>\n",
       "      <th id=\"T_5f5d4_level0_col0\" class=\"col_heading level0 col0\" >iso3</th>\n",
       "      <th id=\"T_5f5d4_level0_col1\" class=\"col_heading level0 col1\" >year</th>\n",
       "      <th id=\"T_5f5d4_level0_col2\" class=\"col_heading level0 col2\" >reports</th>\n",
       "      <th id=\"T_5f5d4_level0_col3\" class=\"col_heading level0 col3\" >reports_pct</th>\n",
       "      <th id=\"T_5f5d4_level0_col4\" class=\"col_heading level0 col4\" >population</th>\n",
       "      <th id=\"T_5f5d4_level0_col5\" class=\"col_heading level0 col5\" >population_pct</th>\n",
       "      <th id=\"T_5f5d4_level0_col6\" class=\"col_heading level0 col6\" >reports_per_capita</th>\n",
       "      <th id=\"T_5f5d4_level0_col7\" class=\"col_heading level0 col7\" >country</th>\n",
       "    </tr>\n",
       "    <tr>\n",
       "      <th class=\"index_name level0\" >rank</th>\n",
       "      <th class=\"blank col0\" >&nbsp;</th>\n",
       "      <th class=\"blank col1\" >&nbsp;</th>\n",
       "      <th class=\"blank col2\" >&nbsp;</th>\n",
       "      <th class=\"blank col3\" >&nbsp;</th>\n",
       "      <th class=\"blank col4\" >&nbsp;</th>\n",
       "      <th class=\"blank col5\" >&nbsp;</th>\n",
       "      <th class=\"blank col6\" >&nbsp;</th>\n",
       "      <th class=\"blank col7\" >&nbsp;</th>\n",
       "    </tr>\n",
       "  </thead>\n",
       "  <tbody>\n",
       "    <tr>\n",
       "      <th id=\"T_5f5d4_level0_row0\" class=\"row_heading level0 row0\" >1</th>\n",
       "      <td id=\"T_5f5d4_row0_col0\" class=\"data row0 col0\" >ARE</td>\n",
       "      <td id=\"T_5f5d4_row0_col1\" class=\"data row0 col1\" >2019</td>\n",
       "      <td id=\"T_5f5d4_row0_col2\" class=\"data row0 col2\" >330,268</td>\n",
       "      <td id=\"T_5f5d4_row0_col3\" class=\"data row0 col3\" >1.944198</td>\n",
       "      <td id=\"T_5f5d4_row0_col4\" class=\"data row0 col4\" >9,211,657</td>\n",
       "      <td id=\"T_5f5d4_row0_col5\" class=\"data row0 col5\" >0.118631</td>\n",
       "      <td id=\"T_5f5d4_row0_col6\" class=\"data row0 col6\" >0.035853</td>\n",
       "      <td id=\"T_5f5d4_row0_col7\" class=\"data row0 col7\" >United Arab Emirates</td>\n",
       "    </tr>\n",
       "    <tr>\n",
       "      <th id=\"T_5f5d4_level0_row1\" class=\"row_heading level0 row1\" >2</th>\n",
       "      <td id=\"T_5f5d4_row1_col0\" class=\"data row1 col0\" >IRQ</td>\n",
       "      <td id=\"T_5f5d4_row1_col1\" class=\"data row1 col1\" >2019</td>\n",
       "      <td id=\"T_5f5d4_row1_col2\" class=\"data row1 col2\" >1,026,809</td>\n",
       "      <td id=\"T_5f5d4_row1_col3\" class=\"data row1 col3\" >6.044547</td>\n",
       "      <td id=\"T_5f5d4_row1_col4\" class=\"data row1 col4\" >41,563,521</td>\n",
       "      <td id=\"T_5f5d4_row1_col5\" class=\"data row1 col5\" >0.535271</td>\n",
       "      <td id=\"T_5f5d4_row1_col6\" class=\"data row1 col6\" >0.024705</td>\n",
       "      <td id=\"T_5f5d4_row1_col7\" class=\"data row1 col7\" >Iraq</td>\n",
       "    </tr>\n",
       "    <tr>\n",
       "      <th id=\"T_5f5d4_level0_row2\" class=\"row_heading level0 row2\" >3</th>\n",
       "      <td id=\"T_5f5d4_row2_col0\" class=\"data row2 col0\" >LBY</td>\n",
       "      <td id=\"T_5f5d4_row2_col1\" class=\"data row2 col1\" >2019</td>\n",
       "      <td id=\"T_5f5d4_row2_col2\" class=\"data row2 col2\" >150,848</td>\n",
       "      <td id=\"T_5f5d4_row2_col3\" class=\"data row2 col3\" >0.888001</td>\n",
       "      <td id=\"T_5f5d4_row2_col4\" class=\"data row2 col4\" >6,569,088</td>\n",
       "      <td id=\"T_5f5d4_row2_col5\" class=\"data row2 col5\" >0.084599</td>\n",
       "      <td id=\"T_5f5d4_row2_col6\" class=\"data row2 col6\" >0.022963</td>\n",
       "      <td id=\"T_5f5d4_row2_col7\" class=\"data row2 col7\" >Libya</td>\n",
       "    </tr>\n",
       "    <tr>\n",
       "      <th id=\"T_5f5d4_level0_row3\" class=\"row_heading level0 row3\" >4</th>\n",
       "      <td id=\"T_5f5d4_row3_col0\" class=\"data row3 col0\" >QAT</td>\n",
       "      <td id=\"T_5f5d4_row3_col1\" class=\"data row3 col1\" >2019</td>\n",
       "      <td id=\"T_5f5d4_row3_col2\" class=\"data row3 col2\" >53,467</td>\n",
       "      <td id=\"T_5f5d4_row3_col3\" class=\"data row3 col3\" >0.314746</td>\n",
       "      <td id=\"T_5f5d4_row3_col4\" class=\"data row3 col4\" >2,807,235</td>\n",
       "      <td id=\"T_5f5d4_row3_col5\" class=\"data row3 col5\" >0.036153</td>\n",
       "      <td id=\"T_5f5d4_row3_col6\" class=\"data row3 col6\" >0.019046</td>\n",
       "      <td id=\"T_5f5d4_row3_col7\" class=\"data row3 col7\" >Qatar</td>\n",
       "    </tr>\n",
       "    <tr>\n",
       "      <th id=\"T_5f5d4_level0_row4\" class=\"row_heading level0 row4\" >5</th>\n",
       "      <td id=\"T_5f5d4_row4_col0\" class=\"data row4 col0\" >BHR</td>\n",
       "      <td id=\"T_5f5d4_row4_col1\" class=\"data row4 col1\" >2019</td>\n",
       "      <td id=\"T_5f5d4_row4_col2\" class=\"data row4 col2\" >26,093</td>\n",
       "      <td id=\"T_5f5d4_row4_col3\" class=\"data row4 col3\" >0.153602</td>\n",
       "      <td id=\"T_5f5d4_row4_col4\" class=\"data row4 col4\" >1,494,189</td>\n",
       "      <td id=\"T_5f5d4_row4_col5\" class=\"data row4 col5\" >0.019243</td>\n",
       "      <td id=\"T_5f5d4_row4_col6\" class=\"data row4 col6\" >0.017463</td>\n",
       "      <td id=\"T_5f5d4_row4_col7\" class=\"data row4 col7\" >Bahrain</td>\n",
       "    </tr>\n",
       "    <tr>\n",
       "      <th id=\"T_5f5d4_level0_row5\" class=\"row_heading level0 row5\" >6</th>\n",
       "      <td id=\"T_5f5d4_row5_col0\" class=\"data row5 col0\" >DZA</td>\n",
       "      <td id=\"T_5f5d4_row5_col1\" class=\"data row5 col1\" >2019</td>\n",
       "      <td id=\"T_5f5d4_row5_col2\" class=\"data row5 col2\" >700,535</td>\n",
       "      <td id=\"T_5f5d4_row5_col3\" class=\"data row5 col3\" >4.123860</td>\n",
       "      <td id=\"T_5f5d4_row5_col4\" class=\"data row5 col4\" >42,705,369</td>\n",
       "      <td id=\"T_5f5d4_row5_col5\" class=\"data row5 col5\" >0.549976</td>\n",
       "      <td id=\"T_5f5d4_row5_col6\" class=\"data row5 col6\" >0.016404</td>\n",
       "      <td id=\"T_5f5d4_row5_col7\" class=\"data row5 col7\" >Algeria</td>\n",
       "    </tr>\n",
       "    <tr>\n",
       "      <th id=\"T_5f5d4_level0_row6\" class=\"row_heading level0 row6\" >7</th>\n",
       "      <td id=\"T_5f5d4_row6_col0\" class=\"data row6 col0\" >SYC</td>\n",
       "      <td id=\"T_5f5d4_row6_col1\" class=\"data row6 col1\" >2019</td>\n",
       "      <td id=\"T_5f5d4_row6_col2\" class=\"data row6 col2\" >1,501</td>\n",
       "      <td id=\"T_5f5d4_row6_col3\" class=\"data row6 col3\" >0.008836</td>\n",
       "      <td id=\"T_5f5d4_row6_col4\" class=\"data row6 col4\" >104,373</td>\n",
       "      <td id=\"T_5f5d4_row6_col5\" class=\"data row6 col5\" >0.001344</td>\n",
       "      <td id=\"T_5f5d4_row6_col6\" class=\"data row6 col6\" >0.014381</td>\n",
       "      <td id=\"T_5f5d4_row6_col7\" class=\"data row6 col7\" >Seychelles</td>\n",
       "    </tr>\n",
       "    <tr>\n",
       "      <th id=\"T_5f5d4_level0_row7\" class=\"row_heading level0 row7\" >8</th>\n",
       "      <td id=\"T_5f5d4_row7_col0\" class=\"data row7 col0\" >SAU</td>\n",
       "      <td id=\"T_5f5d4_row7_col1\" class=\"data row7 col1\" >2019</td>\n",
       "      <td id=\"T_5f5d4_row7_col2\" class=\"data row7 col2\" >514,832</td>\n",
       "      <td id=\"T_5f5d4_row7_col3\" class=\"data row7 col3\" >3.030677</td>\n",
       "      <td id=\"T_5f5d4_row7_col4\" class=\"data row7 col4\" >35,827,362</td>\n",
       "      <td id=\"T_5f5d4_row7_col5\" class=\"data row7 col5\" >0.461398</td>\n",
       "      <td id=\"T_5f5d4_row7_col6\" class=\"data row7 col6\" >0.014370</td>\n",
       "      <td id=\"T_5f5d4_row7_col7\" class=\"data row7 col7\" >Saudi Arabia</td>\n",
       "    </tr>\n",
       "    <tr>\n",
       "      <th id=\"T_5f5d4_level0_row8\" class=\"row_heading level0 row8\" >9</th>\n",
       "      <td id=\"T_5f5d4_row8_col0\" class=\"data row8 col0\" >KWT</td>\n",
       "      <td id=\"T_5f5d4_row8_col1\" class=\"data row8 col1\" >2019</td>\n",
       "      <td id=\"T_5f5d4_row8_col2\" class=\"data row8 col2\" >63,492</td>\n",
       "      <td id=\"T_5f5d4_row8_col3\" class=\"data row8 col3\" >0.373760</td>\n",
       "      <td id=\"T_5f5d4_row8_col4\" class=\"data row8 col4\" >4,441,100</td>\n",
       "      <td id=\"T_5f5d4_row8_col5\" class=\"data row8 col5\" >0.057194</td>\n",
       "      <td id=\"T_5f5d4_row8_col6\" class=\"data row8 col6\" >0.014296</td>\n",
       "      <td id=\"T_5f5d4_row8_col7\" class=\"data row8 col7\" >Kuwait</td>\n",
       "    </tr>\n",
       "    <tr>\n",
       "      <th id=\"T_5f5d4_level0_row9\" class=\"row_heading level0 row9\" >10</th>\n",
       "      <td id=\"T_5f5d4_row9_col0\" class=\"data row9 col0\" >JOR</td>\n",
       "      <td id=\"T_5f5d4_row9_col1\" class=\"data row9 col1\" >2019</td>\n",
       "      <td id=\"T_5f5d4_row9_col2\" class=\"data row9 col2\" >123,537</td>\n",
       "      <td id=\"T_5f5d4_row9_col3\" class=\"data row9 col3\" >0.727229</td>\n",
       "      <td id=\"T_5f5d4_row9_col4\" class=\"data row9 col4\" >10,698,684</td>\n",
       "      <td id=\"T_5f5d4_row9_col5\" class=\"data row9 col5\" >0.137782</td>\n",
       "      <td id=\"T_5f5d4_row9_col6\" class=\"data row9 col6\" >0.011547</td>\n",
       "      <td id=\"T_5f5d4_row9_col7\" class=\"data row9 col7\" >Jordan</td>\n",
       "    </tr>\n",
       "    <tr>\n",
       "      <th id=\"T_5f5d4_level0_row10\" class=\"row_heading level0 row10\" >11</th>\n",
       "      <td id=\"T_5f5d4_row10_col0\" class=\"data row10 col0\" >MDV</td>\n",
       "      <td id=\"T_5f5d4_row10_col1\" class=\"data row10 col1\" >2019</td>\n",
       "      <td id=\"T_5f5d4_row10_col2\" class=\"data row10 col2\" >4,865</td>\n",
       "      <td id=\"T_5f5d4_row10_col3\" class=\"data row10 col3\" >0.028639</td>\n",
       "      <td id=\"T_5f5d4_row10_col4\" class=\"data row10 col4\" >504,508</td>\n",
       "      <td id=\"T_5f5d4_row10_col5\" class=\"data row10 col5\" >0.006497</td>\n",
       "      <td id=\"T_5f5d4_row10_col6\" class=\"data row10 col6\" >0.009643</td>\n",
       "      <td id=\"T_5f5d4_row10_col7\" class=\"data row10 col7\" >Maldives</td>\n",
       "    </tr>\n",
       "    <tr>\n",
       "      <th id=\"T_5f5d4_level0_row11\" class=\"row_heading level0 row11\" >12</th>\n",
       "      <td id=\"T_5f5d4_row11_col0\" class=\"data row11 col0\" >MCO</td>\n",
       "      <td id=\"T_5f5d4_row11_col1\" class=\"data row11 col1\" >2019</td>\n",
       "      <td id=\"T_5f5d4_row11_col2\" class=\"data row11 col2\" >340</td>\n",
       "      <td id=\"T_5f5d4_row11_col3\" class=\"data row11 col3\" >0.002001</td>\n",
       "      <td id=\"T_5f5d4_row11_col4\" class=\"data row11 col4\" >37,034</td>\n",
       "      <td id=\"T_5f5d4_row11_col5\" class=\"data row11 col5\" >0.000477</td>\n",
       "      <td id=\"T_5f5d4_row11_col6\" class=\"data row11 col6\" >0.009181</td>\n",
       "      <td id=\"T_5f5d4_row11_col7\" class=\"data row11 col7\" >Monaco</td>\n",
       "    </tr>\n",
       "    <tr>\n",
       "      <th id=\"T_5f5d4_level0_row12\" class=\"row_heading level0 row12\" >13</th>\n",
       "      <td id=\"T_5f5d4_row12_col0\" class=\"data row12 col0\" >OMN</td>\n",
       "      <td id=\"T_5f5d4_row12_col1\" class=\"data row12 col1\" >2019</td>\n",
       "      <td id=\"T_5f5d4_row12_col2\" class=\"data row12 col2\" >41,494</td>\n",
       "      <td id=\"T_5f5d4_row12_col3\" class=\"data row12 col3\" >0.244264</td>\n",
       "      <td id=\"T_5f5d4_row12_col4\" class=\"data row12 col4\" >4,602,768</td>\n",
       "      <td id=\"T_5f5d4_row12_col5\" class=\"data row12 col5\" >0.059276</td>\n",
       "      <td id=\"T_5f5d4_row12_col6\" class=\"data row12 col6\" >0.009015</td>\n",
       "      <td id=\"T_5f5d4_row12_col7\" class=\"data row12 col7\" >Oman</td>\n",
       "    </tr>\n",
       "    <tr>\n",
       "      <th id=\"T_5f5d4_level0_row13\" class=\"row_heading level0 row13\" >14</th>\n",
       "      <td id=\"T_5f5d4_row13_col0\" class=\"data row13 col0\" >MAR</td>\n",
       "      <td id=\"T_5f5d4_row13_col1\" class=\"data row13 col1\" >2019</td>\n",
       "      <td id=\"T_5f5d4_row13_col2\" class=\"data row13 col2\" >322,889</td>\n",
       "      <td id=\"T_5f5d4_row13_col3\" class=\"data row13 col3\" >1.900760</td>\n",
       "      <td id=\"T_5f5d4_row13_col4\" class=\"data row13 col4\" >36,304,408</td>\n",
       "      <td id=\"T_5f5d4_row13_col5\" class=\"data row13 col5\" >0.467542</td>\n",
       "      <td id=\"T_5f5d4_row13_col6\" class=\"data row13 col6\" >0.008894</td>\n",
       "      <td id=\"T_5f5d4_row13_col7\" class=\"data row13 col7\" >Morocco</td>\n",
       "    </tr>\n",
       "    <tr>\n",
       "      <th id=\"T_5f5d4_level0_row14\" class=\"row_heading level0 row14\" >15</th>\n",
       "      <td id=\"T_5f5d4_row14_col0\" class=\"data row14 col0\" >PSE</td>\n",
       "      <td id=\"T_5f5d4_row14_col1\" class=\"data row14 col1\" >2019</td>\n",
       "      <td id=\"T_5f5d4_row14_col2\" class=\"data row14 col2\" >37,008</td>\n",
       "      <td id=\"T_5f5d4_row14_col3\" class=\"data row14 col3\" >0.217856</td>\n",
       "      <td id=\"T_5f5d4_row14_col4\" class=\"data row14 col4\" >4,909,775</td>\n",
       "      <td id=\"T_5f5d4_row14_col5\" class=\"data row14 col5\" >0.063230</td>\n",
       "      <td id=\"T_5f5d4_row14_col6\" class=\"data row14 col6\" >0.007538</td>\n",
       "      <td id=\"T_5f5d4_row14_col7\" class=\"data row14 col7\" >Palestine</td>\n",
       "    </tr>\n",
       "    <tr>\n",
       "      <th id=\"T_5f5d4_level0_row15\" class=\"row_heading level0 row15\" >16</th>\n",
       "      <td id=\"T_5f5d4_row15_col0\" class=\"data row15 col0\" >PHL</td>\n",
       "      <td id=\"T_5f5d4_row15_col1\" class=\"data row15 col1\" >2019</td>\n",
       "      <td id=\"T_5f5d4_row15_col2\" class=\"data row15 col2\" >801,272</td>\n",
       "      <td id=\"T_5f5d4_row15_col3\" class=\"data row15 col3\" >4.716872</td>\n",
       "      <td id=\"T_5f5d4_row15_col4\" class=\"data row15 col4\" >110,380,805</td>\n",
       "      <td id=\"T_5f5d4_row15_col5\" class=\"data row15 col5\" >1.421526</td>\n",
       "      <td id=\"T_5f5d4_row15_col6\" class=\"data row15 col6\" >0.007259</td>\n",
       "      <td id=\"T_5f5d4_row15_col7\" class=\"data row15 col7\" >Philippines</td>\n",
       "    </tr>\n",
       "    <tr>\n",
       "      <th id=\"T_5f5d4_level0_row16\" class=\"row_heading level0 row16\" >17</th>\n",
       "      <td id=\"T_5f5d4_row16_col0\" class=\"data row16 col0\" >MEX</td>\n",
       "      <td id=\"T_5f5d4_row16_col1\" class=\"data row16 col1\" >2019</td>\n",
       "      <td id=\"T_5f5d4_row16_col2\" class=\"data row16 col2\" >827,988</td>\n",
       "      <td id=\"T_5f5d4_row16_col3\" class=\"data row16 col3\" >4.874141</td>\n",
       "      <td id=\"T_5f5d4_row16_col4\" class=\"data row16 col4\" >125,085,311</td>\n",
       "      <td id=\"T_5f5d4_row16_col5\" class=\"data row16 col5\" >1.610896</td>\n",
       "      <td id=\"T_5f5d4_row16_col6\" class=\"data row16 col6\" >0.006619</td>\n",
       "      <td id=\"T_5f5d4_row16_col7\" class=\"data row16 col7\" >Mexico</td>\n",
       "    </tr>\n",
       "    <tr>\n",
       "      <th id=\"T_5f5d4_level0_row17\" class=\"row_heading level0 row17\" >18</th>\n",
       "      <td id=\"T_5f5d4_row17_col0\" class=\"data row17 col0\" >USA</td>\n",
       "      <td id=\"T_5f5d4_row17_col1\" class=\"data row17 col1\" >2019</td>\n",
       "      <td id=\"T_5f5d4_row17_col2\" class=\"data row17 col2\" >2,189,815</td>\n",
       "      <td id=\"T_5f5d4_row17_col3\" class=\"data row17 col3\" >12.890849</td>\n",
       "      <td id=\"T_5f5d4_row17_col4\" class=\"data row17 col4\" >334,319,671</td>\n",
       "      <td id=\"T_5f5d4_row17_col5\" class=\"data row17 col5\" >4.305496</td>\n",
       "      <td id=\"T_5f5d4_row17_col6\" class=\"data row17 col6\" >0.006550</td>\n",
       "      <td id=\"T_5f5d4_row17_col7\" class=\"data row17 col7\" >United States of America</td>\n",
       "    </tr>\n",
       "    <tr>\n",
       "      <th id=\"T_5f5d4_level0_row18\" class=\"row_heading level0 row18\" >19</th>\n",
       "      <td id=\"T_5f5d4_row18_col0\" class=\"data row18 col0\" >ALB</td>\n",
       "      <td id=\"T_5f5d4_row18_col1\" class=\"data row18 col1\" >2019</td>\n",
       "      <td id=\"T_5f5d4_row18_col2\" class=\"data row18 col2\" >17,545</td>\n",
       "      <td id=\"T_5f5d4_row18_col3\" class=\"data row18 col3\" >0.103283</td>\n",
       "      <td id=\"T_5f5d4_row18_col4\" class=\"data row18 col4\" >2,873,884</td>\n",
       "      <td id=\"T_5f5d4_row18_col5\" class=\"data row18 col5\" >0.037011</td>\n",
       "      <td id=\"T_5f5d4_row18_col6\" class=\"data row18 col6\" >0.006105</td>\n",
       "      <td id=\"T_5f5d4_row18_col7\" class=\"data row18 col7\" >Albania</td>\n",
       "    </tr>\n",
       "    <tr>\n",
       "      <th id=\"T_5f5d4_level0_row19\" class=\"row_heading level0 row19\" >20</th>\n",
       "      <td id=\"T_5f5d4_row19_col0\" class=\"data row19 col0\" >BTN</td>\n",
       "      <td id=\"T_5f5d4_row19_col1\" class=\"data row19 col1\" >2019</td>\n",
       "      <td id=\"T_5f5d4_row19_col2\" class=\"data row19 col2\" >4,597</td>\n",
       "      <td id=\"T_5f5d4_row19_col3\" class=\"data row19 col3\" >0.027061</td>\n",
       "      <td id=\"T_5f5d4_row19_col4\" class=\"data row19 col4\" >767,459</td>\n",
       "      <td id=\"T_5f5d4_row19_col5\" class=\"data row19 col5\" >0.009884</td>\n",
       "      <td id=\"T_5f5d4_row19_col6\" class=\"data row19 col6\" >0.005990</td>\n",
       "      <td id=\"T_5f5d4_row19_col7\" class=\"data row19 col7\" >Bhutan</td>\n",
       "    </tr>\n",
       "  </tbody>\n",
       "</table>\n"
      ],
      "text/plain": [
       "<IPython.core.display.HTML object>"
      ]
     },
     "metadata": {},
     "output_type": "display_data"
    },
    {
     "data": {
      "text/html": [
       "<style type=\"text/css\">\n",
       "#T_fddbc caption {\n",
       "  caption-side: bottom;\n",
       "  font-style: italic;\n",
       "  margin-top: 1ex;\n",
       "}\n",
       "#T_fddbc_row0_col6, #T_fddbc_row1_col6, #T_fddbc_row2_col6, #T_fddbc_row3_col6, #T_fddbc_row4_col6, #T_fddbc_row5_col6, #T_fddbc_row6_col6, #T_fddbc_row7_col6, #T_fddbc_row8_col6, #T_fddbc_row9_col6, #T_fddbc_row10_col6, #T_fddbc_row11_col6, #T_fddbc_row12_col6, #T_fddbc_row13_col6, #T_fddbc_row14_col6, #T_fddbc_row15_col6, #T_fddbc_row16_col6, #T_fddbc_row17_col6, #T_fddbc_row18_col6, #T_fddbc_row19_col6 {\n",
       "  background-color: #ffffb3;\n",
       "}\n",
       "</style>\n",
       "<table id=\"T_fddbc\">\n",
       "  <caption>reports per capita and country 2020</caption>\n",
       "  <thead>\n",
       "    <tr>\n",
       "      <th class=\"blank level0\" >&nbsp;</th>\n",
       "      <th id=\"T_fddbc_level0_col0\" class=\"col_heading level0 col0\" >iso3</th>\n",
       "      <th id=\"T_fddbc_level0_col1\" class=\"col_heading level0 col1\" >year</th>\n",
       "      <th id=\"T_fddbc_level0_col2\" class=\"col_heading level0 col2\" >reports</th>\n",
       "      <th id=\"T_fddbc_level0_col3\" class=\"col_heading level0 col3\" >reports_pct</th>\n",
       "      <th id=\"T_fddbc_level0_col4\" class=\"col_heading level0 col4\" >population</th>\n",
       "      <th id=\"T_fddbc_level0_col5\" class=\"col_heading level0 col5\" >population_pct</th>\n",
       "      <th id=\"T_fddbc_level0_col6\" class=\"col_heading level0 col6\" >reports_per_capita</th>\n",
       "      <th id=\"T_fddbc_level0_col7\" class=\"col_heading level0 col7\" >country</th>\n",
       "    </tr>\n",
       "    <tr>\n",
       "      <th class=\"index_name level0\" >rank</th>\n",
       "      <th class=\"blank col0\" >&nbsp;</th>\n",
       "      <th class=\"blank col1\" >&nbsp;</th>\n",
       "      <th class=\"blank col2\" >&nbsp;</th>\n",
       "      <th class=\"blank col3\" >&nbsp;</th>\n",
       "      <th class=\"blank col4\" >&nbsp;</th>\n",
       "      <th class=\"blank col5\" >&nbsp;</th>\n",
       "      <th class=\"blank col6\" >&nbsp;</th>\n",
       "      <th class=\"blank col7\" >&nbsp;</th>\n",
       "    </tr>\n",
       "  </thead>\n",
       "  <tbody>\n",
       "    <tr>\n",
       "      <th id=\"T_fddbc_level0_row0\" class=\"row_heading level0 row0\" >1</th>\n",
       "      <td id=\"T_fddbc_row0_col0\" class=\"data row0 col0\" >LBY</td>\n",
       "      <td id=\"T_fddbc_row0_col1\" class=\"data row0 col1\" >2020</td>\n",
       "      <td id=\"T_fddbc_row0_col2\" class=\"data row0 col2\" >189,955</td>\n",
       "      <td id=\"T_fddbc_row0_col3\" class=\"data row0 col3\" >0.873313</td>\n",
       "      <td id=\"T_fddbc_row0_col4\" class=\"data row0 col4\" >6,653,942</td>\n",
       "      <td id=\"T_fddbc_row0_col5\" class=\"data row0 col5\" >0.084861</td>\n",
       "      <td id=\"T_fddbc_row0_col6\" class=\"data row0 col6\" >0.028548</td>\n",
       "      <td id=\"T_fddbc_row0_col7\" class=\"data row0 col7\" >Libya</td>\n",
       "    </tr>\n",
       "    <tr>\n",
       "      <th id=\"T_fddbc_level0_row1\" class=\"row_heading level0 row1\" >2</th>\n",
       "      <td id=\"T_fddbc_row1_col0\" class=\"data row1 col0\" >DZA</td>\n",
       "      <td id=\"T_fddbc_row1_col1\" class=\"data row1 col1\" >2020</td>\n",
       "      <td id=\"T_fddbc_row1_col2\" class=\"data row1 col2\" >1,102,939</td>\n",
       "      <td id=\"T_fddbc_row1_col3\" class=\"data row1 col3\" >5.070731</td>\n",
       "      <td id=\"T_fddbc_row1_col4\" class=\"data row1 col4\" >43,451,666</td>\n",
       "      <td id=\"T_fddbc_row1_col5\" class=\"data row1 col5\" >0.554163</td>\n",
       "      <td id=\"T_fddbc_row1_col6\" class=\"data row1 col6\" >0.025383</td>\n",
       "      <td id=\"T_fddbc_row1_col7\" class=\"data row1 col7\" >Algeria</td>\n",
       "    </tr>\n",
       "    <tr>\n",
       "      <th id=\"T_fddbc_level0_row2\" class=\"row_heading level0 row2\" >3</th>\n",
       "      <td id=\"T_fddbc_row2_col0\" class=\"data row2 col0\" >MCO</td>\n",
       "      <td id=\"T_fddbc_row2_col1\" class=\"data row2 col1\" >2020</td>\n",
       "      <td id=\"T_fddbc_row2_col2\" class=\"data row2 col2\" >886</td>\n",
       "      <td id=\"T_fddbc_row2_col3\" class=\"data row2 col3\" >0.004073</td>\n",
       "      <td id=\"T_fddbc_row2_col4\" class=\"data row2 col4\" >36,922</td>\n",
       "      <td id=\"T_fddbc_row2_col5\" class=\"data row2 col5\" >0.000471</td>\n",
       "      <td id=\"T_fddbc_row2_col6\" class=\"data row2 col6\" >0.023997</td>\n",
       "      <td id=\"T_fddbc_row2_col7\" class=\"data row2 col7\" >Monaco</td>\n",
       "    </tr>\n",
       "    <tr>\n",
       "      <th id=\"T_fddbc_level0_row3\" class=\"row_heading level0 row3\" >4</th>\n",
       "      <td id=\"T_fddbc_row3_col0\" class=\"data row3 col0\" >ARE</td>\n",
       "      <td id=\"T_fddbc_row3_col1\" class=\"data row3 col1\" >2020</td>\n",
       "      <td id=\"T_fddbc_row3_col2\" class=\"data row3 col2\" >216,874</td>\n",
       "      <td id=\"T_fddbc_row3_col3\" class=\"data row3 col3\" >0.997072</td>\n",
       "      <td id=\"T_fddbc_row3_col4\" class=\"data row3 col4\" >9,287,289</td>\n",
       "      <td id=\"T_fddbc_row3_col5\" class=\"data row3 col5\" >0.118446</td>\n",
       "      <td id=\"T_fddbc_row3_col6\" class=\"data row3 col6\" >0.023352</td>\n",
       "      <td id=\"T_fddbc_row3_col7\" class=\"data row3 col7\" >United Arab Emirates</td>\n",
       "    </tr>\n",
       "    <tr>\n",
       "      <th id=\"T_fddbc_level0_row4\" class=\"row_heading level0 row4\" >5</th>\n",
       "      <td id=\"T_fddbc_row4_col0\" class=\"data row4 col0\" >IRQ</td>\n",
       "      <td id=\"T_fddbc_row4_col1\" class=\"data row4 col1\" >2020</td>\n",
       "      <td id=\"T_fddbc_row4_col2\" class=\"data row4 col2\" >919,966</td>\n",
       "      <td id=\"T_fddbc_row4_col3\" class=\"data row4 col3\" >4.229518</td>\n",
       "      <td id=\"T_fddbc_row4_col4\" class=\"data row4 col4\" >42,556,984</td>\n",
       "      <td id=\"T_fddbc_row4_col5\" class=\"data row4 col5\" >0.542753</td>\n",
       "      <td id=\"T_fddbc_row4_col6\" class=\"data row4 col6\" >0.021617</td>\n",
       "      <td id=\"T_fddbc_row4_col7\" class=\"data row4 col7\" >Iraq</td>\n",
       "    </tr>\n",
       "    <tr>\n",
       "      <th id=\"T_fddbc_level0_row5\" class=\"row_heading level0 row5\" >6</th>\n",
       "      <td id=\"T_fddbc_row5_col0\" class=\"data row5 col0\" >QAT</td>\n",
       "      <td id=\"T_fddbc_row5_col1\" class=\"data row5 col1\" >2020</td>\n",
       "      <td id=\"T_fddbc_row5_col2\" class=\"data row5 col2\" >56,683</td>\n",
       "      <td id=\"T_fddbc_row5_col3\" class=\"data row5 col3\" >0.260598</td>\n",
       "      <td id=\"T_fddbc_row5_col4\" class=\"data row5 col4\" >2,760,385</td>\n",
       "      <td id=\"T_fddbc_row5_col5\" class=\"data row5 col5\" >0.035205</td>\n",
       "      <td id=\"T_fddbc_row5_col6\" class=\"data row5 col6\" >0.020534</td>\n",
       "      <td id=\"T_fddbc_row5_col7\" class=\"data row5 col7\" >Qatar</td>\n",
       "    </tr>\n",
       "    <tr>\n",
       "      <th id=\"T_fddbc_level0_row6\" class=\"row_heading level0 row6\" >7</th>\n",
       "      <td id=\"T_fddbc_row6_col0\" class=\"data row6 col0\" >BTN</td>\n",
       "      <td id=\"T_fddbc_row6_col1\" class=\"data row6 col1\" >2020</td>\n",
       "      <td id=\"T_fddbc_row6_col2\" class=\"data row6 col2\" >15,379</td>\n",
       "      <td id=\"T_fddbc_row6_col3\" class=\"data row6 col3\" >0.070705</td>\n",
       "      <td id=\"T_fddbc_row6_col4\" class=\"data row6 col4\" >772,506</td>\n",
       "      <td id=\"T_fddbc_row6_col5\" class=\"data row6 col5\" >0.009852</td>\n",
       "      <td id=\"T_fddbc_row6_col6\" class=\"data row6 col6\" >0.019908</td>\n",
       "      <td id=\"T_fddbc_row6_col7\" class=\"data row6 col7\" >Bhutan</td>\n",
       "    </tr>\n",
       "    <tr>\n",
       "      <th id=\"T_fddbc_level0_row7\" class=\"row_heading level0 row7\" >8</th>\n",
       "      <td id=\"T_fddbc_row7_col0\" class=\"data row7 col0\" >MAR</td>\n",
       "      <td id=\"T_fddbc_row7_col1\" class=\"data row7 col1\" >2020</td>\n",
       "      <td id=\"T_fddbc_row7_col2\" class=\"data row7 col2\" >705,863</td>\n",
       "      <td id=\"T_fddbc_row7_col3\" class=\"data row7 col3\" >3.245185</td>\n",
       "      <td id=\"T_fddbc_row7_col4\" class=\"data row7 col4\" >36,688,772</td>\n",
       "      <td id=\"T_fddbc_row7_col5\" class=\"data row7 col5\" >0.467912</td>\n",
       "      <td id=\"T_fddbc_row7_col6\" class=\"data row7 col6\" >0.019239</td>\n",
       "      <td id=\"T_fddbc_row7_col7\" class=\"data row7 col7\" >Morocco</td>\n",
       "    </tr>\n",
       "    <tr>\n",
       "      <th id=\"T_fddbc_level0_row8\" class=\"row_heading level0 row8\" >9</th>\n",
       "      <td id=\"T_fddbc_row8_col0\" class=\"data row8 col0\" >KWT</td>\n",
       "      <td id=\"T_fddbc_row8_col1\" class=\"data row8 col1\" >2020</td>\n",
       "      <td id=\"T_fddbc_row8_col2\" class=\"data row8 col2\" >68,582</td>\n",
       "      <td id=\"T_fddbc_row8_col3\" class=\"data row8 col3\" >0.315304</td>\n",
       "      <td id=\"T_fddbc_row8_col4\" class=\"data row8 col4\" >4,360,445</td>\n",
       "      <td id=\"T_fddbc_row8_col5\" class=\"data row8 col5\" >0.055611</td>\n",
       "      <td id=\"T_fddbc_row8_col6\" class=\"data row8 col6\" >0.015728</td>\n",
       "      <td id=\"T_fddbc_row8_col7\" class=\"data row8 col7\" >Kuwait</td>\n",
       "    </tr>\n",
       "    <tr>\n",
       "      <th id=\"T_fddbc_level0_row9\" class=\"row_heading level0 row9\" >10</th>\n",
       "      <td id=\"T_fddbc_row9_col0\" class=\"data row9 col0\" >BHR</td>\n",
       "      <td id=\"T_fddbc_row9_col1\" class=\"data row9 col1\" >2020</td>\n",
       "      <td id=\"T_fddbc_row9_col2\" class=\"data row9 col2\" >22,960</td>\n",
       "      <td id=\"T_fddbc_row9_col3\" class=\"data row9 col3\" >0.105558</td>\n",
       "      <td id=\"T_fddbc_row9_col4\" class=\"data row9 col4\" >1,477,469</td>\n",
       "      <td id=\"T_fddbc_row9_col5\" class=\"data row9 col5\" >0.018843</td>\n",
       "      <td id=\"T_fddbc_row9_col6\" class=\"data row9 col6\" >0.015540</td>\n",
       "      <td id=\"T_fddbc_row9_col7\" class=\"data row9 col7\" >Bahrain</td>\n",
       "    </tr>\n",
       "    <tr>\n",
       "      <th id=\"T_fddbc_level0_row10\" class=\"row_heading level0 row10\" >11</th>\n",
       "      <td id=\"T_fddbc_row10_col0\" class=\"data row10 col0\" >COL</td>\n",
       "      <td id=\"T_fddbc_row10_col1\" class=\"data row10 col1\" >2020</td>\n",
       "      <td id=\"T_fddbc_row10_col2\" class=\"data row10 col2\" >763,997</td>\n",
       "      <td id=\"T_fddbc_row10_col3\" class=\"data row10 col3\" >3.512455</td>\n",
       "      <td id=\"T_fddbc_row10_col4\" class=\"data row10 col4\" >50,930,663</td>\n",
       "      <td id=\"T_fddbc_row10_col5\" class=\"data row10 col5\" >0.649547</td>\n",
       "      <td id=\"T_fddbc_row10_col6\" class=\"data row10 col6\" >0.015001</td>\n",
       "      <td id=\"T_fddbc_row10_col7\" class=\"data row10 col7\" >Colombia</td>\n",
       "    </tr>\n",
       "    <tr>\n",
       "      <th id=\"T_fddbc_level0_row11\" class=\"row_heading level0 row11\" >12</th>\n",
       "      <td id=\"T_fddbc_row11_col0\" class=\"data row11 col0\" >PER</td>\n",
       "      <td id=\"T_fddbc_row11_col1\" class=\"data row11 col1\" >2020</td>\n",
       "      <td id=\"T_fddbc_row11_col2\" class=\"data row11 col2\" >490,878</td>\n",
       "      <td id=\"T_fddbc_row11_col3\" class=\"data row11 col3\" >2.256798</td>\n",
       "      <td id=\"T_fddbc_row11_col4\" class=\"data row11 col4\" >33,304,756</td>\n",
       "      <td id=\"T_fddbc_row11_col5\" class=\"data row11 col5\" >0.424754</td>\n",
       "      <td id=\"T_fddbc_row11_col6\" class=\"data row11 col6\" >0.014739</td>\n",
       "      <td id=\"T_fddbc_row11_col7\" class=\"data row11 col7\" >Peru</td>\n",
       "    </tr>\n",
       "    <tr>\n",
       "      <th id=\"T_fddbc_level0_row12\" class=\"row_heading level0 row12\" >13</th>\n",
       "      <td id=\"T_fddbc_row12_col0\" class=\"data row12 col0\" >SAU</td>\n",
       "      <td id=\"T_fddbc_row12_col1\" class=\"data row12 col1\" >2020</td>\n",
       "      <td id=\"T_fddbc_row12_col2\" class=\"data row12 col2\" >510,240</td>\n",
       "      <td id=\"T_fddbc_row12_col3\" class=\"data row12 col3\" >2.345814</td>\n",
       "      <td id=\"T_fddbc_row12_col4\" class=\"data row12 col4\" >35,997,107</td>\n",
       "      <td id=\"T_fddbc_row12_col5\" class=\"data row12 col5\" >0.459091</td>\n",
       "      <td id=\"T_fddbc_row12_col6\" class=\"data row12 col6\" >0.014174</td>\n",
       "      <td id=\"T_fddbc_row12_col7\" class=\"data row12 col7\" >Saudi Arabia</td>\n",
       "    </tr>\n",
       "    <tr>\n",
       "      <th id=\"T_fddbc_level0_row13\" class=\"row_heading level0 row13\" >14</th>\n",
       "      <td id=\"T_fddbc_row13_col0\" class=\"data row13 col0\" >ECU</td>\n",
       "      <td id=\"T_fddbc_row13_col1\" class=\"data row13 col1\" >2020</td>\n",
       "      <td id=\"T_fddbc_row13_col2\" class=\"data row13 col2\" >242,631</td>\n",
       "      <td id=\"T_fddbc_row13_col3\" class=\"data row13 col3\" >1.115489</td>\n",
       "      <td id=\"T_fddbc_row13_col4\" class=\"data row13 col4\" >17,588,596</td>\n",
       "      <td id=\"T_fddbc_row13_col5\" class=\"data row13 col5\" >0.224317</td>\n",
       "      <td id=\"T_fddbc_row13_col6\" class=\"data row13 col6\" >0.013795</td>\n",
       "      <td id=\"T_fddbc_row13_col7\" class=\"data row13 col7\" >Ecuador</td>\n",
       "    </tr>\n",
       "    <tr>\n",
       "      <th id=\"T_fddbc_level0_row14\" class=\"row_heading level0 row14\" >15</th>\n",
       "      <td id=\"T_fddbc_row14_col0\" class=\"data row14 col0\" >MDV</td>\n",
       "      <td id=\"T_fddbc_row14_col1\" class=\"data row14 col1\" >2020</td>\n",
       "      <td id=\"T_fddbc_row14_col2\" class=\"data row14 col2\" >6,627</td>\n",
       "      <td id=\"T_fddbc_row14_col3\" class=\"data row14 col3\" >0.030467</td>\n",
       "      <td id=\"T_fddbc_row14_col4\" class=\"data row14 col4\" >514,438</td>\n",
       "      <td id=\"T_fddbc_row14_col5\" class=\"data row14 col5\" >0.006561</td>\n",
       "      <td id=\"T_fddbc_row14_col6\" class=\"data row14 col6\" >0.012882</td>\n",
       "      <td id=\"T_fddbc_row14_col7\" class=\"data row14 col7\" >Maldives</td>\n",
       "    </tr>\n",
       "    <tr>\n",
       "      <th id=\"T_fddbc_level0_row15\" class=\"row_heading level0 row15\" >16</th>\n",
       "      <td id=\"T_fddbc_row15_col0\" class=\"data row15 col0\" >PHL</td>\n",
       "      <td id=\"T_fddbc_row15_col1\" class=\"data row15 col1\" >2020</td>\n",
       "      <td id=\"T_fddbc_row15_col2\" class=\"data row15 col2\" >1,339,597</td>\n",
       "      <td id=\"T_fddbc_row15_col3\" class=\"data row15 col3\" >6.158759</td>\n",
       "      <td id=\"T_fddbc_row15_col4\" class=\"data row15 col4\" >112,190,978</td>\n",
       "      <td id=\"T_fddbc_row15_col5\" class=\"data row15 col5\" >1.430834</td>\n",
       "      <td id=\"T_fddbc_row15_col6\" class=\"data row15 col6\" >0.011940</td>\n",
       "      <td id=\"T_fddbc_row15_col7\" class=\"data row15 col7\" >Philippines</td>\n",
       "    </tr>\n",
       "    <tr>\n",
       "      <th id=\"T_fddbc_level0_row16\" class=\"row_heading level0 row16\" >17</th>\n",
       "      <td id=\"T_fddbc_row16_col0\" class=\"data row16 col0\" >SLV</td>\n",
       "      <td id=\"T_fddbc_row16_col1\" class=\"data row16 col1\" >2020</td>\n",
       "      <td id=\"T_fddbc_row16_col2\" class=\"data row16 col2\" >73,197</td>\n",
       "      <td id=\"T_fddbc_row16_col3\" class=\"data row16 col3\" >0.336521</td>\n",
       "      <td id=\"T_fddbc_row16_col4\" class=\"data row16 col4\" >6,292,731</td>\n",
       "      <td id=\"T_fddbc_row16_col5\" class=\"data row16 col5\" >0.080255</td>\n",
       "      <td id=\"T_fddbc_row16_col6\" class=\"data row16 col6\" >0.011632</td>\n",
       "      <td id=\"T_fddbc_row16_col7\" class=\"data row16 col7\" >El Salvador</td>\n",
       "    </tr>\n",
       "    <tr>\n",
       "      <th id=\"T_fddbc_level0_row17\" class=\"row_heading level0 row17\" >18</th>\n",
       "      <td id=\"T_fddbc_row17_col0\" class=\"data row17 col0\" >KHM</td>\n",
       "      <td id=\"T_fddbc_row17_col1\" class=\"data row17 col1\" >2020</td>\n",
       "      <td id=\"T_fddbc_row17_col2\" class=\"data row17 col2\" >188,328</td>\n",
       "      <td id=\"T_fddbc_row17_col3\" class=\"data row17 col3\" >0.865833</td>\n",
       "      <td id=\"T_fddbc_row17_col4\" class=\"data row17 col4\" >16,396,860</td>\n",
       "      <td id=\"T_fddbc_row17_col5\" class=\"data row17 col5\" >0.209118</td>\n",
       "      <td id=\"T_fddbc_row17_col6\" class=\"data row17 col6\" >0.011486</td>\n",
       "      <td id=\"T_fddbc_row17_col7\" class=\"data row17 col7\" >Cambodia</td>\n",
       "    </tr>\n",
       "    <tr>\n",
       "      <th id=\"T_fddbc_level0_row18\" class=\"row_heading level0 row18\" >19</th>\n",
       "      <td id=\"T_fddbc_row18_col0\" class=\"data row18 col0\" >MNE</td>\n",
       "      <td id=\"T_fddbc_row18_col1\" class=\"data row18 col1\" >2020</td>\n",
       "      <td id=\"T_fddbc_row18_col2\" class=\"data row18 col2\" >6,784</td>\n",
       "      <td id=\"T_fddbc_row18_col3\" class=\"data row18 col3\" >0.031189</td>\n",
       "      <td id=\"T_fddbc_row18_col4\" class=\"data row18 col4\" >629,048</td>\n",
       "      <td id=\"T_fddbc_row18_col5\" class=\"data row18 col5\" >0.008023</td>\n",
       "      <td id=\"T_fddbc_row18_col6\" class=\"data row18 col6\" >0.010785</td>\n",
       "      <td id=\"T_fddbc_row18_col7\" class=\"data row18 col7\" >Montenegro</td>\n",
       "    </tr>\n",
       "    <tr>\n",
       "      <th id=\"T_fddbc_level0_row19\" class=\"row_heading level0 row19\" >20</th>\n",
       "      <td id=\"T_fddbc_row19_col0\" class=\"data row19 col0\" >JOR</td>\n",
       "      <td id=\"T_fddbc_row19_col1\" class=\"data row19 col1\" >2020</td>\n",
       "      <td id=\"T_fddbc_row19_col2\" class=\"data row19 col2\" >115,267</td>\n",
       "      <td id=\"T_fddbc_row19_col3\" class=\"data row19 col3\" >0.529937</td>\n",
       "      <td id=\"T_fddbc_row19_col4\" class=\"data row19 col4\" >10,928,721</td>\n",
       "      <td id=\"T_fddbc_row19_col5\" class=\"data row19 col5\" >0.139380</td>\n",
       "      <td id=\"T_fddbc_row19_col6\" class=\"data row19 col6\" >0.010547</td>\n",
       "      <td id=\"T_fddbc_row19_col7\" class=\"data row19 col7\" >Jordan</td>\n",
       "    </tr>\n",
       "  </tbody>\n",
       "</table>\n"
      ],
      "text/plain": [
       "<IPython.core.display.HTML object>"
      ]
     },
     "metadata": {},
     "output_type": "display_data"
    },
    {
     "data": {
      "text/html": [
       "<style type=\"text/css\">\n",
       "#T_f33c1 caption {\n",
       "  caption-side: bottom;\n",
       "  font-style: italic;\n",
       "  margin-top: 1ex;\n",
       "}\n",
       "#T_f33c1_row0_col6, #T_f33c1_row1_col6, #T_f33c1_row2_col6, #T_f33c1_row3_col6, #T_f33c1_row4_col6, #T_f33c1_row5_col6, #T_f33c1_row6_col6, #T_f33c1_row7_col6, #T_f33c1_row8_col6, #T_f33c1_row9_col6, #T_f33c1_row10_col6, #T_f33c1_row11_col6, #T_f33c1_row12_col6, #T_f33c1_row13_col6, #T_f33c1_row14_col6, #T_f33c1_row15_col6, #T_f33c1_row16_col6, #T_f33c1_row17_col6, #T_f33c1_row18_col6, #T_f33c1_row19_col6 {\n",
       "  background-color: #ffffb3;\n",
       "}\n",
       "</style>\n",
       "<table id=\"T_f33c1\">\n",
       "  <caption>reports per capita and country 2021</caption>\n",
       "  <thead>\n",
       "    <tr>\n",
       "      <th class=\"blank level0\" >&nbsp;</th>\n",
       "      <th id=\"T_f33c1_level0_col0\" class=\"col_heading level0 col0\" >iso3</th>\n",
       "      <th id=\"T_f33c1_level0_col1\" class=\"col_heading level0 col1\" >year</th>\n",
       "      <th id=\"T_f33c1_level0_col2\" class=\"col_heading level0 col2\" >reports</th>\n",
       "      <th id=\"T_f33c1_level0_col3\" class=\"col_heading level0 col3\" >reports_pct</th>\n",
       "      <th id=\"T_f33c1_level0_col4\" class=\"col_heading level0 col4\" >population</th>\n",
       "      <th id=\"T_f33c1_level0_col5\" class=\"col_heading level0 col5\" >population_pct</th>\n",
       "      <th id=\"T_f33c1_level0_col6\" class=\"col_heading level0 col6\" >reports_per_capita</th>\n",
       "      <th id=\"T_f33c1_level0_col7\" class=\"col_heading level0 col7\" >country</th>\n",
       "    </tr>\n",
       "    <tr>\n",
       "      <th class=\"index_name level0\" >rank</th>\n",
       "      <th class=\"blank col0\" >&nbsp;</th>\n",
       "      <th class=\"blank col1\" >&nbsp;</th>\n",
       "      <th class=\"blank col2\" >&nbsp;</th>\n",
       "      <th class=\"blank col3\" >&nbsp;</th>\n",
       "      <th class=\"blank col4\" >&nbsp;</th>\n",
       "      <th class=\"blank col5\" >&nbsp;</th>\n",
       "      <th class=\"blank col6\" >&nbsp;</th>\n",
       "      <th class=\"blank col7\" >&nbsp;</th>\n",
       "    </tr>\n",
       "  </thead>\n",
       "  <tbody>\n",
       "    <tr>\n",
       "      <th id=\"T_f33c1_level0_row0\" class=\"row_heading level0 row0\" >1</th>\n",
       "      <td id=\"T_f33c1_row0_col0\" class=\"data row0 col0\" >LBY</td>\n",
       "      <td id=\"T_f33c1_row0_col1\" class=\"data row0 col1\" >2021</td>\n",
       "      <td id=\"T_f33c1_row0_col2\" class=\"data row0 col2\" >270,811</td>\n",
       "      <td id=\"T_f33c1_row0_col3\" class=\"data row0 col3\" >0.921199</td>\n",
       "      <td id=\"T_f33c1_row0_col4\" class=\"data row0 col4\" >6,735,277</td>\n",
       "      <td id=\"T_f33c1_row0_col5\" class=\"data row0 col5\" >0.085156</td>\n",
       "      <td id=\"T_f33c1_row0_col6\" class=\"data row0 col6\" >0.040208</td>\n",
       "      <td id=\"T_f33c1_row0_col7\" class=\"data row0 col7\" >Libya</td>\n",
       "    </tr>\n",
       "    <tr>\n",
       "      <th id=\"T_f33c1_level0_row1\" class=\"row_heading level0 row1\" >2</th>\n",
       "      <td id=\"T_f33c1_row1_col0\" class=\"data row1 col0\" >ARE</td>\n",
       "      <td id=\"T_f33c1_row1_col1\" class=\"data row1 col1\" >2021</td>\n",
       "      <td id=\"T_f33c1_row1_col2\" class=\"data row1 col2\" >327,820</td>\n",
       "      <td id=\"T_f33c1_row1_col3\" class=\"data row1 col3\" >1.115122</td>\n",
       "      <td id=\"T_f33c1_row1_col4\" class=\"data row1 col4\" >9,365,145</td>\n",
       "      <td id=\"T_f33c1_row1_col5\" class=\"data row1 col5\" >0.118407</td>\n",
       "      <td id=\"T_f33c1_row1_col6\" class=\"data row1 col6\" >0.035004</td>\n",
       "      <td id=\"T_f33c1_row1_col7\" class=\"data row1 col7\" >United Arab Emirates</td>\n",
       "    </tr>\n",
       "    <tr>\n",
       "      <th id=\"T_f33c1_level0_row2\" class=\"row_heading level0 row2\" >3</th>\n",
       "      <td id=\"T_f33c1_row2_col0\" class=\"data row2 col0\" >IRQ</td>\n",
       "      <td id=\"T_f33c1_row2_col1\" class=\"data row2 col1\" >2021</td>\n",
       "      <td id=\"T_f33c1_row2_col2\" class=\"data row2 col2\" >1,220,470</td>\n",
       "      <td id=\"T_f33c1_row2_col3\" class=\"data row2 col3\" >4.151586</td>\n",
       "      <td id=\"T_f33c1_row2_col4\" class=\"data row2 col4\" >43,533,593</td>\n",
       "      <td id=\"T_f33c1_row2_col5\" class=\"data row2 col5\" >0.550411</td>\n",
       "      <td id=\"T_f33c1_row2_col6\" class=\"data row2 col6\" >0.028035</td>\n",
       "      <td id=\"T_f33c1_row2_col7\" class=\"data row2 col7\" >Iraq</td>\n",
       "    </tr>\n",
       "    <tr>\n",
       "      <th id=\"T_f33c1_level0_row3\" class=\"row_heading level0 row3\" >4</th>\n",
       "      <td id=\"T_f33c1_row3_col0\" class=\"data row3 col0\" >PHL</td>\n",
       "      <td id=\"T_f33c1_row3_col1\" class=\"data row3 col1\" >2021</td>\n",
       "      <td id=\"T_f33c1_row3_col2\" class=\"data row3 col2\" >3,188,793</td>\n",
       "      <td id=\"T_f33c1_row3_col3\" class=\"data row3 col3\" >10.847090</td>\n",
       "      <td id=\"T_f33c1_row3_col4\" class=\"data row3 col4\" >113,880,328</td>\n",
       "      <td id=\"T_f33c1_row3_col5\" class=\"data row3 col5\" >1.439829</td>\n",
       "      <td id=\"T_f33c1_row3_col6\" class=\"data row3 col6\" >0.028001</td>\n",
       "      <td id=\"T_f33c1_row3_col7\" class=\"data row3 col7\" >Philippines</td>\n",
       "    </tr>\n",
       "    <tr>\n",
       "      <th id=\"T_f33c1_level0_row4\" class=\"row_heading level0 row4\" >5</th>\n",
       "      <td id=\"T_f33c1_row4_col0\" class=\"data row4 col0\" >QAT</td>\n",
       "      <td id=\"T_f33c1_row4_col1\" class=\"data row4 col1\" >2021</td>\n",
       "      <td id=\"T_f33c1_row4_col2\" class=\"data row4 col2\" >73,536</td>\n",
       "      <td id=\"T_f33c1_row4_col3\" class=\"data row4 col3\" >0.250142</td>\n",
       "      <td id=\"T_f33c1_row4_col4\" class=\"data row4 col4\" >2,688,235</td>\n",
       "      <td id=\"T_f33c1_row4_col5\" class=\"data row4 col5\" >0.033988</td>\n",
       "      <td id=\"T_f33c1_row4_col6\" class=\"data row4 col6\" >0.027355</td>\n",
       "      <td id=\"T_f33c1_row4_col7\" class=\"data row4 col7\" >Qatar</td>\n",
       "    </tr>\n",
       "    <tr>\n",
       "      <th id=\"T_f33c1_level0_row5\" class=\"row_heading level0 row5\" >6</th>\n",
       "      <td id=\"T_f33c1_row5_col0\" class=\"data row5 col0\" >DZA</td>\n",
       "      <td id=\"T_f33c1_row5_col1\" class=\"data row5 col1\" >2021</td>\n",
       "      <td id=\"T_f33c1_row5_col2\" class=\"data row5 col2\" >1,171,653</td>\n",
       "      <td id=\"T_f33c1_row5_col3\" class=\"data row5 col3\" >3.985529</td>\n",
       "      <td id=\"T_f33c1_row5_col4\" class=\"data row5 col4\" >44,177,969</td>\n",
       "      <td id=\"T_f33c1_row5_col5\" class=\"data row5 col5\" >0.558558</td>\n",
       "      <td id=\"T_f33c1_row5_col6\" class=\"data row5 col6\" >0.026521</td>\n",
       "      <td id=\"T_f33c1_row5_col7\" class=\"data row5 col7\" >Algeria</td>\n",
       "    </tr>\n",
       "    <tr>\n",
       "      <th id=\"T_f33c1_level0_row6\" class=\"row_heading level0 row6\" >7</th>\n",
       "      <td id=\"T_f33c1_row6_col0\" class=\"data row6 col0\" >KHM</td>\n",
       "      <td id=\"T_f33c1_row6_col1\" class=\"data row6 col1\" >2021</td>\n",
       "      <td id=\"T_f33c1_row6_col2\" class=\"data row6 col2\" >395,793</td>\n",
       "      <td id=\"T_f33c1_row6_col3\" class=\"data row6 col3\" >1.346341</td>\n",
       "      <td id=\"T_f33c1_row6_col4\" class=\"data row6 col4\" >16,589,024</td>\n",
       "      <td id=\"T_f33c1_row6_col5\" class=\"data row6 col5\" >0.209741</td>\n",
       "      <td id=\"T_f33c1_row6_col6\" class=\"data row6 col6\" >0.023859</td>\n",
       "      <td id=\"T_f33c1_row6_col7\" class=\"data row6 col7\" >Cambodia</td>\n",
       "    </tr>\n",
       "    <tr>\n",
       "      <th id=\"T_f33c1_level0_row7\" class=\"row_heading level0 row7\" >8</th>\n",
       "      <td id=\"T_f33c1_row7_col0\" class=\"data row7 col0\" >BHR</td>\n",
       "      <td id=\"T_f33c1_row7_col1\" class=\"data row7 col1\" >2021</td>\n",
       "      <td id=\"T_f33c1_row7_col2\" class=\"data row7 col2\" >32,346</td>\n",
       "      <td id=\"T_f33c1_row7_col3\" class=\"data row7 col3\" >0.110029</td>\n",
       "      <td id=\"T_f33c1_row7_col4\" class=\"data row7 col4\" >1,463,266</td>\n",
       "      <td id=\"T_f33c1_row7_col5\" class=\"data row7 col5\" >0.018501</td>\n",
       "      <td id=\"T_f33c1_row7_col6\" class=\"data row7 col6\" >0.022105</td>\n",
       "      <td id=\"T_f33c1_row7_col7\" class=\"data row7 col7\" >Bahrain</td>\n",
       "    </tr>\n",
       "    <tr>\n",
       "      <th id=\"T_f33c1_level0_row8\" class=\"row_heading level0 row8\" >9</th>\n",
       "      <td id=\"T_f33c1_row8_col0\" class=\"data row8 col0\" >BLZ</td>\n",
       "      <td id=\"T_f33c1_row8_col1\" class=\"data row8 col1\" >2021</td>\n",
       "      <td id=\"T_f33c1_row8_col2\" class=\"data row8 col2\" >8,297</td>\n",
       "      <td id=\"T_f33c1_row8_col3\" class=\"data row8 col3\" >0.028223</td>\n",
       "      <td id=\"T_f33c1_row8_col4\" class=\"data row8 col4\" >400,031</td>\n",
       "      <td id=\"T_f33c1_row8_col5\" class=\"data row8 col5\" >0.005058</td>\n",
       "      <td id=\"T_f33c1_row8_col6\" class=\"data row8 col6\" >0.020741</td>\n",
       "      <td id=\"T_f33c1_row8_col7\" class=\"data row8 col7\" >Belize</td>\n",
       "    </tr>\n",
       "    <tr>\n",
       "      <th id=\"T_f33c1_level0_row9\" class=\"row_heading level0 row9\" >10</th>\n",
       "      <td id=\"T_f33c1_row9_col0\" class=\"data row9 col0\" >SAU</td>\n",
       "      <td id=\"T_f33c1_row9_col1\" class=\"data row9 col1\" >2021</td>\n",
       "      <td id=\"T_f33c1_row9_col2\" class=\"data row9 col2\" >708,980</td>\n",
       "      <td id=\"T_f33c1_row9_col3\" class=\"data row9 col3\" >2.411687</td>\n",
       "      <td id=\"T_f33c1_row9_col4\" class=\"data row9 col4\" >35,950,396</td>\n",
       "      <td id=\"T_f33c1_row9_col5\" class=\"data row9 col5\" >0.454534</td>\n",
       "      <td id=\"T_f33c1_row9_col6\" class=\"data row9 col6\" >0.019721</td>\n",
       "      <td id=\"T_f33c1_row9_col7\" class=\"data row9 col7\" >Saudi Arabia</td>\n",
       "    </tr>\n",
       "    <tr>\n",
       "      <th id=\"T_f33c1_level0_row10\" class=\"row_heading level0 row10\" >11</th>\n",
       "      <td id=\"T_f33c1_row10_col0\" class=\"data row10 col0\" >BTN</td>\n",
       "      <td id=\"T_f33c1_row10_col1\" class=\"data row10 col1\" >2021</td>\n",
       "      <td id=\"T_f33c1_row10_col2\" class=\"data row10 col2\" >14,518</td>\n",
       "      <td id=\"T_f33c1_row10_col3\" class=\"data row10 col3\" >0.049385</td>\n",
       "      <td id=\"T_f33c1_row10_col4\" class=\"data row10 col4\" >777,487</td>\n",
       "      <td id=\"T_f33c1_row10_col5\" class=\"data row10 col5\" >0.009830</td>\n",
       "      <td id=\"T_f33c1_row10_col6\" class=\"data row10 col6\" >0.018673</td>\n",
       "      <td id=\"T_f33c1_row10_col7\" class=\"data row10 col7\" >Bhutan</td>\n",
       "    </tr>\n",
       "    <tr>\n",
       "      <th id=\"T_f33c1_level0_row11\" class=\"row_heading level0 row11\" >12</th>\n",
       "      <td id=\"T_f33c1_row11_col0\" class=\"data row11 col0\" >KWT</td>\n",
       "      <td id=\"T_f33c1_row11_col1\" class=\"data row11 col1\" >2021</td>\n",
       "      <td id=\"T_f33c1_row11_col2\" class=\"data row11 col2\" >78,803</td>\n",
       "      <td id=\"T_f33c1_row11_col3\" class=\"data row11 col3\" >0.268059</td>\n",
       "      <td id=\"T_f33c1_row11_col4\" class=\"data row11 col4\" >4,250,114</td>\n",
       "      <td id=\"T_f33c1_row11_col5\" class=\"data row11 col5\" >0.053736</td>\n",
       "      <td id=\"T_f33c1_row11_col6\" class=\"data row11 col6\" >0.018541</td>\n",
       "      <td id=\"T_f33c1_row11_col7\" class=\"data row11 col7\" >Kuwait</td>\n",
       "    </tr>\n",
       "    <tr>\n",
       "      <th id=\"T_f33c1_level0_row12\" class=\"row_heading level0 row12\" >13</th>\n",
       "      <td id=\"T_f33c1_row12_col0\" class=\"data row12 col0\" >MDV</td>\n",
       "      <td id=\"T_f33c1_row12_col1\" class=\"data row12 col1\" >2021</td>\n",
       "      <td id=\"T_f33c1_row12_col2\" class=\"data row12 col2\" >9,638</td>\n",
       "      <td id=\"T_f33c1_row12_col3\" class=\"data row12 col3\" >0.032785</td>\n",
       "      <td id=\"T_f33c1_row12_col4\" class=\"data row12 col4\" >521,458</td>\n",
       "      <td id=\"T_f33c1_row12_col5\" class=\"data row12 col5\" >0.006593</td>\n",
       "      <td id=\"T_f33c1_row12_col6\" class=\"data row12 col6\" >0.018483</td>\n",
       "      <td id=\"T_f33c1_row12_col7\" class=\"data row12 col7\" >Maldives</td>\n",
       "    </tr>\n",
       "    <tr>\n",
       "      <th id=\"T_f33c1_level0_row13\" class=\"row_heading level0 row13\" >14</th>\n",
       "      <td id=\"T_f33c1_row13_col0\" class=\"data row13 col0\" >OMN</td>\n",
       "      <td id=\"T_f33c1_row13_col1\" class=\"data row13 col1\" >2021</td>\n",
       "      <td id=\"T_f33c1_row13_col2\" class=\"data row13 col2\" >64,156</td>\n",
       "      <td id=\"T_f33c1_row13_col3\" class=\"data row13 col3\" >0.218235</td>\n",
       "      <td id=\"T_f33c1_row13_col4\" class=\"data row13 col4\" >4,520,471</td>\n",
       "      <td id=\"T_f33c1_row13_col5\" class=\"data row13 col5\" >0.057154</td>\n",
       "      <td id=\"T_f33c1_row13_col6\" class=\"data row13 col6\" >0.014192</td>\n",
       "      <td id=\"T_f33c1_row13_col7\" class=\"data row13 col7\" >Oman</td>\n",
       "    </tr>\n",
       "    <tr>\n",
       "      <th id=\"T_f33c1_level0_row14\" class=\"row_heading level0 row14\" >15</th>\n",
       "      <td id=\"T_f33c1_row14_col0\" class=\"data row14 col0\" >MCO</td>\n",
       "      <td id=\"T_f33c1_row14_col1\" class=\"data row14 col1\" >2021</td>\n",
       "      <td id=\"T_f33c1_row14_col2\" class=\"data row14 col2\" >494</td>\n",
       "      <td id=\"T_f33c1_row14_col3\" class=\"data row14 col3\" >0.001680</td>\n",
       "      <td id=\"T_f33c1_row14_col4\" class=\"data row14 col4\" >36,686</td>\n",
       "      <td id=\"T_f33c1_row14_col5\" class=\"data row14 col5\" >0.000464</td>\n",
       "      <td id=\"T_f33c1_row14_col6\" class=\"data row14 col6\" >0.013466</td>\n",
       "      <td id=\"T_f33c1_row14_col7\" class=\"data row14 col7\" >Monaco</td>\n",
       "    </tr>\n",
       "    <tr>\n",
       "      <th id=\"T_f33c1_level0_row15\" class=\"row_heading level0 row15\" >16</th>\n",
       "      <td id=\"T_f33c1_row15_col0\" class=\"data row15 col0\" >TUN</td>\n",
       "      <td id=\"T_f33c1_row15_col1\" class=\"data row15 col1\" >2021</td>\n",
       "      <td id=\"T_f33c1_row15_col2\" class=\"data row15 col2\" >164,562</td>\n",
       "      <td id=\"T_f33c1_row15_col3\" class=\"data row15 col3\" >0.559779</td>\n",
       "      <td id=\"T_f33c1_row15_col4\" class=\"data row15 col4\" >12,262,946</td>\n",
       "      <td id=\"T_f33c1_row15_col5\" class=\"data row15 col5\" >0.155045</td>\n",
       "      <td id=\"T_f33c1_row15_col6\" class=\"data row15 col6\" >0.013419</td>\n",
       "      <td id=\"T_f33c1_row15_col7\" class=\"data row15 col7\" >Tunisia</td>\n",
       "    </tr>\n",
       "    <tr>\n",
       "      <th id=\"T_f33c1_level0_row16\" class=\"row_heading level0 row16\" >17</th>\n",
       "      <td id=\"T_f33c1_row16_col0\" class=\"data row16 col0\" >DOM</td>\n",
       "      <td id=\"T_f33c1_row16_col1\" class=\"data row16 col1\" >2021</td>\n",
       "      <td id=\"T_f33c1_row16_col2\" class=\"data row16 col2\" >144,150</td>\n",
       "      <td id=\"T_f33c1_row16_col3\" class=\"data row16 col3\" >0.490345</td>\n",
       "      <td id=\"T_f33c1_row16_col4\" class=\"data row16 col4\" >11,117,874</td>\n",
       "      <td id=\"T_f33c1_row16_col5\" class=\"data row16 col5\" >0.140567</td>\n",
       "      <td id=\"T_f33c1_row16_col6\" class=\"data row16 col6\" >0.012966</td>\n",
       "      <td id=\"T_f33c1_row16_col7\" class=\"data row16 col7\" >Dominican Republic</td>\n",
       "    </tr>\n",
       "    <tr>\n",
       "      <th id=\"T_f33c1_level0_row17\" class=\"row_heading level0 row17\" >18</th>\n",
       "      <td id=\"T_f33c1_row17_col0\" class=\"data row17 col0\" >SPM</td>\n",
       "      <td id=\"T_f33c1_row17_col1\" class=\"data row17 col1\" >2021</td>\n",
       "      <td id=\"T_f33c1_row17_col2\" class=\"data row17 col2\" >62</td>\n",
       "      <td id=\"T_f33c1_row17_col3\" class=\"data row17 col3\" >0.000211</td>\n",
       "      <td id=\"T_f33c1_row17_col4\" class=\"data row17 col4\" >5,883</td>\n",
       "      <td id=\"T_f33c1_row17_col5\" class=\"data row17 col5\" >0.000074</td>\n",
       "      <td id=\"T_f33c1_row17_col6\" class=\"data row17 col6\" >0.010539</td>\n",
       "      <td id=\"T_f33c1_row17_col7\" class=\"data row17 col7\" >Saint Pierre and Miquelon</td>\n",
       "    </tr>\n",
       "    <tr>\n",
       "      <th id=\"T_f33c1_level0_row18\" class=\"row_heading level0 row18\" >19</th>\n",
       "      <td id=\"T_f33c1_row18_col0\" class=\"data row18 col0\" >BGD</td>\n",
       "      <td id=\"T_f33c1_row18_col1\" class=\"data row18 col1\" >2021</td>\n",
       "      <td id=\"T_f33c1_row18_col2\" class=\"data row18 col2\" >1,743,240</td>\n",
       "      <td id=\"T_f33c1_row18_col3\" class=\"data row18 col3\" >5.929855</td>\n",
       "      <td id=\"T_f33c1_row18_col4\" class=\"data row18 col4\" >169,356,251</td>\n",
       "      <td id=\"T_f33c1_row18_col5\" class=\"data row18 col5\" >2.141231</td>\n",
       "      <td id=\"T_f33c1_row18_col6\" class=\"data row18 col6\" >0.010293</td>\n",
       "      <td id=\"T_f33c1_row18_col7\" class=\"data row18 col7\" >Bangladesh</td>\n",
       "    </tr>\n",
       "    <tr>\n",
       "      <th id=\"T_f33c1_level0_row19\" class=\"row_heading level0 row19\" >20</th>\n",
       "      <td id=\"T_f33c1_row19_col0\" class=\"data row19 col0\" >JOR</td>\n",
       "      <td id=\"T_f33c1_row19_col1\" class=\"data row19 col1\" >2021</td>\n",
       "      <td id=\"T_f33c1_row19_col2\" class=\"data row19 col2\" >113,846</td>\n",
       "      <td id=\"T_f33c1_row19_col3\" class=\"data row19 col3\" >0.387262</td>\n",
       "      <td id=\"T_f33c1_row19_col4\" class=\"data row19 col4\" >11,148,278</td>\n",
       "      <td id=\"T_f33c1_row19_col5\" class=\"data row19 col5\" >0.140952</td>\n",
       "      <td id=\"T_f33c1_row19_col6\" class=\"data row19 col6\" >0.010212</td>\n",
       "      <td id=\"T_f33c1_row19_col7\" class=\"data row19 col7\" >Jordan</td>\n",
       "    </tr>\n",
       "  </tbody>\n",
       "</table>\n"
      ],
      "text/plain": [
       "<IPython.core.display.HTML object>"
      ]
     },
     "metadata": {},
     "output_type": "display_data"
    },
    {
     "data": {
      "text/html": [
       "<style type=\"text/css\">\n",
       "#T_dc1ff caption {\n",
       "  caption-side: bottom;\n",
       "  font-style: italic;\n",
       "  margin-top: 1ex;\n",
       "}\n",
       "#T_dc1ff_row0_col6, #T_dc1ff_row1_col6, #T_dc1ff_row2_col6, #T_dc1ff_row3_col6, #T_dc1ff_row4_col6, #T_dc1ff_row5_col6, #T_dc1ff_row6_col6, #T_dc1ff_row7_col6, #T_dc1ff_row8_col6, #T_dc1ff_row9_col6, #T_dc1ff_row10_col6, #T_dc1ff_row11_col6, #T_dc1ff_row12_col6, #T_dc1ff_row13_col6, #T_dc1ff_row14_col6, #T_dc1ff_row15_col6, #T_dc1ff_row16_col6, #T_dc1ff_row17_col6, #T_dc1ff_row18_col6, #T_dc1ff_row19_col6 {\n",
       "  background-color: #ffffb3;\n",
       "}\n",
       "</style>\n",
       "<table id=\"T_dc1ff\">\n",
       "  <caption>reports per capita and country 2022</caption>\n",
       "  <thead>\n",
       "    <tr>\n",
       "      <th class=\"blank level0\" >&nbsp;</th>\n",
       "      <th id=\"T_dc1ff_level0_col0\" class=\"col_heading level0 col0\" >iso3</th>\n",
       "      <th id=\"T_dc1ff_level0_col1\" class=\"col_heading level0 col1\" >year</th>\n",
       "      <th id=\"T_dc1ff_level0_col2\" class=\"col_heading level0 col2\" >reports</th>\n",
       "      <th id=\"T_dc1ff_level0_col3\" class=\"col_heading level0 col3\" >reports_pct</th>\n",
       "      <th id=\"T_dc1ff_level0_col4\" class=\"col_heading level0 col4\" >population</th>\n",
       "      <th id=\"T_dc1ff_level0_col5\" class=\"col_heading level0 col5\" >population_pct</th>\n",
       "      <th id=\"T_dc1ff_level0_col6\" class=\"col_heading level0 col6\" >reports_per_capita</th>\n",
       "      <th id=\"T_dc1ff_level0_col7\" class=\"col_heading level0 col7\" >country</th>\n",
       "    </tr>\n",
       "    <tr>\n",
       "      <th class=\"index_name level0\" >rank</th>\n",
       "      <th class=\"blank col0\" >&nbsp;</th>\n",
       "      <th class=\"blank col1\" >&nbsp;</th>\n",
       "      <th class=\"blank col2\" >&nbsp;</th>\n",
       "      <th class=\"blank col3\" >&nbsp;</th>\n",
       "      <th class=\"blank col4\" >&nbsp;</th>\n",
       "      <th class=\"blank col5\" >&nbsp;</th>\n",
       "      <th class=\"blank col6\" >&nbsp;</th>\n",
       "      <th class=\"blank col7\" >&nbsp;</th>\n",
       "    </tr>\n",
       "  </thead>\n",
       "  <tbody>\n",
       "    <tr>\n",
       "      <th id=\"T_dc1ff_level0_row0\" class=\"row_heading level0 row0\" >1</th>\n",
       "      <td id=\"T_dc1ff_row0_col0\" class=\"data row0 col0\" >ARE</td>\n",
       "      <td id=\"T_dc1ff_row0_col1\" class=\"data row0 col1\" >2022</td>\n",
       "      <td id=\"T_dc1ff_row0_col2\" class=\"data row0 col2\" >265,307</td>\n",
       "      <td id=\"T_dc1ff_row0_col3\" class=\"data row0 col3\" >0.827558</td>\n",
       "      <td id=\"T_dc1ff_row0_col4\" class=\"data row0 col4\" >9,441,129</td>\n",
       "      <td id=\"T_dc1ff_row0_col5\" class=\"data row0 col5\" >0.118383</td>\n",
       "      <td id=\"T_dc1ff_row0_col6\" class=\"data row0 col6\" >0.028101</td>\n",
       "      <td id=\"T_dc1ff_row0_col7\" class=\"data row0 col7\" >United Arab Emirates</td>\n",
       "    </tr>\n",
       "    <tr>\n",
       "      <th id=\"T_dc1ff_level0_row1\" class=\"row_heading level0 row1\" >2</th>\n",
       "      <td id=\"T_dc1ff_row1_col0\" class=\"data row1 col0\" >LBY</td>\n",
       "      <td id=\"T_dc1ff_row1_col1\" class=\"data row1 col1\" >2022</td>\n",
       "      <td id=\"T_dc1ff_row1_col2\" class=\"data row1 col2\" >163,336</td>\n",
       "      <td id=\"T_dc1ff_row1_col3\" class=\"data row1 col3\" >0.509485</td>\n",
       "      <td id=\"T_dc1ff_row1_col4\" class=\"data row1 col4\" >6,812,341</td>\n",
       "      <td id=\"T_dc1ff_row1_col5\" class=\"data row1 col5\" >0.085420</td>\n",
       "      <td id=\"T_dc1ff_row1_col6\" class=\"data row1 col6\" >0.023976</td>\n",
       "      <td id=\"T_dc1ff_row1_col7\" class=\"data row1 col7\" >Libya</td>\n",
       "    </tr>\n",
       "    <tr>\n",
       "      <th id=\"T_dc1ff_level0_row2\" class=\"row_heading level0 row2\" >3</th>\n",
       "      <td id=\"T_dc1ff_row2_col0\" class=\"data row2 col0\" >QAT</td>\n",
       "      <td id=\"T_dc1ff_row2_col1\" class=\"data row2 col1\" >2022</td>\n",
       "      <td id=\"T_dc1ff_row2_col2\" class=\"data row2 col2\" >61,167</td>\n",
       "      <td id=\"T_dc1ff_row2_col3\" class=\"data row2 col3\" >0.190795</td>\n",
       "      <td id=\"T_dc1ff_row2_col4\" class=\"data row2 col4\" >2,695,122</td>\n",
       "      <td id=\"T_dc1ff_row2_col5\" class=\"data row2 col5\" >0.033794</td>\n",
       "      <td id=\"T_dc1ff_row2_col6\" class=\"data row2 col6\" >0.022695</td>\n",
       "      <td id=\"T_dc1ff_row2_col7\" class=\"data row2 col7\" >Qatar</td>\n",
       "    </tr>\n",
       "    <tr>\n",
       "      <th id=\"T_dc1ff_level0_row3\" class=\"row_heading level0 row3\" >4</th>\n",
       "      <td id=\"T_dc1ff_row3_col0\" class=\"data row3 col0\" >PHL</td>\n",
       "      <td id=\"T_dc1ff_row3_col1\" class=\"data row3 col1\" >2022</td>\n",
       "      <td id=\"T_dc1ff_row3_col2\" class=\"data row3 col2\" >2,576,182</td>\n",
       "      <td id=\"T_dc1ff_row3_col3\" class=\"data row3 col3\" >8.035746</td>\n",
       "      <td id=\"T_dc1ff_row3_col4\" class=\"data row3 col4\" >115,559,009</td>\n",
       "      <td id=\"T_dc1ff_row3_col5\" class=\"data row3 col5\" >1.448997</td>\n",
       "      <td id=\"T_dc1ff_row3_col6\" class=\"data row3 col6\" >0.022293</td>\n",
       "      <td id=\"T_dc1ff_row3_col7\" class=\"data row3 col7\" >Philippines</td>\n",
       "    </tr>\n",
       "    <tr>\n",
       "      <th id=\"T_dc1ff_level0_row4\" class=\"row_heading level0 row4\" >5</th>\n",
       "      <td id=\"T_dc1ff_row4_col0\" class=\"data row4 col0\" >IRQ</td>\n",
       "      <td id=\"T_dc1ff_row4_col1\" class=\"data row4 col1\" >2022</td>\n",
       "      <td id=\"T_dc1ff_row4_col2\" class=\"data row4 col2\" >905,883</td>\n",
       "      <td id=\"T_dc1ff_row4_col3\" class=\"data row4 col3\" >2.825672</td>\n",
       "      <td id=\"T_dc1ff_row4_col4\" class=\"data row4 col4\" >44,496,122</td>\n",
       "      <td id=\"T_dc1ff_row4_col5\" class=\"data row4 col5\" >0.557938</td>\n",
       "      <td id=\"T_dc1ff_row4_col6\" class=\"data row4 col6\" >0.020359</td>\n",
       "      <td id=\"T_dc1ff_row4_col7\" class=\"data row4 col7\" >Iraq</td>\n",
       "    </tr>\n",
       "    <tr>\n",
       "      <th id=\"T_dc1ff_level0_row5\" class=\"row_heading level0 row5\" >6</th>\n",
       "      <td id=\"T_dc1ff_row5_col0\" class=\"data row5 col0\" >BHR</td>\n",
       "      <td id=\"T_dc1ff_row5_col1\" class=\"data row5 col1\" >2022</td>\n",
       "      <td id=\"T_dc1ff_row5_col2\" class=\"data row5 col2\" >25,896</td>\n",
       "      <td id=\"T_dc1ff_row5_col3\" class=\"data row5 col3\" >0.080776</td>\n",
       "      <td id=\"T_dc1ff_row5_col4\" class=\"data row5 col4\" >1,472,233</td>\n",
       "      <td id=\"T_dc1ff_row5_col5\" class=\"data row5 col5\" >0.018460</td>\n",
       "      <td id=\"T_dc1ff_row5_col6\" class=\"data row5 col6\" >0.017590</td>\n",
       "      <td id=\"T_dc1ff_row5_col7\" class=\"data row5 col7\" >Bahrain</td>\n",
       "    </tr>\n",
       "    <tr>\n",
       "      <th id=\"T_dc1ff_level0_row6\" class=\"row_heading level0 row6\" >7</th>\n",
       "      <td id=\"T_dc1ff_row6_col0\" class=\"data row6 col0\" >SAU</td>\n",
       "      <td id=\"T_dc1ff_row6_col1\" class=\"data row6 col1\" >2022</td>\n",
       "      <td id=\"T_dc1ff_row6_col2\" class=\"data row6 col2\" >602,745</td>\n",
       "      <td id=\"T_dc1ff_row6_col3\" class=\"data row6 col3\" >1.880110</td>\n",
       "      <td id=\"T_dc1ff_row6_col4\" class=\"data row6 col4\" >36,408,820</td>\n",
       "      <td id=\"T_dc1ff_row6_col5\" class=\"data row6 col5\" >0.456531</td>\n",
       "      <td id=\"T_dc1ff_row6_col6\" class=\"data row6 col6\" >0.016555</td>\n",
       "      <td id=\"T_dc1ff_row6_col7\" class=\"data row6 col7\" >Saudi Arabia</td>\n",
       "    </tr>\n",
       "    <tr>\n",
       "      <th id=\"T_dc1ff_level0_row7\" class=\"row_heading level0 row7\" >8</th>\n",
       "      <td id=\"T_dc1ff_row7_col0\" class=\"data row7 col0\" >DZA</td>\n",
       "      <td id=\"T_dc1ff_row7_col1\" class=\"data row7 col1\" >2022</td>\n",
       "      <td id=\"T_dc1ff_row7_col2\" class=\"data row7 col2\" >731,167</td>\n",
       "      <td id=\"T_dc1ff_row7_col3\" class=\"data row7 col3\" >2.280690</td>\n",
       "      <td id=\"T_dc1ff_row7_col4\" class=\"data row7 col4\" >44,903,225</td>\n",
       "      <td id=\"T_dc1ff_row7_col5\" class=\"data row7 col5\" >0.563042</td>\n",
       "      <td id=\"T_dc1ff_row7_col6\" class=\"data row7 col6\" >0.016283</td>\n",
       "      <td id=\"T_dc1ff_row7_col7\" class=\"data row7 col7\" >Algeria</td>\n",
       "    </tr>\n",
       "    <tr>\n",
       "      <th id=\"T_dc1ff_level0_row8\" class=\"row_heading level0 row8\" >9</th>\n",
       "      <td id=\"T_dc1ff_row8_col0\" class=\"data row8 col0\" >BLZ</td>\n",
       "      <td id=\"T_dc1ff_row8_col1\" class=\"data row8 col1\" >2022</td>\n",
       "      <td id=\"T_dc1ff_row8_col2\" class=\"data row8 col2\" >6,103</td>\n",
       "      <td id=\"T_dc1ff_row8_col3\" class=\"data row8 col3\" >0.019037</td>\n",
       "      <td id=\"T_dc1ff_row8_col4\" class=\"data row8 col4\" >405,273</td>\n",
       "      <td id=\"T_dc1ff_row8_col5\" class=\"data row8 col5\" >0.005082</td>\n",
       "      <td id=\"T_dc1ff_row8_col6\" class=\"data row8 col6\" >0.015059</td>\n",
       "      <td id=\"T_dc1ff_row8_col7\" class=\"data row8 col7\" >Belize</td>\n",
       "    </tr>\n",
       "    <tr>\n",
       "      <th id=\"T_dc1ff_level0_row9\" class=\"row_heading level0 row9\" >10</th>\n",
       "      <td id=\"T_dc1ff_row9_col0\" class=\"data row9 col0\" >MDV</td>\n",
       "      <td id=\"T_dc1ff_row9_col1\" class=\"data row9 col1\" >2022</td>\n",
       "      <td id=\"T_dc1ff_row9_col2\" class=\"data row9 col2\" >7,813</td>\n",
       "      <td id=\"T_dc1ff_row9_col3\" class=\"data row9 col3\" >0.024371</td>\n",
       "      <td id=\"T_dc1ff_row9_col4\" class=\"data row9 col4\" >523,787</td>\n",
       "      <td id=\"T_dc1ff_row9_col5\" class=\"data row9 col5\" >0.006568</td>\n",
       "      <td id=\"T_dc1ff_row9_col6\" class=\"data row9 col6\" >0.014916</td>\n",
       "      <td id=\"T_dc1ff_row9_col7\" class=\"data row9 col7\" >Maldives</td>\n",
       "    </tr>\n",
       "    <tr>\n",
       "      <th id=\"T_dc1ff_level0_row10\" class=\"row_heading level0 row10\" >11</th>\n",
       "      <td id=\"T_dc1ff_row10_col0\" class=\"data row10 col0\" >KWT</td>\n",
       "      <td id=\"T_dc1ff_row10_col1\" class=\"data row10 col1\" >2022</td>\n",
       "      <td id=\"T_dc1ff_row10_col2\" class=\"data row10 col2\" >58,456</td>\n",
       "      <td id=\"T_dc1ff_row10_col3\" class=\"data row10 col3\" >0.182339</td>\n",
       "      <td id=\"T_dc1ff_row10_col4\" class=\"data row10 col4\" >4,268,873</td>\n",
       "      <td id=\"T_dc1ff_row10_col5\" class=\"data row10 col5\" >0.053527</td>\n",
       "      <td id=\"T_dc1ff_row10_col6\" class=\"data row10 col6\" >0.013694</td>\n",
       "      <td id=\"T_dc1ff_row10_col7\" class=\"data row10 col7\" >Kuwait</td>\n",
       "    </tr>\n",
       "    <tr>\n",
       "      <th id=\"T_dc1ff_level0_row11\" class=\"row_heading level0 row11\" >12</th>\n",
       "      <td id=\"T_dc1ff_row11_col0\" class=\"data row11 col0\" >KHM</td>\n",
       "      <td id=\"T_dc1ff_row11_col1\" class=\"data row11 col1\" >2022</td>\n",
       "      <td id=\"T_dc1ff_row11_col2\" class=\"data row11 col2\" >227,955</td>\n",
       "      <td id=\"T_dc1ff_row11_col3\" class=\"data row11 col3\" >0.711048</td>\n",
       "      <td id=\"T_dc1ff_row11_col4\" class=\"data row11 col4\" >16,767,842</td>\n",
       "      <td id=\"T_dc1ff_row11_col5\" class=\"data row11 col5\" >0.210252</td>\n",
       "      <td id=\"T_dc1ff_row11_col6\" class=\"data row11 col6\" >0.013595</td>\n",
       "      <td id=\"T_dc1ff_row11_col7\" class=\"data row11 col7\" >Cambodia</td>\n",
       "    </tr>\n",
       "    <tr>\n",
       "      <th id=\"T_dc1ff_level0_row12\" class=\"row_heading level0 row12\" >13</th>\n",
       "      <td id=\"T_dc1ff_row12_col0\" class=\"data row12 col0\" >BGD</td>\n",
       "      <td id=\"T_dc1ff_row12_col1\" class=\"data row12 col1\" >2022</td>\n",
       "      <td id=\"T_dc1ff_row12_col2\" class=\"data row12 col2\" >2,145,098</td>\n",
       "      <td id=\"T_dc1ff_row12_col3\" class=\"data row12 col3\" >6.691088</td>\n",
       "      <td id=\"T_dc1ff_row12_col4\" class=\"data row12 col4\" >171,186,373</td>\n",
       "      <td id=\"T_dc1ff_row12_col5\" class=\"data row12 col5\" >2.146509</td>\n",
       "      <td id=\"T_dc1ff_row12_col6\" class=\"data row12 col6\" >0.012531</td>\n",
       "      <td id=\"T_dc1ff_row12_col7\" class=\"data row12 col7\" >Bangladesh</td>\n",
       "    </tr>\n",
       "    <tr>\n",
       "      <th id=\"T_dc1ff_level0_row13\" class=\"row_heading level0 row13\" >14</th>\n",
       "      <td id=\"T_dc1ff_row13_col0\" class=\"data row13 col0\" >SGP</td>\n",
       "      <td id=\"T_dc1ff_row13_col1\" class=\"data row13 col1\" >2022</td>\n",
       "      <td id=\"T_dc1ff_row13_col2\" class=\"data row13 col2\" >74,792</td>\n",
       "      <td id=\"T_dc1ff_row13_col3\" class=\"data row13 col3\" >0.233295</td>\n",
       "      <td id=\"T_dc1ff_row13_col4\" class=\"data row13 col4\" >5,975,689</td>\n",
       "      <td id=\"T_dc1ff_row13_col5\" class=\"data row13 col5\" >0.074929</td>\n",
       "      <td id=\"T_dc1ff_row13_col6\" class=\"data row13 col6\" >0.012516</td>\n",
       "      <td id=\"T_dc1ff_row13_col7\" class=\"data row13 col7\" >Singapore</td>\n",
       "    </tr>\n",
       "    <tr>\n",
       "      <th id=\"T_dc1ff_level0_row14\" class=\"row_heading level0 row14\" >15</th>\n",
       "      <td id=\"T_dc1ff_row14_col0\" class=\"data row14 col0\" >COL</td>\n",
       "      <td id=\"T_dc1ff_row14_col1\" class=\"data row14 col1\" >2022</td>\n",
       "      <td id=\"T_dc1ff_row14_col2\" class=\"data row14 col2\" >647,907</td>\n",
       "      <td id=\"T_dc1ff_row14_col3\" class=\"data row14 col3\" >2.020981</td>\n",
       "      <td id=\"T_dc1ff_row14_col4\" class=\"data row14 col4\" >51,874,024</td>\n",
       "      <td id=\"T_dc1ff_row14_col5\" class=\"data row14 col5\" >0.650449</td>\n",
       "      <td id=\"T_dc1ff_row14_col6\" class=\"data row14 col6\" >0.012490</td>\n",
       "      <td id=\"T_dc1ff_row14_col7\" class=\"data row14 col7\" >Colombia</td>\n",
       "    </tr>\n",
       "    <tr>\n",
       "      <th id=\"T_dc1ff_level0_row15\" class=\"row_heading level0 row15\" >16</th>\n",
       "      <td id=\"T_dc1ff_row15_col0\" class=\"data row15 col0\" >OMN</td>\n",
       "      <td id=\"T_dc1ff_row15_col1\" class=\"data row15 col1\" >2022</td>\n",
       "      <td id=\"T_dc1ff_row15_col2\" class=\"data row15 col2\" >55,355</td>\n",
       "      <td id=\"T_dc1ff_row15_col3\" class=\"data row15 col3\" >0.172666</td>\n",
       "      <td id=\"T_dc1ff_row15_col4\" class=\"data row15 col4\" >4,576,298</td>\n",
       "      <td id=\"T_dc1ff_row15_col5\" class=\"data row15 col5\" >0.057382</td>\n",
       "      <td id=\"T_dc1ff_row15_col6\" class=\"data row15 col6\" >0.012096</td>\n",
       "      <td id=\"T_dc1ff_row15_col7\" class=\"data row15 col7\" >Oman</td>\n",
       "    </tr>\n",
       "    <tr>\n",
       "      <th id=\"T_dc1ff_level0_row16\" class=\"row_heading level0 row16\" >17</th>\n",
       "      <td id=\"T_dc1ff_row16_col0\" class=\"data row16 col0\" >DOM</td>\n",
       "      <td id=\"T_dc1ff_row16_col1\" class=\"data row16 col1\" >2022</td>\n",
       "      <td id=\"T_dc1ff_row16_col2\" class=\"data row16 col2\" >130,635</td>\n",
       "      <td id=\"T_dc1ff_row16_col3\" class=\"data row16 col3\" >0.407483</td>\n",
       "      <td id=\"T_dc1ff_row16_col4\" class=\"data row16 col4\" >11,228,821</td>\n",
       "      <td id=\"T_dc1ff_row16_col5\" class=\"data row16 col5\" >0.140798</td>\n",
       "      <td id=\"T_dc1ff_row16_col6\" class=\"data row16 col6\" >0.011634</td>\n",
       "      <td id=\"T_dc1ff_row16_col7\" class=\"data row16 col7\" >Dominican Republic</td>\n",
       "    </tr>\n",
       "    <tr>\n",
       "      <th id=\"T_dc1ff_level0_row17\" class=\"row_heading level0 row17\" >18</th>\n",
       "      <td id=\"T_dc1ff_row17_col0\" class=\"data row17 col0\" >NIC</td>\n",
       "      <td id=\"T_dc1ff_row17_col1\" class=\"data row17 col1\" >2022</td>\n",
       "      <td id=\"T_dc1ff_row17_col2\" class=\"data row17 col2\" >79,591</td>\n",
       "      <td id=\"T_dc1ff_row17_col3\" class=\"data row17 col3\" >0.248264</td>\n",
       "      <td id=\"T_dc1ff_row17_col4\" class=\"data row17 col4\" >6,948,392</td>\n",
       "      <td id=\"T_dc1ff_row17_col5\" class=\"data row17 col5\" >0.087126</td>\n",
       "      <td id=\"T_dc1ff_row17_col6\" class=\"data row17 col6\" >0.011455</td>\n",
       "      <td id=\"T_dc1ff_row17_col7\" class=\"data row17 col7\" >Nicaragua</td>\n",
       "    </tr>\n",
       "    <tr>\n",
       "      <th id=\"T_dc1ff_level0_row18\" class=\"row_heading level0 row18\" >19</th>\n",
       "      <td id=\"T_dc1ff_row18_col0\" class=\"data row18 col0\" >HUN</td>\n",
       "      <td id=\"T_dc1ff_row18_col1\" class=\"data row18 col1\" >2022</td>\n",
       "      <td id=\"T_dc1ff_row18_col2\" class=\"data row18 col2\" >109,434</td>\n",
       "      <td id=\"T_dc1ff_row18_col3\" class=\"data row18 col3\" >0.341352</td>\n",
       "      <td id=\"T_dc1ff_row18_col4\" class=\"data row18 col4\" >9,967,308</td>\n",
       "      <td id=\"T_dc1ff_row18_col5\" class=\"data row18 col5\" >0.124980</td>\n",
       "      <td id=\"T_dc1ff_row18_col6\" class=\"data row18 col6\" >0.010979</td>\n",
       "      <td id=\"T_dc1ff_row18_col7\" class=\"data row18 col7\" >Hungary</td>\n",
       "    </tr>\n",
       "    <tr>\n",
       "      <th id=\"T_dc1ff_level0_row19\" class=\"row_heading level0 row19\" >20</th>\n",
       "      <td id=\"T_dc1ff_row19_col0\" class=\"data row19 col0\" >MCO</td>\n",
       "      <td id=\"T_dc1ff_row19_col1\" class=\"data row19 col1\" >2022</td>\n",
       "      <td id=\"T_dc1ff_row19_col2\" class=\"data row19 col2\" >391</td>\n",
       "      <td id=\"T_dc1ff_row19_col3\" class=\"data row19 col3\" >0.001220</td>\n",
       "      <td id=\"T_dc1ff_row19_col4\" class=\"data row19 col4\" >36,469</td>\n",
       "      <td id=\"T_dc1ff_row19_col5\" class=\"data row19 col5\" >0.000457</td>\n",
       "      <td id=\"T_dc1ff_row19_col6\" class=\"data row19 col6\" >0.010721</td>\n",
       "      <td id=\"T_dc1ff_row19_col7\" class=\"data row19 col7\" >Monaco</td>\n",
       "    </tr>\n",
       "  </tbody>\n",
       "</table>\n"
      ],
      "text/plain": [
       "<IPython.core.display.HTML object>"
      ]
     },
     "metadata": {},
     "output_type": "display_data"
    }
   ],
   "source": [
    "show_html(h2='Countries with Most CSAM Reports Per Capita')\n",
    "\n",
    "for year, group in reports_per_capita_country_year(country_data):\n",
    "    show_table(\n",
    "        group.head(20),\n",
    "        title=f'reports per capita and country {year}',\n",
    "        highlights='reports_per_capita',\n",
    "    )\n"
   ]
  },
  {
   "cell_type": "code",
   "execution_count": 4,
   "metadata": {},
   "outputs": [
    {
     "data": {
      "text/html": [
       "<h2>CSAM Reports Per Capita Per Country Per Year</h2><p>With RPC standing for Reports Per Capita</p>"
      ],
      "text/plain": [
       "<IPython.core.display.HTML object>"
      ]
     },
     "metadata": {},
     "output_type": "display_data"
    },
    {
     "data": {
      "application/vnd.plotly.v1+json": {
       "config": {
        "plotlyServerURL": "https://plot.ly"
       },
       "data": [
        {
         "coloraxis": "coloraxis",
         "customdata": [
          [
           "ABW",
           0.0033726971242824797,
           "2019"
          ],
          [
           "AFG",
           0.004318828798867573,
           "2019"
          ],
          [
           "AGO",
           0.0003141228107374057,
           "2019"
          ],
          [
           "AIA",
           0.002600780234070221,
           "2019"
          ],
          [
           "ALB",
           0.006104978489041311,
           "2019"
          ],
          [
           "AND",
           0.0012050875653301547,
           "2019"
          ],
          [
           "ARE",
           0.035853267224344114,
           "2019"
          ],
          [
           "ARG",
           0.0012821842276053558,
           "2019"
          ],
          [
           "ARM",
           0.001699282635409037,
           "2019"
          ],
          [
           "ASM",
           0.0006973648063227743,
           "2019"
          ],
          [
           "ATG",
           0.002127728866550148,
           "2019"
          ],
          [
           "AUS",
           0.0013268436501391915,
           "2019"
          ],
          [
           "AUT",
           0.0011505708371903414,
           "2019"
          ],
          [
           "AZE",
           0.0011184673371867767,
           "2019"
          ],
          [
           "BDI",
           0.00004901119493166981,
           "2019"
          ],
          [
           "BEL",
           0.0018633311579411198,
           "2019"
          ],
          [
           "BEN",
           0.0002831468090168264,
           "2019"
          ],
          [
           "BES",
           0.0016424856282507528,
           "2019"
          ],
          [
           "BFA",
           0.00015588279274953142,
           "2019"
          ],
          [
           "BGD",
           0.0033630661289501883,
           "2019"
          ],
          [
           "BGR",
           0.002395168146702489,
           "2019"
          ],
          [
           "BHR",
           0.01746298493697919,
           "2019"
          ],
          [
           "BHS",
           0.0010406444580120973,
           "2019"
          ],
          [
           "BIH",
           0.004664190207313212,
           "2019"
          ],
          [
           "BLM",
           0.0006678752027478294,
           "2019"
          ],
          [
           "BLR",
           0.0001889606656873377,
           "2019"
          ],
          [
           "BLZ",
           0.004901116693866537,
           "2019"
          ],
          [
           "BMU",
           0.0010499592553124804,
           "2019"
          ],
          [
           "BOL",
           0.001918688597528384,
           "2019"
          ],
          [
           "BRA",
           0.001879608983309784,
           "2019"
          ],
          [
           "BRB",
           0.002694696266685702,
           "2019"
          ],
          [
           "BRN",
           0.004725498745574125,
           "2019"
          ],
          [
           "BTN",
           0.005989896528674496,
           "2019"
          ],
          [
           "BWA",
           0.0006328754387522992,
           "2019"
          ],
          [
           "CAF",
           0.00004242392248515883,
           "2019"
          ],
          [
           "CAN",
           0.0009836209312338155,
           "2019"
          ],
          [
           "CHE",
           0.0009989984361424037,
           "2019"
          ],
          [
           "CHL",
           0.0015042948113200114,
           "2019"
          ],
          [
           "CHN",
           0.0000024200626255240014,
           "2019"
          ],
          [
           "CIV",
           0.0007234329517131451,
           "2019"
          ],
          [
           "CMR",
           0.0002290715183698796,
           "2019"
          ],
          [
           "COD",
           0.00004288881482955517,
           "2019"
          ],
          [
           "COG",
           0.00015419873829889173,
           "2019"
          ],
          [
           "COK",
           0.0005260081823495032,
           "2019"
          ],
          [
           "COL",
           0.005271880254741991,
           "2019"
          ],
          [
           "COM",
           0.0007395832543180284,
           "2019"
          ],
          [
           "CPV",
           0.0042995956889664505,
           "2019"
          ],
          [
           "CRI",
           0.0025103588688201784,
           "2019"
          ],
          [
           "CUB",
           0.0003898664071327526,
           "2019"
          ],
          [
           "CUW",
           0.0020092487584603353,
           "2019"
          ],
          [
           "CYM",
           0.0017691353917803248,
           "2019"
          ],
          [
           "CYP",
           0.002036071505008394,
           "2019"
          ],
          [
           "CZE",
           0.0013711850510459889,
           "2019"
          ],
          [
           "DEU",
           0.001057089177736397,
           "2019"
          ],
          [
           "DJI",
           0.003766315268055501,
           "2019"
          ],
          [
           "DMA",
           0.0015120120960967689,
           "2019"
          ],
          [
           "DNK",
           0.0010607538667998188,
           "2019"
          ],
          [
           "DOM",
           0.0029705336842897503,
           "2019"
          ],
          [
           "DZA",
           0.016403909307047552,
           "2019"
          ],
          [
           "ECU",
           0.00568902637556684,
           "2019"
          ],
          [
           "EGY",
           0.0026188172733209265,
           "2019"
          ],
          [
           "ERI",
           0.000017720270102646094,
           "2019"
          ],
          [
           "ESH",
           0.00001284695967522886,
           "2019"
          ],
          [
           "ESP",
           0.0009937330065417998,
           "2019"
          ],
          [
           "EST",
           0.001470190401337112,
           "2019"
          ],
          [
           "ETH",
           0.00013191308835984502,
           "2019"
          ],
          [
           "FIN",
           0.0008783786108831653,
           "2019"
          ],
          [
           "FJI",
           0.003876032293010621,
           "2019"
          ],
          [
           "FLK",
           0.00026954177897574127,
           "2019"
          ],
          [
           "FRA",
           0.0011090414173754906,
           "2019"
          ],
          [
           "FRO",
           0.0011222693059344828,
           "2019"
          ],
          [
           "FSM",
           0.0006105280169511309,
           "2019"
          ],
          [
           "GAB",
           0.0005354946927615921,
           "2019"
          ],
          [
           "GBR",
           0.0011130801533465954,
           "2019"
          ],
          [
           "GEO",
           0.0016328052506476723,
           "2019"
          ],
          [
           "GGY",
           0.0004650044095245731,
           "2019"
          ],
          [
           "GHA",
           0.0004031115759673552,
           "2019"
          ],
          [
           "GIB",
           0.001499158635459691,
           "2019"
          ],
          [
           "GIN",
           0.0002669764774154441,
           "2019"
          ],
          [
           "GLP",
           0.003934409648912095,
           "2019"
          ],
          [
           "GMB",
           0.00011000907176258448,
           "2019"
          ],
          [
           "GNB",
           0.00011976917029907275,
           "2019"
          ],
          [
           "GNQ",
           0.00010109263755842607,
           "2019"
          ],
          [
           "GRC",
           0.0017884392923640045,
           "2019"
          ],
          [
           "GRD",
           0.002827482806948926,
           "2019"
          ],
          [
           "GRL",
           0.001501850494359121,
           "2019"
          ],
          [
           "GTM",
           0.0042439240940989244,
           "2019"
          ],
          [
           "GUF",
           0.0019537231627081773,
           "2019"
          ],
          [
           "GUM",
           0.001482588480880539,
           "2019"
          ],
          [
           "GUY",
           0.0025827759019371446,
           "2019"
          ],
          [
           "HKG",
           0.000949024042031333,
           "2019"
          ],
          [
           "HND",
           0.003212827532232956,
           "2019"
          ],
          [
           "HRV",
           0.0031643546634277315,
           "2019"
          ],
          [
           "HTI",
           0.00030796282368129277,
           "2019"
          ],
          [
           "HUN",
           0.005884281661221745,
           "2019"
          ],
          [
           "IDN",
           0.0031167446769375315,
           "2019"
          ],
          [
           "IMN",
           0.000667198837167741,
           "2019"
          ],
          [
           "IND",
           0.0014369262407648562,
           "2019"
          ],
          [
           "IRL",
           0.0013588591057346795,
           "2019"
          ],
          [
           "IRN",
           0.0006998273951627255,
           "2019"
          ],
          [
           "IRQ",
           0.02470457206933936,
           "2019"
          ],
          [
           "ISL",
           0.0015244958769316055,
           "2019"
          ],
          [
           "ISR",
           0.003333093244361007,
           "2019"
          ],
          [
           "ITA",
           0.0009562192777744255,
           "2019"
          ],
          [
           "JAM",
           0.0009122981846794322,
           "2019"
          ],
          [
           "JEY",
           0.0036246438413751227,
           "2019"
          ],
          [
           "JOR",
           0.011546934183680909,
           "2019"
          ],
          [
           "JPN",
           0.00020933817425774522,
           "2019"
          ],
          [
           "KAZ",
           0.0005694706770057232,
           "2019"
          ],
          [
           "KEN",
           0.00025098402498849396,
           "2019"
          ],
          [
           "KGZ",
           0.0009930984402503431,
           "2019"
          ],
          [
           "KHM",
           0.005642857433723357,
           "2019"
          ],
          [
           "KIR",
           0.001094646694730403,
           "2019"
          ],
          [
           "KNA",
           0.001949195171026157,
           "2019"
          ],
          [
           "KOR",
           0.001608413895266045,
           "2019"
          ],
          [
           "KWT",
           0.014296458084708743,
           "2019"
          ],
          [
           "LAO",
           0.003272161200146477,
           "2019"
          ],
          [
           "LBN",
           0.004866214555163202,
           "2019"
          ],
          [
           "LBR",
           0.00017651935524700774,
           "2019"
          ],
          [
           "LBY",
           0.022963309366536115,
           "2019"
          ],
          [
           "LCA",
           0.0024022308829458406,
           "2019"
          ],
          [
           "LIE",
           0.0004157788056753807,
           "2019"
          ],
          [
           "LKA",
           0.00338120720949757,
           "2019"
          ],
          [
           "LSO",
           0.00039448228019743885,
           "2019"
          ],
          [
           "LTU",
           0.004161689919177504,
           "2019"
          ],
          [
           "LUX",
           0.002429138043108329,
           "2019"
          ],
          [
           "LVA",
           0.0007028231890954399,
           "2019"
          ],
          [
           "MAC",
           0.0014450322683691628,
           "2019"
          ],
          [
           "MAF",
           0.0016001449187850974,
           "2019"
          ],
          [
           "MAR",
           0.008893933761431945,
           "2019"
          ],
          [
           "MCO",
           0.009180752821731381,
           "2019"
          ],
          [
           "MDA",
           0.003381903983642339,
           "2019"
          ],
          [
           "MDG",
           0.00020491673777492966,
           "2019"
          ],
          [
           "MDV",
           0.009643058187382559,
           "2019"
          ],
          [
           "MEX",
           0.0066193863482499555,
           "2019"
          ],
          [
           "MHL",
           0.0007601332468868072,
           "2019"
          ],
          [
           "MKD",
           0.003827495913301447,
           "2019"
          ],
          [
           "MLI",
           0.00010978526041958391,
           "2019"
          ],
          [
           "MLT",
           0.003927447456987699,
           "2019"
          ],
          [
           "MMR",
           0.004405732767433132,
           "2019"
          ],
          [
           "MNE",
           0.005901052671654008,
           "2019"
          ],
          [
           "MNG",
           0.0014342151260816167,
           "2019"
          ],
          [
           "MNP",
           0.0020257531389145174,
           "2019"
          ],
          [
           "MOZ",
           0.0001547930625104113,
           "2019"
          ],
          [
           "MRT",
           0.0017653436512069644,
           "2019"
          ],
          [
           "MSR",
           0.0017758046614872365,
           "2019"
          ],
          [
           "MTQ",
           0.001641392093916641,
           "2019"
          ],
          [
           "MUS",
           0.0032037856047964983,
           "2019"
          ],
          [
           "MWI",
           0.000023744739387439785,
           "2019"
          ],
          [
           "MYS",
           0.005590991591884166,
           "2019"
          ],
          [
           "MYT",
           0.0015620277837202748,
           "2019"
          ],
          [
           "NAM",
           0.0003666245000807228,
           "2019"
          ],
          [
           "NCL",
           0.001268510796358463,
           "2019"
          ],
          [
           "NER",
           0.000028408857028502656,
           "2019"
          ],
          [
           "NGA",
           0.00019208626241273608,
           "2019"
          ],
          [
           "NIC",
           0.002860926985361778,
           "2019"
          ],
          [
           "NIU",
           0,
           "2019"
          ],
          [
           "NLD",
           0.001483189045929273,
           "2019"
          ],
          [
           "NOR",
           0.0015016045348419558,
           "2019"
          ],
          [
           "NPL",
           0.0021977285629381513,
           "2019"
          ],
          [
           "NRU",
           0.002555225848994395,
           "2019"
          ],
          [
           "NZL",
           0.001002816274298583,
           "2019"
          ],
          [
           "OMN",
           0.009015010098271301,
           "2019"
          ],
          [
           "PAK",
           0.005187751283872045,
           "2019"
          ],
          [
           "PAN",
           0.0016850433735645708,
           "2019"
          ],
          [
           "PER",
           0.004899914123017916,
           "2019"
          ],
          [
           "PHL",
           0.007259160684686074,
           "2019"
          ],
          [
           "PLW",
           0.0045208461237930455,
           "2019"
          ],
          [
           "PNG",
           0.00014178695153443244,
           "2019"
          ],
          [
           "POL",
           0.0020195824235825586,
           "2019"
          ],
          [
           "PRI",
           0.0023836226387361605,
           "2019"
          ],
          [
           "PRK",
           3.882674732690463e-8,
           "2019"
          ],
          [
           "PRT",
           0.0029513340381653002,
           "2019"
          ],
          [
           "PRY",
           0.0009428751213432961,
           "2019"
          ],
          [
           "PSE",
           0.0075376162858786806,
           "2019"
          ],
          [
           "PYF",
           0.0010676702767267899,
           "2019"
          ],
          [
           "QAT",
           0.019046143269088624,
           "2019"
          ],
          [
           "REU",
           0.0013081670914874344,
           "2019"
          ],
          [
           "ROU",
           0.005468287553335702,
           "2019"
          ],
          [
           "RUS",
           0.0004942765856281643,
           "2019"
          ],
          [
           "RWA",
           0.00006801699224964682,
           "2019"
          ],
          [
           "SAU",
           0.014369799261246196,
           "2019"
          ],
          [
           "SDN",
           0.00036741223701568183,
           "2019"
          ],
          [
           "SEN",
           0.0002243640342078281,
           "2019"
          ],
          [
           "SGP",
           0.003140935547409359,
           "2019"
          ],
          [
           "SHN",
           0.00036717459151826694,
           "2019"
          ],
          [
           "SLB",
           0.0006844515424604404,
           "2019"
          ],
          [
           "SLE",
           0.00009047042008721696,
           "2019"
          ],
          [
           "SLV",
           0.003983142620708807,
           "2019"
          ],
          [
           "SMR",
           0.00020481011176780385,
           "2019"
          ],
          [
           "SOM",
           0.0010790735998276986,
           "2019"
          ],
          [
           "SPM",
           0.0008438818565400844,
           "2019"
          ],
          [
           "SRB",
           0.0043876171184220195,
           "2019"
          ],
          [
           "SSD",
           0.00006058769489759722,
           "2019"
          ],
          [
           "STP",
           0.0032246189404424065,
           "2019"
          ],
          [
           "SUR",
           0.005607187061157652,
           "2019"
          ],
          [
           "SVK",
           0.0012411247388119087,
           "2019"
          ],
          [
           "SVN",
           0.003260917922364596,
           "2019"
          ],
          [
           "SWE",
           0.0015975968652664093,
           "2019"
          ],
          [
           "SWZ",
           0.00022144076715973574,
           "2019"
          ],
          [
           "SXM",
           0.0024895300139599814,
           "2019"
          ],
          [
           "SYC",
           0.014381113889607465,
           "2019"
          ],
          [
           "SYR",
           0.0015771520826786329,
           "2019"
          ],
          [
           "TCA",
           0.002669452181987001,
           "2019"
          ],
          [
           "TCD",
           0.000021082831592945586,
           "2019"
          ],
          [
           "TGO",
           0.00009741487844248774,
           "2019"
          ],
          [
           "THA",
           0.004983973484065122,
           "2019"
          ],
          [
           "TJK",
           0.0005424652857024893,
           "2019"
          ],
          [
           "TKL",
           0,
           "2019"
          ],
          [
           "TKM",
           0.000017212207027127087,
           "2019"
          ],
          [
           "TLS",
           0.0010223064295186491,
           "2019"
          ],
          [
           "TON",
           0.0003525454736019666,
           "2019"
          ],
          [
           "TTO",
           0.0023270425769183955,
           "2019"
          ],
          [
           "TUN",
           0.005470601894846462,
           "2019"
          ],
          [
           "TUR",
           0.0026698191665611346,
           "2019"
          ],
          [
           "TUV",
           0.0003650967506389193,
           "2019"
          ],
          [
           "TWN",
           0.001413969655145498,
           "2019"
          ],
          [
           "TZA",
           0.00011332399761834211,
           "2019"
          ],
          [
           "UGA",
           0.00011585812781088675,
           "2019"
          ],
          [
           "UKR",
           0.0005532547881928733,
           "2019"
          ],
          [
           "URY",
           0.0015129466758487683,
           "2019"
          ],
          [
           "USA",
           0.006550063277610727,
           "2019"
          ],
          [
           "UZB",
           0.00014434325456679617,
           "2019"
          ],
          [
           "VCT",
           0.0024112691090694216,
           "2019"
          ],
          [
           "VEN",
           0.001304791257560313,
           "2019"
          ],
          [
           "VGB",
           0.0019601437438745506,
           "2019"
          ],
          [
           "VIR",
           0.0012992551598282206,
           "2019"
          ],
          [
           "VNM",
           0.003962904679641504,
           "2019"
          ],
          [
           "VUT",
           0.0015702764409257404,
           "2019"
          ],
          [
           "WLF",
           0.0003414717432132491,
           "2019"
          ],
          [
           "WSM",
           0.0005757269732806056,
           "2019"
          ],
          [
           "XKX",
           0.0004114155362125702,
           "2019"
          ],
          [
           "YEM",
           0.0013308527350776663,
           "2019"
          ],
          [
           "ZAF",
           0.0006547241894084663,
           "2019"
          ],
          [
           "ZMB",
           0.00015456617366350176,
           "2019"
          ],
          [
           "ZWE",
           0.000025464668326277037,
           "2019"
          ]
         ],
         "geo": "geo",
         "hovertemplate": "<b>%{hovertext}</b><br><br><extra></extra>",
         "hovertext": [
          "Aruba:<br>0.00337 (2019)",
          "Afghanistan:<br>0.00432 (2019)",
          "Angola:<br>0.00031 (2019)",
          "Anguilla:<br>0.00260 (2019)",
          "Albania:<br>0.00610 (2019)",
          "Andorra:<br>0.00121 (2019)",
          "United Arab Emirates:<br>0.03585 (2019)",
          "Argentina:<br>0.00128 (2019)",
          "Armenia:<br>0.00170 (2019)",
          "American Samoa:<br>0.00070 (2019)",
          "Antigua and Barbuda:<br>0.00213 (2019)",
          "Australia:<br>0.00133 (2019)",
          "Austria:<br>0.00115 (2019)",
          "Azerbaijan:<br>0.00112 (2019)",
          "Burundi:<br>0.00005 (2019)",
          "Belgium:<br>0.00186 (2019)",
          "Benin:<br>0.00028 (2019)",
          "Bonaire, Sint Eustatius, and Saba:<br>0.00164 (2019)",
          "Burkina Faso:<br>0.00016 (2019)",
          "Bangladesh:<br>0.00336 (2019)",
          "Bulgaria:<br>0.00240 (2019)",
          "Bahrain:<br>0.01746 (2019)",
          "Bahamas:<br>0.00104 (2019)",
          "Bosnia and Herzegovina:<br>0.00466 (2019)",
          "Saint Barthélemy:<br>0.00067 (2019)",
          "Belarus:<br>0.00019 (2019)",
          "Belize:<br>0.00490 (2019)",
          "Bermuda:<br>0.00105 (2019)",
          "Bolivia:<br>0.00192 (2019)",
          "Brazil:<br>0.00188 (2019)",
          "Barbados:<br>0.00269 (2019)",
          "Brunei Darussalam:<br>0.00473 (2019)",
          "Bhutan:<br>0.00599 (2019)",
          "Botswana:<br>0.00063 (2019)",
          "Central African Republic:<br>0.00004 (2019)",
          "Canada:<br>0.00098 (2019)",
          "Switzerland:<br>0.00100 (2019)",
          "Chile:<br>0.00150 (2019)",
          "China:<br>0.00000 (2019)",
          "Côte d'Ivoire:<br>0.00072 (2019)",
          "Cameroon:<br>0.00023 (2019)",
          "Democratic Republic of the Congo:<br>0.00004 (2019)",
          "Congo:<br>0.00015 (2019)",
          "Cook Islands:<br>0.00053 (2019)",
          "Colombia:<br>0.00527 (2019)",
          "Comoros:<br>0.00074 (2019)",
          "Cabo Verde:<br>0.00430 (2019)",
          "Costa Rica:<br>0.00251 (2019)",
          "Cuba:<br>0.00039 (2019)",
          "Curaçao:<br>0.00201 (2019)",
          "Cayman Islands:<br>0.00177 (2019)",
          "Cyprus:<br>0.00204 (2019)",
          "Czechia:<br>0.00137 (2019)",
          "Germany:<br>0.00106 (2019)",
          "Djibouti:<br>0.00377 (2019)",
          "Dominica:<br>0.00151 (2019)",
          "Denmark:<br>0.00106 (2019)",
          "Dominican Republic:<br>0.00297 (2019)",
          "Algeria:<br>0.01640 (2019)",
          "Ecuador:<br>0.00569 (2019)",
          "Egypt:<br>0.00262 (2019)",
          "Eritrea:<br>0.00002 (2019)",
          "Western Sahara:<br>0.00001 (2019)",
          "Spain:<br>0.00099 (2019)",
          "Estonia:<br>0.00147 (2019)",
          "Ethiopia:<br>0.00013 (2019)",
          "Finland:<br>0.00088 (2019)",
          "Fiji:<br>0.00388 (2019)",
          "Falkland Islands:<br>0.00027 (2019)",
          "France:<br>0.00111 (2019)",
          "Faroe Islands:<br>0.00112 (2019)",
          "Micronesia:<br>0.00061 (2019)",
          "Gabon:<br>0.00054 (2019)",
          "United Kingdom of Great Britain and Northern Ireland:<br>0.00111 (2019)",
          "Georgia:<br>0.00163 (2019)",
          "Guernsey:<br>0.00047 (2019)",
          "Ghana:<br>0.00040 (2019)",
          "Gibraltar:<br>0.00150 (2019)",
          "Guinea:<br>0.00027 (2019)",
          "Guadeloupe:<br>0.00393 (2019)",
          "Gambia:<br>0.00011 (2019)",
          "Guinea-Bissau:<br>0.00012 (2019)",
          "Equatorial Guinea:<br>0.00010 (2019)",
          "Greece:<br>0.00179 (2019)",
          "Grenada:<br>0.00283 (2019)",
          "Greenland:<br>0.00150 (2019)",
          "Guatemala:<br>0.00424 (2019)",
          "French Guiana:<br>0.00195 (2019)",
          "Guam:<br>0.00148 (2019)",
          "Guyana:<br>0.00258 (2019)",
          "Hong Kong:<br>0.00095 (2019)",
          "Honduras:<br>0.00321 (2019)",
          "Croatia:<br>0.00316 (2019)",
          "Haiti:<br>0.00031 (2019)",
          "Hungary:<br>0.00588 (2019)",
          "Indonesia:<br>0.00312 (2019)",
          "Isle of Man:<br>0.00067 (2019)",
          "India:<br>0.00144 (2019)",
          "Ireland:<br>0.00136 (2019)",
          "Iran:<br>0.00070 (2019)",
          "Iraq:<br>0.02470 (2019)",
          "Iceland:<br>0.00152 (2019)",
          "Israel:<br>0.00333 (2019)",
          "Italy:<br>0.00096 (2019)",
          "Jamaica:<br>0.00091 (2019)",
          "Jersey:<br>0.00362 (2019)",
          "Jordan:<br>0.01155 (2019)",
          "Japan:<br>0.00021 (2019)",
          "Kazakhstan:<br>0.00057 (2019)",
          "Kenya:<br>0.00025 (2019)",
          "Kyrgyzstan:<br>0.00099 (2019)",
          "Cambodia:<br>0.00564 (2019)",
          "Kiribati:<br>0.00109 (2019)",
          "Saint Kitts and Nevis:<br>0.00195 (2019)",
          "South Korea:<br>0.00161 (2019)",
          "Kuwait:<br>0.01430 (2019)",
          "Lao People's Democratic Republic:<br>0.00327 (2019)",
          "Lebanon:<br>0.00487 (2019)",
          "Liberia:<br>0.00018 (2019)",
          "Libya:<br>0.02296 (2019)",
          "Saint Lucia:<br>0.00240 (2019)",
          "Liechtenstein:<br>0.00042 (2019)",
          "Sri Lanka:<br>0.00338 (2019)",
          "Lesotho:<br>0.00039 (2019)",
          "Lithuania:<br>0.00416 (2019)",
          "Luxembourg:<br>0.00243 (2019)",
          "Latvia:<br>0.00070 (2019)",
          "Macao:<br>0.00145 (2019)",
          "Saint Martin (French part):<br>0.00160 (2019)",
          "Morocco:<br>0.00889 (2019)",
          "Monaco:<br>0.00918 (2019)",
          "Moldova:<br>0.00338 (2019)",
          "Madagascar:<br>0.00020 (2019)",
          "Maldives:<br>0.00964 (2019)",
          "Mexico:<br>0.00662 (2019)",
          "Marshall Islands:<br>0.00076 (2019)",
          "North Macedonia:<br>0.00383 (2019)",
          "Mali:<br>0.00011 (2019)",
          "Malta:<br>0.00393 (2019)",
          "Myanmar:<br>0.00441 (2019)",
          "Montenegro:<br>0.00590 (2019)",
          "Mongolia:<br>0.00143 (2019)",
          "Northern Mariana Islands:<br>0.00203 (2019)",
          "Mozambique:<br>0.00015 (2019)",
          "Mauritania:<br>0.00177 (2019)",
          "Montserrat:<br>0.00178 (2019)",
          "Martinique:<br>0.00164 (2019)",
          "Mauritius:<br>0.00320 (2019)",
          "Malawi:<br>0.00002 (2019)",
          "Malaysia:<br>0.00559 (2019)",
          "Mayotte:<br>0.00156 (2019)",
          "Namibia:<br>0.00037 (2019)",
          "New Caledonia:<br>0.00127 (2019)",
          "Niger:<br>0.00003 (2019)",
          "Nigeria:<br>0.00019 (2019)",
          "Nicaragua:<br>0.00286 (2019)",
          "Niue:<br>0.00000 (2019)",
          "Netherlands:<br>0.00148 (2019)",
          "Norway:<br>0.00150 (2019)",
          "Nepal:<br>0.00220 (2019)",
          "Nauru:<br>0.00256 (2019)",
          "New Zealand:<br>0.00100 (2019)",
          "Oman:<br>0.00902 (2019)",
          "Pakistan:<br>0.00519 (2019)",
          "Panama:<br>0.00169 (2019)",
          "Peru:<br>0.00490 (2019)",
          "Philippines:<br>0.00726 (2019)",
          "Palau:<br>0.00452 (2019)",
          "Papua New Guinea:<br>0.00014 (2019)",
          "Poland:<br>0.00202 (2019)",
          "Puerto Rico:<br>0.00238 (2019)",
          "North Korea:<br>0.00000 (2019)",
          "Portugal:<br>0.00295 (2019)",
          "Paraguay:<br>0.00094 (2019)",
          "Palestine:<br>0.00754 (2019)",
          "French Polynesia:<br>0.00107 (2019)",
          "Qatar:<br>0.01905 (2019)",
          "Réunion:<br>0.00131 (2019)",
          "Romania:<br>0.00547 (2019)",
          "Russian Federation:<br>0.00049 (2019)",
          "Rwanda:<br>0.00007 (2019)",
          "Saudi Arabia:<br>0.01437 (2019)",
          "Sudan:<br>0.00037 (2019)",
          "Senegal:<br>0.00022 (2019)",
          "Singapore:<br>0.00314 (2019)",
          "Saint Helena, Ascension and Tristan da Cunha:<br>0.00037 (2019)",
          "Solomon Islands:<br>0.00068 (2019)",
          "Sierra Leone:<br>0.00009 (2019)",
          "El Salvador:<br>0.00398 (2019)",
          "San Marino:<br>0.00020 (2019)",
          "Somalia:<br>0.00108 (2019)",
          "Saint Pierre and Miquelon:<br>0.00084 (2019)",
          "Serbia:<br>0.00439 (2019)",
          "South Sudan:<br>0.00006 (2019)",
          "Sao Tome and Principe:<br>0.00322 (2019)",
          "Suriname:<br>0.00561 (2019)",
          "Slovakia:<br>0.00124 (2019)",
          "Slovenia:<br>0.00326 (2019)",
          "Sweden:<br>0.00160 (2019)",
          "Eswatini:<br>0.00022 (2019)",
          "Sint Maarten (Dutch part):<br>0.00249 (2019)",
          "Seychelles:<br>0.01438 (2019)",
          "Syrian Arab Republic:<br>0.00158 (2019)",
          "Turks and Caicos Islands:<br>0.00267 (2019)",
          "Chad:<br>0.00002 (2019)",
          "Togo:<br>0.00010 (2019)",
          "Thailand:<br>0.00498 (2019)",
          "Tajikistan:<br>0.00054 (2019)",
          "Tokelau:<br>0.00000 (2019)",
          "Turkmenistan:<br>0.00002 (2019)",
          "Timor-Leste:<br>0.00102 (2019)",
          "Tonga:<br>0.00035 (2019)",
          "Trinidad and Tobago:<br>0.00233 (2019)",
          "Tunisia:<br>0.00547 (2019)",
          "Türkiye:<br>0.00267 (2019)",
          "Tuvalu:<br>0.00037 (2019)",
          "Taiwan:<br>0.00141 (2019)",
          "Tanzania:<br>0.00011 (2019)",
          "Uganda:<br>0.00012 (2019)",
          "Ukraine:<br>0.00055 (2019)",
          "Uruguay:<br>0.00151 (2019)",
          "United States of America:<br>0.00655 (2019)",
          "Uzbekistan:<br>0.00014 (2019)",
          "Saint Vincent and the Grenadines:<br>0.00241 (2019)",
          "Venezuela:<br>0.00130 (2019)",
          "British Virgin Islands:<br>0.00196 (2019)",
          "U.S. Virgin Islands:<br>0.00130 (2019)",
          "Viet Nam:<br>0.00396 (2019)",
          "Vanuatu:<br>0.00157 (2019)",
          "Wallis and Futuna:<br>0.00034 (2019)",
          "Samoa:<br>0.00058 (2019)",
          "Kosovo:<br>0.00041 (2019)",
          "Yemen:<br>0.00133 (2019)",
          "South Africa:<br>0.00065 (2019)",
          "Zambia:<br>0.00015 (2019)",
          "Zimbabwe:<br>0.00003 (2019)"
         ],
         "locations": [
          "ABW",
          "AFG",
          "AGO",
          "AIA",
          "ALB",
          "AND",
          "ARE",
          "ARG",
          "ARM",
          "ASM",
          "ATG",
          "AUS",
          "AUT",
          "AZE",
          "BDI",
          "BEL",
          "BEN",
          "BES",
          "BFA",
          "BGD",
          "BGR",
          "BHR",
          "BHS",
          "BIH",
          "BLM",
          "BLR",
          "BLZ",
          "BMU",
          "BOL",
          "BRA",
          "BRB",
          "BRN",
          "BTN",
          "BWA",
          "CAF",
          "CAN",
          "CHE",
          "CHL",
          "CHN",
          "CIV",
          "CMR",
          "COD",
          "COG",
          "COK",
          "COL",
          "COM",
          "CPV",
          "CRI",
          "CUB",
          "CUW",
          "CYM",
          "CYP",
          "CZE",
          "DEU",
          "DJI",
          "DMA",
          "DNK",
          "DOM",
          "DZA",
          "ECU",
          "EGY",
          "ERI",
          "ESH",
          "ESP",
          "EST",
          "ETH",
          "FIN",
          "FJI",
          "FLK",
          "FRA",
          "FRO",
          "FSM",
          "GAB",
          "GBR",
          "GEO",
          "GGY",
          "GHA",
          "GIB",
          "GIN",
          "GLP",
          "GMB",
          "GNB",
          "GNQ",
          "GRC",
          "GRD",
          "GRL",
          "GTM",
          "GUF",
          "GUM",
          "GUY",
          "HKG",
          "HND",
          "HRV",
          "HTI",
          "HUN",
          "IDN",
          "IMN",
          "IND",
          "IRL",
          "IRN",
          "IRQ",
          "ISL",
          "ISR",
          "ITA",
          "JAM",
          "JEY",
          "JOR",
          "JPN",
          "KAZ",
          "KEN",
          "KGZ",
          "KHM",
          "KIR",
          "KNA",
          "KOR",
          "KWT",
          "LAO",
          "LBN",
          "LBR",
          "LBY",
          "LCA",
          "LIE",
          "LKA",
          "LSO",
          "LTU",
          "LUX",
          "LVA",
          "MAC",
          "MAF",
          "MAR",
          "MCO",
          "MDA",
          "MDG",
          "MDV",
          "MEX",
          "MHL",
          "MKD",
          "MLI",
          "MLT",
          "MMR",
          "MNE",
          "MNG",
          "MNP",
          "MOZ",
          "MRT",
          "MSR",
          "MTQ",
          "MUS",
          "MWI",
          "MYS",
          "MYT",
          "NAM",
          "NCL",
          "NER",
          "NGA",
          "NIC",
          "NIU",
          "NLD",
          "NOR",
          "NPL",
          "NRU",
          "NZL",
          "OMN",
          "PAK",
          "PAN",
          "PER",
          "PHL",
          "PLW",
          "PNG",
          "POL",
          "PRI",
          "PRK",
          "PRT",
          "PRY",
          "PSE",
          "PYF",
          "QAT",
          "REU",
          "ROU",
          "RUS",
          "RWA",
          "SAU",
          "SDN",
          "SEN",
          "SGP",
          "SHN",
          "SLB",
          "SLE",
          "SLV",
          "SMR",
          "SOM",
          "SPM",
          "SRB",
          "SSD",
          "STP",
          "SUR",
          "SVK",
          "SVN",
          "SWE",
          "SWZ",
          "SXM",
          "SYC",
          "SYR",
          "TCA",
          "TCD",
          "TGO",
          "THA",
          "TJK",
          "TKL",
          "TKM",
          "TLS",
          "TON",
          "TTO",
          "TUN",
          "TUR",
          "TUV",
          "TWN",
          "TZA",
          "UGA",
          "UKR",
          "URY",
          "USA",
          "UZB",
          "VCT",
          "VEN",
          "VGB",
          "VIR",
          "VNM",
          "VUT",
          "WLF",
          "WSM",
          "XKX",
          "YEM",
          "ZAF",
          "ZMB",
          "ZWE"
         ],
         "name": "",
         "type": "choropleth",
         "z": [
          0.0033726971242824797,
          0.004318828798867573,
          0.0003141228107374057,
          0.002600780234070221,
          0.006104978489041311,
          0.0012050875653301547,
          0.035853267224344114,
          0.0012821842276053558,
          0.001699282635409037,
          0.0006973648063227743,
          0.002127728866550148,
          0.0013268436501391915,
          0.0011505708371903414,
          0.0011184673371867767,
          0.00004901119493166981,
          0.0018633311579411198,
          0.0002831468090168264,
          0.0016424856282507528,
          0.00015588279274953142,
          0.0033630661289501883,
          0.002395168146702489,
          0.01746298493697919,
          0.0010406444580120973,
          0.004664190207313212,
          0.0006678752027478294,
          0.0001889606656873377,
          0.004901116693866537,
          0.0010499592553124804,
          0.001918688597528384,
          0.001879608983309784,
          0.002694696266685702,
          0.004725498745574125,
          0.005989896528674496,
          0.0006328754387522992,
          0.00004242392248515883,
          0.0009836209312338155,
          0.0009989984361424037,
          0.0015042948113200114,
          0.0000024200626255240014,
          0.0007234329517131451,
          0.0002290715183698796,
          0.00004288881482955517,
          0.00015419873829889173,
          0.0005260081823495032,
          0.005271880254741991,
          0.0007395832543180284,
          0.0042995956889664505,
          0.0025103588688201784,
          0.0003898664071327526,
          0.0020092487584603353,
          0.0017691353917803248,
          0.002036071505008394,
          0.0013711850510459889,
          0.001057089177736397,
          0.003766315268055501,
          0.0015120120960967689,
          0.0010607538667998188,
          0.0029705336842897503,
          0.016403909307047552,
          0.00568902637556684,
          0.0026188172733209265,
          0.000017720270102646094,
          0.00001284695967522886,
          0.0009937330065417998,
          0.001470190401337112,
          0.00013191308835984502,
          0.0008783786108831653,
          0.003876032293010621,
          0.00026954177897574127,
          0.0011090414173754906,
          0.0011222693059344828,
          0.0006105280169511309,
          0.0005354946927615921,
          0.0011130801533465954,
          0.0016328052506476723,
          0.0004650044095245731,
          0.0004031115759673552,
          0.001499158635459691,
          0.0002669764774154441,
          0.003934409648912095,
          0.00011000907176258448,
          0.00011976917029907275,
          0.00010109263755842607,
          0.0017884392923640045,
          0.002827482806948926,
          0.001501850494359121,
          0.0042439240940989244,
          0.0019537231627081773,
          0.001482588480880539,
          0.0025827759019371446,
          0.000949024042031333,
          0.003212827532232956,
          0.0031643546634277315,
          0.00030796282368129277,
          0.005884281661221745,
          0.0031167446769375315,
          0.000667198837167741,
          0.0014369262407648562,
          0.0013588591057346795,
          0.0006998273951627255,
          0.02470457206933936,
          0.0015244958769316055,
          0.003333093244361007,
          0.0009562192777744255,
          0.0009122981846794322,
          0.0036246438413751227,
          0.011546934183680909,
          0.00020933817425774522,
          0.0005694706770057232,
          0.00025098402498849396,
          0.0009930984402503431,
          0.005642857433723357,
          0.001094646694730403,
          0.001949195171026157,
          0.001608413895266045,
          0.014296458084708743,
          0.003272161200146477,
          0.004866214555163202,
          0.00017651935524700774,
          0.022963309366536115,
          0.0024022308829458406,
          0.0004157788056753807,
          0.00338120720949757,
          0.00039448228019743885,
          0.004161689919177504,
          0.002429138043108329,
          0.0007028231890954399,
          0.0014450322683691628,
          0.0016001449187850974,
          0.008893933761431945,
          0.009180752821731381,
          0.003381903983642339,
          0.00020491673777492966,
          0.009643058187382559,
          0.0066193863482499555,
          0.0007601332468868072,
          0.003827495913301447,
          0.00010978526041958391,
          0.003927447456987699,
          0.004405732767433132,
          0.005901052671654008,
          0.0014342151260816167,
          0.0020257531389145174,
          0.0001547930625104113,
          0.0017653436512069644,
          0.0017758046614872365,
          0.001641392093916641,
          0.0032037856047964983,
          0.000023744739387439785,
          0.005590991591884166,
          0.0015620277837202748,
          0.0003666245000807228,
          0.001268510796358463,
          0.000028408857028502656,
          0.00019208626241273608,
          0.002860926985361778,
          0,
          0.001483189045929273,
          0.0015016045348419558,
          0.0021977285629381513,
          0.002555225848994395,
          0.001002816274298583,
          0.009015010098271301,
          0.005187751283872045,
          0.0016850433735645708,
          0.004899914123017916,
          0.007259160684686074,
          0.0045208461237930455,
          0.00014178695153443244,
          0.0020195824235825586,
          0.0023836226387361605,
          3.882674732690463e-8,
          0.0029513340381653002,
          0.0009428751213432961,
          0.0075376162858786806,
          0.0010676702767267899,
          0.019046143269088624,
          0.0013081670914874344,
          0.005468287553335702,
          0.0004942765856281643,
          0.00006801699224964682,
          0.014369799261246196,
          0.00036741223701568183,
          0.0002243640342078281,
          0.003140935547409359,
          0.00036717459151826694,
          0.0006844515424604404,
          0.00009047042008721696,
          0.003983142620708807,
          0.00020481011176780385,
          0.0010790735998276986,
          0.0008438818565400844,
          0.0043876171184220195,
          0.00006058769489759722,
          0.0032246189404424065,
          0.005607187061157652,
          0.0012411247388119087,
          0.003260917922364596,
          0.0015975968652664093,
          0.00022144076715973574,
          0.0024895300139599814,
          0.014381113889607465,
          0.0015771520826786329,
          0.002669452181987001,
          0.000021082831592945586,
          0.00009741487844248774,
          0.004983973484065122,
          0.0005424652857024893,
          0,
          0.000017212207027127087,
          0.0010223064295186491,
          0.0003525454736019666,
          0.0023270425769183955,
          0.005470601894846462,
          0.0026698191665611346,
          0.0003650967506389193,
          0.001413969655145498,
          0.00011332399761834211,
          0.00011585812781088675,
          0.0005532547881928733,
          0.0015129466758487683,
          0.006550063277610727,
          0.00014434325456679617,
          0.0024112691090694216,
          0.001304791257560313,
          0.0019601437438745506,
          0.0012992551598282206,
          0.003962904679641504,
          0.0015702764409257404,
          0.0003414717432132491,
          0.0005757269732806056,
          0.0004114155362125702,
          0.0013308527350776663,
          0.0006547241894084663,
          0.00015456617366350176,
          0.000025464668326277037
         ]
        }
       ],
       "frames": [
        {
         "data": [
          {
           "coloraxis": "coloraxis",
           "customdata": [
            [
             "ABW",
             0.0033726971242824797,
             "2019"
            ],
            [
             "AFG",
             0.004318828798867573,
             "2019"
            ],
            [
             "AGO",
             0.0003141228107374057,
             "2019"
            ],
            [
             "AIA",
             0.002600780234070221,
             "2019"
            ],
            [
             "ALB",
             0.006104978489041311,
             "2019"
            ],
            [
             "AND",
             0.0012050875653301547,
             "2019"
            ],
            [
             "ARE",
             0.035853267224344114,
             "2019"
            ],
            [
             "ARG",
             0.0012821842276053558,
             "2019"
            ],
            [
             "ARM",
             0.001699282635409037,
             "2019"
            ],
            [
             "ASM",
             0.0006973648063227743,
             "2019"
            ],
            [
             "ATG",
             0.002127728866550148,
             "2019"
            ],
            [
             "AUS",
             0.0013268436501391915,
             "2019"
            ],
            [
             "AUT",
             0.0011505708371903414,
             "2019"
            ],
            [
             "AZE",
             0.0011184673371867767,
             "2019"
            ],
            [
             "BDI",
             0.00004901119493166981,
             "2019"
            ],
            [
             "BEL",
             0.0018633311579411198,
             "2019"
            ],
            [
             "BEN",
             0.0002831468090168264,
             "2019"
            ],
            [
             "BES",
             0.0016424856282507528,
             "2019"
            ],
            [
             "BFA",
             0.00015588279274953142,
             "2019"
            ],
            [
             "BGD",
             0.0033630661289501883,
             "2019"
            ],
            [
             "BGR",
             0.002395168146702489,
             "2019"
            ],
            [
             "BHR",
             0.01746298493697919,
             "2019"
            ],
            [
             "BHS",
             0.0010406444580120973,
             "2019"
            ],
            [
             "BIH",
             0.004664190207313212,
             "2019"
            ],
            [
             "BLM",
             0.0006678752027478294,
             "2019"
            ],
            [
             "BLR",
             0.0001889606656873377,
             "2019"
            ],
            [
             "BLZ",
             0.004901116693866537,
             "2019"
            ],
            [
             "BMU",
             0.0010499592553124804,
             "2019"
            ],
            [
             "BOL",
             0.001918688597528384,
             "2019"
            ],
            [
             "BRA",
             0.001879608983309784,
             "2019"
            ],
            [
             "BRB",
             0.002694696266685702,
             "2019"
            ],
            [
             "BRN",
             0.004725498745574125,
             "2019"
            ],
            [
             "BTN",
             0.005989896528674496,
             "2019"
            ],
            [
             "BWA",
             0.0006328754387522992,
             "2019"
            ],
            [
             "CAF",
             0.00004242392248515883,
             "2019"
            ],
            [
             "CAN",
             0.0009836209312338155,
             "2019"
            ],
            [
             "CHE",
             0.0009989984361424037,
             "2019"
            ],
            [
             "CHL",
             0.0015042948113200114,
             "2019"
            ],
            [
             "CHN",
             0.0000024200626255240014,
             "2019"
            ],
            [
             "CIV",
             0.0007234329517131451,
             "2019"
            ],
            [
             "CMR",
             0.0002290715183698796,
             "2019"
            ],
            [
             "COD",
             0.00004288881482955517,
             "2019"
            ],
            [
             "COG",
             0.00015419873829889173,
             "2019"
            ],
            [
             "COK",
             0.0005260081823495032,
             "2019"
            ],
            [
             "COL",
             0.005271880254741991,
             "2019"
            ],
            [
             "COM",
             0.0007395832543180284,
             "2019"
            ],
            [
             "CPV",
             0.0042995956889664505,
             "2019"
            ],
            [
             "CRI",
             0.0025103588688201784,
             "2019"
            ],
            [
             "CUB",
             0.0003898664071327526,
             "2019"
            ],
            [
             "CUW",
             0.0020092487584603353,
             "2019"
            ],
            [
             "CYM",
             0.0017691353917803248,
             "2019"
            ],
            [
             "CYP",
             0.002036071505008394,
             "2019"
            ],
            [
             "CZE",
             0.0013711850510459889,
             "2019"
            ],
            [
             "DEU",
             0.001057089177736397,
             "2019"
            ],
            [
             "DJI",
             0.003766315268055501,
             "2019"
            ],
            [
             "DMA",
             0.0015120120960967689,
             "2019"
            ],
            [
             "DNK",
             0.0010607538667998188,
             "2019"
            ],
            [
             "DOM",
             0.0029705336842897503,
             "2019"
            ],
            [
             "DZA",
             0.016403909307047552,
             "2019"
            ],
            [
             "ECU",
             0.00568902637556684,
             "2019"
            ],
            [
             "EGY",
             0.0026188172733209265,
             "2019"
            ],
            [
             "ERI",
             0.000017720270102646094,
             "2019"
            ],
            [
             "ESH",
             0.00001284695967522886,
             "2019"
            ],
            [
             "ESP",
             0.0009937330065417998,
             "2019"
            ],
            [
             "EST",
             0.001470190401337112,
             "2019"
            ],
            [
             "ETH",
             0.00013191308835984502,
             "2019"
            ],
            [
             "FIN",
             0.0008783786108831653,
             "2019"
            ],
            [
             "FJI",
             0.003876032293010621,
             "2019"
            ],
            [
             "FLK",
             0.00026954177897574127,
             "2019"
            ],
            [
             "FRA",
             0.0011090414173754906,
             "2019"
            ],
            [
             "FRO",
             0.0011222693059344828,
             "2019"
            ],
            [
             "FSM",
             0.0006105280169511309,
             "2019"
            ],
            [
             "GAB",
             0.0005354946927615921,
             "2019"
            ],
            [
             "GBR",
             0.0011130801533465954,
             "2019"
            ],
            [
             "GEO",
             0.0016328052506476723,
             "2019"
            ],
            [
             "GGY",
             0.0004650044095245731,
             "2019"
            ],
            [
             "GHA",
             0.0004031115759673552,
             "2019"
            ],
            [
             "GIB",
             0.001499158635459691,
             "2019"
            ],
            [
             "GIN",
             0.0002669764774154441,
             "2019"
            ],
            [
             "GLP",
             0.003934409648912095,
             "2019"
            ],
            [
             "GMB",
             0.00011000907176258448,
             "2019"
            ],
            [
             "GNB",
             0.00011976917029907275,
             "2019"
            ],
            [
             "GNQ",
             0.00010109263755842607,
             "2019"
            ],
            [
             "GRC",
             0.0017884392923640045,
             "2019"
            ],
            [
             "GRD",
             0.002827482806948926,
             "2019"
            ],
            [
             "GRL",
             0.001501850494359121,
             "2019"
            ],
            [
             "GTM",
             0.0042439240940989244,
             "2019"
            ],
            [
             "GUF",
             0.0019537231627081773,
             "2019"
            ],
            [
             "GUM",
             0.001482588480880539,
             "2019"
            ],
            [
             "GUY",
             0.0025827759019371446,
             "2019"
            ],
            [
             "HKG",
             0.000949024042031333,
             "2019"
            ],
            [
             "HND",
             0.003212827532232956,
             "2019"
            ],
            [
             "HRV",
             0.0031643546634277315,
             "2019"
            ],
            [
             "HTI",
             0.00030796282368129277,
             "2019"
            ],
            [
             "HUN",
             0.005884281661221745,
             "2019"
            ],
            [
             "IDN",
             0.0031167446769375315,
             "2019"
            ],
            [
             "IMN",
             0.000667198837167741,
             "2019"
            ],
            [
             "IND",
             0.0014369262407648562,
             "2019"
            ],
            [
             "IRL",
             0.0013588591057346795,
             "2019"
            ],
            [
             "IRN",
             0.0006998273951627255,
             "2019"
            ],
            [
             "IRQ",
             0.02470457206933936,
             "2019"
            ],
            [
             "ISL",
             0.0015244958769316055,
             "2019"
            ],
            [
             "ISR",
             0.003333093244361007,
             "2019"
            ],
            [
             "ITA",
             0.0009562192777744255,
             "2019"
            ],
            [
             "JAM",
             0.0009122981846794322,
             "2019"
            ],
            [
             "JEY",
             0.0036246438413751227,
             "2019"
            ],
            [
             "JOR",
             0.011546934183680909,
             "2019"
            ],
            [
             "JPN",
             0.00020933817425774522,
             "2019"
            ],
            [
             "KAZ",
             0.0005694706770057232,
             "2019"
            ],
            [
             "KEN",
             0.00025098402498849396,
             "2019"
            ],
            [
             "KGZ",
             0.0009930984402503431,
             "2019"
            ],
            [
             "KHM",
             0.005642857433723357,
             "2019"
            ],
            [
             "KIR",
             0.001094646694730403,
             "2019"
            ],
            [
             "KNA",
             0.001949195171026157,
             "2019"
            ],
            [
             "KOR",
             0.001608413895266045,
             "2019"
            ],
            [
             "KWT",
             0.014296458084708743,
             "2019"
            ],
            [
             "LAO",
             0.003272161200146477,
             "2019"
            ],
            [
             "LBN",
             0.004866214555163202,
             "2019"
            ],
            [
             "LBR",
             0.00017651935524700774,
             "2019"
            ],
            [
             "LBY",
             0.022963309366536115,
             "2019"
            ],
            [
             "LCA",
             0.0024022308829458406,
             "2019"
            ],
            [
             "LIE",
             0.0004157788056753807,
             "2019"
            ],
            [
             "LKA",
             0.00338120720949757,
             "2019"
            ],
            [
             "LSO",
             0.00039448228019743885,
             "2019"
            ],
            [
             "LTU",
             0.004161689919177504,
             "2019"
            ],
            [
             "LUX",
             0.002429138043108329,
             "2019"
            ],
            [
             "LVA",
             0.0007028231890954399,
             "2019"
            ],
            [
             "MAC",
             0.0014450322683691628,
             "2019"
            ],
            [
             "MAF",
             0.0016001449187850974,
             "2019"
            ],
            [
             "MAR",
             0.008893933761431945,
             "2019"
            ],
            [
             "MCO",
             0.009180752821731381,
             "2019"
            ],
            [
             "MDA",
             0.003381903983642339,
             "2019"
            ],
            [
             "MDG",
             0.00020491673777492966,
             "2019"
            ],
            [
             "MDV",
             0.009643058187382559,
             "2019"
            ],
            [
             "MEX",
             0.0066193863482499555,
             "2019"
            ],
            [
             "MHL",
             0.0007601332468868072,
             "2019"
            ],
            [
             "MKD",
             0.003827495913301447,
             "2019"
            ],
            [
             "MLI",
             0.00010978526041958391,
             "2019"
            ],
            [
             "MLT",
             0.003927447456987699,
             "2019"
            ],
            [
             "MMR",
             0.004405732767433132,
             "2019"
            ],
            [
             "MNE",
             0.005901052671654008,
             "2019"
            ],
            [
             "MNG",
             0.0014342151260816167,
             "2019"
            ],
            [
             "MNP",
             0.0020257531389145174,
             "2019"
            ],
            [
             "MOZ",
             0.0001547930625104113,
             "2019"
            ],
            [
             "MRT",
             0.0017653436512069644,
             "2019"
            ],
            [
             "MSR",
             0.0017758046614872365,
             "2019"
            ],
            [
             "MTQ",
             0.001641392093916641,
             "2019"
            ],
            [
             "MUS",
             0.0032037856047964983,
             "2019"
            ],
            [
             "MWI",
             0.000023744739387439785,
             "2019"
            ],
            [
             "MYS",
             0.005590991591884166,
             "2019"
            ],
            [
             "MYT",
             0.0015620277837202748,
             "2019"
            ],
            [
             "NAM",
             0.0003666245000807228,
             "2019"
            ],
            [
             "NCL",
             0.001268510796358463,
             "2019"
            ],
            [
             "NER",
             0.000028408857028502656,
             "2019"
            ],
            [
             "NGA",
             0.00019208626241273608,
             "2019"
            ],
            [
             "NIC",
             0.002860926985361778,
             "2019"
            ],
            [
             "NIU",
             0,
             "2019"
            ],
            [
             "NLD",
             0.001483189045929273,
             "2019"
            ],
            [
             "NOR",
             0.0015016045348419558,
             "2019"
            ],
            [
             "NPL",
             0.0021977285629381513,
             "2019"
            ],
            [
             "NRU",
             0.002555225848994395,
             "2019"
            ],
            [
             "NZL",
             0.001002816274298583,
             "2019"
            ],
            [
             "OMN",
             0.009015010098271301,
             "2019"
            ],
            [
             "PAK",
             0.005187751283872045,
             "2019"
            ],
            [
             "PAN",
             0.0016850433735645708,
             "2019"
            ],
            [
             "PER",
             0.004899914123017916,
             "2019"
            ],
            [
             "PHL",
             0.007259160684686074,
             "2019"
            ],
            [
             "PLW",
             0.0045208461237930455,
             "2019"
            ],
            [
             "PNG",
             0.00014178695153443244,
             "2019"
            ],
            [
             "POL",
             0.0020195824235825586,
             "2019"
            ],
            [
             "PRI",
             0.0023836226387361605,
             "2019"
            ],
            [
             "PRK",
             3.882674732690463e-8,
             "2019"
            ],
            [
             "PRT",
             0.0029513340381653002,
             "2019"
            ],
            [
             "PRY",
             0.0009428751213432961,
             "2019"
            ],
            [
             "PSE",
             0.0075376162858786806,
             "2019"
            ],
            [
             "PYF",
             0.0010676702767267899,
             "2019"
            ],
            [
             "QAT",
             0.019046143269088624,
             "2019"
            ],
            [
             "REU",
             0.0013081670914874344,
             "2019"
            ],
            [
             "ROU",
             0.005468287553335702,
             "2019"
            ],
            [
             "RUS",
             0.0004942765856281643,
             "2019"
            ],
            [
             "RWA",
             0.00006801699224964682,
             "2019"
            ],
            [
             "SAU",
             0.014369799261246196,
             "2019"
            ],
            [
             "SDN",
             0.00036741223701568183,
             "2019"
            ],
            [
             "SEN",
             0.0002243640342078281,
             "2019"
            ],
            [
             "SGP",
             0.003140935547409359,
             "2019"
            ],
            [
             "SHN",
             0.00036717459151826694,
             "2019"
            ],
            [
             "SLB",
             0.0006844515424604404,
             "2019"
            ],
            [
             "SLE",
             0.00009047042008721696,
             "2019"
            ],
            [
             "SLV",
             0.003983142620708807,
             "2019"
            ],
            [
             "SMR",
             0.00020481011176780385,
             "2019"
            ],
            [
             "SOM",
             0.0010790735998276986,
             "2019"
            ],
            [
             "SPM",
             0.0008438818565400844,
             "2019"
            ],
            [
             "SRB",
             0.0043876171184220195,
             "2019"
            ],
            [
             "SSD",
             0.00006058769489759722,
             "2019"
            ],
            [
             "STP",
             0.0032246189404424065,
             "2019"
            ],
            [
             "SUR",
             0.005607187061157652,
             "2019"
            ],
            [
             "SVK",
             0.0012411247388119087,
             "2019"
            ],
            [
             "SVN",
             0.003260917922364596,
             "2019"
            ],
            [
             "SWE",
             0.0015975968652664093,
             "2019"
            ],
            [
             "SWZ",
             0.00022144076715973574,
             "2019"
            ],
            [
             "SXM",
             0.0024895300139599814,
             "2019"
            ],
            [
             "SYC",
             0.014381113889607465,
             "2019"
            ],
            [
             "SYR",
             0.0015771520826786329,
             "2019"
            ],
            [
             "TCA",
             0.002669452181987001,
             "2019"
            ],
            [
             "TCD",
             0.000021082831592945586,
             "2019"
            ],
            [
             "TGO",
             0.00009741487844248774,
             "2019"
            ],
            [
             "THA",
             0.004983973484065122,
             "2019"
            ],
            [
             "TJK",
             0.0005424652857024893,
             "2019"
            ],
            [
             "TKL",
             0,
             "2019"
            ],
            [
             "TKM",
             0.000017212207027127087,
             "2019"
            ],
            [
             "TLS",
             0.0010223064295186491,
             "2019"
            ],
            [
             "TON",
             0.0003525454736019666,
             "2019"
            ],
            [
             "TTO",
             0.0023270425769183955,
             "2019"
            ],
            [
             "TUN",
             0.005470601894846462,
             "2019"
            ],
            [
             "TUR",
             0.0026698191665611346,
             "2019"
            ],
            [
             "TUV",
             0.0003650967506389193,
             "2019"
            ],
            [
             "TWN",
             0.001413969655145498,
             "2019"
            ],
            [
             "TZA",
             0.00011332399761834211,
             "2019"
            ],
            [
             "UGA",
             0.00011585812781088675,
             "2019"
            ],
            [
             "UKR",
             0.0005532547881928733,
             "2019"
            ],
            [
             "URY",
             0.0015129466758487683,
             "2019"
            ],
            [
             "USA",
             0.006550063277610727,
             "2019"
            ],
            [
             "UZB",
             0.00014434325456679617,
             "2019"
            ],
            [
             "VCT",
             0.0024112691090694216,
             "2019"
            ],
            [
             "VEN",
             0.001304791257560313,
             "2019"
            ],
            [
             "VGB",
             0.0019601437438745506,
             "2019"
            ],
            [
             "VIR",
             0.0012992551598282206,
             "2019"
            ],
            [
             "VNM",
             0.003962904679641504,
             "2019"
            ],
            [
             "VUT",
             0.0015702764409257404,
             "2019"
            ],
            [
             "WLF",
             0.0003414717432132491,
             "2019"
            ],
            [
             "WSM",
             0.0005757269732806056,
             "2019"
            ],
            [
             "XKX",
             0.0004114155362125702,
             "2019"
            ],
            [
             "YEM",
             0.0013308527350776663,
             "2019"
            ],
            [
             "ZAF",
             0.0006547241894084663,
             "2019"
            ],
            [
             "ZMB",
             0.00015456617366350176,
             "2019"
            ],
            [
             "ZWE",
             0.000025464668326277037,
             "2019"
            ]
           ],
           "geo": "geo",
           "hovertemplate": "<b>%{hovertext}</b><br><br><extra></extra>",
           "hovertext": [
            "Aruba:<br>0.00337 (2019)",
            "Afghanistan:<br>0.00432 (2019)",
            "Angola:<br>0.00031 (2019)",
            "Anguilla:<br>0.00260 (2019)",
            "Albania:<br>0.00610 (2019)",
            "Andorra:<br>0.00121 (2019)",
            "United Arab Emirates:<br>0.03585 (2019)",
            "Argentina:<br>0.00128 (2019)",
            "Armenia:<br>0.00170 (2019)",
            "American Samoa:<br>0.00070 (2019)",
            "Antigua and Barbuda:<br>0.00213 (2019)",
            "Australia:<br>0.00133 (2019)",
            "Austria:<br>0.00115 (2019)",
            "Azerbaijan:<br>0.00112 (2019)",
            "Burundi:<br>0.00005 (2019)",
            "Belgium:<br>0.00186 (2019)",
            "Benin:<br>0.00028 (2019)",
            "Bonaire, Sint Eustatius, and Saba:<br>0.00164 (2019)",
            "Burkina Faso:<br>0.00016 (2019)",
            "Bangladesh:<br>0.00336 (2019)",
            "Bulgaria:<br>0.00240 (2019)",
            "Bahrain:<br>0.01746 (2019)",
            "Bahamas:<br>0.00104 (2019)",
            "Bosnia and Herzegovina:<br>0.00466 (2019)",
            "Saint Barthélemy:<br>0.00067 (2019)",
            "Belarus:<br>0.00019 (2019)",
            "Belize:<br>0.00490 (2019)",
            "Bermuda:<br>0.00105 (2019)",
            "Bolivia:<br>0.00192 (2019)",
            "Brazil:<br>0.00188 (2019)",
            "Barbados:<br>0.00269 (2019)",
            "Brunei Darussalam:<br>0.00473 (2019)",
            "Bhutan:<br>0.00599 (2019)",
            "Botswana:<br>0.00063 (2019)",
            "Central African Republic:<br>0.00004 (2019)",
            "Canada:<br>0.00098 (2019)",
            "Switzerland:<br>0.00100 (2019)",
            "Chile:<br>0.00150 (2019)",
            "China:<br>0.00000 (2019)",
            "Côte d'Ivoire:<br>0.00072 (2019)",
            "Cameroon:<br>0.00023 (2019)",
            "Democratic Republic of the Congo:<br>0.00004 (2019)",
            "Congo:<br>0.00015 (2019)",
            "Cook Islands:<br>0.00053 (2019)",
            "Colombia:<br>0.00527 (2019)",
            "Comoros:<br>0.00074 (2019)",
            "Cabo Verde:<br>0.00430 (2019)",
            "Costa Rica:<br>0.00251 (2019)",
            "Cuba:<br>0.00039 (2019)",
            "Curaçao:<br>0.00201 (2019)",
            "Cayman Islands:<br>0.00177 (2019)",
            "Cyprus:<br>0.00204 (2019)",
            "Czechia:<br>0.00137 (2019)",
            "Germany:<br>0.00106 (2019)",
            "Djibouti:<br>0.00377 (2019)",
            "Dominica:<br>0.00151 (2019)",
            "Denmark:<br>0.00106 (2019)",
            "Dominican Republic:<br>0.00297 (2019)",
            "Algeria:<br>0.01640 (2019)",
            "Ecuador:<br>0.00569 (2019)",
            "Egypt:<br>0.00262 (2019)",
            "Eritrea:<br>0.00002 (2019)",
            "Western Sahara:<br>0.00001 (2019)",
            "Spain:<br>0.00099 (2019)",
            "Estonia:<br>0.00147 (2019)",
            "Ethiopia:<br>0.00013 (2019)",
            "Finland:<br>0.00088 (2019)",
            "Fiji:<br>0.00388 (2019)",
            "Falkland Islands:<br>0.00027 (2019)",
            "France:<br>0.00111 (2019)",
            "Faroe Islands:<br>0.00112 (2019)",
            "Micronesia:<br>0.00061 (2019)",
            "Gabon:<br>0.00054 (2019)",
            "United Kingdom of Great Britain and Northern Ireland:<br>0.00111 (2019)",
            "Georgia:<br>0.00163 (2019)",
            "Guernsey:<br>0.00047 (2019)",
            "Ghana:<br>0.00040 (2019)",
            "Gibraltar:<br>0.00150 (2019)",
            "Guinea:<br>0.00027 (2019)",
            "Guadeloupe:<br>0.00393 (2019)",
            "Gambia:<br>0.00011 (2019)",
            "Guinea-Bissau:<br>0.00012 (2019)",
            "Equatorial Guinea:<br>0.00010 (2019)",
            "Greece:<br>0.00179 (2019)",
            "Grenada:<br>0.00283 (2019)",
            "Greenland:<br>0.00150 (2019)",
            "Guatemala:<br>0.00424 (2019)",
            "French Guiana:<br>0.00195 (2019)",
            "Guam:<br>0.00148 (2019)",
            "Guyana:<br>0.00258 (2019)",
            "Hong Kong:<br>0.00095 (2019)",
            "Honduras:<br>0.00321 (2019)",
            "Croatia:<br>0.00316 (2019)",
            "Haiti:<br>0.00031 (2019)",
            "Hungary:<br>0.00588 (2019)",
            "Indonesia:<br>0.00312 (2019)",
            "Isle of Man:<br>0.00067 (2019)",
            "India:<br>0.00144 (2019)",
            "Ireland:<br>0.00136 (2019)",
            "Iran:<br>0.00070 (2019)",
            "Iraq:<br>0.02470 (2019)",
            "Iceland:<br>0.00152 (2019)",
            "Israel:<br>0.00333 (2019)",
            "Italy:<br>0.00096 (2019)",
            "Jamaica:<br>0.00091 (2019)",
            "Jersey:<br>0.00362 (2019)",
            "Jordan:<br>0.01155 (2019)",
            "Japan:<br>0.00021 (2019)",
            "Kazakhstan:<br>0.00057 (2019)",
            "Kenya:<br>0.00025 (2019)",
            "Kyrgyzstan:<br>0.00099 (2019)",
            "Cambodia:<br>0.00564 (2019)",
            "Kiribati:<br>0.00109 (2019)",
            "Saint Kitts and Nevis:<br>0.00195 (2019)",
            "South Korea:<br>0.00161 (2019)",
            "Kuwait:<br>0.01430 (2019)",
            "Lao People's Democratic Republic:<br>0.00327 (2019)",
            "Lebanon:<br>0.00487 (2019)",
            "Liberia:<br>0.00018 (2019)",
            "Libya:<br>0.02296 (2019)",
            "Saint Lucia:<br>0.00240 (2019)",
            "Liechtenstein:<br>0.00042 (2019)",
            "Sri Lanka:<br>0.00338 (2019)",
            "Lesotho:<br>0.00039 (2019)",
            "Lithuania:<br>0.00416 (2019)",
            "Luxembourg:<br>0.00243 (2019)",
            "Latvia:<br>0.00070 (2019)",
            "Macao:<br>0.00145 (2019)",
            "Saint Martin (French part):<br>0.00160 (2019)",
            "Morocco:<br>0.00889 (2019)",
            "Monaco:<br>0.00918 (2019)",
            "Moldova:<br>0.00338 (2019)",
            "Madagascar:<br>0.00020 (2019)",
            "Maldives:<br>0.00964 (2019)",
            "Mexico:<br>0.00662 (2019)",
            "Marshall Islands:<br>0.00076 (2019)",
            "North Macedonia:<br>0.00383 (2019)",
            "Mali:<br>0.00011 (2019)",
            "Malta:<br>0.00393 (2019)",
            "Myanmar:<br>0.00441 (2019)",
            "Montenegro:<br>0.00590 (2019)",
            "Mongolia:<br>0.00143 (2019)",
            "Northern Mariana Islands:<br>0.00203 (2019)",
            "Mozambique:<br>0.00015 (2019)",
            "Mauritania:<br>0.00177 (2019)",
            "Montserrat:<br>0.00178 (2019)",
            "Martinique:<br>0.00164 (2019)",
            "Mauritius:<br>0.00320 (2019)",
            "Malawi:<br>0.00002 (2019)",
            "Malaysia:<br>0.00559 (2019)",
            "Mayotte:<br>0.00156 (2019)",
            "Namibia:<br>0.00037 (2019)",
            "New Caledonia:<br>0.00127 (2019)",
            "Niger:<br>0.00003 (2019)",
            "Nigeria:<br>0.00019 (2019)",
            "Nicaragua:<br>0.00286 (2019)",
            "Niue:<br>0.00000 (2019)",
            "Netherlands:<br>0.00148 (2019)",
            "Norway:<br>0.00150 (2019)",
            "Nepal:<br>0.00220 (2019)",
            "Nauru:<br>0.00256 (2019)",
            "New Zealand:<br>0.00100 (2019)",
            "Oman:<br>0.00902 (2019)",
            "Pakistan:<br>0.00519 (2019)",
            "Panama:<br>0.00169 (2019)",
            "Peru:<br>0.00490 (2019)",
            "Philippines:<br>0.00726 (2019)",
            "Palau:<br>0.00452 (2019)",
            "Papua New Guinea:<br>0.00014 (2019)",
            "Poland:<br>0.00202 (2019)",
            "Puerto Rico:<br>0.00238 (2019)",
            "North Korea:<br>0.00000 (2019)",
            "Portugal:<br>0.00295 (2019)",
            "Paraguay:<br>0.00094 (2019)",
            "Palestine:<br>0.00754 (2019)",
            "French Polynesia:<br>0.00107 (2019)",
            "Qatar:<br>0.01905 (2019)",
            "Réunion:<br>0.00131 (2019)",
            "Romania:<br>0.00547 (2019)",
            "Russian Federation:<br>0.00049 (2019)",
            "Rwanda:<br>0.00007 (2019)",
            "Saudi Arabia:<br>0.01437 (2019)",
            "Sudan:<br>0.00037 (2019)",
            "Senegal:<br>0.00022 (2019)",
            "Singapore:<br>0.00314 (2019)",
            "Saint Helena, Ascension and Tristan da Cunha:<br>0.00037 (2019)",
            "Solomon Islands:<br>0.00068 (2019)",
            "Sierra Leone:<br>0.00009 (2019)",
            "El Salvador:<br>0.00398 (2019)",
            "San Marino:<br>0.00020 (2019)",
            "Somalia:<br>0.00108 (2019)",
            "Saint Pierre and Miquelon:<br>0.00084 (2019)",
            "Serbia:<br>0.00439 (2019)",
            "South Sudan:<br>0.00006 (2019)",
            "Sao Tome and Principe:<br>0.00322 (2019)",
            "Suriname:<br>0.00561 (2019)",
            "Slovakia:<br>0.00124 (2019)",
            "Slovenia:<br>0.00326 (2019)",
            "Sweden:<br>0.00160 (2019)",
            "Eswatini:<br>0.00022 (2019)",
            "Sint Maarten (Dutch part):<br>0.00249 (2019)",
            "Seychelles:<br>0.01438 (2019)",
            "Syrian Arab Republic:<br>0.00158 (2019)",
            "Turks and Caicos Islands:<br>0.00267 (2019)",
            "Chad:<br>0.00002 (2019)",
            "Togo:<br>0.00010 (2019)",
            "Thailand:<br>0.00498 (2019)",
            "Tajikistan:<br>0.00054 (2019)",
            "Tokelau:<br>0.00000 (2019)",
            "Turkmenistan:<br>0.00002 (2019)",
            "Timor-Leste:<br>0.00102 (2019)",
            "Tonga:<br>0.00035 (2019)",
            "Trinidad and Tobago:<br>0.00233 (2019)",
            "Tunisia:<br>0.00547 (2019)",
            "Türkiye:<br>0.00267 (2019)",
            "Tuvalu:<br>0.00037 (2019)",
            "Taiwan:<br>0.00141 (2019)",
            "Tanzania:<br>0.00011 (2019)",
            "Uganda:<br>0.00012 (2019)",
            "Ukraine:<br>0.00055 (2019)",
            "Uruguay:<br>0.00151 (2019)",
            "United States of America:<br>0.00655 (2019)",
            "Uzbekistan:<br>0.00014 (2019)",
            "Saint Vincent and the Grenadines:<br>0.00241 (2019)",
            "Venezuela:<br>0.00130 (2019)",
            "British Virgin Islands:<br>0.00196 (2019)",
            "U.S. Virgin Islands:<br>0.00130 (2019)",
            "Viet Nam:<br>0.00396 (2019)",
            "Vanuatu:<br>0.00157 (2019)",
            "Wallis and Futuna:<br>0.00034 (2019)",
            "Samoa:<br>0.00058 (2019)",
            "Kosovo:<br>0.00041 (2019)",
            "Yemen:<br>0.00133 (2019)",
            "South Africa:<br>0.00065 (2019)",
            "Zambia:<br>0.00015 (2019)",
            "Zimbabwe:<br>0.00003 (2019)"
           ],
           "locations": [
            "ABW",
            "AFG",
            "AGO",
            "AIA",
            "ALB",
            "AND",
            "ARE",
            "ARG",
            "ARM",
            "ASM",
            "ATG",
            "AUS",
            "AUT",
            "AZE",
            "BDI",
            "BEL",
            "BEN",
            "BES",
            "BFA",
            "BGD",
            "BGR",
            "BHR",
            "BHS",
            "BIH",
            "BLM",
            "BLR",
            "BLZ",
            "BMU",
            "BOL",
            "BRA",
            "BRB",
            "BRN",
            "BTN",
            "BWA",
            "CAF",
            "CAN",
            "CHE",
            "CHL",
            "CHN",
            "CIV",
            "CMR",
            "COD",
            "COG",
            "COK",
            "COL",
            "COM",
            "CPV",
            "CRI",
            "CUB",
            "CUW",
            "CYM",
            "CYP",
            "CZE",
            "DEU",
            "DJI",
            "DMA",
            "DNK",
            "DOM",
            "DZA",
            "ECU",
            "EGY",
            "ERI",
            "ESH",
            "ESP",
            "EST",
            "ETH",
            "FIN",
            "FJI",
            "FLK",
            "FRA",
            "FRO",
            "FSM",
            "GAB",
            "GBR",
            "GEO",
            "GGY",
            "GHA",
            "GIB",
            "GIN",
            "GLP",
            "GMB",
            "GNB",
            "GNQ",
            "GRC",
            "GRD",
            "GRL",
            "GTM",
            "GUF",
            "GUM",
            "GUY",
            "HKG",
            "HND",
            "HRV",
            "HTI",
            "HUN",
            "IDN",
            "IMN",
            "IND",
            "IRL",
            "IRN",
            "IRQ",
            "ISL",
            "ISR",
            "ITA",
            "JAM",
            "JEY",
            "JOR",
            "JPN",
            "KAZ",
            "KEN",
            "KGZ",
            "KHM",
            "KIR",
            "KNA",
            "KOR",
            "KWT",
            "LAO",
            "LBN",
            "LBR",
            "LBY",
            "LCA",
            "LIE",
            "LKA",
            "LSO",
            "LTU",
            "LUX",
            "LVA",
            "MAC",
            "MAF",
            "MAR",
            "MCO",
            "MDA",
            "MDG",
            "MDV",
            "MEX",
            "MHL",
            "MKD",
            "MLI",
            "MLT",
            "MMR",
            "MNE",
            "MNG",
            "MNP",
            "MOZ",
            "MRT",
            "MSR",
            "MTQ",
            "MUS",
            "MWI",
            "MYS",
            "MYT",
            "NAM",
            "NCL",
            "NER",
            "NGA",
            "NIC",
            "NIU",
            "NLD",
            "NOR",
            "NPL",
            "NRU",
            "NZL",
            "OMN",
            "PAK",
            "PAN",
            "PER",
            "PHL",
            "PLW",
            "PNG",
            "POL",
            "PRI",
            "PRK",
            "PRT",
            "PRY",
            "PSE",
            "PYF",
            "QAT",
            "REU",
            "ROU",
            "RUS",
            "RWA",
            "SAU",
            "SDN",
            "SEN",
            "SGP",
            "SHN",
            "SLB",
            "SLE",
            "SLV",
            "SMR",
            "SOM",
            "SPM",
            "SRB",
            "SSD",
            "STP",
            "SUR",
            "SVK",
            "SVN",
            "SWE",
            "SWZ",
            "SXM",
            "SYC",
            "SYR",
            "TCA",
            "TCD",
            "TGO",
            "THA",
            "TJK",
            "TKL",
            "TKM",
            "TLS",
            "TON",
            "TTO",
            "TUN",
            "TUR",
            "TUV",
            "TWN",
            "TZA",
            "UGA",
            "UKR",
            "URY",
            "USA",
            "UZB",
            "VCT",
            "VEN",
            "VGB",
            "VIR",
            "VNM",
            "VUT",
            "WLF",
            "WSM",
            "XKX",
            "YEM",
            "ZAF",
            "ZMB",
            "ZWE"
           ],
           "name": "",
           "type": "choropleth",
           "z": [
            0.0033726971242824797,
            0.004318828798867573,
            0.0003141228107374057,
            0.002600780234070221,
            0.006104978489041311,
            0.0012050875653301547,
            0.035853267224344114,
            0.0012821842276053558,
            0.001699282635409037,
            0.0006973648063227743,
            0.002127728866550148,
            0.0013268436501391915,
            0.0011505708371903414,
            0.0011184673371867767,
            0.00004901119493166981,
            0.0018633311579411198,
            0.0002831468090168264,
            0.0016424856282507528,
            0.00015588279274953142,
            0.0033630661289501883,
            0.002395168146702489,
            0.01746298493697919,
            0.0010406444580120973,
            0.004664190207313212,
            0.0006678752027478294,
            0.0001889606656873377,
            0.004901116693866537,
            0.0010499592553124804,
            0.001918688597528384,
            0.001879608983309784,
            0.002694696266685702,
            0.004725498745574125,
            0.005989896528674496,
            0.0006328754387522992,
            0.00004242392248515883,
            0.0009836209312338155,
            0.0009989984361424037,
            0.0015042948113200114,
            0.0000024200626255240014,
            0.0007234329517131451,
            0.0002290715183698796,
            0.00004288881482955517,
            0.00015419873829889173,
            0.0005260081823495032,
            0.005271880254741991,
            0.0007395832543180284,
            0.0042995956889664505,
            0.0025103588688201784,
            0.0003898664071327526,
            0.0020092487584603353,
            0.0017691353917803248,
            0.002036071505008394,
            0.0013711850510459889,
            0.001057089177736397,
            0.003766315268055501,
            0.0015120120960967689,
            0.0010607538667998188,
            0.0029705336842897503,
            0.016403909307047552,
            0.00568902637556684,
            0.0026188172733209265,
            0.000017720270102646094,
            0.00001284695967522886,
            0.0009937330065417998,
            0.001470190401337112,
            0.00013191308835984502,
            0.0008783786108831653,
            0.003876032293010621,
            0.00026954177897574127,
            0.0011090414173754906,
            0.0011222693059344828,
            0.0006105280169511309,
            0.0005354946927615921,
            0.0011130801533465954,
            0.0016328052506476723,
            0.0004650044095245731,
            0.0004031115759673552,
            0.001499158635459691,
            0.0002669764774154441,
            0.003934409648912095,
            0.00011000907176258448,
            0.00011976917029907275,
            0.00010109263755842607,
            0.0017884392923640045,
            0.002827482806948926,
            0.001501850494359121,
            0.0042439240940989244,
            0.0019537231627081773,
            0.001482588480880539,
            0.0025827759019371446,
            0.000949024042031333,
            0.003212827532232956,
            0.0031643546634277315,
            0.00030796282368129277,
            0.005884281661221745,
            0.0031167446769375315,
            0.000667198837167741,
            0.0014369262407648562,
            0.0013588591057346795,
            0.0006998273951627255,
            0.02470457206933936,
            0.0015244958769316055,
            0.003333093244361007,
            0.0009562192777744255,
            0.0009122981846794322,
            0.0036246438413751227,
            0.011546934183680909,
            0.00020933817425774522,
            0.0005694706770057232,
            0.00025098402498849396,
            0.0009930984402503431,
            0.005642857433723357,
            0.001094646694730403,
            0.001949195171026157,
            0.001608413895266045,
            0.014296458084708743,
            0.003272161200146477,
            0.004866214555163202,
            0.00017651935524700774,
            0.022963309366536115,
            0.0024022308829458406,
            0.0004157788056753807,
            0.00338120720949757,
            0.00039448228019743885,
            0.004161689919177504,
            0.002429138043108329,
            0.0007028231890954399,
            0.0014450322683691628,
            0.0016001449187850974,
            0.008893933761431945,
            0.009180752821731381,
            0.003381903983642339,
            0.00020491673777492966,
            0.009643058187382559,
            0.0066193863482499555,
            0.0007601332468868072,
            0.003827495913301447,
            0.00010978526041958391,
            0.003927447456987699,
            0.004405732767433132,
            0.005901052671654008,
            0.0014342151260816167,
            0.0020257531389145174,
            0.0001547930625104113,
            0.0017653436512069644,
            0.0017758046614872365,
            0.001641392093916641,
            0.0032037856047964983,
            0.000023744739387439785,
            0.005590991591884166,
            0.0015620277837202748,
            0.0003666245000807228,
            0.001268510796358463,
            0.000028408857028502656,
            0.00019208626241273608,
            0.002860926985361778,
            0,
            0.001483189045929273,
            0.0015016045348419558,
            0.0021977285629381513,
            0.002555225848994395,
            0.001002816274298583,
            0.009015010098271301,
            0.005187751283872045,
            0.0016850433735645708,
            0.004899914123017916,
            0.007259160684686074,
            0.0045208461237930455,
            0.00014178695153443244,
            0.0020195824235825586,
            0.0023836226387361605,
            3.882674732690463e-8,
            0.0029513340381653002,
            0.0009428751213432961,
            0.0075376162858786806,
            0.0010676702767267899,
            0.019046143269088624,
            0.0013081670914874344,
            0.005468287553335702,
            0.0004942765856281643,
            0.00006801699224964682,
            0.014369799261246196,
            0.00036741223701568183,
            0.0002243640342078281,
            0.003140935547409359,
            0.00036717459151826694,
            0.0006844515424604404,
            0.00009047042008721696,
            0.003983142620708807,
            0.00020481011176780385,
            0.0010790735998276986,
            0.0008438818565400844,
            0.0043876171184220195,
            0.00006058769489759722,
            0.0032246189404424065,
            0.005607187061157652,
            0.0012411247388119087,
            0.003260917922364596,
            0.0015975968652664093,
            0.00022144076715973574,
            0.0024895300139599814,
            0.014381113889607465,
            0.0015771520826786329,
            0.002669452181987001,
            0.000021082831592945586,
            0.00009741487844248774,
            0.004983973484065122,
            0.0005424652857024893,
            0,
            0.000017212207027127087,
            0.0010223064295186491,
            0.0003525454736019666,
            0.0023270425769183955,
            0.005470601894846462,
            0.0026698191665611346,
            0.0003650967506389193,
            0.001413969655145498,
            0.00011332399761834211,
            0.00011585812781088675,
            0.0005532547881928733,
            0.0015129466758487683,
            0.006550063277610727,
            0.00014434325456679617,
            0.0024112691090694216,
            0.001304791257560313,
            0.0019601437438745506,
            0.0012992551598282206,
            0.003962904679641504,
            0.0015702764409257404,
            0.0003414717432132491,
            0.0005757269732806056,
            0.0004114155362125702,
            0.0013308527350776663,
            0.0006547241894084663,
            0.00015456617366350176,
            0.000025464668326277037
           ]
          }
         ],
         "name": "2019"
        },
        {
         "data": [
          {
           "coloraxis": "coloraxis",
           "customdata": [
            [
             "ABW",
             0.0060045972697846785,
             "2020"
            ],
            [
             "AFG",
             0.0029574647651041583,
             "2020"
            ],
            [
             "AGO",
             0.0004374113742393239,
             "2020"
            ],
            [
             "AIA",
             0.005133140840551813,
             "2020"
            ],
            [
             "ALB",
             0.008171340729839625,
             "2020"
            ],
            [
             "AND",
             0.0016216216216216215,
             "2020"
            ],
            [
             "ARE",
             0.023351701449152707,
             "2020"
            ],
            [
             "ARG",
             0.0017065668662816476,
             "2020"
            ],
            [
             "ARM",
             0.0016374341542246265,
             "2020"
            ],
            [
             "ASM",
             0.00145056182207885,
             "2020"
            ],
            [
             "ATG",
             0.0013381680048346715,
             "2020"
            ],
            [
             "AUS",
             0.0014099309736470722,
             "2020"
            ],
            [
             "AUT",
             0.0011633654502127748,
             "2020"
            ],
            [
             "AZE",
             0.001017214374672276,
             "2020"
            ],
            [
             "BDI",
             0.00009140583067728611,
             "2020"
            ],
            [
             "BEL",
             0.0019161513813216497,
             "2020"
            ],
            [
             "BEN",
             0.0003145583571400832,
             "2020"
            ],
            [
             "BES",
             0.004703093335372615,
             "2020"
            ],
            [
             "BFA",
             0.00015100387843007632,
             "2020"
            ],
            [
             "BGD",
             0.004884018368764373,
             "2020"
            ],
            [
             "BGR",
             0.002430373217464815,
             "2020"
            ],
            [
             "BHR",
             0.015540089165999423,
             "2020"
            ],
            [
             "BHS",
             0.001648330020271999,
             "2020"
            ],
            [
             "BIH",
             0.006407590627795015,
             "2020"
            ],
            [
             "BLM",
             0.001123490309896077,
             "2020"
            ],
            [
             "BLR",
             0.00027019617820325456,
             "2020"
            ],
            [
             "BLZ",
             0.007039382560056315,
             "2020"
            ],
            [
             "BMU",
             0.0008589589417625838,
             "2020"
            ],
            [
             "BOL",
             0.010066971276026583,
             "2020"
            ],
            [
             "BRA",
             0.002027220884654736,
             "2020"
            ],
            [
             "BRB",
             0.0022551328319551965,
             "2020"
            ],
            [
             "BRN",
             0.004797102269511574,
             "2020"
            ],
            [
             "BTN",
             0.019907935990141176,
             "2020"
            ],
            [
             "BWA",
             0.0036109773712084737,
             "2020"
            ],
            [
             "CAF",
             0.000060078382637534575,
             "2020"
            ],
            [
             "CAN",
             0.001144140450300426,
             "2020"
            ],
            [
             "CHE",
             0.0009213284586310326,
             "2020"
            ],
            [
             "CHL",
             0.0022082023013614027,
             "2020"
            ],
            [
             "CHN",
             0.000003247177553375874,
             "2020"
            ],
            [
             "CIV",
             0.0007561598551920683,
             "2020"
            ],
            [
             "CMR",
             0.00026831666061872053,
             "2020"
            ],
            [
             "COD",
             0.00006958298082784792,
             "2020"
            ],
            [
             "COG",
             0.0002043080411085316,
             "2020"
            ],
            [
             "COK",
             0.000998297022725938,
             "2020"
            ],
            [
             "COL",
             0.015000727557777914,
             "2020"
            ],
            [
             "COM",
             0.0012764120540930777,
             "2020"
            ],
            [
             "CPV",
             0.00515927502402856,
             "2020"
            ],
            [
             "CRI",
             0.007136687614249562,
             "2020"
            ],
            [
             "CUB",
             0.0010726771036620923,
             "2020"
            ],
            [
             "CUW",
             0.007052707764318053,
             "2020"
            ],
            [
             "CYM",
             0.0022581747411270074,
             "2020"
            ],
            [
             "CYP",
             0.002668203051706737,
             "2020"
            ],
            [
             "CZE",
             0.0010487179034302115,
             "2020"
            ],
            [
             "DEU",
             0.0011132740505620925,
             "2020"
            ],
            [
             "DJI",
             0.005613875445349106,
             "2020"
            ],
            [
             "DMA",
             0.001597333148135287,
             "2020"
            ],
            [
             "DNK",
             0.0011164436668857556,
             "2020"
            ],
            [
             "DOM",
             0.009522745422041982,
             "2020"
            ],
            [
             "DZA",
             0.025383123399687367,
             "2020"
            ],
            [
             "ECU",
             0.013794790670045522,
             "2020"
            ],
            [
             "EGY",
             0.004186846312404915,
             "2020"
            ],
            [
             "ERI",
             0.00017295355170664377,
             "2020"
            ],
            [
             "ESH",
             0.000007193623572065721,
             "2020"
            ],
            [
             "ESP",
             0.0014894073020777236,
             "2020"
            ],
            [
             "EST",
             0.003531551535830016,
             "2020"
            ],
            [
             "ETH",
             0.00014891086562165217,
             "2020"
            ],
            [
             "FIN",
             0.000799172723307197,
             "2020"
            ],
            [
             "FJI",
             0.001962143451590683,
             "2020"
            ],
            [
             "FLK",
             0.0013344008540165466,
             "2020"
            ],
            [
             "FRA",
             0.0013937798717380088,
             "2020"
            ],
            [
             "FRO",
             0.0010683964513975006,
             "2020"
            ],
            [
             "FSM",
             0.0005352029757285451,
             "2020"
            ],
            [
             "GAB",
             0.0006590847925017001,
             "2020"
            ],
            [
             "GBR",
             0.0011270294186918317,
             "2020"
            ],
            [
             "GEO",
             0.0018356775198145893,
             "2020"
            ],
            [
             "GGY",
             0.0006210784469853807,
             "2020"
            ],
            [
             "GHA",
             0.00040950389619122846,
             "2020"
            ],
            [
             "GIB",
             0.0034852792809318537,
             "2020"
            ],
            [
             "GIN",
             0.00047534473852745213,
             "2020"
            ],
            [
             "GLP",
             0.001781913952512625,
             "2020"
            ],
            [
             "GMB",
             0.0001464649309730594,
             "2020"
            ],
            [
             "GNB",
             0.00015824762826987222,
             "2020"
            ],
            [
             "GNQ",
             0.00012405634162860916,
             "2020"
            ],
            [
             "GRC",
             0.0027322456353703,
             "2020"
            ],
            [
             "GRD",
             0.002151007172719407,
             "2020"
            ],
            [
             "GRL",
             0.0027129776714798224,
             "2020"
            ],
            [
             "GTM",
             0.007010710707234276,
             "2020"
            ],
            [
             "GUF",
             0.0020414475719146303,
             "2020"
            ],
            [
             "GUM",
             0.0018495429324414557,
             "2020"
            ],
            [
             "GUY",
             0.003130950499371552,
             "2020"
            ],
            [
             "HKG",
             0.001090527369970609,
             "2020"
            ],
            [
             "HND",
             0.008351015529606848,
             "2020"
            ],
            [
             "HRV",
             0.0030711250295957647,
             "2020"
            ],
            [
             "HTI",
             0.000401616655178007,
             "2020"
            ],
            [
             "HUN",
             0.006781447613386413,
             "2020"
            ],
            [
             "IDN",
             0.003629277436194799,
             "2020"
            ],
            [
             "IMN",
             0.0006782000333150894,
             "2020"
            ],
            [
             "IND",
             0.0019518355241898474,
             "2020"
            ],
            [
             "IRL",
             0.0014069617006788554,
             "2020"
            ],
            [
             "IRN",
             0.0016702907278484309,
             "2020"
            ],
            [
             "IRQ",
             0.021617274382037976,
             "2020"
            ],
            [
             "ISL",
             0.001723625395111122,
             "2020"
            ],
            [
             "ISR",
             0.002694493513552399,
             "2020"
            ],
            [
             "ITA",
             0.001048712483957509,
             "2020"
            ],
            [
             "JAM",
             0.0007988126658431534,
             "2020"
            ],
            [
             "JEY",
             0.0008678071252504177,
             "2020"
            ],
            [
             "JOR",
             0.01054716283817658,
             "2020"
            ],
            [
             "JPN",
             0.0002705582231898706,
             "2020"
            ],
            [
             "KAZ",
             0.0004867422794470781,
             "2020"
            ],
            [
             "KEN",
             0.00027765285045256604,
             "2020"
            ],
            [
             "KGZ",
             0.0007178350890616687,
             "2020"
            ],
            [
             "KHM",
             0.011485613708966228,
             "2020"
            ],
            [
             "KIR",
             0.0006484058704453442,
             "2020"
            ],
            [
             "KNA",
             0.0012383770963205509,
             "2020"
            ],
            [
             "KOR",
             0.0019425132652444587,
             "2020"
            ],
            [
             "KWT",
             0.01572821122614779,
             "2020"
            ],
            [
             "LAO",
             0.0033338802817007244,
             "2020"
            ],
            [
             "LBN",
             0.006691242898544992,
             "2020"
            ],
            [
             "LBR",
             0.0003785686135956451,
             "2020"
            ],
            [
             "LBY",
             0.028547739069562074,
             "2020"
            ],
            [
             "LCA",
             0.002002934661928062,
             "2020"
            ],
            [
             "LIE",
             0.0006708638662400661,
             "2020"
            ],
            [
             "LKA",
             0.0059989187237624725,
             "2020"
            ],
            [
             "LSO",
             0.0004569451222217293,
             "2020"
            ],
            [
             "LTU",
             0.002703290149478755,
             "2020"
            ],
            [
             "LUX",
             0.0023604060913705585,
             "2020"
            ],
            [
             "LVA",
             0.0007474755568113051,
             "2020"
            ],
            [
             "MAC",
             0.0013855146440173713,
             "2020"
            ],
            [
             "MAF",
             0.0017202715571529505,
             "2020"
            ],
            [
             "MAR",
             0.019239210295727532,
             "2020"
            ],
            [
             "MCO",
             0.023996533232219272,
             "2020"
            ],
            [
             "MDA",
             0.001942721956712926,
             "2020"
            ],
            [
             "MDG",
             0.0017523716503177287,
             "2020"
            ],
            [
             "MDV",
             0.012882018824425879,
             "2020"
            ],
            [
             "MEX",
             0.006299457908567689,
             "2020"
            ],
            [
             "MHL",
             0.0008522596397475469,
             "2020"
            ],
            [
             "MKD",
             0.004234341604644465,
             "2020"
            ],
            [
             "MLI",
             0.00013861639913984332,
             "2020"
            ],
            [
             "MLT",
             0.0031997174779473687,
             "2020"
            ],
            [
             "MMR",
             0.005982738060720363,
             "2020"
            ],
            [
             "MNE",
             0.01078455062252801,
             "2020"
            ],
            [
             "MNG",
             0.003265302405493066,
             "2020"
            ],
            [
             "MNP",
             0.001552826345614778,
             "2020"
            ],
            [
             "MOZ",
             0.00021887060394911977,
             "2020"
            ],
            [
             "MRT",
             0.005609740266091436,
             "2020"
            ],
            [
             "MSR",
             0.00022222222222222223,
             "2020"
            ],
            [
             "MTQ",
             0.0012797287191103456,
             "2020"
            ],
            [
             "MUS",
             0.0033070638019830055,
             "2020"
            ],
            [
             "MWI",
             0.00004226646949883321,
             "2020"
            ],
            [
             "MYS",
             0.006159820575865784,
             "2020"
            ],
            [
             "MYT",
             0.0021499605676943063,
             "2020"
            ],
            [
             "NAM",
             0.000316982296398133,
             "2020"
            ],
            [
             "NCL",
             0.002321903052691487,
             "2020"
            ],
            [
             "NER",
             0.000028766761929853566,
             "2020"
            ],
            [
             "NGA",
             0.00022373436658513555,
             "2020"
            ],
            [
             "NIC",
             0.006732933721892699,
             "2020"
            ],
            [
             "NIU",
             0,
             "2020"
            ],
            [
             "NLD",
             0.001474313257611693,
             "2020"
            ],
            [
             "NOR",
             0.0012972507169824227,
             "2020"
            ],
            [
             "NPL",
             0.006077660597967305,
             "2020"
            ],
            [
             "NRU",
             0.002679658952496955,
             "2020"
            ],
            [
             "NZL",
             0.0012864705814941868,
             "2020"
            ],
            [
             "OMN",
             0.009141393921159027,
             "2020"
            ],
            [
             "PAK",
             0.005671353358013177,
             "2020"
            ],
            [
             "PAN",
             0.0020789880395315104,
             "2020"
            ],
            [
             "PER",
             0.014738976018920541,
             "2020"
            ],
            [
             "PHL",
             0.011940327322933222,
             "2020"
            ],
            [
             "PLW",
             0.005063432005341643,
             "2020"
            ],
            [
             "PNG",
             0.0003220631736146155,
             "2020"
            ],
            [
             "POL",
             0.009921160584315228,
             "2020"
            ],
            [
             "PRI",
             0.0036248706658739776,
             "2020"
            ],
            [
             "PRK",
             3.479273792057027e-7,
             "2020"
            ],
            [
             "PRT",
             0.0026200715620761394,
             "2020"
            ],
            [
             "PRY",
             0.0013650727220396166,
             "2020"
            ],
            [
             "PSE",
             0.00757719744304202,
             "2020"
            ],
            [
             "PYF",
             0.0008247217806041336,
             "2020"
            ],
            [
             "QAT",
             0.020534454432986703,
             "2020"
            ],
            [
             "REU",
             0.0021935159210000176,
             "2020"
            ],
            [
             "ROU",
             0.003051326046614761,
             "2020"
            ],
            [
             "RUS",
             0.0004434911726749225,
             "2020"
            ],
            [
             "RWA",
             0.0001107530737400963,
             "2020"
            ],
            [
             "SAU",
             0.01417447240968559,
             "2020"
            ],
            [
             "SDN",
             0.0023292949586554926,
             "2020"
            ],
            [
             "SEN",
             0.00025693411827122214,
             "2020"
            ],
            [
             "SGP",
             0.003852707419960168,
             "2020"
            ],
            [
             "SHN",
             0,
             "2020"
            ],
            [
             "SLB",
             0.0006756453715398493,
             "2020"
            ],
            [
             "SLE",
             0.0001163472784088356,
             "2020"
            ],
            [
             "SLV",
             0.011631992532336119,
             "2020"
            ],
            [
             "SMR",
             0.0003528685270679566,
             "2020"
            ],
            [
             "SOM",
             0.001314928884388816,
             "2020"
            ],
            [
             "SPM",
             0.0025397900440230275,
             "2020"
            ],
            [
             "SRB",
             0.00621595119872846,
             "2020"
            ],
            [
             "SSD",
             0.00016509169566142606,
             "2020"
            ],
            [
             "STP",
             0.0026344555687176697,
             "2020"
            ],
            [
             "SUR",
             0.004391621984466243,
             "2020"
            ],
            [
             "SVK",
             0.0012010964174009806,
             "2020"
            ],
            [
             "SVN",
             0.0024753959712718065,
             "2020"
            ],
            [
             "SWE",
             0.0018998029698224608,
             "2020"
            ],
            [
             "SWZ",
             0.000268495030300977,
             "2020"
            ],
            [
             "SXM",
             0.0035074045206547155,
             "2020"
            ],
            [
             "SYC",
             0.004842224959727092,
             "2020"
            ],
            [
             "SYR",
             0.00471645431317299,
             "2020"
            ],
            [
             "TCA",
             0.0025521150936151952,
             "2020"
            ],
            [
             "TCD",
             0.00003748940653908974,
             "2020"
            ],
            [
             "TGO",
             0.00012993658336669597,
             "2020"
            ],
            [
             "THA",
             0.0055647331158094155,
             "2020"
            ],
            [
             "TJK",
             0.00036780088706029327,
             "2020"
            ],
            [
             "TKL",
             0,
             "2020"
            ],
            [
             "TKM",
             0.000029917903353333,
             "2020"
            ],
            [
             "TLS",
             0.0013523128935111288,
             "2020"
            ],
            [
             "TON",
             0.0006460562068899994,
             "2020"
            ],
            [
             "TTO",
             0.002246817995885774,
             "2020"
            ],
            [
             "TUN",
             0.009287499805742986,
             "2020"
            ],
            [
             "TUR",
             0.002675757470443961,
             "2020"
            ],
            [
             "TUV",
             0.0009034239768723462,
             "2020"
            ],
            [
             "TWN",
             0.0012370355895407776,
             "2020"
            ],
            [
             "TZA",
             0.00009321845768246662,
             "2020"
            ],
            [
             "UGA",
             0.00014807020829435934,
             "2020"
            ],
            [
             "UKR",
             0.0009543228829314511,
             "2020"
            ],
            [
             "URY",
             0.0017188248650442522,
             "2020"
            ],
            [
             "USA",
             0.0033823159547503325,
             "2020"
            ],
            [
             "UZB",
             0.00014463118540662093,
             "2020"
            ],
            [
             "VCT",
             0.0028958359217455295,
             "2020"
            ],
            [
             "VEN",
             0.004491855412342674,
             "2020"
            ],
            [
             "VGB",
             0.0020381753477838886,
             "2020"
            ],
            [
             "VIR",
             0.002150473402825483,
             "2020"
            ],
            [
             "VNM",
             0.008732276078044932,
             "2020"
            ],
            [
             "VUT",
             0.001482265749073584,
             "2020"
            ],
            [
             "WLF",
             0.000429000429000429,
             "2020"
            ],
            [
             "WSM",
             0.0007537337737868143,
             "2020"
            ],
            [
             "XKX",
             0.0007356202403903995,
             "2020"
            ],
            [
             "YEM",
             0.0021592398920507053,
             "2020"
            ],
            [
             "ZAF",
             0.0018013865429954362,
             "2020"
            ],
            [
             "ZMB",
             0.00019685418974239627,
             "2020"
            ],
            [
             "ZWE",
             0.00004582101494696824,
             "2020"
            ]
           ],
           "geo": "geo",
           "hovertemplate": "<b>%{hovertext}</b><br><br><extra></extra>",
           "hovertext": [
            "Aruba:<br>0.00600 (2020)",
            "Afghanistan:<br>0.00296 (2020)",
            "Angola:<br>0.00044 (2020)",
            "Anguilla:<br>0.00513 (2020)",
            "Albania:<br>0.00817 (2020)",
            "Andorra:<br>0.00162 (2020)",
            "United Arab Emirates:<br>0.02335 (2020)",
            "Argentina:<br>0.00171 (2020)",
            "Armenia:<br>0.00164 (2020)",
            "American Samoa:<br>0.00145 (2020)",
            "Antigua and Barbuda:<br>0.00134 (2020)",
            "Australia:<br>0.00141 (2020)",
            "Austria:<br>0.00116 (2020)",
            "Azerbaijan:<br>0.00102 (2020)",
            "Burundi:<br>0.00009 (2020)",
            "Belgium:<br>0.00192 (2020)",
            "Benin:<br>0.00031 (2020)",
            "Bonaire, Sint Eustatius, and Saba:<br>0.00470 (2020)",
            "Burkina Faso:<br>0.00015 (2020)",
            "Bangladesh:<br>0.00488 (2020)",
            "Bulgaria:<br>0.00243 (2020)",
            "Bahrain:<br>0.01554 (2020)",
            "Bahamas:<br>0.00165 (2020)",
            "Bosnia and Herzegovina:<br>0.00641 (2020)",
            "Saint Barthélemy:<br>0.00112 (2020)",
            "Belarus:<br>0.00027 (2020)",
            "Belize:<br>0.00704 (2020)",
            "Bermuda:<br>0.00086 (2020)",
            "Bolivia:<br>0.01007 (2020)",
            "Brazil:<br>0.00203 (2020)",
            "Barbados:<br>0.00226 (2020)",
            "Brunei Darussalam:<br>0.00480 (2020)",
            "Bhutan:<br>0.01991 (2020)",
            "Botswana:<br>0.00361 (2020)",
            "Central African Republic:<br>0.00006 (2020)",
            "Canada:<br>0.00114 (2020)",
            "Switzerland:<br>0.00092 (2020)",
            "Chile:<br>0.00221 (2020)",
            "China:<br>0.00000 (2020)",
            "Côte d'Ivoire:<br>0.00076 (2020)",
            "Cameroon:<br>0.00027 (2020)",
            "Democratic Republic of the Congo:<br>0.00007 (2020)",
            "Congo:<br>0.00020 (2020)",
            "Cook Islands:<br>0.00100 (2020)",
            "Colombia:<br>0.01500 (2020)",
            "Comoros:<br>0.00128 (2020)",
            "Cabo Verde:<br>0.00516 (2020)",
            "Costa Rica:<br>0.00714 (2020)",
            "Cuba:<br>0.00107 (2020)",
            "Curaçao:<br>0.00705 (2020)",
            "Cayman Islands:<br>0.00226 (2020)",
            "Cyprus:<br>0.00267 (2020)",
            "Czechia:<br>0.00105 (2020)",
            "Germany:<br>0.00111 (2020)",
            "Djibouti:<br>0.00561 (2020)",
            "Dominica:<br>0.00160 (2020)",
            "Denmark:<br>0.00112 (2020)",
            "Dominican Republic:<br>0.00952 (2020)",
            "Algeria:<br>0.02538 (2020)",
            "Ecuador:<br>0.01379 (2020)",
            "Egypt:<br>0.00419 (2020)",
            "Eritrea:<br>0.00017 (2020)",
            "Western Sahara:<br>0.00001 (2020)",
            "Spain:<br>0.00149 (2020)",
            "Estonia:<br>0.00353 (2020)",
            "Ethiopia:<br>0.00015 (2020)",
            "Finland:<br>0.00080 (2020)",
            "Fiji:<br>0.00196 (2020)",
            "Falkland Islands:<br>0.00133 (2020)",
            "France:<br>0.00139 (2020)",
            "Faroe Islands:<br>0.00107 (2020)",
            "Micronesia:<br>0.00054 (2020)",
            "Gabon:<br>0.00066 (2020)",
            "United Kingdom of Great Britain and Northern Ireland:<br>0.00113 (2020)",
            "Georgia:<br>0.00184 (2020)",
            "Guernsey:<br>0.00062 (2020)",
            "Ghana:<br>0.00041 (2020)",
            "Gibraltar:<br>0.00349 (2020)",
            "Guinea:<br>0.00048 (2020)",
            "Guadeloupe:<br>0.00178 (2020)",
            "Gambia:<br>0.00015 (2020)",
            "Guinea-Bissau:<br>0.00016 (2020)",
            "Equatorial Guinea:<br>0.00012 (2020)",
            "Greece:<br>0.00273 (2020)",
            "Grenada:<br>0.00215 (2020)",
            "Greenland:<br>0.00271 (2020)",
            "Guatemala:<br>0.00701 (2020)",
            "French Guiana:<br>0.00204 (2020)",
            "Guam:<br>0.00185 (2020)",
            "Guyana:<br>0.00313 (2020)",
            "Hong Kong:<br>0.00109 (2020)",
            "Honduras:<br>0.00835 (2020)",
            "Croatia:<br>0.00307 (2020)",
            "Haiti:<br>0.00040 (2020)",
            "Hungary:<br>0.00678 (2020)",
            "Indonesia:<br>0.00363 (2020)",
            "Isle of Man:<br>0.00068 (2020)",
            "India:<br>0.00195 (2020)",
            "Ireland:<br>0.00141 (2020)",
            "Iran:<br>0.00167 (2020)",
            "Iraq:<br>0.02162 (2020)",
            "Iceland:<br>0.00172 (2020)",
            "Israel:<br>0.00269 (2020)",
            "Italy:<br>0.00105 (2020)",
            "Jamaica:<br>0.00080 (2020)",
            "Jersey:<br>0.00087 (2020)",
            "Jordan:<br>0.01055 (2020)",
            "Japan:<br>0.00027 (2020)",
            "Kazakhstan:<br>0.00049 (2020)",
            "Kenya:<br>0.00028 (2020)",
            "Kyrgyzstan:<br>0.00072 (2020)",
            "Cambodia:<br>0.01149 (2020)",
            "Kiribati:<br>0.00065 (2020)",
            "Saint Kitts and Nevis:<br>0.00124 (2020)",
            "South Korea:<br>0.00194 (2020)",
            "Kuwait:<br>0.01573 (2020)",
            "Lao People's Democratic Republic:<br>0.00333 (2020)",
            "Lebanon:<br>0.00669 (2020)",
            "Liberia:<br>0.00038 (2020)",
            "Libya:<br>0.02855 (2020)",
            "Saint Lucia:<br>0.00200 (2020)",
            "Liechtenstein:<br>0.00067 (2020)",
            "Sri Lanka:<br>0.00600 (2020)",
            "Lesotho:<br>0.00046 (2020)",
            "Lithuania:<br>0.00270 (2020)",
            "Luxembourg:<br>0.00236 (2020)",
            "Latvia:<br>0.00075 (2020)",
            "Macao:<br>0.00139 (2020)",
            "Saint Martin (French part):<br>0.00172 (2020)",
            "Morocco:<br>0.01924 (2020)",
            "Monaco:<br>0.02400 (2020)",
            "Moldova:<br>0.00194 (2020)",
            "Madagascar:<br>0.00175 (2020)",
            "Maldives:<br>0.01288 (2020)",
            "Mexico:<br>0.00630 (2020)",
            "Marshall Islands:<br>0.00085 (2020)",
            "North Macedonia:<br>0.00423 (2020)",
            "Mali:<br>0.00014 (2020)",
            "Malta:<br>0.00320 (2020)",
            "Myanmar:<br>0.00598 (2020)",
            "Montenegro:<br>0.01078 (2020)",
            "Mongolia:<br>0.00327 (2020)",
            "Northern Mariana Islands:<br>0.00155 (2020)",
            "Mozambique:<br>0.00022 (2020)",
            "Mauritania:<br>0.00561 (2020)",
            "Montserrat:<br>0.00022 (2020)",
            "Martinique:<br>0.00128 (2020)",
            "Mauritius:<br>0.00331 (2020)",
            "Malawi:<br>0.00004 (2020)",
            "Malaysia:<br>0.00616 (2020)",
            "Mayotte:<br>0.00215 (2020)",
            "Namibia:<br>0.00032 (2020)",
            "New Caledonia:<br>0.00232 (2020)",
            "Niger:<br>0.00003 (2020)",
            "Nigeria:<br>0.00022 (2020)",
            "Nicaragua:<br>0.00673 (2020)",
            "Niue:<br>0.00000 (2020)",
            "Netherlands:<br>0.00147 (2020)",
            "Norway:<br>0.00130 (2020)",
            "Nepal:<br>0.00608 (2020)",
            "Nauru:<br>0.00268 (2020)",
            "New Zealand:<br>0.00129 (2020)",
            "Oman:<br>0.00914 (2020)",
            "Pakistan:<br>0.00567 (2020)",
            "Panama:<br>0.00208 (2020)",
            "Peru:<br>0.01474 (2020)",
            "Philippines:<br>0.01194 (2020)",
            "Palau:<br>0.00506 (2020)",
            "Papua New Guinea:<br>0.00032 (2020)",
            "Poland:<br>0.00992 (2020)",
            "Puerto Rico:<br>0.00362 (2020)",
            "North Korea:<br>0.00000 (2020)",
            "Portugal:<br>0.00262 (2020)",
            "Paraguay:<br>0.00137 (2020)",
            "Palestine:<br>0.00758 (2020)",
            "French Polynesia:<br>0.00082 (2020)",
            "Qatar:<br>0.02053 (2020)",
            "Réunion:<br>0.00219 (2020)",
            "Romania:<br>0.00305 (2020)",
            "Russian Federation:<br>0.00044 (2020)",
            "Rwanda:<br>0.00011 (2020)",
            "Saudi Arabia:<br>0.01417 (2020)",
            "Sudan:<br>0.00233 (2020)",
            "Senegal:<br>0.00026 (2020)",
            "Singapore:<br>0.00385 (2020)",
            "Saint Helena, Ascension and Tristan da Cunha:<br>0.00000 (2020)",
            "Solomon Islands:<br>0.00068 (2020)",
            "Sierra Leone:<br>0.00012 (2020)",
            "El Salvador:<br>0.01163 (2020)",
            "San Marino:<br>0.00035 (2020)",
            "Somalia:<br>0.00131 (2020)",
            "Saint Pierre and Miquelon:<br>0.00254 (2020)",
            "Serbia:<br>0.00622 (2020)",
            "South Sudan:<br>0.00017 (2020)",
            "Sao Tome and Principe:<br>0.00263 (2020)",
            "Suriname:<br>0.00439 (2020)",
            "Slovakia:<br>0.00120 (2020)",
            "Slovenia:<br>0.00248 (2020)",
            "Sweden:<br>0.00190 (2020)",
            "Eswatini:<br>0.00027 (2020)",
            "Sint Maarten (Dutch part):<br>0.00351 (2020)",
            "Seychelles:<br>0.00484 (2020)",
            "Syrian Arab Republic:<br>0.00472 (2020)",
            "Turks and Caicos Islands:<br>0.00255 (2020)",
            "Chad:<br>0.00004 (2020)",
            "Togo:<br>0.00013 (2020)",
            "Thailand:<br>0.00556 (2020)",
            "Tajikistan:<br>0.00037 (2020)",
            "Tokelau:<br>0.00000 (2020)",
            "Turkmenistan:<br>0.00003 (2020)",
            "Timor-Leste:<br>0.00135 (2020)",
            "Tonga:<br>0.00065 (2020)",
            "Trinidad and Tobago:<br>0.00225 (2020)",
            "Tunisia:<br>0.00929 (2020)",
            "Türkiye:<br>0.00268 (2020)",
            "Tuvalu:<br>0.00090 (2020)",
            "Taiwan:<br>0.00124 (2020)",
            "Tanzania:<br>0.00009 (2020)",
            "Uganda:<br>0.00015 (2020)",
            "Ukraine:<br>0.00095 (2020)",
            "Uruguay:<br>0.00172 (2020)",
            "United States of America:<br>0.00338 (2020)",
            "Uzbekistan:<br>0.00014 (2020)",
            "Saint Vincent and the Grenadines:<br>0.00290 (2020)",
            "Venezuela:<br>0.00449 (2020)",
            "British Virgin Islands:<br>0.00204 (2020)",
            "U.S. Virgin Islands:<br>0.00215 (2020)",
            "Viet Nam:<br>0.00873 (2020)",
            "Vanuatu:<br>0.00148 (2020)",
            "Wallis and Futuna:<br>0.00043 (2020)",
            "Samoa:<br>0.00075 (2020)",
            "Kosovo:<br>0.00074 (2020)",
            "Yemen:<br>0.00216 (2020)",
            "South Africa:<br>0.00180 (2020)",
            "Zambia:<br>0.00020 (2020)",
            "Zimbabwe:<br>0.00005 (2020)"
           ],
           "locations": [
            "ABW",
            "AFG",
            "AGO",
            "AIA",
            "ALB",
            "AND",
            "ARE",
            "ARG",
            "ARM",
            "ASM",
            "ATG",
            "AUS",
            "AUT",
            "AZE",
            "BDI",
            "BEL",
            "BEN",
            "BES",
            "BFA",
            "BGD",
            "BGR",
            "BHR",
            "BHS",
            "BIH",
            "BLM",
            "BLR",
            "BLZ",
            "BMU",
            "BOL",
            "BRA",
            "BRB",
            "BRN",
            "BTN",
            "BWA",
            "CAF",
            "CAN",
            "CHE",
            "CHL",
            "CHN",
            "CIV",
            "CMR",
            "COD",
            "COG",
            "COK",
            "COL",
            "COM",
            "CPV",
            "CRI",
            "CUB",
            "CUW",
            "CYM",
            "CYP",
            "CZE",
            "DEU",
            "DJI",
            "DMA",
            "DNK",
            "DOM",
            "DZA",
            "ECU",
            "EGY",
            "ERI",
            "ESH",
            "ESP",
            "EST",
            "ETH",
            "FIN",
            "FJI",
            "FLK",
            "FRA",
            "FRO",
            "FSM",
            "GAB",
            "GBR",
            "GEO",
            "GGY",
            "GHA",
            "GIB",
            "GIN",
            "GLP",
            "GMB",
            "GNB",
            "GNQ",
            "GRC",
            "GRD",
            "GRL",
            "GTM",
            "GUF",
            "GUM",
            "GUY",
            "HKG",
            "HND",
            "HRV",
            "HTI",
            "HUN",
            "IDN",
            "IMN",
            "IND",
            "IRL",
            "IRN",
            "IRQ",
            "ISL",
            "ISR",
            "ITA",
            "JAM",
            "JEY",
            "JOR",
            "JPN",
            "KAZ",
            "KEN",
            "KGZ",
            "KHM",
            "KIR",
            "KNA",
            "KOR",
            "KWT",
            "LAO",
            "LBN",
            "LBR",
            "LBY",
            "LCA",
            "LIE",
            "LKA",
            "LSO",
            "LTU",
            "LUX",
            "LVA",
            "MAC",
            "MAF",
            "MAR",
            "MCO",
            "MDA",
            "MDG",
            "MDV",
            "MEX",
            "MHL",
            "MKD",
            "MLI",
            "MLT",
            "MMR",
            "MNE",
            "MNG",
            "MNP",
            "MOZ",
            "MRT",
            "MSR",
            "MTQ",
            "MUS",
            "MWI",
            "MYS",
            "MYT",
            "NAM",
            "NCL",
            "NER",
            "NGA",
            "NIC",
            "NIU",
            "NLD",
            "NOR",
            "NPL",
            "NRU",
            "NZL",
            "OMN",
            "PAK",
            "PAN",
            "PER",
            "PHL",
            "PLW",
            "PNG",
            "POL",
            "PRI",
            "PRK",
            "PRT",
            "PRY",
            "PSE",
            "PYF",
            "QAT",
            "REU",
            "ROU",
            "RUS",
            "RWA",
            "SAU",
            "SDN",
            "SEN",
            "SGP",
            "SHN",
            "SLB",
            "SLE",
            "SLV",
            "SMR",
            "SOM",
            "SPM",
            "SRB",
            "SSD",
            "STP",
            "SUR",
            "SVK",
            "SVN",
            "SWE",
            "SWZ",
            "SXM",
            "SYC",
            "SYR",
            "TCA",
            "TCD",
            "TGO",
            "THA",
            "TJK",
            "TKL",
            "TKM",
            "TLS",
            "TON",
            "TTO",
            "TUN",
            "TUR",
            "TUV",
            "TWN",
            "TZA",
            "UGA",
            "UKR",
            "URY",
            "USA",
            "UZB",
            "VCT",
            "VEN",
            "VGB",
            "VIR",
            "VNM",
            "VUT",
            "WLF",
            "WSM",
            "XKX",
            "YEM",
            "ZAF",
            "ZMB",
            "ZWE"
           ],
           "name": "",
           "type": "choropleth",
           "z": [
            0.0060045972697846785,
            0.0029574647651041583,
            0.0004374113742393239,
            0.005133140840551813,
            0.008171340729839625,
            0.0016216216216216215,
            0.023351701449152707,
            0.0017065668662816476,
            0.0016374341542246265,
            0.00145056182207885,
            0.0013381680048346715,
            0.0014099309736470722,
            0.0011633654502127748,
            0.001017214374672276,
            0.00009140583067728611,
            0.0019161513813216497,
            0.0003145583571400832,
            0.004703093335372615,
            0.00015100387843007632,
            0.004884018368764373,
            0.002430373217464815,
            0.015540089165999423,
            0.001648330020271999,
            0.006407590627795015,
            0.001123490309896077,
            0.00027019617820325456,
            0.007039382560056315,
            0.0008589589417625838,
            0.010066971276026583,
            0.002027220884654736,
            0.0022551328319551965,
            0.004797102269511574,
            0.019907935990141176,
            0.0036109773712084737,
            0.000060078382637534575,
            0.001144140450300426,
            0.0009213284586310326,
            0.0022082023013614027,
            0.000003247177553375874,
            0.0007561598551920683,
            0.00026831666061872053,
            0.00006958298082784792,
            0.0002043080411085316,
            0.000998297022725938,
            0.015000727557777914,
            0.0012764120540930777,
            0.00515927502402856,
            0.007136687614249562,
            0.0010726771036620923,
            0.007052707764318053,
            0.0022581747411270074,
            0.002668203051706737,
            0.0010487179034302115,
            0.0011132740505620925,
            0.005613875445349106,
            0.001597333148135287,
            0.0011164436668857556,
            0.009522745422041982,
            0.025383123399687367,
            0.013794790670045522,
            0.004186846312404915,
            0.00017295355170664377,
            0.000007193623572065721,
            0.0014894073020777236,
            0.003531551535830016,
            0.00014891086562165217,
            0.000799172723307197,
            0.001962143451590683,
            0.0013344008540165466,
            0.0013937798717380088,
            0.0010683964513975006,
            0.0005352029757285451,
            0.0006590847925017001,
            0.0011270294186918317,
            0.0018356775198145893,
            0.0006210784469853807,
            0.00040950389619122846,
            0.0034852792809318537,
            0.00047534473852745213,
            0.001781913952512625,
            0.0001464649309730594,
            0.00015824762826987222,
            0.00012405634162860916,
            0.0027322456353703,
            0.002151007172719407,
            0.0027129776714798224,
            0.007010710707234276,
            0.0020414475719146303,
            0.0018495429324414557,
            0.003130950499371552,
            0.001090527369970609,
            0.008351015529606848,
            0.0030711250295957647,
            0.000401616655178007,
            0.006781447613386413,
            0.003629277436194799,
            0.0006782000333150894,
            0.0019518355241898474,
            0.0014069617006788554,
            0.0016702907278484309,
            0.021617274382037976,
            0.001723625395111122,
            0.002694493513552399,
            0.001048712483957509,
            0.0007988126658431534,
            0.0008678071252504177,
            0.01054716283817658,
            0.0002705582231898706,
            0.0004867422794470781,
            0.00027765285045256604,
            0.0007178350890616687,
            0.011485613708966228,
            0.0006484058704453442,
            0.0012383770963205509,
            0.0019425132652444587,
            0.01572821122614779,
            0.0033338802817007244,
            0.006691242898544992,
            0.0003785686135956451,
            0.028547739069562074,
            0.002002934661928062,
            0.0006708638662400661,
            0.0059989187237624725,
            0.0004569451222217293,
            0.002703290149478755,
            0.0023604060913705585,
            0.0007474755568113051,
            0.0013855146440173713,
            0.0017202715571529505,
            0.019239210295727532,
            0.023996533232219272,
            0.001942721956712926,
            0.0017523716503177287,
            0.012882018824425879,
            0.006299457908567689,
            0.0008522596397475469,
            0.004234341604644465,
            0.00013861639913984332,
            0.0031997174779473687,
            0.005982738060720363,
            0.01078455062252801,
            0.003265302405493066,
            0.001552826345614778,
            0.00021887060394911977,
            0.005609740266091436,
            0.00022222222222222223,
            0.0012797287191103456,
            0.0033070638019830055,
            0.00004226646949883321,
            0.006159820575865784,
            0.0021499605676943063,
            0.000316982296398133,
            0.002321903052691487,
            0.000028766761929853566,
            0.00022373436658513555,
            0.006732933721892699,
            0,
            0.001474313257611693,
            0.0012972507169824227,
            0.006077660597967305,
            0.002679658952496955,
            0.0012864705814941868,
            0.009141393921159027,
            0.005671353358013177,
            0.0020789880395315104,
            0.014738976018920541,
            0.011940327322933222,
            0.005063432005341643,
            0.0003220631736146155,
            0.009921160584315228,
            0.0036248706658739776,
            3.479273792057027e-7,
            0.0026200715620761394,
            0.0013650727220396166,
            0.00757719744304202,
            0.0008247217806041336,
            0.020534454432986703,
            0.0021935159210000176,
            0.003051326046614761,
            0.0004434911726749225,
            0.0001107530737400963,
            0.01417447240968559,
            0.0023292949586554926,
            0.00025693411827122214,
            0.003852707419960168,
            0,
            0.0006756453715398493,
            0.0001163472784088356,
            0.011631992532336119,
            0.0003528685270679566,
            0.001314928884388816,
            0.0025397900440230275,
            0.00621595119872846,
            0.00016509169566142606,
            0.0026344555687176697,
            0.004391621984466243,
            0.0012010964174009806,
            0.0024753959712718065,
            0.0018998029698224608,
            0.000268495030300977,
            0.0035074045206547155,
            0.004842224959727092,
            0.00471645431317299,
            0.0025521150936151952,
            0.00003748940653908974,
            0.00012993658336669597,
            0.0055647331158094155,
            0.00036780088706029327,
            0,
            0.000029917903353333,
            0.0013523128935111288,
            0.0006460562068899994,
            0.002246817995885774,
            0.009287499805742986,
            0.002675757470443961,
            0.0009034239768723462,
            0.0012370355895407776,
            0.00009321845768246662,
            0.00014807020829435934,
            0.0009543228829314511,
            0.0017188248650442522,
            0.0033823159547503325,
            0.00014463118540662093,
            0.0028958359217455295,
            0.004491855412342674,
            0.0020381753477838886,
            0.002150473402825483,
            0.008732276078044932,
            0.001482265749073584,
            0.000429000429000429,
            0.0007537337737868143,
            0.0007356202403903995,
            0.0021592398920507053,
            0.0018013865429954362,
            0.00019685418974239627,
            0.00004582101494696824
           ]
          }
         ],
         "name": "2020"
        },
        {
         "data": [
          {
           "coloraxis": "coloraxis",
           "customdata": [
            [
             "ABW",
             0.0049466382571313255,
             "2021"
            ],
            [
             "AFG",
             0.007060344101374727,
             "2021"
            ],
            [
             "AGO",
             0.0003867982673431608,
             "2021"
            ],
            [
             "AIA",
             0.00444359804481686,
             "2021"
            ],
            [
             "ALB",
             0.005599517989568118,
             "2021"
            ],
            [
             "AND",
             0.0013158893640711593,
             "2021"
            ],
            [
             "ARE",
             0.03500426314808794,
             "2021"
            ],
            [
             "ARG",
             0.0020309969039317725,
             "2021"
            ],
            [
             "ARM",
             0.0012490263255766625,
             "2021"
            ],
            [
             "ASM",
             0.002531364494282225,
             "2021"
            ],
            [
             "ATG",
             0.0015983694486161769,
             "2021"
            ],
            [
             "AUS",
             0.0025282502598559806,
             "2021"
            ],
            [
             "AUT",
             0.0008495774865104356,
             "2021"
            ],
            [
             "AZE",
             0.00414651732494314,
             "2021"
            ],
            [
             "BDI",
             0.00011839493123094955,
             "2021"
            ],
            [
             "BEL",
             0.0013574567107209972,
             "2021"
            ],
            [
             "BEN",
             0.0002833753754262076,
             "2021"
            ],
            [
             "BES",
             0.0027709129034673855,
             "2021"
            ],
            [
             "BFA",
             0.00011438560001129377,
             "2021"
            ],
            [
             "BGD",
             0.010293331304316602,
             "2021"
            ],
            [
             "BGR",
             0.0019727360443156914,
             "2021"
            ],
            [
             "BHR",
             0.02210534516622405,
             "2021"
            ],
            [
             "BHS",
             0.00210342578927498,
             "2021"
            ],
            [
             "BIH",
             0.003341544013454224,
             "2021"
            ],
            [
             "BLM",
             0.0008285766893758056,
             "2021"
            ],
            [
             "BLR",
             0.0005884215018989018,
             "2021"
            ],
            [
             "BLZ",
             0.020740892580824986,
             "2021"
            ],
            [
             "BMU",
             0.0014177767391135,
             "2021"
            ],
            [
             "BOL",
             0.003025877290000755,
             "2021"
            ],
            [
             "BRA",
             0.002039372475667618,
             "2021"
            ],
            [
             "BRB",
             0.0021230440967283074,
             "2021"
            ],
            [
             "BRN",
             0.007216423088063264,
             "2021"
            ],
            [
             "BTN",
             0.018672981027335504,
             "2021"
            ],
            [
             "BWA",
             0.0007718985652654145,
             "2021"
            ],
            [
             "CAF",
             0.00004416220539823406,
             "2021"
            ],
            [
             "CAN",
             0.0016271518929151432,
             "2021"
            ],
            [
             "CHE",
             0.0008261032995002996,
             "2021"
            ],
            [
             "CHL",
             0.0023129621967882623,
             "2021"
            ],
            [
             "CHN",
             0.000005360849311417526,
             "2021"
            ],
            [
             "CIV",
             0.0006432724297679958,
             "2021"
            ],
            [
             "CMR",
             0.00030608161558737446,
             "2021"
            ],
            [
             "COD",
             0.00005597840676757247,
             "2021"
            ],
            [
             "COG",
             0.00019723068244557822,
             "2021"
            ],
            [
             "COK",
             0.0035876021878492033,
             "2021"
            ],
            [
             "COL",
             0.008544883099924254,
             "2021"
            ],
            [
             "COM",
             0.004823362454450079,
             "2021"
            ],
            [
             "CPV",
             0.006556958795764766,
             "2021"
            ],
            [
             "CRI",
             0.003225288841175819,
             "2021"
            ],
            [
             "CUB",
             0.0012241065572365095,
             "2021"
            ],
            [
             "CUW",
             0.0019228950603662957,
             "2021"
            ],
            [
             "CYM",
             0.0025683926265116824,
             "2021"
            ],
            [
             "CYP",
             0.002135529357299701,
             "2021"
            ],
            [
             "CZE",
             0.0014274907663591307,
             "2021"
            ],
            [
             "DEU",
             0.0009555494637210776,
             "2021"
            ],
            [
             "DJI",
             0.0011586909054070434,
             "2021"
            ],
            [
             "DMA",
             0.0017676384074682722,
             "2021"
            ],
            [
             "DNK",
             0.0010062790377095851,
             "2021"
            ],
            [
             "DOM",
             0.012965608352819973,
             "2021"
            ],
            [
             "DZA",
             0.026521205626270417,
             "2021"
            ],
            [
             "ECU",
             0.00664814858203602,
             "2021"
            ],
            [
             "EGY",
             0.005698522685498727,
             "2021"
            ],
            [
             "ERI",
             0.000331186925325773,
             "2021"
            ],
            [
             "ESH",
             0.00013614318727114241,
             "2021"
            ],
            [
             "ESP",
             0.0006977919295065053,
             "2021"
            ],
            [
             "EST",
             0.0020538857124364324,
             "2021"
            ],
            [
             "ETH",
             0.00005695732995609871,
             "2021"
            ],
            [
             "FIN",
             0.0010980868469463107,
             "2021"
            ],
            [
             "FJI",
             0.00884156563307773,
             "2021"
            ],
            [
             "FLK",
             0.003985122210414453,
             "2021"
            ],
            [
             "FRA",
             0.0015222501452160284,
             "2021"
            ],
            [
             "FRO",
             0.001436971771067708,
             "2021"
            ],
            [
             "FSM",
             0.0017678620360467069,
             "2021"
            ],
            [
             "GAB",
             0.0008000242612803207,
             "2021"
            ],
            [
             "GBR",
             0.0014525191643886598,
             "2021"
            ],
            [
             "GEO",
             0.001907407703074524,
             "2021"
            ],
            [
             "GGY",
             0.0010941092523586776,
             "2021"
            ],
            [
             "GHA",
             0.0006010106103210514,
             "2021"
            ],
            [
             "GIB",
             0.0037649219467401286,
             "2021"
            ],
            [
             "GIN",
             0.00028140898998263805,
             "2021"
            ],
            [
             "GLP",
             0.0007928271863977114,
             "2021"
            ],
            [
             "GMB",
             0.00011288237959086577,
             "2021"
            ],
            [
             "GNB",
             0.00008152486435572792,
             "2021"
            ],
            [
             "GNQ",
             0.00009605583719698054,
             "2021"
            ],
            [
             "GRC",
             0.0013992809250801671,
             "2021"
            ],
            [
             "GRD",
             0.0035149666960918066,
             "2021"
            ],
            [
             "GRL",
             0.005138417225254699,
             "2021"
            ],
            [
             "GTM",
             0.003695718495697869,
             "2021"
            ],
            [
             "GUF",
             0.0010590050731385885,
             "2021"
            ],
            [
             "GUM",
             0.004075433637866935,
             "2021"
            ],
            [
             "GUY",
             0.004044411466043226,
             "2021"
            ],
            [
             "HKG",
             0.0027649318260572074,
             "2021"
            ],
            [
             "HND",
             0.004294659860642948,
             "2021"
            ],
            [
             "HRV",
             0.0011684337667506705,
             "2021"
            ],
            [
             "HTI",
             0.0003768485693338035,
             "2021"
            ],
            [
             "HUN",
             0.0032657774331998667,
             "2021"
            ],
            [
             "IDN",
             0.006798587418109767,
             "2021"
            ],
            [
             "IMN",
             0.0011867464160258236,
             "2021"
            ],
            [
             "IND",
             0.0033387579730113585,
             "2021"
            ],
            [
             "IRL",
             0.0014693596303318182,
             "2021"
            ],
            [
             "IRN",
             0.002537935478474777,
             "2021"
            ],
            [
             "IRQ",
             0.028035131398412256,
             "2021"
            ],
            [
             "ISL",
             0.0015310462149135241,
             "2021"
            ],
            [
             "ISR",
             0.002630432000506963,
             "2021"
            ],
            [
             "ITA",
             0.0006326770968358887,
             "2021"
            ],
            [
             "JAM",
             0.0013236929725447758,
             "2021"
            ],
            [
             "JEY",
             0.001769766190167763,
             "2021"
            ],
            [
             "JOR",
             0.010211980720251146,
             "2021"
            ],
            [
             "JPN",
             0.0003971269951976178,
             "2021"
            ],
            [
             "KAZ",
             0.0008726606240961227,
             "2021"
            ],
            [
             "KEN",
             0.0003392659502067083,
             "2021"
            ],
            [
             "KGZ",
             0.0005855009019961567,
             "2021"
            ],
            [
             "KHM",
             0.0238587273127099,
             "2021"
            ],
            [
             "KIR",
             0.0013889535515309527,
             "2021"
            ],
            [
             "KNA",
             0.0016804251475623334,
             "2021"
            ],
            [
             "KOR",
             0.001028918714649791,
             "2021"
            ],
            [
             "KWT",
             0.018541385007555092,
             "2021"
            ],
            [
             "LAO",
             0.005900155931441883,
             "2021"
            ],
            [
             "LBN",
             0.008319519024230277,
             "2021"
            ],
            [
             "LBR",
             0.00034081614105244026,
             "2021"
            ],
            [
             "LBY",
             0.04020784891252431,
             "2021"
            ],
            [
             "LCA",
             0.0024825774274708882,
             "2021"
            ],
            [
             "LIE",
             0.00043545081967213115,
             "2021"
            ],
            [
             "LKA",
             0.007018229227066131,
             "2021"
            ],
            [
             "LSO",
             0.0003725692595295546,
             "2021"
            ],
            [
             "LTU",
             0.0012592176056492185,
             "2021"
            ],
            [
             "LUX",
             0.003136139748264174,
             "2021"
            ],
            [
             "LVA",
             0.0008202062095533478,
             "2021"
            ],
            [
             "MAC",
             0.0014637194202797234,
             "2021"
            ],
            [
             "MAF",
             0.0006260172780768749,
             "2021"
            ],
            [
             "MAR",
             0.009370954741381925,
             "2021"
            ],
            [
             "MCO",
             0.013465627214741318,
             "2021"
            ],
            [
             "MDA",
             0.003118398880028692,
             "2021"
            ],
            [
             "MDG",
             0.0027381017471747914,
             "2021"
            ],
            [
             "MDV",
             0.01848279247801357,
             "2021"
            ],
            [
             "MEX",
             0.006205075914127492,
             "2021"
            ],
            [
             "MHL",
             0.002497027348394768,
             "2021"
            ],
            [
             "MKD",
             0.00287401406341373,
             "2021"
            ],
            [
             "MLI",
             0.00012038356751977392,
             "2021"
            ],
            [
             "MLT",
             0.0014238307501879457,
             "2021"
            ],
            [
             "MMR",
             0.010043126999780754,
             "2021"
            ],
            [
             "MNE",
             0.004008861862297108,
             "2021"
            ],
            [
             "MNG",
             0.006468758578438327,
             "2021"
            ],
            [
             "MNP",
             0.006406369993128815,
             "2021"
            ],
            [
             "MOZ",
             0.00020859135771494355,
             "2021"
            ],
            [
             "MRT",
             0.0012877645681210771,
             "2021"
            ],
            [
             "MSR",
             0.0004527960153950645,
             "2021"
            ],
            [
             "MTQ",
             0.0008595537912558705,
             "2021"
            ],
            [
             "MUS",
             0.005720158747878037,
             "2021"
            ],
            [
             "MWI",
             0.00004871858066333892,
             "2021"
            ],
            [
             "MYS",
             0.008032168107856723,
             "2021"
            ],
            [
             "MYT",
             0.0030568265962900376,
             "2021"
            ],
            [
             "NAM",
             0.00035808139514202907,
             "2021"
            ],
            [
             "NCL",
             0.00825225851285615,
             "2021"
            ],
            [
             "NER",
             0.00003278854453789179,
             "2021"
            ],
            [
             "NGA",
             0.00027016702234784176,
             "2021"
            ],
            [
             "NIC",
             0.005402785765793646,
             "2021"
            ],
            [
             "NIU",
             0.0005162622612287042,
             "2021"
            ],
            [
             "NLD",
             0.0021020819925108973,
             "2021"
            ],
            [
             "NOR",
             0.001444932381347398,
             "2021"
            ],
            [
             "NPL",
             0.008760782007918098,
             "2021"
            ],
            [
             "NRU",
             0.003916240409207161,
             "2021"
            ],
            [
             "NZL",
             0.0019437677787204311,
             "2021"
            ],
            [
             "OMN",
             0.014192326419083322,
             "2021"
            ],
            [
             "PAK",
             0.008776069235356218,
             "2021"
            ],
            [
             "PAN",
             0.002439059703759847,
             "2021"
            ],
            [
             "PER",
             0.005722684232331079,
             "2021"
            ],
            [
             "PHL",
             0.02800126286956251,
             "2021"
            ],
            [
             "PLW",
             0.008710608078118064,
             "2021"
            ],
            [
             "PNG",
             0.0007111960204381414,
             "2021"
            ],
            [
             "POL",
             0.0009856497355128831,
             "2021"
            ],
            [
             "PRI",
             0.002058643230340771,
             "2021"
            ],
            [
             "PRK",
             7.700627628103888e-8,
             "2021"
            ],
            [
             "PRT",
             0.0033444757550045905,
             "2021"
            ],
            [
             "PRY",
             0.0019852922201277217,
             "2021"
            ],
            [
             "PSE",
             0.007615822052942771,
             "2021"
            ],
            [
             "PYF",
             0.0015689137985475214,
             "2021"
            ],
            [
             "QAT",
             0.02735475135172334,
             "2021"
            ],
            [
             "REU",
             0.003310116971957161,
             "2021"
            ],
            [
             "ROU",
             0.0016951599084463612,
             "2021"
            ],
            [
             "RUS",
             0.0005644069266637977,
             "2021"
            ],
            [
             "RWA",
             0.00009270616424679808,
             "2021"
            ],
            [
             "SAU",
             0.01972106232153882,
             "2021"
            ],
            [
             "SDN",
             0.0006833095028468893,
             "2021"
            ],
            [
             "SEN",
             0.00022231808076450874,
             "2021"
            ],
            [
             "SGP",
             0.009022462486077824,
             "2021"
            ],
            [
             "SHN",
             0,
             "2021"
            ],
            [
             "SLB",
             0.0020710573270363397,
             "2021"
            ],
            [
             "SLE",
             0.00014072562884464497,
             "2021"
            ],
            [
             "SLV",
             0.0056805583886903235,
             "2021"
            ],
            [
             "SMR",
             0.0001481657085284182,
             "2021"
            ],
            [
             "SOM",
             0.001736594845496324,
             "2021"
            ],
            [
             "SPM",
             0.010538840727519972,
             "2021"
            ],
            [
             "SRB",
             0.0031102807283607307,
             "2021"
            ],
            [
             "SSD",
             0.00017119029261724187,
             "2021"
            ],
            [
             "STP",
             0.0018466392957670725,
             "2021"
            ],
            [
             "SUR",
             0.00336386697880046,
             "2021"
            ],
            [
             "SVK",
             0.0013354450804406032,
             "2021"
            ],
            [
             "SVN",
             0.0014919246394043625,
             "2021"
            ],
            [
             "SWE",
             0.0018758782879340853,
             "2021"
            ],
            [
             "SWZ",
             0.00032207442770980756,
             "2021"
            ],
            [
             "SXM",
             0.001998092729667136,
             "2021"
            ],
            [
             "SYC",
             0.007626489842304477,
             "2021"
            ],
            [
             "SYR",
             0.0036180206427698417,
             "2021"
            ],
            [
             "TCA",
             0.0033470762956066854,
             "2021"
            ],
            [
             "TCD",
             0.000041502374308342266,
             "2021"
            ],
            [
             "TGO",
             0.0001609054383840328,
             "2021"
            ],
            [
             "THA",
             0.00823332288610135,
             "2021"
            ],
            [
             "TJK",
             0.00041394600076471294,
             "2021"
            ],
            [
             "TKL",
             0.002163331530557058,
             "2021"
            ],
            [
             "TKM",
             0.000025386893897763353,
             "2021"
            ],
            [
             "TLS",
             0.0028638653324672848,
             "2021"
            ],
            [
             "TON",
             0.0017733005084090286,
             "2021"
            ],
            [
             "TTO",
             0.0029836208913764047,
             "2021"
            ],
            [
             "TUN",
             0.013419450758406667,
             "2021"
            ],
            [
             "TUR",
             0.003409550251155394,
             "2021"
            ],
            [
             "TUV",
             0.002231345947875759,
             "2021"
            ],
            [
             "TWN",
             0.0016058734835233256,
             "2021"
            ],
            [
             "TZA",
             0.00011115246390949636,
             "2021"
            ],
            [
             "UGA",
             0.00009896676343659186,
             "2021"
            ],
            [
             "UKR",
             0.0015586901801645718,
             "2021"
            ],
            [
             "URY",
             0.0018445768855836976,
             "2021"
            ],
            [
             "USA",
             0.005666924227335206,
             "2021"
            ],
            [
             "UZB",
             0.0002103196962077522,
             "2021"
            ],
            [
             "VCT",
             0.0039010083195951386,
             "2021"
            ],
            [
             "VEN",
             0.005346762805654367,
             "2021"
            ],
            [
             "VGB",
             0.0025383972752393803,
             "2021"
            ],
            [
             "VIR",
             0.0019981816546942284,
             "2021"
            ],
            [
             "VNM",
             0.007346665438366462,
             "2021"
            ],
            [
             "VUT",
             0.004430699041477484,
             "2021"
            ],
            [
             "WLF",
             0.0020639834881320948,
             "2021"
            ],
            [
             "WSM",
             0.002116435976668922,
             "2021"
            ],
            [
             "XKX",
             0.0020222501669665046,
             "2021"
            ],
            [
             "YEM",
             0.007378044045776861,
             "2021"
            ],
            [
             "ZAF",
             0.0008565931702711069,
             "2021"
            ],
            [
             "ZMB",
             0.00019930031774561093,
             "2021"
            ],
            [
             "ZWE",
             0.000050645498765625386,
             "2021"
            ]
           ],
           "geo": "geo",
           "hovertemplate": "<b>%{hovertext}</b><br><br><extra></extra>",
           "hovertext": [
            "Aruba:<br>0.00495 (2021)",
            "Afghanistan:<br>0.00706 (2021)",
            "Angola:<br>0.00039 (2021)",
            "Anguilla:<br>0.00444 (2021)",
            "Albania:<br>0.00560 (2021)",
            "Andorra:<br>0.00132 (2021)",
            "United Arab Emirates:<br>0.03500 (2021)",
            "Argentina:<br>0.00203 (2021)",
            "Armenia:<br>0.00125 (2021)",
            "American Samoa:<br>0.00253 (2021)",
            "Antigua and Barbuda:<br>0.00160 (2021)",
            "Australia:<br>0.00253 (2021)",
            "Austria:<br>0.00085 (2021)",
            "Azerbaijan:<br>0.00415 (2021)",
            "Burundi:<br>0.00012 (2021)",
            "Belgium:<br>0.00136 (2021)",
            "Benin:<br>0.00028 (2021)",
            "Bonaire, Sint Eustatius, and Saba:<br>0.00277 (2021)",
            "Burkina Faso:<br>0.00011 (2021)",
            "Bangladesh:<br>0.01029 (2021)",
            "Bulgaria:<br>0.00197 (2021)",
            "Bahrain:<br>0.02211 (2021)",
            "Bahamas:<br>0.00210 (2021)",
            "Bosnia and Herzegovina:<br>0.00334 (2021)",
            "Saint Barthélemy:<br>0.00083 (2021)",
            "Belarus:<br>0.00059 (2021)",
            "Belize:<br>0.02074 (2021)",
            "Bermuda:<br>0.00142 (2021)",
            "Bolivia:<br>0.00303 (2021)",
            "Brazil:<br>0.00204 (2021)",
            "Barbados:<br>0.00212 (2021)",
            "Brunei Darussalam:<br>0.00722 (2021)",
            "Bhutan:<br>0.01867 (2021)",
            "Botswana:<br>0.00077 (2021)",
            "Central African Republic:<br>0.00004 (2021)",
            "Canada:<br>0.00163 (2021)",
            "Switzerland:<br>0.00083 (2021)",
            "Chile:<br>0.00231 (2021)",
            "China:<br>0.00001 (2021)",
            "Côte d'Ivoire:<br>0.00064 (2021)",
            "Cameroon:<br>0.00031 (2021)",
            "Democratic Republic of the Congo:<br>0.00006 (2021)",
            "Congo:<br>0.00020 (2021)",
            "Cook Islands:<br>0.00359 (2021)",
            "Colombia:<br>0.00854 (2021)",
            "Comoros:<br>0.00482 (2021)",
            "Cabo Verde:<br>0.00656 (2021)",
            "Costa Rica:<br>0.00323 (2021)",
            "Cuba:<br>0.00122 (2021)",
            "Curaçao:<br>0.00192 (2021)",
            "Cayman Islands:<br>0.00257 (2021)",
            "Cyprus:<br>0.00214 (2021)",
            "Czechia:<br>0.00143 (2021)",
            "Germany:<br>0.00096 (2021)",
            "Djibouti:<br>0.00116 (2021)",
            "Dominica:<br>0.00177 (2021)",
            "Denmark:<br>0.00101 (2021)",
            "Dominican Republic:<br>0.01297 (2021)",
            "Algeria:<br>0.02652 (2021)",
            "Ecuador:<br>0.00665 (2021)",
            "Egypt:<br>0.00570 (2021)",
            "Eritrea:<br>0.00033 (2021)",
            "Western Sahara:<br>0.00014 (2021)",
            "Spain:<br>0.00070 (2021)",
            "Estonia:<br>0.00205 (2021)",
            "Ethiopia:<br>0.00006 (2021)",
            "Finland:<br>0.00110 (2021)",
            "Fiji:<br>0.00884 (2021)",
            "Falkland Islands:<br>0.00399 (2021)",
            "France:<br>0.00152 (2021)",
            "Faroe Islands:<br>0.00144 (2021)",
            "Micronesia:<br>0.00177 (2021)",
            "Gabon:<br>0.00080 (2021)",
            "United Kingdom of Great Britain and Northern Ireland:<br>0.00145 (2021)",
            "Georgia:<br>0.00191 (2021)",
            "Guernsey:<br>0.00109 (2021)",
            "Ghana:<br>0.00060 (2021)",
            "Gibraltar:<br>0.00376 (2021)",
            "Guinea:<br>0.00028 (2021)",
            "Guadeloupe:<br>0.00079 (2021)",
            "Gambia:<br>0.00011 (2021)",
            "Guinea-Bissau:<br>0.00008 (2021)",
            "Equatorial Guinea:<br>0.00010 (2021)",
            "Greece:<br>0.00140 (2021)",
            "Grenada:<br>0.00351 (2021)",
            "Greenland:<br>0.00514 (2021)",
            "Guatemala:<br>0.00370 (2021)",
            "French Guiana:<br>0.00106 (2021)",
            "Guam:<br>0.00408 (2021)",
            "Guyana:<br>0.00404 (2021)",
            "Hong Kong:<br>0.00276 (2021)",
            "Honduras:<br>0.00429 (2021)",
            "Croatia:<br>0.00117 (2021)",
            "Haiti:<br>0.00038 (2021)",
            "Hungary:<br>0.00327 (2021)",
            "Indonesia:<br>0.00680 (2021)",
            "Isle of Man:<br>0.00119 (2021)",
            "India:<br>0.00334 (2021)",
            "Ireland:<br>0.00147 (2021)",
            "Iran:<br>0.00254 (2021)",
            "Iraq:<br>0.02804 (2021)",
            "Iceland:<br>0.00153 (2021)",
            "Israel:<br>0.00263 (2021)",
            "Italy:<br>0.00063 (2021)",
            "Jamaica:<br>0.00132 (2021)",
            "Jersey:<br>0.00177 (2021)",
            "Jordan:<br>0.01021 (2021)",
            "Japan:<br>0.00040 (2021)",
            "Kazakhstan:<br>0.00087 (2021)",
            "Kenya:<br>0.00034 (2021)",
            "Kyrgyzstan:<br>0.00059 (2021)",
            "Cambodia:<br>0.02386 (2021)",
            "Kiribati:<br>0.00139 (2021)",
            "Saint Kitts and Nevis:<br>0.00168 (2021)",
            "South Korea:<br>0.00103 (2021)",
            "Kuwait:<br>0.01854 (2021)",
            "Lao People's Democratic Republic:<br>0.00590 (2021)",
            "Lebanon:<br>0.00832 (2021)",
            "Liberia:<br>0.00034 (2021)",
            "Libya:<br>0.04021 (2021)",
            "Saint Lucia:<br>0.00248 (2021)",
            "Liechtenstein:<br>0.00044 (2021)",
            "Sri Lanka:<br>0.00702 (2021)",
            "Lesotho:<br>0.00037 (2021)",
            "Lithuania:<br>0.00126 (2021)",
            "Luxembourg:<br>0.00314 (2021)",
            "Latvia:<br>0.00082 (2021)",
            "Macao:<br>0.00146 (2021)",
            "Saint Martin (French part):<br>0.00063 (2021)",
            "Morocco:<br>0.00937 (2021)",
            "Monaco:<br>0.01347 (2021)",
            "Moldova:<br>0.00312 (2021)",
            "Madagascar:<br>0.00274 (2021)",
            "Maldives:<br>0.01848 (2021)",
            "Mexico:<br>0.00621 (2021)",
            "Marshall Islands:<br>0.00250 (2021)",
            "North Macedonia:<br>0.00287 (2021)",
            "Mali:<br>0.00012 (2021)",
            "Malta:<br>0.00142 (2021)",
            "Myanmar:<br>0.01004 (2021)",
            "Montenegro:<br>0.00401 (2021)",
            "Mongolia:<br>0.00647 (2021)",
            "Northern Mariana Islands:<br>0.00641 (2021)",
            "Mozambique:<br>0.00021 (2021)",
            "Mauritania:<br>0.00129 (2021)",
            "Montserrat:<br>0.00045 (2021)",
            "Martinique:<br>0.00086 (2021)",
            "Mauritius:<br>0.00572 (2021)",
            "Malawi:<br>0.00005 (2021)",
            "Malaysia:<br>0.00803 (2021)",
            "Mayotte:<br>0.00306 (2021)",
            "Namibia:<br>0.00036 (2021)",
            "New Caledonia:<br>0.00825 (2021)",
            "Niger:<br>0.00003 (2021)",
            "Nigeria:<br>0.00027 (2021)",
            "Nicaragua:<br>0.00540 (2021)",
            "Niue:<br>0.00052 (2021)",
            "Netherlands:<br>0.00210 (2021)",
            "Norway:<br>0.00144 (2021)",
            "Nepal:<br>0.00876 (2021)",
            "Nauru:<br>0.00392 (2021)",
            "New Zealand:<br>0.00194 (2021)",
            "Oman:<br>0.01419 (2021)",
            "Pakistan:<br>0.00878 (2021)",
            "Panama:<br>0.00244 (2021)",
            "Peru:<br>0.00572 (2021)",
            "Philippines:<br>0.02800 (2021)",
            "Palau:<br>0.00871 (2021)",
            "Papua New Guinea:<br>0.00071 (2021)",
            "Poland:<br>0.00099 (2021)",
            "Puerto Rico:<br>0.00206 (2021)",
            "North Korea:<br>0.00000 (2021)",
            "Portugal:<br>0.00334 (2021)",
            "Paraguay:<br>0.00199 (2021)",
            "Palestine:<br>0.00762 (2021)",
            "French Polynesia:<br>0.00157 (2021)",
            "Qatar:<br>0.02735 (2021)",
            "Réunion:<br>0.00331 (2021)",
            "Romania:<br>0.00170 (2021)",
            "Russian Federation:<br>0.00056 (2021)",
            "Rwanda:<br>0.00009 (2021)",
            "Saudi Arabia:<br>0.01972 (2021)",
            "Sudan:<br>0.00068 (2021)",
            "Senegal:<br>0.00022 (2021)",
            "Singapore:<br>0.00902 (2021)",
            "Saint Helena, Ascension and Tristan da Cunha:<br>0.00000 (2021)",
            "Solomon Islands:<br>0.00207 (2021)",
            "Sierra Leone:<br>0.00014 (2021)",
            "El Salvador:<br>0.00568 (2021)",
            "San Marino:<br>0.00015 (2021)",
            "Somalia:<br>0.00174 (2021)",
            "Saint Pierre and Miquelon:<br>0.01054 (2021)",
            "Serbia:<br>0.00311 (2021)",
            "South Sudan:<br>0.00017 (2021)",
            "Sao Tome and Principe:<br>0.00185 (2021)",
            "Suriname:<br>0.00336 (2021)",
            "Slovakia:<br>0.00134 (2021)",
            "Slovenia:<br>0.00149 (2021)",
            "Sweden:<br>0.00188 (2021)",
            "Eswatini:<br>0.00032 (2021)",
            "Sint Maarten (Dutch part):<br>0.00200 (2021)",
            "Seychelles:<br>0.00763 (2021)",
            "Syrian Arab Republic:<br>0.00362 (2021)",
            "Turks and Caicos Islands:<br>0.00335 (2021)",
            "Chad:<br>0.00004 (2021)",
            "Togo:<br>0.00016 (2021)",
            "Thailand:<br>0.00823 (2021)",
            "Tajikistan:<br>0.00041 (2021)",
            "Tokelau:<br>0.00216 (2021)",
            "Turkmenistan:<br>0.00003 (2021)",
            "Timor-Leste:<br>0.00286 (2021)",
            "Tonga:<br>0.00177 (2021)",
            "Trinidad and Tobago:<br>0.00298 (2021)",
            "Tunisia:<br>0.01342 (2021)",
            "Türkiye:<br>0.00341 (2021)",
            "Tuvalu:<br>0.00223 (2021)",
            "Taiwan:<br>0.00161 (2021)",
            "Tanzania:<br>0.00011 (2021)",
            "Uganda:<br>0.00010 (2021)",
            "Ukraine:<br>0.00156 (2021)",
            "Uruguay:<br>0.00184 (2021)",
            "United States of America:<br>0.00567 (2021)",
            "Uzbekistan:<br>0.00021 (2021)",
            "Saint Vincent and the Grenadines:<br>0.00390 (2021)",
            "Venezuela:<br>0.00535 (2021)",
            "British Virgin Islands:<br>0.00254 (2021)",
            "U.S. Virgin Islands:<br>0.00200 (2021)",
            "Viet Nam:<br>0.00735 (2021)",
            "Vanuatu:<br>0.00443 (2021)",
            "Wallis and Futuna:<br>0.00206 (2021)",
            "Samoa:<br>0.00212 (2021)",
            "Kosovo:<br>0.00202 (2021)",
            "Yemen:<br>0.00738 (2021)",
            "South Africa:<br>0.00086 (2021)",
            "Zambia:<br>0.00020 (2021)",
            "Zimbabwe:<br>0.00005 (2021)"
           ],
           "locations": [
            "ABW",
            "AFG",
            "AGO",
            "AIA",
            "ALB",
            "AND",
            "ARE",
            "ARG",
            "ARM",
            "ASM",
            "ATG",
            "AUS",
            "AUT",
            "AZE",
            "BDI",
            "BEL",
            "BEN",
            "BES",
            "BFA",
            "BGD",
            "BGR",
            "BHR",
            "BHS",
            "BIH",
            "BLM",
            "BLR",
            "BLZ",
            "BMU",
            "BOL",
            "BRA",
            "BRB",
            "BRN",
            "BTN",
            "BWA",
            "CAF",
            "CAN",
            "CHE",
            "CHL",
            "CHN",
            "CIV",
            "CMR",
            "COD",
            "COG",
            "COK",
            "COL",
            "COM",
            "CPV",
            "CRI",
            "CUB",
            "CUW",
            "CYM",
            "CYP",
            "CZE",
            "DEU",
            "DJI",
            "DMA",
            "DNK",
            "DOM",
            "DZA",
            "ECU",
            "EGY",
            "ERI",
            "ESH",
            "ESP",
            "EST",
            "ETH",
            "FIN",
            "FJI",
            "FLK",
            "FRA",
            "FRO",
            "FSM",
            "GAB",
            "GBR",
            "GEO",
            "GGY",
            "GHA",
            "GIB",
            "GIN",
            "GLP",
            "GMB",
            "GNB",
            "GNQ",
            "GRC",
            "GRD",
            "GRL",
            "GTM",
            "GUF",
            "GUM",
            "GUY",
            "HKG",
            "HND",
            "HRV",
            "HTI",
            "HUN",
            "IDN",
            "IMN",
            "IND",
            "IRL",
            "IRN",
            "IRQ",
            "ISL",
            "ISR",
            "ITA",
            "JAM",
            "JEY",
            "JOR",
            "JPN",
            "KAZ",
            "KEN",
            "KGZ",
            "KHM",
            "KIR",
            "KNA",
            "KOR",
            "KWT",
            "LAO",
            "LBN",
            "LBR",
            "LBY",
            "LCA",
            "LIE",
            "LKA",
            "LSO",
            "LTU",
            "LUX",
            "LVA",
            "MAC",
            "MAF",
            "MAR",
            "MCO",
            "MDA",
            "MDG",
            "MDV",
            "MEX",
            "MHL",
            "MKD",
            "MLI",
            "MLT",
            "MMR",
            "MNE",
            "MNG",
            "MNP",
            "MOZ",
            "MRT",
            "MSR",
            "MTQ",
            "MUS",
            "MWI",
            "MYS",
            "MYT",
            "NAM",
            "NCL",
            "NER",
            "NGA",
            "NIC",
            "NIU",
            "NLD",
            "NOR",
            "NPL",
            "NRU",
            "NZL",
            "OMN",
            "PAK",
            "PAN",
            "PER",
            "PHL",
            "PLW",
            "PNG",
            "POL",
            "PRI",
            "PRK",
            "PRT",
            "PRY",
            "PSE",
            "PYF",
            "QAT",
            "REU",
            "ROU",
            "RUS",
            "RWA",
            "SAU",
            "SDN",
            "SEN",
            "SGP",
            "SHN",
            "SLB",
            "SLE",
            "SLV",
            "SMR",
            "SOM",
            "SPM",
            "SRB",
            "SSD",
            "STP",
            "SUR",
            "SVK",
            "SVN",
            "SWE",
            "SWZ",
            "SXM",
            "SYC",
            "SYR",
            "TCA",
            "TCD",
            "TGO",
            "THA",
            "TJK",
            "TKL",
            "TKM",
            "TLS",
            "TON",
            "TTO",
            "TUN",
            "TUR",
            "TUV",
            "TWN",
            "TZA",
            "UGA",
            "UKR",
            "URY",
            "USA",
            "UZB",
            "VCT",
            "VEN",
            "VGB",
            "VIR",
            "VNM",
            "VUT",
            "WLF",
            "WSM",
            "XKX",
            "YEM",
            "ZAF",
            "ZMB",
            "ZWE"
           ],
           "name": "",
           "type": "choropleth",
           "z": [
            0.0049466382571313255,
            0.007060344101374727,
            0.0003867982673431608,
            0.00444359804481686,
            0.005599517989568118,
            0.0013158893640711593,
            0.03500426314808794,
            0.0020309969039317725,
            0.0012490263255766625,
            0.002531364494282225,
            0.0015983694486161769,
            0.0025282502598559806,
            0.0008495774865104356,
            0.00414651732494314,
            0.00011839493123094955,
            0.0013574567107209972,
            0.0002833753754262076,
            0.0027709129034673855,
            0.00011438560001129377,
            0.010293331304316602,
            0.0019727360443156914,
            0.02210534516622405,
            0.00210342578927498,
            0.003341544013454224,
            0.0008285766893758056,
            0.0005884215018989018,
            0.020740892580824986,
            0.0014177767391135,
            0.003025877290000755,
            0.002039372475667618,
            0.0021230440967283074,
            0.007216423088063264,
            0.018672981027335504,
            0.0007718985652654145,
            0.00004416220539823406,
            0.0016271518929151432,
            0.0008261032995002996,
            0.0023129621967882623,
            0.000005360849311417526,
            0.0006432724297679958,
            0.00030608161558737446,
            0.00005597840676757247,
            0.00019723068244557822,
            0.0035876021878492033,
            0.008544883099924254,
            0.004823362454450079,
            0.006556958795764766,
            0.003225288841175819,
            0.0012241065572365095,
            0.0019228950603662957,
            0.0025683926265116824,
            0.002135529357299701,
            0.0014274907663591307,
            0.0009555494637210776,
            0.0011586909054070434,
            0.0017676384074682722,
            0.0010062790377095851,
            0.012965608352819973,
            0.026521205626270417,
            0.00664814858203602,
            0.005698522685498727,
            0.000331186925325773,
            0.00013614318727114241,
            0.0006977919295065053,
            0.0020538857124364324,
            0.00005695732995609871,
            0.0010980868469463107,
            0.00884156563307773,
            0.003985122210414453,
            0.0015222501452160284,
            0.001436971771067708,
            0.0017678620360467069,
            0.0008000242612803207,
            0.0014525191643886598,
            0.001907407703074524,
            0.0010941092523586776,
            0.0006010106103210514,
            0.0037649219467401286,
            0.00028140898998263805,
            0.0007928271863977114,
            0.00011288237959086577,
            0.00008152486435572792,
            0.00009605583719698054,
            0.0013992809250801671,
            0.0035149666960918066,
            0.005138417225254699,
            0.003695718495697869,
            0.0010590050731385885,
            0.004075433637866935,
            0.004044411466043226,
            0.0027649318260572074,
            0.004294659860642948,
            0.0011684337667506705,
            0.0003768485693338035,
            0.0032657774331998667,
            0.006798587418109767,
            0.0011867464160258236,
            0.0033387579730113585,
            0.0014693596303318182,
            0.002537935478474777,
            0.028035131398412256,
            0.0015310462149135241,
            0.002630432000506963,
            0.0006326770968358887,
            0.0013236929725447758,
            0.001769766190167763,
            0.010211980720251146,
            0.0003971269951976178,
            0.0008726606240961227,
            0.0003392659502067083,
            0.0005855009019961567,
            0.0238587273127099,
            0.0013889535515309527,
            0.0016804251475623334,
            0.001028918714649791,
            0.018541385007555092,
            0.005900155931441883,
            0.008319519024230277,
            0.00034081614105244026,
            0.04020784891252431,
            0.0024825774274708882,
            0.00043545081967213115,
            0.007018229227066131,
            0.0003725692595295546,
            0.0012592176056492185,
            0.003136139748264174,
            0.0008202062095533478,
            0.0014637194202797234,
            0.0006260172780768749,
            0.009370954741381925,
            0.013465627214741318,
            0.003118398880028692,
            0.0027381017471747914,
            0.01848279247801357,
            0.006205075914127492,
            0.002497027348394768,
            0.00287401406341373,
            0.00012038356751977392,
            0.0014238307501879457,
            0.010043126999780754,
            0.004008861862297108,
            0.006468758578438327,
            0.006406369993128815,
            0.00020859135771494355,
            0.0012877645681210771,
            0.0004527960153950645,
            0.0008595537912558705,
            0.005720158747878037,
            0.00004871858066333892,
            0.008032168107856723,
            0.0030568265962900376,
            0.00035808139514202907,
            0.00825225851285615,
            0.00003278854453789179,
            0.00027016702234784176,
            0.005402785765793646,
            0.0005162622612287042,
            0.0021020819925108973,
            0.001444932381347398,
            0.008760782007918098,
            0.003916240409207161,
            0.0019437677787204311,
            0.014192326419083322,
            0.008776069235356218,
            0.002439059703759847,
            0.005722684232331079,
            0.02800126286956251,
            0.008710608078118064,
            0.0007111960204381414,
            0.0009856497355128831,
            0.002058643230340771,
            7.700627628103888e-8,
            0.0033444757550045905,
            0.0019852922201277217,
            0.007615822052942771,
            0.0015689137985475214,
            0.02735475135172334,
            0.003310116971957161,
            0.0016951599084463612,
            0.0005644069266637977,
            0.00009270616424679808,
            0.01972106232153882,
            0.0006833095028468893,
            0.00022231808076450874,
            0.009022462486077824,
            0,
            0.0020710573270363397,
            0.00014072562884464497,
            0.0056805583886903235,
            0.0001481657085284182,
            0.001736594845496324,
            0.010538840727519972,
            0.0031102807283607307,
            0.00017119029261724187,
            0.0018466392957670725,
            0.00336386697880046,
            0.0013354450804406032,
            0.0014919246394043625,
            0.0018758782879340853,
            0.00032207442770980756,
            0.001998092729667136,
            0.007626489842304477,
            0.0036180206427698417,
            0.0033470762956066854,
            0.000041502374308342266,
            0.0001609054383840328,
            0.00823332288610135,
            0.00041394600076471294,
            0.002163331530557058,
            0.000025386893897763353,
            0.0028638653324672848,
            0.0017733005084090286,
            0.0029836208913764047,
            0.013419450758406667,
            0.003409550251155394,
            0.002231345947875759,
            0.0016058734835233256,
            0.00011115246390949636,
            0.00009896676343659186,
            0.0015586901801645718,
            0.0018445768855836976,
            0.005666924227335206,
            0.0002103196962077522,
            0.0039010083195951386,
            0.005346762805654367,
            0.0025383972752393803,
            0.0019981816546942284,
            0.007346665438366462,
            0.004430699041477484,
            0.0020639834881320948,
            0.002116435976668922,
            0.0020222501669665046,
            0.007378044045776861,
            0.0008565931702711069,
            0.00019930031774561093,
            0.000050645498765625386
           ]
          }
         ],
         "name": "2021"
        },
        {
         "data": [
          {
           "coloraxis": "coloraxis",
           "customdata": [
            [
             "ABW",
             0.006820423692986989,
             "2022"
            ],
            [
             "AFG",
             0.005468629247394725,
             "2022"
            ],
            [
             "AGO",
             0.0006362642465771785,
             "2022"
            ],
            [
             "AIA",
             0.004918963233903008,
             "2022"
            ],
            [
             "ALB",
             0.004002362857678636,
             "2022"
            ],
            [
             "AND",
             0.00253056724794548,
             "2022"
            ],
            [
             "ARE",
             0.028101194253356776,
             "2022"
            ],
            [
             "ARG",
             0.002989212248527905,
             "2022"
            ],
            [
             "ARM",
             0.0014281763256486586,
             "2022"
            ],
            [
             "ASM",
             0.005036929957310325,
             "2022"
            ],
            [
             "ATG",
             0.0037434809039813147,
             "2022"
            ],
            [
             "AUS",
             0.006954468458954731,
             "2022"
            ],
            [
             "AUT",
             0.0020695517492527924,
             "2022"
            ],
            [
             "AZE",
             0.000972864260286227,
             "2022"
            ],
            [
             "BDI",
             0.00017642161569770675,
             "2022"
            ],
            [
             "BEL",
             0.0043115392765742415,
             "2022"
            ],
            [
             "BEN",
             0.0004645445351648905,
             "2022"
            ],
            [
             "BES",
             0.003293003293003293,
             "2022"
            ],
            [
             "BFA",
             0.00013456081968223887,
             "2022"
            ],
            [
             "BGD",
             0.012530775449048156,
             "2022"
            ],
            [
             "BGR",
             0.0047091155010953335,
             "2022"
            ],
            [
             "BHR",
             0.017589607079857603,
             "2022"
            ],
            [
             "BHS",
             0.0036903879175772714,
             "2022"
            ],
            [
             "BIH",
             0.0037466828017826974,
             "2022"
            ],
            [
             "BLM",
             0.0012765569435579465,
             "2022"
            ],
            [
             "BLR",
             0.0006919801928797776,
             "2022"
            ],
            [
             "BLZ",
             0.01505898493114518,
             "2022"
            ],
            [
             "BMU",
             0.004284556898915617,
             "2022"
            ],
            [
             "BOL",
             0.0037874331955455244,
             "2022"
            ],
            [
             "BRA",
             0.002838790905714606,
             "2022"
            ],
            [
             "BRB",
             0.008827027890709606,
             "2022"
            ],
            [
             "BRN",
             0.006654758776130173,
             "2022"
            ],
            [
             "BTN",
             0.008705931970528656,
             "2022"
            ],
            [
             "BWA",
             0.0017085529537360054,
             "2022"
            ],
            [
             "CAF",
             0.000044451263491316946,
             "2022"
            ],
            [
             "CAN",
             0.00463666936623283,
             "2022"
            ],
            [
             "CHE",
             0.0015935066206950838,
             "2022"
            ],
            [
             "CHL",
             0.0032852926531900836,
             "2022"
            ],
            [
             "CHN",
             0.000005153282317142845,
             "2022"
            ],
            [
             "CIV",
             0.0009629075689343064,
             "2022"
            ],
            [
             "CMR",
             0.00035576445348171095,
             "2022"
            ],
            [
             "COD",
             0.00012172481763800284,
             "2022"
            ],
            [
             "COG",
             0.0003855672561948699,
             "2022"
            ],
            [
             "COK",
             0.005349479748398095,
             "2022"
            ],
            [
             "COL",
             0.01249000848671389,
             "2022"
            ],
            [
             "COM",
             0.005012106016678338,
             "2022"
            ],
            [
             "CPV",
             0.006042316446092894,
             "2022"
            ],
            [
             "CRI",
             0.004735342548460874,
             "2022"
            ],
            [
             "CUB",
             0.001102549894128632,
             "2022"
            ],
            [
             "CUW",
             0.0027620263229478355,
             "2022"
            ],
            [
             "CYM",
             0.004890402584927081,
             "2022"
            ],
            [
             "CYP",
             0.0058817936074548,
             "2022"
            ],
            [
             "CZE",
             0.005907574109590007,
             "2022"
            ],
            [
             "DEU",
             0.0016575897833944584,
             "2022"
            ],
            [
             "DJI",
             0.0015916506148464244,
             "2022"
            ],
            [
             "DMA",
             0.0054167010365971015,
             "2022"
            ],
            [
             "DNK",
             0.005136629412290714,
             "2022"
            ],
            [
             "DOM",
             0.011633901724856064,
             "2022"
            ],
            [
             "DZA",
             0.01628317342462596,
             "2022"
            ],
            [
             "ECU",
             0.009350258318982278,
             "2022"
            ],
            [
             "EGY",
             0.0038836255517304998,
             "2022"
            ],
            [
             "ERI",
             0.0000618887132359328,
             "2022"
            ],
            [
             "ESH",
             0.000020833839711381875,
             "2022"
            ],
            [
             "ESP",
             0.0016343406023260133,
             "2022"
            ],
            [
             "EST",
             0.0048323532383855354,
             "2022"
            ],
            [
             "ETH",
             0.00009033884564283858,
             "2022"
            ],
            [
             "FIN",
             0.001967966046449341,
             "2022"
            ],
            [
             "FJI",
             0.0065027114349201845,
             "2022"
            ],
            [
             "FLK",
             0.006613756613756613,
             "2022"
            ],
            [
             "FRA",
             0.003519679225721014,
             "2022"
            ],
            [
             "FRO",
             0.007760406856281786,
             "2022"
            ],
            [
             "FSM",
             0.002548964647349427,
             "2022"
            ],
            [
             "GAB",
             0.0010213508369425947,
             "2022"
            ],
            [
             "GBR",
             0.0046941933731558146,
             "2022"
            ],
            [
             "GEO",
             0.0034627840185280042,
             "2022"
            ],
            [
             "GGY",
             0.0038703358503680767,
             "2022"
            ],
            [
             "GHA",
             0.0006544714147832454,
             "2022"
            ],
            [
             "GIB",
             0.0036754571349811634,
             "2022"
            ],
            [
             "GIN",
             0.0003289478193804453,
             "2022"
            ],
            [
             "GLP",
             0.0015059898472026744,
             "2022"
            ],
            [
             "GMB",
             0.00016149345600430451,
             "2022"
            ],
            [
             "GNB",
             0.00010543483319924429,
             "2022"
            ],
            [
             "GNQ",
             0.00015881469310553178,
             "2022"
            ],
            [
             "GRC",
             0.004173820032814728,
             "2022"
            ],
            [
             "GRD",
             0.006704507406049204,
             "2022"
            ],
            [
             "GRL",
             0.006712003683632628,
             "2022"
            ],
            [
             "GTM",
             0.004897469769514615,
             "2022"
            ],
            [
             "GUF",
             0.0020094760586688207,
             "2022"
            ],
            [
             "GUM",
             0.0036559452772522193,
             "2022"
            ],
            [
             "GUY",
             0.005125345296181896,
             "2022"
            ],
            [
             "HKG",
             0.005018250429137125,
             "2022"
            ],
            [
             "HND",
             0.006776377714260519,
             "2022"
            ],
            [
             "HRV",
             0.0029012311065170888,
             "2022"
            ],
            [
             "HTI",
             0.0004513596724591014,
             "2022"
            ],
            [
             "HUN",
             0.010979293506330897,
             "2022"
            ],
            [
             "IDN",
             0.006816703711193215,
             "2022"
            ],
            [
             "IMN",
             0.006105063890203502,
             "2022"
            ],
            [
             "IND",
             0.00400467925030359,
             "2022"
            ],
            [
             "IRL",
             0.003935809475764909,
             "2022"
            ],
            [
             "IRN",
             0.0029787385897120707,
             "2022"
            ],
            [
             "IRQ",
             0.020358695528567637,
             "2022"
            ],
            [
             "ISL",
             0.007345152440741327,
             "2022"
            ],
            [
             "ISR",
             0.0024617436735123793,
             "2022"
            ],
            [
             "ITA",
             0.0016347582892858865,
             "2022"
            ],
            [
             "JAM",
             0.002105485048509626,
             "2022"
            ],
            [
             "JEY",
             0.006228617337220953,
             "2022"
            ],
            [
             "JOR",
             0.006499721022811801,
             "2022"
            ],
            [
             "JPN",
             0.0007463391463829312,
             "2022"
            ],
            [
             "KAZ",
             0.0008792144426450606,
             "2022"
            ],
            [
             "KEN",
             0.0004024803152513831,
             "2022"
            ],
            [
             "KGZ",
             0.0010546520289269952,
             "2022"
            ],
            [
             "KHM",
             0.013594772660667961,
             "2022"
            ],
            [
             "KIR",
             0.0019050231650816873,
             "2022"
            ],
            [
             "KNA",
             0.006126988123714801,
             "2022"
            ],
            [
             "KOR",
             0.0013394946445882058,
             "2022"
            ],
            [
             "KWT",
             0.013693543940051624,
             "2022"
            ],
            [
             "LAO",
             0.0035204313713771544,
             "2022"
            ],
            [
             "LBN",
             0.004528994087151668,
             "2022"
            ],
            [
             "LBR",
             0.0012022220457915535,
             "2022"
            ],
            [
             "LBY",
             0.02397648620349451,
             "2022"
            ],
            [
             "LCA",
             0.0046369914043300825,
             "2022"
            ],
            [
             "LIE",
             0.0012205355099549928,
             "2022"
            ],
            [
             "LKA",
             0.006688532591601292,
             "2022"
            ],
            [
             "LSO",
             0.0011744164564021743,
             "2022"
            ],
            [
             "LTU",
             0.00603733379877857,
             "2022"
            ],
            [
             "LUX",
             0.0030945075579177856,
             "2022"
            ],
            [
             "LVA",
             0.0019928122590374955,
             "2022"
            ],
            [
             "MAC",
             0.0014456916231880305,
             "2022"
            ],
            [
             "MAF",
             0.001572772168223711,
             "2022"
            ],
            [
             "MAR",
             0.006892311385472534,
             "2022"
            ],
            [
             "MCO",
             0.010721434643121554,
             "2022"
            ],
            [
             "MDA",
             0.002557901079011401,
             "2022"
            ],
            [
             "MDG",
             0.0019092781998367267,
             "2022"
            ],
            [
             "MDV",
             0.014916368676580366,
             "2022"
            ],
            [
             "MEX",
             0.006398161577924152,
             "2022"
            ],
            [
             "MHL",
             0.0031754432389521038,
             "2022"
            ],
            [
             "MKD",
             0.004475069007961888,
             "2022"
            ],
            [
             "MLI",
             0.00012968279367365728,
             "2022"
            ],
            [
             "MLT",
             0.008837659342266626,
             "2022"
            ],
            [
             "MMR",
             0.004678188384325189,
             "2022"
            ],
            [
             "MNE",
             0.004111098530816495,
             "2022"
            ],
            [
             "MNG",
             0.0075671661027682125,
             "2022"
            ],
            [
             "MNP",
             0.0031886339327157876,
             "2022"
            ],
            [
             "MOZ",
             0.0003734358393278349,
             "2022"
            ],
            [
             "MRT",
             0.001394807035857689,
             "2022"
            ],
            [
             "MSR",
             0.005466970387243736,
             "2022"
            ],
            [
             "MTQ",
             0.0019482622099715107,
             "2022"
            ],
            [
             "MUS",
             0.004425653863231828,
             "2022"
            ],
            [
             "MWI",
             0.0000946812049036043,
             "2022"
            ],
            [
             "MYS",
             0.0058240823576438385,
             "2022"
            ],
            [
             "MYT",
             0.005590292578066304,
             "2022"
            ],
            [
             "NAM",
             0.0005134372128228412,
             "2022"
            ],
            [
             "NCL",
             0.004148976896096237,
             "2022"
            ],
            [
             "NER",
             0.000041018045765226365,
             "2022"
            ],
            [
             "NGA",
             0.0005639943096865409,
             "2022"
            ],
            [
             "NIC",
             0.011454592659711773,
             "2022"
            ],
            [
             "NIU",
             0.000517063081695967,
             "2022"
            ],
            [
             "NLD",
             0.0032459550533266482,
             "2022"
            ],
            [
             "NOR",
             0.008653522180056047,
             "2022"
            ],
            [
             "NPL",
             0.005989934390874825,
             "2022"
            ],
            [
             "NRU",
             0.008288601199873697,
             "2022"
            ],
            [
             "NZL",
             0.006319030626836807,
             "2022"
            ],
            [
             "OMN",
             0.012096021718865336,
             "2022"
            ],
            [
             "PAK",
             0.008734804183899813,
             "2022"
            ],
            [
             "PAN",
             0.003176305482421668,
             "2022"
            ],
            [
             "PER",
             0.006473617053057527,
             "2022"
            ],
            [
             "PHL",
             0.022293216446672714,
             "2022"
            ],
            [
             "PLW",
             0.006258654112434228,
             "2022"
            ],
            [
             "PNG",
             0.0012401136235128225,
             "2022"
            ],
            [
             "POL",
             0.005903834659912679,
             "2022"
            ],
            [
             "PRI",
             0.0020895293854674398,
             "2022"
            ],
            [
             "PRK",
             3.8359124026440636e-8,
             "2022"
            ],
            [
             "PRT",
             0.0041548594008391695,
             "2022"
            ],
            [
             "PRY",
             0.002821519290508534,
             "2022"
            ],
            [
             "PSE",
             0.005419354248856016,
             "2022"
            ],
            [
             "PYF",
             0.002533637631048815,
             "2022"
            ],
            [
             "QAT",
             0.022695447553023575,
             "2022"
            ],
            [
             "REU",
             0.004648622455474656,
             "2022"
            ],
            [
             "ROU",
             0.0048977919675235095,
             "2022"
            ],
            [
             "RUS",
             0.0006172617952761416,
             "2022"
            ],
            [
             "RWA",
             0.0001318893685555131,
             "2022"
            ],
            [
             "SAU",
             0.016554917187648486,
             "2022"
            ],
            [
             "SDN",
             0.0007242576321936048,
             "2022"
            ],
            [
             "SEN",
             0.0002248151454146286,
             "2022"
            ],
            [
             "SGP",
             0.01251604626679869,
             "2022"
            ],
            [
             "SHN",
             0.00018608113137327876,
             "2022"
            ],
            [
             "SLB",
             0.0021676909121284378,
             "2022"
            ],
            [
             "SLE",
             0.00019475423201178565,
             "2022"
            ],
            [
             "SLV",
             0.007357341528112528,
             "2022"
            ],
            [
             "SMR",
             0.0010694869433469,
             "2022"
            ],
            [
             "SOM",
             0.0012677929282158141,
             "2022"
            ],
            [
             "SPM",
             0.01023541453428864,
             "2022"
            ],
            [
             "SRB",
             0.003818529624450554,
             "2022"
            ],
            [
             "SSD",
             0.00026023616982206077,
             "2022"
            ],
            [
             "STP",
             0.001979065880904213,
             "2022"
            ],
            [
             "SUR",
             0.0050093764005947825,
             "2022"
            ],
            [
             "SVK",
             0.0070432056402347995,
             "2022"
            ],
            [
             "SVN",
             0.0069792871550925445,
             "2022"
            ],
            [
             "SWE",
             0.004633746524784899,
             "2022"
            ],
            [
             "SWZ",
             0.0006940335582701089,
             "2022"
            ],
            [
             "SXM",
             0.0039388794567062815,
             "2022"
            ],
            [
             "SYC",
             0.004499668592873347,
             "2022"
            ],
            [
             "SYR",
             0.0028250077547149863,
             "2022"
            ],
            [
             "TCA",
             0.004944970789663698,
             "2022"
            ],
            [
             "TCD",
             0.00007092352643960794,
             "2022"
            ],
            [
             "TGO",
             0.00032965298062460934,
             "2022"
            ],
            [
             "THA",
             0.007335478192053423,
             "2022"
            ],
            [
             "TJK",
             0.0008927147742637313,
             "2022"
            ],
            [
             "TKL",
             0.002137894174238375,
             "2022"
            ],
            [
             "TKM",
             0.000027679418222169628,
             "2022"
            ],
            [
             "TLS",
             0.0029411852417363504,
             "2022"
            ],
            [
             "TON",
             0.006709839225888563,
             "2022"
            ],
            [
             "TTO",
             0.006078201489832108,
             "2022"
            ],
            [
             "TUN",
             0.007424581686949063,
             "2022"
            ],
            [
             "TUR",
             0.003237953851643662,
             "2022"
            ],
            [
             "TUV",
             0.00442008486562942,
             "2022"
            ],
            [
             "TWN",
             0.0030511360984908174,
             "2022"
            ],
            [
             "TZA",
             0.00012801966870677753,
             "2022"
            ],
            [
             "UGA",
             0.00011661478084939794,
             "2022"
            ],
            [
             "UKR",
             0.0013180279080470506,
             "2022"
            ],
            [
             "URY",
             0.0024059291911812395,
             "2022"
            ],
            [
             "USA",
             0.009534817356347754,
             "2022"
            ],
            [
             "UZB",
             0.0006012535703762539,
             "2022"
            ],
            [
             "VCT",
             0.0067629968830569135,
             "2022"
            ],
            [
             "VEN",
             0.010642118408734233,
             "2022"
            ],
            [
             "VGB",
             0.005749880210828941,
             "2022"
            ],
            [
             "VIR",
             0.002825114361835822,
             "2022"
            ],
            [
             "VNM",
             0.009751121881323911,
             "2022"
            ],
            [
             "VUT",
             0.005695642726195978,
             "2022"
            ],
            [
             "WLF",
             0.0006912641493130563,
             "2022"
            ],
            [
             "WSM",
             0.0038087615004811543,
             "2022"
            ],
            [
             "XKX",
             0.0030354627363509616,
             "2022"
            ],
            [
             "YEM",
             0.006280334279283966,
             "2022"
            ],
            [
             "ZAF",
             0.0013757330756598428,
             "2022"
            ],
            [
             "ZMB",
             0.0003939018892054147,
             "2022"
            ],
            [
             "ZWE",
             0.00011654028295760122,
             "2022"
            ]
           ],
           "geo": "geo",
           "hovertemplate": "<b>%{hovertext}</b><br><br><extra></extra>",
           "hovertext": [
            "Aruba:<br>0.00682 (2022)",
            "Afghanistan:<br>0.00547 (2022)",
            "Angola:<br>0.00064 (2022)",
            "Anguilla:<br>0.00492 (2022)",
            "Albania:<br>0.00400 (2022)",
            "Andorra:<br>0.00253 (2022)",
            "United Arab Emirates:<br>0.02810 (2022)",
            "Argentina:<br>0.00299 (2022)",
            "Armenia:<br>0.00143 (2022)",
            "American Samoa:<br>0.00504 (2022)",
            "Antigua and Barbuda:<br>0.00374 (2022)",
            "Australia:<br>0.00695 (2022)",
            "Austria:<br>0.00207 (2022)",
            "Azerbaijan:<br>0.00097 (2022)",
            "Burundi:<br>0.00018 (2022)",
            "Belgium:<br>0.00431 (2022)",
            "Benin:<br>0.00046 (2022)",
            "Bonaire, Sint Eustatius, and Saba:<br>0.00329 (2022)",
            "Burkina Faso:<br>0.00013 (2022)",
            "Bangladesh:<br>0.01253 (2022)",
            "Bulgaria:<br>0.00471 (2022)",
            "Bahrain:<br>0.01759 (2022)",
            "Bahamas:<br>0.00369 (2022)",
            "Bosnia and Herzegovina:<br>0.00375 (2022)",
            "Saint Barthélemy:<br>0.00128 (2022)",
            "Belarus:<br>0.00069 (2022)",
            "Belize:<br>0.01506 (2022)",
            "Bermuda:<br>0.00428 (2022)",
            "Bolivia:<br>0.00379 (2022)",
            "Brazil:<br>0.00284 (2022)",
            "Barbados:<br>0.00883 (2022)",
            "Brunei Darussalam:<br>0.00665 (2022)",
            "Bhutan:<br>0.00871 (2022)",
            "Botswana:<br>0.00171 (2022)",
            "Central African Republic:<br>0.00004 (2022)",
            "Canada:<br>0.00464 (2022)",
            "Switzerland:<br>0.00159 (2022)",
            "Chile:<br>0.00329 (2022)",
            "China:<br>0.00001 (2022)",
            "Côte d'Ivoire:<br>0.00096 (2022)",
            "Cameroon:<br>0.00036 (2022)",
            "Democratic Republic of the Congo:<br>0.00012 (2022)",
            "Congo:<br>0.00039 (2022)",
            "Cook Islands:<br>0.00535 (2022)",
            "Colombia:<br>0.01249 (2022)",
            "Comoros:<br>0.00501 (2022)",
            "Cabo Verde:<br>0.00604 (2022)",
            "Costa Rica:<br>0.00474 (2022)",
            "Cuba:<br>0.00110 (2022)",
            "Curaçao:<br>0.00276 (2022)",
            "Cayman Islands:<br>0.00489 (2022)",
            "Cyprus:<br>0.00588 (2022)",
            "Czechia:<br>0.00591 (2022)",
            "Germany:<br>0.00166 (2022)",
            "Djibouti:<br>0.00159 (2022)",
            "Dominica:<br>0.00542 (2022)",
            "Denmark:<br>0.00514 (2022)",
            "Dominican Republic:<br>0.01163 (2022)",
            "Algeria:<br>0.01628 (2022)",
            "Ecuador:<br>0.00935 (2022)",
            "Egypt:<br>0.00388 (2022)",
            "Eritrea:<br>0.00006 (2022)",
            "Western Sahara:<br>0.00002 (2022)",
            "Spain:<br>0.00163 (2022)",
            "Estonia:<br>0.00483 (2022)",
            "Ethiopia:<br>0.00009 (2022)",
            "Finland:<br>0.00197 (2022)",
            "Fiji:<br>0.00650 (2022)",
            "Falkland Islands:<br>0.00661 (2022)",
            "France:<br>0.00352 (2022)",
            "Faroe Islands:<br>0.00776 (2022)",
            "Micronesia:<br>0.00255 (2022)",
            "Gabon:<br>0.00102 (2022)",
            "United Kingdom of Great Britain and Northern Ireland:<br>0.00469 (2022)",
            "Georgia:<br>0.00346 (2022)",
            "Guernsey:<br>0.00387 (2022)",
            "Ghana:<br>0.00065 (2022)",
            "Gibraltar:<br>0.00368 (2022)",
            "Guinea:<br>0.00033 (2022)",
            "Guadeloupe:<br>0.00151 (2022)",
            "Gambia:<br>0.00016 (2022)",
            "Guinea-Bissau:<br>0.00011 (2022)",
            "Equatorial Guinea:<br>0.00016 (2022)",
            "Greece:<br>0.00417 (2022)",
            "Grenada:<br>0.00670 (2022)",
            "Greenland:<br>0.00671 (2022)",
            "Guatemala:<br>0.00490 (2022)",
            "French Guiana:<br>0.00201 (2022)",
            "Guam:<br>0.00366 (2022)",
            "Guyana:<br>0.00513 (2022)",
            "Hong Kong:<br>0.00502 (2022)",
            "Honduras:<br>0.00678 (2022)",
            "Croatia:<br>0.00290 (2022)",
            "Haiti:<br>0.00045 (2022)",
            "Hungary:<br>0.01098 (2022)",
            "Indonesia:<br>0.00682 (2022)",
            "Isle of Man:<br>0.00611 (2022)",
            "India:<br>0.00400 (2022)",
            "Ireland:<br>0.00394 (2022)",
            "Iran:<br>0.00298 (2022)",
            "Iraq:<br>0.02036 (2022)",
            "Iceland:<br>0.00735 (2022)",
            "Israel:<br>0.00246 (2022)",
            "Italy:<br>0.00163 (2022)",
            "Jamaica:<br>0.00211 (2022)",
            "Jersey:<br>0.00623 (2022)",
            "Jordan:<br>0.00650 (2022)",
            "Japan:<br>0.00075 (2022)",
            "Kazakhstan:<br>0.00088 (2022)",
            "Kenya:<br>0.00040 (2022)",
            "Kyrgyzstan:<br>0.00105 (2022)",
            "Cambodia:<br>0.01359 (2022)",
            "Kiribati:<br>0.00191 (2022)",
            "Saint Kitts and Nevis:<br>0.00613 (2022)",
            "South Korea:<br>0.00134 (2022)",
            "Kuwait:<br>0.01369 (2022)",
            "Lao People's Democratic Republic:<br>0.00352 (2022)",
            "Lebanon:<br>0.00453 (2022)",
            "Liberia:<br>0.00120 (2022)",
            "Libya:<br>0.02398 (2022)",
            "Saint Lucia:<br>0.00464 (2022)",
            "Liechtenstein:<br>0.00122 (2022)",
            "Sri Lanka:<br>0.00669 (2022)",
            "Lesotho:<br>0.00117 (2022)",
            "Lithuania:<br>0.00604 (2022)",
            "Luxembourg:<br>0.00309 (2022)",
            "Latvia:<br>0.00199 (2022)",
            "Macao:<br>0.00145 (2022)",
            "Saint Martin (French part):<br>0.00157 (2022)",
            "Morocco:<br>0.00689 (2022)",
            "Monaco:<br>0.01072 (2022)",
            "Moldova:<br>0.00256 (2022)",
            "Madagascar:<br>0.00191 (2022)",
            "Maldives:<br>0.01492 (2022)",
            "Mexico:<br>0.00640 (2022)",
            "Marshall Islands:<br>0.00318 (2022)",
            "North Macedonia:<br>0.00448 (2022)",
            "Mali:<br>0.00013 (2022)",
            "Malta:<br>0.00884 (2022)",
            "Myanmar:<br>0.00468 (2022)",
            "Montenegro:<br>0.00411 (2022)",
            "Mongolia:<br>0.00757 (2022)",
            "Northern Mariana Islands:<br>0.00319 (2022)",
            "Mozambique:<br>0.00037 (2022)",
            "Mauritania:<br>0.00139 (2022)",
            "Montserrat:<br>0.00547 (2022)",
            "Martinique:<br>0.00195 (2022)",
            "Mauritius:<br>0.00443 (2022)",
            "Malawi:<br>0.00009 (2022)",
            "Malaysia:<br>0.00582 (2022)",
            "Mayotte:<br>0.00559 (2022)",
            "Namibia:<br>0.00051 (2022)",
            "New Caledonia:<br>0.00415 (2022)",
            "Niger:<br>0.00004 (2022)",
            "Nigeria:<br>0.00056 (2022)",
            "Nicaragua:<br>0.01145 (2022)",
            "Niue:<br>0.00052 (2022)",
            "Netherlands:<br>0.00325 (2022)",
            "Norway:<br>0.00865 (2022)",
            "Nepal:<br>0.00599 (2022)",
            "Nauru:<br>0.00829 (2022)",
            "New Zealand:<br>0.00632 (2022)",
            "Oman:<br>0.01210 (2022)",
            "Pakistan:<br>0.00873 (2022)",
            "Panama:<br>0.00318 (2022)",
            "Peru:<br>0.00647 (2022)",
            "Philippines:<br>0.02229 (2022)",
            "Palau:<br>0.00626 (2022)",
            "Papua New Guinea:<br>0.00124 (2022)",
            "Poland:<br>0.00590 (2022)",
            "Puerto Rico:<br>0.00209 (2022)",
            "North Korea:<br>0.00000 (2022)",
            "Portugal:<br>0.00415 (2022)",
            "Paraguay:<br>0.00282 (2022)",
            "Palestine:<br>0.00542 (2022)",
            "French Polynesia:<br>0.00253 (2022)",
            "Qatar:<br>0.02270 (2022)",
            "Réunion:<br>0.00465 (2022)",
            "Romania:<br>0.00490 (2022)",
            "Russian Federation:<br>0.00062 (2022)",
            "Rwanda:<br>0.00013 (2022)",
            "Saudi Arabia:<br>0.01655 (2022)",
            "Sudan:<br>0.00072 (2022)",
            "Senegal:<br>0.00022 (2022)",
            "Singapore:<br>0.01252 (2022)",
            "Saint Helena, Ascension and Tristan da Cunha:<br>0.00019 (2022)",
            "Solomon Islands:<br>0.00217 (2022)",
            "Sierra Leone:<br>0.00019 (2022)",
            "El Salvador:<br>0.00736 (2022)",
            "San Marino:<br>0.00107 (2022)",
            "Somalia:<br>0.00127 (2022)",
            "Saint Pierre and Miquelon:<br>0.01024 (2022)",
            "Serbia:<br>0.00382 (2022)",
            "South Sudan:<br>0.00026 (2022)",
            "Sao Tome and Principe:<br>0.00198 (2022)",
            "Suriname:<br>0.00501 (2022)",
            "Slovakia:<br>0.00704 (2022)",
            "Slovenia:<br>0.00698 (2022)",
            "Sweden:<br>0.00463 (2022)",
            "Eswatini:<br>0.00069 (2022)",
            "Sint Maarten (Dutch part):<br>0.00394 (2022)",
            "Seychelles:<br>0.00450 (2022)",
            "Syrian Arab Republic:<br>0.00283 (2022)",
            "Turks and Caicos Islands:<br>0.00494 (2022)",
            "Chad:<br>0.00007 (2022)",
            "Togo:<br>0.00033 (2022)",
            "Thailand:<br>0.00734 (2022)",
            "Tajikistan:<br>0.00089 (2022)",
            "Tokelau:<br>0.00214 (2022)",
            "Turkmenistan:<br>0.00003 (2022)",
            "Timor-Leste:<br>0.00294 (2022)",
            "Tonga:<br>0.00671 (2022)",
            "Trinidad and Tobago:<br>0.00608 (2022)",
            "Tunisia:<br>0.00742 (2022)",
            "Türkiye:<br>0.00324 (2022)",
            "Tuvalu:<br>0.00442 (2022)",
            "Taiwan:<br>0.00305 (2022)",
            "Tanzania:<br>0.00013 (2022)",
            "Uganda:<br>0.00012 (2022)",
            "Ukraine:<br>0.00132 (2022)",
            "Uruguay:<br>0.00241 (2022)",
            "United States of America:<br>0.00953 (2022)",
            "Uzbekistan:<br>0.00060 (2022)",
            "Saint Vincent and the Grenadines:<br>0.00676 (2022)",
            "Venezuela:<br>0.01064 (2022)",
            "British Virgin Islands:<br>0.00575 (2022)",
            "U.S. Virgin Islands:<br>0.00283 (2022)",
            "Viet Nam:<br>0.00975 (2022)",
            "Vanuatu:<br>0.00570 (2022)",
            "Wallis and Futuna:<br>0.00069 (2022)",
            "Samoa:<br>0.00381 (2022)",
            "Kosovo:<br>0.00304 (2022)",
            "Yemen:<br>0.00628 (2022)",
            "South Africa:<br>0.00138 (2022)",
            "Zambia:<br>0.00039 (2022)",
            "Zimbabwe:<br>0.00012 (2022)"
           ],
           "locations": [
            "ABW",
            "AFG",
            "AGO",
            "AIA",
            "ALB",
            "AND",
            "ARE",
            "ARG",
            "ARM",
            "ASM",
            "ATG",
            "AUS",
            "AUT",
            "AZE",
            "BDI",
            "BEL",
            "BEN",
            "BES",
            "BFA",
            "BGD",
            "BGR",
            "BHR",
            "BHS",
            "BIH",
            "BLM",
            "BLR",
            "BLZ",
            "BMU",
            "BOL",
            "BRA",
            "BRB",
            "BRN",
            "BTN",
            "BWA",
            "CAF",
            "CAN",
            "CHE",
            "CHL",
            "CHN",
            "CIV",
            "CMR",
            "COD",
            "COG",
            "COK",
            "COL",
            "COM",
            "CPV",
            "CRI",
            "CUB",
            "CUW",
            "CYM",
            "CYP",
            "CZE",
            "DEU",
            "DJI",
            "DMA",
            "DNK",
            "DOM",
            "DZA",
            "ECU",
            "EGY",
            "ERI",
            "ESH",
            "ESP",
            "EST",
            "ETH",
            "FIN",
            "FJI",
            "FLK",
            "FRA",
            "FRO",
            "FSM",
            "GAB",
            "GBR",
            "GEO",
            "GGY",
            "GHA",
            "GIB",
            "GIN",
            "GLP",
            "GMB",
            "GNB",
            "GNQ",
            "GRC",
            "GRD",
            "GRL",
            "GTM",
            "GUF",
            "GUM",
            "GUY",
            "HKG",
            "HND",
            "HRV",
            "HTI",
            "HUN",
            "IDN",
            "IMN",
            "IND",
            "IRL",
            "IRN",
            "IRQ",
            "ISL",
            "ISR",
            "ITA",
            "JAM",
            "JEY",
            "JOR",
            "JPN",
            "KAZ",
            "KEN",
            "KGZ",
            "KHM",
            "KIR",
            "KNA",
            "KOR",
            "KWT",
            "LAO",
            "LBN",
            "LBR",
            "LBY",
            "LCA",
            "LIE",
            "LKA",
            "LSO",
            "LTU",
            "LUX",
            "LVA",
            "MAC",
            "MAF",
            "MAR",
            "MCO",
            "MDA",
            "MDG",
            "MDV",
            "MEX",
            "MHL",
            "MKD",
            "MLI",
            "MLT",
            "MMR",
            "MNE",
            "MNG",
            "MNP",
            "MOZ",
            "MRT",
            "MSR",
            "MTQ",
            "MUS",
            "MWI",
            "MYS",
            "MYT",
            "NAM",
            "NCL",
            "NER",
            "NGA",
            "NIC",
            "NIU",
            "NLD",
            "NOR",
            "NPL",
            "NRU",
            "NZL",
            "OMN",
            "PAK",
            "PAN",
            "PER",
            "PHL",
            "PLW",
            "PNG",
            "POL",
            "PRI",
            "PRK",
            "PRT",
            "PRY",
            "PSE",
            "PYF",
            "QAT",
            "REU",
            "ROU",
            "RUS",
            "RWA",
            "SAU",
            "SDN",
            "SEN",
            "SGP",
            "SHN",
            "SLB",
            "SLE",
            "SLV",
            "SMR",
            "SOM",
            "SPM",
            "SRB",
            "SSD",
            "STP",
            "SUR",
            "SVK",
            "SVN",
            "SWE",
            "SWZ",
            "SXM",
            "SYC",
            "SYR",
            "TCA",
            "TCD",
            "TGO",
            "THA",
            "TJK",
            "TKL",
            "TKM",
            "TLS",
            "TON",
            "TTO",
            "TUN",
            "TUR",
            "TUV",
            "TWN",
            "TZA",
            "UGA",
            "UKR",
            "URY",
            "USA",
            "UZB",
            "VCT",
            "VEN",
            "VGB",
            "VIR",
            "VNM",
            "VUT",
            "WLF",
            "WSM",
            "XKX",
            "YEM",
            "ZAF",
            "ZMB",
            "ZWE"
           ],
           "name": "",
           "type": "choropleth",
           "z": [
            0.006820423692986989,
            0.005468629247394725,
            0.0006362642465771785,
            0.004918963233903008,
            0.004002362857678636,
            0.00253056724794548,
            0.028101194253356776,
            0.002989212248527905,
            0.0014281763256486586,
            0.005036929957310325,
            0.0037434809039813147,
            0.006954468458954731,
            0.0020695517492527924,
            0.000972864260286227,
            0.00017642161569770675,
            0.0043115392765742415,
            0.0004645445351648905,
            0.003293003293003293,
            0.00013456081968223887,
            0.012530775449048156,
            0.0047091155010953335,
            0.017589607079857603,
            0.0036903879175772714,
            0.0037466828017826974,
            0.0012765569435579465,
            0.0006919801928797776,
            0.01505898493114518,
            0.004284556898915617,
            0.0037874331955455244,
            0.002838790905714606,
            0.008827027890709606,
            0.006654758776130173,
            0.008705931970528656,
            0.0017085529537360054,
            0.000044451263491316946,
            0.00463666936623283,
            0.0015935066206950838,
            0.0032852926531900836,
            0.000005153282317142845,
            0.0009629075689343064,
            0.00035576445348171095,
            0.00012172481763800284,
            0.0003855672561948699,
            0.005349479748398095,
            0.01249000848671389,
            0.005012106016678338,
            0.006042316446092894,
            0.004735342548460874,
            0.001102549894128632,
            0.0027620263229478355,
            0.004890402584927081,
            0.0058817936074548,
            0.005907574109590007,
            0.0016575897833944584,
            0.0015916506148464244,
            0.0054167010365971015,
            0.005136629412290714,
            0.011633901724856064,
            0.01628317342462596,
            0.009350258318982278,
            0.0038836255517304998,
            0.0000618887132359328,
            0.000020833839711381875,
            0.0016343406023260133,
            0.0048323532383855354,
            0.00009033884564283858,
            0.001967966046449341,
            0.0065027114349201845,
            0.006613756613756613,
            0.003519679225721014,
            0.007760406856281786,
            0.002548964647349427,
            0.0010213508369425947,
            0.0046941933731558146,
            0.0034627840185280042,
            0.0038703358503680767,
            0.0006544714147832454,
            0.0036754571349811634,
            0.0003289478193804453,
            0.0015059898472026744,
            0.00016149345600430451,
            0.00010543483319924429,
            0.00015881469310553178,
            0.004173820032814728,
            0.006704507406049204,
            0.006712003683632628,
            0.004897469769514615,
            0.0020094760586688207,
            0.0036559452772522193,
            0.005125345296181896,
            0.005018250429137125,
            0.006776377714260519,
            0.0029012311065170888,
            0.0004513596724591014,
            0.010979293506330897,
            0.006816703711193215,
            0.006105063890203502,
            0.00400467925030359,
            0.003935809475764909,
            0.0029787385897120707,
            0.020358695528567637,
            0.007345152440741327,
            0.0024617436735123793,
            0.0016347582892858865,
            0.002105485048509626,
            0.006228617337220953,
            0.006499721022811801,
            0.0007463391463829312,
            0.0008792144426450606,
            0.0004024803152513831,
            0.0010546520289269952,
            0.013594772660667961,
            0.0019050231650816873,
            0.006126988123714801,
            0.0013394946445882058,
            0.013693543940051624,
            0.0035204313713771544,
            0.004528994087151668,
            0.0012022220457915535,
            0.02397648620349451,
            0.0046369914043300825,
            0.0012205355099549928,
            0.006688532591601292,
            0.0011744164564021743,
            0.00603733379877857,
            0.0030945075579177856,
            0.0019928122590374955,
            0.0014456916231880305,
            0.001572772168223711,
            0.006892311385472534,
            0.010721434643121554,
            0.002557901079011401,
            0.0019092781998367267,
            0.014916368676580366,
            0.006398161577924152,
            0.0031754432389521038,
            0.004475069007961888,
            0.00012968279367365728,
            0.008837659342266626,
            0.004678188384325189,
            0.004111098530816495,
            0.0075671661027682125,
            0.0031886339327157876,
            0.0003734358393278349,
            0.001394807035857689,
            0.005466970387243736,
            0.0019482622099715107,
            0.004425653863231828,
            0.0000946812049036043,
            0.0058240823576438385,
            0.005590292578066304,
            0.0005134372128228412,
            0.004148976896096237,
            0.000041018045765226365,
            0.0005639943096865409,
            0.011454592659711773,
            0.000517063081695967,
            0.0032459550533266482,
            0.008653522180056047,
            0.005989934390874825,
            0.008288601199873697,
            0.006319030626836807,
            0.012096021718865336,
            0.008734804183899813,
            0.003176305482421668,
            0.006473617053057527,
            0.022293216446672714,
            0.006258654112434228,
            0.0012401136235128225,
            0.005903834659912679,
            0.0020895293854674398,
            3.8359124026440636e-8,
            0.0041548594008391695,
            0.002821519290508534,
            0.005419354248856016,
            0.002533637631048815,
            0.022695447553023575,
            0.004648622455474656,
            0.0048977919675235095,
            0.0006172617952761416,
            0.0001318893685555131,
            0.016554917187648486,
            0.0007242576321936048,
            0.0002248151454146286,
            0.01251604626679869,
            0.00018608113137327876,
            0.0021676909121284378,
            0.00019475423201178565,
            0.007357341528112528,
            0.0010694869433469,
            0.0012677929282158141,
            0.01023541453428864,
            0.003818529624450554,
            0.00026023616982206077,
            0.001979065880904213,
            0.0050093764005947825,
            0.0070432056402347995,
            0.0069792871550925445,
            0.004633746524784899,
            0.0006940335582701089,
            0.0039388794567062815,
            0.004499668592873347,
            0.0028250077547149863,
            0.004944970789663698,
            0.00007092352643960794,
            0.00032965298062460934,
            0.007335478192053423,
            0.0008927147742637313,
            0.002137894174238375,
            0.000027679418222169628,
            0.0029411852417363504,
            0.006709839225888563,
            0.006078201489832108,
            0.007424581686949063,
            0.003237953851643662,
            0.00442008486562942,
            0.0030511360984908174,
            0.00012801966870677753,
            0.00011661478084939794,
            0.0013180279080470506,
            0.0024059291911812395,
            0.009534817356347754,
            0.0006012535703762539,
            0.0067629968830569135,
            0.010642118408734233,
            0.005749880210828941,
            0.002825114361835822,
            0.009751121881323911,
            0.005695642726195978,
            0.0006912641493130563,
            0.0038087615004811543,
            0.0030354627363509616,
            0.006280334279283966,
            0.0013757330756598428,
            0.0003939018892054147,
            0.00011654028295760122
           ]
          }
         ],
         "name": "2022"
        }
       ],
       "layout": {
        "coloraxis": {
         "cmax": 0.04,
         "cmin": 0,
         "colorbar": {
          "tickformat": ".3f",
          "title": {
           "text": "RPC"
          }
         },
         "colorscale": [
          [
           0,
           "#f0f921"
          ],
          [
           0.1111111111111111,
           "#fdca26"
          ],
          [
           0.2222222222222222,
           "#fb9f3a"
          ],
          [
           0.3333333333333333,
           "#ed7953"
          ],
          [
           0.4444444444444444,
           "#d8576b"
          ],
          [
           0.5555555555555556,
           "#bd3786"
          ],
          [
           0.6666666666666666,
           "#9c179e"
          ],
          [
           0.7777777777777778,
           "#7201a8"
          ],
          [
           0.8888888888888888,
           "#46039f"
          ],
          [
           1,
           "#0d0887"
          ]
         ]
        },
        "geo": {
         "center": {},
         "domain": {
          "x": [
           0,
           1
          ],
          "y": [
           0,
           1
          ]
         },
         "lataxis": {
          "range": [
           -58,
           90
          ]
         },
         "oceancolor": "#eaeaec",
         "resolution": 110,
         "showframe": false,
         "showlakes": false,
         "showocean": true
        },
        "legend": {
         "tracegroupgap": 0
        },
        "margin": {
         "b": 0,
         "l": 0,
         "r": 0,
         "t": 0
        },
        "sliders": [
         {
          "active": 0,
          "currentvalue": {
           "prefix": "year="
          },
          "len": 0.9,
          "pad": {
           "b": 10,
           "t": 60
          },
          "steps": [
           {
            "args": [
             [
              "2019"
             ],
             {
              "frame": {
               "duration": 0,
               "redraw": true
              },
              "fromcurrent": true,
              "mode": "immediate",
              "transition": {
               "duration": 0,
               "easing": "linear"
              }
             }
            ],
            "label": "2019",
            "method": "animate"
           },
           {
            "args": [
             [
              "2020"
             ],
             {
              "frame": {
               "duration": 0,
               "redraw": true
              },
              "fromcurrent": true,
              "mode": "immediate",
              "transition": {
               "duration": 0,
               "easing": "linear"
              }
             }
            ],
            "label": "2020",
            "method": "animate"
           },
           {
            "args": [
             [
              "2021"
             ],
             {
              "frame": {
               "duration": 0,
               "redraw": true
              },
              "fromcurrent": true,
              "mode": "immediate",
              "transition": {
               "duration": 0,
               "easing": "linear"
              }
             }
            ],
            "label": "2021",
            "method": "animate"
           },
           {
            "args": [
             [
              "2022"
             ],
             {
              "frame": {
               "duration": 0,
               "redraw": true
              },
              "fromcurrent": true,
              "mode": "immediate",
              "transition": {
               "duration": 0,
               "easing": "linear"
              }
             }
            ],
            "label": "2022",
            "method": "animate"
           }
          ],
          "x": 0.1,
          "xanchor": "left",
          "y": 0,
          "yanchor": "top"
         }
        ],
        "template": {
         "data": {
          "bar": [
           {
            "error_x": {
             "color": "#2a3f5f"
            },
            "error_y": {
             "color": "#2a3f5f"
            },
            "marker": {
             "line": {
              "color": "#E5ECF6",
              "width": 0.5
             },
             "pattern": {
              "fillmode": "overlay",
              "size": 10,
              "solidity": 0.2
             }
            },
            "type": "bar"
           }
          ],
          "barpolar": [
           {
            "marker": {
             "line": {
              "color": "#E5ECF6",
              "width": 0.5
             },
             "pattern": {
              "fillmode": "overlay",
              "size": 10,
              "solidity": 0.2
             }
            },
            "type": "barpolar"
           }
          ],
          "carpet": [
           {
            "aaxis": {
             "endlinecolor": "#2a3f5f",
             "gridcolor": "white",
             "linecolor": "white",
             "minorgridcolor": "white",
             "startlinecolor": "#2a3f5f"
            },
            "baxis": {
             "endlinecolor": "#2a3f5f",
             "gridcolor": "white",
             "linecolor": "white",
             "minorgridcolor": "white",
             "startlinecolor": "#2a3f5f"
            },
            "type": "carpet"
           }
          ],
          "choropleth": [
           {
            "colorbar": {
             "outlinewidth": 0,
             "ticks": ""
            },
            "type": "choropleth"
           }
          ],
          "contour": [
           {
            "colorbar": {
             "outlinewidth": 0,
             "ticks": ""
            },
            "colorscale": [
             [
              0,
              "#0d0887"
             ],
             [
              0.1111111111111111,
              "#46039f"
             ],
             [
              0.2222222222222222,
              "#7201a8"
             ],
             [
              0.3333333333333333,
              "#9c179e"
             ],
             [
              0.4444444444444444,
              "#bd3786"
             ],
             [
              0.5555555555555556,
              "#d8576b"
             ],
             [
              0.6666666666666666,
              "#ed7953"
             ],
             [
              0.7777777777777778,
              "#fb9f3a"
             ],
             [
              0.8888888888888888,
              "#fdca26"
             ],
             [
              1,
              "#f0f921"
             ]
            ],
            "type": "contour"
           }
          ],
          "contourcarpet": [
           {
            "colorbar": {
             "outlinewidth": 0,
             "ticks": ""
            },
            "type": "contourcarpet"
           }
          ],
          "heatmap": [
           {
            "colorbar": {
             "outlinewidth": 0,
             "ticks": ""
            },
            "colorscale": [
             [
              0,
              "#0d0887"
             ],
             [
              0.1111111111111111,
              "#46039f"
             ],
             [
              0.2222222222222222,
              "#7201a8"
             ],
             [
              0.3333333333333333,
              "#9c179e"
             ],
             [
              0.4444444444444444,
              "#bd3786"
             ],
             [
              0.5555555555555556,
              "#d8576b"
             ],
             [
              0.6666666666666666,
              "#ed7953"
             ],
             [
              0.7777777777777778,
              "#fb9f3a"
             ],
             [
              0.8888888888888888,
              "#fdca26"
             ],
             [
              1,
              "#f0f921"
             ]
            ],
            "type": "heatmap"
           }
          ],
          "heatmapgl": [
           {
            "colorbar": {
             "outlinewidth": 0,
             "ticks": ""
            },
            "colorscale": [
             [
              0,
              "#0d0887"
             ],
             [
              0.1111111111111111,
              "#46039f"
             ],
             [
              0.2222222222222222,
              "#7201a8"
             ],
             [
              0.3333333333333333,
              "#9c179e"
             ],
             [
              0.4444444444444444,
              "#bd3786"
             ],
             [
              0.5555555555555556,
              "#d8576b"
             ],
             [
              0.6666666666666666,
              "#ed7953"
             ],
             [
              0.7777777777777778,
              "#fb9f3a"
             ],
             [
              0.8888888888888888,
              "#fdca26"
             ],
             [
              1,
              "#f0f921"
             ]
            ],
            "type": "heatmapgl"
           }
          ],
          "histogram": [
           {
            "marker": {
             "pattern": {
              "fillmode": "overlay",
              "size": 10,
              "solidity": 0.2
             }
            },
            "type": "histogram"
           }
          ],
          "histogram2d": [
           {
            "colorbar": {
             "outlinewidth": 0,
             "ticks": ""
            },
            "colorscale": [
             [
              0,
              "#0d0887"
             ],
             [
              0.1111111111111111,
              "#46039f"
             ],
             [
              0.2222222222222222,
              "#7201a8"
             ],
             [
              0.3333333333333333,
              "#9c179e"
             ],
             [
              0.4444444444444444,
              "#bd3786"
             ],
             [
              0.5555555555555556,
              "#d8576b"
             ],
             [
              0.6666666666666666,
              "#ed7953"
             ],
             [
              0.7777777777777778,
              "#fb9f3a"
             ],
             [
              0.8888888888888888,
              "#fdca26"
             ],
             [
              1,
              "#f0f921"
             ]
            ],
            "type": "histogram2d"
           }
          ],
          "histogram2dcontour": [
           {
            "colorbar": {
             "outlinewidth": 0,
             "ticks": ""
            },
            "colorscale": [
             [
              0,
              "#0d0887"
             ],
             [
              0.1111111111111111,
              "#46039f"
             ],
             [
              0.2222222222222222,
              "#7201a8"
             ],
             [
              0.3333333333333333,
              "#9c179e"
             ],
             [
              0.4444444444444444,
              "#bd3786"
             ],
             [
              0.5555555555555556,
              "#d8576b"
             ],
             [
              0.6666666666666666,
              "#ed7953"
             ],
             [
              0.7777777777777778,
              "#fb9f3a"
             ],
             [
              0.8888888888888888,
              "#fdca26"
             ],
             [
              1,
              "#f0f921"
             ]
            ],
            "type": "histogram2dcontour"
           }
          ],
          "mesh3d": [
           {
            "colorbar": {
             "outlinewidth": 0,
             "ticks": ""
            },
            "type": "mesh3d"
           }
          ],
          "parcoords": [
           {
            "line": {
             "colorbar": {
              "outlinewidth": 0,
              "ticks": ""
             }
            },
            "type": "parcoords"
           }
          ],
          "pie": [
           {
            "automargin": true,
            "type": "pie"
           }
          ],
          "scatter": [
           {
            "fillpattern": {
             "fillmode": "overlay",
             "size": 10,
             "solidity": 0.2
            },
            "type": "scatter"
           }
          ],
          "scatter3d": [
           {
            "line": {
             "colorbar": {
              "outlinewidth": 0,
              "ticks": ""
             }
            },
            "marker": {
             "colorbar": {
              "outlinewidth": 0,
              "ticks": ""
             }
            },
            "type": "scatter3d"
           }
          ],
          "scattercarpet": [
           {
            "marker": {
             "colorbar": {
              "outlinewidth": 0,
              "ticks": ""
             }
            },
            "type": "scattercarpet"
           }
          ],
          "scattergeo": [
           {
            "marker": {
             "colorbar": {
              "outlinewidth": 0,
              "ticks": ""
             }
            },
            "type": "scattergeo"
           }
          ],
          "scattergl": [
           {
            "marker": {
             "colorbar": {
              "outlinewidth": 0,
              "ticks": ""
             }
            },
            "type": "scattergl"
           }
          ],
          "scattermapbox": [
           {
            "marker": {
             "colorbar": {
              "outlinewidth": 0,
              "ticks": ""
             }
            },
            "type": "scattermapbox"
           }
          ],
          "scatterpolar": [
           {
            "marker": {
             "colorbar": {
              "outlinewidth": 0,
              "ticks": ""
             }
            },
            "type": "scatterpolar"
           }
          ],
          "scatterpolargl": [
           {
            "marker": {
             "colorbar": {
              "outlinewidth": 0,
              "ticks": ""
             }
            },
            "type": "scatterpolargl"
           }
          ],
          "scatterternary": [
           {
            "marker": {
             "colorbar": {
              "outlinewidth": 0,
              "ticks": ""
             }
            },
            "type": "scatterternary"
           }
          ],
          "surface": [
           {
            "colorbar": {
             "outlinewidth": 0,
             "ticks": ""
            },
            "colorscale": [
             [
              0,
              "#0d0887"
             ],
             [
              0.1111111111111111,
              "#46039f"
             ],
             [
              0.2222222222222222,
              "#7201a8"
             ],
             [
              0.3333333333333333,
              "#9c179e"
             ],
             [
              0.4444444444444444,
              "#bd3786"
             ],
             [
              0.5555555555555556,
              "#d8576b"
             ],
             [
              0.6666666666666666,
              "#ed7953"
             ],
             [
              0.7777777777777778,
              "#fb9f3a"
             ],
             [
              0.8888888888888888,
              "#fdca26"
             ],
             [
              1,
              "#f0f921"
             ]
            ],
            "type": "surface"
           }
          ],
          "table": [
           {
            "cells": {
             "fill": {
              "color": "#EBF0F8"
             },
             "line": {
              "color": "white"
             }
            },
            "header": {
             "fill": {
              "color": "#C8D4E3"
             },
             "line": {
              "color": "white"
             }
            },
            "type": "table"
           }
          ]
         },
         "layout": {
          "annotationdefaults": {
           "arrowcolor": "#2a3f5f",
           "arrowhead": 0,
           "arrowwidth": 1
          },
          "autotypenumbers": "strict",
          "coloraxis": {
           "colorbar": {
            "outlinewidth": 0,
            "ticks": ""
           }
          },
          "colorscale": {
           "diverging": [
            [
             0,
             "#8e0152"
            ],
            [
             0.1,
             "#c51b7d"
            ],
            [
             0.2,
             "#de77ae"
            ],
            [
             0.3,
             "#f1b6da"
            ],
            [
             0.4,
             "#fde0ef"
            ],
            [
             0.5,
             "#f7f7f7"
            ],
            [
             0.6,
             "#e6f5d0"
            ],
            [
             0.7,
             "#b8e186"
            ],
            [
             0.8,
             "#7fbc41"
            ],
            [
             0.9,
             "#4d9221"
            ],
            [
             1,
             "#276419"
            ]
           ],
           "sequential": [
            [
             0,
             "#0d0887"
            ],
            [
             0.1111111111111111,
             "#46039f"
            ],
            [
             0.2222222222222222,
             "#7201a8"
            ],
            [
             0.3333333333333333,
             "#9c179e"
            ],
            [
             0.4444444444444444,
             "#bd3786"
            ],
            [
             0.5555555555555556,
             "#d8576b"
            ],
            [
             0.6666666666666666,
             "#ed7953"
            ],
            [
             0.7777777777777778,
             "#fb9f3a"
            ],
            [
             0.8888888888888888,
             "#fdca26"
            ],
            [
             1,
             "#f0f921"
            ]
           ],
           "sequentialminus": [
            [
             0,
             "#0d0887"
            ],
            [
             0.1111111111111111,
             "#46039f"
            ],
            [
             0.2222222222222222,
             "#7201a8"
            ],
            [
             0.3333333333333333,
             "#9c179e"
            ],
            [
             0.4444444444444444,
             "#bd3786"
            ],
            [
             0.5555555555555556,
             "#d8576b"
            ],
            [
             0.6666666666666666,
             "#ed7953"
            ],
            [
             0.7777777777777778,
             "#fb9f3a"
            ],
            [
             0.8888888888888888,
             "#fdca26"
            ],
            [
             1,
             "#f0f921"
            ]
           ]
          },
          "colorway": [
           "#636efa",
           "#EF553B",
           "#00cc96",
           "#ab63fa",
           "#FFA15A",
           "#19d3f3",
           "#FF6692",
           "#B6E880",
           "#FF97FF",
           "#FECB52"
          ],
          "font": {
           "color": "#2a3f5f"
          },
          "geo": {
           "bgcolor": "white",
           "lakecolor": "white",
           "landcolor": "#E5ECF6",
           "showlakes": true,
           "showland": true,
           "subunitcolor": "white"
          },
          "hoverlabel": {
           "align": "left"
          },
          "hovermode": "closest",
          "mapbox": {
           "style": "light"
          },
          "paper_bgcolor": "white",
          "plot_bgcolor": "#E5ECF6",
          "polar": {
           "angularaxis": {
            "gridcolor": "white",
            "linecolor": "white",
            "ticks": ""
           },
           "bgcolor": "#E5ECF6",
           "radialaxis": {
            "gridcolor": "white",
            "linecolor": "white",
            "ticks": ""
           }
          },
          "scene": {
           "xaxis": {
            "backgroundcolor": "#E5ECF6",
            "gridcolor": "white",
            "gridwidth": 2,
            "linecolor": "white",
            "showbackground": true,
            "ticks": "",
            "zerolinecolor": "white"
           },
           "yaxis": {
            "backgroundcolor": "#E5ECF6",
            "gridcolor": "white",
            "gridwidth": 2,
            "linecolor": "white",
            "showbackground": true,
            "ticks": "",
            "zerolinecolor": "white"
           },
           "zaxis": {
            "backgroundcolor": "#E5ECF6",
            "gridcolor": "white",
            "gridwidth": 2,
            "linecolor": "white",
            "showbackground": true,
            "ticks": "",
            "zerolinecolor": "white"
           }
          },
          "shapedefaults": {
           "line": {
            "color": "#2a3f5f"
           }
          },
          "ternary": {
           "aaxis": {
            "gridcolor": "white",
            "linecolor": "white",
            "ticks": ""
           },
           "baxis": {
            "gridcolor": "white",
            "linecolor": "white",
            "ticks": ""
           },
           "bgcolor": "#E5ECF6",
           "caxis": {
            "gridcolor": "white",
            "linecolor": "white",
            "ticks": ""
           }
          },
          "title": {
           "x": 0.05
          },
          "xaxis": {
           "automargin": true,
           "gridcolor": "white",
           "linecolor": "white",
           "ticks": "",
           "title": {
            "standoff": 15
           },
           "zerolinecolor": "white",
           "zerolinewidth": 2
          },
          "yaxis": {
           "automargin": true,
           "gridcolor": "white",
           "linecolor": "white",
           "ticks": "",
           "title": {
            "standoff": 15
           },
           "zerolinecolor": "white",
           "zerolinewidth": 2
          }
         }
        },
        "updatemenus": [
         {
          "buttons": [
           {
            "args": [
             null,
             {
              "frame": {
               "duration": 500,
               "redraw": true
              },
              "fromcurrent": true,
              "mode": "immediate",
              "transition": {
               "duration": 500,
               "easing": "linear"
              }
             }
            ],
            "label": "&#9654;",
            "method": "animate"
           },
           {
            "args": [
             [
              null
             ],
             {
              "frame": {
               "duration": 0,
               "redraw": true
              },
              "fromcurrent": true,
              "mode": "immediate",
              "transition": {
               "duration": 0,
               "easing": "linear"
              }
             }
            ],
            "label": "&#9724;",
            "method": "animate"
           }
          ],
          "direction": "left",
          "pad": {
           "r": 10,
           "t": 70
          },
          "showactive": false,
          "type": "buttons",
          "x": 0.1,
          "xanchor": "right",
          "y": 0,
          "yanchor": "top"
         }
        ]
       }
      }
     },
     "metadata": {},
     "output_type": "display_data"
    }
   ],
   "source": [
    "import plotly.express as px\n",
    "\n",
    "map_data = country_data.reports_per_capita.copy()\n",
    "map_data = map_data.reset_index()\n",
    "\n",
    "# The text for hover labels (without clunky hover data)\n",
    "map_data['labels'] = (\n",
    "    map_data['country'].astype(str)\n",
    "    + ':<br>'\n",
    "    + map_data['reports_per_capita'].apply(lambda v: f'{v:.5f}')\n",
    "    + ' ('\n",
    "    + map_data['year'].astype(str)\n",
    "    + ')'\n",
    ")\n",
    "\n",
    "fig = px.choropleth(\n",
    "    map_data,\n",
    "    locations='iso3',\n",
    "    color='reports_per_capita',\n",
    "    color_continuous_scale=px.colors.sequential.Plasma_r,\n",
    "    range_color=(0, 0.040),\n",
    "    hover_name='labels',\n",
    "    hover_data={'iso3': False, 'reports_per_capita': False, 'year': False},\n",
    "    labels={'reports_per_capita': 'RPC'},\n",
    "    animation_frame='year',\n",
    ")\n",
    "fig.update_geos(\n",
    "    resolution=110,\n",
    "    showframe=False,\n",
    "    showocean=True,\n",
    "    oceancolor='#eaeaec',\n",
    "    showlakes=False,\n",
    "    lataxis_range=[-58, 90], # Crop Antarctica out of map.\n",
    ")\n",
    "fig.update_layout(\n",
    "    margin={'t': 0, 'r': 0, 'b': 0, 'l': 0},\n",
    "    coloraxis=dict(\n",
    "        #colorbar_len=0.76, # Only needed without animation, adjusts for crop\n",
    "        colorbar_tickformat='.3f',\n",
    "    ),\n",
    "    # paper_bgcolor='#000', # Can be helpful when debugging size issues\n",
    ")\n",
    "\n",
    "show_html(\n",
    "    h2='CSAM Reports Per Capita Per Country Per Year',\n",
    "    p='With RPC standing for Reports Per Capita'\n",
    ")\n",
    "fig.show()"
   ]
  },
  {
   "cell_type": "code",
   "execution_count": 5,
   "metadata": {},
   "outputs": [
    {
     "data": {
      "text/html": [
       "<h2>CSAM Reports per Social Media Platform</h2>"
      ],
      "text/plain": [
       "<IPython.core.display.HTML object>"
      ]
     },
     "metadata": {},
     "output_type": "display_data"
    },
    {
     "data": {
      "text/html": [
       "<style type=\"text/css\">\n",
       "#T_2c453 caption {\n",
       "  caption-side: bottom;\n",
       "  font-style: italic;\n",
       "  margin-top: 1ex;\n",
       "}\n",
       "#T_2c453_row1_col1, #T_2c453_row1_col2, #T_2c453_row1_col3 {\n",
       "  color: #d95100;\n",
       "  background-color: #ffeada;\n",
       "}\n",
       "#T_2c453_row2_col1, #T_2c453_row2_col2, #T_2c453_row2_col3 {\n",
       "  color: #d900c7;\n",
       "  background-color: #ffe5fa;\n",
       "}\n",
       "</style>\n",
       "<table id=\"T_2c453\">\n",
       "  <caption>Pinterest</caption>\n",
       "  <thead>\n",
       "    <tr>\n",
       "      <th class=\"blank level0\" >&nbsp;</th>\n",
       "      <th id=\"T_2c453_level0_col0\" class=\"col_heading level0 col0\" >pieces</th>\n",
       "      <th id=\"T_2c453_level0_col1\" class=\"col_heading level0 col1\" >reports</th>\n",
       "      <th id=\"T_2c453_level0_col2\" class=\"col_heading level0 col2\" >Δ%</th>\n",
       "      <th id=\"T_2c453_level0_col3\" class=\"col_heading level0 col3\" >NCMEC</th>\n",
       "    </tr>\n",
       "    <tr>\n",
       "      <th class=\"index_name level0\" >year</th>\n",
       "      <th class=\"blank col0\" >&nbsp;</th>\n",
       "      <th class=\"blank col1\" >&nbsp;</th>\n",
       "      <th class=\"blank col2\" >&nbsp;</th>\n",
       "      <th class=\"blank col3\" >&nbsp;</th>\n",
       "    </tr>\n",
       "  </thead>\n",
       "  <tbody>\n",
       "    <tr>\n",
       "      <th id=\"T_2c453_level0_row0\" class=\"row_heading level0 row0\" >2020</th>\n",
       "      <td id=\"T_2c453_row0_col0\" class=\"data row0 col0\" ><NA></td>\n",
       "      <td id=\"T_2c453_row0_col1\" class=\"data row0 col1\" >3,432</td>\n",
       "      <td id=\"T_2c453_row0_col2\" class=\"data row0 col2\" >0.000000</td>\n",
       "      <td id=\"T_2c453_row0_col3\" class=\"data row0 col3\" >3,432</td>\n",
       "    </tr>\n",
       "    <tr>\n",
       "      <th id=\"T_2c453_level0_row1\" class=\"row_heading level0 row1\" >2021</th>\n",
       "      <td id=\"T_2c453_row1_col0\" class=\"data row1 col0\" >1,608</td>\n",
       "      <td id=\"T_2c453_row1_col1\" class=\"data row1 col1\" >2,684</td>\n",
       "      <td id=\"T_2c453_row1_col2\" class=\"data row1 col2\" >-14.940387</td>\n",
       "      <td id=\"T_2c453_row1_col3\" class=\"data row1 col3\" >2,283</td>\n",
       "    </tr>\n",
       "    <tr>\n",
       "      <th id=\"T_2c453_level0_row2\" class=\"row_heading level0 row2\" >2022</th>\n",
       "      <td id=\"T_2c453_row2_col0\" class=\"data row2 col0\" >5,530</td>\n",
       "      <td id=\"T_2c453_row2_col1\" class=\"data row2 col1\" >4,969</td>\n",
       "      <td id=\"T_2c453_row2_col2\" class=\"data row2 col2\" >590.480982</td>\n",
       "      <td id=\"T_2c453_row2_col3\" class=\"data row2 col3\" >34,310</td>\n",
       "    </tr>\n",
       "  </tbody>\n",
       "</table>\n"
      ],
      "text/plain": [
       "<IPython.core.display.HTML object>"
      ]
     },
     "metadata": {},
     "output_type": "display_data"
    },
    {
     "data": {
      "text/html": [
       "<style type=\"text/css\">\n",
       "#T_fee70 caption {\n",
       "  caption-side: bottom;\n",
       "  font-style: italic;\n",
       "  margin-top: 1ex;\n",
       "}\n",
       "</style>\n",
       "<table id=\"T_fee70\">\n",
       "  <caption>Reddit</caption>\n",
       "  <thead>\n",
       "    <tr>\n",
       "      <th class=\"blank level0\" >&nbsp;</th>\n",
       "      <th id=\"T_fee70_level0_col0\" class=\"col_heading level0 col0\" >pieces</th>\n",
       "      <th id=\"T_fee70_level0_col1\" class=\"col_heading level0 col1\" >reports</th>\n",
       "      <th id=\"T_fee70_level0_col2\" class=\"col_heading level0 col2\" >Δ%</th>\n",
       "      <th id=\"T_fee70_level0_col3\" class=\"col_heading level0 col3\" >NCMEC</th>\n",
       "    </tr>\n",
       "    <tr>\n",
       "      <th class=\"index_name level0\" >year</th>\n",
       "      <th class=\"blank col0\" >&nbsp;</th>\n",
       "      <th class=\"blank col1\" >&nbsp;</th>\n",
       "      <th class=\"blank col2\" >&nbsp;</th>\n",
       "      <th class=\"blank col3\" >&nbsp;</th>\n",
       "    </tr>\n",
       "  </thead>\n",
       "  <tbody>\n",
       "    <tr>\n",
       "      <th id=\"T_fee70_level0_row0\" class=\"row_heading level0 row0\" >2019</th>\n",
       "      <td id=\"T_fee70_row0_col0\" class=\"data row0 col0\" ><NA></td>\n",
       "      <td id=\"T_fee70_row0_col1\" class=\"data row0 col1\" >724</td>\n",
       "      <td id=\"T_fee70_row0_col2\" class=\"data row0 col2\" >0.000000</td>\n",
       "      <td id=\"T_fee70_row0_col3\" class=\"data row0 col3\" >724</td>\n",
       "    </tr>\n",
       "    <tr>\n",
       "      <th id=\"T_fee70_level0_row1\" class=\"row_heading level0 row1\" >2020</th>\n",
       "      <td id=\"T_fee70_row1_col0\" class=\"data row1 col0\" ><NA></td>\n",
       "      <td id=\"T_fee70_row1_col1\" class=\"data row1 col1\" >2,233</td>\n",
       "      <td id=\"T_fee70_row1_col2\" class=\"data row1 col2\" >0.000000</td>\n",
       "      <td id=\"T_fee70_row1_col3\" class=\"data row1 col3\" >2,233</td>\n",
       "    </tr>\n",
       "    <tr>\n",
       "      <th id=\"T_fee70_level0_row2\" class=\"row_heading level0 row2\" >2021</th>\n",
       "      <td id=\"T_fee70_row2_col0\" class=\"data row2 col0\" >9,258</td>\n",
       "      <td id=\"T_fee70_row2_col1\" class=\"data row2 col1\" >10,059</td>\n",
       "      <td id=\"T_fee70_row2_col2\" class=\"data row2 col2\" >0.000000</td>\n",
       "      <td id=\"T_fee70_row2_col3\" class=\"data row2 col3\" >10,059</td>\n",
       "    </tr>\n",
       "    <tr>\n",
       "      <th id=\"T_fee70_level0_row3\" class=\"row_heading level0 row3\" >2022</th>\n",
       "      <td id=\"T_fee70_row3_col0\" class=\"data row3 col0\" >80,888</td>\n",
       "      <td id=\"T_fee70_row3_col1\" class=\"data row3 col1\" >52,592</td>\n",
       "      <td id=\"T_fee70_row3_col2\" class=\"data row3 col2\" >0.000000</td>\n",
       "      <td id=\"T_fee70_row3_col3\" class=\"data row3 col3\" >52,592</td>\n",
       "    </tr>\n",
       "  </tbody>\n",
       "</table>\n"
      ],
      "text/plain": [
       "<IPython.core.display.HTML object>"
      ]
     },
     "metadata": {},
     "output_type": "display_data"
    },
    {
     "data": {
      "text/html": [
       "<style type=\"text/css\">\n",
       "#T_dda37 caption {\n",
       "  caption-side: bottom;\n",
       "  font-style: italic;\n",
       "  margin-top: 1ex;\n",
       "}\n",
       "#T_dda37_row3_col1, #T_dda37_row3_col2, #T_dda37_row3_col3 {\n",
       "  color: #f4002a;\n",
       "  background-color: #ffe8e7;\n",
       "}\n",
       "</style>\n",
       "<table id=\"T_dda37\">\n",
       "  <caption>Snap</caption>\n",
       "  <thead>\n",
       "    <tr>\n",
       "      <th class=\"blank level0\" >&nbsp;</th>\n",
       "      <th id=\"T_dda37_level0_col0\" class=\"col_heading level0 col0\" >pieces</th>\n",
       "      <th id=\"T_dda37_level0_col1\" class=\"col_heading level0 col1\" >reports</th>\n",
       "      <th id=\"T_dda37_level0_col2\" class=\"col_heading level0 col2\" >Δ%</th>\n",
       "      <th id=\"T_dda37_level0_col3\" class=\"col_heading level0 col3\" >NCMEC</th>\n",
       "    </tr>\n",
       "    <tr>\n",
       "      <th class=\"index_name level0\" >year</th>\n",
       "      <th class=\"blank col0\" >&nbsp;</th>\n",
       "      <th class=\"blank col1\" >&nbsp;</th>\n",
       "      <th class=\"blank col2\" >&nbsp;</th>\n",
       "      <th class=\"blank col3\" >&nbsp;</th>\n",
       "    </tr>\n",
       "  </thead>\n",
       "  <tbody>\n",
       "    <tr>\n",
       "      <th id=\"T_dda37_level0_row0\" class=\"row_heading level0 row0\" >2019</th>\n",
       "      <td id=\"T_dda37_row0_col0\" class=\"data row0 col0\" ><NA></td>\n",
       "      <td id=\"T_dda37_row0_col1\" class=\"data row0 col1\" ><NA></td>\n",
       "      <td id=\"T_dda37_row0_col2\" class=\"data row0 col2\" ><NA></td>\n",
       "      <td id=\"T_dda37_row0_col3\" class=\"data row0 col3\" >82,030</td>\n",
       "    </tr>\n",
       "    <tr>\n",
       "      <th id=\"T_dda37_level0_row1\" class=\"row_heading level0 row1\" >2020</th>\n",
       "      <td id=\"T_dda37_row1_col0\" class=\"data row1 col0\" ><NA></td>\n",
       "      <td id=\"T_dda37_row1_col1\" class=\"data row1 col1\" ><NA></td>\n",
       "      <td id=\"T_dda37_row1_col2\" class=\"data row1 col2\" ><NA></td>\n",
       "      <td id=\"T_dda37_row1_col3\" class=\"data row1 col3\" >144,095</td>\n",
       "    </tr>\n",
       "    <tr>\n",
       "      <th id=\"T_dda37_level0_row2\" class=\"row_heading level0 row2\" >2021</th>\n",
       "      <td id=\"T_dda37_row2_col0\" class=\"data row2 col0\" ><NA></td>\n",
       "      <td id=\"T_dda37_row2_col1\" class=\"data row2 col1\" ><NA></td>\n",
       "      <td id=\"T_dda37_row2_col2\" class=\"data row2 col2\" ><NA></td>\n",
       "      <td id=\"T_dda37_row2_col3\" class=\"data row2 col3\" >512,522</td>\n",
       "    </tr>\n",
       "    <tr>\n",
       "      <th id=\"T_dda37_level0_row3\" class=\"row_heading level0 row3\" >2022</th>\n",
       "      <td id=\"T_dda37_row3_col0\" class=\"data row3 col0\" >746,051</td>\n",
       "      <td id=\"T_dda37_row3_col1\" class=\"data row3 col1\" >285,470</td>\n",
       "      <td id=\"T_dda37_row3_col2\" class=\"data row3 col2\" >93.045154</td>\n",
       "      <td id=\"T_dda37_row3_col3\" class=\"data row3 col3\" >551,086</td>\n",
       "    </tr>\n",
       "  </tbody>\n",
       "</table>\n"
      ],
      "text/plain": [
       "<IPython.core.display.HTML object>"
      ]
     },
     "metadata": {},
     "output_type": "display_data"
    },
    {
     "data": {
      "text/html": [
       "<style type=\"text/css\">\n",
       "#T_dd43c caption {\n",
       "  caption-side: bottom;\n",
       "  font-style: italic;\n",
       "  margin-top: 1ex;\n",
       "}\n",
       "</style>\n",
       "<table id=\"T_dd43c\">\n",
       "  <caption>Google/YouTube</caption>\n",
       "  <thead>\n",
       "    <tr>\n",
       "      <th class=\"blank level0\" >&nbsp;</th>\n",
       "      <th id=\"T_dd43c_level0_col0\" class=\"col_heading level0 col0\" >pieces</th>\n",
       "      <th id=\"T_dd43c_level0_col1\" class=\"col_heading level0 col1\" >reports</th>\n",
       "      <th id=\"T_dd43c_level0_col2\" class=\"col_heading level0 col2\" >Δ%</th>\n",
       "      <th id=\"T_dd43c_level0_col3\" class=\"col_heading level0 col3\" >NCMEC</th>\n",
       "    </tr>\n",
       "    <tr>\n",
       "      <th class=\"index_name level0\" >year</th>\n",
       "      <th class=\"blank col0\" >&nbsp;</th>\n",
       "      <th class=\"blank col1\" >&nbsp;</th>\n",
       "      <th class=\"blank col2\" >&nbsp;</th>\n",
       "      <th class=\"blank col3\" >&nbsp;</th>\n",
       "    </tr>\n",
       "  </thead>\n",
       "  <tbody>\n",
       "    <tr>\n",
       "      <th id=\"T_dd43c_level0_row0\" class=\"row_heading level0 row0\" >2020</th>\n",
       "      <td id=\"T_dd43c_row0_col0\" class=\"data row0 col0\" >4,437,853</td>\n",
       "      <td id=\"T_dd43c_row0_col1\" class=\"data row0 col1\" >547,875</td>\n",
       "      <td id=\"T_dd43c_row0_col2\" class=\"data row0 col2\" >-0.213735</td>\n",
       "      <td id=\"T_dd43c_row0_col3\" class=\"data row0 col3\" >546,704</td>\n",
       "    </tr>\n",
       "    <tr>\n",
       "      <th id=\"T_dd43c_level0_row1\" class=\"row_heading level0 row1\" >2021</th>\n",
       "      <td id=\"T_dd43c_row1_col0\" class=\"data row1 col0\" >6,696,497</td>\n",
       "      <td id=\"T_dd43c_row1_col1\" class=\"data row1 col1\" >870,319</td>\n",
       "      <td id=\"T_dd43c_row1_col2\" class=\"data row1 col2\" >0.627816</td>\n",
       "      <td id=\"T_dd43c_row1_col3\" class=\"data row1 col3\" >875,783</td>\n",
       "    </tr>\n",
       "    <tr>\n",
       "      <th id=\"T_dd43c_level0_row2\" class=\"row_heading level0 row2\" >2022</th>\n",
       "      <td id=\"T_dd43c_row2_col0\" class=\"data row2 col0\" >13,402,885</td>\n",
       "      <td id=\"T_dd43c_row2_col1\" class=\"data row2 col1\" >2,174,319</td>\n",
       "      <td id=\"T_dd43c_row2_col2\" class=\"data row2 col2\" >0.010532</td>\n",
       "      <td id=\"T_dd43c_row2_col3\" class=\"data row2 col3\" >2,174,548</td>\n",
       "    </tr>\n",
       "  </tbody>\n",
       "</table>\n"
      ],
      "text/plain": [
       "<IPython.core.display.HTML object>"
      ]
     },
     "metadata": {},
     "output_type": "display_data"
    }
   ],
   "source": [
    "show_html(h2='CSAM Reports per Social Media Platform')\n",
    "\n",
    "disclosures = ingest_reports_per_platform(\n",
    "    REPORTS_PER_PLATFORM, include_redundant=True)\n",
    "comparisons = compare_all_platform_reports(disclosures)\n",
    "for platform, data in comparisons.items():\n",
    "    show_table(data, title=platform)"
   ]
  },
  {
   "cell_type": "code",
   "execution_count": 6,
   "metadata": {},
   "outputs": [
    {
     "data": {
      "text/html": [
       "<h2>Meta's Ever-Changing Transparency Disclosures</h2>"
      ],
      "text/plain": [
       "<IPython.core.display.HTML object>"
      ]
     },
     "metadata": {},
     "output_type": "display_data"
    },
    {
     "data": {
      "text/html": [
       "<style type=\"text/css\">\n",
       "#T_0c167 caption {\n",
       "  caption-side: bottom;\n",
       "  font-style: italic;\n",
       "  margin-top: 1ex;\n",
       "}\n",
       "</style>\n",
       "<table id=\"T_0c167\">\n",
       "  <caption>Δ(Q2-2022 / Q3-2022)</caption>\n",
       "  <thead>\n",
       "    <tr>\n",
       "      <th class=\"blank level0\" >&nbsp;</th>\n",
       "      <th id=\"T_0c167_level0_col0\" class=\"col_heading level0 col0\" >divergent</th>\n",
       "    </tr>\n",
       "    <tr>\n",
       "      <th class=\"index_name level0\" >period</th>\n",
       "      <th class=\"blank col0\" >&nbsp;</th>\n",
       "    </tr>\n",
       "  </thead>\n",
       "  <tbody>\n",
       "    <tr>\n",
       "      <th id=\"T_0c167_level0_row0\" class=\"row_heading level0 row0\" >2020 Q4</th>\n",
       "      <td id=\"T_0c167_row0_col0\" class=\"data row0 col0\" >77</td>\n",
       "    </tr>\n",
       "    <tr>\n",
       "      <th id=\"T_0c167_level0_row1\" class=\"row_heading level0 row1\" >2021 Q1</th>\n",
       "      <td id=\"T_0c167_row1_col0\" class=\"data row1 col0\" >3</td>\n",
       "    </tr>\n",
       "    <tr>\n",
       "      <th id=\"T_0c167_level0_row2\" class=\"row_heading level0 row2\" >2021 Q2</th>\n",
       "      <td id=\"T_0c167_row2_col0\" class=\"data row2 col0\" >4</td>\n",
       "    </tr>\n",
       "    <tr>\n",
       "      <th id=\"T_0c167_level0_row3\" class=\"row_heading level0 row3\" >2022 Q2</th>\n",
       "      <td id=\"T_0c167_row3_col0\" class=\"data row3 col0\" >29</td>\n",
       "    </tr>\n",
       "  </tbody>\n",
       "</table>\n"
      ],
      "text/plain": [
       "<IPython.core.display.HTML object>"
      ]
     },
     "metadata": {},
     "output_type": "display_data"
    },
    {
     "data": {
      "text/html": [
       "<p><p>Divergent policy areas:</p><ul>\n",
       "<li>Adult Nudity & Sexual Activity</li>\n",
       "<li>Bullying & Harassment</li>\n",
       "<li>Child Nudity & Sexual Exploitation</li>\n",
       "<li>Dangerous Orgs: Organized Hate</li>\n",
       "<li>Dangerous Orgs: Terrorism</li>\n",
       "<li>Fake Accounts</li>\n",
       "<li>Hate Speech</li>\n",
       "<li>Regulated Goods: Drugs</li>\n",
       "<li>Regulated Goods: Firearms</li>\n",
       "<li>Spam</li>\n",
       "<li>Suicide and Self-Injury</li>\n",
       "<li>Violent & Graphic Content</li>\n",
       "<li>Child Endangerment: Nudity and Physical Abuse</li>\n",
       "<li>Child Endangerment: Sexual Exploitation</li>\n",
       "<li>Violence And Incitement</li>\n",
       "</ul><p>Divergent metrics:</p><ul>\n",
       "<li>Content Actioned</li>\n",
       "<li>Content Appealed</li>\n",
       "<li>Content Restored with appeal</li>\n",
       "<li>Content Restored without appeal</li>\n",
       "<li>Proactive rate</li>\n",
       "<li>Upperbound Prevalence</li>\n",
       "<li>Lowerbound Prevalence</li></p>"
      ],
      "text/plain": [
       "<IPython.core.display.HTML object>"
      ]
     },
     "metadata": {},
     "output_type": "display_data"
    },
    {
     "data": {
      "text/html": [
       "<style type=\"text/css\">\n",
       "#T_82d1a caption {\n",
       "  caption-side: bottom;\n",
       "  font-style: italic;\n",
       "  margin-top: 1ex;\n",
       "}\n",
       "</style>\n",
       "<table id=\"T_82d1a\">\n",
       "  <caption>Δ(Q3-2022 / Q4-2022)</caption>\n",
       "  <thead>\n",
       "    <tr>\n",
       "      <th class=\"blank level0\" >&nbsp;</th>\n",
       "      <th id=\"T_82d1a_level0_col0\" class=\"col_heading level0 col0\" >divergent</th>\n",
       "    </tr>\n",
       "    <tr>\n",
       "      <th class=\"index_name level0\" >period</th>\n",
       "      <th class=\"blank col0\" >&nbsp;</th>\n",
       "    </tr>\n",
       "  </thead>\n",
       "  <tbody>\n",
       "    <tr>\n",
       "      <th id=\"T_82d1a_level0_row0\" class=\"row_heading level0 row0\" >2020 Q2</th>\n",
       "      <td id=\"T_82d1a_row0_col0\" class=\"data row0 col0\" >67</td>\n",
       "    </tr>\n",
       "    <tr>\n",
       "      <th id=\"T_82d1a_level0_row1\" class=\"row_heading level0 row1\" >2020 Q3</th>\n",
       "      <td id=\"T_82d1a_row1_col0\" class=\"data row1 col0\" >60</td>\n",
       "    </tr>\n",
       "    <tr>\n",
       "      <th id=\"T_82d1a_level0_row2\" class=\"row_heading level0 row2\" >2020 Q4</th>\n",
       "      <td id=\"T_82d1a_row2_col0\" class=\"data row2 col0\" >58</td>\n",
       "    </tr>\n",
       "    <tr>\n",
       "      <th id=\"T_82d1a_level0_row3\" class=\"row_heading level0 row3\" >2022 Q3</th>\n",
       "      <td id=\"T_82d1a_row3_col0\" class=\"data row3 col0\" >18</td>\n",
       "    </tr>\n",
       "  </tbody>\n",
       "</table>\n"
      ],
      "text/plain": [
       "<IPython.core.display.HTML object>"
      ]
     },
     "metadata": {},
     "output_type": "display_data"
    },
    {
     "data": {
      "text/html": [
       "<p><p>Divergent policy areas:</p><ul>\n",
       "<li>Adult Nudity & Sexual Activity</li>\n",
       "<li>Bullying & Harassment</li>\n",
       "<li>Child Nudity & Sexual Exploitation</li>\n",
       "<li>Dangerous Orgs: Organized Hate</li>\n",
       "<li>Dangerous Orgs: Terrorism</li>\n",
       "<li>Fake Accounts</li>\n",
       "<li>Hate Speech</li>\n",
       "<li>Regulated Goods: Drugs</li>\n",
       "<li>Regulated Goods: Firearms</li>\n",
       "<li>Spam</li>\n",
       "<li>Suicide and Self-Injury</li>\n",
       "<li>Violent & Graphic Content</li>\n",
       "<li>Child Endangerment: Nudity and Physical Abuse</li>\n",
       "<li>Child Endangerment: Sexual Exploitation</li>\n",
       "</ul><p>Divergent metrics:</p><ul>\n",
       "<li>Content Actioned</li>\n",
       "<li>Content Appealed</li>\n",
       "<li>Content Restored without appeal</li>\n",
       "<li>Content Restored with appeal</li>\n",
       "<li>Lowerbound Prevalence</li>\n",
       "<li>Upperbound Prevalence</li></p>"
      ],
      "text/plain": [
       "<IPython.core.display.HTML object>"
      ]
     },
     "metadata": {},
     "output_type": "display_data"
    }
   ],
   "source": [
    "show_html(h2=\"Meta's Ever-Changing Transparency Disclosures\")\n",
    "\n",
    "meta_disclosures = meta.read_all('data', '2022q2', '2022q4')\n",
    "meta_differences = meta.diff_all(meta_disclosures)\n",
    "\n",
    "for p1, delta in meta_differences.items():\n",
    "    divergent = (\n",
    "        delta\n",
    "        .groupby('period')\n",
    "        .size()\n",
    "        .to_frame()\n",
    "        .rename(columns={0: 'divergent'})\n",
    "    )\n",
    "\n",
    "    p2 = p1 + 1\n",
    "    title = f'Δ(Q{p1.quarter}-{p1.year} / Q{p2.quarter}-{p2.year})'\n",
    "    show_table(divergent, title=title)\n",
    "    show_html(meta.hype_divergent_descriptors(delta))"
   ]
  }
 ],
 "metadata": {
  "kernelspec": {
   "display_name": ".venv",
   "language": "python",
   "name": "python3"
  },
  "language_info": {
   "codemirror_mode": {
    "name": "ipython",
    "version": 3
   },
   "file_extension": ".py",
   "mimetype": "text/x-python",
   "name": "python",
   "nbconvert_exporter": "python",
   "pygments_lexer": "ipython3",
   "version": "3.11.1"
  },
  "orig_nbformat": 4
 },
 "nbformat": 4,
 "nbformat_minor": 2
}
