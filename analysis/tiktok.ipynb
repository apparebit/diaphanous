{
 "cells": [
  {
   "cell_type": "code",
   "execution_count": 1,
   "metadata": {},
   "outputs": [
    {
     "data": {
      "text/html": [
       "<h1>TikTok</h1>"
      ],
      "text/plain": [
       "<IPython.core.display.HTML object>"
      ]
     },
     "metadata": {},
     "output_type": "display_data"
    },
    {
     "data": {
      "text/html": [
       "<h2>2022Q4 to 2023Q1</h2>"
      ],
      "text/plain": [
       "<IPython.core.display.HTML object>"
      ]
     },
     "metadata": {},
     "output_type": "display_data"
    },
    {
     "data": {
      "text/html": [
       "<style type=\"text/css\">\n",
       "#T_fd651 .col0 {\n",
       "  text-align: start;\n",
       "}\n",
       "#T_fd651  {\n",
       "  font-variant-numeric: tabular-nums;\n",
       "  margin-top: 0;\n",
       "  margin-bottom: 2.0em;\n",
       "}\n",
       "</style>\n",
       "<table id=\"T_fd651\">\n",
       "  <thead>\n",
       "    <tr>\n",
       "      <th class=\"blank level0\" >&nbsp;</th>\n",
       "      <th id=\"T_fd651_level0_col0\" class=\"col_heading level0 col0\" >dataset</th>\n",
       "      <th id=\"T_fd651_level0_col1\" class=\"col_heading level0 col1\" >rows</th>\n",
       "    </tr>\n",
       "  </thead>\n",
       "  <tbody>\n",
       "    <tr>\n",
       "      <th id=\"T_fd651_level0_row0\" class=\"row_heading level0 row0\" >0</th>\n",
       "      <td id=\"T_fd651_row0_col0\" class=\"data row0 col0\" >2022Q4</td>\n",
       "      <td id=\"T_fd651_row0_col1\" class=\"data row0 col1\" >1,030</td>\n",
       "    </tr>\n",
       "    <tr>\n",
       "      <th id=\"T_fd651_level0_row1\" class=\"row_heading level0 row1\" >1</th>\n",
       "      <td id=\"T_fd651_row1_col0\" class=\"data row1 col0\" >2023Q1</td>\n",
       "      <td id=\"T_fd651_row1_col1\" class=\"data row1 col1\" >1,522</td>\n",
       "    </tr>\n",
       "    <tr>\n",
       "      <th id=\"T_fd651_level0_row2\" class=\"row_heading level0 row2\" >2</th>\n",
       "      <td id=\"T_fd651_row2_col0\" class=\"data row2 col0\" >2023Q1 w/o new</td>\n",
       "      <td id=\"T_fd651_row2_col1\" class=\"data row2 col1\" >1,140</td>\n",
       "    </tr>\n",
       "  </tbody>\n",
       "</table>\n"
      ],
      "text/plain": [
       "<pandas.io.formats.style.Styler at 0x12428bc50>"
      ]
     },
     "metadata": {},
     "output_type": "display_data"
    },
    {
     "data": {
      "text/html": [
       "❌ Sadly, historical data diverges across 530 rows."
      ],
      "text/plain": [
       "<IPython.core.display.HTML object>"
      ]
     },
     "metadata": {},
     "output_type": "display_data"
    },
    {
     "data": {
      "text/html": [
       "<h2>2023Q1 to 2023Q2</h2>"
      ],
      "text/plain": [
       "<IPython.core.display.HTML object>"
      ]
     },
     "metadata": {},
     "output_type": "display_data"
    },
    {
     "data": {
      "text/html": [
       "<style type=\"text/css\">\n",
       "#T_c953a .col0 {\n",
       "  text-align: start;\n",
       "}\n",
       "#T_c953a  {\n",
       "  font-variant-numeric: tabular-nums;\n",
       "  margin-top: 0;\n",
       "  margin-bottom: 2.0em;\n",
       "}\n",
       "</style>\n",
       "<table id=\"T_c953a\">\n",
       "  <thead>\n",
       "    <tr>\n",
       "      <th class=\"blank level0\" >&nbsp;</th>\n",
       "      <th id=\"T_c953a_level0_col0\" class=\"col_heading level0 col0\" >dataset</th>\n",
       "      <th id=\"T_c953a_level0_col1\" class=\"col_heading level0 col1\" >rows</th>\n",
       "    </tr>\n",
       "  </thead>\n",
       "  <tbody>\n",
       "    <tr>\n",
       "      <th id=\"T_c953a_level0_row0\" class=\"row_heading level0 row0\" >0</th>\n",
       "      <td id=\"T_c953a_row0_col0\" class=\"data row0 col0\" >2023Q1</td>\n",
       "      <td id=\"T_c953a_row0_col1\" class=\"data row0 col1\" >1,522</td>\n",
       "    </tr>\n",
       "    <tr>\n",
       "      <th id=\"T_c953a_level0_row1\" class=\"row_heading level0 row1\" >1</th>\n",
       "      <td id=\"T_c953a_row1_col0\" class=\"data row1 col0\" >2023Q2</td>\n",
       "      <td id=\"T_c953a_row1_col1\" class=\"data row1 col1\" >1,912</td>\n",
       "    </tr>\n",
       "    <tr>\n",
       "      <th id=\"T_c953a_level0_row2\" class=\"row_heading level0 row2\" >2</th>\n",
       "      <td id=\"T_c953a_row2_col0\" class=\"data row2 col0\" >2023Q2 w/o new</td>\n",
       "      <td id=\"T_c953a_row2_col1\" class=\"data row2 col1\" >1,522</td>\n",
       "    </tr>\n",
       "  </tbody>\n",
       "</table>\n"
      ],
      "text/plain": [
       "<pandas.io.formats.style.Styler at 0x12425e3d0>"
      ]
     },
     "metadata": {},
     "output_type": "display_data"
    },
    {
     "data": {
      "text/html": [
       "❌ Sadly, historical data diverges across 154 rows."
      ],
      "text/plain": [
       "<IPython.core.display.HTML object>"
      ]
     },
     "metadata": {},
     "output_type": "display_data"
    },
    {
     "data": {
      "text/html": [
       "<h2>2023Q2 to 2023Q3</h2>"
      ],
      "text/plain": [
       "<IPython.core.display.HTML object>"
      ]
     },
     "metadata": {},
     "output_type": "display_data"
    },
    {
     "data": {
      "text/html": [
       "<style type=\"text/css\">\n",
       "#T_c5bad .col0 {\n",
       "  text-align: start;\n",
       "}\n",
       "#T_c5bad  {\n",
       "  font-variant-numeric: tabular-nums;\n",
       "  margin-top: 0;\n",
       "  margin-bottom: 2.0em;\n",
       "}\n",
       "</style>\n",
       "<table id=\"T_c5bad\">\n",
       "  <thead>\n",
       "    <tr>\n",
       "      <th class=\"blank level0\" >&nbsp;</th>\n",
       "      <th id=\"T_c5bad_level0_col0\" class=\"col_heading level0 col0\" >dataset</th>\n",
       "      <th id=\"T_c5bad_level0_col1\" class=\"col_heading level0 col1\" >rows</th>\n",
       "    </tr>\n",
       "  </thead>\n",
       "  <tbody>\n",
       "    <tr>\n",
       "      <th id=\"T_c5bad_level0_row0\" class=\"row_heading level0 row0\" >0</th>\n",
       "      <td id=\"T_c5bad_row0_col0\" class=\"data row0 col0\" >2023Q2</td>\n",
       "      <td id=\"T_c5bad_row0_col1\" class=\"data row0 col1\" >1,912</td>\n",
       "    </tr>\n",
       "    <tr>\n",
       "      <th id=\"T_c5bad_level0_row1\" class=\"row_heading level0 row1\" >1</th>\n",
       "      <td id=\"T_c5bad_row1_col0\" class=\"data row1 col0\" >2023Q3</td>\n",
       "      <td id=\"T_c5bad_row1_col1\" class=\"data row1 col1\" >8,704</td>\n",
       "    </tr>\n",
       "    <tr>\n",
       "      <th id=\"T_c5bad_level0_row2\" class=\"row_heading level0 row2\" >2</th>\n",
       "      <td id=\"T_c5bad_row2_col0\" class=\"data row2 col0\" >2023Q3 w/o new</td>\n",
       "      <td id=\"T_c5bad_row2_col1\" class=\"data row2 col1\" >1,912</td>\n",
       "    </tr>\n",
       "  </tbody>\n",
       "</table>\n"
      ],
      "text/plain": [
       "<pandas.io.formats.style.Styler at 0x124292b90>"
      ]
     },
     "metadata": {},
     "output_type": "display_data"
    },
    {
     "data": {
      "text/html": [
       "❌ Sadly, historical data diverges across 328 rows."
      ],
      "text/plain": [
       "<IPython.core.display.HTML object>"
      ]
     },
     "metadata": {},
     "output_type": "display_data"
    },
    {
     "data": {
      "text/html": [
       "<h2>2023Q3 to 2023Q4</h2>"
      ],
      "text/plain": [
       "<IPython.core.display.HTML object>"
      ]
     },
     "metadata": {},
     "output_type": "display_data"
    },
    {
     "data": {
      "text/html": [
       "<style type=\"text/css\">\n",
       "#T_ed7ff .col0 {\n",
       "  text-align: start;\n",
       "}\n",
       "#T_ed7ff  {\n",
       "  font-variant-numeric: tabular-nums;\n",
       "  margin-top: 0;\n",
       "  margin-bottom: 2.0em;\n",
       "}\n",
       "</style>\n",
       "<table id=\"T_ed7ff\">\n",
       "  <thead>\n",
       "    <tr>\n",
       "      <th class=\"blank level0\" >&nbsp;</th>\n",
       "      <th id=\"T_ed7ff_level0_col0\" class=\"col_heading level0 col0\" >dataset</th>\n",
       "      <th id=\"T_ed7ff_level0_col1\" class=\"col_heading level0 col1\" >rows</th>\n",
       "    </tr>\n",
       "  </thead>\n",
       "  <tbody>\n",
       "    <tr>\n",
       "      <th id=\"T_ed7ff_level0_row0\" class=\"row_heading level0 row0\" >0</th>\n",
       "      <td id=\"T_ed7ff_row0_col0\" class=\"data row0 col0\" >2023Q3</td>\n",
       "      <td id=\"T_ed7ff_row0_col1\" class=\"data row0 col1\" >8,704</td>\n",
       "    </tr>\n",
       "    <tr>\n",
       "      <th id=\"T_ed7ff_level0_row1\" class=\"row_heading level0 row1\" >1</th>\n",
       "      <td id=\"T_ed7ff_row1_col0\" class=\"data row1 col0\" >2023Q4</td>\n",
       "      <td id=\"T_ed7ff_row1_col1\" class=\"data row1 col1\" >15,966</td>\n",
       "    </tr>\n",
       "    <tr>\n",
       "      <th id=\"T_ed7ff_level0_row2\" class=\"row_heading level0 row2\" >2</th>\n",
       "      <td id=\"T_ed7ff_row2_col0\" class=\"data row2 col0\" >2023Q4 w/o new</td>\n",
       "      <td id=\"T_ed7ff_row2_col1\" class=\"data row2 col1\" >8,704</td>\n",
       "    </tr>\n",
       "  </tbody>\n",
       "</table>\n"
      ],
      "text/plain": [
       "<pandas.io.formats.style.Styler at 0x1242a23d0>"
      ]
     },
     "metadata": {},
     "output_type": "display_data"
    },
    {
     "data": {
      "text/html": [
       "❌ Sadly, historical data diverges across 17408 rows."
      ],
      "text/plain": [
       "<IPython.core.display.HTML object>"
      ]
     },
     "metadata": {},
     "output_type": "display_data"
    }
   ],
   "source": [
    "import sys\n",
    "sys.path.insert(0, '..')\n",
    "\n",
    "import pandas as pd\n",
    "import intransparent as it\n",
    "\n",
    "MONTH_RANGES = ['Jan-Mar', 'Apr-Jun', 'Jul-Sep', 'Oct-Dec']\n",
    "\n",
    "COLUMNS = [\n",
    "    'Metric',\n",
    "    'Period Type',\n",
    "    'Period',\n",
    "    'Policy Type',\n",
    "    'Issue Policy',\n",
    "    'Task Type',\n",
    "    'Task',\n",
    "    'Location',\n",
    "    'Market',\n",
    "]\n",
    "\n",
    "START = pd.Period('2022Q4')\n",
    "STOP = pd.Period('2023Q4')\n",
    "\n",
    "\n",
    "it.show('<h1>TikTok</h1>')\n",
    "\n",
    "differences = []\n",
    "period1 = START\n",
    "data1 = None\n",
    "\n",
    "while period1 < STOP:\n",
    "    period2 = period1 + 1\n",
    "\n",
    "    it.show(f'<h2>{period1} to {period2}</h2>')\n",
    "\n",
    "    if data1 is None:\n",
    "        data1 = pd.read_csv(\n",
    "            f'../data/tiktok/tiktok-{period1.year}-q{period1.quarter}.csv',\n",
    "            thousands=',',\n",
    "        )\n",
    "    data2 = pd.read_csv(\n",
    "        f'../data/tiktok/tiktok-{period2.year}-q{period2.quarter}.csv',\n",
    "        thousands=',',\n",
    "    )\n",
    "\n",
    "    latest = f'{MONTH_RANGES[period2.quarter - 1]} {period2.year}'\n",
    "    old_data2 = data2[data2['Period'] != latest]\n",
    "\n",
    "    it.show(pd.DataFrame({\n",
    "        'dataset': [str(period1), str(period2), str(period2) + ' w/o new'],\n",
    "        'rows': [len(data1), len(data2), len(old_data2)],\n",
    "    }))\n",
    "\n",
    "    difference = (\n",
    "        pd.concat([data1, old_data2])\n",
    "        .sort_values(by=COLUMNS)\n",
    "        .drop_duplicates(keep=False)\n",
    "    )\n",
    "\n",
    "    if len(difference) == 0:\n",
    "        it.show('✅ No differences in historical data!')\n",
    "    else:\n",
    "        it.show(f'❌ Sadly, historical data diverges across {len(difference)} rows.')\n",
    "        differences.append(difference)\n",
    "\n",
    "    period1 = period2\n",
    "    data1 = data2\n",
    "\n",
    "SHOW_DIFFERENCES = False\n",
    "\n",
    "if SHOW_DIFFERENCES and differences:\n",
    "    for difference in differences:\n",
    "        it.show(difference)"
   ]
  },
  {
   "cell_type": "code",
   "execution_count": 2,
   "metadata": {},
   "outputs": [
    {
     "data": {
      "text/html": [
       "<h2>A Closer Look at Q4 2023</h2>"
      ],
      "text/plain": [
       "<IPython.core.display.HTML object>"
      ]
     },
     "metadata": {},
     "output_type": "display_data"
    },
    {
     "data": {
      "text/html": [
       "<style type=\"text/css\">\n",
       "#T_8bc4d .level0 {\n",
       "  text-align: start;\n",
       "}\n",
       "#T_8bc4d  {\n",
       "  font-variant-numeric: tabular-nums;\n",
       "  margin-top: 0;\n",
       "  margin-bottom: 2.0em;\n",
       "}\n",
       "</style>\n",
       "<table id=\"T_8bc4d\">\n",
       "  <thead>\n",
       "    <tr>\n",
       "      <th class=\"blank level0\" >&nbsp;</th>\n",
       "      <th id=\"T_8bc4d_level0_col0\" class=\"col_heading level0 col0\" >Statistics</th>\n",
       "    </tr>\n",
       "  </thead>\n",
       "  <tbody>\n",
       "    <tr>\n",
       "      <th id=\"T_8bc4d_level0_row0\" class=\"row_heading level0 row0\" >Total videos removed</th>\n",
       "      <td id=\"T_8bc4d_row0_col0\" class=\"data row0 col0\" >176,461,963.000</td>\n",
       "    </tr>\n",
       "    <tr>\n",
       "      <th id=\"T_8bc4d_level0_row1\" class=\"row_heading level0 row1\" >Category share: Safety & civility</th>\n",
       "      <td id=\"T_8bc4d_row1_col0\" class=\"data row1 col0\" >0.135</td>\n",
       "    </tr>\n",
       "    <tr>\n",
       "      <th id=\"T_8bc4d_level0_row2\" class=\"row_heading level0 row2\" >Subcategory share: Youth exploitation & abuse</th>\n",
       "      <td id=\"T_8bc4d_row2_col0\" class=\"data row2 col0\" >0.232</td>\n",
       "    </tr>\n",
       "    <tr>\n",
       "      <th id=\"T_8bc4d_level0_row3\" class=\"row_heading level0 row3\" >Subcategory count: Youth exploitation & abuse</th>\n",
       "      <td id=\"T_8bc4d_row3_col0\" class=\"data row3 col0\" >5,526,788.000</td>\n",
       "    </tr>\n",
       "    <tr>\n",
       "      <th id=\"T_8bc4d_level0_row4\" class=\"row_heading level0 row4\" >Subcategory share: Youth safety & well-being - youth exploitation & abuse</th>\n",
       "      <td id=\"T_8bc4d_row4_col0\" class=\"data row4 col0\" >0.345</td>\n",
       "    </tr>\n",
       "    <tr>\n",
       "      <th id=\"T_8bc4d_level0_row5\" class=\"row_heading level0 row5\" >Speculative subcategory count: Previous two rows multiplied</th>\n",
       "      <td id=\"T_8bc4d_row5_col0\" class=\"data row5 col0\" >1,906,741.000</td>\n",
       "    </tr>\n",
       "  </tbody>\n",
       "</table>\n"
      ],
      "text/plain": [
       "<pandas.io.formats.style.Styler at 0x123de03d0>"
      ]
     },
     "metadata": {},
     "output_type": "display_data"
    },
    {
     "data": {
      "text/html": [
       "\n",
       "    Yet according to NCMEC, TikTok submitted only 590,376 CyberTipline reports\n",
       "    for all of 2023.\n",
       "    "
      ],
      "text/plain": [
       "<IPython.core.display.HTML object>"
      ]
     },
     "metadata": {},
     "output_type": "display_data"
    }
   ],
   "source": [
    "from intransparent.tiktok import Processor\n",
    "\n",
    "it.show(\"<h2>A Closer Look at Q4 2023</h2>\")\n",
    "\n",
    "stats = Processor.for_period(\"2023q4\").quarter_only().stats()\n",
    "it.show(stats)\n",
    "\n",
    "it.show(\n",
    "    \"\"\"\n",
    "    Yet according to NCMEC, TikTok submitted only 590,376 CyberTipline reports\n",
    "    for all of 2023.\n",
    "    \"\"\"\n",
    ")"
   ]
  }
 ],
 "metadata": {
  "kernelspec": {
   "display_name": ".venv",
   "language": "python",
   "name": "python3"
  },
  "language_info": {
   "codemirror_mode": {
    "name": "ipython",
    "version": 3
   },
   "file_extension": ".py",
   "mimetype": "text/x-python",
   "name": "python",
   "nbconvert_exporter": "python",
   "pygments_lexer": "ipython3",
   "version": "3.11.4"
  }
 },
 "nbformat": 4,
 "nbformat_minor": 2
}
