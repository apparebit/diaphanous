{
 "cells": [
  {
   "cell_type": "code",
   "execution_count": 1,
   "metadata": {},
   "outputs": [
    {
     "data": {
      "text/html": [
       "<h1>TikTok</h1>"
      ],
      "text/plain": [
       "<IPython.core.display.HTML object>"
      ]
     },
     "metadata": {},
     "output_type": "display_data"
    },
    {
     "data": {
      "text/html": [
       "<h2>2022Q4 to 2023Q1</h2>"
      ],
      "text/plain": [
       "<IPython.core.display.HTML object>"
      ]
     },
     "metadata": {},
     "output_type": "display_data"
    },
    {
     "data": {
      "text/html": [
       "<style type=\"text/css\">\n",
       "#T_6b00e .col0 {\n",
       "  text-align: start;\n",
       "}\n",
       "#T_6b00e  {\n",
       "  font-variant-numeric: tabular-nums;\n",
       "  margin-top: 0;\n",
       "  margin-bottom: 2.0em;\n",
       "}\n",
       "</style>\n",
       "<table id=\"T_6b00e\">\n",
       "  <thead>\n",
       "    <tr>\n",
       "      <th class=\"blank level0\" >&nbsp;</th>\n",
       "      <th id=\"T_6b00e_level0_col0\" class=\"col_heading level0 col0\" >dataset</th>\n",
       "      <th id=\"T_6b00e_level0_col1\" class=\"col_heading level0 col1\" >rows</th>\n",
       "    </tr>\n",
       "  </thead>\n",
       "  <tbody>\n",
       "    <tr>\n",
       "      <th id=\"T_6b00e_level0_row0\" class=\"row_heading level0 row0\" >0</th>\n",
       "      <td id=\"T_6b00e_row0_col0\" class=\"data row0 col0\" >2022Q4</td>\n",
       "      <td id=\"T_6b00e_row0_col1\" class=\"data row0 col1\" >1,030</td>\n",
       "    </tr>\n",
       "    <tr>\n",
       "      <th id=\"T_6b00e_level0_row1\" class=\"row_heading level0 row1\" >1</th>\n",
       "      <td id=\"T_6b00e_row1_col0\" class=\"data row1 col0\" >2023Q1</td>\n",
       "      <td id=\"T_6b00e_row1_col1\" class=\"data row1 col1\" >1,522</td>\n",
       "    </tr>\n",
       "    <tr>\n",
       "      <th id=\"T_6b00e_level0_row2\" class=\"row_heading level0 row2\" >2</th>\n",
       "      <td id=\"T_6b00e_row2_col0\" class=\"data row2 col0\" >2023Q1 w/o new</td>\n",
       "      <td id=\"T_6b00e_row2_col1\" class=\"data row2 col1\" >1,140</td>\n",
       "    </tr>\n",
       "  </tbody>\n",
       "</table>\n"
      ],
      "text/plain": [
       "<pandas.io.formats.style.Styler at 0x13393efd0>"
      ]
     },
     "metadata": {},
     "output_type": "display_data"
    },
    {
     "data": {
      "text/html": [
       "✅ No differences in historical data!"
      ],
      "text/plain": [
       "<IPython.core.display.HTML object>"
      ]
     },
     "metadata": {},
     "output_type": "display_data"
    },
    {
     "data": {
      "text/html": [
       "<h2>2023Q1 to 2023Q2</h2>"
      ],
      "text/plain": [
       "<IPython.core.display.HTML object>"
      ]
     },
     "metadata": {},
     "output_type": "display_data"
    },
    {
     "data": {
      "text/html": [
       "<style type=\"text/css\">\n",
       "#T_51410 .col0 {\n",
       "  text-align: start;\n",
       "}\n",
       "#T_51410  {\n",
       "  font-variant-numeric: tabular-nums;\n",
       "  margin-top: 0;\n",
       "  margin-bottom: 2.0em;\n",
       "}\n",
       "</style>\n",
       "<table id=\"T_51410\">\n",
       "  <thead>\n",
       "    <tr>\n",
       "      <th class=\"blank level0\" >&nbsp;</th>\n",
       "      <th id=\"T_51410_level0_col0\" class=\"col_heading level0 col0\" >dataset</th>\n",
       "      <th id=\"T_51410_level0_col1\" class=\"col_heading level0 col1\" >rows</th>\n",
       "    </tr>\n",
       "  </thead>\n",
       "  <tbody>\n",
       "    <tr>\n",
       "      <th id=\"T_51410_level0_row0\" class=\"row_heading level0 row0\" >0</th>\n",
       "      <td id=\"T_51410_row0_col0\" class=\"data row0 col0\" >2023Q1</td>\n",
       "      <td id=\"T_51410_row0_col1\" class=\"data row0 col1\" >1,522</td>\n",
       "    </tr>\n",
       "    <tr>\n",
       "      <th id=\"T_51410_level0_row1\" class=\"row_heading level0 row1\" >1</th>\n",
       "      <td id=\"T_51410_row1_col0\" class=\"data row1 col0\" >2023Q2</td>\n",
       "      <td id=\"T_51410_row1_col1\" class=\"data row1 col1\" >1,912</td>\n",
       "    </tr>\n",
       "    <tr>\n",
       "      <th id=\"T_51410_level0_row2\" class=\"row_heading level0 row2\" >2</th>\n",
       "      <td id=\"T_51410_row2_col0\" class=\"data row2 col0\" >2023Q2 w/o new</td>\n",
       "      <td id=\"T_51410_row2_col1\" class=\"data row2 col1\" >1,522</td>\n",
       "    </tr>\n",
       "  </tbody>\n",
       "</table>\n"
      ],
      "text/plain": [
       "<pandas.io.formats.style.Styler at 0x133120610>"
      ]
     },
     "metadata": {},
     "output_type": "display_data"
    },
    {
     "data": {
      "text/html": [
       "✅ No differences in historical data!"
      ],
      "text/plain": [
       "<IPython.core.display.HTML object>"
      ]
     },
     "metadata": {},
     "output_type": "display_data"
    },
    {
     "data": {
      "text/html": [
       "<h2>2023Q2 to 2023Q3</h2>"
      ],
      "text/plain": [
       "<IPython.core.display.HTML object>"
      ]
     },
     "metadata": {},
     "output_type": "display_data"
    },
    {
     "data": {
      "text/html": [
       "<style type=\"text/css\">\n",
       "#T_bb41c .col0 {\n",
       "  text-align: start;\n",
       "}\n",
       "#T_bb41c  {\n",
       "  font-variant-numeric: tabular-nums;\n",
       "  margin-top: 0;\n",
       "  margin-bottom: 2.0em;\n",
       "}\n",
       "</style>\n",
       "<table id=\"T_bb41c\">\n",
       "  <thead>\n",
       "    <tr>\n",
       "      <th class=\"blank level0\" >&nbsp;</th>\n",
       "      <th id=\"T_bb41c_level0_col0\" class=\"col_heading level0 col0\" >dataset</th>\n",
       "      <th id=\"T_bb41c_level0_col1\" class=\"col_heading level0 col1\" >rows</th>\n",
       "    </tr>\n",
       "  </thead>\n",
       "  <tbody>\n",
       "    <tr>\n",
       "      <th id=\"T_bb41c_level0_row0\" class=\"row_heading level0 row0\" >0</th>\n",
       "      <td id=\"T_bb41c_row0_col0\" class=\"data row0 col0\" >2023Q2</td>\n",
       "      <td id=\"T_bb41c_row0_col1\" class=\"data row0 col1\" >1,912</td>\n",
       "    </tr>\n",
       "    <tr>\n",
       "      <th id=\"T_bb41c_level0_row1\" class=\"row_heading level0 row1\" >1</th>\n",
       "      <td id=\"T_bb41c_row1_col0\" class=\"data row1 col0\" >2023Q3</td>\n",
       "      <td id=\"T_bb41c_row1_col1\" class=\"data row1 col1\" >8,704</td>\n",
       "    </tr>\n",
       "    <tr>\n",
       "      <th id=\"T_bb41c_level0_row2\" class=\"row_heading level0 row2\" >2</th>\n",
       "      <td id=\"T_bb41c_row2_col0\" class=\"data row2 col0\" >2023Q3 w/o new</td>\n",
       "      <td id=\"T_bb41c_row2_col1\" class=\"data row2 col1\" >1,912</td>\n",
       "    </tr>\n",
       "  </tbody>\n",
       "</table>\n"
      ],
      "text/plain": [
       "<pandas.io.formats.style.Styler at 0x133945b50>"
      ]
     },
     "metadata": {},
     "output_type": "display_data"
    },
    {
     "data": {
      "text/html": [
       "✅ No differences in historical data!"
      ],
      "text/plain": [
       "<IPython.core.display.HTML object>"
      ]
     },
     "metadata": {},
     "output_type": "display_data"
    },
    {
     "data": {
      "text/html": [
       "<h2>2023Q3 to 2023Q4</h2>"
      ],
      "text/plain": [
       "<IPython.core.display.HTML object>"
      ]
     },
     "metadata": {},
     "output_type": "display_data"
    },
    {
     "data": {
      "text/html": [
       "<style type=\"text/css\">\n",
       "#T_a68f6 .col0 {\n",
       "  text-align: start;\n",
       "}\n",
       "#T_a68f6  {\n",
       "  font-variant-numeric: tabular-nums;\n",
       "  margin-top: 0;\n",
       "  margin-bottom: 2.0em;\n",
       "}\n",
       "</style>\n",
       "<table id=\"T_a68f6\">\n",
       "  <thead>\n",
       "    <tr>\n",
       "      <th class=\"blank level0\" >&nbsp;</th>\n",
       "      <th id=\"T_a68f6_level0_col0\" class=\"col_heading level0 col0\" >dataset</th>\n",
       "      <th id=\"T_a68f6_level0_col1\" class=\"col_heading level0 col1\" >rows</th>\n",
       "    </tr>\n",
       "  </thead>\n",
       "  <tbody>\n",
       "    <tr>\n",
       "      <th id=\"T_a68f6_level0_row0\" class=\"row_heading level0 row0\" >0</th>\n",
       "      <td id=\"T_a68f6_row0_col0\" class=\"data row0 col0\" >2023Q3</td>\n",
       "      <td id=\"T_a68f6_row0_col1\" class=\"data row0 col1\" >8,704</td>\n",
       "    </tr>\n",
       "    <tr>\n",
       "      <th id=\"T_a68f6_level0_row1\" class=\"row_heading level0 row1\" >1</th>\n",
       "      <td id=\"T_a68f6_row1_col0\" class=\"data row1 col0\" >2023Q4</td>\n",
       "      <td id=\"T_a68f6_row1_col1\" class=\"data row1 col1\" >15,966</td>\n",
       "    </tr>\n",
       "    <tr>\n",
       "      <th id=\"T_a68f6_level0_row2\" class=\"row_heading level0 row2\" >2</th>\n",
       "      <td id=\"T_a68f6_row2_col0\" class=\"data row2 col0\" >2023Q4 w/o new</td>\n",
       "      <td id=\"T_a68f6_row2_col1\" class=\"data row2 col1\" >8,704</td>\n",
       "    </tr>\n",
       "  </tbody>\n",
       "</table>\n"
      ],
      "text/plain": [
       "<pandas.io.formats.style.Styler at 0x133e2b9d0>"
      ]
     },
     "metadata": {},
     "output_type": "display_data"
    },
    {
     "data": {
      "text/html": [
       "✅ No differences in historical data!"
      ],
      "text/plain": [
       "<IPython.core.display.HTML object>"
      ]
     },
     "metadata": {},
     "output_type": "display_data"
    }
   ],
   "source": [
    "import sys\n",
    "sys.path.insert(0, '..')\n",
    "\n",
    "import pandas as pd\n",
    "import intransparent as it\n",
    "\n",
    "MONTH_RANGES = ['Jan-Mar', 'Apr-Jun', 'Jul-Sep', 'Oct-Dec']\n",
    "\n",
    "COLUMNS = [c.casefold() for c in [\n",
    "    'Metric',\n",
    "    'Period Type',\n",
    "    'Period',\n",
    "    'Policy Type',\n",
    "    'Issue Policy',\n",
    "    'Task Type',\n",
    "    'Task',\n",
    "    'Location',\n",
    "    'Market',\n",
    "]]\n",
    "\n",
    "CASEFOLD = lambda v: v.casefold()\n",
    "MAKEFLOAT = lambda v: (\n",
    "    f'{v:.3}' if pd.api.types.is_float(v)\n",
    "    else f'{float(v):.3}' if pd.api.types.is_integer(v)\n",
    "    else f'{float(v.replace(\",\", \"\")):.3}'\n",
    ")\n",
    "CONVERTERS = {\n",
    "    'Metric': CASEFOLD,\n",
    "    'Period Type': CASEFOLD,\n",
    "    'Policy Type': CASEFOLD,\n",
    "    'Issue Policy': CASEFOLD,\n",
    "    'Task Type': CASEFOLD,\n",
    "    'Task': CASEFOLD,\n",
    "    'Location': CASEFOLD,\n",
    "    'Market': CASEFOLD,\n",
    "    'Result': MAKEFLOAT,\n",
    "}\n",
    "\n",
    "START = pd.Period('2022Q4')\n",
    "STOP = pd.Period('2023Q4')\n",
    "\n",
    "\n",
    "it.show('<h1>TikTok</h1>')\n",
    "\n",
    "differences = []\n",
    "period1 = START\n",
    "data1 = None\n",
    "\n",
    "while period1 < STOP:\n",
    "    period2 = period1 + 1\n",
    "\n",
    "    it.show(f'<h2>{period1} to {period2}</h2>')\n",
    "\n",
    "    if data1 is None:\n",
    "        data1 = pd.read_csv(\n",
    "            f'../data/tiktok/tiktok-{period1.year}-q{period1.quarter}.csv',\n",
    "            thousands=',',\n",
    "            converters=CONVERTERS,\n",
    "        )\n",
    "        data1.columns = data1.columns.str.lower()\n",
    "\n",
    "    data2 = pd.read_csv(\n",
    "        f'../data/tiktok/tiktok-{period2.year}-q{period2.quarter}.csv',\n",
    "        thousands=',',\n",
    "        converters=CONVERTERS,\n",
    "    )\n",
    "    data2.columns = data2.columns.str.lower()\n",
    "\n",
    "    latest = f'{MONTH_RANGES[period2.quarter - 1]} {period2.year}'\n",
    "    old_data2 = data2[data2['period'] != latest]\n",
    "\n",
    "    it.show(pd.DataFrame({\n",
    "        'dataset': [str(period1), str(period2), str(period2) + ' w/o new'],\n",
    "        'rows': [len(data1), len(data2), len(old_data2)],\n",
    "    }))\n",
    "\n",
    "    label1 = str(period1)\n",
    "    label2 = str(period2)\n",
    "\n",
    "    difference = (\n",
    "        pd.merge(\n",
    "            data1,\n",
    "            data2,\n",
    "            how='inner',\n",
    "            on=COLUMNS,\n",
    "            suffixes=(label1, label2),\n",
    "        )\n",
    "        .query(f'not result{label1}.isna() or not result{label2}.isna()')\n",
    "        .query(f'result{label1} != result{label2}')\n",
    "        .sort_values(['metric', 'issue policy', 'market', 'period'])\n",
    "    )\n",
    "\n",
    "    if len(difference) == 0:\n",
    "        it.show('✅ No differences in historical data!')\n",
    "    else:\n",
    "        it.show(f'❌ Sadly, historical data diverges across {len(difference)} rows.')\n",
    "        differences.append(difference)\n",
    "\n",
    "    period1 = period2\n",
    "    data1 = data2\n",
    "\n",
    "SHOW_DIFFERENCES = True\n",
    "\n",
    "if SHOW_DIFFERENCES and differences:\n",
    "    for difference in differences:\n",
    "        it.show(difference)"
   ]
  },
  {
   "cell_type": "code",
   "execution_count": 2,
   "metadata": {},
   "outputs": [
    {
     "data": {
      "text/html": [
       "<h2>A Closer Look at Q4 2023</h2>"
      ],
      "text/plain": [
       "<IPython.core.display.HTML object>"
      ]
     },
     "metadata": {},
     "output_type": "display_data"
    },
    {
     "data": {
      "text/html": [
       "<style type=\"text/css\">\n",
       "#T_a32aa .level0 {\n",
       "  text-align: start;\n",
       "}\n",
       "#T_a32aa  {\n",
       "  font-variant-numeric: tabular-nums;\n",
       "  margin-top: 0;\n",
       "  margin-bottom: 2.0em;\n",
       "}\n",
       "</style>\n",
       "<table id=\"T_a32aa\">\n",
       "  <thead>\n",
       "    <tr>\n",
       "      <th class=\"blank level0\" >&nbsp;</th>\n",
       "      <th id=\"T_a32aa_level0_col0\" class=\"col_heading level0 col0\" >Statistics</th>\n",
       "    </tr>\n",
       "  </thead>\n",
       "  <tbody>\n",
       "    <tr>\n",
       "      <th id=\"T_a32aa_level0_row0\" class=\"row_heading level0 row0\" >Total videos removed</th>\n",
       "      <td id=\"T_a32aa_row0_col0\" class=\"data row0 col0\" >176,461,963.000</td>\n",
       "    </tr>\n",
       "    <tr>\n",
       "      <th id=\"T_a32aa_level0_row1\" class=\"row_heading level0 row1\" >Category share: Safety & civility</th>\n",
       "      <td id=\"T_a32aa_row1_col0\" class=\"data row1 col0\" >0.135</td>\n",
       "    </tr>\n",
       "    <tr>\n",
       "      <th id=\"T_a32aa_level0_row2\" class=\"row_heading level0 row2\" >Subcategory share: Youth exploitation & abuse</th>\n",
       "      <td id=\"T_a32aa_row2_col0\" class=\"data row2 col0\" >0.232</td>\n",
       "    </tr>\n",
       "    <tr>\n",
       "      <th id=\"T_a32aa_level0_row3\" class=\"row_heading level0 row3\" >Subcategory count: Youth exploitation & abuse</th>\n",
       "      <td id=\"T_a32aa_row3_col0\" class=\"data row3 col0\" >5,526,788.000</td>\n",
       "    </tr>\n",
       "    <tr>\n",
       "      <th id=\"T_a32aa_level0_row4\" class=\"row_heading level0 row4\" >Subcategory share: Youth safety & well-being - youth exploitation & abuse</th>\n",
       "      <td id=\"T_a32aa_row4_col0\" class=\"data row4 col0\" >0.345</td>\n",
       "    </tr>\n",
       "    <tr>\n",
       "      <th id=\"T_a32aa_level0_row5\" class=\"row_heading level0 row5\" >Speculative subcategory count: Previous two rows multiplied</th>\n",
       "      <td id=\"T_a32aa_row5_col0\" class=\"data row5 col0\" >1,906,741.000</td>\n",
       "    </tr>\n",
       "  </tbody>\n",
       "</table>\n"
      ],
      "text/plain": [
       "<pandas.io.formats.style.Styler at 0x132e50f50>"
      ]
     },
     "metadata": {},
     "output_type": "display_data"
    },
    {
     "data": {
      "text/html": [
       "\n",
       "    Yet according to NCMEC, TikTok submitted only 590,376 CyberTipline reports\n",
       "    for all of 2023.\n",
       "    "
      ],
      "text/plain": [
       "<IPython.core.display.HTML object>"
      ]
     },
     "metadata": {},
     "output_type": "display_data"
    }
   ],
   "source": [
    "from intransparent.tiktok import Processor\n",
    "\n",
    "it.show(\"<h2>A Closer Look at Q4 2023</h2>\")\n",
    "\n",
    "stats = Processor.for_period(\"2023q4\").quarter_only().stats()\n",
    "it.show(stats)\n",
    "\n",
    "it.show(\n",
    "    \"\"\"\n",
    "    Yet according to NCMEC, TikTok submitted only 590,376 CyberTipline reports\n",
    "    for all of 2023.\n",
    "    \"\"\"\n",
    ")"
   ]
  }
 ],
 "metadata": {
  "kernelspec": {
   "display_name": ".venv",
   "language": "python",
   "name": "python3"
  },
  "language_info": {
   "codemirror_mode": {
    "name": "ipython",
    "version": 3
   },
   "file_extension": ".py",
   "mimetype": "text/x-python",
   "name": "python",
   "nbconvert_exporter": "python",
   "pygments_lexer": "ipython3",
   "version": "3.11.4"
  }
 },
 "nbformat": 4,
 "nbformat_minor": 2
}
