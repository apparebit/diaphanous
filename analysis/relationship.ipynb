{
 "cells": [
  {
   "cell_type": "code",
   "execution_count": 5,
   "metadata": {},
   "outputs": [
    {
     "data": {
      "text/html": [
       "<style type=\"text/css\">\n",
       "#T_62a50 caption {\n",
       "  caption-side: top;\n",
       "  font-size: 1.1em;\n",
       "  margin-bottom: 2ex;\n",
       "  vertical-align: center;\n",
       "  font-style: italic;\n",
       "}\n",
       "#T_62a50 .level0 {\n",
       "  text-align: start;\n",
       "}\n",
       "#T_62a50  {\n",
       "  font-variant-numeric: tabular-nums;\n",
       "  margin-top: 0;\n",
       "  margin-bottom: 2.0em;\n",
       "}\n",
       "</style>\n",
       "<table id=\"T_62a50\">\n",
       "  <caption>Relationship to Victim (OJJDP Stats, 2019)</caption>\n",
       "  <thead>\n",
       "    <tr>\n",
       "      <th class=\"blank level0\" >&nbsp;</th>\n",
       "      <th id=\"T_62a50_level0_col0\" class=\"col_heading level0 col0\" >value</th>\n",
       "      <th id=\"T_62a50_level0_col1\" class=\"col_heading level0 col1\" >%</th>\n",
       "    </tr>\n",
       "    <tr>\n",
       "      <th class=\"index_name level0\" >Relationship to victim</th>\n",
       "      <th class=\"blank col0\" >&nbsp;</th>\n",
       "      <th class=\"blank col1\" >&nbsp;</th>\n",
       "    </tr>\n",
       "  </thead>\n",
       "  <tbody>\n",
       "    <tr>\n",
       "      <th id=\"T_62a50_level0_row0\" class=\"row_heading level0 row0\" >Family member</th>\n",
       "      <td id=\"T_62a50_row0_col0\" class=\"data row0 col0\" >1,591</td>\n",
       "      <td id=\"T_62a50_row0_col1\" class=\"data row0 col1\" >53.05</td>\n",
       "    </tr>\n",
       "    <tr>\n",
       "      <th id=\"T_62a50_level0_row1\" class=\"row_heading level0 row1\" >Acquaintance</th>\n",
       "      <td id=\"T_62a50_row1_col0\" class=\"data row1 col0\" >1,341</td>\n",
       "      <td id=\"T_62a50_row1_col1\" class=\"data row1 col1\" >44.71</td>\n",
       "    </tr>\n",
       "    <tr>\n",
       "      <th id=\"T_62a50_level0_row2\" class=\"row_heading level0 row2\" >Stranger</th>\n",
       "      <td id=\"T_62a50_row2_col0\" class=\"data row2 col0\" >67</td>\n",
       "      <td id=\"T_62a50_row2_col1\" class=\"data row2 col1\" >2.23</td>\n",
       "    </tr>\n",
       "  </tbody>\n",
       "</table>\n"
      ],
      "text/plain": [
       "<pandas.io.formats.style.Styler at 0x12bc3e3d0>"
      ]
     },
     "metadata": {},
     "output_type": "display_data"
    }
   ],
   "source": [
    "import sys\n",
    "sys.path.insert(0, '..')\n",
    "\n",
    "import pandas as pd\n",
    "import diaphanous as dia\n",
    "\n",
    "df = (\n",
    "    pd.read_csv('../data/ojjdp-qa02403-2019.csv')\n",
    "    .melt(\n",
    "        id_vars=[\"Victim's age\", \"Relationship to victim\"],\n",
    "        value_vars=[\"Under 12\", \"12 to 17\", \"18 to 24\", \"25 to 34\", \"35 & older\"],\n",
    "        var_name=\"Offender's age\",\n",
    "    )\n",
    "    .groupby(\"Relationship to victim\")\n",
    "    .sum(numeric_only=True)\n",
    "    .sort_values(\"value\", ascending=False)\n",
    ")\n",
    "total = df[\"value\"].sum()\n",
    "df[\"%\"] = df[\"value\"] / total * 100\n",
    "dia.show(df, caption=\"Relationship to Victim (OJJDP Stats, 2019)\")\n"
   ]
  },
  {
   "cell_type": "code",
   "execution_count": 17,
   "metadata": {},
   "outputs": [
    {
     "data": {
      "text/html": [
       "<style type=\"text/css\">\n",
       "#T_c2841 caption {\n",
       "  caption-side: top;\n",
       "  font-size: 1.1em;\n",
       "  margin-bottom: 2ex;\n",
       "  vertical-align: center;\n",
       "  font-style: italic;\n",
       "}\n",
       "#T_c2841 .level0 {\n",
       "  text-align: start;\n",
       "}\n",
       "#T_c2841  {\n",
       "  font-variant-numeric: tabular-nums;\n",
       "  margin-top: 0;\n",
       "  margin-bottom: 2.0em;\n",
       "}\n",
       "</style>\n",
       "<table id=\"T_c2841\">\n",
       "  <caption>Relationship to Victim (LEARCAT, 2016)</caption>\n",
       "  <thead>\n",
       "    <tr>\n",
       "      <th class=\"blank level0\" >&nbsp;</th>\n",
       "      <th id=\"T_c2841_level0_col0\" class=\"col_heading level0 col0\" >value</th>\n",
       "      <th id=\"T_c2841_level0_col1\" class=\"col_heading level0 col1\" >%</th>\n",
       "    </tr>\n",
       "    <tr>\n",
       "      <th class=\"index_name level0\" >relationship</th>\n",
       "      <th class=\"blank col0\" >&nbsp;</th>\n",
       "      <th class=\"blank col1\" >&nbsp;</th>\n",
       "    </tr>\n",
       "  </thead>\n",
       "  <tbody>\n",
       "    <tr>\n",
       "      <th id=\"T_c2841_level0_row0\" class=\"row_heading level0 row0\" >Victim Was Offender</th>\n",
       "      <td id=\"T_c2841_row0_col0\" class=\"data row0 col0\" >189</td>\n",
       "      <td id=\"T_c2841_row0_col1\" class=\"data row0 col1\" >0.373</td>\n",
       "    </tr>\n",
       "    <tr>\n",
       "      <th id=\"T_c2841_level0_row1\" class=\"row_heading level0 row1\" >Stranger</th>\n",
       "      <td id=\"T_c2841_row1_col0\" class=\"data row1 col0\" >1,444</td>\n",
       "      <td id=\"T_c2841_row1_col1\" class=\"data row1 col1\" >2.852</td>\n",
       "    </tr>\n",
       "    <tr>\n",
       "      <th id=\"T_c2841_level0_row2\" class=\"row_heading level0 row2\" >Other/Unknown</th>\n",
       "      <td id=\"T_c2841_row2_col0\" class=\"data row2 col0\" >5,603</td>\n",
       "      <td id=\"T_c2841_row2_col1\" class=\"data row2 col1\" >11.067</td>\n",
       "    </tr>\n",
       "    <tr>\n",
       "      <th id=\"T_c2841_level0_row3\" class=\"row_heading level0 row3\" >Friend or Acquaintance Relationship</th>\n",
       "      <td id=\"T_c2841_row3_col0\" class=\"data row3 col0\" >22,059</td>\n",
       "      <td id=\"T_c2841_row3_col1\" class=\"data row3 col1\" >43.570</td>\n",
       "    </tr>\n",
       "    <tr>\n",
       "      <th id=\"T_c2841_level0_row4\" class=\"row_heading level0 row4\" >Other Family</th>\n",
       "      <td id=\"T_c2841_row4_col0\" class=\"data row4 col0\" >18,077</td>\n",
       "      <td id=\"T_c2841_row4_col1\" class=\"data row4 col1\" >35.705</td>\n",
       "    </tr>\n",
       "    <tr>\n",
       "      <th id=\"T_c2841_level0_row5\" class=\"row_heading level0 row5\" >Intimate Partner</th>\n",
       "      <td id=\"T_c2841_row5_col0\" class=\"data row5 col0\" >3,257</td>\n",
       "      <td id=\"T_c2841_row5_col1\" class=\"data row5 col1\" >6.433</td>\n",
       "    </tr>\n",
       "  </tbody>\n",
       "</table>\n"
      ],
      "text/plain": [
       "<pandas.io.formats.style.Styler at 0x12c6eb210>"
      ]
     },
     "metadata": {},
     "output_type": "display_data"
    },
    {
     "data": {
      "text/html": [
       "\n",
       "    Unfortunately, this particular classification of victim-offender\n",
       "    relationships is not very helpful.\n"
      ],
      "text/plain": [
       "<IPython.core.display.HTML object>"
      ]
     },
     "metadata": {},
     "output_type": "display_data"
    }
   ],
   "source": [
    "\n",
    "df = (\n",
    "    pd.read_csv('../data/learcat-relationship-2016.csv')\n",
    "    .set_index(\"relationship\")\n",
    "    .sum(axis=1)\n",
    "    .to_frame()\n",
    "    .rename(columns={0: \"value\"})\n",
    ")\n",
    "total = df[\"value\"].sum()\n",
    "df[\"%\"] = df[\"value\"] / total * 100\n",
    "dia.show(df, caption=\"Relationship to Victim (LEARCAT, 2016)\")\n",
    "dia.show(\n",
    "\"\"\"\n",
    "    Unfortunately, this particular classification of victim-offender\n",
    "    relationships is not very helpful.\n",
    "\"\"\")\n"
   ]
  }
 ],
 "metadata": {
  "kernelspec": {
   "display_name": ".venv",
   "language": "python",
   "name": "python3"
  },
  "language_info": {
   "codemirror_mode": {
    "name": "ipython",
    "version": 3
   },
   "file_extension": ".py",
   "mimetype": "text/x-python",
   "name": "python",
   "nbconvert_exporter": "python",
   "pygments_lexer": "ipython3",
   "version": "3.11.4"
  }
 },
 "nbformat": 4,
 "nbformat_minor": 2
}
