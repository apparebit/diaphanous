{
 "cells": [
  {
   "cell_type": "code",
   "execution_count": 1,
   "metadata": {},
   "outputs": [
    {
     "data": {
      "text/html": [
       "<h1>Meta's Insufficient and Buggy Transparency</h1>"
      ],
      "text/plain": [
       "<IPython.core.display.HTML object>"
      ]
     },
     "metadata": {},
     "output_type": "display_data"
    },
    {
     "data": {
      "text/html": [
       "<h2>Meta is a “<a href=\"https://www.thedailybeast.com/facebook-a-hotbed-of-child-sexual-abuse-material-with-203-million-reports-far-more-than-pornhub\">Hotbed of CSAM</a>”</h2>"
      ],
      "text/plain": [
       "<IPython.core.display.HTML object>"
      ]
     },
     "metadata": {},
     "output_type": "display_data"
    },
    {
     "data": {
      "text/html": [
       "\n",
       "    Meta is responsible for the vast majority of CyberTipline reports and also\n",
       "    pieces. Yet, its transparency disclosures aren't very transparent.\n",
       "    <ul>\n",
       "    <li>Meta does not disclose the number of CSAM reports made to NCMEC, only\n",
       "    pieces.</li>\n",
       "    <li>Meta is the only social media firm to round its counts</li>\n",
       "    <li>Meta makes no transparency disclosures for WhatsApp. Yet, it does file\n",
       "    CSAM reports for the app. This became apparent when NCMEC started\n",
       "    distinguishing between Facebook, Instagram, and WhatsApp for its 2021 transparency\n",
       "    disclosures.</li>\n",
       "    </ul>\n",
       "    Furthermore, see below.\n",
       "    "
      ],
      "text/plain": [
       "<IPython.core.display.HTML object>"
      ]
     },
     "metadata": {},
     "output_type": "display_data"
    },
    {
     "data": {
      "text/html": [
       "<style type=\"text/css\">\n",
       "#T_3c12f caption {\n",
       "  caption-side: top;\n",
       "  font-size: 1.1em;\n",
       "  margin-bottom: 2ex;\n",
       "  vertical-align: center;\n",
       "  font-style: italic;\n",
       "}\n",
       "#T_3c12f .level0 {\n",
       "  text-align: start;\n",
       "}\n",
       "#T_3c12f  {\n",
       "  font-variant-numeric: tabular-nums;\n",
       "  margin-top: 0;\n",
       "  margin-bottom: 0;\n",
       "}\n",
       "#T_3c12f_row0_col1, #T_3c12f_row0_col6, #T_3c12f_row1_col1, #T_3c12f_row1_col6, #T_3c12f_row2_col1, #T_3c12f_row2_col6, #T_3c12f_row3_col1, #T_3c12f_row3_col6 {\n",
       "  background-color: #ffffb3;\n",
       "}\n",
       "</style>\n",
       "<table id=\"T_3c12f\">\n",
       "  <caption>Meta's Share of CSAM Reports</caption>\n",
       "  <thead>\n",
       "    <tr>\n",
       "      <th class=\"blank level0\" >&nbsp;</th>\n",
       "      <th id=\"T_3c12f_level0_col0\" class=\"col_heading level0 col0\" >Total</th>\n",
       "      <th id=\"T_3c12f_level0_col1\" class=\"col_heading level0 col1\" >%</th>\n",
       "      <th id=\"T_3c12f_level0_col2\" class=\"col_heading level0 col2\" >Meta</th>\n",
       "      <th id=\"T_3c12f_level0_col3\" class=\"col_heading level0 col3\" >Facebook</th>\n",
       "      <th id=\"T_3c12f_level0_col4\" class=\"col_heading level0 col4\" >Instagram</th>\n",
       "      <th id=\"T_3c12f_level0_col5\" class=\"col_heading level0 col5\" >WhatsApp</th>\n",
       "      <th id=\"T_3c12f_level0_col6\" class=\"col_heading level0 col6\" >% Meta</th>\n",
       "    </tr>\n",
       "    <tr>\n",
       "      <th class=\"index_name level0\" >period</th>\n",
       "      <th class=\"blank col0\" >&nbsp;</th>\n",
       "      <th class=\"blank col1\" >&nbsp;</th>\n",
       "      <th class=\"blank col2\" >&nbsp;</th>\n",
       "      <th class=\"blank col3\" >&nbsp;</th>\n",
       "      <th class=\"blank col4\" >&nbsp;</th>\n",
       "      <th class=\"blank col5\" >&nbsp;</th>\n",
       "      <th class=\"blank col6\" >&nbsp;</th>\n",
       "    </tr>\n",
       "  </thead>\n",
       "  <tbody>\n",
       "    <tr>\n",
       "      <th id=\"T_3c12f_level0_row0\" class=\"row_heading level0 row0\" >2019</th>\n",
       "      <td id=\"T_3c12f_row0_col0\" class=\"data row0 col0\" >16,836,694</td>\n",
       "      <td id=\"T_3c12f_row0_col1\" class=\"data row0 col1\" >94.3</td>\n",
       "      <td id=\"T_3c12f_row0_col2\" class=\"data row0 col2\" >15,884,511</td>\n",
       "      <td id=\"T_3c12f_row0_col3\" class=\"data row0 col3\" >⋯</td>\n",
       "      <td id=\"T_3c12f_row0_col4\" class=\"data row0 col4\" >⋯</td>\n",
       "      <td id=\"T_3c12f_row0_col5\" class=\"data row0 col5\" >⋯</td>\n",
       "      <td id=\"T_3c12f_row0_col6\" class=\"data row0 col6\" >⋯</td>\n",
       "    </tr>\n",
       "    <tr>\n",
       "      <th id=\"T_3c12f_level0_row1\" class=\"row_heading level0 row1\" >2020</th>\n",
       "      <td id=\"T_3c12f_row1_col0\" class=\"data row1 col0\" >21,447,786</td>\n",
       "      <td id=\"T_3c12f_row1_col1\" class=\"data row1 col1\" >94.7</td>\n",
       "      <td id=\"T_3c12f_row1_col2\" class=\"data row1 col2\" >20,307,216</td>\n",
       "      <td id=\"T_3c12f_row1_col3\" class=\"data row1 col3\" >⋯</td>\n",
       "      <td id=\"T_3c12f_row1_col4\" class=\"data row1 col4\" >⋯</td>\n",
       "      <td id=\"T_3c12f_row1_col5\" class=\"data row1 col5\" >⋯</td>\n",
       "      <td id=\"T_3c12f_row1_col6\" class=\"data row1 col6\" >⋯</td>\n",
       "    </tr>\n",
       "    <tr>\n",
       "      <th id=\"T_3c12f_level0_row2\" class=\"row_heading level0 row2\" >2021</th>\n",
       "      <td id=\"T_3c12f_row2_col0\" class=\"data row2 col0\" >29,157,083</td>\n",
       "      <td id=\"T_3c12f_row2_col1\" class=\"data row2 col1\" >92.2</td>\n",
       "      <td id=\"T_3c12f_row2_col2\" class=\"data row2 col2\" >26,885,302</td>\n",
       "      <td id=\"T_3c12f_row2_col3\" class=\"data row2 col3\" >22,118,952</td>\n",
       "      <td id=\"T_3c12f_row2_col4\" class=\"data row2 col4\" >3,393,654</td>\n",
       "      <td id=\"T_3c12f_row2_col5\" class=\"data row2 col5\" >1,372,696</td>\n",
       "      <td id=\"T_3c12f_row2_col6\" class=\"data row2 col6\" >5.11</td>\n",
       "    </tr>\n",
       "    <tr>\n",
       "      <th id=\"T_3c12f_level0_row3\" class=\"row_heading level0 row3\" >2022</th>\n",
       "      <td id=\"T_3c12f_row3_col0\" class=\"data row3 col0\" >31,802,525</td>\n",
       "      <td id=\"T_3c12f_row3_col1\" class=\"data row3 col1\" >85.5</td>\n",
       "      <td id=\"T_3c12f_row3_col2\" class=\"data row3 col2\" >27,190,665</td>\n",
       "      <td id=\"T_3c12f_row3_col3\" class=\"data row3 col3\" >21,165,208</td>\n",
       "      <td id=\"T_3c12f_row3_col4\" class=\"data row3 col4\" >5,007,902</td>\n",
       "      <td id=\"T_3c12f_row3_col5\" class=\"data row3 col5\" >1,017,555</td>\n",
       "      <td id=\"T_3c12f_row3_col6\" class=\"data row3 col6\" >3.74</td>\n",
       "    </tr>\n",
       "  </tbody>\n",
       "</table>\n"
      ],
      "text/plain": [
       "<pandas.io.formats.style.Styler at 0x12364fa10>"
      ]
     },
     "metadata": {},
     "output_type": "display_data"
    }
   ],
   "source": [
    "import sys\n",
    "sys.path.insert(0, '..')\n",
    "\n",
    "from intransparent import (\n",
    "    ingest_reports_per_platform,\n",
    "    REPORTS_PER_PLATFORM,\n",
    "    show,\n",
    ")\n",
    "\n",
    "import intransparent.meta as meta\n",
    "\n",
    "\n",
    "_TDB_URL = (\n",
    "'https://www.thedailybeast.com/facebook-a-hotbed-of-child-sexual-abuse-material-'\n",
    "'with-203-million-reports-far-more-than-pornhub'\n",
    ")\n",
    "\n",
    "disclosures = ingest_reports_per_platform(\n",
    "    REPORTS_PER_PLATFORM, include_redundant=True\n",
    ")\n",
    "\n",
    "show(f\"<h1>Meta's Insufficient and Buggy Transparency</h1>\")\n",
    "show(f'<h2>Meta is a “<a href=\"{_TDB_URL}\">Hotbed of CSAM</a>”</h2>')\n",
    "\n",
    "show(\n",
    "    \"\"\"\n",
    "    Meta is responsible for the vast majority of CyberTipline reports and also\n",
    "    pieces. Yet, its transparency disclosures aren't very transparent.\n",
    "    <ul>\n",
    "    <li>Meta does not disclose the number of CSAM reports made to NCMEC, only\n",
    "    pieces.</li>\n",
    "    <li>Meta is the only social media firm to round its counts</li>\n",
    "    <li>Meta makes no transparency disclosures for WhatsApp. Yet, it does file\n",
    "    CSAM reports for the app. This became apparent when NCMEC started\n",
    "    distinguishing between Facebook, Instagram, and WhatsApp for its 2021 transparency\n",
    "    disclosures.</li>\n",
    "    </ul>\n",
    "    Furthermore, see below.\n",
    "    \"\"\"\n",
    ")\n",
    "\n",
    "meta_reports = meta.csam_reports(disclosures['NCMEC'])\n",
    "show(\n",
    "    meta_reports,\n",
    "    caption=\"Meta's Share of CSAM Reports\",\n",
    "    highlight_columns=['%', '% Meta'],\n",
    "    margin_bottom=0,\n",
    ")"
   ]
  },
  {
   "cell_type": "code",
   "execution_count": 2,
   "metadata": {},
   "outputs": [
    {
     "data": {
      "text/html": [
       "<h2>Meta Rewrites History</h2>"
      ],
      "text/plain": [
       "<IPython.core.display.HTML object>"
      ]
     },
     "metadata": {},
     "output_type": "display_data"
    },
    {
     "data": {
      "text/html": [
       "\n",
       "    While testing an update to my data analysis code, I discovered that Meta had\n",
       "    changed seemingly arbitrary entries for previously disclosed transparency\n",
       "    statistics. This section tracks the extent of these unacknowledged and\n",
       "    unexplained changes by comparing Meta's CSV files quarter over quarter.\n",
       "    "
      ],
      "text/plain": [
       "<IPython.core.display.HTML object>"
      ]
     },
     "metadata": {},
     "output_type": "display_data"
    },
    {
     "data": {
      "text/html": [
       "<h2>Δ(Q3-2021 / Q2-2021)</h2>"
      ],
      "text/plain": [
       "<IPython.core.display.HTML object>"
      ]
     },
     "metadata": {},
     "output_type": "display_data"
    },
    {
     "data": {
      "text/html": [
       "<style type=\"text/css\">\n",
       "#T_8fabd .level0 {\n",
       "  text-align: start;\n",
       "}\n",
       "#T_8fabd  {\n",
       "  font-variant-numeric: tabular-nums;\n",
       "  margin-top: 0;\n",
       "  margin-bottom: 0;\n",
       "}\n",
       "</style>\n",
       "<table id=\"T_8fabd\">\n",
       "  <thead>\n",
       "    <tr>\n",
       "      <th class=\"blank level0\" >&nbsp;</th>\n",
       "      <th id=\"T_8fabd_level0_col0\" class=\"col_heading level0 col0\" >divergent</th>\n",
       "    </tr>\n",
       "    <tr>\n",
       "      <th class=\"index_name level0\" >period</th>\n",
       "      <th class=\"blank col0\" >&nbsp;</th>\n",
       "    </tr>\n",
       "  </thead>\n",
       "  <tbody>\n",
       "    <tr>\n",
       "      <th id=\"T_8fabd_level0_row0\" class=\"row_heading level0 row0\" >2020Q1</th>\n",
       "      <td id=\"T_8fabd_row0_col0\" class=\"data row0 col0\" >6</td>\n",
       "    </tr>\n",
       "    <tr>\n",
       "      <th id=\"T_8fabd_level0_row1\" class=\"row_heading level0 row1\" >2020Q2</th>\n",
       "      <td id=\"T_8fabd_row1_col0\" class=\"data row1 col0\" >8</td>\n",
       "    </tr>\n",
       "    <tr>\n",
       "      <th id=\"T_8fabd_level0_row2\" class=\"row_heading level0 row2\" >2020Q3</th>\n",
       "      <td id=\"T_8fabd_row2_col0\" class=\"data row2 col0\" >14</td>\n",
       "    </tr>\n",
       "    <tr>\n",
       "      <th id=\"T_8fabd_level0_row3\" class=\"row_heading level0 row3\" >2020Q4</th>\n",
       "      <td id=\"T_8fabd_row3_col0\" class=\"data row3 col0\" >15</td>\n",
       "    </tr>\n",
       "    <tr>\n",
       "      <th id=\"T_8fabd_level0_row4\" class=\"row_heading level0 row4\" >2021Q1</th>\n",
       "      <td id=\"T_8fabd_row4_col0\" class=\"data row4 col0\" >13</td>\n",
       "    </tr>\n",
       "    <tr>\n",
       "      <th id=\"T_8fabd_level0_row5\" class=\"row_heading level0 row5\" >2021Q2</th>\n",
       "      <td id=\"T_8fabd_row5_col0\" class=\"data row5 col0\" >15</td>\n",
       "    </tr>\n",
       "  </tbody>\n",
       "</table>\n"
      ],
      "text/plain": [
       "<pandas.io.formats.style.Styler at 0x1236860d0>"
      ]
     },
     "metadata": {},
     "output_type": "display_data"
    },
    {
     "data": {
      "text/html": [
       "<p>There are <strong>71 divergent values</strong>. They differ in these policy areas:</p><ul><li>Adult Nudity & Sexual Activity</li><li>Bullying & Harassment</li><li>Child Nudity & Sexual Exploitation</li><li>Dangerous Orgs: Terrorism</li><li>Violent & Graphic Content</li><li>Suicide and Self-Injury</li><li>Dangerous Orgs: Organized Hate</li><li>Hate Speech</li><li>Regulated Goods: Firearms</li><li>Regulated Goods: Drugs</li><li>Spam</li><li>Child Endangerment: Nudity and Physical Abuse</li><li>Child Endangerment: Sexual Exploitation</li></ul><p>They also differ in these metrics:</p><ul><li>Content Restored without appeal</li><li>Content Appealed</li><li>Content Actioned</li><li>Content Restored with appeal</li><li>Proactive rate</li></ul>"
      ],
      "text/plain": [
       "<IPython.core.display.HTML object>"
      ]
     },
     "metadata": {},
     "output_type": "display_data"
    },
    {
     "data": {
      "text/html": [
       "<h2>Δ(Q4-2021 / Q3-2021)</h2>"
      ],
      "text/plain": [
       "<IPython.core.display.HTML object>"
      ]
     },
     "metadata": {},
     "output_type": "display_data"
    },
    {
     "data": {
      "text/html": [
       "<style type=\"text/css\">\n",
       "#T_36378 .level0 {\n",
       "  text-align: start;\n",
       "}\n",
       "#T_36378  {\n",
       "  font-variant-numeric: tabular-nums;\n",
       "  margin-top: 0;\n",
       "  margin-bottom: 0;\n",
       "}\n",
       "</style>\n",
       "<table id=\"T_36378\">\n",
       "  <thead>\n",
       "    <tr>\n",
       "      <th class=\"blank level0\" >&nbsp;</th>\n",
       "      <th id=\"T_36378_level0_col0\" class=\"col_heading level0 col0\" >divergent</th>\n",
       "    </tr>\n",
       "    <tr>\n",
       "      <th class=\"index_name level0\" >period</th>\n",
       "      <th class=\"blank col0\" >&nbsp;</th>\n",
       "    </tr>\n",
       "  </thead>\n",
       "  <tbody>\n",
       "    <tr>\n",
       "      <th id=\"T_36378_level0_row0\" class=\"row_heading level0 row0\" >2021Q2</th>\n",
       "      <td id=\"T_36378_row0_col0\" class=\"data row0 col0\" >6</td>\n",
       "    </tr>\n",
       "    <tr>\n",
       "      <th id=\"T_36378_level0_row1\" class=\"row_heading level0 row1\" >2021Q3</th>\n",
       "      <td id=\"T_36378_row1_col0\" class=\"data row1 col0\" >21</td>\n",
       "    </tr>\n",
       "  </tbody>\n",
       "</table>\n"
      ],
      "text/plain": [
       "<pandas.io.formats.style.Styler at 0x12362c0d0>"
      ]
     },
     "metadata": {},
     "output_type": "display_data"
    },
    {
     "data": {
      "text/html": [
       "<p>There are <strong>27 divergent values</strong>. They differ in these policy areas:</p><ul><li>Child Endangerment: Nudity and Physical Abuse</li><li>Child Endangerment: Sexual Exploitation</li><li>Dangerous Orgs: Organized Hate</li><li>Dangerous Orgs: Terrorism</li><li>Spam</li><li>Adult Nudity & Sexual Activity</li><li>Bullying & Harassment</li><li>Regulated Goods: Drugs</li><li>Suicide and Self-Injury</li><li>Violent & Graphic Content</li></ul><p>They also differ in these metrics:</p><ul><li>Content Restored without appeal</li><li>Content Restored with appeal</li><li>Content Actioned</li><li>Content Appealed</li><li>Proactive rate</li></ul>"
      ],
      "text/plain": [
       "<IPython.core.display.HTML object>"
      ]
     },
     "metadata": {},
     "output_type": "display_data"
    },
    {
     "data": {
      "text/html": [
       "<h2>Δ(Q1-2022 / Q4-2021)</h2>"
      ],
      "text/plain": [
       "<IPython.core.display.HTML object>"
      ]
     },
     "metadata": {},
     "output_type": "display_data"
    },
    {
     "data": {
      "text/html": [
       "<style type=\"text/css\">\n",
       "#T_498a2 .level0 {\n",
       "  text-align: start;\n",
       "}\n",
       "#T_498a2  {\n",
       "  font-variant-numeric: tabular-nums;\n",
       "  margin-top: 0;\n",
       "  margin-bottom: 0;\n",
       "}\n",
       "</style>\n",
       "<table id=\"T_498a2\">\n",
       "  <thead>\n",
       "    <tr>\n",
       "      <th class=\"blank level0\" >&nbsp;</th>\n",
       "      <th id=\"T_498a2_level0_col0\" class=\"col_heading level0 col0\" >divergent</th>\n",
       "    </tr>\n",
       "    <tr>\n",
       "      <th class=\"index_name level0\" >period</th>\n",
       "      <th class=\"blank col0\" >&nbsp;</th>\n",
       "    </tr>\n",
       "  </thead>\n",
       "  <tbody>\n",
       "    <tr>\n",
       "      <th id=\"T_498a2_level0_row0\" class=\"row_heading level0 row0\" >2020Q2</th>\n",
       "      <td id=\"T_498a2_row0_col0\" class=\"data row0 col0\" >86</td>\n",
       "    </tr>\n",
       "    <tr>\n",
       "      <th id=\"T_498a2_level0_row1\" class=\"row_heading level0 row1\" >2021Q4</th>\n",
       "      <td id=\"T_498a2_row1_col0\" class=\"data row1 col0\" >10</td>\n",
       "    </tr>\n",
       "  </tbody>\n",
       "</table>\n"
      ],
      "text/plain": [
       "<pandas.io.formats.style.Styler at 0x12365a110>"
      ]
     },
     "metadata": {},
     "output_type": "display_data"
    },
    {
     "data": {
      "text/html": [
       "<p>There are <strong>96 divergent values</strong>. They differ in these policy areas:</p><ul><li>Adult Nudity & Sexual Activity</li><li>Bullying & Harassment</li><li>Child Nudity & Sexual Exploitation</li><li>Dangerous Orgs: Organized Hate</li><li>Dangerous Orgs: Terrorism</li><li>Fake Accounts</li><li>Hate Speech</li><li>Regulated Goods: Drugs</li><li>Regulated Goods: Firearms</li><li>Spam</li><li>Suicide and Self-Injury</li><li>Violent & Graphic Content</li><li>Violence And Incitement</li></ul><p>They also differ in these metrics:</p><ul><li>Content Actioned</li><li>Content Appealed</li><li>Content Restored without appeal</li><li>Proactive rate</li><li>Content Restored with appeal</li></ul>"
      ],
      "text/plain": [
       "<IPython.core.display.HTML object>"
      ]
     },
     "metadata": {},
     "output_type": "display_data"
    },
    {
     "data": {
      "text/html": [
       "<h2>Δ(Q2-2022 / Q1-2022)</h2>"
      ],
      "text/plain": [
       "<IPython.core.display.HTML object>"
      ]
     },
     "metadata": {},
     "output_type": "display_data"
    },
    {
     "data": {
      "text/html": [
       "<style type=\"text/css\">\n",
       "#T_3e8a3 .level0 {\n",
       "  text-align: start;\n",
       "}\n",
       "#T_3e8a3  {\n",
       "  font-variant-numeric: tabular-nums;\n",
       "  margin-top: 0;\n",
       "  margin-bottom: 0;\n",
       "}\n",
       "</style>\n",
       "<table id=\"T_3e8a3\">\n",
       "  <thead>\n",
       "    <tr>\n",
       "      <th class=\"blank level0\" >&nbsp;</th>\n",
       "      <th id=\"T_3e8a3_level0_col0\" class=\"col_heading level0 col0\" >divergent</th>\n",
       "    </tr>\n",
       "    <tr>\n",
       "      <th class=\"index_name level0\" >period</th>\n",
       "      <th class=\"blank col0\" >&nbsp;</th>\n",
       "    </tr>\n",
       "  </thead>\n",
       "  <tbody>\n",
       "    <tr>\n",
       "      <th id=\"T_3e8a3_level0_row0\" class=\"row_heading level0 row0\" >2020Q3</th>\n",
       "      <td id=\"T_3e8a3_row0_col0\" class=\"data row0 col0\" >79</td>\n",
       "    </tr>\n",
       "    <tr>\n",
       "      <th id=\"T_3e8a3_level0_row1\" class=\"row_heading level0 row1\" >2020Q4</th>\n",
       "      <td id=\"T_3e8a3_row1_col0\" class=\"data row1 col0\" >2</td>\n",
       "    </tr>\n",
       "    <tr>\n",
       "      <th id=\"T_3e8a3_level0_row2\" class=\"row_heading level0 row2\" >2021Q1</th>\n",
       "      <td id=\"T_3e8a3_row2_col0\" class=\"data row2 col0\" >3</td>\n",
       "    </tr>\n",
       "    <tr>\n",
       "      <th id=\"T_3e8a3_level0_row3\" class=\"row_heading level0 row3\" >2021Q2</th>\n",
       "      <td id=\"T_3e8a3_row3_col0\" class=\"data row3 col0\" >4</td>\n",
       "    </tr>\n",
       "    <tr>\n",
       "      <th id=\"T_3e8a3_level0_row4\" class=\"row_heading level0 row4\" >2021Q4</th>\n",
       "      <td id=\"T_3e8a3_row4_col0\" class=\"data row4 col0\" >1</td>\n",
       "    </tr>\n",
       "    <tr>\n",
       "      <th id=\"T_3e8a3_level0_row5\" class=\"row_heading level0 row5\" >2022Q1</th>\n",
       "      <td id=\"T_3e8a3_row5_col0\" class=\"data row5 col0\" >13</td>\n",
       "    </tr>\n",
       "  </tbody>\n",
       "</table>\n"
      ],
      "text/plain": [
       "<pandas.io.formats.style.Styler at 0x1236bd150>"
      ]
     },
     "metadata": {},
     "output_type": "display_data"
    },
    {
     "data": {
      "text/html": [
       "<p>There are <strong>102 divergent values</strong>. They differ in these policy areas:</p><ul><li>Adult Nudity & Sexual Activity</li><li>Bullying & Harassment</li><li>Child Nudity & Sexual Exploitation</li><li>Dangerous Orgs: Organized Hate</li><li>Dangerous Orgs: Terrorism</li><li>Fake Accounts</li><li>Hate Speech</li><li>Regulated Goods: Drugs</li><li>Regulated Goods: Firearms</li><li>Spam</li><li>Suicide and Self-Injury</li><li>Violent & Graphic Content</li><li>Child Endangerment: Nudity and Physical Abuse</li><li>Child Endangerment: Sexual Exploitation</li><li>Violence And Incitement</li></ul><p>They also differ in these metrics:</p><ul><li>Content Actioned</li><li>Content Appealed</li><li>Content Restored with appeal</li><li>Content Restored without appeal</li><li>Lowerbound Prevalence</li><li>Proactive rate</li><li>Upperbound Prevalence</li></ul>"
      ],
      "text/plain": [
       "<IPython.core.display.HTML object>"
      ]
     },
     "metadata": {},
     "output_type": "display_data"
    },
    {
     "data": {
      "text/html": [
       "<h2>Δ(Q3-2022 / Q2-2022)</h2>"
      ],
      "text/plain": [
       "<IPython.core.display.HTML object>"
      ]
     },
     "metadata": {},
     "output_type": "display_data"
    },
    {
     "data": {
      "text/html": [
       "<style type=\"text/css\">\n",
       "#T_421a3 .level0 {\n",
       "  text-align: start;\n",
       "}\n",
       "#T_421a3  {\n",
       "  font-variant-numeric: tabular-nums;\n",
       "  margin-top: 0;\n",
       "  margin-bottom: 0;\n",
       "}\n",
       "</style>\n",
       "<table id=\"T_421a3\">\n",
       "  <thead>\n",
       "    <tr>\n",
       "      <th class=\"blank level0\" >&nbsp;</th>\n",
       "      <th id=\"T_421a3_level0_col0\" class=\"col_heading level0 col0\" >divergent</th>\n",
       "    </tr>\n",
       "    <tr>\n",
       "      <th class=\"index_name level0\" >period</th>\n",
       "      <th class=\"blank col0\" >&nbsp;</th>\n",
       "    </tr>\n",
       "  </thead>\n",
       "  <tbody>\n",
       "    <tr>\n",
       "      <th id=\"T_421a3_level0_row0\" class=\"row_heading level0 row0\" >2020Q4</th>\n",
       "      <td id=\"T_421a3_row0_col0\" class=\"data row0 col0\" >77</td>\n",
       "    </tr>\n",
       "    <tr>\n",
       "      <th id=\"T_421a3_level0_row1\" class=\"row_heading level0 row1\" >2021Q1</th>\n",
       "      <td id=\"T_421a3_row1_col0\" class=\"data row1 col0\" >3</td>\n",
       "    </tr>\n",
       "    <tr>\n",
       "      <th id=\"T_421a3_level0_row2\" class=\"row_heading level0 row2\" >2021Q2</th>\n",
       "      <td id=\"T_421a3_row2_col0\" class=\"data row2 col0\" >4</td>\n",
       "    </tr>\n",
       "    <tr>\n",
       "      <th id=\"T_421a3_level0_row3\" class=\"row_heading level0 row3\" >2022Q2</th>\n",
       "      <td id=\"T_421a3_row3_col0\" class=\"data row3 col0\" >29</td>\n",
       "    </tr>\n",
       "  </tbody>\n",
       "</table>\n"
      ],
      "text/plain": [
       "<pandas.io.formats.style.Styler at 0x1236bf590>"
      ]
     },
     "metadata": {},
     "output_type": "display_data"
    },
    {
     "data": {
      "text/html": [
       "<p>There are <strong>113 divergent values</strong>. They differ in these policy areas:</p><ul><li>Adult Nudity & Sexual Activity</li><li>Bullying & Harassment</li><li>Child Nudity & Sexual Exploitation</li><li>Dangerous Orgs: Organized Hate</li><li>Dangerous Orgs: Terrorism</li><li>Fake Accounts</li><li>Hate Speech</li><li>Regulated Goods: Drugs</li><li>Regulated Goods: Firearms</li><li>Spam</li><li>Suicide and Self-Injury</li><li>Violent & Graphic Content</li><li>Child Endangerment: Nudity and Physical Abuse</li><li>Child Endangerment: Sexual Exploitation</li><li>Violence And Incitement</li></ul><p>They also differ in these metrics:</p><ul><li>Content Actioned</li><li>Content Appealed</li><li>Content Restored with appeal</li><li>Content Restored without appeal</li><li>Proactive rate</li><li>Upperbound Prevalence</li><li>Lowerbound Prevalence</li></ul>"
      ],
      "text/plain": [
       "<IPython.core.display.HTML object>"
      ]
     },
     "metadata": {},
     "output_type": "display_data"
    },
    {
     "data": {
      "text/html": [
       "<h2>Δ(Q4-2022 / Q3-2022)</h2>"
      ],
      "text/plain": [
       "<IPython.core.display.HTML object>"
      ]
     },
     "metadata": {},
     "output_type": "display_data"
    },
    {
     "data": {
      "text/html": [
       "<style type=\"text/css\">\n",
       "#T_11d0d .level0 {\n",
       "  text-align: start;\n",
       "}\n",
       "#T_11d0d  {\n",
       "  font-variant-numeric: tabular-nums;\n",
       "  margin-top: 0;\n",
       "  margin-bottom: 0;\n",
       "}\n",
       "</style>\n",
       "<table id=\"T_11d0d\">\n",
       "  <thead>\n",
       "    <tr>\n",
       "      <th class=\"blank level0\" >&nbsp;</th>\n",
       "      <th id=\"T_11d0d_level0_col0\" class=\"col_heading level0 col0\" >divergent</th>\n",
       "    </tr>\n",
       "    <tr>\n",
       "      <th class=\"index_name level0\" >period</th>\n",
       "      <th class=\"blank col0\" >&nbsp;</th>\n",
       "    </tr>\n",
       "  </thead>\n",
       "  <tbody>\n",
       "    <tr>\n",
       "      <th id=\"T_11d0d_level0_row0\" class=\"row_heading level0 row0\" >2020Q2</th>\n",
       "      <td id=\"T_11d0d_row0_col0\" class=\"data row0 col0\" >67</td>\n",
       "    </tr>\n",
       "    <tr>\n",
       "      <th id=\"T_11d0d_level0_row1\" class=\"row_heading level0 row1\" >2020Q3</th>\n",
       "      <td id=\"T_11d0d_row1_col0\" class=\"data row1 col0\" >60</td>\n",
       "    </tr>\n",
       "    <tr>\n",
       "      <th id=\"T_11d0d_level0_row2\" class=\"row_heading level0 row2\" >2020Q4</th>\n",
       "      <td id=\"T_11d0d_row2_col0\" class=\"data row2 col0\" >58</td>\n",
       "    </tr>\n",
       "    <tr>\n",
       "      <th id=\"T_11d0d_level0_row3\" class=\"row_heading level0 row3\" >2022Q3</th>\n",
       "      <td id=\"T_11d0d_row3_col0\" class=\"data row3 col0\" >18</td>\n",
       "    </tr>\n",
       "  </tbody>\n",
       "</table>\n"
      ],
      "text/plain": [
       "<pandas.io.formats.style.Styler at 0x1236be350>"
      ]
     },
     "metadata": {},
     "output_type": "display_data"
    },
    {
     "data": {
      "text/html": [
       "<p>There are <strong>203 divergent values</strong>. They differ in these policy areas:</p><ul><li>Adult Nudity & Sexual Activity</li><li>Bullying & Harassment</li><li>Child Nudity & Sexual Exploitation</li><li>Dangerous Orgs: Organized Hate</li><li>Dangerous Orgs: Terrorism</li><li>Fake Accounts</li><li>Hate Speech</li><li>Regulated Goods: Drugs</li><li>Regulated Goods: Firearms</li><li>Spam</li><li>Suicide and Self-Injury</li><li>Violent & Graphic Content</li><li>Child Endangerment: Nudity and Physical Abuse</li><li>Child Endangerment: Sexual Exploitation</li></ul><p>They also differ in these metrics:</p><ul><li>Content Actioned</li><li>Content Appealed</li><li>Content Restored without appeal</li><li>Content Restored with appeal</li><li>Lowerbound Prevalence</li><li>Upperbound Prevalence</li></ul>"
      ],
      "text/plain": [
       "<IPython.core.display.HTML object>"
      ]
     },
     "metadata": {},
     "output_type": "display_data"
    },
    {
     "data": {
      "text/html": [
       "<h2>Δ(Q1-2023 / Q4-2022)</h2>"
      ],
      "text/plain": [
       "<IPython.core.display.HTML object>"
      ]
     },
     "metadata": {},
     "output_type": "display_data"
    },
    {
     "data": {
      "text/html": [
       "<style type=\"text/css\">\n",
       "#T_9d1b7 .level0 {\n",
       "  text-align: start;\n",
       "}\n",
       "#T_9d1b7  {\n",
       "  font-variant-numeric: tabular-nums;\n",
       "  margin-top: 0;\n",
       "  margin-bottom: 0;\n",
       "}\n",
       "</style>\n",
       "<table id=\"T_9d1b7\">\n",
       "  <thead>\n",
       "    <tr>\n",
       "      <th class=\"blank level0\" >&nbsp;</th>\n",
       "      <th id=\"T_9d1b7_level0_col0\" class=\"col_heading level0 col0\" >divergent</th>\n",
       "    </tr>\n",
       "    <tr>\n",
       "      <th class=\"index_name level0\" >period</th>\n",
       "      <th class=\"blank col0\" >&nbsp;</th>\n",
       "    </tr>\n",
       "  </thead>\n",
       "  <tbody>\n",
       "    <tr>\n",
       "      <th id=\"T_9d1b7_level0_row0\" class=\"row_heading level0 row0\" >2022Q4</th>\n",
       "      <td id=\"T_9d1b7_row0_col0\" class=\"data row0 col0\" >18</td>\n",
       "    </tr>\n",
       "  </tbody>\n",
       "</table>\n"
      ],
      "text/plain": [
       "<pandas.io.formats.style.Styler at 0x1236bd110>"
      ]
     },
     "metadata": {},
     "output_type": "display_data"
    },
    {
     "data": {
      "text/html": [
       "<p>There are <strong>18 divergent values</strong>. They differ in these policy areas:</p><ul><li>Adult Nudity & Sexual Activity</li><li>Child Endangerment: Nudity and Physical Abuse</li><li>Child Endangerment: Sexual Exploitation</li><li>Dangerous Orgs: Organized Hate</li><li>Regulated Goods: Drugs</li><li>Spam</li><li>Suicide and Self-Injury</li><li>Violence And Incitement</li></ul><p>They also differ in these metrics:</p><ul><li>Content Actioned</li><li>Content Restored with appeal</li><li>Content Restored without appeal</li><li>Content Appealed</li></ul>"
      ],
      "text/plain": [
       "<IPython.core.display.HTML object>"
      ]
     },
     "metadata": {},
     "output_type": "display_data"
    },
    {
     "data": {
      "text/html": [
       "<h2>Δ(Q2-2023 / Q1-2023)</h2>"
      ],
      "text/plain": [
       "<IPython.core.display.HTML object>"
      ]
     },
     "metadata": {},
     "output_type": "display_data"
    },
    {
     "data": {
      "text/html": [
       "<style type=\"text/css\">\n",
       "#T_471b9 .level0 {\n",
       "  text-align: start;\n",
       "}\n",
       "#T_471b9  {\n",
       "  font-variant-numeric: tabular-nums;\n",
       "  margin-top: 0;\n",
       "  margin-bottom: 0;\n",
       "}\n",
       "</style>\n",
       "<table id=\"T_471b9\">\n",
       "  <thead>\n",
       "    <tr>\n",
       "      <th class=\"blank level0\" >&nbsp;</th>\n",
       "      <th id=\"T_471b9_level0_col0\" class=\"col_heading level0 col0\" >divergent</th>\n",
       "    </tr>\n",
       "    <tr>\n",
       "      <th class=\"index_name level0\" >period</th>\n",
       "      <th class=\"blank col0\" >&nbsp;</th>\n",
       "    </tr>\n",
       "  </thead>\n",
       "  <tbody>\n",
       "  </tbody>\n",
       "</table>\n"
      ],
      "text/plain": [
       "<pandas.io.formats.style.Styler at 0x1236bd0d0>"
      ]
     },
     "metadata": {},
     "output_type": "display_data"
    },
    {
     "data": {
      "text/html": [
       "<p>There are <strong>0 divergent values</strong>. They differ in these policy areas:</p><ul></ul><p>They also differ in these metrics:</p><ul></ul>"
      ],
      "text/plain": [
       "<IPython.core.display.HTML object>"
      ]
     },
     "metadata": {},
     "output_type": "display_data"
    },
    {
     "data": {
      "text/html": [
       "<h2>Δ(Q3-2023 / Q2-2023)</h2>"
      ],
      "text/plain": [
       "<IPython.core.display.HTML object>"
      ]
     },
     "metadata": {},
     "output_type": "display_data"
    },
    {
     "data": {
      "text/html": [
       "<style type=\"text/css\">\n",
       "#T_295b4 .level0 {\n",
       "  text-align: start;\n",
       "}\n",
       "#T_295b4  {\n",
       "  font-variant-numeric: tabular-nums;\n",
       "  margin-top: 0;\n",
       "  margin-bottom: 0;\n",
       "}\n",
       "</style>\n",
       "<table id=\"T_295b4\">\n",
       "  <thead>\n",
       "    <tr>\n",
       "      <th class=\"blank level0\" >&nbsp;</th>\n",
       "      <th id=\"T_295b4_level0_col0\" class=\"col_heading level0 col0\" >divergent</th>\n",
       "    </tr>\n",
       "    <tr>\n",
       "      <th class=\"index_name level0\" >period</th>\n",
       "      <th class=\"blank col0\" >&nbsp;</th>\n",
       "    </tr>\n",
       "  </thead>\n",
       "  <tbody>\n",
       "  </tbody>\n",
       "</table>\n"
      ],
      "text/plain": [
       "<pandas.io.formats.style.Styler at 0x1236d2ed0>"
      ]
     },
     "metadata": {},
     "output_type": "display_data"
    },
    {
     "data": {
      "text/html": [
       "<p>There are <strong>0 divergent values</strong>. They differ in these policy areas:</p><ul></ul><p>They also differ in these metrics:</p><ul></ul>"
      ],
      "text/plain": [
       "<IPython.core.display.HTML object>"
      ]
     },
     "metadata": {},
     "output_type": "display_data"
    }
   ],
   "source": [
    "show(f'<h2>Meta Rewrites History</h2>')\n",
    "show(\n",
    "    \"\"\"\n",
    "    While testing an update to my data analysis code, I discovered that Meta had\n",
    "    changed seemingly arbitrary entries for previously disclosed transparency\n",
    "    statistics. This section tracks the extent of these unacknowledged and\n",
    "    unexplained changes by comparing Meta's CSV files quarter over quarter.\n",
    "    \"\"\"\n",
    ")\n",
    "\n",
    "meta_disclosures = meta.read_all('../data')\n",
    "meta_differences = meta.diff_all(meta_disclosures)\n",
    "\n",
    "for p1, delta in meta_differences.items():\n",
    "    p2 = p1 + 1\n",
    "\n",
    "    show(f'<h2>Δ(Q{p2.quarter}-{p2.year} / Q{p1.quarter}-{p1.year})</h2>')\n",
    "    show(meta.age_of_divergence(delta), margin_bottom=0)\n",
    "    show(meta.descriptors_of_divergence(delta))"
   ]
  },
  {
   "cell_type": "code",
   "execution_count": 3,
   "metadata": {},
   "outputs": [
    {
     "data": {
      "text/html": [
       "<h3>Quarterly rate of divergence</h3>"
      ],
      "text/plain": [
       "<IPython.core.display.HTML object>"
      ]
     },
     "metadata": {},
     "output_type": "display_data"
    },
    {
     "data": {
      "text/html": [
       "<style type=\"text/css\">\n",
       "#T_46106 .col0 {\n",
       "  text-align: start;\n",
       "}\n",
       "#T_46106  {\n",
       "  font-variant-numeric: tabular-nums;\n",
       "  margin-top: 0;\n",
       "  margin-bottom: 2.0em;\n",
       "}\n",
       "</style>\n",
       "<table id=\"T_46106\">\n",
       "  <thead>\n",
       "    <tr>\n",
       "      <th class=\"blank level0\" >&nbsp;</th>\n",
       "      <th id=\"T_46106_level0_col0\" class=\"col_heading level0 col0\" >period</th>\n",
       "      <th id=\"T_46106_level0_col1\" class=\"col_heading level0 col1\" >changed</th>\n",
       "      <th id=\"T_46106_level0_col2\" class=\"col_heading level0 col2\" >total</th>\n",
       "      <th id=\"T_46106_level0_col3\" class=\"col_heading level0 col3\" >rate_of_divergence</th>\n",
       "    </tr>\n",
       "  </thead>\n",
       "  <tbody>\n",
       "    <tr>\n",
       "      <th id=\"T_46106_level0_row0\" class=\"row_heading level0 row0\" >0</th>\n",
       "      <td id=\"T_46106_row0_col0\" class=\"data row0 col0\" >2021Q3</td>\n",
       "      <td id=\"T_46106_row0_col1\" class=\"data row0 col1\" >71</td>\n",
       "      <td id=\"T_46106_row0_col2\" class=\"data row0 col2\" >1,904</td>\n",
       "      <td id=\"T_46106_row0_col3\" class=\"data row0 col3\" >3.729</td>\n",
       "    </tr>\n",
       "    <tr>\n",
       "      <th id=\"T_46106_level0_row1\" class=\"row_heading level0 row1\" >1</th>\n",
       "      <td id=\"T_46106_row1_col0\" class=\"data row1 col0\" >2021Q4</td>\n",
       "      <td id=\"T_46106_row1_col1\" class=\"data row1 col1\" >27</td>\n",
       "      <td id=\"T_46106_row1_col2\" class=\"data row1 col2\" >2,192</td>\n",
       "      <td id=\"T_46106_row1_col3\" class=\"data row1 col3\" >1.232</td>\n",
       "    </tr>\n",
       "    <tr>\n",
       "      <th id=\"T_46106_level0_row2\" class=\"row_heading level0 row2\" >2</th>\n",
       "      <td id=\"T_46106_row2_col0\" class=\"data row2 col0\" >2022Q1</td>\n",
       "      <td id=\"T_46106_row2_col1\" class=\"data row2 col1\" >96</td>\n",
       "      <td id=\"T_46106_row2_col2\" class=\"data row2 col2\" >2,339</td>\n",
       "      <td id=\"T_46106_row2_col3\" class=\"data row2 col3\" >4.104</td>\n",
       "    </tr>\n",
       "    <tr>\n",
       "      <th id=\"T_46106_level0_row3\" class=\"row_heading level0 row3\" >3</th>\n",
       "      <td id=\"T_46106_row3_col0\" class=\"data row3 col0\" >2022Q2</td>\n",
       "      <td id=\"T_46106_row3_col1\" class=\"data row3 col1\" >102</td>\n",
       "      <td id=\"T_46106_row3_col2\" class=\"data row3 col2\" >2,486</td>\n",
       "      <td id=\"T_46106_row3_col3\" class=\"data row3 col3\" >4.103</td>\n",
       "    </tr>\n",
       "    <tr>\n",
       "      <th id=\"T_46106_level0_row4\" class=\"row_heading level0 row4\" >4</th>\n",
       "      <td id=\"T_46106_row4_col0\" class=\"data row4 col0\" >2022Q3</td>\n",
       "      <td id=\"T_46106_row4_col1\" class=\"data row4 col1\" >113</td>\n",
       "      <td id=\"T_46106_row4_col2\" class=\"data row4 col2\" >2,633</td>\n",
       "      <td id=\"T_46106_row4_col3\" class=\"data row4 col3\" >4.292</td>\n",
       "    </tr>\n",
       "    <tr>\n",
       "      <th id=\"T_46106_level0_row5\" class=\"row_heading level0 row5\" >5</th>\n",
       "      <td id=\"T_46106_row5_col0\" class=\"data row5 col0\" >2022Q4</td>\n",
       "      <td id=\"T_46106_row5_col1\" class=\"data row5 col1\" >203</td>\n",
       "      <td id=\"T_46106_row5_col2\" class=\"data row5 col2\" >2,780</td>\n",
       "      <td id=\"T_46106_row5_col3\" class=\"data row5 col3\" >7.302</td>\n",
       "    </tr>\n",
       "    <tr>\n",
       "      <th id=\"T_46106_level0_row6\" class=\"row_heading level0 row6\" >6</th>\n",
       "      <td id=\"T_46106_row6_col0\" class=\"data row6 col0\" >2023Q1</td>\n",
       "      <td id=\"T_46106_row6_col1\" class=\"data row6 col1\" >18</td>\n",
       "      <td id=\"T_46106_row6_col2\" class=\"data row6 col2\" >2,927</td>\n",
       "      <td id=\"T_46106_row6_col3\" class=\"data row6 col3\" >0.615</td>\n",
       "    </tr>\n",
       "    <tr>\n",
       "      <th id=\"T_46106_level0_row7\" class=\"row_heading level0 row7\" >7</th>\n",
       "      <td id=\"T_46106_row7_col0\" class=\"data row7 col0\" >2023Q2</td>\n",
       "      <td id=\"T_46106_row7_col1\" class=\"data row7 col1\" >0</td>\n",
       "      <td id=\"T_46106_row7_col2\" class=\"data row7 col2\" >3,074</td>\n",
       "      <td id=\"T_46106_row7_col3\" class=\"data row7 col3\" >0.000</td>\n",
       "    </tr>\n",
       "    <tr>\n",
       "      <th id=\"T_46106_level0_row8\" class=\"row_heading level0 row8\" >8</th>\n",
       "      <td id=\"T_46106_row8_col0\" class=\"data row8 col0\" >2023Q3</td>\n",
       "      <td id=\"T_46106_row8_col1\" class=\"data row8 col1\" >0</td>\n",
       "      <td id=\"T_46106_row8_col2\" class=\"data row8 col2\" >3,221</td>\n",
       "      <td id=\"T_46106_row8_col3\" class=\"data row8 col3\" >0.000</td>\n",
       "    </tr>\n",
       "  </tbody>\n",
       "</table>\n"
      ],
      "text/plain": [
       "<pandas.io.formats.style.Styler at 0x1056267d0>"
      ]
     },
     "metadata": {},
     "output_type": "display_data"
    },
    {
     "data": {
      "text/html": [
       "\n",
       "    For each quarter, the abvove table shows the number of entries in that\n",
       "    quarter's data that are different from the previous quarter's disclosure\n",
       "    divided by the total number of entries from the previous quarter. In other\n",
       "    words, newly added data points do not figure into this rate.\n",
       "    "
      ],
      "text/plain": [
       "<IPython.core.display.HTML object>"
      ]
     },
     "metadata": {},
     "output_type": "display_data"
    }
   ],
   "source": [
    "show(f'<h3>Quarterly rate of divergence</h3>')\n",
    "show(meta.rate_of_divergence(meta_disclosures, meta_differences))\n",
    "show(\n",
    "    \"\"\"\n",
    "    For each quarter, the abvove table shows the number of entries in that\n",
    "    quarter's data that are different from the previous quarter's disclosure\n",
    "    divided by the total number of entries from the previous quarter. In other\n",
    "    words, newly added data points do not figure into this rate.\n",
    "    \"\"\"\n",
    ")"
   ]
  }
 ],
 "metadata": {
  "kernelspec": {
   "display_name": ".venv",
   "language": "python",
   "name": "python3"
  },
  "language_info": {
   "codemirror_mode": {
    "name": "ipython",
    "version": 3
   },
   "file_extension": ".py",
   "mimetype": "text/x-python",
   "name": "python",
   "nbconvert_exporter": "python",
   "pygments_lexer": "ipython3",
   "version": "3.11.4"
  }
 },
 "nbformat": 4,
 "nbformat_minor": 2
}
