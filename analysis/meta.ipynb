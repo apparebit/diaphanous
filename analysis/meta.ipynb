{
 "cells": [
  {
   "cell_type": "code",
   "execution_count": 1,
   "metadata": {},
   "outputs": [],
   "source": [
    "import sys\n",
    "sys.path.insert(0, '..')\n",
    "\n",
    "import re\n",
    "import pandas as pd\n",
    "import matplotlib.pyplot as plt\n",
    "import matplotlib as mpl\n",
    "from intransparent import (\n",
    "    combine_brands,\n",
    "    ingest_reports_per_platform,\n",
    "    REPORTS_PER_PLATFORM,\n",
    "    show,\n",
    "    wide_ncmec_reports,\n",
    ")\n",
    "import intransparent.meta as meta"
   ]
  },
  {
   "cell_type": "code",
   "execution_count": 2,
   "metadata": {},
   "outputs": [
    {
     "data": {
      "text/html": [
       "<h1>Meta: Family Active People vs World Population</h1>"
      ],
      "text/plain": [
       "<IPython.core.display.HTML object>"
      ]
     },
     "metadata": {},
     "output_type": "display_data"
    },
    {
     "data": {
      "text/html": [
       "<style type=\"text/css\">\n",
       "#T_01c41 caption {\n",
       "  caption-side: top;\n",
       "  font-size: 1.1em;\n",
       "  margin-bottom: 2ex;\n",
       "  vertical-align: center;\n",
       "  font-style: italic;\n",
       "}\n",
       "#T_01c41  {\n",
       "  font-variant-numeric: tabular-nums;\n",
       "  margin-top: 0;\n",
       "  margin-bottom: 2.0em;\n",
       "}\n",
       "</style>\n",
       "<table id=\"T_01c41\">\n",
       "  <caption>Daily and Monthly Active People as Percentage of World Population</caption>\n",
       "  <thead>\n",
       "    <tr>\n",
       "      <th class=\"blank level0\" >&nbsp;</th>\n",
       "      <th id=\"T_01c41_level0_col0\" class=\"col_heading level0 col0\" >year</th>\n",
       "      <th id=\"T_01c41_level0_col1\" class=\"col_heading level0 col1\" >daily</th>\n",
       "      <th id=\"T_01c41_level0_col2\" class=\"col_heading level0 col2\" >monthly</th>\n",
       "    </tr>\n",
       "  </thead>\n",
       "  <tbody>\n",
       "    <tr>\n",
       "      <th id=\"T_01c41_level0_row0\" class=\"row_heading level0 row0\" >0</th>\n",
       "      <td id=\"T_01c41_row0_col0\" class=\"data row0 col0\" >2,023</td>\n",
       "      <td id=\"T_01c41_row0_col1\" class=\"data row0 col1\" >37.9</td>\n",
       "      <td id=\"T_01c41_row0_col2\" class=\"data row0 col2\" >48.0</td>\n",
       "    </tr>\n",
       "    <tr>\n",
       "      <th id=\"T_01c41_level0_row1\" class=\"row_heading level0 row1\" >1</th>\n",
       "      <td id=\"T_01c41_row1_col0\" class=\"data row1 col0\" >2,022</td>\n",
       "      <td id=\"T_01c41_row1_col1\" class=\"data row1 col1\" >35.9</td>\n",
       "      <td id=\"T_01c41_row1_col2\" class=\"data row1 col2\" >45.5</td>\n",
       "    </tr>\n",
       "    <tr>\n",
       "      <th id=\"T_01c41_level0_row2\" class=\"row_heading level0 row2\" >2</th>\n",
       "      <td id=\"T_01c41_row2_col0\" class=\"data row2 col0\" >2,021</td>\n",
       "      <td id=\"T_01c41_row2_col1\" class=\"data row2 col1\" >34.7</td>\n",
       "      <td id=\"T_01c41_row2_col2\" class=\"data row2 col2\" >44.1</td>\n",
       "    </tr>\n",
       "    <tr>\n",
       "      <th id=\"T_01c41_level0_row3\" class=\"row_heading level0 row3\" >3</th>\n",
       "      <td id=\"T_01c41_row3_col0\" class=\"data row3 col0\" >2,020</td>\n",
       "      <td id=\"T_01c41_row3_col1\" class=\"data row3 col1\" >31.3</td>\n",
       "      <td id=\"T_01c41_row3_col2\" class=\"data row3 col2\" >39.8</td>\n",
       "    </tr>\n",
       "    <tr>\n",
       "      <th id=\"T_01c41_level0_row4\" class=\"row_heading level0 row4\" >4</th>\n",
       "      <td id=\"T_01c41_row4_col0\" class=\"data row4 col0\" >2,019</td>\n",
       "      <td id=\"T_01c41_row4_col1\" class=\"data row4 col1\" >27.4</td>\n",
       "      <td id=\"T_01c41_row4_col2\" class=\"data row4 col2\" >35.3</td>\n",
       "    </tr>\n",
       "  </tbody>\n",
       "</table>\n"
      ],
      "text/plain": [
       "<pandas.io.formats.style.Styler at 0x1284654d0>"
      ]
     },
     "metadata": {},
     "output_type": "display_data"
    }
   ],
   "source": [
    "show(\"<h1>Meta: Family Active People vs World Population</h1>\")\n",
    "\n",
    "active_people = pd.read_csv(\"../data/meta/family-active-people.csv\")\n",
    "global_population = pd.read_csv(\"../data/global-population.csv\").set_index('year')\n",
    "\n",
    "active_people = active_people[active_people['period'].str.endswith('Q2')]\n",
    "active_people['year'] = active_people['period'].str.removesuffix('Q2').astype(int)\n",
    "\n",
    "reach = (\n",
    "    active_people\n",
    "    .drop(columns='period')\n",
    "    .join(global_population, on='year')\n",
    "    .reset_index(drop=True)\n",
    "    .assign(daily=lambda df: 1_000_000_000 * df['daily_billion'] / df['population'] * 100)\n",
    "    .assign(monthly=lambda df: 1_000_000_000 * df['monthly_billion'] / df['population'] * 100)\n",
    "    .drop(columns=['daily_billion', 'monthly_billion', 'population'])\n",
    ")\n",
    "\n",
    "show(reach, caption='Daily and Monthly Active People as Percentage of World Population')"
   ]
  },
  {
   "cell_type": "code",
   "execution_count": 3,
   "metadata": {},
   "outputs": [
    {
     "data": {
      "text/html": [
       "<h1>Meta's Insufficient and Buggy Transparency</h1>"
      ],
      "text/plain": [
       "<IPython.core.display.HTML object>"
      ]
     },
     "metadata": {},
     "output_type": "display_data"
    },
    {
     "data": {
      "text/html": [
       "<h2>Meta is a “<a href=\"https://www.thedailybeast.com/facebook-a-hotbed-of-child-sexual-abuse-material-with-203-million-reports-far-more-than-pornhub\">Hotbed of CSAM</a>”</h2>"
      ],
      "text/plain": [
       "<IPython.core.display.HTML object>"
      ]
     },
     "metadata": {},
     "output_type": "display_data"
    },
    {
     "data": {
      "text/html": [
       "\n",
       "    Meta is responsible for the vast majority of CyberTipline reports and also\n",
       "    pieces. Yet, its transparency disclosures aren't very transparent.\n",
       "    <ul>\n",
       "    <li>Meta does not disclose the number of CSAM reports made to NCMEC, only\n",
       "    pieces.</li>\n",
       "    <li>At first, Meta only disclosed pieces for Facebook</li>\n",
       "    <li>Starting with Q2 2019, Meta also disclosed piece counts for Instagram</li>\n",
       "    <li>Starting with Q2 2021, Meta changed the definition of the corresponding metric</li>\n",
       "    <li>Meta is the only social media firm to round its counts</li>\n",
       "    <li>Meta makes no transparency disclosures for WhatsApp. Yet, it does file\n",
       "    CSAM reports for the app. This became apparent when NCMEC started\n",
       "    distinguishing between Facebook, Instagram, and WhatsApp for its 2021 transparency\n",
       "    disclosures.</li>\n",
       "    </ul>\n",
       "    Furthermore, see below.\n",
       "    "
      ],
      "text/plain": [
       "<IPython.core.display.HTML object>"
      ]
     },
     "metadata": {},
     "output_type": "display_data"
    },
    {
     "data": {
      "text/html": [
       "<style type=\"text/css\">\n",
       "#T_13601 caption {\n",
       "  caption-side: top;\n",
       "  font-size: 1.1em;\n",
       "  margin-bottom: 2ex;\n",
       "  vertical-align: center;\n",
       "  font-style: italic;\n",
       "}\n",
       "#T_13601 .level0 {\n",
       "  text-align: start;\n",
       "}\n",
       "#T_13601  {\n",
       "  font-variant-numeric: tabular-nums;\n",
       "  margin-top: 0;\n",
       "  margin-bottom: 0;\n",
       "}\n",
       "#T_13601_row0_col1, #T_13601_row0_col6, #T_13601_row1_col1, #T_13601_row1_col6, #T_13601_row2_col1, #T_13601_row2_col6, #T_13601_row3_col1, #T_13601_row3_col6, #T_13601_row4_col1, #T_13601_row4_col6 {\n",
       "  background-color: #ffffb3;\n",
       "}\n",
       "</style>\n",
       "<table id=\"T_13601\">\n",
       "  <caption>Meta's Share of CSAM Reports</caption>\n",
       "  <thead>\n",
       "    <tr>\n",
       "      <th class=\"blank level0\" >&nbsp;</th>\n",
       "      <th id=\"T_13601_level0_col0\" class=\"col_heading level0 col0\" >Total</th>\n",
       "      <th id=\"T_13601_level0_col1\" class=\"col_heading level0 col1\" >%</th>\n",
       "      <th id=\"T_13601_level0_col2\" class=\"col_heading level0 col2\" >Meta</th>\n",
       "      <th id=\"T_13601_level0_col3\" class=\"col_heading level0 col3\" >Facebook</th>\n",
       "      <th id=\"T_13601_level0_col4\" class=\"col_heading level0 col4\" >Instagram</th>\n",
       "      <th id=\"T_13601_level0_col5\" class=\"col_heading level0 col5\" >WhatsApp</th>\n",
       "      <th id=\"T_13601_level0_col6\" class=\"col_heading level0 col6\" >% Meta</th>\n",
       "    </tr>\n",
       "    <tr>\n",
       "      <th class=\"index_name level0\" >period</th>\n",
       "      <th class=\"blank col0\" >&nbsp;</th>\n",
       "      <th class=\"blank col1\" >&nbsp;</th>\n",
       "      <th class=\"blank col2\" >&nbsp;</th>\n",
       "      <th class=\"blank col3\" >&nbsp;</th>\n",
       "      <th class=\"blank col4\" >&nbsp;</th>\n",
       "      <th class=\"blank col5\" >&nbsp;</th>\n",
       "      <th class=\"blank col6\" >&nbsp;</th>\n",
       "    </tr>\n",
       "  </thead>\n",
       "  <tbody>\n",
       "    <tr>\n",
       "      <th id=\"T_13601_level0_row0\" class=\"row_heading level0 row0\" >2019</th>\n",
       "      <td id=\"T_13601_row0_col0\" class=\"data row0 col0\" >16,987,361</td>\n",
       "      <td id=\"T_13601_row0_col1\" class=\"data row0 col1\" >93.5</td>\n",
       "      <td id=\"T_13601_row0_col2\" class=\"data row0 col2\" >15,884,511</td>\n",
       "      <td id=\"T_13601_row0_col3\" class=\"data row0 col3\" >⋯</td>\n",
       "      <td id=\"T_13601_row0_col4\" class=\"data row0 col4\" >⋯</td>\n",
       "      <td id=\"T_13601_row0_col5\" class=\"data row0 col5\" >⋯</td>\n",
       "      <td id=\"T_13601_row0_col6\" class=\"data row0 col6\" >⋯</td>\n",
       "    </tr>\n",
       "    <tr>\n",
       "      <th id=\"T_13601_level0_row1\" class=\"row_heading level0 row1\" >2020</th>\n",
       "      <td id=\"T_13601_row1_col0\" class=\"data row1 col0\" >21,751,085</td>\n",
       "      <td id=\"T_13601_row1_col1\" class=\"data row1 col1\" >93.4</td>\n",
       "      <td id=\"T_13601_row1_col2\" class=\"data row1 col2\" >20,307,216</td>\n",
       "      <td id=\"T_13601_row1_col3\" class=\"data row1 col3\" >⋯</td>\n",
       "      <td id=\"T_13601_row1_col4\" class=\"data row1 col4\" >⋯</td>\n",
       "      <td id=\"T_13601_row1_col5\" class=\"data row1 col5\" >⋯</td>\n",
       "      <td id=\"T_13601_row1_col6\" class=\"data row1 col6\" >⋯</td>\n",
       "    </tr>\n",
       "    <tr>\n",
       "      <th id=\"T_13601_level0_row2\" class=\"row_heading level0 row2\" >2021</th>\n",
       "      <td id=\"T_13601_row2_col0\" class=\"data row2 col0\" >29,397,681</td>\n",
       "      <td id=\"T_13601_row2_col1\" class=\"data row2 col1\" >91.5</td>\n",
       "      <td id=\"T_13601_row2_col2\" class=\"data row2 col2\" >26,885,302</td>\n",
       "      <td id=\"T_13601_row2_col3\" class=\"data row2 col3\" >22,118,952</td>\n",
       "      <td id=\"T_13601_row2_col4\" class=\"data row2 col4\" >3,393,654</td>\n",
       "      <td id=\"T_13601_row2_col5\" class=\"data row2 col5\" >1,372,696</td>\n",
       "      <td id=\"T_13601_row2_col6\" class=\"data row2 col6\" >5.11</td>\n",
       "    </tr>\n",
       "    <tr>\n",
       "      <th id=\"T_13601_level0_row3\" class=\"row_heading level0 row3\" >2022</th>\n",
       "      <td id=\"T_13601_row3_col0\" class=\"data row3 col0\" >32,059,029</td>\n",
       "      <td id=\"T_13601_row3_col1\" class=\"data row3 col1\" >84.8</td>\n",
       "      <td id=\"T_13601_row3_col2\" class=\"data row3 col2\" >27,190,665</td>\n",
       "      <td id=\"T_13601_row3_col3\" class=\"data row3 col3\" >21,165,208</td>\n",
       "      <td id=\"T_13601_row3_col4\" class=\"data row3 col4\" >5,007,902</td>\n",
       "      <td id=\"T_13601_row3_col5\" class=\"data row3 col5\" >1,017,555</td>\n",
       "      <td id=\"T_13601_row3_col6\" class=\"data row3 col6\" >3.74</td>\n",
       "    </tr>\n",
       "    <tr>\n",
       "      <th id=\"T_13601_level0_row4\" class=\"row_heading level0 row4\" >2023</th>\n",
       "      <td id=\"T_13601_row4_col0\" class=\"data row4 col0\" >36,210,368</td>\n",
       "      <td id=\"T_13601_row4_col1\" class=\"data row4 col1\" >84.7</td>\n",
       "      <td id=\"T_13601_row4_col2\" class=\"data row4 col2\" >30,658,047</td>\n",
       "      <td id=\"T_13601_row4_col3\" class=\"data row4 col3\" >17,838,422</td>\n",
       "      <td id=\"T_13601_row4_col4\" class=\"data row4 col4\" >11,430,007</td>\n",
       "      <td id=\"T_13601_row4_col5\" class=\"data row4 col5\" >1,389,618</td>\n",
       "      <td id=\"T_13601_row4_col6\" class=\"data row4 col6\" >4.53</td>\n",
       "    </tr>\n",
       "  </tbody>\n",
       "</table>\n"
      ],
      "text/plain": [
       "<pandas.io.formats.style.Styler at 0x1284e13d0>"
      ]
     },
     "metadata": {},
     "output_type": "display_data"
    }
   ],
   "source": [
    "_TDB_URL = (\n",
    "'https://www.thedailybeast.com/facebook-a-hotbed-of-child-sexual-abuse-material-'\n",
    "'with-203-million-reports-far-more-than-pornhub'\n",
    ")\n",
    "\n",
    "data = ingest_reports_per_platform(REPORTS_PER_PLATFORM)\n",
    "\n",
    "show(f\"<h1>Meta's Insufficient and Buggy Transparency</h1>\")\n",
    "show(f'<h2>Meta is a “<a href=\"{_TDB_URL}\">Hotbed of CSAM</a>”</h2>')\n",
    "show(\n",
    "    \"\"\"\n",
    "    Meta is responsible for the vast majority of CyberTipline reports and also\n",
    "    pieces. Yet, its transparency disclosures aren't very transparent.\n",
    "    <ul>\n",
    "    <li>Meta does not disclose the number of CSAM reports made to NCMEC, only\n",
    "    pieces.</li>\n",
    "    <li>At first, Meta only disclosed pieces for Facebook</li>\n",
    "    <li>Starting with Q2 2019, Meta also disclosed piece counts for Instagram</li>\n",
    "    <li>Starting with Q2 2021, Meta changed the definition of the corresponding metric</li>\n",
    "    <li>Meta is the only social media firm to round its counts</li>\n",
    "    <li>Meta makes no transparency disclosures for WhatsApp. Yet, it does file\n",
    "    CSAM reports for the app. This became apparent when NCMEC started\n",
    "    distinguishing between Facebook, Instagram, and WhatsApp for its 2021 transparency\n",
    "    disclosures.</li>\n",
    "    </ul>\n",
    "    Furthermore, see below.\n",
    "    \"\"\"\n",
    ")\n",
    "\n",
    "ncmec = wide_ncmec_reports(data, drop_brands=False)\n",
    "meta_reports = meta.csam_reports(ncmec)\n",
    "show(\n",
    "    meta_reports,\n",
    "    caption=\"Meta's Share of CSAM Reports\",\n",
    "    highlight_columns=['%', '% Meta'],\n",
    "    margin_bottom=0,\n",
    ")"
   ]
  },
  {
   "cell_type": "code",
   "execution_count": 4,
   "metadata": {},
   "outputs": [
    {
     "data": {
      "text/html": [
       "<h2>Quarterly Pieces</h2>"
      ],
      "text/plain": [
       "<IPython.core.display.HTML object>"
      ]
     },
     "metadata": {},
     "output_type": "display_data"
    },
    {
     "data": {
      "image/png": "[encoded data removed]",
      "text/plain": [
       "<Figure size 640x480 with 1 Axes>"
      ]
     },
     "metadata": {},
     "output_type": "display_data"
    }
   ],
   "source": [
    "show('<h2>Quarterly Pieces</h2>')\n",
    "\n",
    "brand_pieces = []\n",
    "for brand in ('Facebook', 'Instagram'):\n",
    "    acronym = 'FB' if brand == 'Facebook' else 'IG'\n",
    "    brand_pieces.append(data.disclosures[brand][meta.CSAM_PIECES].rename(columns={\n",
    "        meta.CSAM_PIECES[0]: f'{acronym}: Nudity & Sexual Exploitation',\n",
    "        meta.CSAM_PIECES[1]: f'{acronym}: Sexual Exploitation',\n",
    "    }))\n",
    "\n",
    "brand_pieces = pd.concat(brand_pieces, axis=1).sort_index()\n",
    "\n",
    "def plot_pieces(ax):\n",
    "    brand_pieces.plot.bar(\n",
    "        ax=ax,\n",
    "        stacked=True,\n",
    "        zorder=3,\n",
    "        #color = (\"#eb5d48\", \"#2b51c1\", \"#ef8e21\", \"#25a143\")\n",
    "        color = ('#7e372e', '#384c86','#fdba17','#84e278'),\n",
    "        #color = ('#5a738a', '#776887','#fdba17','#84e278', '#776887', '#825aa9'),\n",
    "        # color = ('#8080d0', '#7070c0', '#ff8060', '#ff7050'),\n",
    "        # color = ('#4743a1', '#d1448f', '#ff6852', '#fac000'),\n",
    "        # color = ('#4b4fbd', '#794cbd', '#363987', '#65409e'),\n",
    "        # color = ('#a6c3d1', '#cbb3d0', '#364c80', '#563680'),\n",
    "        # color = (\"#b1d9fa\", \"#7ca7c9\", \"#47789a\", \"#004c6d\"),\n",
    "        # color=(\"#ede15b\", \"#edbf33\", \"#ef9b20\", \"#ea5545\"),\n",
    "    )\n",
    "    ax.set_xlabel('Quarter', fontstyle='italic')\n",
    "    ax.set_ylabel('Million Pieces', fontstyle='italic')\n",
    "    ax.get_yaxis().set_major_formatter(\n",
    "        mpl.ticker.FuncFormatter(lambda x, p: format(int(x/1_000_000), ',')))\n",
    "    ax.grid(axis=\"y\", zorder=0)\n",
    "    ax.set_ylim(0, 37_000_000)\n",
    "\n",
    "    LABEL_PATTERN = re.compile(r'(\\d{4})(Q\\d)')\n",
    "    labels = []\n",
    "\n",
    "    for n, label in enumerate(ax.xaxis.get_ticklabels()):\n",
    "        if n % 4 == 2:\n",
    "            label.set_text(LABEL_PATTERN.sub('\\g<2>\\n\\g<1>', label.get_text()))\n",
    "            label.set_rotation(0)\n",
    "        else:\n",
    "            label.set_visible(False)\n",
    "        labels.append(label)\n",
    "\n",
    "    ax.xaxis.set_ticklabels(labels)\n",
    "    ax.axvline(2.5, color='#bbb', linestyle='dashed')  # after Q1 2019\n",
    "    ax.axvline(10.5, color='#bbb', linestyle='dashed')  # after Q1 2021\n",
    "\n",
    "fig, ax = plt.subplots()\n",
    "plot_pieces(ax)"
   ]
  },
  {
   "cell_type": "code",
   "execution_count": 5,
   "metadata": {},
   "outputs": [
    {
     "data": {
      "text/html": [
       "<style type=\"text/css\">\n",
       "#T_a598f caption {\n",
       "  caption-side: top;\n",
       "  font-size: 1.1em;\n",
       "  margin-bottom: 2ex;\n",
       "  vertical-align: center;\n",
       "  font-style: italic;\n",
       "}\n",
       "#T_a598f .level0 {\n",
       "  text-align: start;\n",
       "}\n",
       "#T_a598f  {\n",
       "  font-variant-numeric: tabular-nums;\n",
       "  margin-top: 0;\n",
       "  margin-bottom: 2.0em;\n",
       "}\n",
       "</style>\n",
       "<table id=\"T_a598f\">\n",
       "  <caption>Pieces per Quarter<br>Year-Over-Year Change</caption>\n",
       "  <thead>\n",
       "    <tr>\n",
       "      <th class=\"blank level0\" >&nbsp;</th>\n",
       "      <th id=\"T_a598f_level0_col0\" class=\"col_heading level0 col0\" >pieces</th>\n",
       "      <th id=\"T_a598f_level0_col1\" class=\"col_heading level0 col1\" >Δ%</th>\n",
       "    </tr>\n",
       "    <tr>\n",
       "      <th class=\"index_name level0\" >period</th>\n",
       "      <th class=\"blank col0\" >&nbsp;</th>\n",
       "      <th class=\"blank col1\" >&nbsp;</th>\n",
       "    </tr>\n",
       "  </thead>\n",
       "  <tbody>\n",
       "    <tr>\n",
       "      <th id=\"T_a598f_level0_row0\" class=\"row_heading level0 row0\" >2018Q3</th>\n",
       "      <td id=\"T_a598f_row0_col0\" class=\"data row0 col0\" >9,000,000</td>\n",
       "      <td id=\"T_a598f_row0_col1\" class=\"data row0 col1\" >⋯</td>\n",
       "    </tr>\n",
       "    <tr>\n",
       "      <th id=\"T_a598f_level0_row1\" class=\"row_heading level0 row1\" >2018Q4</th>\n",
       "      <td id=\"T_a598f_row1_col0\" class=\"data row1 col0\" >7,200,000</td>\n",
       "      <td id=\"T_a598f_row1_col1\" class=\"data row1 col1\" >⋯</td>\n",
       "    </tr>\n",
       "    <tr>\n",
       "      <th id=\"T_a598f_level0_row2\" class=\"row_heading level0 row2\" >2019Q1</th>\n",
       "      <td id=\"T_a598f_row2_col0\" class=\"data row2 col0\" >5,800,000</td>\n",
       "      <td id=\"T_a598f_row2_col1\" class=\"data row2 col1\" >⋯</td>\n",
       "    </tr>\n",
       "    <tr>\n",
       "      <th id=\"T_a598f_level0_row3\" class=\"row_heading level0 row3\" >2019Q2</th>\n",
       "      <td id=\"T_a598f_row3_col0\" class=\"data row3 col0\" >7,426,200</td>\n",
       "      <td id=\"T_a598f_row3_col1\" class=\"data row3 col1\" >⋯</td>\n",
       "    </tr>\n",
       "    <tr>\n",
       "      <th id=\"T_a598f_level0_row4\" class=\"row_heading level0 row4\" >2019Q3</th>\n",
       "      <td id=\"T_a598f_row4_col0\" class=\"data row4 col0\" >12,155,800</td>\n",
       "      <td id=\"T_a598f_row4_col1\" class=\"data row4 col1\" >35.06</td>\n",
       "    </tr>\n",
       "    <tr>\n",
       "      <th id=\"T_a598f_level0_row5\" class=\"row_heading level0 row5\" >2019Q4</th>\n",
       "      <td id=\"T_a598f_row5_col0\" class=\"data row5 col0\" >13,986,400</td>\n",
       "      <td id=\"T_a598f_row5_col1\" class=\"data row5 col1\" >94.26</td>\n",
       "    </tr>\n",
       "    <tr>\n",
       "      <th id=\"T_a598f_level0_row6\" class=\"row_heading level0 row6\" >2020Q1</th>\n",
       "      <td id=\"T_a598f_row6_col0\" class=\"data row6 col0\" >9,500,000</td>\n",
       "      <td id=\"T_a598f_row6_col1\" class=\"data row6 col1\" >63.79</td>\n",
       "    </tr>\n",
       "    <tr>\n",
       "      <th id=\"T_a598f_level0_row7\" class=\"row_heading level0 row7\" >2020Q2</th>\n",
       "      <td id=\"T_a598f_row7_col0\" class=\"data row7 col0\" >9,881,400</td>\n",
       "      <td id=\"T_a598f_row7_col1\" class=\"data row7 col1\" >33.06</td>\n",
       "    </tr>\n",
       "    <tr>\n",
       "      <th id=\"T_a598f_level0_row8\" class=\"row_heading level0 row8\" >2020Q3</th>\n",
       "      <td id=\"T_a598f_row8_col0\" class=\"data row8 col0\" >13,400,000</td>\n",
       "      <td id=\"T_a598f_row8_col1\" class=\"data row8 col1\" >10.24</td>\n",
       "    </tr>\n",
       "    <tr>\n",
       "      <th id=\"T_a598f_level0_row9\" class=\"row_heading level0 row9\" >2020Q4</th>\n",
       "      <td id=\"T_a598f_row9_col0\" class=\"data row9 col0\" >6,109,400</td>\n",
       "      <td id=\"T_a598f_row9_col1\" class=\"data row9 col1\" >-56.32</td>\n",
       "    </tr>\n",
       "    <tr>\n",
       "      <th id=\"T_a598f_level0_row10\" class=\"row_heading level0 row10\" >2021Q1</th>\n",
       "      <td id=\"T_a598f_row10_col0\" class=\"data row10 col0\" >5,812,400</td>\n",
       "      <td id=\"T_a598f_row10_col1\" class=\"data row10 col1\" >-38.82</td>\n",
       "    </tr>\n",
       "    <tr>\n",
       "      <th id=\"T_a598f_level0_row11\" class=\"row_heading level0 row11\" >2021Q2</th>\n",
       "      <td id=\"T_a598f_row11_col0\" class=\"data row11 col0\" >27,000,000</td>\n",
       "      <td id=\"T_a598f_row11_col1\" class=\"data row11 col1\" >173.24</td>\n",
       "    </tr>\n",
       "    <tr>\n",
       "      <th id=\"T_a598f_level0_row12\" class=\"row_heading level0 row12\" >2021Q3</th>\n",
       "      <td id=\"T_a598f_row12_col0\" class=\"data row12 col0\" >22,800,000</td>\n",
       "      <td id=\"T_a598f_row12_col1\" class=\"data row12 col1\" >70.15</td>\n",
       "    </tr>\n",
       "    <tr>\n",
       "      <th id=\"T_a598f_level0_row13\" class=\"row_heading level0 row13\" >2021Q4</th>\n",
       "      <td id=\"T_a598f_row13_col0\" class=\"data row13 col0\" >22,400,000</td>\n",
       "      <td id=\"T_a598f_row13_col1\" class=\"data row13 col1\" >266.65</td>\n",
       "    </tr>\n",
       "    <tr>\n",
       "      <th id=\"T_a598f_level0_row14\" class=\"row_heading level0 row14\" >2022Q1</th>\n",
       "      <td id=\"T_a598f_row14_col0\" class=\"data row14 col0\" >18,000,000</td>\n",
       "      <td id=\"T_a598f_row14_col1\" class=\"data row14 col1\" >209.68</td>\n",
       "    </tr>\n",
       "    <tr>\n",
       "      <th id=\"T_a598f_level0_row15\" class=\"row_heading level0 row15\" >2022Q2</th>\n",
       "      <td id=\"T_a598f_row15_col0\" class=\"data row15 col0\" >21,600,000</td>\n",
       "      <td id=\"T_a598f_row15_col1\" class=\"data row15 col1\" >-20.00</td>\n",
       "    </tr>\n",
       "    <tr>\n",
       "      <th id=\"T_a598f_level0_row16\" class=\"row_heading level0 row16\" >2022Q3</th>\n",
       "      <td id=\"T_a598f_row16_col0\" class=\"data row16 col0\" >31,400,000</td>\n",
       "      <td id=\"T_a598f_row16_col1\" class=\"data row16 col1\" >37.72</td>\n",
       "    </tr>\n",
       "    <tr>\n",
       "      <th id=\"T_a598f_level0_row17\" class=\"row_heading level0 row17\" >2022Q4</th>\n",
       "      <td id=\"T_a598f_row17_col0\" class=\"data row17 col0\" >34,800,000</td>\n",
       "      <td id=\"T_a598f_row17_col1\" class=\"data row17 col1\" >55.36</td>\n",
       "    </tr>\n",
       "    <tr>\n",
       "      <th id=\"T_a598f_level0_row18\" class=\"row_heading level0 row18\" >2023Q1</th>\n",
       "      <td id=\"T_a598f_row18_col0\" class=\"data row18 col0\" >17,600,000</td>\n",
       "      <td id=\"T_a598f_row18_col1\" class=\"data row18 col1\" >-2.22</td>\n",
       "    </tr>\n",
       "    <tr>\n",
       "      <th id=\"T_a598f_level0_row19\" class=\"row_heading level0 row19\" >2023Q2</th>\n",
       "      <td id=\"T_a598f_row19_col0\" class=\"data row19 col0\" >8,900,000</td>\n",
       "      <td id=\"T_a598f_row19_col1\" class=\"data row19 col1\" >-58.80</td>\n",
       "    </tr>\n",
       "    <tr>\n",
       "      <th id=\"T_a598f_level0_row20\" class=\"row_heading level0 row20\" >2023Q3</th>\n",
       "      <td id=\"T_a598f_row20_col0\" class=\"data row20 col0\" >18,500,000</td>\n",
       "      <td id=\"T_a598f_row20_col1\" class=\"data row20 col1\" >-41.08</td>\n",
       "    </tr>\n",
       "    <tr>\n",
       "      <th id=\"T_a598f_level0_row21\" class=\"row_heading level0 row21\" >2023Q4</th>\n",
       "      <td id=\"T_a598f_row21_col0\" class=\"data row21 col0\" >18,300,000</td>\n",
       "      <td id=\"T_a598f_row21_col1\" class=\"data row21 col1\" >-47.41</td>\n",
       "    </tr>\n",
       "    <tr>\n",
       "      <th id=\"T_a598f_level0_row22\" class=\"row_heading level0 row22\" >2024Q1</th>\n",
       "      <td id=\"T_a598f_row22_col0\" class=\"data row22 col0\" >17,100,000</td>\n",
       "      <td id=\"T_a598f_row22_col1\" class=\"data row22 col1\" >-2.84</td>\n",
       "    </tr>\n",
       "    <tr>\n",
       "      <th id=\"T_a598f_level0_row23\" class=\"row_heading level0 row23\" >2024Q2</th>\n",
       "      <td id=\"T_a598f_row23_col0\" class=\"data row23 col0\" >12,500,000</td>\n",
       "      <td id=\"T_a598f_row23_col1\" class=\"data row23 col1\" >40.45</td>\n",
       "    </tr>\n",
       "  </tbody>\n",
       "</table>\n"
      ],
      "text/plain": [
       "<pandas.io.formats.style.Styler at 0x10a13bad0>"
      ]
     },
     "metadata": {},
     "output_type": "display_data"
    }
   ],
   "source": [
    "quarterly_pieces = combine_brands(data)['Meta']['pieces']\n",
    "assert quarterly_pieces.values == brand_pieces.sum(axis=1).values\n",
    "\n",
    "yoy_change = (\n",
    "    quarterly_pieces\n",
    "    .to_frame()\n",
    "    .assign(**{'Δ%': lambda df: df['pieces'].pct_change(periods=4) * 100})\n",
    ")\n",
    "\n",
    "show(yoy_change, caption='Pieces per Quarter<br>Year-Over-Year Change')"
   ]
  },
  {
   "cell_type": "code",
   "execution_count": 6,
   "metadata": {},
   "outputs": [
    {
     "data": {
      "text/html": [
       "<h2>Pieces vs Reports</h2>"
      ],
      "text/plain": [
       "<IPython.core.display.HTML object>"
      ]
     },
     "metadata": {},
     "output_type": "display_data"
    },
    {
     "data": {
      "text/html": [
       "<style type=\"text/css\">\n",
       "#T_f8464 .level0 {\n",
       "  text-align: start;\n",
       "}\n",
       "#T_f8464  {\n",
       "  font-variant-numeric: tabular-nums;\n",
       "  margin-top: 0;\n",
       "  margin-bottom: 2.0em;\n",
       "}\n",
       "</style>\n",
       "<table id=\"T_f8464\">\n",
       "  <thead>\n",
       "    <tr>\n",
       "      <th class=\"blank level0\" >&nbsp;</th>\n",
       "      <th id=\"T_f8464_level0_col0\" class=\"col_heading level0 col0\" >Pieces (Meta)</th>\n",
       "      <th id=\"T_f8464_level0_col1\" class=\"col_heading level0 col1\" >π</th>\n",
       "      <th id=\"T_f8464_level0_col2\" class=\"col_heading level0 col2\" >Reports (NCMEC)</th>\n",
       "    </tr>\n",
       "    <tr>\n",
       "      <th class=\"index_name level0\" >Year</th>\n",
       "      <th class=\"blank col0\" >&nbsp;</th>\n",
       "      <th class=\"blank col1\" >&nbsp;</th>\n",
       "      <th class=\"blank col2\" >&nbsp;</th>\n",
       "    </tr>\n",
       "  </thead>\n",
       "  <tbody>\n",
       "    <tr>\n",
       "      <th id=\"T_f8464_level0_row0\" class=\"row_heading level0 row0\" >2019</th>\n",
       "      <td id=\"T_f8464_row0_col0\" class=\"data row0 col0\" >39,368,400</td>\n",
       "      <td id=\"T_f8464_row0_col1\" class=\"data row0 col1\" >2.48</td>\n",
       "      <td id=\"T_f8464_row0_col2\" class=\"data row0 col2\" >15,884,511</td>\n",
       "    </tr>\n",
       "    <tr>\n",
       "      <th id=\"T_f8464_level0_row1\" class=\"row_heading level0 row1\" >2020</th>\n",
       "      <td id=\"T_f8464_row1_col0\" class=\"data row1 col0\" >38,890,800</td>\n",
       "      <td id=\"T_f8464_row1_col1\" class=\"data row1 col1\" >1.92</td>\n",
       "      <td id=\"T_f8464_row1_col2\" class=\"data row1 col2\" >20,307,216</td>\n",
       "    </tr>\n",
       "    <tr>\n",
       "      <th id=\"T_f8464_level0_row2\" class=\"row_heading level0 row2\" >2021</th>\n",
       "      <td id=\"T_f8464_row2_col0\" class=\"data row2 col0\" >78,012,400</td>\n",
       "      <td id=\"T_f8464_row2_col1\" class=\"data row2 col1\" >2.90</td>\n",
       "      <td id=\"T_f8464_row2_col2\" class=\"data row2 col2\" >26,885,302</td>\n",
       "    </tr>\n",
       "    <tr>\n",
       "      <th id=\"T_f8464_level0_row3\" class=\"row_heading level0 row3\" >2022</th>\n",
       "      <td id=\"T_f8464_row3_col0\" class=\"data row3 col0\" >105,800,000</td>\n",
       "      <td id=\"T_f8464_row3_col1\" class=\"data row3 col1\" >3.89</td>\n",
       "      <td id=\"T_f8464_row3_col2\" class=\"data row3 col2\" >27,190,665</td>\n",
       "    </tr>\n",
       "    <tr>\n",
       "      <th id=\"T_f8464_level0_row4\" class=\"row_heading level0 row4\" >2023</th>\n",
       "      <td id=\"T_f8464_row4_col0\" class=\"data row4 col0\" >63,300,000</td>\n",
       "      <td id=\"T_f8464_row4_col1\" class=\"data row4 col1\" >2.06</td>\n",
       "      <td id=\"T_f8464_row4_col2\" class=\"data row4 col2\" >30,658,047</td>\n",
       "    </tr>\n",
       "  </tbody>\n",
       "</table>\n"
      ],
      "text/plain": [
       "<pandas.io.formats.style.Styler at 0x1287306d0>"
      ]
     },
     "metadata": {},
     "output_type": "display_data"
    }
   ],
   "source": [
    "yearly_pieces = (\n",
    "    quarterly_pieces\n",
    "    .groupby(quarterly_pieces.index.year)\n",
    "    .sum()\n",
    "    .loc[2019:2023]  # Drop Q3/4 2018\n",
    ")\n",
    "\n",
    "# Summing groups by index.year results in an integer index (go figure),\n",
    "# so we have to explicitly restore the yearly index.\n",
    "yearly_pieces = pd.Series(\n",
    "    yearly_pieces.values,\n",
    "    index=[pd.Period(y) for y in yearly_pieces.index],\n",
    ")\n",
    "\n",
    "pieces_and_reports = pd.DataFrame({\n",
    "    \"Pieces (Meta)\": yearly_pieces,\n",
    "    \"Reports (NCMEC)\": ncmec[\"Meta\"],\n",
    "}, index=[pd.Period(y) for y in range(2019, 2024)])\n",
    "\n",
    "pieces_and_reports.index.name = \"Year\"\n",
    "pieces_and_reports.insert(\n",
    "    1,\n",
    "    column=\"π\",\n",
    "    value=pieces_and_reports[\"Pieces (Meta)\"] / pieces_and_reports[\"Reports (NCMEC)\"],\n",
    ")\n",
    "\n",
    "show(\"<h2>Pieces vs Reports</h2>\")\n",
    "show(pieces_and_reports)"
   ]
  },
  {
   "cell_type": "code",
   "execution_count": 7,
   "metadata": {},
   "outputs": [
    {
     "data": {
      "image/png": "[encoded data removed]",
      "text/plain": [
       "<Figure size 350x480 with 1 Axes>"
      ]
     },
     "metadata": {},
     "output_type": "display_data"
    }
   ],
   "source": [
    "def plot_pieces_and_reports(ax):\n",
    "    data = pieces_and_reports[[\"Pieces (Meta)\", \"Reports (NCMEC)\"]]\n",
    "    data.plot.line(\n",
    "        ax=ax,\n",
    "        #color=[\"#ea70a1\", \"#8d52d2\"]\n",
    "        color=['#e90484', '#8b17dc', '#d306d3', '#0d59a0']\n",
    "    )\n",
    "\n",
    "    ax.set_xlabel('Year', fontstyle='italic')\n",
    "    ax.set_ylabel('Million Pieces or Reports', fontstyle='italic')\n",
    "    ax.get_yaxis().set_major_formatter(\n",
    "        mpl.ticker.FuncFormatter(lambda x, p: format(int(x/1_000_000), ',')))\n",
    "    ax.grid(axis=\"y\")\n",
    "    ax.set_ylim(0, 108_000_000)\n",
    "\n",
    "fig, ax = plt.subplots()\n",
    "fig.set_figwidth(3.5)\n",
    "plot_pieces_and_reports(ax)"
   ]
  },
  {
   "cell_type": "code",
   "execution_count": 8,
   "metadata": {},
   "outputs": [
    {
     "data": {
      "image/png": "[encoded data removed]",
      "text/plain": [
       "<Figure size 800x480 with 2 Axes>"
      ]
     },
     "metadata": {},
     "output_type": "display_data"
    }
   ],
   "source": [
    "fig, [ax1, ax2] = plt.subplots(\n",
    "    nrows=1, ncols=2,\n",
    "    figsize=[8, 4.8],\n",
    "    width_ratios=[2.5, 1],\n",
    ")\n",
    "\n",
    "plot_pieces(ax1)\n",
    "plot_pieces_and_reports(ax2)\n",
    "\n",
    "ax1.legend(loc=\"upper left\")\n",
    "ax2.yaxis.set_label_position('right')\n",
    "ax2.yaxis.tick_right()\n",
    "\n",
    "plt.tight_layout()\n",
    "fig.savefig('../figure/meta.svg')"
   ]
  },
  {
   "cell_type": "code",
   "execution_count": 9,
   "metadata": {},
   "outputs": [
    {
     "data": {
      "text/html": [
       "<h2>Meta Rewrites History</h2>"
      ],
      "text/plain": [
       "<IPython.core.display.HTML object>"
      ]
     },
     "metadata": {},
     "output_type": "display_data"
    },
    {
     "data": {
      "text/html": [
       "\n",
       "    While testing an update to my data analysis code, I discovered that Meta had\n",
       "    changed seemingly arbitrary entries for previously disclosed transparency\n",
       "    statistics. This section tracks the extent of these unacknowledged and\n",
       "    unexplained changes by comparing Meta's CSV files quarter over quarter.\n",
       "    "
      ],
      "text/plain": [
       "<IPython.core.display.HTML object>"
      ]
     },
     "metadata": {},
     "output_type": "display_data"
    },
    {
     "data": {
      "text/html": [
       "<h3>Divergence for CSAM Metrics Only</h3>"
      ],
      "text/plain": [
       "<IPython.core.display.HTML object>"
      ]
     },
     "metadata": {},
     "output_type": "display_data"
    },
    {
     "data": {
      "text/html": [
       "<h2>Δ(Q3-2021 / Q2-2021)</h2>"
      ],
      "text/plain": [
       "<IPython.core.display.HTML object>"
      ]
     },
     "metadata": {},
     "output_type": "display_data"
    },
    {
     "data": {
      "text/html": [
       "There are 12 divergent CSAM metrics:"
      ],
      "text/plain": [
       "<IPython.core.display.HTML object>"
      ]
     },
     "metadata": {},
     "output_type": "display_data"
    },
    {
     "data": {
      "text/html": [
       "<style type=\"text/css\">\n",
       "#T_6ca0d .col0 {\n",
       "  text-align: start;\n",
       "}\n",
       "#T_6ca0d .col1 {\n",
       "  text-align: start;\n",
       "}\n",
       "#T_6ca0d .col2 {\n",
       "  text-align: start;\n",
       "}\n",
       "#T_6ca0d .col3 {\n",
       "  text-align: start;\n",
       "}\n",
       "#T_6ca0d  {\n",
       "  font-variant-numeric: tabular-nums;\n",
       "  margin-top: 0;\n",
       "  margin-bottom: 2.0em;\n",
       "}\n",
       "</style>\n",
       "<table id=\"T_6ca0d\">\n",
       "  <thead>\n",
       "    <tr>\n",
       "      <th class=\"blank level0\" >&nbsp;</th>\n",
       "      <th id=\"T_6ca0d_level0_col0\" class=\"col_heading level0 col0\" >app</th>\n",
       "      <th id=\"T_6ca0d_level0_col1\" class=\"col_heading level0 col1\" >policy_area</th>\n",
       "      <th id=\"T_6ca0d_level0_col2\" class=\"col_heading level0 col2\" >metric</th>\n",
       "      <th id=\"T_6ca0d_level0_col3\" class=\"col_heading level0 col3\" >period</th>\n",
       "      <th id=\"T_6ca0d_level0_col4\" class=\"col_heading level0 col4\" >value_q2_2021</th>\n",
       "      <th id=\"T_6ca0d_level0_col5\" class=\"col_heading level0 col5\" >value_q3_2021</th>\n",
       "    </tr>\n",
       "  </thead>\n",
       "  <tbody>\n",
       "    <tr>\n",
       "      <th id=\"T_6ca0d_level0_row0\" class=\"row_heading level0 row0\" >69</th>\n",
       "      <td id=\"T_6ca0d_row0_col0\" class=\"data row0 col0\" >Facebook</td>\n",
       "      <td id=\"T_6ca0d_row0_col1\" class=\"data row0 col1\" >Child Nudity & Sexual Exploitation</td>\n",
       "      <td id=\"T_6ca0d_row0_col2\" class=\"data row0 col2\" >Content Actioned</td>\n",
       "      <td id=\"T_6ca0d_row0_col3\" class=\"data row0 col3\" >2020Q1</td>\n",
       "      <td id=\"T_6ca0d_row0_col4\" class=\"data row0 col4\" >8,600,000.0</td>\n",
       "      <td id=\"T_6ca0d_row0_col5\" class=\"data row0 col5\" >8,500,000.0</td>\n",
       "    </tr>\n",
       "    <tr>\n",
       "      <th id=\"T_6ca0d_level0_row1\" class=\"row_heading level0 row1\" >651</th>\n",
       "      <td id=\"T_6ca0d_row1_col0\" class=\"data row1 col0\" >Facebook</td>\n",
       "      <td id=\"T_6ca0d_row1_col1\" class=\"data row1 col1\" >Child Nudity & Sexual Exploitation</td>\n",
       "      <td id=\"T_6ca0d_row1_col2\" class=\"data row1 col2\" >Content Restored without appeal</td>\n",
       "      <td id=\"T_6ca0d_row1_col3\" class=\"data row1 col3\" >2020Q1</td>\n",
       "      <td id=\"T_6ca0d_row1_col4\" class=\"data row1 col4\" >1,000.0</td>\n",
       "      <td id=\"T_6ca0d_row1_col5\" class=\"data row1 col5\" >500.0</td>\n",
       "    </tr>\n",
       "    <tr>\n",
       "      <th id=\"T_6ca0d_level0_row2\" class=\"row_heading level0 row2\" >70</th>\n",
       "      <td id=\"T_6ca0d_row2_col0\" class=\"data row2 col0\" >Facebook</td>\n",
       "      <td id=\"T_6ca0d_row2_col1\" class=\"data row2 col1\" >Child Nudity & Sexual Exploitation</td>\n",
       "      <td id=\"T_6ca0d_row2_col2\" class=\"data row2 col2\" >Content Actioned</td>\n",
       "      <td id=\"T_6ca0d_row2_col3\" class=\"data row2 col3\" >2020Q2</td>\n",
       "      <td id=\"T_6ca0d_row2_col4\" class=\"data row2 col4\" >9,500,000.0</td>\n",
       "      <td id=\"T_6ca0d_row2_col5\" class=\"data row2 col5\" >9,400,000.0</td>\n",
       "    </tr>\n",
       "    <tr>\n",
       "      <th id=\"T_6ca0d_level0_row3\" class=\"row_heading level0 row3\" >652</th>\n",
       "      <td id=\"T_6ca0d_row3_col0\" class=\"data row3 col0\" >Facebook</td>\n",
       "      <td id=\"T_6ca0d_row3_col1\" class=\"data row3 col1\" >Child Nudity & Sexual Exploitation</td>\n",
       "      <td id=\"T_6ca0d_row3_col2\" class=\"data row3 col2\" >Content Restored without appeal</td>\n",
       "      <td id=\"T_6ca0d_row3_col3\" class=\"data row3 col3\" >2020Q2</td>\n",
       "      <td id=\"T_6ca0d_row3_col4\" class=\"data row3 col4\" >70.0</td>\n",
       "      <td id=\"T_6ca0d_row3_col5\" class=\"data row3 col5\" >50.0</td>\n",
       "    </tr>\n",
       "    <tr>\n",
       "      <th id=\"T_6ca0d_level0_row4\" class=\"row_heading level0 row4\" >653</th>\n",
       "      <td id=\"T_6ca0d_row4_col0\" class=\"data row4 col0\" >Facebook</td>\n",
       "      <td id=\"T_6ca0d_row4_col1\" class=\"data row4 col1\" >Child Nudity & Sexual Exploitation</td>\n",
       "      <td id=\"T_6ca0d_row4_col2\" class=\"data row4 col2\" >Content Restored without appeal</td>\n",
       "      <td id=\"T_6ca0d_row4_col3\" class=\"data row4 col3\" >2020Q3</td>\n",
       "      <td id=\"T_6ca0d_row4_col4\" class=\"data row4 col4\" >1,300.0</td>\n",
       "      <td id=\"T_6ca0d_row4_col5\" class=\"data row4 col5\" >1,200.0</td>\n",
       "    </tr>\n",
       "    <tr>\n",
       "      <th id=\"T_6ca0d_level0_row5\" class=\"row_heading level0 row5\" >72</th>\n",
       "      <td id=\"T_6ca0d_row5_col0\" class=\"data row5 col0\" >Facebook</td>\n",
       "      <td id=\"T_6ca0d_row5_col1\" class=\"data row5 col1\" >Child Nudity & Sexual Exploitation</td>\n",
       "      <td id=\"T_6ca0d_row5_col2\" class=\"data row5 col2\" >Content Actioned</td>\n",
       "      <td id=\"T_6ca0d_row5_col3\" class=\"data row5 col3\" >2020Q4</td>\n",
       "      <td id=\"T_6ca0d_row5_col4\" class=\"data row5 col4\" >5,400,000.0</td>\n",
       "      <td id=\"T_6ca0d_row5_col5\" class=\"data row5 col5\" >5,300,000.0</td>\n",
       "    </tr>\n",
       "    <tr>\n",
       "      <th id=\"T_6ca0d_level0_row6\" class=\"row_heading level0 row6\" >654</th>\n",
       "      <td id=\"T_6ca0d_row6_col0\" class=\"data row6 col0\" >Facebook</td>\n",
       "      <td id=\"T_6ca0d_row6_col1\" class=\"data row6 col1\" >Child Nudity & Sexual Exploitation</td>\n",
       "      <td id=\"T_6ca0d_row6_col2\" class=\"data row6 col2\" >Content Restored without appeal</td>\n",
       "      <td id=\"T_6ca0d_row6_col3\" class=\"data row6 col3\" >2020Q4</td>\n",
       "      <td id=\"T_6ca0d_row6_col4\" class=\"data row6 col4\" >3,300.0</td>\n",
       "      <td id=\"T_6ca0d_row6_col5\" class=\"data row6 col5\" >3,200.0</td>\n",
       "    </tr>\n",
       "    <tr>\n",
       "      <th id=\"T_6ca0d_level0_row7\" class=\"row_heading level0 row7\" >655</th>\n",
       "      <td id=\"T_6ca0d_row7_col0\" class=\"data row7 col0\" >Facebook</td>\n",
       "      <td id=\"T_6ca0d_row7_col1\" class=\"data row7 col1\" >Child Nudity & Sexual Exploitation</td>\n",
       "      <td id=\"T_6ca0d_row7_col2\" class=\"data row7 col2\" >Content Restored without appeal</td>\n",
       "      <td id=\"T_6ca0d_row7_col3\" class=\"data row7 col3\" >2021Q1</td>\n",
       "      <td id=\"T_6ca0d_row7_col4\" class=\"data row7 col4\" >46,700.0</td>\n",
       "      <td id=\"T_6ca0d_row7_col5\" class=\"data row7 col5\" >46,600.0</td>\n",
       "    </tr>\n",
       "    <tr>\n",
       "      <th id=\"T_6ca0d_level0_row8\" class=\"row_heading level0 row8\" >1058</th>\n",
       "      <td id=\"T_6ca0d_row8_col0\" class=\"data row8 col0\" >Instagram</td>\n",
       "      <td id=\"T_6ca0d_row8_col1\" class=\"data row8 col1\" >Child Nudity & Sexual Exploitation</td>\n",
       "      <td id=\"T_6ca0d_row8_col2\" class=\"data row8 col2\" >Content Actioned</td>\n",
       "      <td id=\"T_6ca0d_row8_col3\" class=\"data row8 col3\" >2021Q1</td>\n",
       "      <td id=\"T_6ca0d_row8_col4\" class=\"data row8 col4\" >812,300.0</td>\n",
       "      <td id=\"T_6ca0d_row8_col5\" class=\"data row8 col5\" >812,400.0</td>\n",
       "    </tr>\n",
       "    <tr>\n",
       "      <th id=\"T_6ca0d_level0_row9\" class=\"row_heading level0 row9\" >59</th>\n",
       "      <td id=\"T_6ca0d_row9_col0\" class=\"data row9 col0\" >Facebook</td>\n",
       "      <td id=\"T_6ca0d_row9_col1\" class=\"data row9 col1\" >Child Endangerment: Sexual Exploitation</td>\n",
       "      <td id=\"T_6ca0d_row9_col2\" class=\"data row9 col2\" >Content Actioned</td>\n",
       "      <td id=\"T_6ca0d_row9_col3\" class=\"data row9 col3\" >2021Q2</td>\n",
       "      <td id=\"T_6ca0d_row9_col4\" class=\"data row9 col4\" >25,700,000.0</td>\n",
       "      <td id=\"T_6ca0d_row9_col5\" class=\"data row9 col5\" >25,600,000.0</td>\n",
       "    </tr>\n",
       "    <tr>\n",
       "      <th id=\"T_6ca0d_level0_row10\" class=\"row_heading level0 row10\" >447</th>\n",
       "      <td id=\"T_6ca0d_row10_col0\" class=\"data row10 col0\" >Facebook</td>\n",
       "      <td id=\"T_6ca0d_row10_col1\" class=\"data row10 col1\" >Child Endangerment: Sexual Exploitation</td>\n",
       "      <td id=\"T_6ca0d_row10_col2\" class=\"data row10 col2\" >Content Restored with appeal</td>\n",
       "      <td id=\"T_6ca0d_row10_col3\" class=\"data row10 col3\" >2021Q2</td>\n",
       "      <td id=\"T_6ca0d_row10_col4\" class=\"data row10 col4\" >30.0</td>\n",
       "      <td id=\"T_6ca0d_row10_col5\" class=\"data row10 col5\" >40.0</td>\n",
       "    </tr>\n",
       "    <tr>\n",
       "      <th id=\"T_6ca0d_level0_row11\" class=\"row_heading level0 row11\" >641</th>\n",
       "      <td id=\"T_6ca0d_row11_col0\" class=\"data row11 col0\" >Facebook</td>\n",
       "      <td id=\"T_6ca0d_row11_col1\" class=\"data row11 col1\" >Child Endangerment: Sexual Exploitation</td>\n",
       "      <td id=\"T_6ca0d_row11_col2\" class=\"data row11 col2\" >Content Restored without appeal</td>\n",
       "      <td id=\"T_6ca0d_row11_col3\" class=\"data row11 col3\" >2021Q2</td>\n",
       "      <td id=\"T_6ca0d_row11_col4\" class=\"data row11 col4\" >2,800.0</td>\n",
       "      <td id=\"T_6ca0d_row11_col5\" class=\"data row11 col5\" >2,600.0</td>\n",
       "    </tr>\n",
       "  </tbody>\n",
       "</table>\n"
      ],
      "text/plain": [
       "<pandas.io.formats.style.Styler at 0x1288d7110>"
      ]
     },
     "metadata": {},
     "output_type": "display_data"
    },
    {
     "data": {
      "text/html": [
       "<h2>Δ(Q4-2021 / Q3-2021)</h2>"
      ],
      "text/plain": [
       "<IPython.core.display.HTML object>"
      ]
     },
     "metadata": {},
     "output_type": "display_data"
    },
    {
     "data": {
      "text/html": [
       "There are 3 divergent CSAM metrics:"
      ],
      "text/plain": [
       "<IPython.core.display.HTML object>"
      ]
     },
     "metadata": {},
     "output_type": "display_data"
    },
    {
     "data": {
      "text/html": [
       "<style type=\"text/css\">\n",
       "#T_75aad .col0 {\n",
       "  text-align: start;\n",
       "}\n",
       "#T_75aad .col1 {\n",
       "  text-align: start;\n",
       "}\n",
       "#T_75aad .col2 {\n",
       "  text-align: start;\n",
       "}\n",
       "#T_75aad .col3 {\n",
       "  text-align: start;\n",
       "}\n",
       "#T_75aad  {\n",
       "  font-variant-numeric: tabular-nums;\n",
       "  margin-top: 0;\n",
       "  margin-bottom: 2.0em;\n",
       "}\n",
       "</style>\n",
       "<table id=\"T_75aad\">\n",
       "  <thead>\n",
       "    <tr>\n",
       "      <th class=\"blank level0\" >&nbsp;</th>\n",
       "      <th id=\"T_75aad_level0_col0\" class=\"col_heading level0 col0\" >app</th>\n",
       "      <th id=\"T_75aad_level0_col1\" class=\"col_heading level0 col1\" >policy_area</th>\n",
       "      <th id=\"T_75aad_level0_col2\" class=\"col_heading level0 col2\" >metric</th>\n",
       "      <th id=\"T_75aad_level0_col3\" class=\"col_heading level0 col3\" >period</th>\n",
       "      <th id=\"T_75aad_level0_col4\" class=\"col_heading level0 col4\" >value_q3_2021</th>\n",
       "      <th id=\"T_75aad_level0_col5\" class=\"col_heading level0 col5\" >value_q4_2021</th>\n",
       "    </tr>\n",
       "  </thead>\n",
       "  <tbody>\n",
       "    <tr>\n",
       "      <th id=\"T_75aad_level0_row0\" class=\"row_heading level0 row0\" >474</th>\n",
       "      <td id=\"T_75aad_row0_col0\" class=\"data row0 col0\" >Facebook</td>\n",
       "      <td id=\"T_75aad_row0_col1\" class=\"data row0 col1\" >Child Endangerment: Sexual Exploitation</td>\n",
       "      <td id=\"T_75aad_row0_col2\" class=\"data row0 col2\" >Content Restored with appeal</td>\n",
       "      <td id=\"T_75aad_row0_col3\" class=\"data row0 col3\" >2021Q2</td>\n",
       "      <td id=\"T_75aad_row0_col4\" class=\"data row0 col4\" >40.0</td>\n",
       "      <td id=\"T_75aad_row0_col5\" class=\"data row0 col5\" >50.0</td>\n",
       "    </tr>\n",
       "    <tr>\n",
       "      <th id=\"T_75aad_level0_row1\" class=\"row_heading level0 row1\" >680</th>\n",
       "      <td id=\"T_75aad_row1_col0\" class=\"data row1 col0\" >Facebook</td>\n",
       "      <td id=\"T_75aad_row1_col1\" class=\"data row1 col1\" >Child Endangerment: Sexual Exploitation</td>\n",
       "      <td id=\"T_75aad_row1_col2\" class=\"data row1 col2\" >Content Restored without appeal</td>\n",
       "      <td id=\"T_75aad_row1_col3\" class=\"data row1 col3\" >2021Q2</td>\n",
       "      <td id=\"T_75aad_row1_col4\" class=\"data row1 col4\" >2,600.0</td>\n",
       "      <td id=\"T_75aad_row1_col5\" class=\"data row1 col5\" >2,800.0</td>\n",
       "    </tr>\n",
       "    <tr>\n",
       "      <th id=\"T_75aad_level0_row2\" class=\"row_heading level0 row2\" >63</th>\n",
       "      <td id=\"T_75aad_row2_col0\" class=\"data row2 col0\" >Facebook</td>\n",
       "      <td id=\"T_75aad_row2_col1\" class=\"data row2 col1\" >Child Endangerment: Sexual Exploitation</td>\n",
       "      <td id=\"T_75aad_row2_col2\" class=\"data row2 col2\" >Content Actioned</td>\n",
       "      <td id=\"T_75aad_row2_col3\" class=\"data row2 col3\" >2021Q3</td>\n",
       "      <td id=\"T_75aad_row2_col4\" class=\"data row2 col4\" >20,900,000.0</td>\n",
       "      <td id=\"T_75aad_row2_col5\" class=\"data row2 col5\" >21,200,000.0</td>\n",
       "    </tr>\n",
       "  </tbody>\n",
       "</table>\n"
      ],
      "text/plain": [
       "<pandas.io.formats.style.Styler at 0x1288a20d0>"
      ]
     },
     "metadata": {},
     "output_type": "display_data"
    },
    {
     "data": {
      "text/html": [
       "<h2>Δ(Q1-2022 / Q4-2021)</h2>"
      ],
      "text/plain": [
       "<IPython.core.display.HTML object>"
      ]
     },
     "metadata": {},
     "output_type": "display_data"
    },
    {
     "data": {
      "text/html": [
       "There are 7 divergent CSAM metrics:"
      ],
      "text/plain": [
       "<IPython.core.display.HTML object>"
      ]
     },
     "metadata": {},
     "output_type": "display_data"
    },
    {
     "data": {
      "text/html": [
       "<style type=\"text/css\">\n",
       "#T_34e7b .col0 {\n",
       "  text-align: start;\n",
       "}\n",
       "#T_34e7b .col1 {\n",
       "  text-align: start;\n",
       "}\n",
       "#T_34e7b .col2 {\n",
       "  text-align: start;\n",
       "}\n",
       "#T_34e7b .col3 {\n",
       "  text-align: start;\n",
       "}\n",
       "#T_34e7b  {\n",
       "  font-variant-numeric: tabular-nums;\n",
       "  margin-top: 0;\n",
       "  margin-bottom: 2.0em;\n",
       "}\n",
       "</style>\n",
       "<table id=\"T_34e7b\">\n",
       "  <thead>\n",
       "    <tr>\n",
       "      <th class=\"blank level0\" >&nbsp;</th>\n",
       "      <th id=\"T_34e7b_level0_col0\" class=\"col_heading level0 col0\" >app</th>\n",
       "      <th id=\"T_34e7b_level0_col1\" class=\"col_heading level0 col1\" >policy_area</th>\n",
       "      <th id=\"T_34e7b_level0_col2\" class=\"col_heading level0 col2\" >metric</th>\n",
       "      <th id=\"T_34e7b_level0_col3\" class=\"col_heading level0 col3\" >period</th>\n",
       "      <th id=\"T_34e7b_level0_col4\" class=\"col_heading level0 col4\" >value_q4_2021</th>\n",
       "      <th id=\"T_34e7b_level0_col5\" class=\"col_heading level0 col5\" >value_q1_2022</th>\n",
       "    </tr>\n",
       "  </thead>\n",
       "  <tbody>\n",
       "    <tr>\n",
       "      <th id=\"T_34e7b_level0_row0\" class=\"row_heading level0 row0\" >78</th>\n",
       "      <td id=\"T_34e7b_row0_col0\" class=\"data row0 col0\" >Facebook</td>\n",
       "      <td id=\"T_34e7b_row0_col1\" class=\"data row0 col1\" >Child Nudity & Sexual Exploitation</td>\n",
       "      <td id=\"T_34e7b_row0_col2\" class=\"data row0 col2\" >Content Actioned</td>\n",
       "      <td id=\"T_34e7b_row0_col3\" class=\"data row0 col3\" >2020Q2</td>\n",
       "      <td id=\"T_34e7b_row0_col4\" class=\"data row0 col4\" >9,400,000.0</td>\n",
       "      <td id=\"T_34e7b_row0_col5\" class=\"data row0 col5\" >2,800,000.0</td>\n",
       "    </tr>\n",
       "    <tr>\n",
       "      <th id=\"T_34e7b_level0_row1\" class=\"row_heading level0 row1\" >330</th>\n",
       "      <td id=\"T_34e7b_row1_col0\" class=\"data row1 col0\" >Facebook</td>\n",
       "      <td id=\"T_34e7b_row1_col1\" class=\"data row1 col1\" >Child Nudity & Sexual Exploitation</td>\n",
       "      <td id=\"T_34e7b_row1_col2\" class=\"data row1 col2\" >Content Appealed</td>\n",
       "      <td id=\"T_34e7b_row1_col3\" class=\"data row1 col3\" >2020Q2</td>\n",
       "      <td id=\"T_34e7b_row1_col4\" class=\"data row1 col4\" >40.0</td>\n",
       "      <td id=\"T_34e7b_row1_col5\" class=\"data row1 col5\" >20.0</td>\n",
       "    </tr>\n",
       "    <tr>\n",
       "      <th id=\"T_34e7b_level0_row2\" class=\"row_heading level0 row2\" >800</th>\n",
       "      <td id=\"T_34e7b_row2_col0\" class=\"data row2 col0\" >Facebook</td>\n",
       "      <td id=\"T_34e7b_row2_col1\" class=\"data row2 col1\" >Child Nudity & Sexual Exploitation</td>\n",
       "      <td id=\"T_34e7b_row2_col2\" class=\"data row2 col2\" >Content Restored without appeal</td>\n",
       "      <td id=\"T_34e7b_row2_col3\" class=\"data row2 col3\" >2020Q2</td>\n",
       "      <td id=\"T_34e7b_row2_col4\" class=\"data row2 col4\" >50.0</td>\n",
       "      <td id=\"T_34e7b_row2_col5\" class=\"data row2 col5\" >40.0</td>\n",
       "    </tr>\n",
       "    <tr>\n",
       "      <th id=\"T_34e7b_level0_row3\" class=\"row_heading level0 row3\" >1035</th>\n",
       "      <td id=\"T_34e7b_row3_col0\" class=\"data row3 col0\" >Facebook</td>\n",
       "      <td id=\"T_34e7b_row3_col1\" class=\"data row3 col1\" >Child Nudity & Sexual Exploitation</td>\n",
       "      <td id=\"T_34e7b_row3_col2\" class=\"data row3 col2\" >Proactive rate</td>\n",
       "      <td id=\"T_34e7b_row3_col3\" class=\"data row3 col3\" >2020Q2</td>\n",
       "      <td id=\"T_34e7b_row3_col4\" class=\"data row3 col4\" >99.2</td>\n",
       "      <td id=\"T_34e7b_row3_col5\" class=\"data row3 col5\" >97.8</td>\n",
       "    </tr>\n",
       "    <tr>\n",
       "      <th id=\"T_34e7b_level0_row4\" class=\"row_heading level0 row4\" >1287</th>\n",
       "      <td id=\"T_34e7b_row4_col0\" class=\"data row4 col0\" >Instagram</td>\n",
       "      <td id=\"T_34e7b_row4_col1\" class=\"data row4 col1\" >Child Nudity & Sexual Exploitation</td>\n",
       "      <td id=\"T_34e7b_row4_col2\" class=\"data row4 col2\" >Content Actioned</td>\n",
       "      <td id=\"T_34e7b_row4_col3\" class=\"data row4 col3\" >2020Q2</td>\n",
       "      <td id=\"T_34e7b_row4_col4\" class=\"data row4 col4\" >481,400.0</td>\n",
       "      <td id=\"T_34e7b_row4_col5\" class=\"data row4 col5\" >158,200.0</td>\n",
       "    </tr>\n",
       "    <tr>\n",
       "      <th id=\"T_34e7b_level0_row5\" class=\"row_heading level0 row5\" >1926</th>\n",
       "      <td id=\"T_34e7b_row5_col0\" class=\"data row5 col0\" >Instagram</td>\n",
       "      <td id=\"T_34e7b_row5_col1\" class=\"data row5 col1\" >Child Nudity & Sexual Exploitation</td>\n",
       "      <td id=\"T_34e7b_row5_col2\" class=\"data row5 col2\" >Content Restored without appeal</td>\n",
       "      <td id=\"T_34e7b_row5_col3\" class=\"data row5 col3\" >2020Q2</td>\n",
       "      <td id=\"T_34e7b_row5_col4\" class=\"data row5 col4\" >30.0</td>\n",
       "      <td id=\"T_34e7b_row5_col5\" class=\"data row5 col5\" >20.0</td>\n",
       "    </tr>\n",
       "    <tr>\n",
       "      <th id=\"T_34e7b_level0_row6\" class=\"row_heading level0 row6\" >2114</th>\n",
       "      <td id=\"T_34e7b_row6_col0\" class=\"data row6 col0\" >Instagram</td>\n",
       "      <td id=\"T_34e7b_row6_col1\" class=\"data row6 col1\" >Child Nudity & Sexual Exploitation</td>\n",
       "      <td id=\"T_34e7b_row6_col2\" class=\"data row6 col2\" >Proactive rate</td>\n",
       "      <td id=\"T_34e7b_row6_col3\" class=\"data row6 col3\" >2020Q2</td>\n",
       "      <td id=\"T_34e7b_row6_col4\" class=\"data row6 col4\" >95.8</td>\n",
       "      <td id=\"T_34e7b_row6_col5\" class=\"data row6 col5\" >91.3</td>\n",
       "    </tr>\n",
       "  </tbody>\n",
       "</table>\n"
      ],
      "text/plain": [
       "<pandas.io.formats.style.Styler at 0x1288dca10>"
      ]
     },
     "metadata": {},
     "output_type": "display_data"
    },
    {
     "data": {
      "text/html": [
       "<h2>Δ(Q2-2022 / Q1-2022)</h2>"
      ],
      "text/plain": [
       "<IPython.core.display.HTML object>"
      ]
     },
     "metadata": {},
     "output_type": "display_data"
    },
    {
     "data": {
      "text/html": [
       "There are 7 divergent CSAM metrics:"
      ],
      "text/plain": [
       "<IPython.core.display.HTML object>"
      ]
     },
     "metadata": {},
     "output_type": "display_data"
    },
    {
     "data": {
      "text/html": [
       "<style type=\"text/css\">\n",
       "#T_ce128 .col0 {\n",
       "  text-align: start;\n",
       "}\n",
       "#T_ce128 .col1 {\n",
       "  text-align: start;\n",
       "}\n",
       "#T_ce128 .col2 {\n",
       "  text-align: start;\n",
       "}\n",
       "#T_ce128 .col3 {\n",
       "  text-align: start;\n",
       "}\n",
       "#T_ce128  {\n",
       "  font-variant-numeric: tabular-nums;\n",
       "  margin-top: 0;\n",
       "  margin-bottom: 2.0em;\n",
       "}\n",
       "</style>\n",
       "<table id=\"T_ce128\">\n",
       "  <thead>\n",
       "    <tr>\n",
       "      <th class=\"blank level0\" >&nbsp;</th>\n",
       "      <th id=\"T_ce128_level0_col0\" class=\"col_heading level0 col0\" >app</th>\n",
       "      <th id=\"T_ce128_level0_col1\" class=\"col_heading level0 col1\" >policy_area</th>\n",
       "      <th id=\"T_ce128_level0_col2\" class=\"col_heading level0 col2\" >metric</th>\n",
       "      <th id=\"T_ce128_level0_col3\" class=\"col_heading level0 col3\" >period</th>\n",
       "      <th id=\"T_ce128_level0_col4\" class=\"col_heading level0 col4\" >value_q1_2022</th>\n",
       "      <th id=\"T_ce128_level0_col5\" class=\"col_heading level0 col5\" >value_q2_2022</th>\n",
       "    </tr>\n",
       "  </thead>\n",
       "  <tbody>\n",
       "    <tr>\n",
       "      <th id=\"T_ce128_level0_row0\" class=\"row_heading level0 row0\" >83</th>\n",
       "      <td id=\"T_ce128_row0_col0\" class=\"data row0 col0\" >Facebook</td>\n",
       "      <td id=\"T_ce128_row0_col1\" class=\"data row0 col1\" >Child Nudity & Sexual Exploitation</td>\n",
       "      <td id=\"T_ce128_row0_col2\" class=\"data row0 col2\" >Content Actioned</td>\n",
       "      <td id=\"T_ce128_row0_col3\" class=\"data row0 col3\" >2020Q3</td>\n",
       "      <td id=\"T_ce128_row0_col4\" class=\"data row0 col4\" >12,400,000.00</td>\n",
       "      <td id=\"T_ce128_row0_col5\" class=\"data row0 col5\" >10,000,000.0</td>\n",
       "    </tr>\n",
       "    <tr>\n",
       "      <th id=\"T_ce128_level0_row1\" class=\"row_heading level0 row1\" >1093</th>\n",
       "      <td id=\"T_ce128_row1_col0\" class=\"data row1 col0\" >Facebook</td>\n",
       "      <td id=\"T_ce128_row1_col1\" class=\"data row1 col1\" >Child Nudity & Sexual Exploitation</td>\n",
       "      <td id=\"T_ce128_row1_col2\" class=\"data row1 col2\" >Proactive rate</td>\n",
       "      <td id=\"T_ce128_row1_col3\" class=\"data row1 col3\" >2020Q3</td>\n",
       "      <td id=\"T_ce128_row1_col4\" class=\"data row1 col4\" >99.40</td>\n",
       "      <td id=\"T_ce128_row1_col5\" class=\"data row1 col5\" >99.5</td>\n",
       "    </tr>\n",
       "    <tr>\n",
       "      <th id=\"T_ce128_level0_row2\" class=\"row_heading level0 row2\" >1359</th>\n",
       "      <td id=\"T_ce128_row2_col0\" class=\"data row2 col0\" >Instagram</td>\n",
       "      <td id=\"T_ce128_row2_col1\" class=\"data row2 col1\" >Child Nudity & Sexual Exploitation</td>\n",
       "      <td id=\"T_ce128_row2_col2\" class=\"data row2 col2\" >Content Actioned</td>\n",
       "      <td id=\"T_ce128_row2_col3\" class=\"data row2 col3\" >2020Q3</td>\n",
       "      <td id=\"T_ce128_row2_col4\" class=\"data row2 col4\" >1,000,000.00</td>\n",
       "      <td id=\"T_ce128_row2_col5\" class=\"data row2 col5\" >770,600.0</td>\n",
       "    </tr>\n",
       "    <tr>\n",
       "      <th id=\"T_ce128_level0_row3\" class=\"row_heading level0 row3\" >1809</th>\n",
       "      <td id=\"T_ce128_row3_col0\" class=\"data row3 col0\" >Instagram</td>\n",
       "      <td id=\"T_ce128_row3_col1\" class=\"data row3 col1\" >Child Nudity & Sexual Exploitation</td>\n",
       "      <td id=\"T_ce128_row3_col2\" class=\"data row3 col2\" >Content Restored with appeal</td>\n",
       "      <td id=\"T_ce128_row3_col3\" class=\"data row3 col3\" >2020Q3</td>\n",
       "      <td id=\"T_ce128_row3_col4\" class=\"data row3 col4\" >10.00</td>\n",
       "      <td id=\"T_ce128_row3_col5\" class=\"data row3 col5\" >0.0</td>\n",
       "    </tr>\n",
       "    <tr>\n",
       "      <th id=\"T_ce128_level0_row4\" class=\"row_heading level0 row4\" >2234</th>\n",
       "      <td id=\"T_ce128_row4_col0\" class=\"data row4 col0\" >Instagram</td>\n",
       "      <td id=\"T_ce128_row4_col1\" class=\"data row4 col1\" >Child Nudity & Sexual Exploitation</td>\n",
       "      <td id=\"T_ce128_row4_col2\" class=\"data row4 col2\" >Proactive rate</td>\n",
       "      <td id=\"T_ce128_row4_col3\" class=\"data row4 col3\" >2020Q3</td>\n",
       "      <td id=\"T_ce128_row4_col4\" class=\"data row4 col4\" >96.70</td>\n",
       "      <td id=\"T_ce128_row4_col5\" class=\"data row4 col5\" >97.3</td>\n",
       "    </tr>\n",
       "    <tr>\n",
       "      <th id=\"T_ce128_level0_row5\" class=\"row_heading level0 row5\" >833</th>\n",
       "      <td id=\"T_ce128_row5_col0\" class=\"data row5 col0\" >Facebook</td>\n",
       "      <td id=\"T_ce128_row5_col1\" class=\"data row5 col1\" >Child Endangerment: Sexual Exploitation</td>\n",
       "      <td id=\"T_ce128_row5_col2\" class=\"data row5 col2\" >Content Restored without appeal</td>\n",
       "      <td id=\"T_ce128_row5_col3\" class=\"data row5 col3\" >2022Q1</td>\n",
       "      <td id=\"T_ce128_row5_col4\" class=\"data row5 col4\" >687,700.00</td>\n",
       "      <td id=\"T_ce128_row5_col5\" class=\"data row5 col5\" >687,800.0</td>\n",
       "    </tr>\n",
       "    <tr>\n",
       "      <th id=\"T_ce128_level0_row6\" class=\"row_heading level0 row6\" >2022</th>\n",
       "      <td id=\"T_ce128_row6_col0\" class=\"data row6 col0\" >Instagram</td>\n",
       "      <td id=\"T_ce128_row6_col1\" class=\"data row6 col1\" >Child Endangerment: Sexual Exploitation</td>\n",
       "      <td id=\"T_ce128_row6_col2\" class=\"data row6 col2\" >Content Restored without appeal</td>\n",
       "      <td id=\"T_ce128_row6_col3\" class=\"data row6 col3\" >2022Q1</td>\n",
       "      <td id=\"T_ce128_row6_col4\" class=\"data row6 col4\" >154,300.00</td>\n",
       "      <td id=\"T_ce128_row6_col5\" class=\"data row6 col5\" >154,200.0</td>\n",
       "    </tr>\n",
       "  </tbody>\n",
       "</table>\n"
      ],
      "text/plain": [
       "<pandas.io.formats.style.Styler at 0x128900e90>"
      ]
     },
     "metadata": {},
     "output_type": "display_data"
    },
    {
     "data": {
      "text/html": [
       "<h2>Δ(Q3-2022 / Q2-2022)</h2>"
      ],
      "text/plain": [
       "<IPython.core.display.HTML object>"
      ]
     },
     "metadata": {},
     "output_type": "display_data"
    },
    {
     "data": {
      "text/html": [
       "There are 11 divergent CSAM metrics:"
      ],
      "text/plain": [
       "<IPython.core.display.HTML object>"
      ]
     },
     "metadata": {},
     "output_type": "display_data"
    },
    {
     "data": {
      "text/html": [
       "<style type=\"text/css\">\n",
       "#T_f08e4 .col0 {\n",
       "  text-align: start;\n",
       "}\n",
       "#T_f08e4 .col1 {\n",
       "  text-align: start;\n",
       "}\n",
       "#T_f08e4 .col2 {\n",
       "  text-align: start;\n",
       "}\n",
       "#T_f08e4 .col3 {\n",
       "  text-align: start;\n",
       "}\n",
       "#T_f08e4  {\n",
       "  font-variant-numeric: tabular-nums;\n",
       "  margin-top: 0;\n",
       "  margin-bottom: 2.0em;\n",
       "}\n",
       "</style>\n",
       "<table id=\"T_f08e4\">\n",
       "  <thead>\n",
       "    <tr>\n",
       "      <th class=\"blank level0\" >&nbsp;</th>\n",
       "      <th id=\"T_f08e4_level0_col0\" class=\"col_heading level0 col0\" >app</th>\n",
       "      <th id=\"T_f08e4_level0_col1\" class=\"col_heading level0 col1\" >policy_area</th>\n",
       "      <th id=\"T_f08e4_level0_col2\" class=\"col_heading level0 col2\" >metric</th>\n",
       "      <th id=\"T_f08e4_level0_col3\" class=\"col_heading level0 col3\" >period</th>\n",
       "      <th id=\"T_f08e4_level0_col4\" class=\"col_heading level0 col4\" >value_q2_2022</th>\n",
       "      <th id=\"T_f08e4_level0_col5\" class=\"col_heading level0 col5\" >value_q3_2022</th>\n",
       "    </tr>\n",
       "  </thead>\n",
       "  <tbody>\n",
       "    <tr>\n",
       "      <th id=\"T_f08e4_level0_row0\" class=\"row_heading level0 row0\" >88</th>\n",
       "      <td id=\"T_f08e4_row0_col0\" class=\"data row0 col0\" >Facebook</td>\n",
       "      <td id=\"T_f08e4_row0_col1\" class=\"data row0 col1\" >Child Nudity & Sexual Exploitation</td>\n",
       "      <td id=\"T_f08e4_row0_col2\" class=\"data row0 col2\" >Content Actioned</td>\n",
       "      <td id=\"T_f08e4_row0_col3\" class=\"data row0 col3\" >2020Q4</td>\n",
       "      <td id=\"T_f08e4_row0_col4\" class=\"data row0 col4\" >5,300,000.0</td>\n",
       "      <td id=\"T_f08e4_row0_col5\" class=\"data row0 col5\" >4,300,000.0</td>\n",
       "    </tr>\n",
       "    <tr>\n",
       "      <th id=\"T_f08e4_level0_row1\" class=\"row_heading level0 row1\" >368</th>\n",
       "      <td id=\"T_f08e4_row1_col0\" class=\"data row1 col0\" >Facebook</td>\n",
       "      <td id=\"T_f08e4_row1_col1\" class=\"data row1 col1\" >Child Nudity & Sexual Exploitation</td>\n",
       "      <td id=\"T_f08e4_row1_col2\" class=\"data row1 col2\" >Content Appealed</td>\n",
       "      <td id=\"T_f08e4_row1_col3\" class=\"data row1 col3\" >2020Q4</td>\n",
       "      <td id=\"T_f08e4_row1_col4\" class=\"data row1 col4\" >4,600.0</td>\n",
       "      <td id=\"T_f08e4_row1_col5\" class=\"data row1 col5\" >4,100.0</td>\n",
       "    </tr>\n",
       "    <tr>\n",
       "      <th id=\"T_f08e4_level0_row2\" class=\"row_heading level0 row2\" >890</th>\n",
       "      <td id=\"T_f08e4_row2_col0\" class=\"data row2 col0\" >Facebook</td>\n",
       "      <td id=\"T_f08e4_row2_col1\" class=\"data row2 col1\" >Child Nudity & Sexual Exploitation</td>\n",
       "      <td id=\"T_f08e4_row2_col2\" class=\"data row2 col2\" >Content Restored without appeal</td>\n",
       "      <td id=\"T_f08e4_row2_col3\" class=\"data row2 col3\" >2020Q4</td>\n",
       "      <td id=\"T_f08e4_row2_col4\" class=\"data row2 col4\" >3,200.0</td>\n",
       "      <td id=\"T_f08e4_row2_col5\" class=\"data row2 col5\" >2,700.0</td>\n",
       "    </tr>\n",
       "    <tr>\n",
       "      <th id=\"T_f08e4_level0_row3\" class=\"row_heading level0 row3\" >1151</th>\n",
       "      <td id=\"T_f08e4_row3_col0\" class=\"data row3 col0\" >Facebook</td>\n",
       "      <td id=\"T_f08e4_row3_col1\" class=\"data row3 col1\" >Child Nudity & Sexual Exploitation</td>\n",
       "      <td id=\"T_f08e4_row3_col2\" class=\"data row3 col2\" >Proactive rate</td>\n",
       "      <td id=\"T_f08e4_row3_col3\" class=\"data row3 col3\" >2020Q4</td>\n",
       "      <td id=\"T_f08e4_row3_col4\" class=\"data row3 col4\" >98.7</td>\n",
       "      <td id=\"T_f08e4_row3_col5\" class=\"data row3 col5\" >98.6</td>\n",
       "    </tr>\n",
       "    <tr>\n",
       "      <th id=\"T_f08e4_level0_row4\" class=\"row_heading level0 row4\" >1431</th>\n",
       "      <td id=\"T_f08e4_row4_col0\" class=\"data row4 col0\" >Instagram</td>\n",
       "      <td id=\"T_f08e4_row4_col1\" class=\"data row4 col1\" >Child Nudity & Sexual Exploitation</td>\n",
       "      <td id=\"T_f08e4_row4_col2\" class=\"data row4 col2\" >Content Actioned</td>\n",
       "      <td id=\"T_f08e4_row4_col3\" class=\"data row4 col3\" >2020Q4</td>\n",
       "      <td id=\"T_f08e4_row4_col4\" class=\"data row4 col4\" >809,400.0</td>\n",
       "      <td id=\"T_f08e4_row4_col5\" class=\"data row4 col5\" >658,900.0</td>\n",
       "    </tr>\n",
       "    <tr>\n",
       "      <th id=\"T_f08e4_level0_row5\" class=\"row_heading level0 row5\" >2142</th>\n",
       "      <td id=\"T_f08e4_row5_col0\" class=\"data row5 col0\" >Instagram</td>\n",
       "      <td id=\"T_f08e4_row5_col1\" class=\"data row5 col1\" >Child Nudity & Sexual Exploitation</td>\n",
       "      <td id=\"T_f08e4_row5_col2\" class=\"data row5 col2\" >Content Restored without appeal</td>\n",
       "      <td id=\"T_f08e4_row5_col3\" class=\"data row5 col3\" >2020Q4</td>\n",
       "      <td id=\"T_f08e4_row5_col4\" class=\"data row5 col4\" >2,900.0</td>\n",
       "      <td id=\"T_f08e4_row5_col5\" class=\"data row5 col5\" >1,800.0</td>\n",
       "    </tr>\n",
       "    <tr>\n",
       "      <th id=\"T_f08e4_level0_row6\" class=\"row_heading level0 row6\" >2354</th>\n",
       "      <td id=\"T_f08e4_row6_col0\" class=\"data row6 col0\" >Instagram</td>\n",
       "      <td id=\"T_f08e4_row6_col1\" class=\"data row6 col1\" >Child Nudity & Sexual Exploitation</td>\n",
       "      <td id=\"T_f08e4_row6_col2\" class=\"data row6 col2\" >Proactive rate</td>\n",
       "      <td id=\"T_f08e4_row6_col3\" class=\"data row6 col3\" >2020Q4</td>\n",
       "      <td id=\"T_f08e4_row6_col4\" class=\"data row6 col4\" >97.9</td>\n",
       "      <td id=\"T_f08e4_row6_col5\" class=\"data row6 col5\" >97.7</td>\n",
       "    </tr>\n",
       "    <tr>\n",
       "      <th id=\"T_f08e4_level0_row7\" class=\"row_heading level0 row7\" >355</th>\n",
       "      <td id=\"T_f08e4_row7_col0\" class=\"data row7 col0\" >Facebook</td>\n",
       "      <td id=\"T_f08e4_row7_col1\" class=\"data row7 col1\" >Child Endangerment: Sexual Exploitation</td>\n",
       "      <td id=\"T_f08e4_row7_col2\" class=\"data row7 col2\" >Content Appealed</td>\n",
       "      <td id=\"T_f08e4_row7_col3\" class=\"data row7 col3\" >2022Q2</td>\n",
       "      <td id=\"T_f08e4_row7_col4\" class=\"data row7 col4\" >403,000.0</td>\n",
       "      <td id=\"T_f08e4_row7_col5\" class=\"data row7 col5\" >404,000.0</td>\n",
       "    </tr>\n",
       "    <tr>\n",
       "      <th id=\"T_f08e4_level0_row8\" class=\"row_heading level0 row8\" >616</th>\n",
       "      <td id=\"T_f08e4_row8_col0\" class=\"data row8 col0\" >Facebook</td>\n",
       "      <td id=\"T_f08e4_row8_col1\" class=\"data row8 col1\" >Child Endangerment: Sexual Exploitation</td>\n",
       "      <td id=\"T_f08e4_row8_col2\" class=\"data row8 col2\" >Content Restored with appeal</td>\n",
       "      <td id=\"T_f08e4_row8_col3\" class=\"data row8 col3\" >2022Q2</td>\n",
       "      <td id=\"T_f08e4_row8_col4\" class=\"data row8 col4\" >1,300.0</td>\n",
       "      <td id=\"T_f08e4_row8_col5\" class=\"data row8 col5\" >1,400.0</td>\n",
       "    </tr>\n",
       "    <tr>\n",
       "      <th id=\"T_f08e4_level0_row9\" class=\"row_heading level0 row9\" >877</th>\n",
       "      <td id=\"T_f08e4_row9_col0\" class=\"data row9 col0\" >Facebook</td>\n",
       "      <td id=\"T_f08e4_row9_col1\" class=\"data row9 col1\" >Child Endangerment: Sexual Exploitation</td>\n",
       "      <td id=\"T_f08e4_row9_col2\" class=\"data row9 col2\" >Content Restored without appeal</td>\n",
       "      <td id=\"T_f08e4_row9_col3\" class=\"data row9 col3\" >2022Q2</td>\n",
       "      <td id=\"T_f08e4_row9_col4\" class=\"data row9 col4\" >15,700.0</td>\n",
       "      <td id=\"T_f08e4_row9_col5\" class=\"data row9 col5\" >15,900.0</td>\n",
       "    </tr>\n",
       "    <tr>\n",
       "      <th id=\"T_f08e4_level0_row10\" class=\"row_heading level0 row10\" >1655</th>\n",
       "      <td id=\"T_f08e4_row10_col0\" class=\"data row10 col0\" >Instagram</td>\n",
       "      <td id=\"T_f08e4_row10_col1\" class=\"data row10 col1\" >Child Endangerment: Sexual Exploitation</td>\n",
       "      <td id=\"T_f08e4_row10_col2\" class=\"data row10 col2\" >Content Appealed</td>\n",
       "      <td id=\"T_f08e4_row10_col3\" class=\"data row10 col3\" >2022Q2</td>\n",
       "      <td id=\"T_f08e4_row10_col4\" class=\"data row10 col4\" >3,900.0</td>\n",
       "      <td id=\"T_f08e4_row10_col5\" class=\"data row10 col5\" >4,100.0</td>\n",
       "    </tr>\n",
       "  </tbody>\n",
       "</table>\n"
      ],
      "text/plain": [
       "<pandas.io.formats.style.Styler at 0x1288f8b90>"
      ]
     },
     "metadata": {},
     "output_type": "display_data"
    },
    {
     "data": {
      "text/html": [
       "<h2>Δ(Q4-2022 / Q3-2022)</h2>"
      ],
      "text/plain": [
       "<IPython.core.display.HTML object>"
      ]
     },
     "metadata": {},
     "output_type": "display_data"
    },
    {
     "data": {
      "text/html": [
       "There are 17 divergent CSAM metrics:"
      ],
      "text/plain": [
       "<IPython.core.display.HTML object>"
      ]
     },
     "metadata": {},
     "output_type": "display_data"
    },
    {
     "data": {
      "text/html": [
       "<style type=\"text/css\">\n",
       "#T_0a4ba .col0 {\n",
       "  text-align: start;\n",
       "}\n",
       "#T_0a4ba .col1 {\n",
       "  text-align: start;\n",
       "}\n",
       "#T_0a4ba .col2 {\n",
       "  text-align: start;\n",
       "}\n",
       "#T_0a4ba .col3 {\n",
       "  text-align: start;\n",
       "}\n",
       "#T_0a4ba  {\n",
       "  font-variant-numeric: tabular-nums;\n",
       "  margin-top: 0;\n",
       "  margin-bottom: 2.0em;\n",
       "}\n",
       "</style>\n",
       "<table id=\"T_0a4ba\">\n",
       "  <thead>\n",
       "    <tr>\n",
       "      <th class=\"blank level0\" >&nbsp;</th>\n",
       "      <th id=\"T_0a4ba_level0_col0\" class=\"col_heading level0 col0\" >app</th>\n",
       "      <th id=\"T_0a4ba_level0_col1\" class=\"col_heading level0 col1\" >policy_area</th>\n",
       "      <th id=\"T_0a4ba_level0_col2\" class=\"col_heading level0 col2\" >metric</th>\n",
       "      <th id=\"T_0a4ba_level0_col3\" class=\"col_heading level0 col3\" >period</th>\n",
       "      <th id=\"T_0a4ba_level0_col4\" class=\"col_heading level0 col4\" >value_q3_2022</th>\n",
       "      <th id=\"T_0a4ba_level0_col5\" class=\"col_heading level0 col5\" >value_q4_2022</th>\n",
       "    </tr>\n",
       "  </thead>\n",
       "  <tbody>\n",
       "    <tr>\n",
       "      <th id=\"T_0a4ba_level0_row0\" class=\"row_heading level0 row0\" >90</th>\n",
       "      <td id=\"T_0a4ba_row0_col0\" class=\"data row0 col0\" >Facebook</td>\n",
       "      <td id=\"T_0a4ba_row0_col1\" class=\"data row0 col1\" >Child Nudity & Sexual Exploitation</td>\n",
       "      <td id=\"T_0a4ba_row0_col2\" class=\"data row0 col2\" >Content Actioned</td>\n",
       "      <td id=\"T_0a4ba_row0_col3\" class=\"data row0 col3\" >2020Q2</td>\n",
       "      <td id=\"T_0a4ba_row0_col4\" class=\"data row0 col4\" >2,800,000.0</td>\n",
       "      <td id=\"T_0a4ba_row0_col5\" class=\"data row0 col5\" >9,400,000.00</td>\n",
       "    </tr>\n",
       "    <tr>\n",
       "      <th id=\"T_0a4ba_level0_row1\" class=\"row_heading level0 row1\" >384</th>\n",
       "      <td id=\"T_0a4ba_row1_col0\" class=\"data row1 col0\" >Facebook</td>\n",
       "      <td id=\"T_0a4ba_row1_col1\" class=\"data row1 col1\" >Child Nudity & Sexual Exploitation</td>\n",
       "      <td id=\"T_0a4ba_row1_col2\" class=\"data row1 col2\" >Content Appealed</td>\n",
       "      <td id=\"T_0a4ba_row1_col3\" class=\"data row1 col3\" >2020Q2</td>\n",
       "      <td id=\"T_0a4ba_row1_col4\" class=\"data row1 col4\" >20.0</td>\n",
       "      <td id=\"T_0a4ba_row1_col5\" class=\"data row1 col5\" >40.00</td>\n",
       "    </tr>\n",
       "    <tr>\n",
       "      <th id=\"T_0a4ba_level0_row2\" class=\"row_heading level0 row2\" >932</th>\n",
       "      <td id=\"T_0a4ba_row2_col0\" class=\"data row2 col0\" >Facebook</td>\n",
       "      <td id=\"T_0a4ba_row2_col1\" class=\"data row2 col1\" >Child Nudity & Sexual Exploitation</td>\n",
       "      <td id=\"T_0a4ba_row2_col2\" class=\"data row2 col2\" >Content Restored without appeal</td>\n",
       "      <td id=\"T_0a4ba_row2_col3\" class=\"data row2 col3\" >2020Q2</td>\n",
       "      <td id=\"T_0a4ba_row2_col4\" class=\"data row2 col4\" >40.0</td>\n",
       "      <td id=\"T_0a4ba_row2_col5\" class=\"data row2 col5\" >50.00</td>\n",
       "    </tr>\n",
       "    <tr>\n",
       "      <th id=\"T_0a4ba_level0_row3\" class=\"row_heading level0 row3\" >1500</th>\n",
       "      <td id=\"T_0a4ba_row3_col0\" class=\"data row3 col0\" >Instagram</td>\n",
       "      <td id=\"T_0a4ba_row3_col1\" class=\"data row3 col1\" >Child Nudity & Sexual Exploitation</td>\n",
       "      <td id=\"T_0a4ba_row3_col2\" class=\"data row3 col2\" >Content Actioned</td>\n",
       "      <td id=\"T_0a4ba_row3_col3\" class=\"data row3 col3\" >2020Q2</td>\n",
       "      <td id=\"T_0a4ba_row3_col4\" class=\"data row3 col4\" >158,200.0</td>\n",
       "      <td id=\"T_0a4ba_row3_col5\" class=\"data row3 col5\" >481,400.00</td>\n",
       "    </tr>\n",
       "    <tr>\n",
       "      <th id=\"T_0a4ba_level0_row4\" class=\"row_heading level0 row4\" >2247</th>\n",
       "      <td id=\"T_0a4ba_row4_col0\" class=\"data row4 col0\" >Instagram</td>\n",
       "      <td id=\"T_0a4ba_row4_col1\" class=\"data row4 col1\" >Child Nudity & Sexual Exploitation</td>\n",
       "      <td id=\"T_0a4ba_row4_col2\" class=\"data row4 col2\" >Content Restored without appeal</td>\n",
       "      <td id=\"T_0a4ba_row4_col3\" class=\"data row4 col3\" >2020Q2</td>\n",
       "      <td id=\"T_0a4ba_row4_col4\" class=\"data row4 col4\" >20.0</td>\n",
       "      <td id=\"T_0a4ba_row4_col5\" class=\"data row4 col5\" >30.00</td>\n",
       "    </tr>\n",
       "    <tr>\n",
       "      <th id=\"T_0a4ba_level0_row5\" class=\"row_heading level0 row5\" >91</th>\n",
       "      <td id=\"T_0a4ba_row5_col0\" class=\"data row5 col0\" >Facebook</td>\n",
       "      <td id=\"T_0a4ba_row5_col1\" class=\"data row5 col1\" >Child Nudity & Sexual Exploitation</td>\n",
       "      <td id=\"T_0a4ba_row5_col2\" class=\"data row5 col2\" >Content Actioned</td>\n",
       "      <td id=\"T_0a4ba_row5_col3\" class=\"data row5 col3\" >2020Q3</td>\n",
       "      <td id=\"T_0a4ba_row5_col4\" class=\"data row5 col4\" >10,000,000.0</td>\n",
       "      <td id=\"T_0a4ba_row5_col5\" class=\"data row5 col5\" >12,400,000.00</td>\n",
       "    </tr>\n",
       "    <tr>\n",
       "      <th id=\"T_0a4ba_level0_row6\" class=\"row_heading level0 row6\" >1501</th>\n",
       "      <td id=\"T_0a4ba_row6_col0\" class=\"data row6 col0\" >Instagram</td>\n",
       "      <td id=\"T_0a4ba_row6_col1\" class=\"data row6 col1\" >Child Nudity & Sexual Exploitation</td>\n",
       "      <td id=\"T_0a4ba_row6_col2\" class=\"data row6 col2\" >Content Actioned</td>\n",
       "      <td id=\"T_0a4ba_row6_col3\" class=\"data row6 col3\" >2020Q3</td>\n",
       "      <td id=\"T_0a4ba_row6_col4\" class=\"data row6 col4\" >770,600.0</td>\n",
       "      <td id=\"T_0a4ba_row6_col5\" class=\"data row6 col5\" >1,000,000.00</td>\n",
       "    </tr>\n",
       "    <tr>\n",
       "      <th id=\"T_0a4ba_level0_row7\" class=\"row_heading level0 row7\" >1999</th>\n",
       "      <td id=\"T_0a4ba_row7_col0\" class=\"data row7 col0\" >Instagram</td>\n",
       "      <td id=\"T_0a4ba_row7_col1\" class=\"data row7 col1\" >Child Nudity & Sexual Exploitation</td>\n",
       "      <td id=\"T_0a4ba_row7_col2\" class=\"data row7 col2\" >Content Restored with appeal</td>\n",
       "      <td id=\"T_0a4ba_row7_col3\" class=\"data row7 col3\" >2020Q3</td>\n",
       "      <td id=\"T_0a4ba_row7_col4\" class=\"data row7 col4\" >0.0</td>\n",
       "      <td id=\"T_0a4ba_row7_col5\" class=\"data row7 col5\" >10.00</td>\n",
       "    </tr>\n",
       "    <tr>\n",
       "      <th id=\"T_0a4ba_level0_row8\" class=\"row_heading level0 row8\" >92</th>\n",
       "      <td id=\"T_0a4ba_row8_col0\" class=\"data row8 col0\" >Facebook</td>\n",
       "      <td id=\"T_0a4ba_row8_col1\" class=\"data row8 col1\" >Child Nudity & Sexual Exploitation</td>\n",
       "      <td id=\"T_0a4ba_row8_col2\" class=\"data row8 col2\" >Content Actioned</td>\n",
       "      <td id=\"T_0a4ba_row8_col3\" class=\"data row8 col3\" >2020Q4</td>\n",
       "      <td id=\"T_0a4ba_row8_col4\" class=\"data row8 col4\" >4,300,000.0</td>\n",
       "      <td id=\"T_0a4ba_row8_col5\" class=\"data row8 col5\" >5,300,000.00</td>\n",
       "    </tr>\n",
       "    <tr>\n",
       "      <th id=\"T_0a4ba_level0_row9\" class=\"row_heading level0 row9\" >386</th>\n",
       "      <td id=\"T_0a4ba_row9_col0\" class=\"data row9 col0\" >Facebook</td>\n",
       "      <td id=\"T_0a4ba_row9_col1\" class=\"data row9 col1\" >Child Nudity & Sexual Exploitation</td>\n",
       "      <td id=\"T_0a4ba_row9_col2\" class=\"data row9 col2\" >Content Appealed</td>\n",
       "      <td id=\"T_0a4ba_row9_col3\" class=\"data row9 col3\" >2020Q4</td>\n",
       "      <td id=\"T_0a4ba_row9_col4\" class=\"data row9 col4\" >4,100.0</td>\n",
       "      <td id=\"T_0a4ba_row9_col5\" class=\"data row9 col5\" >4,600.00</td>\n",
       "    </tr>\n",
       "    <tr>\n",
       "      <th id=\"T_0a4ba_level0_row10\" class=\"row_heading level0 row10\" >934</th>\n",
       "      <td id=\"T_0a4ba_row10_col0\" class=\"data row10 col0\" >Facebook</td>\n",
       "      <td id=\"T_0a4ba_row10_col1\" class=\"data row10 col1\" >Child Nudity & Sexual Exploitation</td>\n",
       "      <td id=\"T_0a4ba_row10_col2\" class=\"data row10 col2\" >Content Restored without appeal</td>\n",
       "      <td id=\"T_0a4ba_row10_col3\" class=\"data row10 col3\" >2020Q4</td>\n",
       "      <td id=\"T_0a4ba_row10_col4\" class=\"data row10 col4\" >2,700.0</td>\n",
       "      <td id=\"T_0a4ba_row10_col5\" class=\"data row10 col5\" >3,200.00</td>\n",
       "    </tr>\n",
       "    <tr>\n",
       "      <th id=\"T_0a4ba_level0_row11\" class=\"row_heading level0 row11\" >1502</th>\n",
       "      <td id=\"T_0a4ba_row11_col0\" class=\"data row11 col0\" >Instagram</td>\n",
       "      <td id=\"T_0a4ba_row11_col1\" class=\"data row11 col1\" >Child Nudity & Sexual Exploitation</td>\n",
       "      <td id=\"T_0a4ba_row11_col2\" class=\"data row11 col2\" >Content Actioned</td>\n",
       "      <td id=\"T_0a4ba_row11_col3\" class=\"data row11 col3\" >2020Q4</td>\n",
       "      <td id=\"T_0a4ba_row11_col4\" class=\"data row11 col4\" >658,900.0</td>\n",
       "      <td id=\"T_0a4ba_row11_col5\" class=\"data row11 col5\" >809,400.00</td>\n",
       "    </tr>\n",
       "    <tr>\n",
       "      <th id=\"T_0a4ba_level0_row12\" class=\"row_heading level0 row12\" >2249</th>\n",
       "      <td id=\"T_0a4ba_row12_col0\" class=\"data row12 col0\" >Instagram</td>\n",
       "      <td id=\"T_0a4ba_row12_col1\" class=\"data row12 col1\" >Child Nudity & Sexual Exploitation</td>\n",
       "      <td id=\"T_0a4ba_row12_col2\" class=\"data row12 col2\" >Content Restored without appeal</td>\n",
       "      <td id=\"T_0a4ba_row12_col3\" class=\"data row12 col3\" >2020Q4</td>\n",
       "      <td id=\"T_0a4ba_row12_col4\" class=\"data row12 col4\" >1,800.0</td>\n",
       "      <td id=\"T_0a4ba_row12_col5\" class=\"data row12 col5\" >2,900.00</td>\n",
       "    </tr>\n",
       "    <tr>\n",
       "      <th id=\"T_0a4ba_level0_row13\" class=\"row_heading level0 row13\" >373</th>\n",
       "      <td id=\"T_0a4ba_row13_col0\" class=\"data row13 col0\" >Facebook</td>\n",
       "      <td id=\"T_0a4ba_row13_col1\" class=\"data row13 col1\" >Child Endangerment: Sexual Exploitation</td>\n",
       "      <td id=\"T_0a4ba_row13_col2\" class=\"data row13 col2\" >Content Appealed</td>\n",
       "      <td id=\"T_0a4ba_row13_col3\" class=\"data row13 col3\" >2022Q3</td>\n",
       "      <td id=\"T_0a4ba_row13_col4\" class=\"data row13 col4\" >413,900.0</td>\n",
       "      <td id=\"T_0a4ba_row13_col5\" class=\"data row13 col5\" >414,200.00</td>\n",
       "    </tr>\n",
       "    <tr>\n",
       "      <th id=\"T_0a4ba_level0_row14\" class=\"row_heading level0 row14\" >647</th>\n",
       "      <td id=\"T_0a4ba_row14_col0\" class=\"data row14 col0\" >Facebook</td>\n",
       "      <td id=\"T_0a4ba_row14_col1\" class=\"data row14 col1\" >Child Endangerment: Sexual Exploitation</td>\n",
       "      <td id=\"T_0a4ba_row14_col2\" class=\"data row14 col2\" >Content Restored with appeal</td>\n",
       "      <td id=\"T_0a4ba_row14_col3\" class=\"data row14 col3\" >2022Q3</td>\n",
       "      <td id=\"T_0a4ba_row14_col4\" class=\"data row14 col4\" >3,800.0</td>\n",
       "      <td id=\"T_0a4ba_row14_col5\" class=\"data row14 col5\" >4,000.00</td>\n",
       "    </tr>\n",
       "    <tr>\n",
       "      <th id=\"T_0a4ba_level0_row15\" class=\"row_heading level0 row15\" >921</th>\n",
       "      <td id=\"T_0a4ba_row15_col0\" class=\"data row15 col0\" >Facebook</td>\n",
       "      <td id=\"T_0a4ba_row15_col1\" class=\"data row15 col1\" >Child Endangerment: Sexual Exploitation</td>\n",
       "      <td id=\"T_0a4ba_row15_col2\" class=\"data row15 col2\" >Content Restored without appeal</td>\n",
       "      <td id=\"T_0a4ba_row15_col3\" class=\"data row15 col3\" >2022Q3</td>\n",
       "      <td id=\"T_0a4ba_row15_col4\" class=\"data row15 col4\" >205,200.0</td>\n",
       "      <td id=\"T_0a4ba_row15_col5\" class=\"data row15 col5\" >205,300.00</td>\n",
       "    </tr>\n",
       "    <tr>\n",
       "      <th id=\"T_0a4ba_level0_row16\" class=\"row_heading level0 row16\" >1738</th>\n",
       "      <td id=\"T_0a4ba_row16_col0\" class=\"data row16 col0\" >Instagram</td>\n",
       "      <td id=\"T_0a4ba_row16_col1\" class=\"data row16 col1\" >Child Endangerment: Sexual Exploitation</td>\n",
       "      <td id=\"T_0a4ba_row16_col2\" class=\"data row16 col2\" >Content Appealed</td>\n",
       "      <td id=\"T_0a4ba_row16_col3\" class=\"data row16 col3\" >2022Q3</td>\n",
       "      <td id=\"T_0a4ba_row16_col4\" class=\"data row16 col4\" >3,400.0</td>\n",
       "      <td id=\"T_0a4ba_row16_col5\" class=\"data row16 col5\" >3,500.00</td>\n",
       "    </tr>\n",
       "  </tbody>\n",
       "</table>\n"
      ],
      "text/plain": [
       "<pandas.io.formats.style.Styler at 0x128902e10>"
      ]
     },
     "metadata": {},
     "output_type": "display_data"
    },
    {
     "data": {
      "text/html": [
       "<h2>Δ(Q1-2023 / Q4-2022)</h2>"
      ],
      "text/plain": [
       "<IPython.core.display.HTML object>"
      ]
     },
     "metadata": {},
     "output_type": "display_data"
    },
    {
     "data": {
      "text/html": [
       "There are 4 divergent CSAM metrics:"
      ],
      "text/plain": [
       "<IPython.core.display.HTML object>"
      ]
     },
     "metadata": {},
     "output_type": "display_data"
    },
    {
     "data": {
      "text/html": [
       "<style type=\"text/css\">\n",
       "#T_584ae .col0 {\n",
       "  text-align: start;\n",
       "}\n",
       "#T_584ae .col1 {\n",
       "  text-align: start;\n",
       "}\n",
       "#T_584ae .col2 {\n",
       "  text-align: start;\n",
       "}\n",
       "#T_584ae .col3 {\n",
       "  text-align: start;\n",
       "}\n",
       "#T_584ae  {\n",
       "  font-variant-numeric: tabular-nums;\n",
       "  margin-top: 0;\n",
       "  margin-bottom: 2.0em;\n",
       "}\n",
       "</style>\n",
       "<table id=\"T_584ae\">\n",
       "  <thead>\n",
       "    <tr>\n",
       "      <th class=\"blank level0\" >&nbsp;</th>\n",
       "      <th id=\"T_584ae_level0_col0\" class=\"col_heading level0 col0\" >app</th>\n",
       "      <th id=\"T_584ae_level0_col1\" class=\"col_heading level0 col1\" >policy_area</th>\n",
       "      <th id=\"T_584ae_level0_col2\" class=\"col_heading level0 col2\" >metric</th>\n",
       "      <th id=\"T_584ae_level0_col3\" class=\"col_heading level0 col3\" >period</th>\n",
       "      <th id=\"T_584ae_level0_col4\" class=\"col_heading level0 col4\" >value_q4_2022</th>\n",
       "      <th id=\"T_584ae_level0_col5\" class=\"col_heading level0 col5\" >value_q1_2023</th>\n",
       "    </tr>\n",
       "  </thead>\n",
       "  <tbody>\n",
       "    <tr>\n",
       "      <th id=\"T_584ae_level0_row0\" class=\"row_heading level0 row0\" >83</th>\n",
       "      <td id=\"T_584ae_row0_col0\" class=\"data row0 col0\" >Facebook</td>\n",
       "      <td id=\"T_584ae_row0_col1\" class=\"data row0 col1\" >Child Endangerment: Sexual Exploitation</td>\n",
       "      <td id=\"T_584ae_row0_col2\" class=\"data row0 col2\" >Content Actioned</td>\n",
       "      <td id=\"T_584ae_row0_col3\" class=\"data row0 col3\" >2022Q4</td>\n",
       "      <td id=\"T_584ae_row0_col4\" class=\"data row0 col4\" >25,100,000.0</td>\n",
       "      <td id=\"T_584ae_row0_col5\" class=\"data row0 col5\" >25,200,000.0</td>\n",
       "    </tr>\n",
       "    <tr>\n",
       "      <th id=\"T_584ae_level0_row1\" class=\"row_heading level0 row1\" >391</th>\n",
       "      <td id=\"T_584ae_row1_col0\" class=\"data row1 col0\" >Facebook</td>\n",
       "      <td id=\"T_584ae_row1_col1\" class=\"data row1 col1\" >Child Endangerment: Sexual Exploitation</td>\n",
       "      <td id=\"T_584ae_row1_col2\" class=\"data row1 col2\" >Content Appealed</td>\n",
       "      <td id=\"T_584ae_row1_col3\" class=\"data row1 col3\" >2022Q4</td>\n",
       "      <td id=\"T_584ae_row1_col4\" class=\"data row1 col4\" >23,000.0</td>\n",
       "      <td id=\"T_584ae_row1_col5\" class=\"data row1 col5\" >23,300.0</td>\n",
       "    </tr>\n",
       "    <tr>\n",
       "      <th id=\"T_584ae_level0_row2\" class=\"row_heading level0 row2\" >965</th>\n",
       "      <td id=\"T_584ae_row2_col0\" class=\"data row2 col0\" >Facebook</td>\n",
       "      <td id=\"T_584ae_row2_col1\" class=\"data row2 col1\" >Child Endangerment: Sexual Exploitation</td>\n",
       "      <td id=\"T_584ae_row2_col2\" class=\"data row2 col2\" >Content Restored without appeal</td>\n",
       "      <td id=\"T_584ae_row2_col3\" class=\"data row2 col3\" >2022Q4</td>\n",
       "      <td id=\"T_584ae_row2_col4\" class=\"data row2 col4\" >75,800.0</td>\n",
       "      <td id=\"T_584ae_row2_col5\" class=\"data row2 col5\" >76,300.0</td>\n",
       "    </tr>\n",
       "    <tr>\n",
       "      <th id=\"T_584ae_level0_row3\" class=\"row_heading level0 row3\" >1821</th>\n",
       "      <td id=\"T_584ae_row3_col0\" class=\"data row3 col0\" >Instagram</td>\n",
       "      <td id=\"T_584ae_row3_col1\" class=\"data row3 col1\" >Child Endangerment: Sexual Exploitation</td>\n",
       "      <td id=\"T_584ae_row3_col2\" class=\"data row3 col2\" >Content Appealed</td>\n",
       "      <td id=\"T_584ae_row3_col3\" class=\"data row3 col3\" >2022Q4</td>\n",
       "      <td id=\"T_584ae_row3_col4\" class=\"data row3 col4\" >5,800.0</td>\n",
       "      <td id=\"T_584ae_row3_col5\" class=\"data row3 col5\" >5,900.0</td>\n",
       "    </tr>\n",
       "  </tbody>\n",
       "</table>\n"
      ],
      "text/plain": [
       "<pandas.io.formats.style.Styler at 0x1288fa750>"
      ]
     },
     "metadata": {},
     "output_type": "display_data"
    },
    {
     "data": {
      "text/html": [
       "<h2>Δ(Q2-2023 / Q1-2023)</h2>"
      ],
      "text/plain": [
       "<IPython.core.display.HTML object>"
      ]
     },
     "metadata": {},
     "output_type": "display_data"
    },
    {
     "data": {
      "text/html": [
       "There are 0 divergent CSAM metrics."
      ],
      "text/plain": [
       "<IPython.core.display.HTML object>"
      ]
     },
     "metadata": {},
     "output_type": "display_data"
    },
    {
     "data": {
      "text/html": [
       "<h2>Δ(Q3-2023 / Q2-2023)</h2>"
      ],
      "text/plain": [
       "<IPython.core.display.HTML object>"
      ]
     },
     "metadata": {},
     "output_type": "display_data"
    },
    {
     "data": {
      "text/html": [
       "There are 0 divergent CSAM metrics."
      ],
      "text/plain": [
       "<IPython.core.display.HTML object>"
      ]
     },
     "metadata": {},
     "output_type": "display_data"
    },
    {
     "data": {
      "text/html": [
       "<h2>Δ(Q4-2023 / Q3-2023)</h2>"
      ],
      "text/plain": [
       "<IPython.core.display.HTML object>"
      ]
     },
     "metadata": {},
     "output_type": "display_data"
    },
    {
     "data": {
      "text/html": [
       "There are 0 divergent CSAM metrics."
      ],
      "text/plain": [
       "<IPython.core.display.HTML object>"
      ]
     },
     "metadata": {},
     "output_type": "display_data"
    },
    {
     "data": {
      "text/html": [
       "<h2>Δ(Q1-2024 / Q4-2023)</h2>"
      ],
      "text/plain": [
       "<IPython.core.display.HTML object>"
      ]
     },
     "metadata": {},
     "output_type": "display_data"
    },
    {
     "data": {
      "text/html": [
       "There are 0 divergent CSAM metrics."
      ],
      "text/plain": [
       "<IPython.core.display.HTML object>"
      ]
     },
     "metadata": {},
     "output_type": "display_data"
    },
    {
     "data": {
      "text/html": [
       "<h2>Δ(Q2-2024 / Q1-2024)</h2>"
      ],
      "text/plain": [
       "<IPython.core.display.HTML object>"
      ]
     },
     "metadata": {},
     "output_type": "display_data"
    },
    {
     "data": {
      "text/html": [
       "There are 0 divergent CSAM metrics."
      ],
      "text/plain": [
       "<IPython.core.display.HTML object>"
      ]
     },
     "metadata": {},
     "output_type": "display_data"
    }
   ],
   "source": [
    "show(f'<h2>Meta Rewrites History</h2>')\n",
    "show(\n",
    "    \"\"\"\n",
    "    While testing an update to my data analysis code, I discovered that Meta had\n",
    "    changed seemingly arbitrary entries for previously disclosed transparency\n",
    "    statistics. This section tracks the extent of these unacknowledged and\n",
    "    unexplained changes by comparing Meta's CSV files quarter over quarter.\n",
    "    \"\"\"\n",
    ")\n",
    "\n",
    "meta_disclosures = meta.read_all('../data/meta')\n",
    "meta_differences = meta.diff_all(meta_disclosures)\n",
    "\n",
    "show('<h3>Divergence for CSAM Metrics Only</h3>')\n",
    "\n",
    "for p1, delta in meta_differences.items():\n",
    "    p2 = p1 + 1\n",
    "\n",
    "    show(f'<h2>Δ(Q{p2.quarter}-{p2.year} / Q{p1.quarter}-{p1.year})</h2>')\n",
    "    csam_only = delta[delta['policy_area'].isin(meta.CSAM_POLICIES)]\n",
    "\n",
    "    count = len(csam_only)\n",
    "    show(f'There are {count} divergent CSAM metrics{\".\" if count == 0 else \":\"}')\n",
    "    if count > 0:\n",
    "        show(csam_only)"
   ]
  },
  {
   "cell_type": "code",
   "execution_count": 10,
   "metadata": {},
   "outputs": [
    {
     "data": {
      "text/html": [
       "<h3>Quarterly Rate of Divergence (All Metrics)</h3>"
      ],
      "text/plain": [
       "<IPython.core.display.HTML object>"
      ]
     },
     "metadata": {},
     "output_type": "display_data"
    },
    {
     "data": {
      "text/html": [
       "<style type=\"text/css\">\n",
       "#T_c5873 .col0 {\n",
       "  text-align: start;\n",
       "}\n",
       "#T_c5873  {\n",
       "  font-variant-numeric: tabular-nums;\n",
       "  margin-top: 0;\n",
       "  margin-bottom: 2.0em;\n",
       "}\n",
       "</style>\n",
       "<table id=\"T_c5873\">\n",
       "  <thead>\n",
       "    <tr>\n",
       "      <th class=\"blank level0\" >&nbsp;</th>\n",
       "      <th id=\"T_c5873_level0_col0\" class=\"col_heading level0 col0\" >period</th>\n",
       "      <th id=\"T_c5873_level0_col1\" class=\"col_heading level0 col1\" >changed</th>\n",
       "      <th id=\"T_c5873_level0_col2\" class=\"col_heading level0 col2\" >total</th>\n",
       "      <th id=\"T_c5873_level0_col3\" class=\"col_heading level0 col3\" >rate_of_divergence</th>\n",
       "    </tr>\n",
       "  </thead>\n",
       "  <tbody>\n",
       "    <tr>\n",
       "      <th id=\"T_c5873_level0_row0\" class=\"row_heading level0 row0\" >0</th>\n",
       "      <td id=\"T_c5873_row0_col0\" class=\"data row0 col0\" >2021Q3</td>\n",
       "      <td id=\"T_c5873_row0_col1\" class=\"data row0 col1\" >71</td>\n",
       "      <td id=\"T_c5873_row0_col2\" class=\"data row0 col2\" >1,904</td>\n",
       "      <td id=\"T_c5873_row0_col3\" class=\"data row0 col3\" >3.729</td>\n",
       "    </tr>\n",
       "    <tr>\n",
       "      <th id=\"T_c5873_level0_row1\" class=\"row_heading level0 row1\" >1</th>\n",
       "      <td id=\"T_c5873_row1_col0\" class=\"data row1 col0\" >2021Q4</td>\n",
       "      <td id=\"T_c5873_row1_col1\" class=\"data row1 col1\" >27</td>\n",
       "      <td id=\"T_c5873_row1_col2\" class=\"data row1 col2\" >2,192</td>\n",
       "      <td id=\"T_c5873_row1_col3\" class=\"data row1 col3\" >1.232</td>\n",
       "    </tr>\n",
       "    <tr>\n",
       "      <th id=\"T_c5873_level0_row2\" class=\"row_heading level0 row2\" >2</th>\n",
       "      <td id=\"T_c5873_row2_col0\" class=\"data row2 col0\" >2022Q1</td>\n",
       "      <td id=\"T_c5873_row2_col1\" class=\"data row2 col1\" >96</td>\n",
       "      <td id=\"T_c5873_row2_col2\" class=\"data row2 col2\" >2,339</td>\n",
       "      <td id=\"T_c5873_row2_col3\" class=\"data row2 col3\" >4.104</td>\n",
       "    </tr>\n",
       "    <tr>\n",
       "      <th id=\"T_c5873_level0_row3\" class=\"row_heading level0 row3\" >3</th>\n",
       "      <td id=\"T_c5873_row3_col0\" class=\"data row3 col0\" >2022Q2</td>\n",
       "      <td id=\"T_c5873_row3_col1\" class=\"data row3 col1\" >102</td>\n",
       "      <td id=\"T_c5873_row3_col2\" class=\"data row3 col2\" >2,486</td>\n",
       "      <td id=\"T_c5873_row3_col3\" class=\"data row3 col3\" >4.103</td>\n",
       "    </tr>\n",
       "    <tr>\n",
       "      <th id=\"T_c5873_level0_row4\" class=\"row_heading level0 row4\" >4</th>\n",
       "      <td id=\"T_c5873_row4_col0\" class=\"data row4 col0\" >2022Q3</td>\n",
       "      <td id=\"T_c5873_row4_col1\" class=\"data row4 col1\" >113</td>\n",
       "      <td id=\"T_c5873_row4_col2\" class=\"data row4 col2\" >2,633</td>\n",
       "      <td id=\"T_c5873_row4_col3\" class=\"data row4 col3\" >4.292</td>\n",
       "    </tr>\n",
       "    <tr>\n",
       "      <th id=\"T_c5873_level0_row5\" class=\"row_heading level0 row5\" >5</th>\n",
       "      <td id=\"T_c5873_row5_col0\" class=\"data row5 col0\" >2022Q4</td>\n",
       "      <td id=\"T_c5873_row5_col1\" class=\"data row5 col1\" >203</td>\n",
       "      <td id=\"T_c5873_row5_col2\" class=\"data row5 col2\" >2,780</td>\n",
       "      <td id=\"T_c5873_row5_col3\" class=\"data row5 col3\" >7.302</td>\n",
       "    </tr>\n",
       "    <tr>\n",
       "      <th id=\"T_c5873_level0_row6\" class=\"row_heading level0 row6\" >6</th>\n",
       "      <td id=\"T_c5873_row6_col0\" class=\"data row6 col0\" >2023Q1</td>\n",
       "      <td id=\"T_c5873_row6_col1\" class=\"data row6 col1\" >18</td>\n",
       "      <td id=\"T_c5873_row6_col2\" class=\"data row6 col2\" >2,927</td>\n",
       "      <td id=\"T_c5873_row6_col3\" class=\"data row6 col3\" >0.615</td>\n",
       "    </tr>\n",
       "    <tr>\n",
       "      <th id=\"T_c5873_level0_row7\" class=\"row_heading level0 row7\" >7</th>\n",
       "      <td id=\"T_c5873_row7_col0\" class=\"data row7 col0\" >2023Q2</td>\n",
       "      <td id=\"T_c5873_row7_col1\" class=\"data row7 col1\" >0</td>\n",
       "      <td id=\"T_c5873_row7_col2\" class=\"data row7 col2\" >3,074</td>\n",
       "      <td id=\"T_c5873_row7_col3\" class=\"data row7 col3\" >0.000</td>\n",
       "    </tr>\n",
       "    <tr>\n",
       "      <th id=\"T_c5873_level0_row8\" class=\"row_heading level0 row8\" >8</th>\n",
       "      <td id=\"T_c5873_row8_col0\" class=\"data row8 col0\" >2023Q3</td>\n",
       "      <td id=\"T_c5873_row8_col1\" class=\"data row8 col1\" >0</td>\n",
       "      <td id=\"T_c5873_row8_col2\" class=\"data row8 col2\" >3,221</td>\n",
       "      <td id=\"T_c5873_row8_col3\" class=\"data row8 col3\" >0.000</td>\n",
       "    </tr>\n",
       "    <tr>\n",
       "      <th id=\"T_c5873_level0_row9\" class=\"row_heading level0 row9\" >9</th>\n",
       "      <td id=\"T_c5873_row9_col0\" class=\"data row9 col0\" >2023Q4</td>\n",
       "      <td id=\"T_c5873_row9_col1\" class=\"data row9 col1\" >0</td>\n",
       "      <td id=\"T_c5873_row9_col2\" class=\"data row9 col2\" >3,368</td>\n",
       "      <td id=\"T_c5873_row9_col3\" class=\"data row9 col3\" >0.000</td>\n",
       "    </tr>\n",
       "    <tr>\n",
       "      <th id=\"T_c5873_level0_row10\" class=\"row_heading level0 row10\" >10</th>\n",
       "      <td id=\"T_c5873_row10_col0\" class=\"data row10 col0\" >2024Q1</td>\n",
       "      <td id=\"T_c5873_row10_col1\" class=\"data row10 col1\" >0</td>\n",
       "      <td id=\"T_c5873_row10_col2\" class=\"data row10 col2\" >3,515</td>\n",
       "      <td id=\"T_c5873_row10_col3\" class=\"data row10 col3\" >0.000</td>\n",
       "    </tr>\n",
       "    <tr>\n",
       "      <th id=\"T_c5873_level0_row11\" class=\"row_heading level0 row11\" >11</th>\n",
       "      <td id=\"T_c5873_row11_col0\" class=\"data row11 col0\" >2024Q2</td>\n",
       "      <td id=\"T_c5873_row11_col1\" class=\"data row11 col1\" >0</td>\n",
       "      <td id=\"T_c5873_row11_col2\" class=\"data row11 col2\" >3,662</td>\n",
       "      <td id=\"T_c5873_row11_col3\" class=\"data row11 col3\" >0.000</td>\n",
       "    </tr>\n",
       "  </tbody>\n",
       "</table>\n"
      ],
      "text/plain": [
       "<pandas.io.formats.style.Styler at 0x128897dd0>"
      ]
     },
     "metadata": {},
     "output_type": "display_data"
    },
    {
     "data": {
      "text/html": [
       "\n",
       "    For each quarter, the abvove table shows the number of entries in that\n",
       "    quarter's data that are different from the previous quarter's disclosure\n",
       "    divided by the total number of entries from the previous quarter. In other\n",
       "    words, newly added data points do not figure into this rate.\n",
       "    "
      ],
      "text/plain": [
       "<IPython.core.display.HTML object>"
      ]
     },
     "metadata": {},
     "output_type": "display_data"
    }
   ],
   "source": [
    "show(\"<h3>Quarterly Rate of Divergence (All Metrics)</h3>\")\n",
    "show(meta.rate_of_divergence(meta_disclosures, meta_differences))\n",
    "show(\n",
    "    \"\"\"\n",
    "    For each quarter, the abvove table shows the number of entries in that\n",
    "    quarter's data that are different from the previous quarter's disclosure\n",
    "    divided by the total number of entries from the previous quarter. In other\n",
    "    words, newly added data points do not figure into this rate.\n",
    "    \"\"\"\n",
    ")"
   ]
  },
  {
   "cell_type": "code",
   "execution_count": 11,
   "metadata": {},
   "outputs": [
    {
     "data": {
      "text/html": [
       "<h3>Divergence for All Metrics</h3>"
      ],
      "text/plain": [
       "<IPython.core.display.HTML object>"
      ]
     },
     "metadata": {},
     "output_type": "display_data"
    },
    {
     "data": {
      "text/html": [
       "<h2>Δ(Q3-2021 / Q2-2021)</h2>"
      ],
      "text/plain": [
       "<IPython.core.display.HTML object>"
      ]
     },
     "metadata": {},
     "output_type": "display_data"
    },
    {
     "data": {
      "text/html": [
       "<style type=\"text/css\">\n",
       "#T_b8d7a .level0 {\n",
       "  text-align: start;\n",
       "}\n",
       "#T_b8d7a  {\n",
       "  font-variant-numeric: tabular-nums;\n",
       "  margin-top: 0;\n",
       "  margin-bottom: 0;\n",
       "}\n",
       "</style>\n",
       "<table id=\"T_b8d7a\">\n",
       "  <thead>\n",
       "    <tr>\n",
       "      <th class=\"blank level0\" >&nbsp;</th>\n",
       "      <th id=\"T_b8d7a_level0_col0\" class=\"col_heading level0 col0\" >divergent</th>\n",
       "    </tr>\n",
       "    <tr>\n",
       "      <th class=\"index_name level0\" >period</th>\n",
       "      <th class=\"blank col0\" >&nbsp;</th>\n",
       "    </tr>\n",
       "  </thead>\n",
       "  <tbody>\n",
       "    <tr>\n",
       "      <th id=\"T_b8d7a_level0_row0\" class=\"row_heading level0 row0\" >2020Q1</th>\n",
       "      <td id=\"T_b8d7a_row0_col0\" class=\"data row0 col0\" >6</td>\n",
       "    </tr>\n",
       "    <tr>\n",
       "      <th id=\"T_b8d7a_level0_row1\" class=\"row_heading level0 row1\" >2020Q2</th>\n",
       "      <td id=\"T_b8d7a_row1_col0\" class=\"data row1 col0\" >8</td>\n",
       "    </tr>\n",
       "    <tr>\n",
       "      <th id=\"T_b8d7a_level0_row2\" class=\"row_heading level0 row2\" >2020Q3</th>\n",
       "      <td id=\"T_b8d7a_row2_col0\" class=\"data row2 col0\" >14</td>\n",
       "    </tr>\n",
       "    <tr>\n",
       "      <th id=\"T_b8d7a_level0_row3\" class=\"row_heading level0 row3\" >2020Q4</th>\n",
       "      <td id=\"T_b8d7a_row3_col0\" class=\"data row3 col0\" >15</td>\n",
       "    </tr>\n",
       "    <tr>\n",
       "      <th id=\"T_b8d7a_level0_row4\" class=\"row_heading level0 row4\" >2021Q1</th>\n",
       "      <td id=\"T_b8d7a_row4_col0\" class=\"data row4 col0\" >13</td>\n",
       "    </tr>\n",
       "    <tr>\n",
       "      <th id=\"T_b8d7a_level0_row5\" class=\"row_heading level0 row5\" >2021Q2</th>\n",
       "      <td id=\"T_b8d7a_row5_col0\" class=\"data row5 col0\" >15</td>\n",
       "    </tr>\n",
       "  </tbody>\n",
       "</table>\n"
      ],
      "text/plain": [
       "<pandas.io.formats.style.Styler at 0x128890650>"
      ]
     },
     "metadata": {},
     "output_type": "display_data"
    },
    {
     "data": {
      "text/html": [
       "<p>There are <strong>71 divergent values</strong>. They differ in these policy areas:</p><ul><li>Adult Nudity & Sexual Activity</li><li>Bullying & Harassment</li><li>Child Nudity & Sexual Exploitation</li><li>Dangerous Orgs: Terrorism</li><li>Violent & Graphic Content</li><li>Suicide and Self-Injury</li><li>Dangerous Orgs: Organized Hate</li><li>Hate Speech</li><li>Regulated Goods: Firearms</li><li>Regulated Goods: Drugs</li><li>Spam</li><li>Child Endangerment: Nudity and Physical Abuse</li><li>Child Endangerment: Sexual Exploitation</li></ul><p>They also differ in these metrics:</p><ul><li>Content Restored without appeal</li><li>Content Appealed</li><li>Content Actioned</li><li>Content Restored with appeal</li><li>Proactive rate</li></ul>"
      ],
      "text/plain": [
       "<IPython.core.display.HTML object>"
      ]
     },
     "metadata": {},
     "output_type": "display_data"
    },
    {
     "data": {
      "text/html": [
       "<h2>Δ(Q4-2021 / Q3-2021)</h2>"
      ],
      "text/plain": [
       "<IPython.core.display.HTML object>"
      ]
     },
     "metadata": {},
     "output_type": "display_data"
    },
    {
     "data": {
      "text/html": [
       "<style type=\"text/css\">\n",
       "#T_63818 .level0 {\n",
       "  text-align: start;\n",
       "}\n",
       "#T_63818  {\n",
       "  font-variant-numeric: tabular-nums;\n",
       "  margin-top: 0;\n",
       "  margin-bottom: 0;\n",
       "}\n",
       "</style>\n",
       "<table id=\"T_63818\">\n",
       "  <thead>\n",
       "    <tr>\n",
       "      <th class=\"blank level0\" >&nbsp;</th>\n",
       "      <th id=\"T_63818_level0_col0\" class=\"col_heading level0 col0\" >divergent</th>\n",
       "    </tr>\n",
       "    <tr>\n",
       "      <th class=\"index_name level0\" >period</th>\n",
       "      <th class=\"blank col0\" >&nbsp;</th>\n",
       "    </tr>\n",
       "  </thead>\n",
       "  <tbody>\n",
       "    <tr>\n",
       "      <th id=\"T_63818_level0_row0\" class=\"row_heading level0 row0\" >2021Q2</th>\n",
       "      <td id=\"T_63818_row0_col0\" class=\"data row0 col0\" >6</td>\n",
       "    </tr>\n",
       "    <tr>\n",
       "      <th id=\"T_63818_level0_row1\" class=\"row_heading level0 row1\" >2021Q3</th>\n",
       "      <td id=\"T_63818_row1_col0\" class=\"data row1 col0\" >21</td>\n",
       "    </tr>\n",
       "  </tbody>\n",
       "</table>\n"
      ],
      "text/plain": [
       "<pandas.io.formats.style.Styler at 0x128884490>"
      ]
     },
     "metadata": {},
     "output_type": "display_data"
    },
    {
     "data": {
      "text/html": [
       "<p>There are <strong>27 divergent values</strong>. They differ in these policy areas:</p><ul><li>Child Endangerment: Nudity and Physical Abuse</li><li>Child Endangerment: Sexual Exploitation</li><li>Dangerous Orgs: Organized Hate</li><li>Dangerous Orgs: Terrorism</li><li>Spam</li><li>Adult Nudity & Sexual Activity</li><li>Bullying & Harassment</li><li>Regulated Goods: Drugs</li><li>Suicide and Self-Injury</li><li>Violent & Graphic Content</li></ul><p>They also differ in these metrics:</p><ul><li>Content Restored without appeal</li><li>Content Restored with appeal</li><li>Content Actioned</li><li>Content Appealed</li><li>Proactive rate</li></ul>"
      ],
      "text/plain": [
       "<IPython.core.display.HTML object>"
      ]
     },
     "metadata": {},
     "output_type": "display_data"
    },
    {
     "data": {
      "text/html": [
       "<h2>Δ(Q1-2022 / Q4-2021)</h2>"
      ],
      "text/plain": [
       "<IPython.core.display.HTML object>"
      ]
     },
     "metadata": {},
     "output_type": "display_data"
    },
    {
     "data": {
      "text/html": [
       "<style type=\"text/css\">\n",
       "#T_7bce3 .level0 {\n",
       "  text-align: start;\n",
       "}\n",
       "#T_7bce3  {\n",
       "  font-variant-numeric: tabular-nums;\n",
       "  margin-top: 0;\n",
       "  margin-bottom: 0;\n",
       "}\n",
       "</style>\n",
       "<table id=\"T_7bce3\">\n",
       "  <thead>\n",
       "    <tr>\n",
       "      <th class=\"blank level0\" >&nbsp;</th>\n",
       "      <th id=\"T_7bce3_level0_col0\" class=\"col_heading level0 col0\" >divergent</th>\n",
       "    </tr>\n",
       "    <tr>\n",
       "      <th class=\"index_name level0\" >period</th>\n",
       "      <th class=\"blank col0\" >&nbsp;</th>\n",
       "    </tr>\n",
       "  </thead>\n",
       "  <tbody>\n",
       "    <tr>\n",
       "      <th id=\"T_7bce3_level0_row0\" class=\"row_heading level0 row0\" >2020Q2</th>\n",
       "      <td id=\"T_7bce3_row0_col0\" class=\"data row0 col0\" >86</td>\n",
       "    </tr>\n",
       "    <tr>\n",
       "      <th id=\"T_7bce3_level0_row1\" class=\"row_heading level0 row1\" >2021Q4</th>\n",
       "      <td id=\"T_7bce3_row1_col0\" class=\"data row1 col0\" >10</td>\n",
       "    </tr>\n",
       "  </tbody>\n",
       "</table>\n"
      ],
      "text/plain": [
       "<pandas.io.formats.style.Styler at 0x126c6add0>"
      ]
     },
     "metadata": {},
     "output_type": "display_data"
    },
    {
     "data": {
      "text/html": [
       "<p>There are <strong>96 divergent values</strong>. They differ in these policy areas:</p><ul><li>Adult Nudity & Sexual Activity</li><li>Bullying & Harassment</li><li>Child Nudity & Sexual Exploitation</li><li>Dangerous Orgs: Organized Hate</li><li>Dangerous Orgs: Terrorism</li><li>Fake Accounts</li><li>Hate Speech</li><li>Regulated Goods: Drugs</li><li>Regulated Goods: Firearms</li><li>Spam</li><li>Suicide and Self-Injury</li><li>Violent & Graphic Content</li><li>Violence And Incitement</li></ul><p>They also differ in these metrics:</p><ul><li>Content Actioned</li><li>Content Appealed</li><li>Content Restored without appeal</li><li>Proactive rate</li><li>Content Restored with appeal</li></ul>"
      ],
      "text/plain": [
       "<IPython.core.display.HTML object>"
      ]
     },
     "metadata": {},
     "output_type": "display_data"
    },
    {
     "data": {
      "text/html": [
       "<h2>Δ(Q2-2022 / Q1-2022)</h2>"
      ],
      "text/plain": [
       "<IPython.core.display.HTML object>"
      ]
     },
     "metadata": {},
     "output_type": "display_data"
    },
    {
     "data": {
      "text/html": [
       "<style type=\"text/css\">\n",
       "#T_13459 .level0 {\n",
       "  text-align: start;\n",
       "}\n",
       "#T_13459  {\n",
       "  font-variant-numeric: tabular-nums;\n",
       "  margin-top: 0;\n",
       "  margin-bottom: 0;\n",
       "}\n",
       "</style>\n",
       "<table id=\"T_13459\">\n",
       "  <thead>\n",
       "    <tr>\n",
       "      <th class=\"blank level0\" >&nbsp;</th>\n",
       "      <th id=\"T_13459_level0_col0\" class=\"col_heading level0 col0\" >divergent</th>\n",
       "    </tr>\n",
       "    <tr>\n",
       "      <th class=\"index_name level0\" >period</th>\n",
       "      <th class=\"blank col0\" >&nbsp;</th>\n",
       "    </tr>\n",
       "  </thead>\n",
       "  <tbody>\n",
       "    <tr>\n",
       "      <th id=\"T_13459_level0_row0\" class=\"row_heading level0 row0\" >2020Q3</th>\n",
       "      <td id=\"T_13459_row0_col0\" class=\"data row0 col0\" >79</td>\n",
       "    </tr>\n",
       "    <tr>\n",
       "      <th id=\"T_13459_level0_row1\" class=\"row_heading level0 row1\" >2020Q4</th>\n",
       "      <td id=\"T_13459_row1_col0\" class=\"data row1 col0\" >2</td>\n",
       "    </tr>\n",
       "    <tr>\n",
       "      <th id=\"T_13459_level0_row2\" class=\"row_heading level0 row2\" >2021Q1</th>\n",
       "      <td id=\"T_13459_row2_col0\" class=\"data row2 col0\" >3</td>\n",
       "    </tr>\n",
       "    <tr>\n",
       "      <th id=\"T_13459_level0_row3\" class=\"row_heading level0 row3\" >2021Q2</th>\n",
       "      <td id=\"T_13459_row3_col0\" class=\"data row3 col0\" >4</td>\n",
       "    </tr>\n",
       "    <tr>\n",
       "      <th id=\"T_13459_level0_row4\" class=\"row_heading level0 row4\" >2021Q4</th>\n",
       "      <td id=\"T_13459_row4_col0\" class=\"data row4 col0\" >1</td>\n",
       "    </tr>\n",
       "    <tr>\n",
       "      <th id=\"T_13459_level0_row5\" class=\"row_heading level0 row5\" >2022Q1</th>\n",
       "      <td id=\"T_13459_row5_col0\" class=\"data row5 col0\" >13</td>\n",
       "    </tr>\n",
       "  </tbody>\n",
       "</table>\n"
      ],
      "text/plain": [
       "<pandas.io.formats.style.Styler at 0x128716690>"
      ]
     },
     "metadata": {},
     "output_type": "display_data"
    },
    {
     "data": {
      "text/html": [
       "<p>There are <strong>102 divergent values</strong>. They differ in these policy areas:</p><ul><li>Adult Nudity & Sexual Activity</li><li>Bullying & Harassment</li><li>Child Nudity & Sexual Exploitation</li><li>Dangerous Orgs: Organized Hate</li><li>Dangerous Orgs: Terrorism</li><li>Fake Accounts</li><li>Hate Speech</li><li>Regulated Goods: Drugs</li><li>Regulated Goods: Firearms</li><li>Spam</li><li>Suicide and Self-Injury</li><li>Violent & Graphic Content</li><li>Child Endangerment: Nudity and Physical Abuse</li><li>Child Endangerment: Sexual Exploitation</li><li>Violence And Incitement</li></ul><p>They also differ in these metrics:</p><ul><li>Content Actioned</li><li>Content Appealed</li><li>Content Restored with appeal</li><li>Content Restored without appeal</li><li>Lowerbound Prevalence</li><li>Proactive rate</li><li>Upperbound Prevalence</li></ul>"
      ],
      "text/plain": [
       "<IPython.core.display.HTML object>"
      ]
     },
     "metadata": {},
     "output_type": "display_data"
    },
    {
     "data": {
      "text/html": [
       "<h2>Δ(Q3-2022 / Q2-2022)</h2>"
      ],
      "text/plain": [
       "<IPython.core.display.HTML object>"
      ]
     },
     "metadata": {},
     "output_type": "display_data"
    },
    {
     "data": {
      "text/html": [
       "<style type=\"text/css\">\n",
       "#T_0a138 .level0 {\n",
       "  text-align: start;\n",
       "}\n",
       "#T_0a138  {\n",
       "  font-variant-numeric: tabular-nums;\n",
       "  margin-top: 0;\n",
       "  margin-bottom: 0;\n",
       "}\n",
       "</style>\n",
       "<table id=\"T_0a138\">\n",
       "  <thead>\n",
       "    <tr>\n",
       "      <th class=\"blank level0\" >&nbsp;</th>\n",
       "      <th id=\"T_0a138_level0_col0\" class=\"col_heading level0 col0\" >divergent</th>\n",
       "    </tr>\n",
       "    <tr>\n",
       "      <th class=\"index_name level0\" >period</th>\n",
       "      <th class=\"blank col0\" >&nbsp;</th>\n",
       "    </tr>\n",
       "  </thead>\n",
       "  <tbody>\n",
       "    <tr>\n",
       "      <th id=\"T_0a138_level0_row0\" class=\"row_heading level0 row0\" >2020Q4</th>\n",
       "      <td id=\"T_0a138_row0_col0\" class=\"data row0 col0\" >77</td>\n",
       "    </tr>\n",
       "    <tr>\n",
       "      <th id=\"T_0a138_level0_row1\" class=\"row_heading level0 row1\" >2021Q1</th>\n",
       "      <td id=\"T_0a138_row1_col0\" class=\"data row1 col0\" >3</td>\n",
       "    </tr>\n",
       "    <tr>\n",
       "      <th id=\"T_0a138_level0_row2\" class=\"row_heading level0 row2\" >2021Q2</th>\n",
       "      <td id=\"T_0a138_row2_col0\" class=\"data row2 col0\" >4</td>\n",
       "    </tr>\n",
       "    <tr>\n",
       "      <th id=\"T_0a138_level0_row3\" class=\"row_heading level0 row3\" >2022Q2</th>\n",
       "      <td id=\"T_0a138_row3_col0\" class=\"data row3 col0\" >29</td>\n",
       "    </tr>\n",
       "  </tbody>\n",
       "</table>\n"
      ],
      "text/plain": [
       "<pandas.io.formats.style.Styler at 0x128890650>"
      ]
     },
     "metadata": {},
     "output_type": "display_data"
    },
    {
     "data": {
      "text/html": [
       "<p>There are <strong>113 divergent values</strong>. They differ in these policy areas:</p><ul><li>Adult Nudity & Sexual Activity</li><li>Bullying & Harassment</li><li>Child Nudity & Sexual Exploitation</li><li>Dangerous Orgs: Organized Hate</li><li>Dangerous Orgs: Terrorism</li><li>Fake Accounts</li><li>Hate Speech</li><li>Regulated Goods: Drugs</li><li>Regulated Goods: Firearms</li><li>Spam</li><li>Suicide and Self-Injury</li><li>Violent & Graphic Content</li><li>Child Endangerment: Nudity and Physical Abuse</li><li>Child Endangerment: Sexual Exploitation</li><li>Violence And Incitement</li></ul><p>They also differ in these metrics:</p><ul><li>Content Actioned</li><li>Content Appealed</li><li>Content Restored with appeal</li><li>Content Restored without appeal</li><li>Proactive rate</li><li>Upperbound Prevalence</li><li>Lowerbound Prevalence</li></ul>"
      ],
      "text/plain": [
       "<IPython.core.display.HTML object>"
      ]
     },
     "metadata": {},
     "output_type": "display_data"
    },
    {
     "data": {
      "text/html": [
       "<h2>Δ(Q4-2022 / Q3-2022)</h2>"
      ],
      "text/plain": [
       "<IPython.core.display.HTML object>"
      ]
     },
     "metadata": {},
     "output_type": "display_data"
    },
    {
     "data": {
      "text/html": [
       "<style type=\"text/css\">\n",
       "#T_2ad60 .level0 {\n",
       "  text-align: start;\n",
       "}\n",
       "#T_2ad60  {\n",
       "  font-variant-numeric: tabular-nums;\n",
       "  margin-top: 0;\n",
       "  margin-bottom: 0;\n",
       "}\n",
       "</style>\n",
       "<table id=\"T_2ad60\">\n",
       "  <thead>\n",
       "    <tr>\n",
       "      <th class=\"blank level0\" >&nbsp;</th>\n",
       "      <th id=\"T_2ad60_level0_col0\" class=\"col_heading level0 col0\" >divergent</th>\n",
       "    </tr>\n",
       "    <tr>\n",
       "      <th class=\"index_name level0\" >period</th>\n",
       "      <th class=\"blank col0\" >&nbsp;</th>\n",
       "    </tr>\n",
       "  </thead>\n",
       "  <tbody>\n",
       "    <tr>\n",
       "      <th id=\"T_2ad60_level0_row0\" class=\"row_heading level0 row0\" >2020Q2</th>\n",
       "      <td id=\"T_2ad60_row0_col0\" class=\"data row0 col0\" >67</td>\n",
       "    </tr>\n",
       "    <tr>\n",
       "      <th id=\"T_2ad60_level0_row1\" class=\"row_heading level0 row1\" >2020Q3</th>\n",
       "      <td id=\"T_2ad60_row1_col0\" class=\"data row1 col0\" >60</td>\n",
       "    </tr>\n",
       "    <tr>\n",
       "      <th id=\"T_2ad60_level0_row2\" class=\"row_heading level0 row2\" >2020Q4</th>\n",
       "      <td id=\"T_2ad60_row2_col0\" class=\"data row2 col0\" >58</td>\n",
       "    </tr>\n",
       "    <tr>\n",
       "      <th id=\"T_2ad60_level0_row3\" class=\"row_heading level0 row3\" >2022Q3</th>\n",
       "      <td id=\"T_2ad60_row3_col0\" class=\"data row3 col0\" >18</td>\n",
       "    </tr>\n",
       "  </tbody>\n",
       "</table>\n"
      ],
      "text/plain": [
       "<pandas.io.formats.style.Styler at 0x12884b050>"
      ]
     },
     "metadata": {},
     "output_type": "display_data"
    },
    {
     "data": {
      "text/html": [
       "<p>There are <strong>203 divergent values</strong>. They differ in these policy areas:</p><ul><li>Adult Nudity & Sexual Activity</li><li>Bullying & Harassment</li><li>Child Nudity & Sexual Exploitation</li><li>Dangerous Orgs: Organized Hate</li><li>Dangerous Orgs: Terrorism</li><li>Fake Accounts</li><li>Hate Speech</li><li>Regulated Goods: Drugs</li><li>Regulated Goods: Firearms</li><li>Spam</li><li>Suicide and Self-Injury</li><li>Violent & Graphic Content</li><li>Child Endangerment: Nudity and Physical Abuse</li><li>Child Endangerment: Sexual Exploitation</li></ul><p>They also differ in these metrics:</p><ul><li>Content Actioned</li><li>Content Appealed</li><li>Content Restored without appeal</li><li>Content Restored with appeal</li><li>Lowerbound Prevalence</li><li>Upperbound Prevalence</li></ul>"
      ],
      "text/plain": [
       "<IPython.core.display.HTML object>"
      ]
     },
     "metadata": {},
     "output_type": "display_data"
    },
    {
     "data": {
      "text/html": [
       "<h2>Δ(Q1-2023 / Q4-2022)</h2>"
      ],
      "text/plain": [
       "<IPython.core.display.HTML object>"
      ]
     },
     "metadata": {},
     "output_type": "display_data"
    },
    {
     "data": {
      "text/html": [
       "<style type=\"text/css\">\n",
       "#T_643e8 .level0 {\n",
       "  text-align: start;\n",
       "}\n",
       "#T_643e8  {\n",
       "  font-variant-numeric: tabular-nums;\n",
       "  margin-top: 0;\n",
       "  margin-bottom: 0;\n",
       "}\n",
       "</style>\n",
       "<table id=\"T_643e8\">\n",
       "  <thead>\n",
       "    <tr>\n",
       "      <th class=\"blank level0\" >&nbsp;</th>\n",
       "      <th id=\"T_643e8_level0_col0\" class=\"col_heading level0 col0\" >divergent</th>\n",
       "    </tr>\n",
       "    <tr>\n",
       "      <th class=\"index_name level0\" >period</th>\n",
       "      <th class=\"blank col0\" >&nbsp;</th>\n",
       "    </tr>\n",
       "  </thead>\n",
       "  <tbody>\n",
       "    <tr>\n",
       "      <th id=\"T_643e8_level0_row0\" class=\"row_heading level0 row0\" >2022Q4</th>\n",
       "      <td id=\"T_643e8_row0_col0\" class=\"data row0 col0\" >18</td>\n",
       "    </tr>\n",
       "  </tbody>\n",
       "</table>\n"
      ],
      "text/plain": [
       "<pandas.io.formats.style.Styler at 0x1287edf10>"
      ]
     },
     "metadata": {},
     "output_type": "display_data"
    },
    {
     "data": {
      "text/html": [
       "<p>There are <strong>18 divergent values</strong>. They differ in these policy areas:</p><ul><li>Adult Nudity & Sexual Activity</li><li>Child Endangerment: Nudity and Physical Abuse</li><li>Child Endangerment: Sexual Exploitation</li><li>Dangerous Orgs: Organized Hate</li><li>Regulated Goods: Drugs</li><li>Spam</li><li>Suicide and Self-Injury</li><li>Violence And Incitement</li></ul><p>They also differ in these metrics:</p><ul><li>Content Actioned</li><li>Content Restored with appeal</li><li>Content Restored without appeal</li><li>Content Appealed</li></ul>"
      ],
      "text/plain": [
       "<IPython.core.display.HTML object>"
      ]
     },
     "metadata": {},
     "output_type": "display_data"
    },
    {
     "data": {
      "text/html": [
       "<h2>Δ(Q2-2023 / Q1-2023)</h2>"
      ],
      "text/plain": [
       "<IPython.core.display.HTML object>"
      ]
     },
     "metadata": {},
     "output_type": "display_data"
    },
    {
     "data": {
      "text/html": [
       "No differences in disclosed quantities!"
      ],
      "text/plain": [
       "<IPython.core.display.HTML object>"
      ]
     },
     "metadata": {},
     "output_type": "display_data"
    },
    {
     "data": {
      "text/html": [
       "<h2>Δ(Q3-2023 / Q2-2023)</h2>"
      ],
      "text/plain": [
       "<IPython.core.display.HTML object>"
      ]
     },
     "metadata": {},
     "output_type": "display_data"
    },
    {
     "data": {
      "text/html": [
       "No differences in disclosed quantities!"
      ],
      "text/plain": [
       "<IPython.core.display.HTML object>"
      ]
     },
     "metadata": {},
     "output_type": "display_data"
    },
    {
     "data": {
      "text/html": [
       "<h2>Δ(Q4-2023 / Q3-2023)</h2>"
      ],
      "text/plain": [
       "<IPython.core.display.HTML object>"
      ]
     },
     "metadata": {},
     "output_type": "display_data"
    },
    {
     "data": {
      "text/html": [
       "No differences in disclosed quantities!"
      ],
      "text/plain": [
       "<IPython.core.display.HTML object>"
      ]
     },
     "metadata": {},
     "output_type": "display_data"
    },
    {
     "data": {
      "text/html": [
       "<h2>Δ(Q1-2024 / Q4-2023)</h2>"
      ],
      "text/plain": [
       "<IPython.core.display.HTML object>"
      ]
     },
     "metadata": {},
     "output_type": "display_data"
    },
    {
     "data": {
      "text/html": [
       "No differences in disclosed quantities!"
      ],
      "text/plain": [
       "<IPython.core.display.HTML object>"
      ]
     },
     "metadata": {},
     "output_type": "display_data"
    },
    {
     "data": {
      "text/html": [
       "<h2>Δ(Q2-2024 / Q1-2024)</h2>"
      ],
      "text/plain": [
       "<IPython.core.display.HTML object>"
      ]
     },
     "metadata": {},
     "output_type": "display_data"
    },
    {
     "data": {
      "text/html": [
       "No differences in disclosed quantities!"
      ],
      "text/plain": [
       "<IPython.core.display.HTML object>"
      ]
     },
     "metadata": {},
     "output_type": "display_data"
    }
   ],
   "source": [
    "show(\"<h3>Divergence for All Metrics</h3>\")\n",
    "\n",
    "for p1, delta in meta_differences.items():\n",
    "    p2 = p1 + 1\n",
    "    show(f'<h2>Δ(Q{p2.quarter}-{p2.year} / Q{p1.quarter}-{p1.year})</h2>')\n",
    "\n",
    "    if len(delta) == 0:\n",
    "        show(\"No differences in disclosed quantities!\")\n",
    "    else:\n",
    "        show(meta.age_of_divergence(delta), margin_bottom=0)\n",
    "        show(meta.descriptors_of_divergence(delta))"
   ]
  }
 ],
 "metadata": {
  "kernelspec": {
   "display_name": ".venv",
   "language": "python",
   "name": "python3"
  },
  "language_info": {
   "codemirror_mode": {
    "name": "ipython",
    "version": 3
   },
   "file_extension": ".py",
   "mimetype": "text/x-python",
   "name": "python",
   "nbconvert_exporter": "python",
   "pygments_lexer": "ipython3",
   "version": "3.11.4"
  }
 },
 "nbformat": 4,
 "nbformat_minor": 2
}
