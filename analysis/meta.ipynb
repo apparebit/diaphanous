{
 "cells": [
  {
   "cell_type": "code",
   "execution_count": 1,
   "metadata": {},
   "outputs": [
    {
     "data": {
      "text/html": [
       "<h1>Meta's Insufficient and Buggy Transparency</h1>"
      ],
      "text/plain": [
       "<IPython.core.display.HTML object>"
      ]
     },
     "metadata": {},
     "output_type": "display_data"
    },
    {
     "data": {
      "text/html": [
       "<h2>Meta is a “<a href=\"https://www.thedailybeast.com/facebook-a-hotbed-of-child-sexual-abuse-material-with-203-million-reports-far-more-than-pornhub\">Hotbed of CSAM</a>”</h2>"
      ],
      "text/plain": [
       "<IPython.core.display.HTML object>"
      ]
     },
     "metadata": {},
     "output_type": "display_data"
    },
    {
     "data": {
      "text/html": [
       "\n",
       "    Meta is responsible for the vast majority of CyberTipline reports and also\n",
       "    pieces. Yet, its transparency disclosures aren't very transparent.\n",
       "    <ul>\n",
       "    <li>Meta does not disclose the number of CSAM reports made to NCMEC, only\n",
       "    pieces.</li>\n",
       "    <li>Meta is the only social media firm to round its counts</li>\n",
       "    <li>Meta makes no transparency disclosures for WhatsApp. Yet, it does file\n",
       "    CSAM reports for the app. This became apparent when NCMEC started\n",
       "    distinguishing between Facebook, Instagram, and WhatsApp for its 2021 transparency\n",
       "    disclosures.</li>\n",
       "    </ul>\n",
       "    Furthermore, see below.\n",
       "    "
      ],
      "text/plain": [
       "<IPython.core.display.HTML object>"
      ]
     },
     "metadata": {},
     "output_type": "display_data"
    },
    {
     "data": {
      "text/html": [
       "<style type=\"text/css\">\n",
       "#T_f5dc0 caption {\n",
       "  caption-side: top;\n",
       "  font-size: 1.1em;\n",
       "  margin-bottom: 2ex;\n",
       "  vertical-align: center;\n",
       "  font-style: italic;\n",
       "}\n",
       "#T_f5dc0 .level0 {\n",
       "  text-align: start;\n",
       "}\n",
       "#T_f5dc0  {\n",
       "  font-variant-numeric: tabular-nums;\n",
       "  margin-top: 0;\n",
       "  margin-bottom: 0;\n",
       "}\n",
       "#T_f5dc0_row0_col1, #T_f5dc0_row0_col6, #T_f5dc0_row1_col1, #T_f5dc0_row1_col6, #T_f5dc0_row2_col1, #T_f5dc0_row2_col6, #T_f5dc0_row3_col1, #T_f5dc0_row3_col6 {\n",
       "  background-color: #ffffb3;\n",
       "}\n",
       "</style>\n",
       "<table id=\"T_f5dc0\">\n",
       "  <caption>Meta's Share of CSAM Reports</caption>\n",
       "  <thead>\n",
       "    <tr>\n",
       "      <th class=\"blank level0\" >&nbsp;</th>\n",
       "      <th id=\"T_f5dc0_level0_col0\" class=\"col_heading level0 col0\" >Total</th>\n",
       "      <th id=\"T_f5dc0_level0_col1\" class=\"col_heading level0 col1\" >%</th>\n",
       "      <th id=\"T_f5dc0_level0_col2\" class=\"col_heading level0 col2\" >Meta</th>\n",
       "      <th id=\"T_f5dc0_level0_col3\" class=\"col_heading level0 col3\" >Facebook</th>\n",
       "      <th id=\"T_f5dc0_level0_col4\" class=\"col_heading level0 col4\" >Instagram</th>\n",
       "      <th id=\"T_f5dc0_level0_col5\" class=\"col_heading level0 col5\" >WhatsApp</th>\n",
       "      <th id=\"T_f5dc0_level0_col6\" class=\"col_heading level0 col6\" >% Meta</th>\n",
       "    </tr>\n",
       "    <tr>\n",
       "      <th class=\"index_name level0\" >period</th>\n",
       "      <th class=\"blank col0\" >&nbsp;</th>\n",
       "      <th class=\"blank col1\" >&nbsp;</th>\n",
       "      <th class=\"blank col2\" >&nbsp;</th>\n",
       "      <th class=\"blank col3\" >&nbsp;</th>\n",
       "      <th class=\"blank col4\" >&nbsp;</th>\n",
       "      <th class=\"blank col5\" >&nbsp;</th>\n",
       "      <th class=\"blank col6\" >&nbsp;</th>\n",
       "    </tr>\n",
       "  </thead>\n",
       "  <tbody>\n",
       "    <tr>\n",
       "      <th id=\"T_f5dc0_level0_row0\" class=\"row_heading level0 row0\" >2019</th>\n",
       "      <td id=\"T_f5dc0_row0_col0\" class=\"data row0 col0\" >16,836,694</td>\n",
       "      <td id=\"T_f5dc0_row0_col1\" class=\"data row0 col1\" >94.3</td>\n",
       "      <td id=\"T_f5dc0_row0_col2\" class=\"data row0 col2\" >15,884,511</td>\n",
       "      <td id=\"T_f5dc0_row0_col3\" class=\"data row0 col3\" >⋯</td>\n",
       "      <td id=\"T_f5dc0_row0_col4\" class=\"data row0 col4\" >⋯</td>\n",
       "      <td id=\"T_f5dc0_row0_col5\" class=\"data row0 col5\" >⋯</td>\n",
       "      <td id=\"T_f5dc0_row0_col6\" class=\"data row0 col6\" >⋯</td>\n",
       "    </tr>\n",
       "    <tr>\n",
       "      <th id=\"T_f5dc0_level0_row1\" class=\"row_heading level0 row1\" >2020</th>\n",
       "      <td id=\"T_f5dc0_row1_col0\" class=\"data row1 col0\" >21,447,786</td>\n",
       "      <td id=\"T_f5dc0_row1_col1\" class=\"data row1 col1\" >94.7</td>\n",
       "      <td id=\"T_f5dc0_row1_col2\" class=\"data row1 col2\" >20,307,216</td>\n",
       "      <td id=\"T_f5dc0_row1_col3\" class=\"data row1 col3\" >⋯</td>\n",
       "      <td id=\"T_f5dc0_row1_col4\" class=\"data row1 col4\" >⋯</td>\n",
       "      <td id=\"T_f5dc0_row1_col5\" class=\"data row1 col5\" >⋯</td>\n",
       "      <td id=\"T_f5dc0_row1_col6\" class=\"data row1 col6\" >⋯</td>\n",
       "    </tr>\n",
       "    <tr>\n",
       "      <th id=\"T_f5dc0_level0_row2\" class=\"row_heading level0 row2\" >2021</th>\n",
       "      <td id=\"T_f5dc0_row2_col0\" class=\"data row2 col0\" >29,157,083</td>\n",
       "      <td id=\"T_f5dc0_row2_col1\" class=\"data row2 col1\" >92.2</td>\n",
       "      <td id=\"T_f5dc0_row2_col2\" class=\"data row2 col2\" >26,885,302</td>\n",
       "      <td id=\"T_f5dc0_row2_col3\" class=\"data row2 col3\" >22,118,952</td>\n",
       "      <td id=\"T_f5dc0_row2_col4\" class=\"data row2 col4\" >3,393,654</td>\n",
       "      <td id=\"T_f5dc0_row2_col5\" class=\"data row2 col5\" >1,372,696</td>\n",
       "      <td id=\"T_f5dc0_row2_col6\" class=\"data row2 col6\" >5.11</td>\n",
       "    </tr>\n",
       "    <tr>\n",
       "      <th id=\"T_f5dc0_level0_row3\" class=\"row_heading level0 row3\" >2022</th>\n",
       "      <td id=\"T_f5dc0_row3_col0\" class=\"data row3 col0\" >31,802,525</td>\n",
       "      <td id=\"T_f5dc0_row3_col1\" class=\"data row3 col1\" >85.5</td>\n",
       "      <td id=\"T_f5dc0_row3_col2\" class=\"data row3 col2\" >27,190,665</td>\n",
       "      <td id=\"T_f5dc0_row3_col3\" class=\"data row3 col3\" >21,165,208</td>\n",
       "      <td id=\"T_f5dc0_row3_col4\" class=\"data row3 col4\" >5,007,902</td>\n",
       "      <td id=\"T_f5dc0_row3_col5\" class=\"data row3 col5\" >1,017,555</td>\n",
       "      <td id=\"T_f5dc0_row3_col6\" class=\"data row3 col6\" >3.74</td>\n",
       "    </tr>\n",
       "  </tbody>\n",
       "</table>\n"
      ],
      "text/plain": [
       "<pandas.io.formats.style.Styler at 0x12e9c44d0>"
      ]
     },
     "metadata": {},
     "output_type": "display_data"
    }
   ],
   "source": [
    "import sys\n",
    "sys.path.insert(0, '..')\n",
    "\n",
    "import re\n",
    "import pandas as pd\n",
    "import matplotlib.pyplot as plt\n",
    "import matplotlib as mpl\n",
    "from intransparent import (\n",
    "    combine_brands,\n",
    "    ingest_reports_per_platform,\n",
    "    REPORTS_PER_PLATFORM,\n",
    "    show,\n",
    "    wide_ncmec_reports,\n",
    ")\n",
    "import intransparent.meta as meta\n",
    "\n",
    "\n",
    "_TDB_URL = (\n",
    "'https://www.thedailybeast.com/facebook-a-hotbed-of-child-sexual-abuse-material-'\n",
    "'with-203-million-reports-far-more-than-pornhub'\n",
    ")\n",
    "\n",
    "\n",
    "data = ingest_reports_per_platform(REPORTS_PER_PLATFORM)\n",
    "\n",
    "show(f\"<h1>Meta's Insufficient and Buggy Transparency</h1>\")\n",
    "show(f'<h2>Meta is a “<a href=\"{_TDB_URL}\">Hotbed of CSAM</a>”</h2>')\n",
    "show(\n",
    "    \"\"\"\n",
    "    Meta is responsible for the vast majority of CyberTipline reports and also\n",
    "    pieces. Yet, its transparency disclosures aren't very transparent.\n",
    "    <ul>\n",
    "    <li>Meta does not disclose the number of CSAM reports made to NCMEC, only\n",
    "    pieces.</li>\n",
    "    <li>Meta is the only social media firm to round its counts</li>\n",
    "    <li>Meta makes no transparency disclosures for WhatsApp. Yet, it does file\n",
    "    CSAM reports for the app. This became apparent when NCMEC started\n",
    "    distinguishing between Facebook, Instagram, and WhatsApp for its 2021 transparency\n",
    "    disclosures.</li>\n",
    "    </ul>\n",
    "    Furthermore, see below.\n",
    "    \"\"\"\n",
    ")\n",
    "\n",
    "ncmec = wide_ncmec_reports(data, drop_brands=False)\n",
    "meta_reports = meta.csam_reports(ncmec)\n",
    "show(\n",
    "    meta_reports,\n",
    "    caption=\"Meta's Share of CSAM Reports\",\n",
    "    highlight_columns=['%', '% Meta'],\n",
    "    margin_bottom=0,\n",
    ")"
   ]
  },
  {
   "cell_type": "code",
   "execution_count": 2,
   "metadata": {},
   "outputs": [
    {
     "data": {
      "text/html": [
       "<h2>Pieces vs Reports</h2>"
      ],
      "text/plain": [
       "<IPython.core.display.HTML object>"
      ]
     },
     "metadata": {},
     "output_type": "display_data"
    },
    {
     "data": {
      "text/html": [
       "\n",
       "    Neither Meta nor NCMEC discloses both piece and report counts in their\n",
       "    transparency reports. Hence we cannot validate the counts. But we can still\n",
       "    whether their ratios are plausible. The table below shows that they are.\n",
       "    "
      ],
      "text/plain": [
       "<IPython.core.display.HTML object>"
      ]
     },
     "metadata": {},
     "output_type": "display_data"
    },
    {
     "data": {
      "text/html": [
       "<style type=\"text/css\">\n",
       "#T_1120b caption {\n",
       "  caption-side: top;\n",
       "  font-size: 1.1em;\n",
       "  margin-bottom: 2ex;\n",
       "  vertical-align: center;\n",
       "  font-style: italic;\n",
       "}\n",
       "#T_1120b  {\n",
       "  font-variant-numeric: tabular-nums;\n",
       "  margin-top: 0;\n",
       "  margin-bottom: 2.0em;\n",
       "}\n",
       "</style>\n",
       "<table id=\"T_1120b\">\n",
       "  <caption>Pieces (Meta) v Reports (NCMEC)</caption>\n",
       "  <thead>\n",
       "    <tr>\n",
       "      <th class=\"blank level0\" >&nbsp;</th>\n",
       "      <th id=\"T_1120b_level0_col0\" class=\"col_heading level0 col0\" >pieces</th>\n",
       "      <th id=\"T_1120b_level0_col1\" class=\"col_heading level0 col1\" >π</th>\n",
       "      <th id=\"T_1120b_level0_col2\" class=\"col_heading level0 col2\" >reports</th>\n",
       "    </tr>\n",
       "    <tr>\n",
       "      <th class=\"index_name level0\" >period</th>\n",
       "      <th class=\"blank col0\" >&nbsp;</th>\n",
       "      <th class=\"blank col1\" >&nbsp;</th>\n",
       "      <th class=\"blank col2\" >&nbsp;</th>\n",
       "    </tr>\n",
       "  </thead>\n",
       "  <tbody>\n",
       "    <tr>\n",
       "      <th id=\"T_1120b_level0_row0\" class=\"row_heading level0 row0\" >2019</th>\n",
       "      <td id=\"T_1120b_row0_col0\" class=\"data row0 col0\" >39,368,400</td>\n",
       "      <td id=\"T_1120b_row0_col1\" class=\"data row0 col1\" >2.48</td>\n",
       "      <td id=\"T_1120b_row0_col2\" class=\"data row0 col2\" >15,884,511</td>\n",
       "    </tr>\n",
       "    <tr>\n",
       "      <th id=\"T_1120b_level0_row1\" class=\"row_heading level0 row1\" >2020</th>\n",
       "      <td id=\"T_1120b_row1_col0\" class=\"data row1 col0\" >38,890,800</td>\n",
       "      <td id=\"T_1120b_row1_col1\" class=\"data row1 col1\" >1.92</td>\n",
       "      <td id=\"T_1120b_row1_col2\" class=\"data row1 col2\" >20,307,216</td>\n",
       "    </tr>\n",
       "    <tr>\n",
       "      <th id=\"T_1120b_level0_row2\" class=\"row_heading level0 row2\" >2021</th>\n",
       "      <td id=\"T_1120b_row2_col0\" class=\"data row2 col0\" >78,012,400</td>\n",
       "      <td id=\"T_1120b_row2_col1\" class=\"data row2 col1\" >2.90</td>\n",
       "      <td id=\"T_1120b_row2_col2\" class=\"data row2 col2\" >26,885,302</td>\n",
       "    </tr>\n",
       "    <tr>\n",
       "      <th id=\"T_1120b_level0_row3\" class=\"row_heading level0 row3\" >2022</th>\n",
       "      <td id=\"T_1120b_row3_col0\" class=\"data row3 col0\" >105,800,000</td>\n",
       "      <td id=\"T_1120b_row3_col1\" class=\"data row3 col1\" >3.89</td>\n",
       "      <td id=\"T_1120b_row3_col2\" class=\"data row3 col2\" >27,190,665</td>\n",
       "    </tr>\n",
       "  </tbody>\n",
       "</table>\n"
      ],
      "text/plain": [
       "<pandas.io.formats.style.Styler at 0x12e5a4b10>"
      ]
     },
     "metadata": {},
     "output_type": "display_data"
    }
   ],
   "source": [
    "# (1) Determine number of reports NCMEC received from Meta per year\n",
    "yearly_reports = ncmec['Meta'].pipe(lambda s: s.groupby(s.index.year)).sum()\n",
    "\n",
    "# (2) Determine number of pieces detected by Meta per quarter. This is an\n",
    "# approximation only because neither of the two original metrics is exactly the\n",
    "# same as CSAM.\n",
    "quarterly_pieces = (\n",
    "    combine_brands(data)['Meta'][[\n",
    "        'pieces (Child Nudity & Sexual Exploitation)',\n",
    "        'pieces (Child Endangerment: Sexual Exploitation)'\n",
    "    ]]\n",
    "    .sum(axis=1)\n",
    ")\n",
    "quarterly_pieces.name = 'pieces'\n",
    "\n",
    "# (3) Convert to pieces per year. Don't forget to drop incomplete years!\n",
    "yearly_pieces = (\n",
    "    quarterly_pieces\n",
    "    .pipe(lambda df: df.groupby(df.index.year))\n",
    "    .sum()\n",
    "    .loc[2019:2022]\n",
    ")\n",
    "\n",
    "# (4) Show the relationship between pieces and reports.\n",
    "pieces_v_reports = pd.DataFrame({\n",
    "    'pieces': yearly_pieces,\n",
    "    'π': yearly_pieces / yearly_reports,\n",
    "    'reports': yearly_reports,\n",
    "})\n",
    "\n",
    "show('<h2>Pieces vs Reports</h2>')\n",
    "show(\n",
    "    \"\"\"\n",
    "    Neither Meta nor NCMEC discloses both piece and report counts in their\n",
    "    transparency reports. Hence we cannot validate the counts. But we can still\n",
    "    whether their ratios are plausible. The table below shows that they are.\n",
    "    \"\"\"\n",
    ")\n",
    "show(\n",
    "    pieces_v_reports,\n",
    "    caption='Pieces (Meta) v Reports (NCMEC)',\n",
    "    emit_latex=True,\n",
    ")"
   ]
  },
  {
   "cell_type": "code",
   "execution_count": 46,
   "metadata": {},
   "outputs": [
    {
     "data": {
      "image/png": "[encoded data removed]",
      "text/plain": [
       "<Figure size 640x480 with 1 Axes>"
      ]
     },
     "metadata": {},
     "output_type": "display_data"
    }
   ],
   "source": [
    "COLUMNS = [\n",
    "    'pieces (Child Nudity & Sexual Exploitation)',\n",
    "    'pieces (Child Endangerment: Sexual Exploitation)',\n",
    "]\n",
    "\n",
    "pieces_fb = data.disclosures['Facebook'][COLUMNS].rename(columns={\n",
    "    'pieces (Child Nudity & Sexual Exploitation)': 'Facebook Metric #1',\n",
    "    'pieces (Child Endangerment: Sexual Exploitation)': 'Facebook Metric #2',\n",
    "})\n",
    "pieces_insta = data.disclosures['Instagram'][COLUMNS].rename(columns={\n",
    "    'pieces (Child Nudity & Sexual Exploitation)': 'Instagram Metric #1',\n",
    "    'pieces (Child Endangerment: Sexual Exploitation)': 'Instagram Metric #2',\n",
    "})\n",
    "\n",
    "pieces = pd.concat([pieces_fb, pieces_insta], axis=1).sort_index()\n",
    "\n",
    "ax = pieces.plot.bar(\n",
    "    stacked=True,\n",
    "    color = ('#5a738a', '#776887','#fdba17','#84e278', '#776887', '#825aa9'),\n",
    "    # color = ('#8080d0', '#7070c0', '#ff8060', '#ff7050'),\n",
    "    # color = ('#4743a1', '#d1448f', '#ff6852', '#fac000'),\n",
    "    # color = ('#4b4fbd', '#794cbd', '#363987', '#65409e'),\n",
    "    # color = ('#a6c3d1', '#cbb3d0', '#364c80', '#563680'),\n",
    "    # color = (\"#b1d9fa\", \"#7ca7c9\", \"#47789a\", \"#004c6d\"),\n",
    "    # color=(\"#ede15b\", \"#edbf33\", \"#ef9b20\", \"#ea5545\"),\n",
    ")\n",
    "ax.set_xlabel('Quarter')\n",
    "ax.set_ylabel('Million Pieces')\n",
    "ax.get_yaxis().set_major_formatter(\n",
    "    mpl.ticker.FuncFormatter(lambda x, p: format(int(x/1_000_000), ',')))\n",
    "\n",
    "plt.draw()\n",
    "\n",
    "LABEL_PATTERN = re.compile(r'(\\d{4})(Q\\d)')\n",
    "labels = []\n",
    "\n",
    "for n, label in enumerate(ax.xaxis.get_ticklabels()):\n",
    "    if n % 4 == 0:\n",
    "        label.set_text(LABEL_PATTERN.sub('\\g<2>\\n\\g<1>', label.get_text()))\n",
    "        label.set_rotation(0)\n",
    "    else:\n",
    "        label.set_visible(False)\n",
    "    labels.append(label)\n",
    "\n",
    "ax.xaxis.set_ticklabels(labels)\n",
    "ax.axvline(2.5, color='#bbb', linestyle='dashed')  # after Q1 2019\n",
    "ax.axvline(10.5, color='#bbb')  # after Q1 2021\n",
    "\n",
    "ax.get_figure().savefig(\n",
    "    '../figure/meta-pieces-per-quarter.svg',\n",
    "    format='svg',\n",
    "    bbox_inches='tight'\n",
    ")\n"
   ]
  },
  {
   "cell_type": "code",
   "execution_count": 6,
   "metadata": {},
   "outputs": [
    {
     "data": {
      "text/html": [
       "<h2>Quarterly Statistics</h2>"
      ],
      "text/plain": [
       "<IPython.core.display.HTML object>"
      ]
     },
     "metadata": {},
     "output_type": "display_data"
    },
    {
     "data": {
      "text/html": [
       "<style type=\"text/css\">\n",
       "#T_9d6e3 caption {\n",
       "  caption-side: top;\n",
       "  font-size: 1.1em;\n",
       "  margin-bottom: 2ex;\n",
       "  vertical-align: center;\n",
       "  font-style: italic;\n",
       "}\n",
       "#T_9d6e3 .level0 {\n",
       "  text-align: start;\n",
       "}\n",
       "#T_9d6e3  {\n",
       "  font-variant-numeric: tabular-nums;\n",
       "  margin-top: 0;\n",
       "  margin-bottom: 2.0em;\n",
       "}\n",
       "</style>\n",
       "<table id=\"T_9d6e3\">\n",
       "  <caption>Pieces per Quarter<br>Year-Over-Year Change</caption>\n",
       "  <thead>\n",
       "    <tr>\n",
       "      <th class=\"blank level0\" >&nbsp;</th>\n",
       "      <th id=\"T_9d6e3_level0_col0\" class=\"col_heading level0 col0\" >pieces</th>\n",
       "      <th id=\"T_9d6e3_level0_col1\" class=\"col_heading level0 col1\" >Δ%</th>\n",
       "    </tr>\n",
       "    <tr>\n",
       "      <th class=\"index_name level0\" >period</th>\n",
       "      <th class=\"blank col0\" >&nbsp;</th>\n",
       "      <th class=\"blank col1\" >&nbsp;</th>\n",
       "    </tr>\n",
       "  </thead>\n",
       "  <tbody>\n",
       "    <tr>\n",
       "      <th id=\"T_9d6e3_level0_row0\" class=\"row_heading level0 row0\" >2018Q3</th>\n",
       "      <td id=\"T_9d6e3_row0_col0\" class=\"data row0 col0\" >9,000,000</td>\n",
       "      <td id=\"T_9d6e3_row0_col1\" class=\"data row0 col1\" >⋯</td>\n",
       "    </tr>\n",
       "    <tr>\n",
       "      <th id=\"T_9d6e3_level0_row1\" class=\"row_heading level0 row1\" >2018Q4</th>\n",
       "      <td id=\"T_9d6e3_row1_col0\" class=\"data row1 col0\" >7,200,000</td>\n",
       "      <td id=\"T_9d6e3_row1_col1\" class=\"data row1 col1\" >⋯</td>\n",
       "    </tr>\n",
       "    <tr>\n",
       "      <th id=\"T_9d6e3_level0_row2\" class=\"row_heading level0 row2\" >2019Q1</th>\n",
       "      <td id=\"T_9d6e3_row2_col0\" class=\"data row2 col0\" >5,800,000</td>\n",
       "      <td id=\"T_9d6e3_row2_col1\" class=\"data row2 col1\" >⋯</td>\n",
       "    </tr>\n",
       "    <tr>\n",
       "      <th id=\"T_9d6e3_level0_row3\" class=\"row_heading level0 row3\" >2019Q2</th>\n",
       "      <td id=\"T_9d6e3_row3_col0\" class=\"data row3 col0\" >7,426,200</td>\n",
       "      <td id=\"T_9d6e3_row3_col1\" class=\"data row3 col1\" >⋯</td>\n",
       "    </tr>\n",
       "    <tr>\n",
       "      <th id=\"T_9d6e3_level0_row4\" class=\"row_heading level0 row4\" >2019Q3</th>\n",
       "      <td id=\"T_9d6e3_row4_col0\" class=\"data row4 col0\" >12,155,800</td>\n",
       "      <td id=\"T_9d6e3_row4_col1\" class=\"data row4 col1\" >35.06</td>\n",
       "    </tr>\n",
       "    <tr>\n",
       "      <th id=\"T_9d6e3_level0_row5\" class=\"row_heading level0 row5\" >2019Q4</th>\n",
       "      <td id=\"T_9d6e3_row5_col0\" class=\"data row5 col0\" >13,986,400</td>\n",
       "      <td id=\"T_9d6e3_row5_col1\" class=\"data row5 col1\" >94.26</td>\n",
       "    </tr>\n",
       "    <tr>\n",
       "      <th id=\"T_9d6e3_level0_row6\" class=\"row_heading level0 row6\" >2020Q1</th>\n",
       "      <td id=\"T_9d6e3_row6_col0\" class=\"data row6 col0\" >9,500,000</td>\n",
       "      <td id=\"T_9d6e3_row6_col1\" class=\"data row6 col1\" >63.79</td>\n",
       "    </tr>\n",
       "    <tr>\n",
       "      <th id=\"T_9d6e3_level0_row7\" class=\"row_heading level0 row7\" >2020Q2</th>\n",
       "      <td id=\"T_9d6e3_row7_col0\" class=\"data row7 col0\" >9,881,400</td>\n",
       "      <td id=\"T_9d6e3_row7_col1\" class=\"data row7 col1\" >33.06</td>\n",
       "    </tr>\n",
       "    <tr>\n",
       "      <th id=\"T_9d6e3_level0_row8\" class=\"row_heading level0 row8\" >2020Q3</th>\n",
       "      <td id=\"T_9d6e3_row8_col0\" class=\"data row8 col0\" >13,400,000</td>\n",
       "      <td id=\"T_9d6e3_row8_col1\" class=\"data row8 col1\" >10.24</td>\n",
       "    </tr>\n",
       "    <tr>\n",
       "      <th id=\"T_9d6e3_level0_row9\" class=\"row_heading level0 row9\" >2020Q4</th>\n",
       "      <td id=\"T_9d6e3_row9_col0\" class=\"data row9 col0\" >6,109,400</td>\n",
       "      <td id=\"T_9d6e3_row9_col1\" class=\"data row9 col1\" >-56.32</td>\n",
       "    </tr>\n",
       "    <tr>\n",
       "      <th id=\"T_9d6e3_level0_row10\" class=\"row_heading level0 row10\" >2021Q1</th>\n",
       "      <td id=\"T_9d6e3_row10_col0\" class=\"data row10 col0\" >5,812,400</td>\n",
       "      <td id=\"T_9d6e3_row10_col1\" class=\"data row10 col1\" >-38.82</td>\n",
       "    </tr>\n",
       "    <tr>\n",
       "      <th id=\"T_9d6e3_level0_row11\" class=\"row_heading level0 row11\" >2021Q2</th>\n",
       "      <td id=\"T_9d6e3_row11_col0\" class=\"data row11 col0\" >27,000,000</td>\n",
       "      <td id=\"T_9d6e3_row11_col1\" class=\"data row11 col1\" >173.24</td>\n",
       "    </tr>\n",
       "    <tr>\n",
       "      <th id=\"T_9d6e3_level0_row12\" class=\"row_heading level0 row12\" >2021Q3</th>\n",
       "      <td id=\"T_9d6e3_row12_col0\" class=\"data row12 col0\" >22,800,000</td>\n",
       "      <td id=\"T_9d6e3_row12_col1\" class=\"data row12 col1\" >70.15</td>\n",
       "    </tr>\n",
       "    <tr>\n",
       "      <th id=\"T_9d6e3_level0_row13\" class=\"row_heading level0 row13\" >2021Q4</th>\n",
       "      <td id=\"T_9d6e3_row13_col0\" class=\"data row13 col0\" >22,400,000</td>\n",
       "      <td id=\"T_9d6e3_row13_col1\" class=\"data row13 col1\" >266.65</td>\n",
       "    </tr>\n",
       "    <tr>\n",
       "      <th id=\"T_9d6e3_level0_row14\" class=\"row_heading level0 row14\" >2022Q1</th>\n",
       "      <td id=\"T_9d6e3_row14_col0\" class=\"data row14 col0\" >18,000,000</td>\n",
       "      <td id=\"T_9d6e3_row14_col1\" class=\"data row14 col1\" >209.68</td>\n",
       "    </tr>\n",
       "    <tr>\n",
       "      <th id=\"T_9d6e3_level0_row15\" class=\"row_heading level0 row15\" >2022Q2</th>\n",
       "      <td id=\"T_9d6e3_row15_col0\" class=\"data row15 col0\" >21,600,000</td>\n",
       "      <td id=\"T_9d6e3_row15_col1\" class=\"data row15 col1\" >-20.00</td>\n",
       "    </tr>\n",
       "    <tr>\n",
       "      <th id=\"T_9d6e3_level0_row16\" class=\"row_heading level0 row16\" >2022Q3</th>\n",
       "      <td id=\"T_9d6e3_row16_col0\" class=\"data row16 col0\" >31,400,000</td>\n",
       "      <td id=\"T_9d6e3_row16_col1\" class=\"data row16 col1\" >37.72</td>\n",
       "    </tr>\n",
       "    <tr>\n",
       "      <th id=\"T_9d6e3_level0_row17\" class=\"row_heading level0 row17\" >2022Q4</th>\n",
       "      <td id=\"T_9d6e3_row17_col0\" class=\"data row17 col0\" >34,800,000</td>\n",
       "      <td id=\"T_9d6e3_row17_col1\" class=\"data row17 col1\" >55.36</td>\n",
       "    </tr>\n",
       "    <tr>\n",
       "      <th id=\"T_9d6e3_level0_row18\" class=\"row_heading level0 row18\" >2023Q1</th>\n",
       "      <td id=\"T_9d6e3_row18_col0\" class=\"data row18 col0\" >17,600,000</td>\n",
       "      <td id=\"T_9d6e3_row18_col1\" class=\"data row18 col1\" >-2.22</td>\n",
       "    </tr>\n",
       "    <tr>\n",
       "      <th id=\"T_9d6e3_level0_row19\" class=\"row_heading level0 row19\" >2023Q2</th>\n",
       "      <td id=\"T_9d6e3_row19_col0\" class=\"data row19 col0\" >8,900,000</td>\n",
       "      <td id=\"T_9d6e3_row19_col1\" class=\"data row19 col1\" >-58.80</td>\n",
       "    </tr>\n",
       "    <tr>\n",
       "      <th id=\"T_9d6e3_level0_row20\" class=\"row_heading level0 row20\" >2023Q3</th>\n",
       "      <td id=\"T_9d6e3_row20_col0\" class=\"data row20 col0\" >18,500,000</td>\n",
       "      <td id=\"T_9d6e3_row20_col1\" class=\"data row20 col1\" >-41.08</td>\n",
       "    </tr>\n",
       "  </tbody>\n",
       "</table>\n"
      ],
      "text/plain": [
       "<pandas.io.formats.style.Styler at 0x130000190>"
      ]
     },
     "metadata": {},
     "output_type": "display_data"
    },
    {
     "data": {
      "image/png": "[encoded data removed]",
      "text/plain": [
       "<Figure size 640x480 with 1 Axes>"
      ]
     },
     "metadata": {},
     "output_type": "display_data"
    }
   ],
   "source": [
    "# Now, we explore year-over-year growth for quarterly piece counts.\n",
    "yoy_change = (\n",
    "    quarterly_pieces\n",
    "    .to_frame()\n",
    "    .assign(**{'Δ%': lambda df: df['pieces'].pct_change(periods=4) * 100})\n",
    ")\n",
    "\n",
    "show('<h2>Quarterly Statistics</h2>')\n",
    "show(yoy_change, caption='Pieces per Quarter<br>Year-Over-Year Change')\n",
    "\n",
    "ax = yoy_change['pieces'].plot.bar()\n",
    "ax.set_title('Facebook & Instagram: CSE Pieces')\n",
    "ax.set_xlabel('Quarter')\n",
    "ax.set_ylabel('Million Pieces')\n",
    "ax.get_yaxis().set_major_formatter(\n",
    "    mpl.ticker.FuncFormatter(lambda x, p: format(int(x/1_000_000), ',')))\n",
    "\n",
    "plt.draw()\n",
    "\n",
    "LABEL_PATTERN = re.compile(r'(\\d{4})(Q\\d)')\n",
    "labels = []\n",
    "\n",
    "for n, label in enumerate(ax.xaxis.get_ticklabels()):\n",
    "    if n % 4 == 0:\n",
    "        label.set_text(LABEL_PATTERN.sub('\\g<2>\\n\\g<1>', label.get_text()))\n",
    "        label.set_rotation(0)\n",
    "    else:\n",
    "        label.set_visible(False)\n",
    "    labels.append(label)\n",
    "\n",
    "ax.xaxis.set_ticklabels(labels)\n",
    "ax.axvline(2.5, color='#ff000088')  # after Q1 2019\n",
    "ax.axvline(10.5, color='#ff000088')  # after Q1 2021\n"
   ]
  },
  {
   "cell_type": "code",
   "execution_count": 4,
   "metadata": {},
   "outputs": [
    {
     "data": {
      "text/html": [
       "<h2>Meta Rewrites History</h2>"
      ],
      "text/plain": [
       "<IPython.core.display.HTML object>"
      ]
     },
     "metadata": {},
     "output_type": "display_data"
    },
    {
     "data": {
      "text/html": [
       "\n",
       "    While testing an update to my data analysis code, I discovered that Meta had\n",
       "    changed seemingly arbitrary entries for previously disclosed transparency\n",
       "    statistics. This section tracks the extent of these unacknowledged and\n",
       "    unexplained changes by comparing Meta's CSV files quarter over quarter.\n",
       "    "
      ],
      "text/plain": [
       "<IPython.core.display.HTML object>"
      ]
     },
     "metadata": {},
     "output_type": "display_data"
    },
    {
     "data": {
      "text/html": [
       "<h2>Δ(Q3-2021 / Q2-2021)</h2>"
      ],
      "text/plain": [
       "<IPython.core.display.HTML object>"
      ]
     },
     "metadata": {},
     "output_type": "display_data"
    },
    {
     "data": {
      "text/html": [
       "<style type=\"text/css\">\n",
       "#T_b29b4 .level0 {\n",
       "  text-align: start;\n",
       "}\n",
       "#T_b29b4  {\n",
       "  font-variant-numeric: tabular-nums;\n",
       "  margin-top: 0;\n",
       "  margin-bottom: 0;\n",
       "}\n",
       "</style>\n",
       "<table id=\"T_b29b4\">\n",
       "  <thead>\n",
       "    <tr>\n",
       "      <th class=\"blank level0\" >&nbsp;</th>\n",
       "      <th id=\"T_b29b4_level0_col0\" class=\"col_heading level0 col0\" >divergent</th>\n",
       "    </tr>\n",
       "    <tr>\n",
       "      <th class=\"index_name level0\" >period</th>\n",
       "      <th class=\"blank col0\" >&nbsp;</th>\n",
       "    </tr>\n",
       "  </thead>\n",
       "  <tbody>\n",
       "    <tr>\n",
       "      <th id=\"T_b29b4_level0_row0\" class=\"row_heading level0 row0\" >2020Q1</th>\n",
       "      <td id=\"T_b29b4_row0_col0\" class=\"data row0 col0\" >6</td>\n",
       "    </tr>\n",
       "    <tr>\n",
       "      <th id=\"T_b29b4_level0_row1\" class=\"row_heading level0 row1\" >2020Q2</th>\n",
       "      <td id=\"T_b29b4_row1_col0\" class=\"data row1 col0\" >8</td>\n",
       "    </tr>\n",
       "    <tr>\n",
       "      <th id=\"T_b29b4_level0_row2\" class=\"row_heading level0 row2\" >2020Q3</th>\n",
       "      <td id=\"T_b29b4_row2_col0\" class=\"data row2 col0\" >14</td>\n",
       "    </tr>\n",
       "    <tr>\n",
       "      <th id=\"T_b29b4_level0_row3\" class=\"row_heading level0 row3\" >2020Q4</th>\n",
       "      <td id=\"T_b29b4_row3_col0\" class=\"data row3 col0\" >15</td>\n",
       "    </tr>\n",
       "    <tr>\n",
       "      <th id=\"T_b29b4_level0_row4\" class=\"row_heading level0 row4\" >2021Q1</th>\n",
       "      <td id=\"T_b29b4_row4_col0\" class=\"data row4 col0\" >13</td>\n",
       "    </tr>\n",
       "    <tr>\n",
       "      <th id=\"T_b29b4_level0_row5\" class=\"row_heading level0 row5\" >2021Q2</th>\n",
       "      <td id=\"T_b29b4_row5_col0\" class=\"data row5 col0\" >15</td>\n",
       "    </tr>\n",
       "  </tbody>\n",
       "</table>\n"
      ],
      "text/plain": [
       "<pandas.io.formats.style.Styler at 0x12ffd1fd0>"
      ]
     },
     "metadata": {},
     "output_type": "display_data"
    },
    {
     "data": {
      "text/html": [
       "<p>There are <strong>71 divergent values</strong>. They differ in these policy areas:</p><ul><li>Adult Nudity & Sexual Activity</li><li>Bullying & Harassment</li><li>Child Nudity & Sexual Exploitation</li><li>Dangerous Orgs: Terrorism</li><li>Violent & Graphic Content</li><li>Suicide and Self-Injury</li><li>Dangerous Orgs: Organized Hate</li><li>Hate Speech</li><li>Regulated Goods: Firearms</li><li>Regulated Goods: Drugs</li><li>Spam</li><li>Child Endangerment: Nudity and Physical Abuse</li><li>Child Endangerment: Sexual Exploitation</li></ul><p>They also differ in these metrics:</p><ul><li>Content Restored without appeal</li><li>Content Appealed</li><li>Content Actioned</li><li>Content Restored with appeal</li><li>Proactive rate</li></ul>"
      ],
      "text/plain": [
       "<IPython.core.display.HTML object>"
      ]
     },
     "metadata": {},
     "output_type": "display_data"
    },
    {
     "data": {
      "text/html": [
       "<h2>Δ(Q4-2021 / Q3-2021)</h2>"
      ],
      "text/plain": [
       "<IPython.core.display.HTML object>"
      ]
     },
     "metadata": {},
     "output_type": "display_data"
    },
    {
     "data": {
      "text/html": [
       "<style type=\"text/css\">\n",
       "#T_70609 .level0 {\n",
       "  text-align: start;\n",
       "}\n",
       "#T_70609  {\n",
       "  font-variant-numeric: tabular-nums;\n",
       "  margin-top: 0;\n",
       "  margin-bottom: 0;\n",
       "}\n",
       "</style>\n",
       "<table id=\"T_70609\">\n",
       "  <thead>\n",
       "    <tr>\n",
       "      <th class=\"blank level0\" >&nbsp;</th>\n",
       "      <th id=\"T_70609_level0_col0\" class=\"col_heading level0 col0\" >divergent</th>\n",
       "    </tr>\n",
       "    <tr>\n",
       "      <th class=\"index_name level0\" >period</th>\n",
       "      <th class=\"blank col0\" >&nbsp;</th>\n",
       "    </tr>\n",
       "  </thead>\n",
       "  <tbody>\n",
       "    <tr>\n",
       "      <th id=\"T_70609_level0_row0\" class=\"row_heading level0 row0\" >2021Q2</th>\n",
       "      <td id=\"T_70609_row0_col0\" class=\"data row0 col0\" >6</td>\n",
       "    </tr>\n",
       "    <tr>\n",
       "      <th id=\"T_70609_level0_row1\" class=\"row_heading level0 row1\" >2021Q3</th>\n",
       "      <td id=\"T_70609_row1_col0\" class=\"data row1 col0\" >21</td>\n",
       "    </tr>\n",
       "  </tbody>\n",
       "</table>\n"
      ],
      "text/plain": [
       "<pandas.io.formats.style.Styler at 0x12fedbb50>"
      ]
     },
     "metadata": {},
     "output_type": "display_data"
    },
    {
     "data": {
      "text/html": [
       "<p>There are <strong>27 divergent values</strong>. They differ in these policy areas:</p><ul><li>Child Endangerment: Nudity and Physical Abuse</li><li>Child Endangerment: Sexual Exploitation</li><li>Dangerous Orgs: Organized Hate</li><li>Dangerous Orgs: Terrorism</li><li>Spam</li><li>Adult Nudity & Sexual Activity</li><li>Bullying & Harassment</li><li>Regulated Goods: Drugs</li><li>Suicide and Self-Injury</li><li>Violent & Graphic Content</li></ul><p>They also differ in these metrics:</p><ul><li>Content Restored without appeal</li><li>Content Restored with appeal</li><li>Content Actioned</li><li>Content Appealed</li><li>Proactive rate</li></ul>"
      ],
      "text/plain": [
       "<IPython.core.display.HTML object>"
      ]
     },
     "metadata": {},
     "output_type": "display_data"
    },
    {
     "data": {
      "text/html": [
       "<h2>Δ(Q1-2022 / Q4-2021)</h2>"
      ],
      "text/plain": [
       "<IPython.core.display.HTML object>"
      ]
     },
     "metadata": {},
     "output_type": "display_data"
    },
    {
     "data": {
      "text/html": [
       "<style type=\"text/css\">\n",
       "#T_00446 .level0 {\n",
       "  text-align: start;\n",
       "}\n",
       "#T_00446  {\n",
       "  font-variant-numeric: tabular-nums;\n",
       "  margin-top: 0;\n",
       "  margin-bottom: 0;\n",
       "}\n",
       "</style>\n",
       "<table id=\"T_00446\">\n",
       "  <thead>\n",
       "    <tr>\n",
       "      <th class=\"blank level0\" >&nbsp;</th>\n",
       "      <th id=\"T_00446_level0_col0\" class=\"col_heading level0 col0\" >divergent</th>\n",
       "    </tr>\n",
       "    <tr>\n",
       "      <th class=\"index_name level0\" >period</th>\n",
       "      <th class=\"blank col0\" >&nbsp;</th>\n",
       "    </tr>\n",
       "  </thead>\n",
       "  <tbody>\n",
       "    <tr>\n",
       "      <th id=\"T_00446_level0_row0\" class=\"row_heading level0 row0\" >2020Q2</th>\n",
       "      <td id=\"T_00446_row0_col0\" class=\"data row0 col0\" >86</td>\n",
       "    </tr>\n",
       "    <tr>\n",
       "      <th id=\"T_00446_level0_row1\" class=\"row_heading level0 row1\" >2021Q4</th>\n",
       "      <td id=\"T_00446_row1_col0\" class=\"data row1 col0\" >10</td>\n",
       "    </tr>\n",
       "  </tbody>\n",
       "</table>\n"
      ],
      "text/plain": [
       "<pandas.io.formats.style.Styler at 0x1300cd090>"
      ]
     },
     "metadata": {},
     "output_type": "display_data"
    },
    {
     "data": {
      "text/html": [
       "<p>There are <strong>96 divergent values</strong>. They differ in these policy areas:</p><ul><li>Adult Nudity & Sexual Activity</li><li>Bullying & Harassment</li><li>Child Nudity & Sexual Exploitation</li><li>Dangerous Orgs: Organized Hate</li><li>Dangerous Orgs: Terrorism</li><li>Fake Accounts</li><li>Hate Speech</li><li>Regulated Goods: Drugs</li><li>Regulated Goods: Firearms</li><li>Spam</li><li>Suicide and Self-Injury</li><li>Violent & Graphic Content</li><li>Violence And Incitement</li></ul><p>They also differ in these metrics:</p><ul><li>Content Actioned</li><li>Content Appealed</li><li>Content Restored without appeal</li><li>Proactive rate</li><li>Content Restored with appeal</li></ul>"
      ],
      "text/plain": [
       "<IPython.core.display.HTML object>"
      ]
     },
     "metadata": {},
     "output_type": "display_data"
    },
    {
     "data": {
      "text/html": [
       "<h2>Δ(Q2-2022 / Q1-2022)</h2>"
      ],
      "text/plain": [
       "<IPython.core.display.HTML object>"
      ]
     },
     "metadata": {},
     "output_type": "display_data"
    },
    {
     "data": {
      "text/html": [
       "<style type=\"text/css\">\n",
       "#T_1322a .level0 {\n",
       "  text-align: start;\n",
       "}\n",
       "#T_1322a  {\n",
       "  font-variant-numeric: tabular-nums;\n",
       "  margin-top: 0;\n",
       "  margin-bottom: 0;\n",
       "}\n",
       "</style>\n",
       "<table id=\"T_1322a\">\n",
       "  <thead>\n",
       "    <tr>\n",
       "      <th class=\"blank level0\" >&nbsp;</th>\n",
       "      <th id=\"T_1322a_level0_col0\" class=\"col_heading level0 col0\" >divergent</th>\n",
       "    </tr>\n",
       "    <tr>\n",
       "      <th class=\"index_name level0\" >period</th>\n",
       "      <th class=\"blank col0\" >&nbsp;</th>\n",
       "    </tr>\n",
       "  </thead>\n",
       "  <tbody>\n",
       "    <tr>\n",
       "      <th id=\"T_1322a_level0_row0\" class=\"row_heading level0 row0\" >2020Q3</th>\n",
       "      <td id=\"T_1322a_row0_col0\" class=\"data row0 col0\" >79</td>\n",
       "    </tr>\n",
       "    <tr>\n",
       "      <th id=\"T_1322a_level0_row1\" class=\"row_heading level0 row1\" >2020Q4</th>\n",
       "      <td id=\"T_1322a_row1_col0\" class=\"data row1 col0\" >2</td>\n",
       "    </tr>\n",
       "    <tr>\n",
       "      <th id=\"T_1322a_level0_row2\" class=\"row_heading level0 row2\" >2021Q1</th>\n",
       "      <td id=\"T_1322a_row2_col0\" class=\"data row2 col0\" >3</td>\n",
       "    </tr>\n",
       "    <tr>\n",
       "      <th id=\"T_1322a_level0_row3\" class=\"row_heading level0 row3\" >2021Q2</th>\n",
       "      <td id=\"T_1322a_row3_col0\" class=\"data row3 col0\" >4</td>\n",
       "    </tr>\n",
       "    <tr>\n",
       "      <th id=\"T_1322a_level0_row4\" class=\"row_heading level0 row4\" >2021Q4</th>\n",
       "      <td id=\"T_1322a_row4_col0\" class=\"data row4 col0\" >1</td>\n",
       "    </tr>\n",
       "    <tr>\n",
       "      <th id=\"T_1322a_level0_row5\" class=\"row_heading level0 row5\" >2022Q1</th>\n",
       "      <td id=\"T_1322a_row5_col0\" class=\"data row5 col0\" >13</td>\n",
       "    </tr>\n",
       "  </tbody>\n",
       "</table>\n"
      ],
      "text/plain": [
       "<pandas.io.formats.style.Styler at 0x12fe98a10>"
      ]
     },
     "metadata": {},
     "output_type": "display_data"
    },
    {
     "data": {
      "text/html": [
       "<p>There are <strong>102 divergent values</strong>. They differ in these policy areas:</p><ul><li>Adult Nudity & Sexual Activity</li><li>Bullying & Harassment</li><li>Child Nudity & Sexual Exploitation</li><li>Dangerous Orgs: Organized Hate</li><li>Dangerous Orgs: Terrorism</li><li>Fake Accounts</li><li>Hate Speech</li><li>Regulated Goods: Drugs</li><li>Regulated Goods: Firearms</li><li>Spam</li><li>Suicide and Self-Injury</li><li>Violent & Graphic Content</li><li>Child Endangerment: Nudity and Physical Abuse</li><li>Child Endangerment: Sexual Exploitation</li><li>Violence And Incitement</li></ul><p>They also differ in these metrics:</p><ul><li>Content Actioned</li><li>Content Appealed</li><li>Content Restored with appeal</li><li>Content Restored without appeal</li><li>Lowerbound Prevalence</li><li>Proactive rate</li><li>Upperbound Prevalence</li></ul>"
      ],
      "text/plain": [
       "<IPython.core.display.HTML object>"
      ]
     },
     "metadata": {},
     "output_type": "display_data"
    },
    {
     "data": {
      "text/html": [
       "<h2>Δ(Q3-2022 / Q2-2022)</h2>"
      ],
      "text/plain": [
       "<IPython.core.display.HTML object>"
      ]
     },
     "metadata": {},
     "output_type": "display_data"
    },
    {
     "data": {
      "text/html": [
       "<style type=\"text/css\">\n",
       "#T_134d8 .level0 {\n",
       "  text-align: start;\n",
       "}\n",
       "#T_134d8  {\n",
       "  font-variant-numeric: tabular-nums;\n",
       "  margin-top: 0;\n",
       "  margin-bottom: 0;\n",
       "}\n",
       "</style>\n",
       "<table id=\"T_134d8\">\n",
       "  <thead>\n",
       "    <tr>\n",
       "      <th class=\"blank level0\" >&nbsp;</th>\n",
       "      <th id=\"T_134d8_level0_col0\" class=\"col_heading level0 col0\" >divergent</th>\n",
       "    </tr>\n",
       "    <tr>\n",
       "      <th class=\"index_name level0\" >period</th>\n",
       "      <th class=\"blank col0\" >&nbsp;</th>\n",
       "    </tr>\n",
       "  </thead>\n",
       "  <tbody>\n",
       "    <tr>\n",
       "      <th id=\"T_134d8_level0_row0\" class=\"row_heading level0 row0\" >2020Q4</th>\n",
       "      <td id=\"T_134d8_row0_col0\" class=\"data row0 col0\" >77</td>\n",
       "    </tr>\n",
       "    <tr>\n",
       "      <th id=\"T_134d8_level0_row1\" class=\"row_heading level0 row1\" >2021Q1</th>\n",
       "      <td id=\"T_134d8_row1_col0\" class=\"data row1 col0\" >3</td>\n",
       "    </tr>\n",
       "    <tr>\n",
       "      <th id=\"T_134d8_level0_row2\" class=\"row_heading level0 row2\" >2021Q2</th>\n",
       "      <td id=\"T_134d8_row2_col0\" class=\"data row2 col0\" >4</td>\n",
       "    </tr>\n",
       "    <tr>\n",
       "      <th id=\"T_134d8_level0_row3\" class=\"row_heading level0 row3\" >2022Q2</th>\n",
       "      <td id=\"T_134d8_row3_col0\" class=\"data row3 col0\" >29</td>\n",
       "    </tr>\n",
       "  </tbody>\n",
       "</table>\n"
      ],
      "text/plain": [
       "<pandas.io.formats.style.Styler at 0x12fe8b550>"
      ]
     },
     "metadata": {},
     "output_type": "display_data"
    },
    {
     "data": {
      "text/html": [
       "<p>There are <strong>113 divergent values</strong>. They differ in these policy areas:</p><ul><li>Adult Nudity & Sexual Activity</li><li>Bullying & Harassment</li><li>Child Nudity & Sexual Exploitation</li><li>Dangerous Orgs: Organized Hate</li><li>Dangerous Orgs: Terrorism</li><li>Fake Accounts</li><li>Hate Speech</li><li>Regulated Goods: Drugs</li><li>Regulated Goods: Firearms</li><li>Spam</li><li>Suicide and Self-Injury</li><li>Violent & Graphic Content</li><li>Child Endangerment: Nudity and Physical Abuse</li><li>Child Endangerment: Sexual Exploitation</li><li>Violence And Incitement</li></ul><p>They also differ in these metrics:</p><ul><li>Content Actioned</li><li>Content Appealed</li><li>Content Restored with appeal</li><li>Content Restored without appeal</li><li>Proactive rate</li><li>Upperbound Prevalence</li><li>Lowerbound Prevalence</li></ul>"
      ],
      "text/plain": [
       "<IPython.core.display.HTML object>"
      ]
     },
     "metadata": {},
     "output_type": "display_data"
    },
    {
     "data": {
      "text/html": [
       "<h2>Δ(Q4-2022 / Q3-2022)</h2>"
      ],
      "text/plain": [
       "<IPython.core.display.HTML object>"
      ]
     },
     "metadata": {},
     "output_type": "display_data"
    },
    {
     "data": {
      "text/html": [
       "<style type=\"text/css\">\n",
       "#T_96200 .level0 {\n",
       "  text-align: start;\n",
       "}\n",
       "#T_96200  {\n",
       "  font-variant-numeric: tabular-nums;\n",
       "  margin-top: 0;\n",
       "  margin-bottom: 0;\n",
       "}\n",
       "</style>\n",
       "<table id=\"T_96200\">\n",
       "  <thead>\n",
       "    <tr>\n",
       "      <th class=\"blank level0\" >&nbsp;</th>\n",
       "      <th id=\"T_96200_level0_col0\" class=\"col_heading level0 col0\" >divergent</th>\n",
       "    </tr>\n",
       "    <tr>\n",
       "      <th class=\"index_name level0\" >period</th>\n",
       "      <th class=\"blank col0\" >&nbsp;</th>\n",
       "    </tr>\n",
       "  </thead>\n",
       "  <tbody>\n",
       "    <tr>\n",
       "      <th id=\"T_96200_level0_row0\" class=\"row_heading level0 row0\" >2020Q2</th>\n",
       "      <td id=\"T_96200_row0_col0\" class=\"data row0 col0\" >67</td>\n",
       "    </tr>\n",
       "    <tr>\n",
       "      <th id=\"T_96200_level0_row1\" class=\"row_heading level0 row1\" >2020Q3</th>\n",
       "      <td id=\"T_96200_row1_col0\" class=\"data row1 col0\" >60</td>\n",
       "    </tr>\n",
       "    <tr>\n",
       "      <th id=\"T_96200_level0_row2\" class=\"row_heading level0 row2\" >2020Q4</th>\n",
       "      <td id=\"T_96200_row2_col0\" class=\"data row2 col0\" >58</td>\n",
       "    </tr>\n",
       "    <tr>\n",
       "      <th id=\"T_96200_level0_row3\" class=\"row_heading level0 row3\" >2022Q3</th>\n",
       "      <td id=\"T_96200_row3_col0\" class=\"data row3 col0\" >18</td>\n",
       "    </tr>\n",
       "  </tbody>\n",
       "</table>\n"
      ],
      "text/plain": [
       "<pandas.io.formats.style.Styler at 0x1300d1890>"
      ]
     },
     "metadata": {},
     "output_type": "display_data"
    },
    {
     "data": {
      "text/html": [
       "<p>There are <strong>203 divergent values</strong>. They differ in these policy areas:</p><ul><li>Adult Nudity & Sexual Activity</li><li>Bullying & Harassment</li><li>Child Nudity & Sexual Exploitation</li><li>Dangerous Orgs: Organized Hate</li><li>Dangerous Orgs: Terrorism</li><li>Fake Accounts</li><li>Hate Speech</li><li>Regulated Goods: Drugs</li><li>Regulated Goods: Firearms</li><li>Spam</li><li>Suicide and Self-Injury</li><li>Violent & Graphic Content</li><li>Child Endangerment: Nudity and Physical Abuse</li><li>Child Endangerment: Sexual Exploitation</li></ul><p>They also differ in these metrics:</p><ul><li>Content Actioned</li><li>Content Appealed</li><li>Content Restored without appeal</li><li>Content Restored with appeal</li><li>Lowerbound Prevalence</li><li>Upperbound Prevalence</li></ul>"
      ],
      "text/plain": [
       "<IPython.core.display.HTML object>"
      ]
     },
     "metadata": {},
     "output_type": "display_data"
    },
    {
     "data": {
      "text/html": [
       "<h2>Δ(Q1-2023 / Q4-2022)</h2>"
      ],
      "text/plain": [
       "<IPython.core.display.HTML object>"
      ]
     },
     "metadata": {},
     "output_type": "display_data"
    },
    {
     "data": {
      "text/html": [
       "<style type=\"text/css\">\n",
       "#T_fe5c0 .level0 {\n",
       "  text-align: start;\n",
       "}\n",
       "#T_fe5c0  {\n",
       "  font-variant-numeric: tabular-nums;\n",
       "  margin-top: 0;\n",
       "  margin-bottom: 0;\n",
       "}\n",
       "</style>\n",
       "<table id=\"T_fe5c0\">\n",
       "  <thead>\n",
       "    <tr>\n",
       "      <th class=\"blank level0\" >&nbsp;</th>\n",
       "      <th id=\"T_fe5c0_level0_col0\" class=\"col_heading level0 col0\" >divergent</th>\n",
       "    </tr>\n",
       "    <tr>\n",
       "      <th class=\"index_name level0\" >period</th>\n",
       "      <th class=\"blank col0\" >&nbsp;</th>\n",
       "    </tr>\n",
       "  </thead>\n",
       "  <tbody>\n",
       "    <tr>\n",
       "      <th id=\"T_fe5c0_level0_row0\" class=\"row_heading level0 row0\" >2022Q4</th>\n",
       "      <td id=\"T_fe5c0_row0_col0\" class=\"data row0 col0\" >18</td>\n",
       "    </tr>\n",
       "  </tbody>\n",
       "</table>\n"
      ],
      "text/plain": [
       "<pandas.io.formats.style.Styler at 0x1300a1f10>"
      ]
     },
     "metadata": {},
     "output_type": "display_data"
    },
    {
     "data": {
      "text/html": [
       "<p>There are <strong>18 divergent values</strong>. They differ in these policy areas:</p><ul><li>Adult Nudity & Sexual Activity</li><li>Child Endangerment: Nudity and Physical Abuse</li><li>Child Endangerment: Sexual Exploitation</li><li>Dangerous Orgs: Organized Hate</li><li>Regulated Goods: Drugs</li><li>Spam</li><li>Suicide and Self-Injury</li><li>Violence And Incitement</li></ul><p>They also differ in these metrics:</p><ul><li>Content Actioned</li><li>Content Restored with appeal</li><li>Content Restored without appeal</li><li>Content Appealed</li></ul>"
      ],
      "text/plain": [
       "<IPython.core.display.HTML object>"
      ]
     },
     "metadata": {},
     "output_type": "display_data"
    },
    {
     "data": {
      "text/html": [
       "<h2>Δ(Q2-2023 / Q1-2023)</h2>"
      ],
      "text/plain": [
       "<IPython.core.display.HTML object>"
      ]
     },
     "metadata": {},
     "output_type": "display_data"
    },
    {
     "data": {
      "text/html": [
       "<style type=\"text/css\">\n",
       "#T_a2b43 .level0 {\n",
       "  text-align: start;\n",
       "}\n",
       "#T_a2b43  {\n",
       "  font-variant-numeric: tabular-nums;\n",
       "  margin-top: 0;\n",
       "  margin-bottom: 0;\n",
       "}\n",
       "</style>\n",
       "<table id=\"T_a2b43\">\n",
       "  <thead>\n",
       "    <tr>\n",
       "      <th class=\"blank level0\" >&nbsp;</th>\n",
       "      <th id=\"T_a2b43_level0_col0\" class=\"col_heading level0 col0\" >divergent</th>\n",
       "    </tr>\n",
       "    <tr>\n",
       "      <th class=\"index_name level0\" >period</th>\n",
       "      <th class=\"blank col0\" >&nbsp;</th>\n",
       "    </tr>\n",
       "  </thead>\n",
       "  <tbody>\n",
       "  </tbody>\n",
       "</table>\n"
      ],
      "text/plain": [
       "<pandas.io.formats.style.Styler at 0x1300a0b50>"
      ]
     },
     "metadata": {},
     "output_type": "display_data"
    },
    {
     "data": {
      "text/html": [
       "<p>There are <strong>0 divergent values</strong>. They differ in these policy areas:</p><ul></ul><p>They also differ in these metrics:</p><ul></ul>"
      ],
      "text/plain": [
       "<IPython.core.display.HTML object>"
      ]
     },
     "metadata": {},
     "output_type": "display_data"
    },
    {
     "data": {
      "text/html": [
       "<h2>Δ(Q3-2023 / Q2-2023)</h2>"
      ],
      "text/plain": [
       "<IPython.core.display.HTML object>"
      ]
     },
     "metadata": {},
     "output_type": "display_data"
    },
    {
     "data": {
      "text/html": [
       "<style type=\"text/css\">\n",
       "#T_9b33e .level0 {\n",
       "  text-align: start;\n",
       "}\n",
       "#T_9b33e  {\n",
       "  font-variant-numeric: tabular-nums;\n",
       "  margin-top: 0;\n",
       "  margin-bottom: 0;\n",
       "}\n",
       "</style>\n",
       "<table id=\"T_9b33e\">\n",
       "  <thead>\n",
       "    <tr>\n",
       "      <th class=\"blank level0\" >&nbsp;</th>\n",
       "      <th id=\"T_9b33e_level0_col0\" class=\"col_heading level0 col0\" >divergent</th>\n",
       "    </tr>\n",
       "    <tr>\n",
       "      <th class=\"index_name level0\" >period</th>\n",
       "      <th class=\"blank col0\" >&nbsp;</th>\n",
       "    </tr>\n",
       "  </thead>\n",
       "  <tbody>\n",
       "  </tbody>\n",
       "</table>\n"
      ],
      "text/plain": [
       "<pandas.io.formats.style.Styler at 0x1300d1b50>"
      ]
     },
     "metadata": {},
     "output_type": "display_data"
    },
    {
     "data": {
      "text/html": [
       "<p>There are <strong>0 divergent values</strong>. They differ in these policy areas:</p><ul></ul><p>They also differ in these metrics:</p><ul></ul>"
      ],
      "text/plain": [
       "<IPython.core.display.HTML object>"
      ]
     },
     "metadata": {},
     "output_type": "display_data"
    }
   ],
   "source": [
    "show(f'<h2>Meta Rewrites History</h2>')\n",
    "show(\n",
    "    \"\"\"\n",
    "    While testing an update to my data analysis code, I discovered that Meta had\n",
    "    changed seemingly arbitrary entries for previously disclosed transparency\n",
    "    statistics. This section tracks the extent of these unacknowledged and\n",
    "    unexplained changes by comparing Meta's CSV files quarter over quarter.\n",
    "    \"\"\"\n",
    ")\n",
    "\n",
    "meta_disclosures = meta.read_all('../data')\n",
    "meta_differences = meta.diff_all(meta_disclosures)\n",
    "\n",
    "for p1, delta in meta_differences.items():\n",
    "    p2 = p1 + 1\n",
    "\n",
    "    show(f'<h2>Δ(Q{p2.quarter}-{p2.year} / Q{p1.quarter}-{p1.year})</h2>')\n",
    "    show(meta.age_of_divergence(delta), margin_bottom=0)\n",
    "    show(meta.descriptors_of_divergence(delta))"
   ]
  },
  {
   "cell_type": "code",
   "execution_count": 5,
   "metadata": {},
   "outputs": [
    {
     "data": {
      "text/html": [
       "<h3>Quarterly rate of divergence</h3>"
      ],
      "text/plain": [
       "<IPython.core.display.HTML object>"
      ]
     },
     "metadata": {},
     "output_type": "display_data"
    },
    {
     "data": {
      "text/html": [
       "<style type=\"text/css\">\n",
       "#T_3e19f .col0 {\n",
       "  text-align: start;\n",
       "}\n",
       "#T_3e19f  {\n",
       "  font-variant-numeric: tabular-nums;\n",
       "  margin-top: 0;\n",
       "  margin-bottom: 2.0em;\n",
       "}\n",
       "</style>\n",
       "<table id=\"T_3e19f\">\n",
       "  <thead>\n",
       "    <tr>\n",
       "      <th class=\"blank level0\" >&nbsp;</th>\n",
       "      <th id=\"T_3e19f_level0_col0\" class=\"col_heading level0 col0\" >period</th>\n",
       "      <th id=\"T_3e19f_level0_col1\" class=\"col_heading level0 col1\" >changed</th>\n",
       "      <th id=\"T_3e19f_level0_col2\" class=\"col_heading level0 col2\" >total</th>\n",
       "      <th id=\"T_3e19f_level0_col3\" class=\"col_heading level0 col3\" >rate_of_divergence</th>\n",
       "    </tr>\n",
       "  </thead>\n",
       "  <tbody>\n",
       "    <tr>\n",
       "      <th id=\"T_3e19f_level0_row0\" class=\"row_heading level0 row0\" >0</th>\n",
       "      <td id=\"T_3e19f_row0_col0\" class=\"data row0 col0\" >2021Q3</td>\n",
       "      <td id=\"T_3e19f_row0_col1\" class=\"data row0 col1\" >71</td>\n",
       "      <td id=\"T_3e19f_row0_col2\" class=\"data row0 col2\" >1,904</td>\n",
       "      <td id=\"T_3e19f_row0_col3\" class=\"data row0 col3\" >3.729</td>\n",
       "    </tr>\n",
       "    <tr>\n",
       "      <th id=\"T_3e19f_level0_row1\" class=\"row_heading level0 row1\" >1</th>\n",
       "      <td id=\"T_3e19f_row1_col0\" class=\"data row1 col0\" >2021Q4</td>\n",
       "      <td id=\"T_3e19f_row1_col1\" class=\"data row1 col1\" >27</td>\n",
       "      <td id=\"T_3e19f_row1_col2\" class=\"data row1 col2\" >2,192</td>\n",
       "      <td id=\"T_3e19f_row1_col3\" class=\"data row1 col3\" >1.232</td>\n",
       "    </tr>\n",
       "    <tr>\n",
       "      <th id=\"T_3e19f_level0_row2\" class=\"row_heading level0 row2\" >2</th>\n",
       "      <td id=\"T_3e19f_row2_col0\" class=\"data row2 col0\" >2022Q1</td>\n",
       "      <td id=\"T_3e19f_row2_col1\" class=\"data row2 col1\" >96</td>\n",
       "      <td id=\"T_3e19f_row2_col2\" class=\"data row2 col2\" >2,339</td>\n",
       "      <td id=\"T_3e19f_row2_col3\" class=\"data row2 col3\" >4.104</td>\n",
       "    </tr>\n",
       "    <tr>\n",
       "      <th id=\"T_3e19f_level0_row3\" class=\"row_heading level0 row3\" >3</th>\n",
       "      <td id=\"T_3e19f_row3_col0\" class=\"data row3 col0\" >2022Q2</td>\n",
       "      <td id=\"T_3e19f_row3_col1\" class=\"data row3 col1\" >102</td>\n",
       "      <td id=\"T_3e19f_row3_col2\" class=\"data row3 col2\" >2,486</td>\n",
       "      <td id=\"T_3e19f_row3_col3\" class=\"data row3 col3\" >4.103</td>\n",
       "    </tr>\n",
       "    <tr>\n",
       "      <th id=\"T_3e19f_level0_row4\" class=\"row_heading level0 row4\" >4</th>\n",
       "      <td id=\"T_3e19f_row4_col0\" class=\"data row4 col0\" >2022Q3</td>\n",
       "      <td id=\"T_3e19f_row4_col1\" class=\"data row4 col1\" >113</td>\n",
       "      <td id=\"T_3e19f_row4_col2\" class=\"data row4 col2\" >2,633</td>\n",
       "      <td id=\"T_3e19f_row4_col3\" class=\"data row4 col3\" >4.292</td>\n",
       "    </tr>\n",
       "    <tr>\n",
       "      <th id=\"T_3e19f_level0_row5\" class=\"row_heading level0 row5\" >5</th>\n",
       "      <td id=\"T_3e19f_row5_col0\" class=\"data row5 col0\" >2022Q4</td>\n",
       "      <td id=\"T_3e19f_row5_col1\" class=\"data row5 col1\" >203</td>\n",
       "      <td id=\"T_3e19f_row5_col2\" class=\"data row5 col2\" >2,780</td>\n",
       "      <td id=\"T_3e19f_row5_col3\" class=\"data row5 col3\" >7.302</td>\n",
       "    </tr>\n",
       "    <tr>\n",
       "      <th id=\"T_3e19f_level0_row6\" class=\"row_heading level0 row6\" >6</th>\n",
       "      <td id=\"T_3e19f_row6_col0\" class=\"data row6 col0\" >2023Q1</td>\n",
       "      <td id=\"T_3e19f_row6_col1\" class=\"data row6 col1\" >18</td>\n",
       "      <td id=\"T_3e19f_row6_col2\" class=\"data row6 col2\" >2,927</td>\n",
       "      <td id=\"T_3e19f_row6_col3\" class=\"data row6 col3\" >0.615</td>\n",
       "    </tr>\n",
       "    <tr>\n",
       "      <th id=\"T_3e19f_level0_row7\" class=\"row_heading level0 row7\" >7</th>\n",
       "      <td id=\"T_3e19f_row7_col0\" class=\"data row7 col0\" >2023Q2</td>\n",
       "      <td id=\"T_3e19f_row7_col1\" class=\"data row7 col1\" >0</td>\n",
       "      <td id=\"T_3e19f_row7_col2\" class=\"data row7 col2\" >3,074</td>\n",
       "      <td id=\"T_3e19f_row7_col3\" class=\"data row7 col3\" >0.000</td>\n",
       "    </tr>\n",
       "    <tr>\n",
       "      <th id=\"T_3e19f_level0_row8\" class=\"row_heading level0 row8\" >8</th>\n",
       "      <td id=\"T_3e19f_row8_col0\" class=\"data row8 col0\" >2023Q3</td>\n",
       "      <td id=\"T_3e19f_row8_col1\" class=\"data row8 col1\" >0</td>\n",
       "      <td id=\"T_3e19f_row8_col2\" class=\"data row8 col2\" >3,221</td>\n",
       "      <td id=\"T_3e19f_row8_col3\" class=\"data row8 col3\" >0.000</td>\n",
       "    </tr>\n",
       "  </tbody>\n",
       "</table>\n"
      ],
      "text/plain": [
       "<pandas.io.formats.style.Styler at 0x12ffeb550>"
      ]
     },
     "metadata": {},
     "output_type": "display_data"
    },
    {
     "data": {
      "text/html": [
       "\n",
       "    For each quarter, the abvove table shows the number of entries in that\n",
       "    quarter's data that are different from the previous quarter's disclosure\n",
       "    divided by the total number of entries from the previous quarter. In other\n",
       "    words, newly added data points do not figure into this rate.\n",
       "    "
      ],
      "text/plain": [
       "<IPython.core.display.HTML object>"
      ]
     },
     "metadata": {},
     "output_type": "display_data"
    }
   ],
   "source": [
    "show(f'<h3>Quarterly rate of divergence</h3>')\n",
    "show(meta.rate_of_divergence(meta_disclosures, meta_differences), emit_latex=True)\n",
    "show(\n",
    "    \"\"\"\n",
    "    For each quarter, the abvove table shows the number of entries in that\n",
    "    quarter's data that are different from the previous quarter's disclosure\n",
    "    divided by the total number of entries from the previous quarter. In other\n",
    "    words, newly added data points do not figure into this rate.\n",
    "    \"\"\"\n",
    ")"
   ]
  }
 ],
 "metadata": {
  "kernelspec": {
   "display_name": ".venv",
   "language": "python",
   "name": "python3"
  },
  "language_info": {
   "codemirror_mode": {
    "name": "ipython",
    "version": 3
   },
   "file_extension": ".py",
   "mimetype": "text/x-python",
   "name": "python",
   "nbconvert_exporter": "python",
   "pygments_lexer": "ipython3",
   "version": "3.11.4"
  }
 },
 "nbformat": 4,
 "nbformat_minor": 2
}
